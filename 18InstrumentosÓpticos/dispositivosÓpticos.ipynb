{
 "cells": [
  {
   "cell_type": "markdown",
   "metadata": {},
   "source": [
    "# Dispositivos ópticos"
   ]
  },
  {
   "cell_type": "markdown",
   "metadata": {},
   "source": [
    "[![Departamento de Física, Facultad de Ciencias Exactas y Naturales, Universidad de Buenos Aires](data:image/png;base64,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)](www.df.uba.ar/)  \n",
    "[![by-nc-sa_80x15.png](data:image/png;base64,iVBORw0KGgoAAAANSUhEUgAAAFAAAAAPCAMAAABEF7i9AAAABGdBTUEAANbY1E9YMgAAAJZQTFRF////7u7u3d3dys7KzMzMyMzIxsrGxcbFur+6u7u7s7iyq7GqqqqqmZmZlJmTj5CPiIiIh4eHhoaGgICAfYJ9d3d3cnZxZ2tnZmZmW15bVVVVS0xLREREQ0NDQkJCQUJBOz07OTs5MzMzMTMxLjAuJygnJCUjIiIiISEhICAgGRkZERERDxAPDg4ODQ4NDQ0NDQ0MAAAADbeuvgAAAOhJREFUeNqtk+tyAiEMhQ+6XtroutZiveBdu+p2tXn/l3OQy8roL5fMMENC+HIIAI5sYEQ1DSRtP5zZkCpToubf2/oMMC0zX0QdiLqjmsD1sVKd8JSoNa8HvGRIclZCcZ5A7Yiag/s6oJPMYD8FKgIC3wG/+QP5DFIWot+DvBB1OxYAk+W2W88HqqwAOOZE6FuZbfWZZUn02fb1rTAHc3izZgQCrxWqSSFkH/IaKuSHEzEChfyk2PbwmqFX8EQo3jaw2Ac9DIFhD12Tn4CbU+RbTv+HHrj8jfAOacxflrc61/0psf9yZLsBr5WUrhUa3hEAAAAASUVORK5CYII=)](https://creativecommons.org/licenses/by-sa/4.0/deed.es_ES)\n",
    "2021 [Víctor A. Bettachini](mailto:bettachini@df.uba.ar)  \n",
    "\n",
    "---"
   ]
  },
  {
   "cell_type": "markdown",
   "metadata": {},
   "source": [
    "## Limitaciones del ojo humano\n",
    "> 5.7 Optical Systems  \n",
    "Optics  \n",
    "Hecht"
   ]
  },
  {
   "cell_type": "markdown",
   "metadata": {},
   "source": [
    "Al ver un **objeto _en el infinito_** (rayos paralelos) el espesor del **cristalino** es el mínimo.\n",
    "Esto sucede con los **músculos** que lo deforman están totalmente **relajados**.\n",
    "\n",
    "A medida que se busca enfocar en la **retina** la imagen de objetos paulatinamente más cercanos, se requiere una **acomodación** del cristalino.\n",
    "Para esto se produce una creciente **contracción de los músculos**.  \n",
    "\n",
    "![Hecht Fig. 5.93](figuras/hecht_fig5_93.png)  \n",
    "[Hecht Fig. 5.93]"
   ]
  },
  {
   "cell_type": "markdown",
   "metadata": {},
   "source": [
    "Para aumentar la cantidad de celulas en la **retina** iluminadas por la imagen que forma el **cristalino** de un objeto y con eso discenir con mejor definifición sus características se lo puede acercar al ojo.  \n",
    "Pero más allá del **punto cercano** el cristalino no puede **esferizarse** lo suficiente para hacer foco en la retina, y la imagen se hace **borrosa**.\n",
    "![Hecht Fig. 5.101](figuras/hecht_fig5_101.png)  \n",
    "[Hecht Fig. 5.101]"
   ]
  },
  {
   "cell_type": "markdown",
   "metadata": {},
   "source": [
    "## La lupa\n",
    "> 5.7.3 The Magnifying Glass  \n",
    "Optics  \n",
    "Hecht"
   ]
  },
  {
   "cell_type": "markdown",
   "metadata": {},
   "source": [
    "El **aumento** es una comparación entre lo que percibe el ojo y la imagen que percibe a través de la lente\n",
    "![](figuras/hecht_fig5_102c.png) \n",
    "[Hecht Fig. 5.102 c]\n",
    "\n",
    "No solo es importante que **el ojo percibe un mayor tamaño** sino que la lente genera una **imagen virtual** del objeto suficientemente **alejada** para que el ojo pueda enfocarle sin producir tanta **fatiga ocular**, es decir sin cansar tanto a sus músculos."
   ]
  },
  {
   "cell_type": "markdown",
   "metadata": {},
   "source": [
    "### Tamaño que el ojo percibe del objeto\n",
    "Se lo cuantifica sea por\n",
    "- la altura (por sobre el eje óptico) $y_0$\n",
    "- o el ángulo de la visual que cubre $\\alpha_u$\n",
    "![Hecht Fig. 5.102 a](figuras/hecht_fig5_102a.png)  \n",
    "[Hecht Fig. 5.102 a]\n",
    "\n",
    "Relaciona ambas la **distancia observador - objeto**\n",
    "$$\n",
    "\\frac{y_0}{d_0} = \\tan(\\alpha_u) \\approx \\sin(\\alpha_u) \\approx \\alpha_u,\n",
    "$$\n",
    "valiendo las aproximaciones para $\\alpha_u \\ll 1$, es decir mientras sea válida la [aproximación paraxial](https://es.wikipedia.org/wiki/Aproximaci%C3%B3n_paraxial).\n",
    "\n",
    "Por convención se estima una distancia del punto cercano $d_0 \\approx 25\\,\\mathrm{cm}$."
   ]
  },
  {
   "cell_type": "markdown",
   "metadata": {},
   "source": [
    "### Un objeto entre lente y foco: trazado de rayos\n",
    "\n",
    "![openStax_uPhyV3_fig2_26b](figuras/openStax_uPhyV3_fig2_26b.png)  \n",
    "[Fig 2.26 b University Physics Volume 3] https://openstax.org/books/university-physics-volume-3/pages/2-4-thin-lenses  \n",
    "\n",
    "La trazas de rayos son:\n",
    "- continuas, los que llegan al ojo,\n",
    "- punteadas, la continuación hasta la **imagen virtual**, que es la que percibe el ojo.\n",
    "\n",
    "Se observa que ubicando una lente convergente ($f_o$ del mismo lado de la lente que el objeto) de forma que el objeto esté a $|s_o| <f$ el ojo se enfoca en una imagen virtual en $s_i$.\n",
    "\n",
    "El trazado responde :\n",
    "- en el foco $f$ convergen rayos que prevenga del infinito (horizontales):\n",
    "    - la horizontal desde cúspide del objeto $y_o$ intersecta lente, recta por allí y $f$ del lado opuesto\n",
    "    - recta por $f$ del lado del objeto y $y_o$ hasta la lente, desde allí continuación horizontal\n",
    "- en el eje óptico, si la lente es delgada, el rayo no se desvía:\n",
    "    - rayo que pasa por $y_o$ y centro de la lente\n",
    "\n",
    "Por la **similitud de los triangulos** que conforman el rayo que pasa por el centro de la lente, el eje óptico y las $y$ se obtiene:\n",
    "$$\n",
    "\\frac{y_o}{s_o} = \\frac{y_i}{s_i} \\implies y_i = y_o \\frac{s_i}{s_o}\n",
    "$$\n",
    "\n",
    "La imagen cubre un **mayor ángulo de la visual**\n",
    "$$\n",
    "\\alpha_a \\approx \\tan(\\alpha_a) = \\frac{y_i}{s_i} = \\frac{y_o}{s_o}\n",
    "$$\n",
    "\n",
    "la imagen también presenta una **mayor altura sobre el eje óptico**.\n",
    "Aplicando la similitud de triángulos en la **ecuación de Gauss para las lentes**\n",
    "$$\n",
    "\\frac{1}{f} = \\frac{1}{s_i} - \\frac{1}{s_o} \\implies s_i = \\left(\\frac{1}{f} + \\frac{1}{s_o} \\right)^{-1} = \\frac{f s_o}{s_o + f}\n",
    "$$\n",
    "se calcula \n",
    "$$\n",
    "\\begin{aligned}\n",
    "s_i &= \\left(\\frac{1}{f} + \\frac{1}{s_o} \\right)^{-1} = \\frac{f s_o}{s_o + f}\\\\\n",
    "y_i &= y_o \\frac{s_i}{s_o}\\\\\n",
    "y_i &= y_o \\frac{f}{s_o + f}\n",
    "\\end{aligned}\n",
    "$$\n",
    "Recordemos que $f>0$ en esta lente convergente, y sería lo opuesto en el caso de una divergente."
   ]
  },
  {
   "cell_type": "markdown",
   "metadata": {},
   "source": [
    "Veamos un ejemplo numérico"
   ]
  },
  {
   "cell_type": "code",
   "execution_count": 1,
   "metadata": {},
   "outputs": [
    {
     "data": {
      "text/plain": [
       "(0.019999999999999997, 0.33333333333333337)"
      ]
     },
     "execution_count": 1,
     "metadata": {},
     "output_type": "execute_result"
    }
   ],
   "source": [
    "import numpy as np\n",
    "def y_i(y_o, s_o, f):\n",
    "    return y_o* f/ (s_o + f)\n",
    "\n",
    "def alpha_a(y_o, s_o):\n",
    "    return np.abs(y_o/ s_o)\n",
    "\n",
    "f = 2E-2 # [m]\n",
    "s_o = -1.5E-2 # [m]\n",
    "y_o = 5E-3 # [m]\n",
    "y_i(y_o, s_o, f), alpha_a(y_o, s_o)"
   ]
  },
  {
   "cell_type": "markdown",
   "metadata": {},
   "source": [
    "De un objeto de $y_0 = 5\\,\\mathrm{mm}$ se observa una imagen de $y_i \\approx 2\\,\\mathrm{cm}$."
   ]
  },
  {
   "cell_type": "markdown",
   "metadata": {},
   "source": [
    "### El aumento: ver más grande un objeto\n",
    "![Hecht Fig. 5.102 b](figuras/hecht_fig5_102b.png)  \n",
    "[Hecht Fig. 5.102 b]\n",
    "\n",
    "El aumento es cuanto se gana en tamaño aparente, en función de comparar con o sin lente\n",
    "- **aumento lateral**: alturas de las imagenes sobre el eje óptico\n",
    "$$\n",
    "M_T = \\frac{y_i}{y_o},\n",
    "$$\n",
    "que aprovechando la similitud de triángulos puede expresarse en función de las posiciones\n",
    "$$\n",
    "M_T = \\frac{y_i}{y_o} = \\frac{s_i}{s_o}\n",
    "$$\n",
    "- **aumento angular**: ángulos que las imagenes cubren de la visual\n",
    "$$\n",
    "M_A \n",
    "= \\frac{\\alpha_a}{\\alpha_u} \n",
    "\\approx \\frac{\\tan(\\alpha_a)}{\\tan(\\alpha_u) }\n",
    "= \\frac{y_i}{|s_i + \\ell|} \\left(\\frac{y_o}{d_o} \\right)^{-1} \n",
    "= \\frac{y_i}{y_o} \\frac{d_o}{|s_i + \\ell|},\n",
    "$$\n",
    "donde para el caso sin lente $\\alpha_u \\approx \\tan(\\alpha_u) = \\frac{y_o}{d_o}$ siendo $d_o \\approx 25\\,\\mathrm{cm}$ la distancia de punto cercano, y para el caso con lente $\\alpha_a \\approx \\tan(\\alpha_u) = \\frac{y_i}{L} = \\frac{y_i}{|s_i + \\ell|}$. \n",
    "\n",
    "Puesto que el observador busca ocupar la mayor cantidad de receptores en la retina suele acercar el objeto, i.e. reducir $s_o$, lo más que puede sin que se le desenfoque la imagen en $s_i$.\n",
    "En otras palabras\n",
    "$$\n",
    "|s_i + \\ell| \\to d_o = 25\\,\\mathrm{cm}\n",
    "$$\n",
    "lo que hace que\n",
    "$$\n",
    "M_A = \\frac{y_i}{y_o} \\frac{d_o}{|s_i + \\ell|} \\to \\frac{y_i}{y_o} = M_T.\n",
    "$$\n",
    "En tal caso ambas definiciones de aumento son equivalentes."
   ]
  },
  {
   "cell_type": "markdown",
   "metadata": {},
   "source": [
    "### Aumento de una lente\n",
    "Se busca una expresión independiente de posiciones o alturas de objetos u imágenes.\n",
    "Se comienza con la semejanza de triángulos \n",
    "<!--\n",
    "$\\frac{y_i}{y_o} = -\\frac{s_i}{s_o}$ con signo negativo puesto que $s_i< 0$,\n",
    "$$\n",
    "M = \\frac{y_i}{y_o} \\frac{d_o}{|s_i + \\ell|} \n",
    "= - \\frac{s_i}{s_o} \\frac{d_o}{|s_i + \\ell|}.\n",
    "$$\n",
    "-->\n",
    "$$\n",
    "M \n",
    "= \\frac{y_i}{y_o} \\frac{d_o}{|s_i + \\ell|} \n",
    "= \\frac{s_i}{s_o} \\frac{d_o}{|s_i + \\ell|}.\n",
    "$$\n",
    "\n",
    "Con la ecuación de la lente de Gauss\n",
    "$$\n",
    "s_o = \\left( \\frac{1}{s_i} - \\frac{1}{f} \\right)^{-1} = \\frac{f s_i}{f - s_i}\n",
    "$$\n",
    "entonces\n",
    "$$\n",
    "M \n",
    "= \\frac{s_i}{f s_i} (|f - s_i|) \\frac{d_o}{s_i + \\ell}\n",
    "= \\left( 1 - \\frac{s_i}{f} \\right) \\frac{d_o}{|s_i + \\ell|}\n",
    "$$\n",
    "\n",
    "También se busca independizarse de un parámetro como la distancia entre observados y lente, $\\ell$.\n",
    "Se considera el caso $\\ell \\to 0$\n",
    "$$\n",
    "M \n",
    "= \\left( 1 - \\frac{s_i}{f} \\right) \\frac{d_o}{|s_i|}\n",
    "$$\n",
    "\n",
    "Puesto que $s_i <0$\n",
    "$$\n",
    "M \n",
    "= \\left( 1 + \\frac{|s_i|}{f} \\right) \\frac{d_o}{|s_i|}\n",
    "$$\n",
    "\n",
    "Finalmente asumiendo que el usuario buscará $|si + \\ell | \\to d_0$, esto se traduce ahora en $|s_i| \\to d_o$\n",
    "$$\n",
    "M \n",
    "= \\left( 1 + \\frac{|s_i|}{f} \\right) \\frac{d_o}{|s_i|}\n",
    "\\to 1 + \\frac{d_o}{f} = 1 + d_o \\mathcal{D},\n",
    "$$\n",
    "donde $\\mathcal{D} = \\frac{1}{f}$ es la potencia en dioptrías, o poder dióptrico, de la lente.\n",
    "\n",
    "Sin embargo la **convención comercial más común** para el aumento de una lente asume que el objeto está en el foco, $s_o = f$ y por tanto $|s_i| \\to \\infty$.\n",
    "En tal caso\n",
    "$$\n",
    "M \n",
    "= \\lim_{|s_i| \\to \\infty }\\left( 1 + \\frac{|s_i|}{f} \\right) \\frac{d_o}{|s_i|}\n",
    "= d_o \\, \\mathcal{D}.\n",
    "$$\n",
    "\n",
    "Con tal definición una lente comercializada con un aumento $2.5x$\n",
    "$$\n",
    "M = 2.5 = 0.25\\,\\mathrm{m} \\, \\mathcal{D} \\rightarrow \\mathcal{D} = 10.\n",
    "$$\n",
    "puede tambien presentarse por un fabricante como de $10 \\mathrm{D}$.\n",
    "\n",
    "Que una lente tenga aumento $2.5x$ significa que de ubicar el objeto en $f$ a través de ella se verá 2,5 veces mayor que si se lo viera a una distancia $d_o$ del ojo."
   ]
  },
  {
   "cell_type": "markdown",
   "metadata": {},
   "source": [
    "### Nota histórica: no es poco lo que puede hacerse con una lupa\n",
    "\n",
    "![](figuras/JWeLIM04lAA.jpg)  \n",
    "[Antonie van Leeuwenhoek](https://es.wikipedia.org/wiki/Anton_van_Leeuwenhoek) [Delft, República Holandesa, 1632-1723], el descubridor de los micro-organismos.  \n",
    "\"Я вижу крошечных животных!\" = \"¡Veo animales minúsculos!\"  \n",
    "Libro para niños ilustrado por Нина Михайлова (Nina Mijailova) \n",
    "https://vk.com/lady_ninka?w=wall-138963468_2819\n",
    "\n",
    "![](figuras/van_Leeuwenhoek.jpg)  \n",
    "http://www.microscopy-uk.org.uk/mag/artoct07/jd-lens.html  \n",
    "**Propuesta**: Usar la ecuación de dos dioptras (esto no es ni por asomo una lente delgada) y verificar el valor dado (M) para el aumento.\n",
    "\n",
    "Fue el primero en ver lo que vive en nuestra boca: la placa dental bacteriana  \n",
    "![](figuras/rstb20130376f01.jpg)  \n",
    "https://royalsocietypublishing.org/doi/10.1098/rstb.2013.0376\n",
    "\n",
    "También fue el descubridor del esperma   \n",
    "![](figuras/C0144335-Historical_Drawing_of_Spermatozoa.jpg)"
   ]
  },
  {
   "cell_type": "markdown",
   "metadata": {},
   "source": [
    "## Dos lentes | Ejercicio 1"
   ]
  },
  {
   "cell_type": "markdown",
   "metadata": {},
   "source": [
    "**Enunciado**   \n",
    "Una lente delgada convergente, de distancia focal $30\\,\\mathrm{cm}$, se coloca $20\\,\\mathrm{cm}$ a la izquierda de otra lente delgada divergente de distancia focal $50\\,\\mathrm{cm}$.\n",
    "Para un objeto colocado a $40\\,\\mathrm{cm}$ a la izquierda de la primera lente determine la imagen final.\n",
    "¿Cuál es el aumento?\n",
    "La imagen, ¿es real o virtual, es directa o invertida?"
   ]
  },
  {
   "cell_type": "markdown",
   "metadata": {},
   "source": [
    "![](figuras/g18e01f01.png)"
   ]
  },
  {
   "cell_type": "code",
   "execution_count": 2,
   "metadata": {},
   "outputs": [],
   "source": [
    "f_1 = 30E-2 # [m]\n",
    "f_2 = -50E-2 # [m] f_2<0 porque es divergente\n",
    "s_o1 = -40E-2 # [m] con referencia a lente 1\n",
    "d = 20E-2 # [m]"
   ]
  },
  {
   "cell_type": "markdown",
   "metadata": {},
   "source": [
    "Calculamos imagen para la primer lente.\n",
    "Como ya vimos\n",
    "$$\n",
    "\\frac{1}{f} = \\frac{1}{s_i} - \\frac{1}{s_o} \\implies s_i = \\left(\\frac{1}{f} + \\frac{1}{s_o} \\right)^{-1} = \\frac{f s_o}{s_o + f}\n",
    "$$"
   ]
  },
  {
   "cell_type": "code",
   "execution_count": 3,
   "metadata": {},
   "outputs": [
    {
     "data": {
      "text/plain": [
       "1.1999999999999995"
      ]
     },
     "execution_count": 3,
     "metadata": {},
     "output_type": "execute_result"
    }
   ],
   "source": [
    "def s_i(s_o, f):\n",
    "    return f* s_o/ (s_o + f)\n",
    "\n",
    "s_i1 = s_i(s_o1, f_1)\n",
    "s_i1"
   ]
  },
  {
   "cell_type": "markdown",
   "metadata": {},
   "source": [
    "Esta cuenta se hizo tomando el origen de coordenadas en la primer lente.\n",
    "En este sistema la segunda lente está en $d = 20$ y por tanto $s_{i1}$ está a la derecha de esta lente.\n",
    "\n",
    "Si se resuelve todo el problema haciendo trazado de rayos se verifica esto, que esta imagen intermedia está a la derecha de la segunda lente.\n",
    "![](figuras/g18e01f02.png)"
   ]
  },
  {
   "cell_type": "markdown",
   "metadata": {},
   "source": [
    "Como esta imagen intermedia será el objeto de la segunda lente, desde un sistema con origen en ella"
   ]
  },
  {
   "cell_type": "code",
   "execution_count": 4,
   "metadata": {},
   "outputs": [
    {
     "data": {
      "text/plain": [
       "0.9999999999999996"
      ]
     },
     "execution_count": 4,
     "metadata": {},
     "output_type": "execute_result"
    }
   ],
   "source": [
    "s_o2= s_i1- d\n",
    "s_o2"
   ]
  },
  {
   "cell_type": "code",
   "execution_count": 5,
   "metadata": {},
   "outputs": [
    {
     "data": {
      "text/plain": [
       "-1.0000000000000004"
      ]
     },
     "execution_count": 5,
     "metadata": {},
     "output_type": "execute_result"
    }
   ],
   "source": [
    "s_i2 = s_i(s_o2, f_2)\n",
    "s_i2"
   ]
  },
  {
   "cell_type": "markdown",
   "metadata": {},
   "source": [
    "Esto es que la imagen del sistema está a la izquierda de la 2.a lente a un metro o a $80\\,\\mathrm{cm}$ de la primera."
   ]
  },
  {
   "cell_type": "markdown",
   "metadata": {},
   "source": [
    "### Naturaleza de las imagenes y aumento\n",
    "En principio esto es más fácil de explicar a partir del trazado de rayos.\n",
    "\n",
    "¿Reales o imaginarias?  \n",
    "- $s_{i1}$ es **real** pues la determina la **convergencia de rayos transmitidos**.\n",
    "- $s_{i2}$ ídem.  \n",
    "\n",
    "Para formar una **imagen virtual** su posición la determina la **prolongación geométrica** de una recta que contiene los rayos transmitidos al otro lado de la lente.\n",
    "\n",
    "¿Invertidas o directas?\n",
    "- $s_{i1}$ es **invertida** pues en el trazado allí la altura queda del otro lado del eje óptico a la imaginada del objeto en $s_{o1}$\n",
    "- $s_{i2}$ ídem, pues vuelve a invertir respecto a $s_{i1}$.\n",
    "\n",
    "Para que sea **directa** la altura de objeto e imagen deben quedar ambas por arriba o debajo del eje óptico.\n",
    "\n",
    "Para ver esto en forma analítica debe revisarse los aumentos.\n",
    "Para la primer lente\n",
    "$$\n",
    "M_1 \n",
    "= \\frac{s_{i1}}{s_{o1}} \n",
    "= \\frac{f_1}{s_{o1} + f_1}\n",
    "= \\frac{30}{-40 + 30}\n",
    "= -3\n",
    "$$\n",
    "\n"
   ]
  },
  {
   "cell_type": "code",
   "execution_count": 6,
   "metadata": {},
   "outputs": [
    {
     "data": {
      "text/plain": [
       "-2.9999999999999987"
      ]
     },
     "execution_count": 6,
     "metadata": {},
     "output_type": "execute_result"
    }
   ],
   "source": [
    "M_1 = s_i1/ s_o1\n",
    "M_1"
   ]
  },
  {
   "cell_type": "markdown",
   "metadata": {},
   "source": [
    "Y para la segunda\n",
    "$$\n",
    "M_2 = \\frac{-50}{100 + (-50)} = -1\n",
    "$$"
   ]
  },
  {
   "cell_type": "code",
   "execution_count": 7,
   "metadata": {},
   "outputs": [
    {
     "data": {
      "text/plain": [
       "-1.0000000000000009"
      ]
     },
     "execution_count": 7,
     "metadata": {},
     "output_type": "execute_result"
    }
   ],
   "source": [
    "M_2 = s_i2/ s_o2\n",
    "M_2"
   ]
  },
  {
   "cell_type": "markdown",
   "metadata": {},
   "source": [
    "Un **signo negativo** es un indicativo de **imagen inversa**."
   ]
  },
  {
   "cell_type": "markdown",
   "metadata": {},
   "source": [
    "¿Y el sistema en su conjunto que aumento presentó?\n",
    "Ojo no se puede hacer una relación de $s_{o1}$ y $s_{i2}$, y no es cuestión de corregir el origen.\n",
    "La herramienta de similitud de triángulos no es aplicable.\n",
    "\n",
    "El aumento del conjunto es el producto de los aumentos de las lentes.\n",
    "$M_\\mathrm{sistema} = M_1 M_2 = (-3) (-1) = 3$"
   ]
  },
  {
   "cell_type": "markdown",
   "metadata": {},
   "source": [
    "## Microscopio de dos lentes: objetivo y ocular\n",
    "> 5.7.5 The Compound Microscope  \n",
    "Optics  \n",
    "Hecht"
   ]
  },
  {
   "cell_type": "markdown",
   "metadata": {},
   "source": [
    "¿Qué mejoran dos lentes sobre una?\n",
    "En vista de lo anterior se logra un gran aumento a partir del producto del aumento de las lentes individuales.\n",
    "Esa buena razón para incrementar el número de lentes, no es la única.\n",
    "\n",
    "Vimos que el mejor desempeño de la lupa se logra cuando se ubica la imagen en $d_o$ la distancia al punto cercano.\n",
    "Pero mantener la vista en ese punto implica sostener en su máximo esfuerzo a los músculos que deforman el cristalino.\n",
    "Esa es una fórmula para alcanzar rápidamente **fatiga ocular**.\n",
    "\n",
    "Esto se soluciona con el agregado de la **lente ocular** cuya función es que los haces hacia el ojo partan paralelos, es decir como si la imagen en lo que se enfocará el ojo estuviera en el infinito.\n",
    "Esta es la situación en que el ojo está totalmente relajado.\n",
    "\n",
    "![](figuras/hecht_fig5_110.png)  \n",
    "[Hecht Fig. 5.110]"
   ]
  },
  {
   "cell_type": "markdown",
   "metadata": {},
   "source": [
    "### Ejercicio 3\n",
    "**Enunciado**  \n",
    "Un microscopio consta de un objetivo de $4\\,\\mathrm{mm}$ de distancia focal y de un ocular de $30\\,\\mathrm{mm}$ de distancia focal.\n",
    "La distancia entre el foco imagen del objetivo y el foco objeto del ocular es $18\\,\\mathrm{cm}$.\n",
    "Calcule:\n",
    "1. El aumento normal del microscopio.\n",
    "1. La distancia objeto--objetivo.\n",
    "1. Sabiendo que el microscopio no cuenta con diafragmas adicionales, y que la pupila de salida debe ser real, y del mismo diámetro aproximado que la pupila del ojo (\\\\(\\approx 12\\,\\mathrm{mm}\\\\)), discuta cuál de las dos lentes debe ser el diafragma de apertura, cuál debe ser su diámetro y en qué posición se halla la pupila de salida.\n",
    "1. Discuta en qué posiciones colocaría un diafragma de campo, y si esta introducción modifica o no la determinación del diafragma de apertura."
   ]
  },
  {
   "cell_type": "code",
   "execution_count": 8,
   "metadata": {},
   "outputs": [],
   "source": [
    "f_o = 4E-3 # [m]\n",
    "f_e = 30E-3 # [m] eyepiece = ocular\n",
    "L = 18E-2 # [m]"
   ]
  },
  {
   "cell_type": "markdown",
   "metadata": {},
   "source": [
    "#### Aumento microscopio\n",
    "> 2.8 Microscopes and Telescopes  \n",
    "University Physics Volume 3  \n",
    "Samuel J. Ling, Jeff Sanny, William Moebs  \n",
    "OpenStax  \n",
    "https://openstax.org/books/university-physics-volume-3/pages/2-8-microscopes-and-telescopes"
   ]
  },
  {
   "cell_type": "markdown",
   "metadata": {},
   "source": [
    "Vimos que el aumento del sistemas será el producto del aumento que provea la lente objetivo con la que provea la ocular.\n",
    "\n",
    "Empezamos con el aumento del objetivo calculado como transversal\n",
    "$$\n",
    "M_{To} = \\frac{y_{io}}{y_{oo}} = \\frac{s_{io}}{s_{oo}},\n",
    "$$\n",
    "ambas posiciones la del objeto y la imagen se aproximan:\n",
    "- Muy próximo a $f_o$ se ubica el objeto, $s_{oo} \\approx f_o$ \n",
    "- Del lado imagen $L \\gg f_o$ por lo que $s_{io} = L + f_o \\approx L$  \n",
    "así\n",
    "$$\n",
    "M_{To} \\approx \\frac{L}{f_o}.\n",
    "$$"
   ]
  },
  {
   "cell_type": "code",
   "execution_count": 9,
   "metadata": {},
   "outputs": [
    {
     "data": {
      "text/plain": [
       "45.0"
      ]
     },
     "execution_count": 9,
     "metadata": {},
     "output_type": "execute_result"
    }
   ],
   "source": [
    "M_o = L/ f_o\n",
    "M_o"
   ]
  },
  {
   "cell_type": "markdown",
   "metadata": {},
   "source": [
    "El aumento del ocular lo calculamos como angular.\n",
    "Para esto reflotamos la expresión\n",
    "$$\n",
    "M_{Ae} = \\left( 1 - \\frac{s_{ie}}{f_e} \\right) \\frac{d_o}{|s_{ie} + \\ell|},\n",
    "$$\n",
    "donde $\\ell$ es la distancia entre el cristalino del ojo y la lente ocular, y $d_o \\approx 25\\,\\mathrm{cm}$ la distancia del cristalina al punto cercano.\n",
    "Y tomamos todas las aproximaciones vistas en el caso de la lupa para utilizar la expresión del aumento que se utiliza comercialmente \n",
    "$$\n",
    "M_{Ae} \\approx \\frac{d_o}{f_e} = \\mathcal{D_e} d_o.\n",
    "$$"
   ]
  },
  {
   "cell_type": "code",
   "execution_count": 10,
   "metadata": {},
   "outputs": [
    {
     "data": {
      "text/plain": [
       "8.333333333333334"
      ]
     },
     "execution_count": 10,
     "metadata": {},
     "output_type": "execute_result"
    }
   ],
   "source": [
    "d_o = 25E-2 # [m]\n",
    "M_e = d_o / f_e\n",
    "M_e"
   ]
  },
  {
   "cell_type": "markdown",
   "metadata": {},
   "source": [
    "El aumento del este microscopio resulta ser"
   ]
  },
  {
   "cell_type": "code",
   "execution_count": 11,
   "metadata": {},
   "outputs": [
    {
     "data": {
      "text/plain": [
       "375.0"
      ]
     },
     "execution_count": 11,
     "metadata": {},
     "output_type": "execute_result"
    }
   ],
   "source": [
    "M_microscopio = M_o * M_e\n",
    "M_microscopio"
   ]
  },
  {
   "cell_type": "markdown",
   "metadata": {},
   "source": [
    "#### Distancia objeto - objetivo"
   ]
  },
  {
   "cell_type": "markdown",
   "metadata": {},
   "source": [
    "$$\n",
    "\\frac{1}{f} = \\frac{1}{s_i} - \\frac{1}{s_o} \n",
    "\\implies \n",
    "s_o = \\left(\\frac{1}{s_i} - \\frac{1}{f} \\right)^{-1} = \\frac{f s_i}{f - s_i}\n",
    "$$\n",
    "Como queremos precisión tomamos sin aproximaciones $s_i = L + f_o$"
   ]
  },
  {
   "cell_type": "code",
   "execution_count": 12,
   "metadata": {},
   "outputs": [
    {
     "data": {
      "text/plain": [
       "-0.004088888888888889"
      ]
     },
     "execution_count": 12,
     "metadata": {},
     "output_type": "execute_result"
    }
   ],
   "source": [
    "def s_o(f, s_i):\n",
    "    return f* s_i / (f - s_i)\n",
    "s_io = L + f_o\n",
    "s_oo = s_o(f_o, s_io)\n",
    "s_oo"
   ]
  },
  {
   "cell_type": "markdown",
   "metadata": {},
   "source": [
    "#### Diafragma de apertura y pupila de entrada\n",
    "> 5.3.1 Aperture and Field Stops | 5.3.2 Entrance and Exit Pupils  \n",
    "Optics  \n",
    "Hecht"
   ]
  },
  {
   "cell_type": "markdown",
   "metadata": {},
   "source": [
    "![](figuras/hecht_fig5_44.png)  \n",
    "[Hecht Fig. 5.44]  \n",
    "\"Aperture stop\" = \"Diaframa de apertura\"\n",
    "\n",
    "La razón par utilizar un diafragma es disminuir la intensidad de la luz en la imagen, **no \"recorta\" la imagen**.\n",
    "\n",
    "- Si no hay un dispositivo que actue como diafragma, la lente objetivo actua como el de apertura.\n",
    "    - Diafragma de apertura (DA) = Lente objetivo\n",
    "\n",
    "Las pupilas son imagenes de los diafragmas:  \n",
    "- Pupila de entrada: imagen de DA visto desde $s_o$ afectado por todos los elementos ópticos entre ambos.\n",
    "Si no hay tales elementos, DA es la pupila de entrada.\n",
    "    - Este último es el caso en este problema.\n",
    "- Pupila de salida (PS): ídem. desde $s_i$.\n",
    "    - En este problema será la imagen que genere el ocular de la lente objetivo, en el ojo de diámetro $12\\,\\mathrm{mm}$.  "
   ]
  },
  {
   "cell_type": "markdown",
   "metadata": {},
   "source": [
    "![](figuras/diafragma.png)  \n",
    "Por similitud de triángulos\n",
    "$$\n",
    "\\frac{y_{DA}}{x_{DA}} = \\frac{y_{PS}}{x_{PS}}\n",
    "\\implies\n",
    "y_{DA} x_{PS} = y_{PS} x_{DA},\n",
    "$$\n",
    "donde la distancia entre el objetivo y el ocular es $x_{DA}$ y $y_{PS}$ el radio de la pupila del ojo"
   ]
  },
  {
   "cell_type": "code",
   "execution_count": 13,
   "metadata": {},
   "outputs": [
    {
     "data": {
      "text/plain": [
       "(0.214, 0.006)"
      ]
     },
     "execution_count": 13,
     "metadata": {},
     "output_type": "execute_result"
    }
   ],
   "source": [
    "x_DA = L + f_o + f_e\n",
    "y_PS = 12E-3/ 2\n",
    "x_DA, y_PS"
   ]
  },
  {
   "cell_type": "markdown",
   "metadata": {},
   "source": [
    "Por otro lado\n",
    "$$\n",
    "\\frac{y_{PS}}{f_e} = \\frac{y_{DA}}{x_{DA} - f_e}\n",
    "\\implies\n",
    "y_{DA} = \\frac{x_{DA} - f_e}{f_e} y_{PS} = \\left( \\frac{x_{DA}}{f_e} - 1 \\right) y_{PS}\n",
    "$$\n",
    "\n",
    "Entonces la posición de la pupila de salida, respecto al ocular, es\n",
    "$$\n",
    "x_{PS} \n",
    "= \\frac{y_{PS} x_{DA}}{y_{DA}}\n",
    "= f_e \\frac{x_{DA}}{x_{DA} - f_e}\n",
    "$$"
   ]
  },
  {
   "cell_type": "code",
   "execution_count": 14,
   "metadata": {},
   "outputs": [
    {
     "data": {
      "text/plain": [
       "0.034891304347826085"
      ]
     },
     "execution_count": 14,
     "metadata": {},
     "output_type": "execute_result"
    }
   ],
   "source": [
    "x_PS = f_e * x_DA / (x_DA - f_e)\n",
    "x_PS"
   ]
  },
  {
   "cell_type": "markdown",
   "metadata": {},
   "source": [
    "#### Diafragma de campo\n",
    "Este si se utiliza para **recortar la imagen**.\n",
    "Conviene ubicarle en $f_e$, donde se forma la imagen intermedia."
   ]
  },
  {
   "cell_type": "markdown",
   "metadata": {},
   "source": [
    "### Usos del microscopio óptico convencional "
   ]
  },
  {
   "cell_type": "markdown",
   "metadata": {},
   "source": [
    "![](figuras/3-Volvox2-x100-DIC-JM-Babalian.jpg)  \n",
    "Una alga Volvox viva liberando sus colonias hija, aumento 100x, con técnica de [contraste por interferencia diferencial](https://www.nikonsmallworld.com/techniques/differential-interference-contrast).  \n",
    "https://www.nikonsmallworld.com/galleries/2017-photomicrography-competition/living-volvox-algae-releasing-its-daughter-colonies"
   ]
  },
  {
   "cell_type": "markdown",
   "metadata": {},
   "source": [
    "Pero no todo es biología en la vida (¡cuac!).  \n",
    "![](figuras/fcc-twin-grain_1.png)  \n",
    "Se entinta la superficie pulida de [Flo 302HQ](http://www.ccsteels.com/Superalloy/4661.html), un acero rápido para álabes de turbinas, con un químico sensible a luz polarizada.\n",
    "Se ilumina con esta luz bajo el microscopio metalográfico y se pueden ver:\n",
    "- bordes entre granos de mono-cristales\n",
    "- dislocaciones por vacancia dentro de los mono-cristales  \n",
    "\n",
    "https://doi.org/10.1017/S1551929500053943"
   ]
  },
  {
   "cell_type": "markdown",
   "metadata": {},
   "source": [
    "![](figuras/microscope-parts-drawing-57.jpg)  \n",
    "http://getdrawings.com/microscope-parts-drawing#microscope-parts-drawing-57.jpg"
   ]
  },
  {
   "cell_type": "markdown",
   "metadata": {},
   "source": [
    "## Mirando lo lejano"
   ]
  },
  {
   "cell_type": "markdown",
   "metadata": {},
   "source": [
    "![](figuras/cap653.jpg)  \n",
    "El aplicar un par de lentes para ver algo lejano viene de lejos, por cuestiones militares, y otros tipos de rentables actividades...\n",
    "\n",
    "El diseño del catalejo de marinero busca al igual que en el microscopio que los haces desde el ocular se buscan sean paralelos.\n",
    "\n",
    "Pero a diferencia del microscopio el objeto del lente objetivo esta lejos.\n",
    "Y cuando se apunto hacia los cielos puede aproximarse que está en el infinito.\n",
    "\n",
    "Estos dos requerimientos simultáneos obligan a lo que es la característica principal del anteojo astronómico, o [telescopio refractor](https://es.wikipedia.org/wiki/Telescopio_refractor) o de Newton: el foco del objetivo debe coincidir con el del ocular.  \n",
    "![](figuras/hecht_Fig5_117.png)  \n",
    "[Hecht Fig. 5.117]\n",
    "\n",
    "Es decir la distancia entre ambas lentes es la suma de sus distancias focales $d = f_o + f_e$.\n",
    "\n",
    "Por el contrario cuando Jack Sparrow enfoca en su catalejo al [Holandés Errante](https://en.wikipedia.org/wiki/Flying_Dutchman) (no es van Leeuwenhoek) debe ajustar un $d> f_o + f_e$ pues $s_o$ no está en el infinito... está siempre cerca."
   ]
  },
  {
   "cell_type": "markdown",
   "metadata": {},
   "source": [
    "**Pregunta:** ¿Por qué Jack Sparrow ve esto?   \n",
    "![](figuras/p054_1_02.jpg)"
   ]
  }
 ],
 "metadata": {
  "kernelspec": {
   "display_name": "Python 3",
   "language": "python",
   "name": "python3"
  },
  "language_info": {
   "codemirror_mode": {
    "name": "ipython",
    "version": 3
   },
   "file_extension": ".py",
   "mimetype": "text/x-python",
   "name": "python",
   "nbconvert_exporter": "python",
   "pygments_lexer": "ipython3",
   "version": "3.7.3"
  }
 },
 "nbformat": 4,
 "nbformat_minor": 4
}
