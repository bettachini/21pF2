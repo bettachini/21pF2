{
 "cells": [
  {
   "cell_type": "markdown",
   "metadata": {
    "colab_type": "text",
    "id": "KqSzkQQHjrqs"
   },
   "source": [
    "# Condiciones iniciales para el gas en un tubo unidimensional"
   ]
  },
  {
   "cell_type": "markdown",
   "metadata": {},
   "source": [
    "![Departamento de Física, Facultad de Ciencias Exactas y Naturales, Universidad de Buenos Aires](figuras/logoDF.png \"DF, FCEyN, UBA\")  \n",
    "©2021 [Víctor A. Bettachini](mailto:bettachini@df.uba.ar)  \n",
    "\n",
    "----"
   ]
  },
  {
   "cell_type": "markdown",
   "metadata": {
    "colab_type": "text",
    "id": "2nzxsIyLj4S8"
   },
   "source": [
    "## Enunciado de problema\n",
    "Un tabique divide un tubo dividido en dos regiones.\n",
    "En la izquierda hay una presión constante $p = p_0 + \\Delta p$ en tanto que en la derecha está a $p_0$ pues está abierta a la atmósfera.\n",
    "A $t = 0$ se remueve el tabique.\n",
    "Halle $\\delta p(x,t)$, $\\psi(x,t)$ y $\\delta\\rho(x,t)$ conociendo $p_{0}$, $\\Delta p\\ll P_{0}$, $L$, $v_\\text{sonido}$ y que $\\gamma= \\frac{7}{5}$ para un gas diatómico.  \n",
    "![](figuras/ej1-31-eps-converted-to.png)"
   ]
  },
  {
   "cell_type": "markdown",
   "metadata": {
    "colab_type": "text",
    "id": "QKoM5F-GlyZV"
   },
   "source": [
    "## Solución general de la ecuación de onda\n",
    "Para el desplazamiento longitudinal de moléculas del gas."
   ]
  },
  {
   "cell_type": "code",
   "execution_count": 1,
   "metadata": {
    "colab": {},
    "colab_type": "code",
    "id": "cnZDUhG9mCSj"
   },
   "outputs": [],
   "source": [
    "import sympy as sym\n",
    "\n",
    "[p0, Dp, L, vsonido, gamma] = sym.symbols(('p_0', r'\\Delta p', 'L', 'v_{sonido}', 'gamma'), positive=True)\n",
    "gamma_valor = sym.Rational(7,5)\n",
    "[x, t, A, B, k, omega, phi] = sym.symbols('x, t, A, B, k, omega, phi')"
   ]
  },
  {
   "cell_type": "code",
   "execution_count": 2,
   "metadata": {
    "colab": {
     "base_uri": "https://localhost:8080/",
     "height": 64
    },
    "colab_type": "code",
    "id": "iu5k7V3VjzQ6",
    "outputId": "a8755afb-285f-420b-a683-31d6739bbb0e"
   },
   "outputs": [
    {
     "data": {
      "text/latex": [
       "$\\displaystyle \\psi{\\left(x,t \\right)} = \\left(A \\cos{\\left(k x \\right)} + B \\sin{\\left(k x \\right)}\\right) \\cos{\\left(\\omega t + \\phi \\right)}$"
      ],
      "text/plain": [
       "Eq(psi(x, t), (A*cos(k*x) + B*sin(k*x))*cos(omega*t + phi))"
      ]
     },
     "execution_count": 2,
     "metadata": {},
     "output_type": "execute_result"
    }
   ],
   "source": [
    "psi = sym.Function('psi')(x,t)\n",
    "psi_exp = ( A* sym.cos(k* x) + B* sym.sin(k* x) )* sym.cos(omega* t + phi)\n",
    "sym.Eq(psi,psi_exp,evaluate=False)"
   ]
  },
  {
   "cell_type": "markdown",
   "metadata": {
    "colab_type": "text",
    "id": "sG-rsDa5qoO_"
   },
   "source": [
    "## Condición inicial: parte del reposo \n",
    "Al remover el gas se supone que el gas está en reposo."
   ]
  },
  {
   "cell_type": "code",
   "execution_count": 3,
   "metadata": {
    "colab": {
     "base_uri": "https://localhost:8080/",
     "height": 88
    },
    "colab_type": "code",
    "id": "xclaxlZCpUJg",
    "outputId": "f3b94a9c-3783-4e07-ef83-3981b0290b8a"
   },
   "outputs": [
    {
     "data": {
      "text/latex": [
       "$\\displaystyle \\left. \\frac{\\partial}{\\partial t} \\psi{\\left(x,t \\right)} \\right|_{\\substack{ t=0 }} = 0$"
      ],
      "text/plain": [
       "Eq(Subs(Derivative(psi(x, t), t), t, 0), 0)"
      ]
     },
     "execution_count": 3,
     "metadata": {},
     "output_type": "execute_result"
    }
   ],
   "source": [
    "sym.Eq(psi.diff(t).subs(t,0), 0, evaluate=False)"
   ]
  },
  {
   "cell_type": "code",
   "execution_count": 4,
   "metadata": {
    "colab": {
     "base_uri": "https://localhost:8080/",
     "height": 64
    },
    "colab_type": "code",
    "id": "5skuuMymqyZc",
    "outputId": "dc5e4142-ff5f-4469-a99e-19ff902dfb77"
   },
   "outputs": [
    {
     "data": {
      "text/latex": [
       "$\\displaystyle - \\omega \\left(A \\cos{\\left(k x \\right)} + B \\sin{\\left(k x \\right)}\\right) \\sin{\\left(\\phi \\right)} = 0$"
      ],
      "text/plain": [
       "Eq(-omega*(A*cos(k*x) + B*sin(k*x))*sin(phi), 0)"
      ]
     },
     "execution_count": 4,
     "metadata": {},
     "output_type": "execute_result"
    }
   ],
   "source": [
    "condicionReposo= sym.Eq(psi_exp.diff(t).subs(t,0),0)\n",
    "condicionReposo"
   ]
  },
  {
   "cell_type": "markdown",
   "metadata": {
    "colab_type": "text",
    "id": "0LCH_HqqtW_b"
   },
   "source": [
    "Los valores de $\\phi$ que complen esto son"
   ]
  },
  {
   "cell_type": "code",
   "execution_count": 5,
   "metadata": {
    "colab": {
     "base_uri": "https://localhost:8080/",
     "height": 64
    },
    "colab_type": "code",
    "id": "qgHs-OIrsHqk",
    "outputId": "c7f2fdc7-86b2-4bbd-de08-bf288540f95e"
   },
   "outputs": [
    {
     "data": {
      "text/plain": [
       "[0, pi]"
      ]
     },
     "execution_count": 5,
     "metadata": {},
     "output_type": "execute_result"
    }
   ],
   "source": [
    "phi_solve = sym.solve(condicionReposo,phi)\n",
    "phi_solve"
   ]
  },
  {
   "cell_type": "markdown",
   "metadata": {
    "colab_type": "text",
    "id": "SkAvxP3-tzmK"
   },
   "source": [
    "La solución general queda reducida a"
   ]
  },
  {
   "cell_type": "code",
   "execution_count": 6,
   "metadata": {
    "colab": {
     "base_uri": "https://localhost:8080/",
     "height": 64
    },
    "colab_type": "code",
    "id": "NjK9UbxGsYsD",
    "outputId": "033b20e2-bb0e-4fcb-eb22-d184b26bf27c"
   },
   "outputs": [
    {
     "data": {
      "text/latex": [
       "$\\displaystyle \\psi{\\left(x,t \\right)} = \\left(A \\cos{\\left(k x \\right)} + B \\sin{\\left(k x \\right)}\\right) \\cos{\\left(\\omega t \\right)}$"
      ],
      "text/plain": [
       "Eq(psi(x, t), (A*cos(k*x) + B*sin(k*x))*cos(omega*t))"
      ]
     },
     "execution_count": 6,
     "metadata": {},
     "output_type": "execute_result"
    }
   ],
   "source": [
    "psi_exp= psi_exp.subs(phi,phi_solve[0]) # phi_solve[0] toma el primer elemento de la lista con las soluciones\n",
    "sym.Eq(psi,psi_exp,evaluate=False)"
   ]
  },
  {
   "cell_type": "markdown",
   "metadata": {
    "colab_type": "text",
    "id": "lWeYggB3uqpr"
   },
   "source": [
    "## Condiciones de contorno\n",
    "En el extremo cerrado en $x=0$ no pueden desplazarse las moléculas"
   ]
  },
  {
   "cell_type": "code",
   "execution_count": 7,
   "metadata": {
    "colab": {
     "base_uri": "https://localhost:8080/",
     "height": 64
    },
    "colab_type": "code",
    "id": "Ibh1OX2HuGfZ",
    "outputId": "17648f18-4732-4d98-a522-121e80a50daa"
   },
   "outputs": [
    {
     "data": {
      "text/latex": [
       "$\\displaystyle \\psi{\\left(0,t \\right)} = 0$"
      ],
      "text/plain": [
       "Eq(psi(0, t), 0)"
      ]
     },
     "execution_count": 7,
     "metadata": {},
     "output_type": "execute_result"
    }
   ],
   "source": [
    "sym.Eq(psi.subs(x,0), 0, evaluate=False)"
   ]
  },
  {
   "cell_type": "code",
   "execution_count": 8,
   "metadata": {
    "colab": {
     "base_uri": "https://localhost:8080/",
     "height": 64
    },
    "colab_type": "code",
    "id": "0AqZM16uwGmb",
    "outputId": "8fbd93cb-63c9-4d9e-ba1c-b8f531d324de"
   },
   "outputs": [
    {
     "data": {
      "text/latex": [
       "$\\displaystyle A \\cos{\\left(\\omega t \\right)} = 0$"
      ],
      "text/plain": [
       "Eq(A*cos(omega*t), 0)"
      ]
     },
     "execution_count": 8,
     "metadata": {},
     "output_type": "execute_result"
    }
   ],
   "source": [
    "condicionCerrado= sym.Eq(psi_exp.subs(x,0),0)\n",
    "condicionCerrado"
   ]
  },
  {
   "cell_type": "markdown",
   "metadata": {
    "colab_type": "text",
    "id": "OGpPMm71wQj1"
   },
   "source": [
    "Esto implica que $A=$"
   ]
  },
  {
   "cell_type": "code",
   "execution_count": 9,
   "metadata": {
    "colab": {
     "base_uri": "https://localhost:8080/",
     "height": 64
    },
    "colab_type": "code",
    "id": "3Jm9uUAxu6rx",
    "outputId": "b4c3be81-c1b8-4c14-aed1-c0963e4fc5c7"
   },
   "outputs": [
    {
     "data": {
      "text/plain": [
       "[0]"
      ]
     },
     "execution_count": 9,
     "metadata": {},
     "output_type": "execute_result"
    }
   ],
   "source": [
    "A_solve = sym.solve(condicionCerrado,A)\n",
    "A_solve"
   ]
  },
  {
   "cell_type": "markdown",
   "metadata": {
    "colab_type": "text",
    "id": "WiC4tbvOwm70"
   },
   "source": [
    "Queda la solución"
   ]
  },
  {
   "cell_type": "code",
   "execution_count": 10,
   "metadata": {
    "colab": {
     "base_uri": "https://localhost:8080/",
     "height": 64
    },
    "colab_type": "code",
    "id": "Gpmf3YUiwWdj",
    "outputId": "12a2cdce-d33e-4fee-e9db-ac7bd1b2db2b"
   },
   "outputs": [
    {
     "data": {
      "text/latex": [
       "$\\displaystyle \\psi{\\left(x,t \\right)} = B \\sin{\\left(k x \\right)} \\cos{\\left(\\omega t \\right)}$"
      ],
      "text/plain": [
       "Eq(psi(x, t), B*sin(k*x)*cos(omega*t))"
      ]
     },
     "execution_count": 10,
     "metadata": {},
     "output_type": "execute_result"
    }
   ],
   "source": [
    "psi_exp= psi_exp.subs(A,A_solve[0])\n",
    "sym.Eq(psi,psi_exp,evaluate=False)"
   ]
  },
  {
   "cell_type": "markdown",
   "metadata": {
    "colab_type": "text",
    "id": "75GC3ygcxGwe"
   },
   "source": [
    "En el extremo abierto en $x=L$ no hay discontinuidad en el desplazamiento de las moléculas\n",
    "$$\n",
    "\\frac{\\partial \\psi}{\\partial x} \\bigg\\rvert_{x=L} = 0\n",
    "$$"
   ]
  },
  {
   "cell_type": "code",
   "execution_count": 11,
   "metadata": {
    "colab": {
     "base_uri": "https://localhost:8080/",
     "height": 64
    },
    "colab_type": "code",
    "id": "bJLoOZktwleL",
    "outputId": "be714a86-ccef-4425-97fc-3c4fb863e092"
   },
   "outputs": [
    {
     "data": {
      "text/latex": [
       "$\\displaystyle B k \\cos{\\left(L k \\right)} \\cos{\\left(\\omega t \\right)} = 0$"
      ],
      "text/plain": [
       "Eq(B*k*cos(L*k)*cos(omega*t), 0)"
      ]
     },
     "execution_count": 11,
     "metadata": {},
     "output_type": "execute_result"
    }
   ],
   "source": [
    "# sp.Eq(psi.diff(x).subs(x,L), 0, evaluate=False) # (!) reemplaza x de derivación: ver sym.replace o sym.subs\n",
    "condicionAbierto= sym.Eq(psi_exp.diff(x).subs(x,L),0)\n",
    "condicionAbierto"
   ]
  },
  {
   "cell_type": "markdown",
   "metadata": {
    "colab_type": "text",
    "id": "852L8ege0itL"
   },
   "source": [
    "Esto impone sobre k"
   ]
  },
  {
   "cell_type": "code",
   "execution_count": 12,
   "metadata": {
    "colab": {
     "base_uri": "https://localhost:8080/",
     "height": 88
    },
    "colab_type": "code",
    "id": "SPlEorxBxEwe",
    "outputId": "c97946b8-64c9-42f9-affd-c1de8804eaa9"
   },
   "outputs": [
    {
     "data": {
      "text/plain": [
       "[0, -pi/(2*L), pi/(2*L)]"
      ]
     },
     "execution_count": 12,
     "metadata": {},
     "output_type": "execute_result"
    }
   ],
   "source": [
    "k_solve = sym.solve(condicionAbierto,k)\n",
    "k_solve"
   ]
  },
  {
   "cell_type": "markdown",
   "metadata": {
    "colab_type": "text",
    "id": "0XBTXHdX7Qku"
   },
   "source": [
    "Sabemos resumir la sucesión de estos resultados en "
   ]
  },
  {
   "cell_type": "code",
   "execution_count": 13,
   "metadata": {
    "colab": {
     "base_uri": "https://localhost:8080/",
     "height": 88
    },
    "colab_type": "code",
    "id": "WMC1R6Q14tn4",
    "outputId": "1882c88b-5288-4521-c098-2555d1c3f0bf"
   },
   "outputs": [
    {
     "data": {
      "text/latex": [
       "$\\displaystyle k{\\left(n \\right)} = \\frac{\\pi \\left(n - \\frac{1}{2}\\right)}{L}$"
      ],
      "text/plain": [
       "Eq(k(n), pi*(n - 1/2)/L)"
      ]
     },
     "execution_count": 13,
     "metadata": {},
     "output_type": "execute_result"
    }
   ],
   "source": [
    "n = sym.symbols('n', integer=True, positive=True )\n",
    "kn = sym.Function('k')(n)\n",
    "kn_exp= (n- sym.Rational(1,2) )* sym.pi/ L\n",
    "sym.Eq(kn, kn_exp, evaluate=False)"
   ]
  },
  {
   "cell_type": "markdown",
   "metadata": {
    "colab_type": "text",
    "id": "tPFQWDyN1HWF"
   },
   "source": [
    "Siendo $n \\in \\mathbb{N}$.\n",
    "\n",
    "Con esto y la relación de dispersión $\\omega = v_\\text{sonido} k$ la solución general queda"
   ]
  },
  {
   "cell_type": "code",
   "execution_count": 14,
   "metadata": {
    "colab": {
     "base_uri": "https://localhost:8080/",
     "height": 94
    },
    "colab_type": "code",
    "id": "IaMnSauU1u1n",
    "outputId": "cc85779e-624d-43dd-dd20-7e428c3c5419"
   },
   "outputs": [
    {
     "data": {
      "text/latex": [
       "$\\displaystyle \\psi{\\left(x,t \\right)} = \\sum_{n=1}^{\\infty} B{\\left(n \\right)} \\sin{\\left(x k{\\left(n \\right)} \\right)} \\cos{\\left(t v_{sonido} k{\\left(n \\right)} \\right)}$"
      ],
      "text/plain": [
       "Eq(psi(x, t), Sum(B(n)*sin(x*k(n))*cos(t*v_{sonido}*k(n)), (n, 1, oo)))"
      ]
     },
     "execution_count": 14,
     "metadata": {},
     "output_type": "execute_result"
    }
   ],
   "source": [
    "Bn = sym.Function('B')(n)\n",
    "psi_modos = sym.Sum( Bn* sym.sin(kn* x)* sym.cos(vsonido* kn* t), (n, 1, sym.oo) )\n",
    "sym.Eq(psi, psi_modos, evaluate=False)"
   ]
  },
  {
   "cell_type": "markdown",
   "metadata": {
    "colab_type": "text",
    "id": "Ggi_8MEQ7-dJ"
   },
   "source": [
    "## Condición inicial sobre $\\delta p$\n",
    "$$\n",
    "\\delta p(x,0) =\n",
    "\\begin{cases}\n",
    "\\Delta p & 0 < x < \\frac{L}{3} \\\\\n",
    "0 & \\frac{L}{3} < x < L\n",
    "\\end{cases}\n",
    "$$\n",
    "\n",
    "Recordemos que $\\delta p =- \\gamma p_0 \\frac{\\partial \\psi}{\\partial x}$"
   ]
  },
  {
   "cell_type": "code",
   "execution_count": 15,
   "metadata": {
    "colab": {
     "base_uri": "https://localhost:8080/",
     "height": 94
    },
    "colab_type": "code",
    "id": "H6Ra72Ug4PW9",
    "outputId": "1011d665-721c-44f4-964e-799298dce536"
   },
   "outputs": [
    {
     "data": {
      "text/latex": [
       "$\\displaystyle \\delta p{\\left(x,t \\right)} = - \\gamma p_{0} \\sum_{n=1}^{\\infty} B{\\left(n \\right)} k{\\left(n \\right)} \\cos{\\left(x k{\\left(n \\right)} \\right)} \\cos{\\left(t v_{sonido} k{\\left(n \\right)} \\right)}$"
      ],
      "text/plain": [
       "Eq(\\delta p(x, t), -gamma*p_0*Sum(B(n)*k(n)*cos(x*k(n))*cos(t*v_{sonido}*k(n)), (n, 1, oo)))"
      ]
     },
     "execution_count": 15,
     "metadata": {},
     "output_type": "execute_result"
    }
   ],
   "source": [
    "dp = sym.Function('\\delta p')(x,t)\n",
    "dp_exp = - gamma* p0* psi_modos.diff(x)\n",
    "sym.Eq(dp, dp_exp, evaluate=False)"
   ]
  },
  {
   "cell_type": "markdown",
   "metadata": {
    "colab_type": "text",
    "id": "Fux2kB5UA0gr"
   },
   "source": [
    "Que en el tiempo inicial"
   ]
  },
  {
   "cell_type": "code",
   "execution_count": 16,
   "metadata": {
    "colab": {
     "base_uri": "https://localhost:8080/",
     "height": 94
    },
    "colab_type": "code",
    "id": "umTg9fKxA350",
    "outputId": "a4b0996e-61e7-495b-f1fb-2443f05ab0de"
   },
   "outputs": [
    {
     "data": {
      "text/latex": [
       "$\\displaystyle \\delta p{\\left(x,0 \\right)} = - \\gamma p_{0} \\sum_{n=1}^{\\infty} B{\\left(n \\right)} k{\\left(n \\right)} \\cos{\\left(x k{\\left(n \\right)} \\right)}$"
      ],
      "text/plain": [
       "Eq(\\delta p(x, 0), -gamma*p_0*Sum(B(n)*k(n)*cos(x*k(n)), (n, 1, oo)))"
      ]
     },
     "execution_count": 16,
     "metadata": {},
     "output_type": "execute_result"
    }
   ],
   "source": [
    "sym.Eq(dp, dp_exp, evaluate=False).subs(t,0)"
   ]
  },
  {
   "cell_type": "markdown",
   "metadata": {
    "colab_type": "text",
    "id": "R4ZcrB1R_U8O"
   },
   "source": [
    "Busco ahora _proyectar_ la condición inicial en una base $\\cos(x k(m) )$ la condición inicial."
   ]
  },
  {
   "cell_type": "code",
   "execution_count": 17,
   "metadata": {
    "colab": {
     "base_uri": "https://localhost:8080/",
     "height": 64
    },
    "colab_type": "code",
    "id": "pyvB9aHCBLJa",
    "outputId": "110c87a8-b074-4ad0-b91c-e2ca0106e78d"
   },
   "outputs": [
    {
     "data": {
      "text/latex": [
       "$\\displaystyle \\cos{\\left(x k{\\left(m \\right)} \\right)}$"
      ],
      "text/plain": [
       "cos(x*k(m))"
      ]
     },
     "execution_count": 17,
     "metadata": {},
     "output_type": "execute_result"
    }
   ],
   "source": [
    "m = sym.symbols('m')\n",
    "km = sym.Function('k')(m)\n",
    "base = sym.cos(km* x)\n",
    "base"
   ]
  },
  {
   "cell_type": "markdown",
   "metadata": {
    "colab_type": "text",
    "id": "tvA5hApfBP7z"
   },
   "source": [
    "Para esto multiplico por esa base la igualdad"
   ]
  },
  {
   "cell_type": "code",
   "execution_count": 18,
   "metadata": {
    "colab": {
     "base_uri": "https://localhost:8080/",
     "height": 94
    },
    "colab_type": "code",
    "id": "C4WB96WrBHtO",
    "outputId": "fdd7dce6-5334-4104-a561-5fa038daf676"
   },
   "outputs": [
    {
     "data": {
      "text/latex": [
       "$\\displaystyle \\delta p{\\left(x,0 \\right)} \\cos{\\left(x k{\\left(m \\right)} \\right)} = - \\gamma p_{0} \\cos{\\left(x k{\\left(m \\right)} \\right)} \\sum_{n=1}^{\\infty} B{\\left(n \\right)} k{\\left(n \\right)} \\cos{\\left(x k{\\left(n \\right)} \\right)}$"
      ],
      "text/plain": [
       "Eq(\\delta p(x, 0)*cos(x*k(m)), -gamma*p_0*cos(x*k(m))*Sum(B(n)*k(n)*cos(x*k(n)), (n, 1, oo)))"
      ]
     },
     "execution_count": 18,
     "metadata": {},
     "output_type": "execute_result"
    }
   ],
   "source": [
    "sym.Eq(dp* base, dp_exp* base, evaluate=False).subs(t,0)"
   ]
  },
  {
   "cell_type": "markdown",
   "metadata": {
    "colab_type": "text",
    "id": "B7FDLrizBfSf"
   },
   "source": [
    "E integro donde está definida $\\delta p(x,0)$, es decir $0 < x < L$"
   ]
  },
  {
   "cell_type": "code",
   "execution_count": 19,
   "metadata": {
    "colab": {
     "base_uri": "https://localhost:8080/",
     "height": 98
    },
    "colab_type": "code",
    "id": "80wV5UWe-qqS",
    "outputId": "1b5821b7-d04e-4d77-8ddc-d41478778040"
   },
   "outputs": [
    {
     "data": {
      "text/latex": [
       "$\\displaystyle \\int\\limits_{0}^{L} \\delta p{\\left(x,t \\right)} \\cos{\\left(x k{\\left(m \\right)} \\right)}\\, dx = \\int\\limits_{0}^{L} \\left(- \\gamma p_{0} \\cos{\\left(x k{\\left(m \\right)} \\right)} \\sum_{n=1}^{\\infty} B{\\left(n \\right)} k{\\left(n \\right)} \\cos{\\left(x k{\\left(n \\right)} \\right)}\\right)\\, dx$"
      ],
      "text/plain": [
       "Eq(Integral(\\delta p(x, t)*cos(x*k(m)), (x, 0, L)), Integral(-gamma*p_0*cos(x*k(m))*Sum(B(n)*k(n)*cos(x*k(n)), (n, 1, oo)), (x, 0, L)))"
      ]
     },
     "execution_count": 19,
     "metadata": {},
     "output_type": "execute_result"
    }
   ],
   "source": [
    "intIzq = sym.integrals.Integral(dp* base,(x,0,L))\n",
    "intDer = sym.integrals.Integral(dp_exp.subs(t,0)* base,(x,0,L))\n",
    "sym.Eq(intIzq, intDer, evaluate=False)"
   ]
  },
  {
   "cell_type": "code",
   "execution_count": 20,
   "metadata": {
    "colab": {
     "base_uri": "https://localhost:8080/",
     "height": 99
    },
    "colab_type": "code",
    "id": "eFsrSeN3T9l9",
    "outputId": "888f8b78-4ec6-48e7-cdfd-71bf6234cf6d"
   },
   "outputs": [
    {
     "data": {
      "text/latex": [
       "$\\displaystyle \\Delta p \\int\\limits_{0}^{\\frac{L}{3}} \\cos{\\left(x k{\\left(n \\right)} \\right)}\\, dx = \\int\\limits_{0}^{L} \\left(- \\gamma p_{0} \\cos{\\left(x k{\\left(n \\right)} \\right)} \\sum_{n=1}^{\\infty} B{\\left(n \\right)} k{\\left(n \\right)} \\cos{\\left(x k{\\left(n \\right)} \\right)}\\right)\\, dx$"
      ],
      "text/plain": [
       "Eq(\\Delta p*Integral(cos(x*k(n)), (x, 0, L/3)), Integral(-gamma*p_0*cos(x*k(n))*Sum(B(n)*k(n)*cos(x*k(n)), (n, 1, oo)), (x, 0, L)))"
      ]
     },
     "execution_count": 20,
     "metadata": {},
     "output_type": "execute_result"
    }
   ],
   "source": [
    "Dp= sym.Symbol('\\Delta p')\n",
    "intIzq = Dp* sym.integrals.Integral(base.subs(m,n), (x,0,L/3))\n",
    "intDer = sym.integrals.Integral(dp_exp.subs(t,0)* base.subs(m,n),(x,0,L))\n",
    "sym.Eq(intIzq, intDer, evaluate=False)"
   ]
  },
  {
   "cell_type": "markdown",
   "metadata": {
    "colab_type": "text",
    "id": "jz3ZCownKpts"
   },
   "source": [
    "Para resolver el lado derecho basta recordar\n",
    "$$\n",
    "\\int_{-\\pi}^{\\pi} \\cos(mx)\\, \\cos(nx)\\, dx = \\frac{1}{2}\\int_{-\\pi}^{\\pi} \\cos((n-m)x)+\\cos((n+m)x)\\, dx = \\pi \\delta_{mn} ,\n",
    "$$\n",
    "ergo\n",
    "$$\n",
    "\\int_{0}^{\\pi} \\cos(mx)\\, \\cos(nx)\\, dx = \\frac{\\pi}{2} \\delta_{mn} ,\n",
    "$$\n",
    "y con un cambio de variable $x' = \\frac{L}{\\pi} x$,\n",
    "$$\n",
    "\\frac{L}{\\pi} \\int_{0}^{L} \\cos(m \\frac{2 \\pi}{L} x')\\, \\cos(n \\frac{2 \\pi}{L} x')\\, dx' = \\frac{L}{\\pi} \\frac{\\pi}{2} \\delta_{mn} = \\frac{L}{2} \\delta_{mn}\n",
    "$$"
   ]
  },
  {
   "cell_type": "code",
   "execution_count": 21,
   "metadata": {
    "colab": {
     "base_uri": "https://localhost:8080/",
     "height": 95
    },
    "colab_type": "code",
    "id": "JAdIpuNMeE0-",
    "outputId": "aaf642d3-7b00-4f71-a473-ad3af6612be3"
   },
   "outputs": [
    {
     "data": {
      "text/latex": [
       "$\\displaystyle \\frac{L}{3} = - \\frac{L \\gamma p_{0} B{\\left(n \\right)}}{2}$"
      ],
      "text/plain": [
       "Eq(L/3, -L*gamma*p_0*B(n)/2)"
      ]
     },
     "execution_count": 21,
     "metadata": {},
     "output_type": "execute_result"
    }
   ],
   "source": [
    "intIzq_eval= intIzq.doit()\n",
    "# intIzq_eval= intIzq.subs(kn, kn_exp).doit()\n",
    "intDer_eval = - Bn* gamma* p0* L/2\n",
    "Bn_sistema = sym.Eq(intIzq_eval.args[1].args[1][0], intDer_eval, evaluate=False)\n",
    "Bn_sistema"
   ]
  },
  {
   "cell_type": "markdown",
   "metadata": {
    "colab_type": "text",
    "id": "tTl7gtyZjNEi"
   },
   "source": [
    "Con lo que finalmente podemos obtener la amplitud de cada modo $B(n)$ de $\\psi(x,t)$"
   ]
  },
  {
   "cell_type": "code",
   "execution_count": 22,
   "metadata": {
    "colab": {
     "base_uri": "https://localhost:8080/",
     "height": 95
    },
    "colab_type": "code",
    "id": "B0mSmp9gU6yt",
    "outputId": "1a565c6e-0579-451c-ac57-0f8c1f9d89bc"
   },
   "outputs": [
    {
     "data": {
      "text/latex": [
       "$\\displaystyle B{\\left(n \\right)} = - \\frac{2}{3 \\gamma p_{0}}$"
      ],
      "text/plain": [
       "Eq(B(n), -2/(3*gamma*p_0))"
      ]
     },
     "execution_count": 22,
     "metadata": {},
     "output_type": "execute_result"
    }
   ],
   "source": [
    "Bn_exp = sym.solve(Bn_sistema, Bn)\n",
    "sym.Eq(Bn, Bn_exp[0], evaluate=False)"
   ]
  },
  {
   "cell_type": "code",
   "execution_count": 23,
   "metadata": {
    "colab": {
     "base_uri": "https://localhost:8080/",
     "height": 94
    },
    "colab_type": "code",
    "id": "CNsVSVntgnDS",
    "outputId": "bd02b5a8-20c6-44d8-9cc7-c2dad017d123"
   },
   "outputs": [
    {
     "data": {
      "text/latex": [
       "$\\displaystyle \\psi{\\left(x,t \\right)} = \\sum_{n=1}^{\\infty} - \\frac{2 \\sin{\\left(x k{\\left(n \\right)} \\right)} \\cos{\\left(t v_{sonido} k{\\left(n \\right)} \\right)}}{3 \\gamma p_{0}}$"
      ],
      "text/plain": [
       "Eq(psi(x, t), Sum(-2*sin(x*k(n))*cos(t*v_{sonido}*k(n))/(3*gamma*p_0), (n, 1, oo)))"
      ]
     },
     "execution_count": 23,
     "metadata": {},
     "output_type": "execute_result"
    }
   ],
   "source": [
    "psi_final = sym.Eq(psi, psi_modos.subs(Bn, Bn_exp[0]), evaluate=False)\n",
    "psi_final"
   ]
  },
  {
   "cell_type": "code",
   "execution_count": 24,
   "metadata": {
    "colab": {
     "base_uri": "https://localhost:8080/",
     "height": 99
    },
    "colab_type": "code",
    "id": "Bz-Q0KPvpSjR",
    "outputId": "eeadd6de-5800-47a1-828d-0c3ff1fa2b0c"
   },
   "outputs": [
    {
     "data": {
      "text/latex": [
       "$\\displaystyle \\psi{\\left(x,t \\right)} = \\sum_{n=1}^{\\infty} - \\frac{10 \\sin{\\left(\\frac{\\pi x \\left(n - \\frac{1}{2}\\right)}{L} \\right)} \\cos{\\left(\\frac{\\pi t v_{sonido} \\left(n - \\frac{1}{2}\\right)}{L} \\right)}}{21 p_{0}}$"
      ],
      "text/plain": [
       "Eq(psi(x, t), Sum(-10*sin(pi*x*(n - 1/2)/L)*cos(pi*t*v_{sonido}*(n - 1/2)/L)/(21*p_0), (n, 1, oo)))"
      ]
     },
     "execution_count": 24,
     "metadata": {},
     "output_type": "execute_result"
    }
   ],
   "source": [
    "psi_final.subs(kn, kn_exp).subs(gamma, gamma_valor)"
   ]
  },
  {
   "cell_type": "markdown",
   "metadata": {
    "colab_type": "text",
    "id": "4DeNBYiyq1UW"
   },
   "source": [
    "Para la diferencia de presión respecto a la de referencia"
   ]
  },
  {
   "cell_type": "code",
   "execution_count": 25,
   "metadata": {
    "colab": {
     "base_uri": "https://localhost:8080/",
     "height": 94
    },
    "colab_type": "code",
    "id": "gg2U9-A5qoI1",
    "outputId": "9f70c5e2-b459-4b5c-912f-41439559f8bc"
   },
   "outputs": [
    {
     "data": {
      "text/latex": [
       "$\\displaystyle \\delta p{\\left(x,t \\right)} = - \\gamma p_{0} \\sum_{n=1}^{\\infty} - \\frac{2 k{\\left(n \\right)} \\cos{\\left(x k{\\left(n \\right)} \\right)} \\cos{\\left(t v_{sonido} k{\\left(n \\right)} \\right)}}{3 \\gamma p_{0}}$"
      ],
      "text/plain": [
       "Eq(\\delta p(x, t), -gamma*p_0*Sum(-2*k(n)*cos(x*k(n))*cos(t*v_{sonido}*k(n))/(3*gamma*p_0), (n, 1, oo)))"
      ]
     },
     "execution_count": 25,
     "metadata": {},
     "output_type": "execute_result"
    }
   ],
   "source": [
    "dp_modos = dp_exp\n",
    "dp_final = sym.Eq(dp, dp_modos.subs(Bn, Bn_exp[0]), evaluate=False)\n",
    "dp_final"
   ]
  },
  {
   "cell_type": "code",
   "execution_count": 26,
   "metadata": {
    "colab": {
     "base_uri": "https://localhost:8080/",
     "height": 94
    },
    "colab_type": "code",
    "id": "RQ-on9LytP3B",
    "outputId": "5307afab-f86b-43b0-df50-53b188c6eb3b"
   },
   "outputs": [
    {
     "data": {
      "text/latex": [
       "$\\displaystyle \\delta p{\\left(x,t \\right)} = - \\frac{7 p_{0} \\sum_{n=1}^{\\infty} - \\frac{10 \\pi \\left(n - \\frac{1}{2}\\right) \\cos{\\left(\\frac{\\pi x \\left(n - \\frac{1}{2}\\right)}{L} \\right)} \\cos{\\left(\\frac{\\pi t v_{sonido} \\left(n - \\frac{1}{2}\\right)}{L} \\right)}}{21 L p_{0}}}{5}$"
      ],
      "text/plain": [
       "Eq(\\delta p(x, t), -7*p_0*Sum(-10*pi*(n - 1/2)*cos(pi*x*(n - 1/2)/L)*cos(pi*t*v_{sonido}*(n - 1/2)/L)/(21*L*p_0), (n, 1, oo))/5)"
      ]
     },
     "execution_count": 26,
     "metadata": {},
     "output_type": "execute_result"
    }
   ],
   "source": [
    "dp_final.subs(kn, kn_exp).subs(gamma, gamma_valor)"
   ]
  },
  {
   "cell_type": "markdown",
   "metadata": {
    "colab_type": "text",
    "id": "Dj9IGwFCr9G7"
   },
   "source": [
    "Y para la densidad $\\delta \\rho = - \\rho_0 \\frac{\\partial \\psi}{\\partial x}$"
   ]
  },
  {
   "cell_type": "code",
   "execution_count": 27,
   "metadata": {
    "colab": {
     "base_uri": "https://localhost:8080/",
     "height": 94
    },
    "colab_type": "code",
    "id": "T762HiWfrtQU",
    "outputId": "8a3214e5-f0f9-409e-e4f5-aa48436f05e6"
   },
   "outputs": [
    {
     "data": {
      "text/latex": [
       "$\\displaystyle \\delta\\rho{\\left(x,t \\right)} = - \\rho_{0} \\sum_{n=1}^{\\infty} B{\\left(n \\right)} k{\\left(n \\right)} \\cos{\\left(x k{\\left(n \\right)} \\right)} \\cos{\\left(t v_{sonido} k{\\left(n \\right)} \\right)}$"
      ],
      "text/plain": [
       "Eq(\\delta\\rho(x, t), -rho_0*Sum(B(n)*k(n)*cos(x*k(n))*cos(t*v_{sonido}*k(n)), (n, 1, oo)))"
      ]
     },
     "execution_count": 27,
     "metadata": {},
     "output_type": "execute_result"
    }
   ],
   "source": [
    "rho0 = sym.Symbol('rho_0')\n",
    "drho = sym.Function('\\delta'+r'\\rho')(x,t)\n",
    "drho_exp = - rho0* psi_modos.diff(x)\n",
    "sym.Eq(drho, drho_exp, evaluate=False)"
   ]
  },
  {
   "cell_type": "code",
   "execution_count": 28,
   "metadata": {
    "colab": {
     "base_uri": "https://localhost:8080/",
     "height": 94
    },
    "colab_type": "code",
    "id": "saoHcxnEr74J",
    "outputId": "14dde6ec-1d2c-4f71-97a7-dd8e3c8c6e8b"
   },
   "outputs": [
    {
     "data": {
      "text/latex": [
       "$\\displaystyle \\delta\\rho{\\left(x,t \\right)} = - \\rho_{0} \\sum_{n=1}^{\\infty} - \\frac{2 k{\\left(n \\right)} \\cos{\\left(x k{\\left(n \\right)} \\right)} \\cos{\\left(t v_{sonido} k{\\left(n \\right)} \\right)}}{3 \\gamma p_{0}}$"
      ],
      "text/plain": [
       "Eq(\\delta\\rho(x, t), -rho_0*Sum(-2*k(n)*cos(x*k(n))*cos(t*v_{sonido}*k(n))/(3*gamma*p_0), (n, 1, oo)))"
      ]
     },
     "execution_count": 28,
     "metadata": {},
     "output_type": "execute_result"
    }
   ],
   "source": [
    "drho_modos = drho_exp\n",
    "drho_final = sym.Eq(drho, drho_modos.subs(Bn, Bn_exp[0]), evaluate=False)\n",
    "drho_final"
   ]
  },
  {
   "cell_type": "code",
   "execution_count": 29,
   "metadata": {
    "colab": {
     "base_uri": "https://localhost:8080/",
     "height": 94
    },
    "colab_type": "code",
    "id": "cuTXtF7qtIMN",
    "outputId": "a77fec0c-1475-4f32-c276-eb44ddd56d26"
   },
   "outputs": [
    {
     "data": {
      "text/latex": [
       "$\\displaystyle \\delta\\rho{\\left(x,t \\right)} = - \\rho_{0} \\sum_{n=1}^{\\infty} - \\frac{10 \\pi \\left(n - \\frac{1}{2}\\right) \\cos{\\left(\\frac{\\pi x \\left(n - \\frac{1}{2}\\right)}{L} \\right)} \\cos{\\left(\\frac{\\pi t v_{sonido} \\left(n - \\frac{1}{2}\\right)}{L} \\right)}}{21 L p_{0}}$"
      ],
      "text/plain": [
       "Eq(\\delta\\rho(x, t), -rho_0*Sum(-10*pi*(n - 1/2)*cos(pi*x*(n - 1/2)/L)*cos(pi*t*v_{sonido}*(n - 1/2)/L)/(21*L*p_0), (n, 1, oo)))"
      ]
     },
     "execution_count": 29,
     "metadata": {},
     "output_type": "execute_result"
    }
   ],
   "source": [
    "drho_final.subs(kn, kn_exp).subs(gamma, gamma_valor)"
   ]
  }
 ],
 "metadata": {
  "colab": {
   "collapsed_sections": [],
   "name": "gasCondiciónInicial.ipynb",
   "provenance": []
  },
  "kernelspec": {
   "display_name": "Python 3",
   "language": "python",
   "name": "python3"
  },
  "language_info": {
   "codemirror_mode": {
    "name": "ipython",
    "version": 3
   },
   "file_extension": ".py",
   "mimetype": "text/x-python",
   "name": "python",
   "nbconvert_exporter": "python",
   "pygments_lexer": "ipython3",
   "version": "3.7.3"
  }
 },
 "nbformat": 4,
 "nbformat_minor": 4
}
