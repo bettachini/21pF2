{
 "cells": [
  {
   "cell_type": "markdown",
   "metadata": {
    "colab_type": "text",
    "id": "PN3eFXu0vZ6l"
   },
   "source": [
    "# Condiciones iniciales de una cuerda con extremos fijos"
   ]
  },
  {
   "cell_type": "markdown",
   "metadata": {},
   "source": [
    "![Departamento de Física, Facultad de Ciencias Exactas y Naturales, Universidad de Buenos Aires](figuras/logoDF.png \"DF, FCEyN, UBA\")  \n",
    "©2021 [Víctor A. Bettachini](mailto:bettachini@df.uba.ar)  \n",
    "\n",
    "----"
   ]
  },
  {
   "cell_type": "markdown",
   "metadata": {},
   "source": [
    "## Enunciado\n",
    "Se suelta una cuerda fija en sus extremos desde el estado inicial en reposo indicado en la figura.  \n",
    "![](figuras/pat4368.png)\n",
    "1. Calcule la evolución en el tiempo.\n",
    "1. ¿Cuál es el modo excitado de mayor amplitud?\n",
    "1. ¿Qué modos no son excitados?"
   ]
  },
  {
   "cell_type": "markdown",
   "metadata": {
    "colab_type": "text",
    "id": "LD1llLYQvZ6m"
   },
   "source": [
    "## Resolución\n",
    "La solución de la ecuación de onda para una cuerda con extremos fijos partiendo del reposo es \n",
    "$$ \\psi(x,t)= \\sum_m B_m \\sin(\\pi \\frac{m}{L} x ) \\cos(\\omega_m t+ \\phi_m)$$\n",
    "Para obtener los $B_m$ debemos \"proyectar\" en la corresponiente base de Fourier \n",
    "$$\n",
    "\\sin{(m \\frac{\\pi}{L} x)} \\quad \\forall m,\n",
    "$$\n",
    "el estado inicial $f(x)$ \n",
    "$$\n",
    "B_m=  \\frac{2}{\\lambda_1}\\int_{-\\frac{\\lambda_1}{2}}^{\\frac{\\lambda_1}{2}} f(x) \\sin{(m \\frac{\\pi}{L} x)}\\,\\mathrm{d}x =\\frac{1}{L}\\int_{-L}^L f(x) \\sin{(m \\frac{\\pi}{L} x)}\\,\\mathrm{d}x\n",
    "$$"
   ]
  },
  {
   "cell_type": "code",
   "execution_count": 16,
   "metadata": {
    "colab": {},
    "colab_type": "code",
    "collapsed": false,
    "id": "QQMWPq6yvZ6o",
    "jupyter": {
     "outputs_hidden": false
    }
   },
   "outputs": [],
   "source": [
    "import sympy as sp # carga biblioteca cálculo simbólico"
   ]
  },
  {
   "cell_type": "code",
   "execution_count": 17,
   "metadata": {
    "colab": {},
    "colab_type": "code",
    "collapsed": false,
    "id": "nphEfN7tvZ6v",
    "jupyter": {
     "outputs_hidden": false
    }
   },
   "outputs": [],
   "source": [
    "# declara símbolos a usar como tales\n",
    "x, m, L, a, H = sp.symbols('x, m, L, a, H')\n",
    "# x va de 0 a L\n",
    "# m es un número natural\n",
    "# H es la máxima amplitud del estado inicial\n",
    "a = H/(L/2)  # es la pendiente en (0,L/2)"
   ]
  },
  {
   "cell_type": "markdown",
   "metadata": {
    "colab_type": "text",
    "id": "K4ZL1cbWvZ6z"
   },
   "source": [
    "Extiendo el estado inicial $f(x)$ a lo largo de la longitud de onda del modo fundamental $\\lambda_1 = 2 L$ ($k_1=\\frac{\\pi}{L}= \\frac{2 \\pi}{\\lambda_1}$), e.g. en $(-L,L)$.\n",
    "$$ f_1 = -a (x+ L) \\hspace{2cm} (-L< x <-\\frac{L}{2}) $$\n",
    "$$ f_2 = a x \\hspace{2cm}  (-\\frac{L}{2} < x < \\frac{L}{2}) $$\n",
    "$$ f_3 = -a (x- L) \\hspace{2cm} (\\frac{L}{2} < x < L)$$"
   ]
  },
  {
   "cell_type": "code",
   "execution_count": 18,
   "metadata": {
    "colab": {
     "base_uri": "https://localhost:8080/",
     "height": 359
    },
    "colab_type": "code",
    "collapsed": false,
    "id": "_u680QHPvZ60",
    "jupyter": {
     "outputs_hidden": false
    },
    "outputId": "caeb8401-0acc-4582-fc89-fabd5b38f1ea"
   },
   "outputs": [
    {
     "data": {
      "image/png": "[encoded data removed]",
      "text/plain": [
       "<Figure size 432x288 with 1 Axes>"
      ]
     },
     "metadata": {
      "needs_background": "light"
     },
     "output_type": "display_data"
    }
   ],
   "source": [
    "f1= -a* (x+ L)\n",
    "f2= a*x\n",
    "f3= -a* (x- L)\n",
    "\n",
    "# Grafico la condicíon inicial con los valores H=1 L=10\n",
    "f1s= f1.subs([(H, 1), (L, 10)] ), (x, -10, -5) \n",
    "f2s= f2.subs([(H, 1), (L, 10)] ), (x, -5, 5)\n",
    "f3s= f3.subs([(H, 1), (L, 10)] ), (x, 5, 10)\n",
    "# xlabel('x')\n",
    "# ylabel('\\psi')\n",
    "inicial= sp.plot(f1s, f2s, f3s, ylim=[-2,2])"
   ]
  },
  {
   "cell_type": "markdown",
   "metadata": {
    "colab_type": "text",
    "id": "W_au7Z8SvZ65"
   },
   "source": [
    "\\begin{align}\n",
    "  B_m &= \\frac{1}{L} \\int_{-L}^{-\\frac{L}{2}} f_1(x) \\sin{(m \\frac{\\pi}{L} x)}\\,\\mathrm{d}x \n",
    "  + \\frac{1}{L} \\int_{-\\frac{-L}{2}}^{\\frac{-L}{2}} f_2(x) \\sin{(m \\frac{\\pi}{L} x)}\\,\\mathrm{d}x \n",
    "  + \\frac{1}{L} \\int_{\\frac{L}{2}}^{L} f_3(x) \\sin{(m \\frac{\\pi}{L} x)}\\,\\mathrm{d}x \n",
    "\\end{align}"
   ]
  },
  {
   "cell_type": "code",
   "execution_count": 4,
   "metadata": {
    "colab": {
     "base_uri": "https://localhost:8080/",
     "height": 170
    },
    "colab_type": "code",
    "collapsed": false,
    "id": "hyomYL5jvZ66",
    "jupyter": {
     "outputs_hidden": false
    },
    "outputId": "5a1458c4-f471-40d4-8ab3-d2753cb0c975"
   },
   "outputs": [
    {
     "data": {
      "text/latex": [
       "$\\displaystyle \\begin{cases} \\frac{H L \\left(\\pi m \\cos{\\left(\\frac{\\pi m}{2} \\right)} + 2 \\sin{\\left(\\frac{\\pi m}{2} \\right)} - 2 \\sin{\\left(\\pi m \\right)}\\right)}{\\pi^{2} m^{2}} & \\text{for}\\: m > -\\infty \\wedge m < \\infty \\wedge m \\neq 0 \\\\0 & \\text{otherwise} \\end{cases}$"
      ],
      "text/plain": [
       "Piecewise((H*L*(pi*m*cos(pi*m/2) + 2*sin(pi*m/2) - 2*sin(pi*m))/(pi**2*m**2), (m > -oo) & (m < oo) & Ne(m, 0)), (0, True))"
      ]
     },
     "execution_count": 4,
     "metadata": {},
     "output_type": "execute_result"
    }
   ],
   "source": [
    "# El primer término\n",
    "aux= sp.sin(m* sp.pi* x/ L) # los elementos de la base\n",
    "e1= sp.integrate(f1* aux,(x, -L, -L/2))\n",
    "sp.simplify(e1)"
   ]
  },
  {
   "cell_type": "code",
   "execution_count": 5,
   "metadata": {
    "colab": {
     "base_uri": "https://localhost:8080/",
     "height": 170
    },
    "colab_type": "code",
    "collapsed": false,
    "id": "BD80ga-zvZ6-",
    "jupyter": {
     "outputs_hidden": false
    },
    "outputId": "dbb1f714-a3fc-4bdd-fc18-d85cb2b741c7"
   },
   "outputs": [
    {
     "data": {
      "text/latex": [
       "$\\displaystyle \\begin{cases} \\frac{2 H L \\left(- \\pi m \\cos{\\left(\\frac{\\pi m}{2} \\right)} + 2 \\sin{\\left(\\frac{\\pi m}{2} \\right)}\\right)}{\\pi^{2} m^{2}} & \\text{for}\\: m > -\\infty \\wedge m < \\infty \\wedge m \\neq 0 \\\\0 & \\text{otherwise} \\end{cases}$"
      ],
      "text/plain": [
       "Piecewise((2*H*L*(-pi*m*cos(pi*m/2) + 2*sin(pi*m/2))/(pi**2*m**2), (m > -oo) & (m < oo) & Ne(m, 0)), (0, True))"
      ]
     },
     "execution_count": 5,
     "metadata": {},
     "output_type": "execute_result"
    }
   ],
   "source": [
    "# El segundo\n",
    "e2= sp.integrate(f2* aux,(x, -L/2, L/2))\n",
    "sp.simplify(e2)"
   ]
  },
  {
   "cell_type": "code",
   "execution_count": 6,
   "metadata": {
    "colab": {
     "base_uri": "https://localhost:8080/",
     "height": 170
    },
    "colab_type": "code",
    "collapsed": false,
    "id": "wh7SqiO9vZ7D",
    "jupyter": {
     "outputs_hidden": false
    },
    "outputId": "6804ac94-d259-4140-ce85-b50917ad137c"
   },
   "outputs": [
    {
     "data": {
      "text/latex": [
       "$\\displaystyle \\begin{cases} \\frac{H L \\left(\\pi m \\cos{\\left(\\frac{\\pi m}{2} \\right)} + 2 \\sin{\\left(\\frac{\\pi m}{2} \\right)} - 2 \\sin{\\left(\\pi m \\right)}\\right)}{\\pi^{2} m^{2}} & \\text{for}\\: m > -\\infty \\wedge m < \\infty \\wedge m \\neq 0 \\\\0 & \\text{otherwise} \\end{cases}$"
      ],
      "text/plain": [
       "Piecewise((H*L*(pi*m*cos(pi*m/2) + 2*sin(pi*m/2) - 2*sin(pi*m))/(pi**2*m**2), (m > -oo) & (m < oo) & Ne(m, 0)), (0, True))"
      ]
     },
     "execution_count": 6,
     "metadata": {},
     "output_type": "execute_result"
    }
   ],
   "source": [
    "#El tercero\n",
    "e3= sp.integrate(f3* aux,(x, L/2, L))\n",
    "sp.simplify(e3)"
   ]
  },
  {
   "cell_type": "code",
   "execution_count": 7,
   "metadata": {
    "colab": {
     "base_uri": "https://localhost:8080/",
     "height": 170
    },
    "colab_type": "code",
    "collapsed": false,
    "id": "gKpAgUTovZ7J",
    "jupyter": {
     "outputs_hidden": false
    },
    "outputId": "1eb6b7a5-8724-4bd5-b7ac-55481d133012"
   },
   "outputs": [
    {
     "data": {
      "text/latex": [
       "$\\displaystyle \\begin{cases} \\frac{4 H \\left(2 \\sin{\\left(\\frac{\\pi m}{2} \\right)} - \\sin{\\left(\\pi m \\right)}\\right)}{\\pi^{2} m^{2}} & \\text{for}\\: m > -\\infty \\wedge m < \\infty \\wedge m \\neq 0 \\\\0 & \\text{otherwise} \\end{cases}$"
      ],
      "text/plain": [
       "Piecewise((4*H*(2*sin(pi*m/2) - sin(pi*m))/(pi**2*m**2), (m > -oo) & (m < oo) & Ne(m, 0)), (0, True))"
      ]
     },
     "execution_count": 7,
     "metadata": {},
     "output_type": "execute_result"
    }
   ],
   "source": [
    "# Los Bm son entonces\n",
    "Bm= sp.simplify((1/L)* (e1+ e2+ e3))\n",
    "Bm"
   ]
  },
  {
   "cell_type": "markdown",
   "metadata": {
    "colab_type": "text",
    "id": "OD6QR5y_vZ7P"
   },
   "source": [
    "Esto equivale a $\\frac{8 H}{\\pi^2  m^2}$ para los $m$ impares, siendo $0$ para pares. Queda así respondido el punto c) del problema: Con la condición inicial dada no se exitan los modos pares.\n",
    "\n",
    "La evolución temporal (punto a) del problema), si parte del reposo, es\n",
    "\\begin{align}\n",
    "    \\psi(x,t)\n",
    "    &=  \\sum_m \\frac{8 H}{\\pi^2  m^2}  \\sin(\\pi \\frac{m}{L} x ) \\cos(\\omega_m t)\\\\\n",
    "\\end{align}\n",
    "\n",
    "Respecto al punto b) del problema, es evidente de la expresión para $B_m$ que el modo de mayor amplitud es el del fundamental ($m=1$). "
   ]
  },
  {
   "cell_type": "code",
   "execution_count": 8,
   "metadata": {
    "colab": {
     "base_uri": "https://localhost:8080/",
     "height": 85
    },
    "colab_type": "code",
    "collapsed": false,
    "id": "6WejB5BdvZ7Q",
    "jupyter": {
     "outputs_hidden": false
    },
    "outputId": "9aad4313-20f6-417b-e7cd-c5caca1d2d6e"
   },
   "outputs": [
    {
     "data": {
      "text/latex": [
       "$\\displaystyle \\frac{8 H}{\\pi^{2}}$"
      ],
      "text/plain": [
       "8*H/pi**2"
      ]
     },
     "execution_count": 8,
     "metadata": {},
     "output_type": "execute_result"
    }
   ],
   "source": [
    "Bm.subs([(m, 1)] )"
   ]
  },
  {
   "cell_type": "markdown",
   "metadata": {
    "colab_type": "text",
    "id": "vtJWoGIpvZ7U"
   },
   "source": [
    "El módulo del coeficiente $B_m$ para el siguiente modo excitable ($m=3$) es el siguiente es casi de un orden de magnitud menor al del modo fundamental."
   ]
  },
  {
   "cell_type": "code",
   "execution_count": 9,
   "metadata": {
    "colab": {
     "base_uri": "https://localhost:8080/",
     "height": 85
    },
    "colab_type": "code",
    "collapsed": false,
    "id": "kJtHPtzBvZ7V",
    "jupyter": {
     "outputs_hidden": false
    },
    "outputId": "a8fb45ed-4e2c-4c9d-985d-5afed2a24204"
   },
   "outputs": [
    {
     "data": {
      "text/latex": [
       "$\\displaystyle - \\frac{8 H}{9 \\pi^{2}}$"
      ],
      "text/plain": [
       "-8*H/(9*pi**2)"
      ]
     },
     "execution_count": 9,
     "metadata": {},
     "output_type": "execute_result"
    }
   ],
   "source": [
    "Bm.subs([(m, 3)] )"
   ]
  },
  {
   "cell_type": "markdown",
   "metadata": {
    "colab_type": "text",
    "id": "bmPD2V8uvZ7Z"
   },
   "source": [
    "Grafico a continuación la suma de los primeros tres términos no nulos de la serie para evidenciar que se aproxima tal suma a la condición inicial."
   ]
  },
  {
   "cell_type": "code",
   "execution_count": 10,
   "metadata": {
    "colab": {},
    "colab_type": "code",
    "collapsed": false,
    "id": "qc-oXZmJvZ7a",
    "jupyter": {
     "outputs_hidden": false
    }
   },
   "outputs": [],
   "source": [
    "def graficaSerie(terminos):\n",
    "    qbas= (Bm*aux).subs([(H, 1), (L, 10)]) # asigno valores a A, L en terminos de la serie\n",
    "    qout=0\n",
    "    for k in range(0,terminos): # sumo terminos impares de la serie\n",
    "        qout+= qbas.subs([(m,k*2+1)])\n",
    "    p= sp.plot((qout, (x, -15, 15) ), f1s, f2s, f3s, show=False, ylim=[-2,2])\n",
    "    p[0].line_color= 'red' # la suma de la serie en rojo\n",
    "    p.show()"
   ]
  },
  {
   "cell_type": "code",
   "execution_count": 11,
   "metadata": {
    "colab": {
     "base_uri": "https://localhost:8080/",
     "height": 359
    },
    "colab_type": "code",
    "collapsed": false,
    "id": "fS4JKCzXvZ7d",
    "jupyter": {
     "outputs_hidden": false
    },
    "outputId": "9abc79af-5352-48a8-e62f-d04d519e11b8"
   },
   "outputs": [
    {
     "data": {
      "image/png": "[encoded data removed]",
      "text/plain": [
       "<Figure size 432x288 with 1 Axes>"
      ]
     },
     "metadata": {
      "needs_background": "light"
     },
     "output_type": "display_data"
    }
   ],
   "source": [
    "graficaSerie(1)"
   ]
  },
  {
   "cell_type": "code",
   "execution_count": 12,
   "metadata": {
    "colab": {
     "base_uri": "https://localhost:8080/",
     "height": 359
    },
    "colab_type": "code",
    "collapsed": false,
    "id": "gcKk0OSnvZ7h",
    "jupyter": {
     "outputs_hidden": false
    },
    "outputId": "78ffa724-bff9-4206-81af-449f99fefaac"
   },
   "outputs": [
    {
     "data": {
      "image/png": "[encoded data removed]",
      "text/plain": [
       "<Figure size 432x288 with 1 Axes>"
      ]
     },
     "metadata": {
      "needs_background": "light"
     },
     "output_type": "display_data"
    }
   ],
   "source": [
    "graficaSerie(2)"
   ]
  },
  {
   "cell_type": "code",
   "execution_count": 13,
   "metadata": {
    "colab": {
     "base_uri": "https://localhost:8080/",
     "height": 359
    },
    "colab_type": "code",
    "collapsed": false,
    "id": "WAWvm_KivZ7l",
    "jupyter": {
     "outputs_hidden": false
    },
    "outputId": "51b3a6b6-437d-4e7b-869b-4b56e9bb9f71"
   },
   "outputs": [
    {
     "data": {
      "image/png": "[encoded data removed]",
      "text/plain": [
       "<Figure size 432x288 with 1 Axes>"
      ]
     },
     "metadata": {
      "needs_background": "light"
     },
     "output_type": "display_data"
    }
   ],
   "source": [
    "graficaSerie(3)"
   ]
  },
  {
   "cell_type": "code",
   "execution_count": 14,
   "metadata": {
    "colab": {
     "base_uri": "https://localhost:8080/",
     "height": 359
    },
    "colab_type": "code",
    "collapsed": false,
    "id": "6kO6zt0IvZ7q",
    "jupyter": {
     "outputs_hidden": false
    },
    "outputId": "520ffe1e-2675-404f-9000-5653cc3368ed"
   },
   "outputs": [
    {
     "data": {
      "image/png": "[encoded data removed]",
      "text/plain": [
       "<Figure size 432x288 with 1 Axes>"
      ]
     },
     "metadata": {
      "needs_background": "light"
     },
     "output_type": "display_data"
    }
   ],
   "source": [
    "graficaSerie(4)"
   ]
  },
  {
   "cell_type": "markdown",
   "metadata": {
    "colab_type": "text",
    "id": "ay9BnMoavZ7u"
   },
   "source": [
    "Y finalmente la suma de los 10 primeros términos es casi indistinguible de la condición inicial."
   ]
  },
  {
   "cell_type": "code",
   "execution_count": 15,
   "metadata": {
    "colab": {
     "base_uri": "https://localhost:8080/",
     "height": 359
    },
    "colab_type": "code",
    "collapsed": false,
    "id": "v42PYxQUvZ7v",
    "jupyter": {
     "outputs_hidden": false
    },
    "outputId": "fb15d7dd-42c6-47d9-d1f9-2dde4d457a32"
   },
   "outputs": [
    {
     "data": {
      "image/png": "[encoded data removed]",
      "text/plain": [
       "<Figure size 432x288 with 1 Axes>"
      ]
     },
     "metadata": {
      "needs_background": "light"
     },
     "output_type": "display_data"
    }
   ],
   "source": [
    "graficaSerie(10)"
   ]
  }
 ],
 "metadata": {
  "colab": {
   "collapsed_sections": [],
   "name": "fourierCuerda.ipynb",
   "provenance": []
  },
  "kernelspec": {
   "display_name": "Python 3",
   "language": "python",
   "name": "python3"
  },
  "language_info": {
   "codemirror_mode": {
    "name": "ipython",
    "version": 3
   },
   "file_extension": ".py",
   "mimetype": "text/x-python",
   "name": "python",
   "nbconvert_exporter": "python",
   "pygments_lexer": "ipython3",
   "version": "3.7.3"
  }
 },
 "nbformat": 4,
 "nbformat_minor": 4
}
