{
 "cells": [
  {
   "cell_type": "markdown",
   "metadata": {},
   "source": [
    "©2020 Víctor A. Bettachini  \n",
    "DF, FCEyN, UBA  \n",
    "---"
   ]
  },
  {
   "cell_type": "markdown",
   "metadata": {},
   "source": [
    "# Ejercicio 4 | Enunciado\n",
    "Se tiene un dispositivo como el que se muestra en la figura, formado por una red dispuesta entre dos lentes. La red es iluminada por dos fuentes $S_1$ y $S_2$ que emiten luz con la misma irradiancia, pero con longitudes de onda $\\lambda_1$ y $\\lambda_2$ respectivamente.\n",
    "Se sabe que la red es de rendijas, pero no se conocen su número \\\\(N\\\\), ancho \\\\(b\\\\) o período de la red \\\\(d\\\\)."
   ]
  },
  {
   "cell_type": "code",
   "execution_count": 9,
   "metadata": {},
   "outputs": [
    {
     "data": {
      "image/png": "[encoded data removed]",
      "text/plain": [
       "<IPython.core.display.Image object>"
      ]
     },
     "metadata": {
      "image/png": {
       "width": 600
      }
     },
     "output_type": "display_data"
    }
   ],
   "source": [
    "from IPython.display import Image\n",
    "from IPython.display import display\n",
    "try:\n",
    "  import google.colab\n",
    "  imagen = Image(url= \"https://drive.google.com/uc?id=1gJjoOUx5Mq5msSBFmgV3-8MJl_7K6WN5\", width=600)\n",
    "except:\n",
    "  imagen = Image(filename= \"ej5-43.png\", width=600)\n",
    "display(imagen)"
   ]
  },
  {
   "cell_type": "markdown",
   "metadata": {},
   "source": [
    "Para poder caracterizarla, se realizan observaciones de la figura de difracción--interferencia producida en el plano de observación.\n",
    "A partir de lo cual se logra determinar que:\n",
    "\n",
    "1. El orden \\\\(-1\\\\) de interferencia correspondiente a \\\\(\\lambda_2\\\\) se encuentra una distancia \\\\(a_0\\\\) por encima del orden \\\\(+1\\\\) correspondiente a \\\\(\\lambda_1\\\\). \n",
    "2. El ancho de la campana de difracción correspondiente a \\\\(\\lambda_1\\\\) es \\\\(d_0\\\\).\n",
    "\n",
    "Datos: \\\\(\\sin(\\theta_0) = 0.01\\\\); distancia focal de la lente \\\\(L_2 = 3\\,\\mathrm{m}\\\\); $\\lambda_1 = 4000\\,\\mathrm{A}$ y $\\lambda_2 = 5000\\,\\mathrm{A}$; $a_0 = 0.1\\,\\mathrm{mm}$; $d_0 = 10\\,\\mathrm{cm}$.\n",
    "\n",
    "1. Dar la expresión para la distribución de irradiancia que se observa en la pantalla y justificar por qué la escribe así.\n",
    "Hacer un gráfico muy cualitativo de dicha distribución (que dé una idea básica de lo que se va a observar).\n",
    "2. Determinar las posiciones angulares de todos los ceros de interferencia y difracción. \n",
    "3. Determinar las posiciones de los órdenes de interferencia.\n",
    "4. Encontrar los parámetros de la red $b$ y $d$. \n",
    "5. Ambos órdenes (¡cuidado; se trata de órdenes diferentes!) están suficientemente separados entre sí, según el criterio de Rayleigh. Hallar una cota\tpara $N$. \n"
   ]
  },
  {
   "cell_type": "markdown",
   "metadata": {},
   "source": [
    "# Ejercicio 4 | Resolucíon"
   ]
  },
  {
   "cell_type": "markdown",
   "metadata": {},
   "source": [
    "Si los \\\\(\\theta \\sim 0\\\\) se puede utilizar la aproximación \\\\( \\sin{(\\theta_M)} \\simeq \\tan{(\\theta_M)} = \\frac{ x_M }{ L_2 } \\\\), siendo \\\\(L_2\\\\) la distancia focal de la lente que enfoca en la pantalla, tenemos para el emisor \\\\(S_2\\\\) su \\\\(M_2 = -1\\\\) en\n",
    "$$\n",
    "    \\frac{ x_{M2} }{ L_2 } \\simeq (-1) \\frac{\\lambda_2}{d} + \\sin(\\theta_{i2}),\n",
    "$$\n",
    "y para el emisor \\\\(S_1\\\\) su \\\\(M_1 = 1\\\\) en\n",
    "$$\n",
    "    \\frac{ x_{M1} }{ L_2 } \\simeq (1) \\frac{\\lambda_1}{d},\n",
    "$$\n",
    "y sabemos también que\n",
    "$$\n",
    "    x_{M2} - x_{M1} = a_0.\n",
    "$$\n",
    "Por tanto\n",
    "$$\n",
    "\\begin{aligned}\n",
    "a_0 &\\simeq L_2 \\left( - \\frac{\\lambda_2 + \\lambda_1}{d} + \\sin(\\theta_{i2}) \\right) \\\\\n",
    "\\frac{a_0}{L_2} - \\sin(\\theta_{i2}) &\\simeq  - \\frac{\\lambda_2 + \\lambda_1}{d}   \\\\\n",
    "d &\\simeq  \\frac{\\lambda_2 + \\lambda_1}{\\sin(\\theta_{i2}) - \\frac{a_0}{L_2} }\n",
    "\\end{aligned}\n",
    "$$"
   ]
  },
  {
   "cell_type": "markdown",
   "metadata": {},
   "source": [
    "## d.\n",
    "Para una red transmisión cada máximo de interferencia \\\\(M\\\\) se presenta en \\\\(\\theta_M\\\\) según \n",
    "\\\\[\n",
    "n \\sin(\\theta_M) - n_i \\sin(\\theta_i) = M \\frac{\\lambda_0}{d}.\n",
    "\\\\]"
   ]
  },
  {
   "cell_type": "code",
   "execution_count": 1,
   "metadata": {},
   "outputs": [],
   "source": [
    "import numpy as np"
   ]
  },
  {
   "cell_type": "code",
   "execution_count": 5,
   "metadata": {},
   "outputs": [
    {
     "data": {
      "text/plain": [
       "9.030100334448161e-05"
      ]
     },
     "execution_count": 5,
     "metadata": {},
     "output_type": "execute_result"
    }
   ],
   "source": [
    "lambda_1 = 4000 * 1E-10 # [m]\n",
    "lambda_2 = 5000 * 1E-10 # [m]\n",
    "sin_theta_i2 = 0.01\n",
    "a_0 = 0.1 * 1E-3 # [m]\n",
    "L_2 = 3 # [m]\n",
    "d = ( lambda_1 + lambda_2 )/( sin_theta_i2 - ( a_0 / L_2 ) )\n",
    "d"
   ]
  },
  {
   "cell_type": "markdown",
   "metadata": {},
   "source": [
    "## e.\n",
    "El enunciado indica que ambas líneas espectrales pueden resolverse, en términos del criterio de Rayleigh.\n",
    "Este criterio indica que la distancia entre máximos de estas líneas supera el que hay entre uno de sus máximos y su mínimo adyacente.\n",
    "\n",
    "La distancia entre los máximos es la referida en el punto anterior \\\\(a_0\\\\).\n",
    "\n",
    "### Distancia entre máximo y mínimo adyacente\n",
    "Los mínimos se encuentran en\n",
    "\\\\[\n",
    "\\sin(\\theta_m) = m \\frac{\\lambda_0}{d n N} + \\sin(\\theta_{i}).\n",
    "\\\\]\n",
    "Los mínimos los numeramos con \\\\(m = 1,2, \\dots, N-1, N+1, N+2, \\dots\\\\) pues los múltiplos enteros de \\\\(N\\\\) corresponden a los máximos.\n",
    "\n",
    "Para el análisis utilizo el mínimo debajo de la línea de \\\\(\\lambda_2\\\\) correspondiente a su máximo de orden \\\\(M=-1\\\\), que se encuentra en\n",
    "$$\n",
    "\\frac{ x_{\\lambda_2, M=-1} }{ L_2 } \\simeq \\sin(\\theta_{\\lambda_2, M=-1}) = (-1) \\frac{\\lambda_2}{d} + \\sin(\\theta_{i2}),\n",
    "$$\n",
    "Así el mínimo mínimo será el de \\\\(m= -N -1 = - (N+1)\\\\) en\n",
    "$$\n",
    "\\frac{ x_{\\lambda_2,m=- (N+1)} }{ L_2 } \\simeq \\sin(\\theta_{\\lambda_2,m=- (N+1)}) = -(N+1) \\frac{\\lambda_2}{d N} + \\sin(\\theta_{i2}) = - \\left(1 + \\frac{1}{N} \\right) \\frac{\\lambda_2}{d} + \\sin(\\theta_{i2}).\n",
    "$$\n",
    "Así el máximo está más arriba de esto mínimo por\n",
    "$$\n",
    "x_{\\lambda_2, M=-1} - x_{\\lambda_2,m=- (N+1)} \\simeq L_2 \\left[ (-1) \\frac{\\lambda_2}{d} + \\sin(\\theta_{i2}) \\right] - L_2 \\left[ - \\left(1 + \\frac{1}{N} \\right) \\frac{\\lambda_2}{d} + \\sin(\\theta_{i2}) \\right]\n",
    "= \\frac{L_2 \\lambda_2}{N d}. \n",
    "$$"
   ]
  },
  {
   "cell_type": "markdown",
   "metadata": {},
   "source": [
    "### Obtención de cota para N\n",
    "Ahora basta utilizar el criterio de Rayleigh que establece\n",
    "$$\n",
    "\\frac{L_2 \\lambda_2}{N d } < a_0 \\implies \\frac{L_2 \\lambda_2}{d a_0} < N\n",
    "$$\n",
    "donde antes de continuar utilizamos la expresión para \\\\(d\\\\) obtenida en el punto anterior\n",
    "$$\n",
    "\\frac{L_2 \\lambda_2}{a_0} \\frac{\\sin(\\theta_{i2}) - \\frac{a_0}{L_2} } {\\lambda_2 + \\lambda_1} =\n",
    "\\frac{\\frac{L_2}{a_0} \\sin(\\theta_{i2}) - 1 } {1 + \\frac{\\lambda_1}{\\lambda_2} }\n",
    "< N\n",
    "$$"
   ]
  },
  {
   "cell_type": "code",
   "execution_count": 7,
   "metadata": {},
   "outputs": [
    {
     "data": {
      "text/plain": [
       "166.1111111111111"
      ]
     },
     "execution_count": 7,
     "metadata": {},
     "output_type": "execute_result"
    }
   ],
   "source": [
    "N_min = ( (L_2/a_0)* sin_theta_i2 - 1) / (1 + lambda_1/ lambda_2)\n",
    "N_min"
   ]
  },
  {
   "cell_type": "markdown",
   "metadata": {},
   "source": [
    "Se establece así que que \\\\(167 \\leq N\\\\).\n",
    "\n",
    "Queda como tarea pendiente hacer el análisis con el mínimo adyacente hacia arriba a la línea espectral de orden \\\\(M=1\\\\) para \\\\(\\lambda_1\\\\) para si la cota de \\\\(N\\\\) es aún más restrictiva en este caso. "
   ]
  },
  {
   "cell_type": "code",
   "execution_count": null,
   "metadata": {},
   "outputs": [],
   "source": []
  }
 ],
 "metadata": {
  "kernelspec": {
   "display_name": "Python 3",
   "language": "python",
   "name": "python3"
  },
  "language_info": {
   "codemirror_mode": {
    "name": "ipython",
    "version": 3
   },
   "file_extension": ".py",
   "mimetype": "text/x-python",
   "name": "python",
   "nbconvert_exporter": "python",
   "pygments_lexer": "ipython3",
   "version": "3.7.3"
  }
 },
 "nbformat": 4,
 "nbformat_minor": 4
}
