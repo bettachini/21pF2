{
 "cells": [
  {
   "cell_type": "markdown",
   "metadata": {},
   "source": [
    "©2020 Víctor A. Bettachini  \n",
    "DF, FCEyN, UBA  \n",
    "---"
   ]
  },
  {
   "cell_type": "markdown",
   "metadata": {},
   "source": [
    "# Ejercicio 5 | Enunciado\n",
    "Se desea estudiar la estructura de una banda en la proximidad de \\\\(4300\\,\\mathrm{A}\\\\), utilizando una red plana de reflexión de \\\\(10\\,\\mathrm{cm}\\\\) y una densidad de líneas de \\\\(1200\\,\\mathrm{mm^{-1}}\\\\).\n",
    "Hallar:   \n",
    "1. El máximo orden observable.  \n",
    "2. El mínimo ángulo de incidencia para el cual se observa.   \n",
    "3. El mínimo intervalo de longitudes de onda resueltas.   \n",
    "3. El orden intensificado.\n",
    "¿Es ventajoso?\n",
    "Justifique su respuesta. "
   ]
  },
  {
   "cell_type": "markdown",
   "metadata": {},
   "source": [
    "# Ejercicio 5 | Resolucíon\n",
    "Previo a analizar cada punto revisamos las convenciones para una red de difracción por reflexión.\n",
    "En la ilustración se designa con \\\\(a\\\\) la distancia entre ranuras que en el curso designamos con \\\\(d\\\\) y que corresponde al recíproco de la densidad de líneas \\\\(\\delta\\\\).\n",
    "Para una red reflexión cada máximo de interferencia \\\\(M\\\\) se presenta en \\\\(\\theta_M\\\\) según \n",
    "\\\\[\n",
    "n \\sin(\\theta_M) + n_i \\sin(\\theta_i) = M \\frac{\\lambda_0}{d}.\n",
    "\\\\]\n",
    "\n",
    "El orden *intensificado*, correspondiente al máximo de la campana de difracción, \\\\(M= 0\\\\) se produce para la reflexión especular, donde \\\\(\\theta_M = - \\theta_i\\\\) si se respeta la convención de que un ángulo en sentido horario es negativo."
   ]
  },
  {
   "cell_type": "code",
   "execution_count": 18,
   "metadata": {},
   "outputs": [
    {
     "data": {
      "image/png": "[encoded data removed]",
      "text/plain": [
       "<IPython.core.display.Image object>"
      ]
     },
     "metadata": {
      "image/png": {
       "width": 300
      }
     },
     "output_type": "display_data"
    }
   ],
   "source": [
    "from IPython.display import Image\n",
    "try:\n",
    "  import google.colab\n",
    "  imagen = Image(url= \"https://drive.google.com/uc?id=1LHH7_PSqWlBpt-GqH34zd7mwfcTdKoCi\", width=300)\n",
    "except:\n",
    "  imagen = Image(filename= \"Reflective_Grating_Diagram_300.png\", width=300)\n",
    "display(imagen)"
   ]
  },
  {
   "cell_type": "markdown",
   "metadata": {},
   "source": [
    "## 1.\n",
    "La mayor contribución al término de la izquierda de \\\\(\\theta_M\\\\) y \\\\(\\theta_i\\\\) imponen un límite a \\\\(M\\\\),\n",
    "\\\\[\n",
    "n + n_i > n \\sin(\\theta_M) + n_i \\sin(\\theta_i) = M \\frac{\\lambda_0}{d},\n",
    "\\\\]\n",
    "donde \\\\(\\theta_i\\\\) y \\\\(\\theta_M\\\\) están *del mismo lado* de red, y están limitados por la geometría a no poder exceder \\\\(\\frac{\\pi}{2}\\\\).\n",
    "Tomando como referencia la ilustración anterior, esto sería que ambos incidente y observado están arriba o ambos debajo de la red.\n",
    "\n",
    "Para el caso en que \\\\(n = n_i = 1\\\\) lo anterior implica\n",
    "\\\\[\n",
    "\\frac{2 d }{\\lambda_0} > M.\n",
    "\\\\]\n",
    "Del enunciado conocemos \\\\(d\\\\) siendo la inversa de la densidad de líneas, por tanto\n",
    "\\\\[\n",
    "\\frac{2\\,10^{-3} }{1.2\\,10^3 4.3\\,10^{-7}} > M.\n",
    "\\\\]\n"
   ]
  },
  {
   "cell_type": "code",
   "execution_count": 9,
   "metadata": {},
   "outputs": [
    {
     "data": {
      "text/plain": [
       "3.875968992248062"
      ]
     },
     "execution_count": 9,
     "metadata": {},
     "output_type": "execute_result"
    }
   ],
   "source": [
    "d = 1E-3/(1200)\n",
    "lambda_val = 4300E-10\n",
    "2*d/ lambda_val"
   ]
  },
  {
   "cell_type": "markdown",
   "metadata": {},
   "source": [
    "Por tanto el máximo orden observable es \\\\(M=3\\\\)."
   ]
  },
  {
   "cell_type": "markdown",
   "metadata": {},
   "source": [
    "## 2.\n",
    "Para el \\\\(M= 3\\\\) su mínimo ángulo será para el \\\\(\\theta_M\\\\) más próximo a \\\\(\\frac{\\pi}{2}\\\\).\n",
    "\\\\[\n",
    "n + n_i \\sin(\\theta_i) > n \\sin(\\theta_M) + n_i \\sin(\\theta_i) = 3 \\frac{\\lambda_0}{d}.\n",
    "\\\\]\n",
    "Si nuevamente contemplamos el caso en que \\\\(n = n_i = 1\\\\)\n",
    "\\\\[\n",
    "\\sin(\\theta_i) > 3 \\frac{\\lambda_0}{d} - 1,\n",
    "\\\\]\n"
   ]
  },
  {
   "cell_type": "code",
   "execution_count": 4,
   "metadata": {},
   "outputs": [],
   "source": [
    "import numpy as np"
   ]
  },
  {
   "cell_type": "code",
   "execution_count": 12,
   "metadata": {},
   "outputs": [
    {
     "data": {
      "text/plain": [
       "33.22991251742954"
      ]
     },
     "execution_count": 12,
     "metadata": {},
     "output_type": "execute_result"
    }
   ],
   "source": [
    "theta_i_min = np.arcsin((3* lambda_val/ d)- 1 ) # [radianes]\n",
    "theta_i_min* 180.0/np.pi # [grados]"
   ]
  },
  {
   "cell_type": "markdown",
   "metadata": {},
   "source": [
    "El mínimo ángulo de incidencia para llegar a observar el tercer orden es \\\\(\\approx 33.3 \\mathrm{^\\circ}\\\\)."
   ]
  },
  {
   "cell_type": "markdown",
   "metadata": {},
   "source": [
    "## 3.\n",
    "Utilizando la definición de poder resolvente basada en el criterio de Rayleigh (leer y entender, no usar a ciegas)\n",
    "\\\\[\n",
    "    M N > \\frac{\\lambda}{\\Delta \\lambda} \\implies \\Delta \\lambda > \\frac{\\lambda}{M N} = \\frac{\\lambda}{M \\delta D} = \\frac{\\lambda d }{M D},\n",
    "\\\\]\n",
    "donde \\\\(\\delta\\\\) es la densidad de líneas y \\\\(D\\\\) la longitud de la red.\n",
    "El caso más propicio es el del máximo orden observable."
   ]
  },
  {
   "cell_type": "code",
   "execution_count": 17,
   "metadata": {},
   "outputs": [
    {
     "data": {
      "text/plain": [
       "0.011944444444444442"
      ]
     },
     "execution_count": 17,
     "metadata": {},
     "output_type": "execute_result"
    }
   ],
   "source": [
    "D = 10E-2\n",
    "deltaLambda = lambda_val* d/ (3* D) # [m]\n",
    "deltaLambda* 1E10 # [Angstrom]"
   ]
  },
  {
   "cell_type": "markdown",
   "metadata": {},
   "source": [
    "La miníma diferencia de \\\\(\\lambda\\\\) discenible es \\\\(\\approx 0.012\\\\) angstrom."
   ]
  },
  {
   "cell_type": "markdown",
   "metadata": {},
   "source": [
    "## 4.\n",
    "El orden *intensificado* no es el adecuado para discernir entre distintas \\\\(\\lambda\\\\), pues en él todas las líneas se superponen.\n",
    "Esta es la razón de porqué se utilizar redes con patrón o *blaze*, en las que se intensifica algún \\\\(M \\neq 0\\\\)."
   ]
  }
 ],
 "metadata": {
  "kernelspec": {
   "display_name": "Python 3",
   "language": "python",
   "name": "python3"
  },
  "language_info": {
   "codemirror_mode": {
    "name": "ipython",
    "version": 3
   },
   "file_extension": ".py",
   "mimetype": "text/x-python",
   "name": "python",
   "nbconvert_exporter": "python",
   "pygments_lexer": "ipython3",
   "version": "3.7.3"
  }
 },
 "nbformat": 4,
 "nbformat_minor": 4
}
