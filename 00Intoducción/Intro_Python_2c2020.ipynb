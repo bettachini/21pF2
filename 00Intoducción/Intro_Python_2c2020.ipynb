{
  "nbformat": 4,
  "nbformat_minor": 0,
  "metadata": {
    "colab": {
      "name": "Intro_Python_2c2020.ipynb",
      "provenance": []
    },
    "kernelspec": {
      "name": "python3",
      "display_name": "Python 3"
    }
  },
  "cells": [
    {
      "cell_type": "markdown",
      "metadata": {
        "id": "iGvyzqltAcze"
      },
      "source": [
        "#Introducción a python\n",
        "\n",
        "<figure>\n",
        "<center>\n",
        "<img src='https://imgs.xkcd.com/comics/good_code.png'  width=\"\" height=\"500\"/>\n",
        "</center>\n",
        "</figure>\n",
        "\n",
        "\n",
        "##¿Qué es Python, qué es Colab?\n",
        "Python es un lenguaje de programación ¿qué significa esto? Es el código con el que escribimos, lo podemos escribir acá en un notebook de colab como lo estamos haciendo, en algún otro software pensado para python o directamente en un bloc de notas, no importa donde lo hagamos siempre seguirá siendo python.\n",
        "\n",
        "Por otro lado, Colab es una IDE (entorno de desarrollo integrado), es el soporte sobre el cuál escribimos, hay varios y más adelante podrán usar otros y elegir el que más les guste, por ahora usaremos Colab, por último, cuando hablamos de Notebook, hablamos del archivo en particular que estamos usando en un momento especifico."
      ]
    },
    {
      "cell_type": "markdown",
      "metadata": {
        "id": "ebe0ES9eLWxY"
      },
      "source": [
        "Para recorrer este notebook les propongo que lean lo que ponemos pero que también lo usen. Si entran en archivo --> abrir modo playground, pueden modificarlo y jugar todo lo que gusten, lo cual es altamente recomendable hacer. Las dudas más comunes que aparecen cuando unx lee son: ¿Se puede hacer tal cosa? ¿Se podrá hacer de otra manera? ¿Qué pasa si hago tal cosa? Las mejores respuestas siempre las van a poder tener probandolo.\n",
        "\n",
        "##A trabajar\n",
        "\n",
        "En la celda de abajo van a ver el comando más famoso de python ¿Qué hace?"
      ]
    },
    {
      "cell_type": "code",
      "metadata": {
        "id": "5zcrEw6RL2He",
        "colab": {
          "base_uri": "https://localhost:8080/",
          "height": 34
        },
        "outputId": "acbe9c97-e636-48ac-957b-9806394d21ad"
      },
      "source": [
        "print('hola mundo')"
      ],
      "execution_count": null,
      "outputs": [
        {
          "output_type": "stream",
          "text": [
            "hola mundo\n"
          ],
          "name": "stdout"
        }
      ]
    },
    {
      "cell_type": "markdown",
      "metadata": {
        "id": "SVAFo3v-L7e9"
      },
      "source": [
        "##Python funciona como una calculadora\n",
        "Pueden sumar, restar, multiplicar, dividir, elevar un número a alguna potencia."
      ]
    },
    {
      "cell_type": "code",
      "metadata": {
        "id": "YBf8f7ECMdy-",
        "colab": {
          "base_uri": "https://localhost:8080/",
          "height": 34
        },
        "outputId": "b7df92fb-1dd7-4b86-acf3-c37c15900dc0"
      },
      "source": [
        "1+2"
      ],
      "execution_count": null,
      "outputs": [
        {
          "output_type": "execute_result",
          "data": {
            "text/plain": [
              "3"
            ]
          },
          "metadata": {
            "tags": []
          },
          "execution_count": 1
        }
      ]
    },
    {
      "cell_type": "code",
      "metadata": {
        "id": "4BXpxZ0JMi1d",
        "colab": {
          "base_uri": "https://localhost:8080/",
          "height": 34
        },
        "outputId": "28fe8e20-27b8-4e3f-d42f-f4c9c4bef4fe"
      },
      "source": [
        "8*4"
      ],
      "execution_count": null,
      "outputs": [
        {
          "output_type": "execute_result",
          "data": {
            "text/plain": [
              "32"
            ]
          },
          "metadata": {
            "tags": []
          },
          "execution_count": 2
        }
      ]
    },
    {
      "cell_type": "markdown",
      "metadata": {
        "id": "sE52LUXGMj3O"
      },
      "source": [
        "¡Cuidado! Si escribo más de un renglón en una celda hace todas las cuentas pero me muestra solo la última"
      ]
    },
    {
      "cell_type": "code",
      "metadata": {
        "id": "mYY4dlKoMsLI",
        "colab": {
          "base_uri": "https://localhost:8080/",
          "height": 34
        },
        "outputId": "0bf7f0ac-f643-438e-9623-e74242ce032a"
      },
      "source": [
        "1+1\n",
        "8*5"
      ],
      "execution_count": null,
      "outputs": [
        {
          "output_type": "execute_result",
          "data": {
            "text/plain": [
              "40"
            ]
          },
          "metadata": {
            "tags": []
          },
          "execution_count": 9
        }
      ]
    },
    {
      "cell_type": "markdown",
      "metadata": {
        "id": "rNkABDw6MuVY"
      },
      "source": [
        "Por eso usamos la función print si queremos que se muestre algo que no está al final"
      ]
    },
    {
      "cell_type": "code",
      "metadata": {
        "id": "thvm0NpAM05v",
        "colab": {
          "base_uri": "https://localhost:8080/",
          "height": 104
        },
        "outputId": "941920a6-7d66-49e6-81c4-17878bb7a44c"
      },
      "source": [
        "print(7+2)\n",
        "print(7*3)\n",
        "print(7/2)\n",
        "print(5**2)\n",
        "print(25**0.5)"
      ],
      "execution_count": null,
      "outputs": [
        {
          "output_type": "stream",
          "text": [
            "9\n",
            "21\n",
            "3.5\n",
            "25\n",
            "5.0\n"
          ],
          "name": "stdout"
        }
      ]
    },
    {
      "cell_type": "markdown",
      "metadata": {
        "id": "X8pmz5SGM1s4"
      },
      "source": [
        "##Variables\n",
        "\n",
        "Como en la calculadora, puedo guardar resultados en variables.\n",
        "Para hacerlo solo tengo que elegir el nombre de mi variable (no puede empezar con un número) y guardar el número que quiero en esa variable usando un igual como se muestra en la celda de abajo\n"
      ]
    },
    {
      "cell_type": "code",
      "metadata": {
        "id": "zGSI_NzyNOpI",
        "colab": {
          "base_uri": "https://localhost:8080/",
          "height": 34
        },
        "outputId": "081d5e70-4b8c-483b-c57d-6f3cd52781af"
      },
      "source": [
        "a = 3\n",
        "b = 2\n",
        "lala = a*b\n",
        "print(lala)"
      ],
      "execution_count": null,
      "outputs": [
        {
          "output_type": "stream",
          "text": [
            "6\n"
          ],
          "name": "stdout"
        }
      ]
    },
    {
      "cell_type": "markdown",
      "metadata": {
        "id": "SIOnbH5jNRLn"
      },
      "source": [
        "Ojo, el igual en computación se le llama asignación. A la derecha del igual se hacen todas las cuentas y el resultado se guarda en el símbolo de la izquierda\n",
        "\n",
        "¿Cómo resuelve las cuentas? ¿Orden de escritura u orden matemático?\n"
      ]
    },
    {
      "cell_type": "code",
      "metadata": {
        "id": "s8HWArePNdBO",
        "colab": {
          "base_uri": "https://localhost:8080/",
          "height": 52
        },
        "outputId": "82996b44-0414-4396-e437-e9776ac26fff"
      },
      "source": [
        "pepe = 5+4*2\n",
        "pepe2 = 5+(4*2)\n",
        "print(pepe)\n",
        "print(pepe2)"
      ],
      "execution_count": null,
      "outputs": [
        {
          "output_type": "stream",
          "text": [
            "13\n",
            "13\n"
          ],
          "name": "stdout"
        }
      ]
    },
    {
      "cell_type": "markdown",
      "metadata": {
        "id": "BrbgCsEGNknu"
      },
      "source": [
        "Estas variables que estamos creando, son de diferentes tipos. Para saber el tipo de variable que estoy usando, se lo puedo preguntar a Mr Python. Por ahora usamos tres tipos de variables, enteras (int, de integer en inglés), float (de número de punto flotante) y texto (str de string)."
      ]
    },
    {
      "cell_type": "code",
      "metadata": {
        "id": "fTnmWyZVPBDK",
        "colab": {
          "base_uri": "https://localhost:8080/",
          "height": 86
        },
        "outputId": "6450273a-4f1e-4544-d1e2-aa442412a136"
      },
      "source": [
        "Materia = 'Fisica 2'\n",
        "a = 2\n",
        "b = 7/3\n",
        "c = 2.4 #OJO, LAS COMAS ACÁ VAN COMO PUNTOS \n",
        "\n",
        "#Le pido que me de el tipo de variable con type(variable) y despúes le pido que lo imprima, si queremos saber qué hace algo lo leemos de adentro hacia afuera\n",
        "print(type(Materia)) \n",
        "print(type(a))\n",
        "print(type(b))\n",
        "print(type(c))\n"
      ],
      "execution_count": null,
      "outputs": [
        {
          "output_type": "stream",
          "text": [
            "<class 'str'>\n",
            "<class 'int'>\n",
            "<class 'float'>\n",
            "<class 'float'>\n"
          ],
          "name": "stdout"
        }
      ]
    },
    {
      "cell_type": "markdown",
      "metadata": {
        "id": "AoFi5NteQSb5"
      },
      "source": [
        "Los strings se pueden sumar, pero la suma de strings lo que hace es concatenarlos"
      ]
    },
    {
      "cell_type": "code",
      "metadata": {
        "id": "hn2CfRUJQnGN",
        "colab": {
          "base_uri": "https://localhost:8080/",
          "height": 34
        },
        "outputId": "31be2a8c-a8fa-4993-fba5-16073cc78ed2"
      },
      "source": [
        "Materia = 'Fisica 2'\n",
        "Nombre = 'Milton'\n",
        "\n",
        "print(Nombre + ' es ayudante de ' + Materia)"
      ],
      "execution_count": null,
      "outputs": [
        {
          "output_type": "stream",
          "text": [
            "Milton es ayudante de Fisica 2\n"
          ],
          "name": "stdout"
        }
      ]
    },
    {
      "cell_type": "markdown",
      "metadata": {
        "id": "4QIPHmaHQ3dt"
      },
      "source": [
        "Ojo! hay tipos de variables que no se pueden sumar, si sumo float + int todo barbaro pero si sumo string + int Python no sabe lo que hacer. Si quiero que estos se sumen como sumaba el texto antes de hacerlo tengo que convertir todo a texto."
      ]
    },
    {
      "cell_type": "code",
      "metadata": {
        "id": "J7WI3UQYR8bS",
        "colab": {
          "base_uri": "https://localhost:8080/",
          "height": 34
        },
        "outputId": "072f82da-e80e-4ce5-f51c-8e4b1d4ca129"
      },
      "source": [
        "a = 2+3\n",
        "print('El resultado de la cuenta es ' + str(a))"
      ],
      "execution_count": null,
      "outputs": [
        {
          "output_type": "stream",
          "text": [
            "El resultado de la cuenta es 5\n"
          ],
          "name": "stdout"
        }
      ]
    },
    {
      "cell_type": "markdown",
      "metadata": {
        "id": "cEncg25Jrx2I"
      },
      "source": [
        "Otra forma de concatenar strings son los f-string que se usan poniendo una f antes de abrir las comillas"
      ]
    },
    {
      "cell_type": "code",
      "metadata": {
        "id": "ChA_jy9lr_HI",
        "colab": {
          "base_uri": "https://localhost:8080/",
          "height": 34
        },
        "outputId": "cfbc5e49-d6c0-48c2-ff82-210b075cbd6b"
      },
      "source": [
        "m = 2 #Kg\n",
        "a = 4 #m/s^2\n",
        "fuerza = m*a\n",
        "\n",
        "print(f'La fuerza es de {fuerza} N')"
      ],
      "execution_count": null,
      "outputs": [
        {
          "output_type": "stream",
          "text": [
            "La fuerza es de 8 N\n"
          ],
          "name": "stdout"
        }
      ]
    },
    {
      "cell_type": "markdown",
      "metadata": {
        "id": "fVODhLoFRUHh"
      },
      "source": [
        "## Otro tipo de variables más. Booleanas\n",
        "\n",
        "Además de todas la que vimos también tenemos un tipo de datos que se llaman booleanos, o lógicos. Pueden tomar solo dos valores: True o False. \n",
        "Se puede operar con estas variables con funciones lógicas como not, or, and\n"
      ]
    },
    {
      "cell_type": "code",
      "metadata": {
        "id": "wXYS7Vy4V4-H",
        "colab": {
          "base_uri": "https://localhost:8080/",
          "height": 69
        },
        "outputId": "c53666ac-4a0a-48df-bd9f-97946fb5098d"
      },
      "source": [
        "algo = True\n",
        "print(algo)\n",
        "print(not algo)\n",
        "print(2*algo)"
      ],
      "execution_count": null,
      "outputs": [
        {
          "output_type": "stream",
          "text": [
            "True\n",
            "False\n",
            "2\n"
          ],
          "name": "stdout"
        }
      ]
    },
    {
      "cell_type": "markdown",
      "metadata": {
        "id": "k3bYGP69V-4e"
      },
      "source": [
        "Las comparaciones dan variable booleanas"
      ]
    },
    {
      "cell_type": "code",
      "metadata": {
        "id": "bYXdNQxUWFMW",
        "colab": {
          "base_uri": "https://localhost:8080/",
          "height": 86
        },
        "outputId": "e4cc3c99-8d60-41ee-869e-54903325984e"
      },
      "source": [
        "print(2==1)\n",
        "print(2==2)\n",
        "print(6>6)\n",
        "print(6>=6)"
      ],
      "execution_count": null,
      "outputs": [
        {
          "output_type": "stream",
          "text": [
            "False\n",
            "True\n",
            "False\n",
            "True\n"
          ],
          "name": "stdout"
        }
      ]
    },
    {
      "cell_type": "markdown",
      "metadata": {
        "id": "r8y_lXrwWF1_"
      },
      "source": [
        "\n",
        "\n",
        "\n",
        "\n",
        "\n",
        "\n",
        "\n",
        "\n",
        "\n",
        "\n",
        "\n",
        "\n",
        "\n",
        "\n",
        "\n",
        "\n",
        "\n",
        "\n",
        "\n",
        "\n",
        "\n",
        "\n",
        "\n",
        "\n",
        "\n",
        "\n",
        "\n",
        "\n",
        "\n",
        "\n",
        "\n",
        "Se pueden combinar mas de una condición\n"
      ]
    },
    {
      "cell_type": "code",
      "metadata": {
        "id": "m-iy3bjEWK8V",
        "colab": {
          "base_uri": "https://localhost:8080/",
          "height": 86
        },
        "outputId": "dcf3ba83-f62c-4e77-9aee-db0e1793b335"
      },
      "source": [
        "print(2==3 or 3<9)\n",
        "print(2==3 and 3<9)\n",
        "print(algo or 6<1)\n",
        "print(algo and 6<1)"
      ],
      "execution_count": null,
      "outputs": [
        {
          "output_type": "stream",
          "text": [
            "True\n",
            "False\n",
            "True\n",
            "False\n"
          ],
          "name": "stdout"
        }
      ]
    },
    {
      "cell_type": "markdown",
      "metadata": {
        "id": "OhD3USJCWL-J"
      },
      "source": [
        "##Listas\n",
        "\n",
        "Python tiene dos tipos de datos más que son muy útiles: las listas y los diccionarios. Por ahora vamos a ver solo las listas. Las listas son conjuntos ordenados. Se definen usando corchetes. Separados por coma se ponen los elementos. Éstos pueden ser cualquier tipo de datos: str, int, float e incluso otras listas!\n",
        "\n",
        "Puedo acceder a cada uno de sus elementos por separado usando []. Entre corchetes tengo que indicar la posición del elemento de la lista al cual quiero acceder. Ojo, python empieza a contar desde 0.\n",
        "\n"
      ]
    },
    {
      "cell_type": "code",
      "metadata": {
        "id": "ddp_UzEoWSNz",
        "colab": {
          "base_uri": "https://localhost:8080/",
          "height": 104
        },
        "outputId": "06eb24bb-d991-4708-d31b-9bf1863dab7a"
      },
      "source": [
        "foo = [2, 3, 8, -1, -5.2]\n",
        "print(foo)\n",
        "print(foo[1])\n",
        "temp2 = [4, 'hola', [4,5], a]\n",
        "print(temp2)\n",
        "print(temp2[2])\n",
        "print(foo[-1]) #Qué pasará acá?"
      ],
      "execution_count": null,
      "outputs": [
        {
          "output_type": "stream",
          "text": [
            "[2, 3, 8, -1, -5.2]\n",
            "3\n",
            "[4, 'hola', [4, 5], 4]\n",
            "[4, 5]\n",
            "-5.2\n"
          ],
          "name": "stdout"
        }
      ]
    },
    {
      "cell_type": "markdown",
      "metadata": {
        "id": "nyvjDyoxWhPs"
      },
      "source": [
        "\n",
        "\n",
        "\n",
        "\n",
        "\n",
        "\n",
        "\n",
        "\n",
        "\n",
        "\n",
        "\n",
        "\n",
        "\n",
        "\n",
        "\n",
        "\n",
        "\n",
        "\n",
        "\n",
        "\n",
        "\n",
        "\n",
        "\n",
        "\n",
        "\n",
        "\n",
        "\n",
        "\n",
        "\n",
        "\n",
        "\n",
        "Los elementos de una lista pueden modificarse\n"
      ]
    },
    {
      "cell_type": "code",
      "metadata": {
        "id": "Tty5Z9F4Wqst",
        "colab": {
          "base_uri": "https://localhost:8080/",
          "height": 34
        },
        "outputId": "fe696dfc-1784-425d-ca5f-d1545aa367b5"
      },
      "source": [
        "foo[2] = 99\n",
        "print(foo)"
      ],
      "execution_count": null,
      "outputs": [
        {
          "output_type": "stream",
          "text": [
            "[2, 3, 99, -1, -5.2]\n"
          ],
          "name": "stdout"
        }
      ]
    },
    {
      "cell_type": "markdown",
      "metadata": {
        "id": "5tZ_ycU_WsxT"
      },
      "source": [
        "Pero atención! una lista es, como el nombre lo indica, una lista, como cuando van al super y se anotan lo que van a comprar. Esto es distinto a un vector como los que usamos en clase. ¿La diferencia? Si sumo algo a una lista es que me acordé de algo más que quiero comprar en el súper, si le sumo algo al vector no debería pasar esto (ya vamos a ver vectores más adelante en este notebook)."
      ]
    },
    {
      "cell_type": "code",
      "metadata": {
        "id": "n52H5Ht8XiZ-",
        "colab": {
          "base_uri": "https://localhost:8080/",
          "height": 69
        },
        "outputId": "1df8f735-9f58-4c74-ec73-eec6e67fed09"
      },
      "source": [
        "print(foo)\n",
        "print(temp2)\n",
        "print(foo + temp2)"
      ],
      "execution_count": null,
      "outputs": [
        {
          "output_type": "stream",
          "text": [
            "[2, 3, 99, -1, -5.2]\n",
            "[4, 'hola', [4, 5], 4]\n",
            "[2, 3, 99, -1, -5.2, 4, 'hola', [4, 5], 4]\n"
          ],
          "name": "stdout"
        }
      ]
    },
    {
      "cell_type": "markdown",
      "metadata": {
        "id": "eMdHd_IZXqBH"
      },
      "source": [
        "##  Función range()  \n",
        "\n",
        "Muchas veces vamos a necesitar una lista de números naturales consecutivos. Hay un comando para eso! range. Para investigarlo vamos a hacer uso de una de las funciones más usadas dentro de Python. El help! A la ayuda vamos a acceder con una función y un signo de pregunta"
      ]
    },
    {
      "cell_type": "code",
      "metadata": {
        "id": "1zg_uH_jYwE5"
      },
      "source": [
        "range?"
      ],
      "execution_count": null,
      "outputs": []
    },
    {
      "cell_type": "code",
      "metadata": {
        "id": "7eTY7z1pYx0G",
        "colab": {
          "base_uri": "https://localhost:8080/",
          "height": 86
        },
        "outputId": "15d026e4-26b6-42df-c299-d598c0a42ff0"
      },
      "source": [
        "f =range(5)\n",
        "print(f[1])\n",
        "g = range(2,9)\n",
        "print(g[4])\n",
        "h = range(2,20, 3) #range(start, stop, step)\n",
        "print(h) \n",
        "print(h[5])"
      ],
      "execution_count": null,
      "outputs": [
        {
          "output_type": "stream",
          "text": [
            "1\n",
            "6\n",
            "range(2, 20, 3)\n",
            "17\n"
          ],
          "name": "stdout"
        }
      ]
    },
    {
      "cell_type": "markdown",
      "metadata": {
        "id": "Qd2zyAV6Z2eN"
      },
      "source": [
        "## Ciclos y condicionales\n",
        "\n",
        "Llegamos a la parte donde se empieza a volver más útil tener una computadora con Python que una hoja y una lapicera (Sí, además de ser más cool tiene algunas ventajas). El for me va a permitir repetir una secuencia de comandos (iterar) sobre los distintos elementos de una lista.\n",
        "\n"
      ]
    },
    {
      "cell_type": "code",
      "metadata": {
        "id": "0y2tMyK2Z9cs",
        "colab": {
          "base_uri": "https://localhost:8080/",
          "height": 121
        },
        "outputId": "7b5ad0ac-5c46-44d7-e32f-7986c2d18b18"
      },
      "source": [
        "for i in foo: #Dentro del for, el elemento que esté usando en esa vuelta se llamará i\n",
        "  print(i) #La forma de decirle a Python que seguimos dentro del for es indentar la linea, esta está dentro y se repite cada vez\n",
        "\n",
        "print(foo) # Esta linea no está indentada así que se ejecuta una sola vez "
      ],
      "execution_count": null,
      "outputs": [
        {
          "output_type": "stream",
          "text": [
            "2\n",
            "3\n",
            "99\n",
            "-1\n",
            "-5.2\n",
            "[2, 3, 99, -1, -5.2]\n"
          ],
          "name": "stdout"
        }
      ]
    },
    {
      "cell_type": "markdown",
      "metadata": {
        "id": "SamaqoNqahpj"
      },
      "source": [
        "##Condicional, If\n",
        "\n",
        "El if es un comando que nos va a permitir pedirle a Python, según alguna condición que haga o no una cosa"
      ]
    },
    {
      "cell_type": "code",
      "metadata": {
        "id": "fZn6ILkpbaA6",
        "colab": {
          "base_uri": "https://localhost:8080/",
          "height": 34
        },
        "outputId": "b6e22c34-4489-416a-ed35-0cc3cf4540f0"
      },
      "source": [
        "a = 7\n",
        "if a < 10:\n",
        "  print('El número es menor a 10')"
      ],
      "execution_count": null,
      "outputs": [
        {
          "output_type": "stream",
          "text": [
            "El número es menor a 10\n"
          ],
          "name": "stdout"
        }
      ]
    },
    {
      "cell_type": "markdown",
      "metadata": {
        "id": "ApSYMwx9c5VS"
      },
      "source": [
        "También podemos decirle qué hace si no se cumple la condición con el comando else"
      ]
    },
    {
      "cell_type": "code",
      "metadata": {
        "id": "Gc48Uea9dCKs",
        "colab": {
          "base_uri": "https://localhost:8080/",
          "height": 34
        },
        "outputId": "89807913-3004-4b2f-d023-a9500b386bc7"
      },
      "source": [
        "a = 7 \n",
        "if a <= 5:\n",
        "  print('el número es menor o igual a 5')\n",
        "else:\n",
        "  print('el número es mayor a 5')"
      ],
      "execution_count": null,
      "outputs": [
        {
          "output_type": "stream",
          "text": [
            "el número es mayor a 5\n"
          ],
          "name": "stdout"
        }
      ]
    },
    {
      "cell_type": "markdown",
      "metadata": {
        "id": "IDC1AWGBdQEZ"
      },
      "source": [
        "También podemos combinar el for y el if"
      ]
    },
    {
      "cell_type": "code",
      "metadata": {
        "id": "MHy0yQ-SdfP1",
        "colab": {
          "base_uri": "https://localhost:8080/",
          "height": 121
        },
        "outputId": "544508ef-80e4-4f40-964f-f72d736afbdb"
      },
      "source": [
        "print(foo)\n",
        "for i in foo:\n",
        "  if i <= 5:\n",
        "    print('el número ' + str(i) + ' es menor o igual a 5')\n",
        "  else:\n",
        "    print('el número ' + str(i) + ' es mayor a 5')\n",
        " \n",
        "#Observen las indentaciones, son súper importantes"
      ],
      "execution_count": null,
      "outputs": [
        {
          "output_type": "stream",
          "text": [
            "[2, 3, 99, -1, -5.2]\n",
            "el número 2 es menor o igual a 5\n",
            "el número 3 es menor o igual a 5\n",
            "el número 99 es mayor a 5\n",
            "el número -1 es menor o igual a 5\n",
            "el número -5.2 es menor o igual a 5\n"
          ],
          "name": "stdout"
        }
      ]
    },
    {
      "cell_type": "markdown",
      "metadata": {
        "id": "wixfbf8XdpQn"
      },
      "source": [
        "Otro ejemplo, ahora usando el comando break que rompe el for."
      ]
    },
    {
      "cell_type": "code",
      "metadata": {
        "id": "-3naJKyYehry",
        "colab": {
          "base_uri": "https://localhost:8080/",
          "height": 69
        },
        "outputId": "3a484794-c6ba-4c06-f6bd-c356f338cbde"
      },
      "source": [
        "print(foo)\n",
        "for i in foo:\n",
        "  if i <= 5:\n",
        "    print(i)\n",
        "  else:\n",
        "    break\n",
        " "
      ],
      "execution_count": null,
      "outputs": [
        {
          "output_type": "stream",
          "text": [
            "[2, 3, 99, -1, -5.2]\n",
            "2\n",
            "3\n"
          ],
          "name": "stdout"
        }
      ]
    },
    {
      "cell_type": "markdown",
      "metadata": {
        "id": "0VHp4ml3eomY"
      },
      "source": [
        "Hay otros ciclos que permiten trabajar de distintas maneras al for, uno de ellos es el while. El while es como el for pero se va a repetir solamente mientras se cumpla una condición."
      ]
    },
    {
      "cell_type": "code",
      "metadata": {
        "id": "I4L7mITTfemh",
        "colab": {
          "base_uri": "https://localhost:8080/",
          "height": 121
        },
        "outputId": "7acfdfae-ea46-4f43-8ea6-d9ca700c77db"
      },
      "source": [
        "n = 0\n",
        "while n <= 5 :\n",
        "  print(n)\n",
        "  n = n+1 #Otra forma más compacta de escribir esta linea es n += 1, pruebenla y vean que hace."
      ],
      "execution_count": null,
      "outputs": [
        {
          "output_type": "stream",
          "text": [
            "0\n",
            "1\n",
            "2\n",
            "3\n",
            "4\n",
            "5\n"
          ],
          "name": "stdout"
        }
      ]
    },
    {
      "cell_type": "markdown",
      "metadata": {
        "id": "I9LJYXahfxmB"
      },
      "source": [
        "Acá es clave que no se olviden el comando dentro del ciclo que vaya modificando la variable de la condición sino se van a quedar en el loop eternamente y tendremos ir a rescatarlxs. \n",
        "\n",
        "Esto puede ser útil para crear la misma lista que habíamos creado con el range pero de otra forma. Podemos iniciar con una lista vacía y aprovechar el método append que tienen las listas que sirve para agregar algo al final de lo que ya teníamos."
      ]
    },
    {
      "cell_type": "code",
      "metadata": {
        "id": "g_UP3ieOgrWD",
        "colab": {
          "base_uri": "https://localhost:8080/",
          "height": 34
        },
        "outputId": "b2799ac8-818b-4d6a-cae8-b1e3ef36c462"
      },
      "source": [
        "lista = []\n",
        "n = 1\n",
        "while n <= 5 :\n",
        "  lista.append(n)\n",
        "  n = n+1 #Es importante el orden en que pongo estas dos? prueben cambiarlos, porque pasa eso?\n",
        "  \n",
        "print(lista)"
      ],
      "execution_count": null,
      "outputs": [
        {
          "output_type": "stream",
          "text": [
            "[1, 2, 3, 4, 5]\n"
          ],
          "name": "stdout"
        }
      ]
    },
    {
      "cell_type": "markdown",
      "metadata": {
        "id": "bLkPcrDng-Si"
      },
      "source": [
        "##Funciones\n",
        "Si vamos a usar muchas veces una misma secuencia de comandos, suele ser prolijo y útil crear una función.\n"
      ]
    },
    {
      "cell_type": "code",
      "metadata": {
        "id": "6c3E4W4ehOnP"
      },
      "source": [
        "def myhello():\n",
        "    return 'aloja'"
      ],
      "execution_count": null,
      "outputs": []
    },
    {
      "cell_type": "code",
      "metadata": {
        "id": "AXnSUHT2ivrD",
        "colab": {
          "base_uri": "https://localhost:8080/",
          "height": 35
        },
        "outputId": "e9eff63e-8d62-4aaf-f61d-80f1dea09a58"
      },
      "source": [
        "myhello()"
      ],
      "execution_count": null,
      "outputs": [
        {
          "output_type": "execute_result",
          "data": {
            "application/vnd.google.colaboratory.intrinsic+json": {
              "type": "string"
            },
            "text/plain": [
              "'aloja'"
            ]
          },
          "metadata": {
            "tags": []
          },
          "execution_count": 33
        }
      ]
    },
    {
      "cell_type": "markdown",
      "metadata": {
        "id": "d_i_EEt5iyII"
      },
      "source": [
        "También puedo crear una función donde le paso algo y me devuelve otra cosa, ese algo no tiene que estar definido a la hora de crear la función. Exactamente como cuando definimos f(x) = x+2 sin saber cuánto vale x"
      ]
    },
    {
      "cell_type": "code",
      "metadata": {
        "id": "K5RjlP1NjMXW",
        "colab": {
          "base_uri": "https://localhost:8080/",
          "height": 35
        },
        "outputId": "4249e802-2142-41f2-e1fd-c854f0ef8447"
      },
      "source": [
        "def say_hello(name):\n",
        "    out = 'aloja ' + name\n",
        "    return out\n",
        "\n",
        "say_hello('Milton')"
      ],
      "execution_count": null,
      "outputs": [
        {
          "output_type": "execute_result",
          "data": {
            "application/vnd.google.colaboratory.intrinsic+json": {
              "type": "string"
            },
            "text/plain": [
              "'aloja Milton'"
            ]
          },
          "metadata": {
            "tags": []
          },
          "execution_count": 34
        }
      ]
    },
    {
      "cell_type": "code",
      "metadata": {
        "id": "iViTFpxFjOta",
        "colab": {
          "base_uri": "https://localhost:8080/",
          "height": 34
        },
        "outputId": "2d49a21c-b659-418a-fcde-d0f6ccf296b3"
      },
      "source": [
        "def suma(a,b):\n",
        "    out = a + b\n",
        "    return out\n",
        "\n",
        "suma(2,4)"
      ],
      "execution_count": null,
      "outputs": [
        {
          "output_type": "execute_result",
          "data": {
            "text/plain": [
              "6"
            ]
          },
          "metadata": {
            "tags": []
          },
          "execution_count": 35
        }
      ]
    },
    {
      "cell_type": "markdown",
      "metadata": {
        "id": "DRL7KzUljnHV"
      },
      "source": [
        "##Librerías científicas\n",
        "\n",
        "¿Por qué de entre tantos programas usamos Python? Python es un software libre y gratuito, ya saben lo que es un software gratuito pero libre ¿qué es? Cuando hablamos de un software libre o de código libre, hablamos de algo que inició una persona pero permitió que cualquiera agregue o modifique, así se genera una creación comunitaria donde cada usuario puede aportar un granito de arena para mejorar el software.\n",
        "\n",
        "En Python, una forma de colaborar con la comunidad de programadores es crear librerías. Las librerías son un conjunto de funciones (como las que vimos recién) que por lo general no son nativas de python y sirven como agregado a las funciones que ya tenemos inicialmente. Algunas librerías útiles son:\n",
        "\n",
        "\n",
        "\n",
        "*   Cálculo numérico:\n",
        "      * Numpy\n",
        "      * Scipy\n",
        "\n",
        "* Gráficos:\n",
        "    * Matplotlib\n",
        "\n",
        "* Otros\n",
        "    * Sympy (lenguaje simbólico)\n",
        "    * Pandas (Análisis de datos)\n",
        "\n",
        "Ahora vamos a ver algunas cosas de numpy y matplotlib pero les dejamos el resto para que las puedan investigar por su cuenta y por supuesto, pregunten.\n",
        "\n",
        "\n",
        "\n",
        "\n"
      ]
    },
    {
      "cell_type": "markdown",
      "metadata": {
        "id": "pTy9kLkcm2RG"
      },
      "source": [
        "## Numpy\n",
        "Librería fundamental para cualquier cosa relativa a matemática que hagamos ya que nos trae el concepto de vector o matriz que antes no teníamos y que vamos a usar todo el tiempo. También vamos a tener a mano cosas como cosenos, senos, números como $\\pi$ o como e y algunas funciones como resolver autovectores y autovalores rápidamente que será fundamental en la materia, perdón por el spoiler.\n",
        "\n",
        "Para usar una librería, primero la debemos importar a nuestro código y eso es lo que va a aparecer en la primera linea, después la usamos.\n",
        "\n",
        "Vamos a empezar con la función más importante, los vectores o arrays."
      ]
    },
    {
      "cell_type": "code",
      "metadata": {
        "id": "yDMxTPWToBCS",
        "colab": {
          "base_uri": "https://localhost:8080/",
          "height": 156
        },
        "outputId": "483629ad-8e02-4b0b-d1a0-28478db1ff13"
      },
      "source": [
        "import numpy as np #Le asigno el nombre np a la librería numpy, si no lo hago, cada vez que quiera usar el coseno (por ejemplo), tendré que escribir numpy.cos\n",
        "\n",
        "a = np.array([1,5,3,4,6]) #por fuera están los parentesis de la función np.array, por dentro los corchetes de mi lista. como vimos antes lo leo de adentro para afuera, agarro mi lista y la convierto en un array\n",
        "\n",
        "print(a[0])\n",
        "print(a[3])\n",
        "print(a[-1])\n",
        "print(a[1:4]) \n",
        "#Hasta acá todo igual a las listas\n",
        "\n",
        "b = np.array([2,3,1,4,0])\n",
        "\n",
        "print(a+b) #Suma como vectores (qué pasa si no tienen la misma longitud? Pruebenlo)\n",
        "\n",
        "print(a*b) #Producto componente a componente, esto es así porque va a ser más útil tener esto a mano que el producto escalar y de última si queremos ese producto solo tenemos que sumar estas componentes con sum()\n",
        "\n",
        "prodesc = sum(a*b)\n",
        "print(prodesc)\n",
        "\n",
        "print(a+2) #Le sumo a cada componente"
      ],
      "execution_count": null,
      "outputs": [
        {
          "output_type": "stream",
          "text": [
            "1\n",
            "4\n",
            "6\n",
            "[5 3 4]\n",
            "[3 8 4 8 6]\n",
            "[ 2 15  3 16  0]\n",
            "36\n",
            "[3 7 5 6 8]\n"
          ],
          "name": "stdout"
        }
      ]
    },
    {
      "cell_type": "markdown",
      "metadata": {
        "id": "DyDipCuWqAtT"
      },
      "source": [
        "Matrices, las armo igual pero ahora con una lista de listas"
      ]
    },
    {
      "cell_type": "code",
      "metadata": {
        "id": "nZWNABmzqedl",
        "colab": {
          "base_uri": "https://localhost:8080/",
          "height": 69
        },
        "outputId": "418690e1-2175-4bdc-867d-41a6d09830ba"
      },
      "source": [
        "M = np.array([[1,2,3],[1,2,3],[1,2,3]])\n",
        "print(M)"
      ],
      "execution_count": null,
      "outputs": [
        {
          "output_type": "stream",
          "text": [
            "[[1 2 3]\n",
            " [1 2 3]\n",
            " [1 2 3]]\n"
          ],
          "name": "stdout"
        }
      ]
    },
    {
      "cell_type": "markdown",
      "metadata": {
        "id": "10SPIiCtqz39"
      },
      "source": [
        "Otra forma de definir vectores y matrices es con algunas funciones de numpy"
      ]
    },
    {
      "cell_type": "code",
      "metadata": {
        "id": "-7lihEO3q8hp",
        "colab": {
          "base_uri": "https://localhost:8080/",
          "height": 121
        },
        "outputId": "20538ba5-ae22-4e9b-bda7-d92e56906637"
      },
      "source": [
        "Z = np.zeros([2,5]) #Crea una matriz de ceros, 2 filas y 5 columnas ¿qué pongo si quiero un vector?\n",
        "U = np.ones([2,5]) #Idem pero matriz de unos\n",
        "\n",
        "print(Z)\n",
        "print(U)\n",
        "print(np.shape(Z))\n",
        "print(M[:,0]) #pido la primer columna completa\n"
      ],
      "execution_count": null,
      "outputs": [
        {
          "output_type": "stream",
          "text": [
            "[[0. 0. 0. 0. 0.]\n",
            " [0. 0. 0. 0. 0.]]\n",
            "[[1. 1. 1. 1. 1.]\n",
            " [1. 1. 1. 1. 1.]]\n",
            "(2, 5)\n",
            "[1 1 1]\n"
          ],
          "name": "stdout"
        }
      ]
    },
    {
      "cell_type": "markdown",
      "metadata": {
        "id": "t9ZuIWFPriy6"
      },
      "source": [
        "Prueben el comando M.T ¿qué hace? Ojo que Python distingue entre mayúsculas y minúsculas.\n"
      ]
    },
    {
      "cell_type": "code",
      "metadata": {
        "id": "I3kguEdYsLl0",
        "colab": {
          "base_uri": "https://localhost:8080/",
          "height": 69
        },
        "outputId": "ff446e9f-4333-4005-ded0-81ee1b0304d2"
      },
      "source": [
        "L = M.T\n",
        "print(np.dot(L,M)) #Producto matricial"
      ],
      "execution_count": null,
      "outputs": [
        {
          "output_type": "stream",
          "text": [
            "[[ 3  6  9]\n",
            " [ 6 12 18]\n",
            " [ 9 18 27]]\n"
          ],
          "name": "stdout"
        }
      ]
    },
    {
      "cell_type": "markdown",
      "metadata": {
        "id": "NGFP8OqesZn1"
      },
      "source": [
        "Otros vectores útiles que vamos a usar mucho son los generados por las funciones linspace y arange de numpy, ¿cuál es la diferencia entre ambos? prueben y digan, les dejo solo la forma de escribirlos (¿qué pasa si les doy solo dos argumentos en lugar de tres?)\n"
      ]
    },
    {
      "cell_type": "code",
      "metadata": {
        "id": "wPYKhBHkstHA",
        "colab": {
          "base_uri": "https://localhost:8080/",
          "height": 52
        },
        "outputId": "b33b1522-5aa8-4bd3-a198-b1b861751201"
      },
      "source": [
        "print(np.linspace(0,1,5)) #np.linspace(start, stop, cant de componentes)\n",
        "print(np.arange(0,5,0.5)) #np.arange(start stop, step)\n"
      ],
      "execution_count": null,
      "outputs": [
        {
          "output_type": "stream",
          "text": [
            "[0.   0.25 0.5  0.75 1.  ]\n",
            "[0.  0.5 1.  1.5 2.  2.5 3.  3.5 4.  4.5]\n"
          ],
          "name": "stdout"
        }
      ]
    },
    {
      "cell_type": "markdown",
      "metadata": {
        "id": "AGFRC_ELtqSR"
      },
      "source": [
        "##Matplotlib\n",
        "\n",
        "Librería para hacer gráficos, creo que no hace falta explicar la enorme utilidad de esto.\n"
      ]
    },
    {
      "cell_type": "code",
      "metadata": {
        "id": "DIiyy80qt73-",
        "colab": {
          "base_uri": "https://localhost:8080/",
          "height": 282
        },
        "outputId": "e0d245b7-f190-4980-d325-f21c3014be9d"
      },
      "source": [
        "import matplotlib.pyplot as plt\n",
        "x = np.linspace(0,4*np.pi,100) #Ya que estamos vemos como se escribe pi\n",
        "\n",
        "y = np.sin(x)\n",
        "\n",
        "z = np.cos(x)\n",
        "plt.plot(x,y) #Esta es la forma mas simple\n",
        "plt.plot(x,z)"
      ],
      "execution_count": null,
      "outputs": [
        {
          "output_type": "execute_result",
          "data": {
            "text/plain": [
              "[<matplotlib.lines.Line2D at 0x7f3d5d7dc048>]"
            ]
          },
          "metadata": {
            "tags": []
          },
          "execution_count": 41
        },
        {
          "output_type": "display_data",
          "data": {
            "image/png": "[encoded data removed]",
            "text/plain": [
              "<Figure size 432x288 with 1 Axes>"
            ]
          },
          "metadata": {
            "tags": [],
            "needs_background": "light"
          }
        }
      ]
    },
    {
      "cell_type": "markdown",
      "metadata": {
        "id": "yK44OOngw_wn"
      },
      "source": [
        "Escribamoslo con algunas cosas extra, les dejo de ejercicio ver quéé significa cada cosa, cómo lo hacen? Ya les dije, entren al playground mode y jueguen."
      ]
    },
    {
      "cell_type": "code",
      "metadata": {
        "id": "Vw-I3kJZu1yr",
        "colab": {
          "base_uri": "https://localhost:8080/",
          "height": 295
        },
        "outputId": "cf1a052b-da3f-410f-b1dd-56b1a6dfad96"
      },
      "source": [
        "x = np.linspace(0,4*np.pi,100)\n",
        "\n",
        "y = np.sin(x)\n",
        "\n",
        "z = np.cos(x)\n",
        "\n",
        "plt.figure()\n",
        "plt.plot(x, y, '-o', color='blue', label='sin(x)')\n",
        "plt.plot(x, z, '-s', color='red', label='cos(x)')\n",
        "plt.grid()\n",
        "plt.xlabel('x')\n",
        "plt.ylabel('y')\n",
        "plt.title('funciones trigonométricas')\n",
        "plt.legend()\n",
        "plt.show()"
      ],
      "execution_count": null,
      "outputs": [
        {
          "output_type": "display_data",
          "data": {
            "image/png": "[encoded data removed]",
            "text/plain": [
              "<Figure size 432x288 with 1 Axes>"
            ]
          },
          "metadata": {
            "tags": [],
            "needs_background": "light"
          }
        }
      ]
    },
    {
      "cell_type": "markdown",
      "metadata": {
        "id": "yrnuIMjcxkIy"
      },
      "source": [
        "Hay otra forma de graficar con matlplotlib que es prácticamente igual. Se trata de crear la figura y el gráfico como si fueran variables (se les llama objetos) y después ir cambiandoles sus atributos. Las dos maneras de graficar las van a encontrar en cóódigos que vayamos subiendo en la cursada. Cada uno después encuentra la forma que más le gusta de hacer las cosas."
      ]
    },
    {
      "cell_type": "code",
      "metadata": {
        "id": "cQU9UzfYyAxc",
        "colab": {
          "base_uri": "https://localhost:8080/",
          "height": 282
        },
        "outputId": "8332c9b2-6b22-46ee-e04e-e2175fdbbbe7"
      },
      "source": [
        "fig,ax = plt.subplots(1) #Creo estas \"variables\"\n",
        "#Le cambio algunos atributos\n",
        "ax.grid(True)\n",
        "ax.plot(x, y, color = 'b', label = 'sen(x)')"
      ],
      "execution_count": null,
      "outputs": [
        {
          "output_type": "execute_result",
          "data": {
            "text/plain": [
              "[<matplotlib.lines.Line2D at 0x7f3d5ceae6d8>]"
            ]
          },
          "metadata": {
            "tags": []
          },
          "execution_count": 48
        },
        {
          "output_type": "display_data",
          "data": {
            "image/png": "[encoded data removed]",
            "text/plain": [
              "<Figure size 432x288 with 1 Axes>"
            ]
          },
          "metadata": {
            "tags": [],
            "needs_background": "light"
          }
        }
      ]
    }
  ]
}