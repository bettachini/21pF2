{
 "cells": [
  {
   "cell_type": "markdown",
   "metadata": {
    "colab_type": "text",
    "id": "ie8ZriZBLNTV"
   },
   "source": [
    "# Transformada de Fourier\n",
    "Víctor A. Bettachini\n",
    "©2020 DF, FCEyN, UBA\n",
    "\n",
    "---"
   ]
  },
  {
   "cell_type": "markdown",
   "metadata": {
    "colab_type": "text",
    "id": "8nLC6_JB0CK5"
   },
   "source": [
    "\n",
    "# Resumen\n",
    "Referencia:  \n",
    "Secciones 1.5 y 1.6  \n",
    "Stephen Nettel. Wave Physics. 4th ed. Berlin, Heidelberg: Springer Berlin Heidelberg, 2009.\n",
    "\n",
    "- **Transformada** ($\\mathcal{F}$): Operación sobre $f(x)$\n",
    "$$\n",
    "\\mathcal{F} f(x) = \\hat{f}(\\xi) = \\int_{-\\infty}^{\\infty} f(x)\\ \\operatorname{e}^{-2\\pi i x \\xi}\\,\\mathrm{d} x\n",
    "$$\n",
    "que la descompone en la contribución de cada frecuencia $\\xi$.\n",
    "$\\hat{f}(\\xi)$ es la representación en el dominio de la frecuencia de $f(x)$.\n",
    "\n",
    "- **Anti-transformada** ($\\mathcal{F}^{-1}$): Operación inversa que recupera una representación en el dominio de las $x$\n",
    "$$\n",
    "f(x) = \\mathcal{F}^{-1} \\hat{f}(\\xi) = \\int_{-\\infty}^{\\infty} \\hat{f}(\\xi)\\ \\operatorname{e}^{+2 \\pi i x \\xi}\\,\\mathrm{d} \\xi\n",
    "$$\n",
    "\n",
    "- **Tiempo ($t$) y frecuencia angular ($\\omega$)**: Cuando se descompone una función del tiempo $f(t)$, $\\xi$ corresponde a $\\nu$ y se suele hacer uso del cambio de variable $\\omega = 2 \\pi \\nu$\n",
    "$$\n",
    "\\mathcal{F} f(t) = \\hat{f}(\\omega) = \\hat{f}(\\frac{\\omega}{2 \\pi}) = \\int_{-\\infty}^{\\infty} f(t) \\operatorname{e}^{-i \\omega t}\\,\\mathrm{d} t\n",
    "$$\n",
    "y la inversa\n",
    "$$\n",
    "f(t) = \\mathcal{F}^{-1} \\hat{f}(\\omega) = \\frac{1}{2 \\pi} \\int_{-\\infty}^{\\infty} \\hat{f}(\\omega) \\operatorname{e}^{+i \\omega t}\\,\\mathrm{d} \\omega,\n",
    "$$\n",
    "donde no hay que olvidar el factor $\\frac{1}{2 \\pi}$ pues no se integró en $\\nu$ sino en $\\omega$.  \n",
    "Este factor causa una asimetría entre la transformada y su inversa, que suele salvarse aplicando un factor $\\frac{1}{\\sqrt{2 \\pi}}$ tanto en $\\mathcal{F}^{-1}$ como en $\\mathcal{F}$ para hacer de esta una operación unitaria. \n",
    "$$\n",
    "\\boxed{\n",
    "\\hat{f}(\\omega) = \\mathcal{F} f(t) = \\frac{1}{\\sqrt{2 \\pi}} \\int_{-\\infty}^{\\infty} f(t) \\operatorname{e}^{-i \\omega t}\\,\\mathrm{d} t\n",
    "} \\\\\n",
    "\\boxed{\n",
    "f(t) = \\mathcal{F}^{-1} \\hat{f}(\\omega) = \\frac{1}{\\sqrt{2 \\pi}} \\int_{-\\infty}^{\\infty} \\hat{f}(\\omega) \\operatorname{e}^{+i \\omega t}\\,\\mathrm{d} \\omega\n",
    "}.\n",
    "$$\n",
    "\n",
    "- **Espectro** Las amplitudes en función de $\\omega$ que hay en $f(t)$. Usualmente solo se representa $\\left| \\hat{f}(\\omega) \\right|$ pues $\\hat{f}(\\omega) \\in \\mathbb{C}$.\n",
    "- **Posición ($r$) y número de onda ($k$)**\n",
    "Ídem. $t$ y $\\omega$\n",
    "$$\n",
    "\\boxed{\n",
    "\\hat{f}(k) = \\mathcal{F} f(r) = \\frac{1}{\\sqrt{2 \\pi}} \\int_{-\\infty}^{\\infty} f(x) \\operatorname{e}^{-i k r}\\,\\mathrm{d} x\n",
    "} \\\\\n",
    "\\boxed{\n",
    "f(r) = \\mathcal{F}^{-1} \\hat{f}(k) = \\frac{1}{\\sqrt{2 \\pi}} \\int_{-\\infty}^{\\infty} \\hat{f}(k) \\operatorname{e}^{+i k r}\\,\\mathrm{d} k\n",
    "}.\n",
    "$$\n",
    "\n",
    "- **Primitivas útiles**\n",
    "$$\n",
    "\\int_{-\\infty}^{\\infty} f(x)\\ \\operatorname{e}^{-a x^2}\\, \\mathrm{d} x = \\sqrt{ \\frac{ \\pi }{ a  } }\n",
    "\\qquad \n",
    "\\int_{-\\infty}^{\\infty} f(x)\\ \\cos{(k x)} \\operatorname{e}^{-a x^2}\\, \\mathrm{d} x = \\sqrt{ \\frac{ \\pi }{ a  } } \\operatorname{e}^{-\\frac{k^2}{4 a}}\n",
    "\\qquad \n",
    "\\int_{-\\infty}^{\\infty} f(x)\\ \\sin{(k x)} \\operatorname{e}^{-a x^2}\\, \\mathrm{d} x = 0\n",
    "$$"
   ]
  },
  {
   "cell_type": "markdown",
   "metadata": {
    "colab_type": "text",
    "id": "3n_nr_NatVHZ"
   },
   "source": [
    "# Ejercicio espectro plano\n",
    "\n",
    "## Enunciado\n",
    "En un intervalo de frecuencias $\\Delta\\omega$ centrado en $\\omega_0$ el espectro es constante con un valor $\\frac{1}{\\Delta \\omega}$, y es cero en cualquier otra $\\omega$.\n",
    "\n",
    "a) Verifique que $\\phi(t)$ está dada por:\n",
    "$$\n",
    "\\phi(t) = \\frac{1}{\\sqrt{2 \\pi}} \\left[ \\frac{ \\sin{ \\left( \\frac{\\Delta \\omega}{2} t \\right) } }{\\frac{\\Delta \\omega}{2} t} \\right] \\operatorname{e}^{i \\omega_0 t}.\n",
    "$$  \n",
    "b) Grafique $\\Psi(\\omega)$ y $\\left|\\phi(t)\\right|$.  \n",
    "c) Sea $T$ un tiempo más prolongado que la duración de cualquier experimento que pueda idear.\n",
    "Muestre que si $\\Delta\\omega$ es suficientemente pequeño como para que $\\Delta\\omega T\\ll1$, entonces durante un tiempo menor que $T$, $\\phi(t)$ es una función armónica de amplitud y fase casi constante."
   ]
  },
  {
   "cell_type": "markdown",
   "metadata": {
    "colab_type": "text",
    "id": "Vet66LD7x3Ae"
   },
   "source": [
    "## Resolución \n",
    "Hay un rango en que espectro $\\Psi(\\omega)$ presenta la misma amplitud\n",
    "$$\n",
    "\\Psi(\\omega) =\n",
    "\\begin{cases}\n",
    "  0 &  \\omega > \\omega_0 - \\frac{\\Delta \\omega}{2}\\\\\n",
    "  \\frac{1}{\\Delta \\omega} &  \\omega_0 - \\frac{\\Delta \\omega}{2} \\leq \\omega \\leq \\omega_0 - \\frac{\\Delta \\omega}{2}\\\\\n",
    "  0 &  \\omega > \\omega_0 + \\frac{\\Delta \\omega}{2}\\\\\n",
    "\\end{cases},\n",
    "$$\n",
    "la inversa del ancho espectral de esta señal $\\Delta \\omega$.\n",
    "\n",
    "Lo primero que se nos pide es que verifiquemos el resultado de aplicar lo que sería la anti-transformada de Fourier para recuperar la expresión de esta en función del tiempo\n",
    "$$\n",
    "\\begin{aligned}\n",
    "\\phi(t) \n",
    "& = \\mathcal{F}^{-1} \\Psi(\\omega) \n",
    "= \\frac{1}{\\sqrt{2 \\pi}} \\int_{-\\infty}^{\\infty} \\Psi(\\omega) \\operatorname{e}^{i \\omega t} \\,\\mathrm{d} \\omega \\\\\n",
    "& = \\frac{1}{\\sqrt{2 \\pi}} \\int_{\\omega_0 -\\frac{\\Delta \\omega}{2}}^{\\omega_0 -\\frac{\\Delta \\omega}{2}} \\frac{1}{\\Delta \\omega} \\operatorname{e}^{i \\omega t} \\,\\mathrm{d} \\omega \\\\\n",
    "& = \\frac{1}{\\sqrt{2 \\pi} \\Delta \\omega} \\int_{\\omega_0 -\\frac{\\Delta \\omega}{2}}^{\\omega_0 + \\frac{\\Delta \\omega}{2}} \\operatorname{e}^{i \\omega t} \\,\\mathrm{d} \\omega \\\\\n",
    "& = \\frac{1}{\\sqrt{2 \\pi} \\Delta \\omega} \\left[ \\frac{\\operatorname{e}^{i \\omega t} }{i t} \\right]_{\\omega = \\omega_0 -\\frac{\\Delta \\omega}{2}}^{\\omega = \\omega_0 + \\frac{\\Delta \\omega}{2}} \\\\\n",
    "& = \\frac{1}{\\sqrt{2 \\pi} ( i \\Delta \\omega t )} \\left[ \\operatorname{e}^{i (\\omega_0 + \\frac{\\Delta \\omega}{2}) t} - \\operatorname{e}^{i (\\omega_0 -\\frac{\\Delta \\omega}{2}) t} \\right] \\\\\n",
    "& = \\frac{ \\operatorname{e}^{i \\omega_0 t} }{\\sqrt{2 \\pi} } \\frac{1}{ i \\Delta \\omega t} \\left[ \\operatorname{e}^{i \\frac{\\Delta \\omega}{2} t} - \\operatorname{e}^{- i \\frac{\\Delta \\omega}{2} t} \\right] \\\\\n",
    "& = \\frac{ \\operatorname{e}^{i \\omega_0 t} }{\\sqrt{2 \\pi} } \\frac{1}{2} \\left[ \\frac{ \\left( \\cos( \\frac{\\Delta \\omega}{2} t ) + i \\sin( \\frac{\\Delta \\omega}{2} t ) \\right) - \\left( \\cos( \\frac{\\Delta \\omega}{2} t ) - i \\sin( \\frac{\\Delta \\omega}{2} t ) \\right) }{ i \\frac{\\Delta \\omega}{2} t} \\right] \\\\\n",
    "& = \\frac{ \\operatorname{e}^{i \\omega_0 t} }{\\sqrt{2 \\pi} } \\frac{1}{2} \\left[ \\frac{ 2 i \\sin( \\frac{\\Delta \\omega}{2} t ) }{ i \\frac{\\Delta \\omega}{2} t} \\right]\n",
    "= \\boxed{\n",
    "   \\frac{ \\operatorname{e}^{i \\omega_0 t} }{\\sqrt{2 \\pi} } \\frac{ \\sin( \\frac{\\Delta \\omega}{2} t ) }{ \\frac{\\Delta \\omega}{2} t }\n",
    "}.\n",
    "\\end{aligned}\n",
    "$$\n",
    "Con lo que cumplimos con lo pedido en el punto a) del problema, pero para entender mejor de que se trata este resultado y su relación con $\\Psi(\\omega)$ hay que graficar ambas."
   ]
  },
  {
   "cell_type": "markdown",
   "metadata": {
    "colab_type": "text",
    "id": "X8kbXyTp92a9"
   },
   "source": [
    "### Graficación"
   ]
  },
  {
   "cell_type": "code",
   "execution_count": null,
   "metadata": {
    "colab": {},
    "colab_type": "code",
    "id": "fLtJWGMSx3WH"
   },
   "outputs": [],
   "source": [
    "import sympy as sp\n",
    "try:\n",
    "  import google.colab\n",
    "  # Solución al problema de renderizar ecuación bajo sympy en Google Colaboratory\n",
    "  # https://stackoverflow.com/questions/52010001/latex-output-from-sympy-does-not-correctly-display-in-google-colaboratory-jupyte\n",
    "  def colab_LaTeX_printer(exp, **options):\n",
    "    from google.colab.output._publish import javascript\n",
    "    url_ = \"https://colab.research.google.com/static/mathjax/MathJax.js?\"\n",
    "    cfg_ = \"config=TeX-MML-AM_HTMLorMML\" # \"config=default\"\n",
    "    javascript(url=url_+cfg_)\n",
    "    return sp.printing.latex(exp, **options)\n",
    "  sp.init_printing(use_latex=\"mathjax\", latex_printer=colab_LaTeX_printer)\n",
    "except:\n",
    "  sp.init_printing()"
   ]
  },
  {
   "cell_type": "code",
   "execution_count": null,
   "metadata": {
    "colab": {},
    "colab_type": "code",
    "id": "xLXHdt4QHjzC"
   },
   "outputs": [],
   "source": [
    "[omega, omega0, t, Domega, phi, Psi] = sp.symbols('omega omega_0 t \\Delta\\omega phi Psi')"
   ]
  },
  {
   "cell_type": "markdown",
   "metadata": {
    "colab_type": "text",
    "id": "W_7C1pk6-Z4a"
   },
   "source": [
    "Para mostrar como es un espectro plano $\\Psi(\\omega)$ elijo una frecuencia central $\\omega_0$ y un ancho espectral $\\Delta \\omega$ arbitarios tales que $\\omega_0 > \\Delta \\omega$.\n",
    "\n",
    "Para definir el ancho espectral $\\Delta \\omega$ se hace uso de la función de Heaviside\n",
    "$$\n",
    "\\theta(x-x_0) =\n",
    "\\begin{cases}\n",
    "1 & x \\geq x_0 \\\\\n",
    "0 & x < x_0\n",
    "\\end{cases}\n",
    "$$"
   ]
  },
  {
   "cell_type": "code",
   "execution_count": 3,
   "metadata": {
    "colab": {
     "base_uri": "https://localhost:8080/",
     "height": 88
    },
    "colab_type": "code",
    "id": "9ZvKQm0lWzlp",
    "outputId": "c8706433-0511-4203-9134-bdbe4fd2e17c"
   },
   "outputs": [
    {
     "data": {
      "text/html": [
       "<script src='https://colab.research.google.com/static/mathjax/MathJax.js?config=TeX-MML-AM_HTMLorMML'></script>"
      ],
      "text/plain": [
       "<IPython.core.display.HTML object>"
      ]
     },
     "metadata": {
      "tags": []
     },
     "output_type": "display_data"
    },
    {
     "data": {
      "text/latex": [
       "$$\\Psi = \\frac{1}{\\Delta\\omega} \\left(- \\theta\\left(- \\frac{\\Delta\\omega}{2} + \\omega - \\omega_{0}\\right) + \\theta\\left(\\frac{\\Delta\\omega}{2} + \\omega - \\omega_{0}\\right)\\right)$$"
      ],
      "text/plain": [
       "               ⎛  \\Delta\\omega         ⎞            ⎛\\Delta\\omega         ⎞\n",
       "    - Heaviside⎜- ──────────── + ω - ω₀⎟ + Heaviside⎜──────────── + ω - ω₀⎟\n",
       "               ⎝       2               ⎠            ⎝     2               ⎠\n",
       "Ψ = ───────────────────────────────────────────────────────────────────────\n",
       "                                  \\Delta\\omega                             "
      ]
     },
     "execution_count": 3,
     "metadata": {
      "tags": []
     },
     "output_type": "execute_result"
    }
   ],
   "source": [
    "Psi_expresion= 1/Domega* (\n",
    "    + sp.special.delta_functions.Heaviside( omega - ( omega0 - Domega/2 ) )\n",
    "    - sp.special.delta_functions.Heaviside( omega - ( omega0 + Domega/2 ) ) \n",
    "    )\n",
    "sp.Eq(Psi, Psi_expresion, evaluate=False)"
   ]
  },
  {
   "cell_type": "markdown",
   "metadata": {
    "colab_type": "text",
    "id": "inGGG2IsT5rx"
   },
   "source": [
    "Para graficarla elijo unos valores arbitrarios."
   ]
  },
  {
   "cell_type": "code",
   "execution_count": 4,
   "metadata": {
    "colab": {
     "base_uri": "https://localhost:8080/",
     "height": 411
    },
    "colab_type": "code",
    "id": "2LGEUT5vUBmL",
    "outputId": "80b49b18-f24c-4801-c0df-3e27c78c604b"
   },
   "outputs": [
    {
     "name": "stderr",
     "output_type": "stream",
     "text": [
      "/usr/local/lib/python3.6/dist-packages/sympy/plotting/plot.py:890: MatplotlibDeprecationWarning: \n",
      "The set_smart_bounds function was deprecated in Matplotlib 3.2 and will be removed two minor releases later.\n",
      "  self.ax.spines['left'].set_smart_bounds(True)\n",
      "/usr/local/lib/python3.6/dist-packages/sympy/plotting/plot.py:891: MatplotlibDeprecationWarning: \n",
      "The set_smart_bounds function was deprecated in Matplotlib 3.2 and will be removed two minor releases later.\n",
      "  self.ax.spines['bottom'].set_smart_bounds(False)\n"
     ]
    },
    {
     "data": {
      "image/png": "[encoded data removed]",
      "text/plain": [
       "<Figure size 432x288 with 1 Axes>"
      ]
     },
     "metadata": {
      "needs_background": "light",
      "tags": []
     },
     "output_type": "display_data"
    },
    {
     "data": {
      "text/plain": [
       "<sympy.plotting.plot.Plot at 0x7fc4867df7b8>"
      ]
     },
     "execution_count": 4,
     "metadata": {
      "tags": []
     },
     "output_type": "execute_result"
    }
   ],
   "source": [
    "omega0_v = 10 # [s-1]\n",
    "Domega_v = 4 # [s-1]\n",
    "Psi_expresion_v= Psi_expresion.subs([(Domega, Domega_v),(omega0, omega0_v)])  # uso valores numéricos\n",
    "sp.plot(Psi_expresion_v,(omega,-1.5*omega0_v,1.5*omega0_v),xlabel='$\\omega$', ylabel='$\\Psi(\\omega)$', ylim=(0,1/Domega_v))"
   ]
  },
  {
   "cell_type": "markdown",
   "metadata": {
    "colab_type": "text",
    "id": "dIBx1knwUymn"
   },
   "source": [
    "Me planteo graficar $\\phi(t)$.\n",
    "Como la función $\\frac{\\sin(x)}{x}$ se suele resumir como sinc(x)."
   ]
  },
  {
   "cell_type": "code",
   "execution_count": 5,
   "metadata": {
    "colab": {
     "base_uri": "https://localhost:8080/",
     "height": 90
    },
    "colab_type": "code",
    "id": "1m0ZejCfH1J5",
    "outputId": "51d3ef48-dcf0-41c6-dbbd-e7a26e8b5c3e"
   },
   "outputs": [
    {
     "data": {
      "text/html": [
       "<script src='https://colab.research.google.com/static/mathjax/MathJax.js?config=TeX-MML-AM_HTMLorMML'></script>"
      ],
      "text/plain": [
       "<IPython.core.display.HTML object>"
      ]
     },
     "metadata": {
      "tags": []
     },
     "output_type": "display_data"
    },
    {
     "data": {
      "text/latex": [
       "$$\\phi = \\frac{\\sqrt{2} e^{i \\omega_{0} t}}{2 \\sqrt{\\pi}} \\operatorname{sinc}{\\left (\\frac{\\Delta\\omega t}{2} \\right )}$$"
      ],
      "text/plain": [
       "        ⅈ⋅ω₀⋅t     ⎛\\Delta\\omega⋅t⎞\n",
       "    √2⋅ℯ      ⋅sinc⎜──────────────⎟\n",
       "                   ⎝      2       ⎠\n",
       "φ = ───────────────────────────────\n",
       "                  2⋅√π             "
      ]
     },
     "execution_count": 5,
     "metadata": {
      "tags": []
     },
     "output_type": "execute_result"
    }
   ],
   "source": [
    "phi_expresion= (1/ sp.sqrt(2* sp.pi) )* sp.exp( sp.I * omega0* t)* sp.sinc(Domega* t/2)\n",
    "sp.Eq(phi, phi_expresion, evaluate=False)"
   ]
  },
  {
   "cell_type": "markdown",
   "metadata": {
    "colab_type": "text",
    "id": "ESZJI3Db6xQ4"
   },
   "source": [
    "Recordemos que como surge de $\\mathcal{F}^{-1} \\Psi(\\omega)$ esto hace que $\\phi(t) \\in \\mathbb{C}$.\n",
    "Lo observable es el valor absoluto $\\left| \\phi(t) \\right|$ por tanto la gráfica responderá a la forma de $\\textrm{sinc}\\left(\\frac{\\Delta \\omega t}{2}\\right)$."
   ]
  },
  {
   "cell_type": "code",
   "execution_count": 6,
   "metadata": {
    "colab": {
     "base_uri": "https://localhost:8080/",
     "height": 408
    },
    "colab_type": "code",
    "id": "lgomsnl6UnOW",
    "outputId": "7d285d94-fb29-4a15-d8ec-bb1637762ad4"
   },
   "outputs": [
    {
     "name": "stderr",
     "output_type": "stream",
     "text": [
      "/usr/local/lib/python3.6/dist-packages/sympy/plotting/plot.py:890: MatplotlibDeprecationWarning: \n",
      "The set_smart_bounds function was deprecated in Matplotlib 3.2 and will be removed two minor releases later.\n",
      "  self.ax.spines['left'].set_smart_bounds(True)\n",
      "/usr/local/lib/python3.6/dist-packages/sympy/plotting/plot.py:891: MatplotlibDeprecationWarning: \n",
      "The set_smart_bounds function was deprecated in Matplotlib 3.2 and will be removed two minor releases later.\n",
      "  self.ax.spines['bottom'].set_smart_bounds(False)\n"
     ]
    },
    {
     "data": {
      "image/png": "[encoded data removed]",
      "text/plain": [
       "<Figure size 432x288 with 1 Axes>"
      ]
     },
     "metadata": {
      "needs_background": "light",
      "tags": []
     },
     "output_type": "display_data"
    },
    {
     "data": {
      "text/plain": [
       "<sympy.plotting.plot.Plot at 0x7fc4836a22e8>"
      ]
     },
     "execution_count": 6,
     "metadata": {
      "tags": []
     },
     "output_type": "execute_result"
    }
   ],
   "source": [
    "phi_expresion_v = phi_expresion.subs([(Domega, Domega_v),(omega0, omega0_v)])  # uso valores numéricos\n",
    "phi_expresion_v = sp.Abs(phi_expresion_v) # valor absoluto\n",
    "sp.plot(phi_expresion_v, xlim=(-10,10), ylim=(0,0.4), ylabel='$\\phi$(t)')"
   ]
  },
  {
   "cell_type": "markdown",
   "metadata": {
    "colab_type": "text",
    "id": "8UlY9JqgHn4c"
   },
   "source": [
    "Hay cosas remarcables a ver\n",
    "- La **amplitud** pico es el área del espectro plano, $\\frac{1}{\\Delta \\omega} \\times \\Delta\\omega$, afectada por el factor $\\frac{1}{\\sqrt{2 \\pi} }$.\n",
    "- Los ceros que limitan la **duración** del lóbulo principal del _sinc_ son los ceros del _sen_ y están dados por $\\frac{\\Delta \\omega}{2} t_0 = \\pm \\pi \\implies t_0 = \\pm \\frac{2 \\pi}{\\Delta \\omega}$"
   ]
  },
  {
   "cell_type": "markdown",
   "metadata": {
    "colab_type": "text",
    "id": "-XYnTO44Ynp7"
   },
   "source": [
    "### c) Relación $\\Delta \\omega$ y $T$\n",
    "Si el rango de tiempo contemplado es muy grande $T \\gg 1$ y $\\Delta \\omega T \\ll 1 \\implies \\Delta \\omega \\ll 1$, esencialmente el espectro tiende a mostrar un único pico en una $\\omega_0$, que como función serepresenta por una delta de dirac modulada por su correspondiente amplitud\n",
    "$$\n",
    "\\Psi(\\omega) = A_{\\omega_0} \\delta(\\omega_0).\n",
    "$$\n",
    "Sabemos que la $\\phi(t)= \\mathcal{F}^{-1} \\Psi(\\omega)$ debe ser una única función armónica de esta $\\omega_0$ y amplitud $\\propto A_{\\omega_0}$.\n",
    "\n",
    "Podemos probar esto analizando en el límite de $\\Delta \\omega \\rightarrow 0$ la expresión de $\\phi(t)$ que comprobamos anteriormente\n",
    "$$\n",
    "\\lim_{\\Delta \\omega \\to 0} \\phi(t)\n",
    "= \\lim_{\\Delta \\omega \\to 0} \\frac{ \\operatorname{e}^{i \\omega_0 t} }{\\sqrt{2 \\pi} } \\frac{ \\sin( \\frac{\\Delta \\omega}{2} t ) }{ \\frac{\\Delta \\omega}{2} t }\n",
    "\\stackrel{\\text{L'H}}{=} \\lim_{\\Delta \\omega \\to 0} \\frac{ \\operatorname{e}^{i \\omega_0 t} }{\\sqrt{2 \\pi} } \\frac{\\Delta \\omega}{2} \\frac{ \\cos( \\frac{\\Delta \\omega}{2} t ) }{ \\frac{\\Delta \\omega}{2}}\n",
    "= \\frac{ \\operatorname{e}^{i \\omega_0 t} }{\\sqrt{2 \\pi} },\n",
    "$$\n",
    "que gracias a la regla de L' Hôpital $\\stackrel{\\text{L'H}}{=}$ vemos que representa una armónica de frecuencia $\\omega_0$."
   ]
  }
 ],
 "metadata": {
  "colab": {
   "collapsed_sections": [],
   "name": "transformadaFourier.ipynb",
   "provenance": []
  },
  "kernelspec": {
   "display_name": "Python 3",
   "language": "python",
   "name": "python3"
  },
  "language_info": {
   "codemirror_mode": {
    "name": "ipython",
    "version": 3
   },
   "file_extension": ".py",
   "mimetype": "text/x-python",
   "name": "python",
   "nbconvert_exporter": "python",
   "pygments_lexer": "ipython3",
   "version": "3.7.3"
  }
 },
 "nbformat": 4,
 "nbformat_minor": 4
}
