{
 "cells": [
  {
   "cell_type": "markdown",
   "metadata": {
    "colab_type": "text",
    "id": "cyuR_p-iRwD-"
   },
   "source": [
    "# Ondas de presión en tubo unidimensional"
   ]
  },
  {
   "cell_type": "markdown",
   "metadata": {},
   "source": [
    "![Departamento de Física, Facultad de Ciencias Exactas y Naturales, Universidad de Buenos Aires](figuras/logoDF.png \"DF, FCEyN, UBA\")  \n",
    "©2021 [Víctor A. Bettachini](mailto:bettachini@df.uba.ar)  \n",
    "\n",
    "----"
   ]
  },
  {
   "cell_type": "markdown",
   "metadata": {
    "colab_type": "text",
    "id": "pyyga3CSR0C8"
   },
   "source": [
    "## Repaso de fundamentos\n",
    "\n",
    "### Variables relevantes\n",
    "Usualmente se usan alternativamente tres variables para describir el apartamiento de la condición de equilibrio para un gas a causa de que una onda acústica se propaga en él:\n",
    "*   $\\psi(x,t)$: desplazamiento promedio de las móleculas del gas en la dirección de propagación.\n",
    "*   $\\delta p(x,t)$: variación de la presión promedio respecto a su valor promdio en el medio gaseoso $p_0$.\n",
    "*   $\\delta \\rho(x,t)$: variación de la densidad de moléculas respecto a su valor promdio en el medio gaseoso $\\rho_0$.\n",
    "\n"
   ]
  },
  {
   "cell_type": "markdown",
   "metadata": {
    "colab_type": "text",
    "id": "WOJw26ypdJe5"
   },
   "source": [
    "### Onda estacionaria en el gas\n",
    "Una onda estacionaria para $\\psi$ puedo escribirla\n",
    "$$\n",
    "\\psi(x,t) = \\left[ A \\cos(k x) + B \\sin(k x) \\right] \\cos(\\omega t),\n",
    "$$\n",
    "en términos del número de onda $k$ y la frecuencia angular $\\omega$.\n",
    "La relación entre estas últimas es la de dispersión $\\omega= v k$.\n",
    "La velocidad de propagación de la onda si la consideramos un proceso proceso adiabático es\n",
    "$$\n",
    "v = \\sqrt{ \\frac{\\gamma p_0}{\\rho_0} },\n",
    "$$\n",
    "donde $p_0$ y $\\rho_0$ son las del gas en reposo y $\\gamma= \\frac{Cp}{Cv}$ es la relación entre los calores específicos.\n",
    "En un gas ideal diatómico diatómico, como podríamos considerar el aire (esencialmente $N_2$ y $O_2$) las moléculas tienen 5 grados de libertad por lo que $C_p= \\frac{7 R}{2}$ y $C_p= \\frac{5 R}{2}$ siendo $R$ la constante de Boltzann que expresa la relación de unidades de la energía cinética de las moléculas en el gas con su temperatura.\n",
    "Con este dato podríamos escribir modelar $\\psi$ como\n",
    "$$\n",
    "\\psi(x,t) = \\left[ A \\cos(k x) + B \\sin(k x) \\right] \\cos(v k t).\n",
    "$$\n",
    "Cuando apliquemos las condiciones de contorno discretizamos los posibles números de onda en unos $k_n$, lo que nos limita a ciertas $\\omega_n$. Las frecuencias de  sonido que pueden generarse serán $\\nu_n = \\frac{\\omega_n}{2 \\pi}$ (esta es la letra \"nu\", no confundir con $v$)."
   ]
  },
  {
   "cell_type": "markdown",
   "metadata": {
    "colab_type": "text",
    "id": "x92AQbt5lk-L"
   },
   "source": [
    "### Precioso, pero lo que puedo medir con un micrófono es $\\delta p$...\n",
    "Brevísimo repaso de la presentado en la teórica sobre la relación entre $\\psi$, $\\delta p$ y $\\delta \\rho$:\n",
    "* $\\delta \\rho = - \\rho_0 \\frac{\\partial \\psi}{\\partial x}$\n",
    "* $\\delta p =- \\gamma p_0 \\frac{\\partial \\psi}{\\partial x}$ ya que $\\delta p = \\kappa \\delta \\rho$ y el módulo de compresibilidad $\\kappa= \\frac{\\gamma p_0}{\\rho_0}$.\n",
    "\n"
   ]
  },
  {
   "cell_type": "markdown",
   "metadata": {
    "colab_type": "text",
    "id": "gI3jpVnWtXTd"
   },
   "source": [
    "### Condiciones de contorno para el gas\n",
    "En mi experiencia la condiciones sobre $\\psi$ son las más sencillas de modelar.\n",
    "Si nos imaginamos que la onda acústica se propaga en un conducto (o tubo) unidimensional se nos presentan dos alternativas sobre los extremos del mismo:\n",
    "- **extremo cerrado**: que impide todo movimiento de las móleculas, así si esté extremos está en $x=L$ estableceremos como condición $\\psi(L,t)=0$.\n",
    "- **extremo abierto**: si no hay restricción a $\\psi$ en $x=L$ no tiene porque presentar variación en función de esta variable, así $\\frac{\\partial }{\\partial x} \\psi (L,t) = 0$.\n",
    "\n",
    "Así para $\\psi$ tenemos lo mismo que en el caso de la cuerda.\n",
    "Es útil pensar en términos físicos que significan estas condiciones para $\\delta \\rho$ y $\\delta p$:\n",
    "- **extremo cerrado**: Si las moléculas masivamente \"golpean\" contra una pared en $x = L$ se agolpan hasta alcanzar el **máximo** de $\\rho$ y de la $p$ que ejercen. Por el contrario en la contrafase de este ciclo, cuando se alejan de la pared el vacío que dejan es un **mínimo** de $\\rho$ y de la $p$ que ejercen, ergo $\\frac{\\partial }{\\partial x} \\delta \\rho (L,t) = \\frac{\\partial }{\\partial x} \\delta p (L,t) = 0$.\n",
    "- **extremo abierto**: Imaginemos que el tubo está abierto a la presión atmósferica $p_0$ y su respectiva densidad $\\rho_0$, obviamente no hay razón para pensar que deba haber en $x = L$ una discontinuidad entre afuera y entonces la variaciones respecto a las condiciones atmosféricas son nulas $\\delta \\rho(L,t)= 0$ y $\\delta p(L,t)= 0$."
   ]
  },
  {
   "cell_type": "markdown",
   "metadata": {
    "colab_type": "text",
    "id": "IeElaXBexMIS"
   },
   "source": [
    "## Resolución de un problema\n",
    "\n",
    "### Enunciado\n",
    "Se tiene un tubo lleno de aire de longitud $L$. Considere las siguientes posibilidades:\n",
    "1.   Cerrado en ambos extremos.\n",
    "2.   Uno abierto el otro cerrado.\n",
    "3.   Ambos extremos abiertos.\n",
    "\n",
    "Asuma conocidos: $L$, $v_\\text{sonido}$, la presión atmosférica $p_0$, $\\rho_{0}= \\frac{ \\gamma p_0 }{ v_\\text{sonido}^2}$ y que $\\gamma= \\frac{C_p}{C_v}= \\frac{7}{5}$ para un gas diatómico.\n",
    "\n",
    "Halle para cada una de dichas situaciones:  \n",
    "a) Las posibles longitudes de onda con las que puede vibrar el aire en el tubo, y sus correspondientes frecuencias.  \n",
    "b) Elija un sistema de referencia conveniente, y escriba la expresión más general para el desplazamiento de las partículas $\\Psi(x,t)$.  \n",
    "  ¿Qué parámetros conoce de dicha expresión?\n",
    "  ¿De qué dependen los que no conoce?  \n",
    "c) A partir de la expresión de $\\Psi(x,t)$, hallar el apartamiento de la presión respecto a la atmosférica $\\delta p(x,t)$.\n",
    "  ¿Cuál es la diferencia de fase entre ellas?\n",
    "  ¿Cuál es la amplitud máxima de presión?  \n",
    "d) Hallar la función de densidad $\\rho(x,t)$.\n",
    "  ¿Cuál es amplitud máxima?\n"
   ]
  },
  {
   "cell_type": "markdown",
   "metadata": {
    "colab_type": "text",
    "id": "q-JWXRCazS-1"
   },
   "source": [
    "### Planteo de condiciones de contorno\n",
    "Desarrollaré un solo caso, pues los demas siguén una lógica similar.\n",
    "Si ambos extremos están abiertos $\\frac{\\partial }{\\partial x} \\psi (0,t) \\frac{\\partial }{\\partial x} \\psi (L,t) = 0$, calculo que\n",
    "$$\n",
    "\\frac{\\partial }{\\partial x} \\psi(x,t) = k \\left[ -A \\sin(k x) + B \\cos(k x) \\right] \\cos(v k t),\n",
    "$$\n",
    "para $L = 0$\n",
    "$$\n",
    "\\frac{\\partial }{\\partial x} \\psi(0,t) = k \\left[ B \\right] \\cos(v k t) = 0 \n",
    "\\implies B = 0,\n",
    "$$\n",
    "y para $x = L$\n",
    "$$\n",
    "\\frac{\\partial }{\\partial x} \\psi(L,t) = k \\left[ -A \\sin(k L) \\right] \\cos(v k t) = 0 \\implies k L = m \\pi \\quad (m \\in \\mathbb{N}),\n",
    "$$\n",
    "la que dicretiza $k_m = m \\frac{\\pi}{L}$.\n",
    "\n",
    "#### Punto a)\n",
    "Con esto ya podemos responder a lo pedido en a) respecto a $\\lambda$ y $\\nu$.\n",
    "Como sabemos $k= \\frac{2 \\pi}{\\lambda}$, entonces $\\lambda_m = \\frac{2}{m} L$.\n",
    "De similar manera las frecuencias son $\\nu_m = m \\frac{v_\\text{sonido}}{2 L}$\n",
    "\n",
    "#### Punto b)\n",
    "Podemos también responder el punto b) ya que la expresión de $\\psi(x,t)$ conocidos los $k_m$ es\n",
    "$$\n",
    "\\psi(x,t) = \\sum_{m = 1} A_m \\cos(m \\frac{\\pi}{L} x) \\cos(v m \\frac{\\pi}{L} t),\n",
    "$$\n",
    "donde resta determinar $A_m$ y $v$.\n",
    "Esta última es la del sonido que es dato.\n",
    "La amplitud sería útil expresarla en función de la $\\delta p$ que es un parámetro más fácilmente medible en laboratorio, y a esto apunta el próximo punto del ejercicio.\n",
    "\n",
    "\n",
    "#### Punto c)\n",
    "Para expresar en función de la presión todo lo que hacemos es recordar que\n",
    "$$\n",
    "\\delta p (x,t) = - \\gamma p_0 \\frac{\\partial \\psi}{\\partial x} (x,t)\n",
    "=   \\sum_{m = 1} \\left[ \\gamma p_0 A_m \\left( m \\frac{\\pi}{L} \\right) \\right] \\sin(m \\frac{\\pi}{L} x) \\cos(v m \\frac{\\pi}{L} t).\n",
    "$$\n",
    "\n",
    "Puesto que la parte espacial de $\\psi(x,t)$ está descripta por una función $\\cos$ y la de $\\delta p (x,t)$ por una $\\sin$, la diferencia de fase entre ambas es de $\\pi/2$.\n",
    "Esto se traduce que en cada modo un máximo de $\\psi(x,t)$ está desplazado en ubicación $\\frac{\\lambda_m}{2}= \\frac{1}{m} L$ respecto al de $\\delta p(x,t)$.\n",
    "\n",
    "<!---\n",
    "La amplitud máxima de para la presión evidentemente es para el menor modo $m=1$ puesto\n",
    "---> \n",
    "\n",
    "#### Punto d)\n",
    "Lo mismo para la densidad\n",
    "$$\n",
    "\\delta \\rho (x,t) = - \\rho_0 \\frac{\\partial \\psi}{\\partial x} (x,t)\n",
    "=   \\sum_{m = 1} \\left[ \\rho_0 A_m \\left( m \\frac{\\pi}{L} \\right) \\right] \\sin(m \\frac{\\pi}{L} x) \\cos(v m \\frac{\\pi}{L} t).\n",
    "$$\n"
   ]
  },
  {
   "cell_type": "markdown",
   "metadata": {
    "colab_type": "text",
    "id": "SlNkFTUrcdRg"
   },
   "source": [
    "## Ilustrando esto\n",
    "Me interesa graficar las funciones para compararlas.\n",
    "Para esto me invento valores para las características que son dato en el enunciado."
   ]
  },
  {
   "cell_type": "code",
   "execution_count": 1,
   "metadata": {
    "colab": {},
    "colab_type": "code",
    "id": "8nKl9mIXb07_"
   },
   "outputs": [],
   "source": [
    "# Primero importamos las bibliotecas de Python que vamos a usar\n",
    "import numpy as np # numpy para vectores y matrices\n",
    "import matplotlib.pyplot as plt # matplotlib para graficar\n",
    "from matplotlib.style import use as meGusta\n",
    "meGusta('fivethirtyeight') # estilo de gráficos con grilla y letras grandes"
   ]
  },
  {
   "cell_type": "code",
   "execution_count": 2,
   "metadata": {
    "colab": {},
    "colab_type": "code",
    "id": "5mDITLakREeT"
   },
   "outputs": [],
   "source": [
    "L = 1  # [m]\n",
    "v_sonido = 340 # [m/s]\n",
    "p_0 = 101325 # [Pa] presión atmosférica\n",
    "gamma_diatomico = 7/5\n",
    "rho_0 = gamma_diatomico* p_0/ v_sonido**2"
   ]
  },
  {
   "cell_type": "markdown",
   "metadata": {
    "colab_type": "text",
    "id": "Ui5ktaqtZPLC"
   },
   "source": [
    "Para asumir un valor realista de $\\delta p_0$ encuentro en el [artículo \"Decibel\" de Wikipedia](https://en.wikipedia.org/wiki/Decibel#Acoustics) que el sonido de llamada de un teléfono (_ringtone_) es aproximadamente $80\\,\\mathrm{dB}$ y que el correspondiente\n",
    "$$\n",
    "\\delta p_\\text{rms}= 20\\,\\mathrm{\\mu Pa} \\times {10}^{\\frac{80}{20}},\n",
    "$$\n",
    "y como la amplitud se relaciona al valor de media cuadrática por $\\delta p= \\sqrt{2} \\delta p_\\text{rms}$ ([ver artículo Wikipedia \"Root mean square\"](https://en.wikipedia.org/wiki/Root_mean_square)) tengo que su magnitud en pascales es "
   ]
  },
  {
   "cell_type": "code",
   "execution_count": 3,
   "metadata": {
    "colab": {
     "base_uri": "https://localhost:8080/",
     "height": 34
    },
    "colab_type": "code",
    "id": "zijCvh5ZbAZ4",
    "outputId": "01fc6afe-6ffc-4481-a046-587bbb62a964"
   },
   "outputs": [
    {
     "data": {
      "text/plain": [
       "0.28284271247461906"
      ]
     },
     "execution_count": 3,
     "metadata": {},
     "output_type": "execute_result"
    }
   ],
   "source": [
    "delta_p_ringtone = np.sqrt(2)* 20E-6* 10**(80/20)\n",
    "delta_p_ringtone # [Pa]"
   ]
  },
  {
   "cell_type": "markdown",
   "metadata": {
    "colab_type": "text",
    "id": "fP8jKNzRcWP1"
   },
   "source": [
    "Para elegirle una frecuencia, reviso las primeras 10 frencuencias que puede generar este tubo siendo $\\nu_m = m \\frac{v_\\text{sonido}}{2 L}$"
   ]
  },
  {
   "cell_type": "code",
   "execution_count": 4,
   "metadata": {
    "colab": {
     "base_uri": "https://localhost:8080/",
     "height": 51
    },
    "colab_type": "code",
    "id": "Q90OtMvHbbqb",
    "outputId": "25c65704-2cde-4338-fa7c-b6ea912f4a7c"
   },
   "outputs": [
    {
     "data": {
      "text/plain": [
       "array([ 170.,  340.,  510.,  680.,  850., 1020., 1190., 1360., 1530.,\n",
       "       1700.])"
      ]
     },
     "execution_count": 4,
     "metadata": {},
     "output_type": "execute_result"
    }
   ],
   "source": [
    "# Las frecuencias para los primeros 10 modos son\n",
    "def nu_m(m):\n",
    "    return  m* v_sonido/ (2* L)\n",
    "nu_m(np.arange(1,11))"
   ]
  },
  {
   "cell_type": "markdown",
   "metadata": {
    "colab_type": "text",
    "id": "GMK-7OqwdFrZ"
   },
   "source": [
    "Elijo el de $m=4$ correspondiente a un molestísimo zumbido en $680\\,\\mathrm{Hz}$.\n",
    "Pueden escucharlo en [Online Tone Generator](https://szynalski.com/tone#680,v0.45).\n",
    "\n",
    "Ahora soy capaz de asignar un valor realista a la amplitud $A_{m=4}$ uso el $\\delta p_\\text{ringtone}= \\text{max} (\\delta p_{m=4})$ entonces\n",
    "$$\n",
    "\\text{max} (\\delta p_{m=4})\n",
    "= \\left[ \\gamma p_0 A_{m=4} \\left( 4 \\frac{\\pi}{L} \\right) \\right] \\implies A_{m=4}\n",
    "= \\frac{\\delta p_\\text{ringtone}}{ \\gamma p_0 4 \\frac{\\pi}{L}}\n",
    "$$.\n",
    "\n"
   ]
  },
  {
   "cell_type": "code",
   "execution_count": 5,
   "metadata": {
    "colab": {
     "base_uri": "https://localhost:8080/",
     "height": 34
    },
    "colab_type": "code",
    "id": "LD6i6PqUgCT0",
    "outputId": "b74c78b2-fea2-4e9b-9b2d-3477d69079d3"
   },
   "outputs": [
    {
     "data": {
      "text/plain": [
       "2.4923576228774017e-07"
      ]
     },
     "execution_count": 5,
     "metadata": {},
     "output_type": "execute_result"
    }
   ],
   "source": [
    "m= 4\n",
    "A_4 = delta_p_ringtone* L/ (m* gamma_diatomico* p_0)/2 # [m] (/2!)\n",
    "A_4"
   ]
  },
  {
   "cell_type": "code",
   "execution_count": 11,
   "metadata": {
    "colab": {
     "base_uri": "https://localhost:8080/",
     "height": 290
    },
    "colab_type": "code",
    "id": "nnYRWAVQbeVZ",
    "outputId": "f31afcb3-6854-4c27-aabe-013f05e98b52"
   },
   "outputs": [
    {
     "data": {
      "image/png": "[encoded data removed]",
      "text/plain": [
       "<Figure size 864x288 with 2 Axes>"
      ]
     },
     "metadata": {},
     "output_type": "display_data"
    }
   ],
   "source": [
    "A_m= A_4\n",
    "\n",
    "def psi_m(x, t, m, A_m, L, v_sonido):\n",
    "    return  A_m * np.cos((m* np.pi/ L)* x) * np.cos(v_sonido* (m* np.pi/ L)* t)  \n",
    "\n",
    "def p_m(x, t, m, A_m, L, v_sonido, p_0):\n",
    "    return gamma_diatomico* p_0* A_m* (m* np.pi/ L) * np.sin((m* np.pi/ L)* x) * np.cos(v_sonido* (m* np.pi/ L)* t)  \n",
    "\n",
    "def p_m(x, t, m, A_m, L, v_sonido, rho_0):\n",
    "    return gamma_diatomico* rho_0* A_m* (m* np.pi/ L) * np.sin((m* np.pi/ L)* x) * np.cos(v_sonido* (m* np.pi/ L)* t)  \n",
    "\n",
    "t = 0\n",
    "x= np.linspace(start= 0,stop= L,num= 100)\n",
    "\n",
    "#fig, ax = plt.subplots(nrows= 2, sharex= True, figsize= (12,8))\n",
    "#ax[0].plot(x, psi_m(x, t, m, A_m, L, v_sonido))\n",
    "#ax[0].set_ylabel('$\\psi$ [m]')\n",
    "#ax[0].grid(True)\n",
    "#ax[1].plot(x, p_m(x, t, m, A_m, L, v_sonido, p_0))\n",
    "#ax[1].set_ylabel('p [Pa]')\n",
    "#ax[1].set_xlabel('x [m]')\n",
    "#fig, ax = plt.subplots(nrows= 2, sharex= True, figsize= (12,8))\n",
    "#ax[1].grid(True)\n",
    "\n",
    "fig, ax = plt.subplots(figsize= (12,4))\n",
    "ax.plot(x, psi_m(x, t, m, A_m, L, v_sonido), color= 'C0')\n",
    "ax.set_ylabel('$\\psi$ [m]', color= 'C0')\n",
    "ax.tick_params(axis='y', labelcolor= 'C0')\n",
    "ax.grid(b=False) # por defecto el tema pone grilla\n",
    "ax.grid(b=True, axis='x')\n",
    "ax1 = ax.twinx()\n",
    "ax1.plot(x, p_m(x, t, m, A_m, L, v_sonido, p_0), color='C1')\n",
    "ax1.tick_params(axis='y', labelcolor= 'C1')\n",
    "ax1.set_ylabel('p [Pa]', color= 'C1')\n",
    "ax1.set_xlabel('x [m]')\n",
    "ax1.grid(b= False)\n",
    "ax1.axhline(0, linewidth=.2 , color= 'grey') # eje abscissas\n",
    "fig.tight_layout()  # otherwise the right y-label is slightly clipped"
   ]
  },
  {
   "cell_type": "markdown",
   "metadata": {
    "colab_type": "text",
    "id": "tmZJYx2iithU"
   },
   "source": [
    "Además de ver como se corresponde $\\delta p(x)$ con $\\delta p_\\text{ringtone}$ se ve que las formas son correctas pues donde el máximo o mínimo de $\\delta p$ corresponde a un $\\psi$ nulo."
   ]
  }
 ],
 "metadata": {
  "colab": {
   "collapsed_sections": [],
   "name": "ondaPresión.ipynb",
   "provenance": []
  },
  "kernelspec": {
   "display_name": "Python 3",
   "language": "python",
   "name": "python3"
  },
  "language_info": {
   "codemirror_mode": {
    "name": "ipython",
    "version": 3
   },
   "file_extension": ".py",
   "mimetype": "text/x-python",
   "name": "python",
   "nbconvert_exporter": "python",
   "pygments_lexer": "ipython3",
   "version": "3.7.3"
  }
 },
 "nbformat": 4,
 "nbformat_minor": 4
}
