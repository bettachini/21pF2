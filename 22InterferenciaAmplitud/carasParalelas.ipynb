{
 "cells": [
  {
   "cell_type": "markdown",
   "metadata": {
    "colab_type": "text",
    "id": "z0lB56NRNSEa"
   },
   "source": [
    "# Interferencia en lámina de caras paralelas"
   ]
  },
  {
   "cell_type": "markdown",
   "metadata": {},
   "source": [
    "![Departamento de Física, Facultad de Ciencias Exactas y Naturales, Universidad de Buenos Aires](figuras/logoDF.png \"DF, FCEyN, UBA\")  \n",
    "©2021 [Víctor A. Bettachini](mailto:bettachini@df.uba.ar)  \n",
    "\n",
    "---"
   ]
  },
  {
   "cell_type": "markdown",
   "metadata": {
    "colab_type": "text",
    "id": "5WeVQW3TNSEc"
   },
   "source": [
    "## Enunciado\n",
    "Una lámina de vidrio de $0.40\\,\\mathrm{\\mu m}$ de espesor es iluminada por un haz de luz blanca normal a la lámina.\n",
    "El índice de refracción es de $1.5$.\n",
    "¿Qué longitudes de onda del espectro visible, $400$ a $790\\,\\mathrm{nm}$, serán intensificadas en el haz reflejado?  \n",
    "![](figuras/ej5-21.png)"
   ]
  },
  {
   "cell_type": "markdown",
   "metadata": {
    "colab_type": "text",
    "id": "AEt38VSFPJ6M"
   },
   "source": [
    "## Resolución\n",
    "Se asume un ángulo $\\theta \\simeq 0$ por lo que los haces $1$ y $2$ se dirigirán hacía arriba siguiendo la vertical.\n",
    "\n",
    "Del enunciado sabemos que\n",
    "- $n_2 = 1.5$\n",
    "- $n_1 = n_3 = 1$\n",
    "- $d = 0.4\\,\\mathrm{\\mu m}$"
   ]
  },
  {
   "cell_type": "code",
   "execution_count": 1,
   "metadata": {},
   "outputs": [],
   "source": [
    "import sympy as sym"
   ]
  },
  {
   "cell_type": "code",
   "execution_count": 2,
   "metadata": {
    "colab": {},
    "colab_type": "code",
    "id": "oYLZUSmkNSEo"
   },
   "outputs": [],
   "source": [
    "delta, d, lambda0, n1, n2, n3= sym.symbols('\\delta d \\lambda_0 n_1 n_2 n_3')\n",
    "delta_phi = sym.Symbol(r'\\delta \\varphi')"
   ]
  },
  {
   "cell_type": "markdown",
   "metadata": {
    "colab_type": "text",
    "id": "iDyKX10yNSE1"
   },
   "source": [
    "La fase del haz $1$ menos la del haz $2$, la llamada diferencia de fase es"
   ]
  },
  {
   "cell_type": "code",
   "execution_count": 3,
   "metadata": {
    "colab": {
     "base_uri": "https://localhost:8080/",
     "height": 40
    },
    "colab_type": "code",
    "id": "6FaQm_A2NSE3",
    "outputId": "946f24c1-0435-40d5-b8d6-3bc185212bdf"
   },
   "outputs": [
    {
     "data": {
      "text/latex": [
       "$\\displaystyle \\delta = \\delta \\varphi + \\frac{4 \\pi d n_{2}}{\\lambda_{0}}$"
      ],
      "text/plain": [
       "Eq(\\delta, \\delta \\varphi + 4*pi*d*n_2/\\lambda_0)"
      ]
     },
     "execution_count": 3,
     "metadata": {},
     "output_type": "execute_result"
    }
   ],
   "source": [
    "CO_exp = 2* n2* d\n",
    "delta_exp= (2* sym.pi/ lambda0)* CO_exp + delta_phi\n",
    "sym.Eq(delta, delta_exp)"
   ]
  },
  {
   "cell_type": "markdown",
   "metadata": {
    "colab_type": "text",
    "id": "SJ7myJu6NSFE"
   },
   "source": [
    "La reflexión del haz $1$ se produce de un medio con índice menor a uno mayor por la que sufre un salto de fase de $+\\pi$.\n",
    "Por tanto la diferencia de fase es"
   ]
  },
  {
   "cell_type": "code",
   "execution_count": 4,
   "metadata": {
    "colab": {
     "base_uri": "https://localhost:8080/",
     "height": 40
    },
    "colab_type": "code",
    "id": "Mgn5FzZCNSFG",
    "outputId": "37265e30-c6f8-49d7-fc45-673f4652856e"
   },
   "outputs": [
    {
     "data": {
      "text/latex": [
       "$\\displaystyle \\delta = - \\pi + \\frac{4 \\pi d n_{2}}{\\lambda_{0}}$"
      ],
      "text/plain": [
       "Eq(\\delta, -pi + 4*pi*d*n_2/\\lambda_0)"
      ]
     },
     "execution_count": 4,
     "metadata": {},
     "output_type": "execute_result"
    }
   ],
   "source": [
    "delta_subs = delta_exp.subs(delta_phi, -sym.pi)\n",
    "sym.Eq(delta, delta_subs)"
   ]
  },
  {
   "cell_type": "markdown",
   "metadata": {
    "colab_type": "text",
    "id": "wvsKPqTXNSFQ"
   },
   "source": [
    "Entendemos lograr una \"intensificación\" como obtener un máximo de interferencia.\n",
    "Esto se logra cuando"
   ]
  },
  {
   "cell_type": "code",
   "execution_count": 5,
   "metadata": {
    "colab": {
     "base_uri": "https://localhost:8080/",
     "height": 38
    },
    "colab_type": "code",
    "id": "pklR4KN3NSFU",
    "outputId": "cbb81a86-f36f-4aa9-dd88-5dd5a10ac490"
   },
   "outputs": [
    {
     "data": {
      "text/latex": [
       "$\\displaystyle \\delta = 2 \\pi m$"
      ],
      "text/plain": [
       "Eq(\\delta, 2*pi*m)"
      ]
     },
     "execution_count": 5,
     "metadata": {},
     "output_type": "execute_result"
    }
   ],
   "source": [
    "m = sym.symbols('m')\n",
    "cond_max = 2* sym.pi* m\n",
    "sym.Eq(delta, cond_max )"
   ]
  },
  {
   "cell_type": "markdown",
   "metadata": {
    "colab_type": "text",
    "id": "KavL12w2NSFi"
   },
   "source": [
    "Que resulta ser"
   ]
  },
  {
   "cell_type": "code",
   "execution_count": 6,
   "metadata": {
    "colab": {
     "base_uri": "https://localhost:8080/",
     "height": 40
    },
    "colab_type": "code",
    "id": "UjHqpVAHNSFk",
    "outputId": "86b52b49-47af-4ae0-b8f9-788ffd9d0733"
   },
   "outputs": [
    {
     "data": {
      "text/latex": [
       "$\\displaystyle - \\pi + \\frac{4 \\pi d n_{2}}{\\lambda_{0}} = 2 \\pi m$"
      ],
      "text/plain": [
       "Eq(-pi + 4*pi*d*n_2/\\lambda_0, 2*pi*m)"
      ]
     },
     "execution_count": 6,
     "metadata": {},
     "output_type": "execute_result"
    }
   ],
   "source": [
    "delta_max = sym.Eq(delta_subs, cond_max)\n",
    "delta_max"
   ]
  },
  {
   "cell_type": "markdown",
   "metadata": {
    "colab_type": "text",
    "id": "1xZB7uL4NSFt"
   },
   "source": [
    "De esta igualdad se pueden despejar las posibles longitudes de onda en el vacío en función del $m \\in \\mathbb{N}_0$"
   ]
  },
  {
   "cell_type": "code",
   "execution_count": 7,
   "metadata": {
    "colab": {
     "base_uri": "https://localhost:8080/",
     "height": 39
    },
    "colab_type": "code",
    "id": "dNuaz8XLNSFw",
    "outputId": "d0f3906f-90e4-44a7-8871-e247f95c373c"
   },
   "outputs": [
    {
     "data": {
      "text/latex": [
       "$\\displaystyle \\lambda_{0} = \\frac{4 d n_{2}}{2 m + 1}$"
      ],
      "text/plain": [
       "Eq(\\lambda_0, 4*d*n_2/(2*m + 1))"
      ]
     },
     "execution_count": 7,
     "metadata": {},
     "output_type": "execute_result"
    }
   ],
   "source": [
    "lambda0_exp = sym.solve(delta_max, lambda0)[0]\n",
    "sym.Eq(lambda0, lambda0_exp)"
   ]
  },
  {
   "cell_type": "markdown",
   "metadata": {
    "colab_type": "text",
    "id": "TBTbF6XSNSF4"
   },
   "source": [
    "Asignaré los valores que conocemos del enunciado."
   ]
  },
  {
   "cell_type": "code",
   "execution_count": 8,
   "metadata": {
    "colab": {
     "base_uri": "https://localhost:8080/",
     "height": 41
    },
    "colab_type": "code",
    "id": "4koPV9OXNSF6",
    "outputId": "138f0418-55b4-49eb-b3c1-39fc8cb48b73"
   },
   "outputs": [
    {
     "data": {
      "text/latex": [
       "$\\displaystyle \\frac{2.4 \\cdot 10^{-6}}{2 m + 1}$"
      ],
      "text/plain": [
       "2.4e-6/(2*m + 1)"
      ]
     },
     "execution_count": 8,
     "metadata": {},
     "output_type": "execute_result"
    }
   ],
   "source": [
    "n2_val = 1.5\n",
    "d_val = 0.4E-6\n",
    "datos = {\n",
    "    n2 : n2_val,\n",
    "    d : d_val\n",
    "}\n",
    "lambda0_subs = lambda0_exp.subs(datos)\n",
    "lambda0_subs"
   ]
  },
  {
   "cell_type": "markdown",
   "metadata": {
    "colab_type": "text",
    "id": "w3XjVftgNSGE"
   },
   "source": [
    "Y obtengo valores de $\\lambda_0$ para diversos $m$"
   ]
  },
  {
   "cell_type": "code",
   "execution_count": 9,
   "metadata": {
    "colab": {},
    "colab_type": "code",
    "id": "akazEduxNSGF"
   },
   "outputs": [],
   "source": [
    "import numpy as np"
   ]
  },
  {
   "cell_type": "code",
   "execution_count": 10,
   "metadata": {
    "colab": {
     "base_uri": "https://localhost:8080/",
     "height": 34
    },
    "colab_type": "code",
    "id": "wQq3-NSpNSGP",
    "outputId": "d0e9c3f9-34ce-45d5-fa1b-e496ac02fe62"
   },
   "outputs": [
    {
     "data": {
      "text/plain": [
       "array([0, 1, 2, 3, 4])"
      ]
     },
     "execution_count": 10,
     "metadata": {},
     "output_type": "execute_result"
    }
   ],
   "source": [
    "m_valores = np.arange(5)\n",
    "m_valores # valores de m que probaré"
   ]
  },
  {
   "cell_type": "code",
   "execution_count": 11,
   "metadata": {
    "colab": {},
    "colab_type": "code",
    "id": "S7IRUhcZNSGZ"
   },
   "outputs": [],
   "source": [
    "lambda0_lambdify = sym.lambdify(m, lambda0_subs) # lo convierto en una expresión numérica\n",
    "lambda0_lambdify(m_valores) # longitudes de onda para esos m"
   ]
  },
  {
   "cell_type": "markdown",
   "metadata": {
    "colab_type": "text",
    "id": "Z0kZqrzrNSGv"
   },
   "source": [
    "El rango de longitudes de enda del visible va desde los $400\\,\\mathrm{nm}$ hasta los $790\\,\\mathrm{nm}$.\n",
    "Esto es $4.00\\,10^{-7}\\,\\mathrm{m}$ a $7.90\\,10^{-7}\\,\\mathrm{m}$."
   ]
  },
  {
   "cell_type": "markdown",
   "metadata": {
    "colab_type": "text",
    "id": "Ktw9JSRINSGw"
   },
   "source": [
    "Así que del rango visible solo el de $480\\,\\mathrm{nm}$ es intensificado, que corresponde a $m=1$."
   ]
  }
 ],
 "metadata": {
  "colab": {
   "collapsed_sections": [],
   "name": "interferenciaAmplitud_ej3.ipynb",
   "provenance": []
  },
  "kernelspec": {
   "display_name": "Python 3",
   "language": "python",
   "name": "python3"
  },
  "language_info": {
   "codemirror_mode": {
    "name": "ipython",
    "version": 3
   },
   "file_extension": ".py",
   "mimetype": "text/x-python",
   "name": "python",
   "nbconvert_exporter": "python",
   "pygments_lexer": "ipython3",
   "version": "3.7.3"
  }
 },
 "nbformat": 4,
 "nbformat_minor": 4
}
