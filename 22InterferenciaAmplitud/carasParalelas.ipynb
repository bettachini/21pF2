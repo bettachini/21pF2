{
  "nbformat": 4,
  "nbformat_minor": 0,
  "metadata": {
    "kernelspec": {
      "display_name": "Python 3",
      "language": "python",
      "name": "python3"
    },
    "language_info": {
      "codemirror_mode": {
        "name": "ipython",
        "version": 3
      },
      "file_extension": ".py",
      "mimetype": "text/x-python",
      "name": "python",
      "nbconvert_exporter": "python",
      "pygments_lexer": "ipython3",
      "version": "3.7.3"
    },
    "colab": {
      "name": "interferenciaAmplitud_ej3.ipynb",
      "provenance": [],
      "collapsed_sections": []
    }
  },
  "cells": [
    {
      "cell_type": "markdown",
      "metadata": {
        "id": "z0lB56NRNSEa",
        "colab_type": "text"
      },
      "source": [
        "# Interferencia por división de amplitud | Guía de ejercicios"
      ]
    },
    {
      "cell_type": "markdown",
      "metadata": {
        "id": "5WeVQW3TNSEc",
        "colab_type": "text"
      },
      "source": [
        "## Ejericio 3\n",
        "\n",
        "### Enunciado\n",
        "Una lámina de vidrio de $0.40\\,\\mathrm{\\mu m}$ de espesor es iluminada por un haz de luz blanca normal a la lámina.\n",
        "El índice de refracción es de $1.5$.\n",
        "¿Qué longitudes de onda del espectro visible, $400$ a $790\\,\\mathrm{nm}$, serán intensificadas en el haz reflejado?"
      ]
    },
    {
      "cell_type": "markdown",
      "metadata": {
        "id": "6ww921lENSEk",
        "colab_type": "text"
      },
      "source": [
        "### Resolución\n",
        "Asumo una geometría como la de la figura"
      ]
    },
    {
      "cell_type": "code",
      "metadata": {
        "id": "dh0zEFbkPI9x",
        "colab_type": "code",
        "colab": {
          "base_uri": "https://localhost:8080/",
          "height": 190
        },
        "outputId": "a8a5995c-4792-4657-ac49-4bfca0268d22"
      },
      "source": [
        "from IPython.display import Image\n",
        "from IPython.display import display\n",
        "try:\n",
        "  import google.colab\n",
        "  imagen = Image(url= \"https://drive.google.com/uc?id=1-lRABQZXUxlt1jVQjgwTR-rYDAMEYlHI\", width=400)\n",
        "except:\n",
        "  imagen = Image(filename= \"ej5-21.png\", width=400)\n",
        "display(imagen)"
      ],
      "execution_count": 14,
      "outputs": [
        {
          "output_type": "display_data",
          "data": {
            "text/html": [
              "<img src=\"https://drive.google.com/uc?id=1-lRABQZXUxlt1jVQjgwTR-rYDAMEYlHI\" width=\"400\"/>"
            ],
            "text/plain": [
              "<IPython.core.display.Image object>"
            ]
          },
          "metadata": {
            "tags": []
          }
        }
      ]
    },
    {
      "cell_type": "markdown",
      "metadata": {
        "id": "AEt38VSFPJ6M",
        "colab_type": "text"
      },
      "source": [
        "El ángulo $\\theta = 0$ por lo que los haces $1$ y $2$ se dirigirán hacía arriba siguiendo la vertical.\n",
        "\n",
        "Del enunciado sabemos que\n",
        "- $n_2 = 1.5$\n",
        "- $n_1 = n_3 = 1$\n",
        "- $d = 0.4\\,\\mathrm{\\mu m}$"
      ]
    },
    {
      "cell_type": "code",
      "metadata": {
        "id": "WfAjFSaANSEF",
        "colab_type": "code",
        "colab": {}
      },
      "source": [
        "import sympy as sym\n",
        "try:\n",
        "  import google.colab\n",
        "  # Solución al problema de renderizar ecuaciones bajo sympy en Google Colaboratory\n",
        "  # https://stackoverflow.com/questions/52010001/latex-output-from-sympy-does-not-correctly-display-in-google-colaboratory-jupyte\n",
        "  def colab_LaTeX_printer(exp, **options):\n",
        "    from google.colab.output._publish import javascript\n",
        "    url_ = \"https://colab.research.google.com/static/mathjax/MathJax.js?\"\n",
        "    cfg_ = \"config=TeX-MML-AM_HTMLorMML\" # \"config=default\"\n",
        "    javascript(url=url_+cfg_)\n",
        "    return sym.printing.latex(exp, **options)\n",
        "  sym.init_printing(use_latex=\"mathjax\", latex_printer=colab_LaTeX_printer)\n",
        "except:\n",
        "  sym.init_printing()"
      ],
      "execution_count": 15,
      "outputs": []
    },
    {
      "cell_type": "code",
      "metadata": {
        "id": "oYLZUSmkNSEo",
        "colab_type": "code",
        "colab": {}
      },
      "source": [
        "delta, d, lambda0, n1, n2, n3= sym.symbols('\\delta d \\lambda_0 n_1 n_2 n_3')\n",
        "delta_phi = sym.Symbol(r'\\delta \\varphi')"
      ],
      "execution_count": 16,
      "outputs": []
    },
    {
      "cell_type": "markdown",
      "metadata": {
        "id": "iDyKX10yNSE1",
        "colab_type": "text"
      },
      "source": [
        "La fase del haz $1$ menos la del haz $2$, la llamada diferencia de fase es"
      ]
    },
    {
      "cell_type": "code",
      "metadata": {
        "id": "6FaQm_A2NSE3",
        "colab_type": "code",
        "colab": {
          "base_uri": "https://localhost:8080/",
          "height": 40
        },
        "outputId": "946f24c1-0435-40d5-b8d6-3bc185212bdf"
      },
      "source": [
        "CO_exp = 2* n2* d\n",
        "delta_exp= (2* sym.pi/ lambda0)* CO_exp + delta_phi\n",
        "sym.Eq(delta, delta_exp)"
      ],
      "execution_count": 17,
      "outputs": [
        {
          "output_type": "display_data",
          "data": {
            "text/html": [
              "<script src='https://colab.research.google.com/static/mathjax/MathJax.js?config=TeX-MML-AM_HTMLorMML'></script>"
            ],
            "text/plain": [
              "<IPython.core.display.HTML object>"
            ]
          },
          "metadata": {
            "tags": []
          }
        },
        {
          "output_type": "execute_result",
          "data": {
            "text/latex": "$$\\delta = \\delta \\varphi + \\frac{4 \\pi}{\\lambda_0} d n_{2}$$",
            "text/plain": [
              "                          4⋅π⋅d⋅n₂\n",
              "\\delta = \\delta \\varphi + ────────\n",
              "                          \\lambda₀"
            ]
          },
          "metadata": {
            "tags": []
          },
          "execution_count": 17
        }
      ]
    },
    {
      "cell_type": "markdown",
      "metadata": {
        "id": "SJ7myJu6NSFE",
        "colab_type": "text"
      },
      "source": [
        "La reflexión del haz $1$ se produce de un medio con índice menor a uno mayor por la que sufre un salto de fase de $+\\pi$.\n",
        "Por tanto la diferencia de fase es"
      ]
    },
    {
      "cell_type": "code",
      "metadata": {
        "id": "Mgn5FzZCNSFG",
        "colab_type": "code",
        "colab": {
          "base_uri": "https://localhost:8080/",
          "height": 40
        },
        "outputId": "37265e30-c6f8-49d7-fc45-673f4652856e"
      },
      "source": [
        "delta_subs = delta_exp.subs(delta_phi, -sym.pi)\n",
        "sym.Eq(delta, delta_subs)"
      ],
      "execution_count": 18,
      "outputs": [
        {
          "output_type": "display_data",
          "data": {
            "text/html": [
              "<script src='https://colab.research.google.com/static/mathjax/MathJax.js?config=TeX-MML-AM_HTMLorMML'></script>"
            ],
            "text/plain": [
              "<IPython.core.display.HTML object>"
            ]
          },
          "metadata": {
            "tags": []
          }
        },
        {
          "output_type": "execute_result",
          "data": {
            "text/latex": "$$\\delta = - \\pi + \\frac{4 \\pi}{\\lambda_0} d n_{2}$$",
            "text/plain": [
              "              4⋅π⋅d⋅n₂\n",
              "\\delta = -π + ────────\n",
              "              \\lambda₀"
            ]
          },
          "metadata": {
            "tags": []
          },
          "execution_count": 18
        }
      ]
    },
    {
      "cell_type": "markdown",
      "metadata": {
        "id": "wvsKPqTXNSFQ",
        "colab_type": "text"
      },
      "source": [
        "Entendemos lograr una \"intensificación\" como obtener un máximo de interferencia.\n",
        "Esto se logra cuando"
      ]
    },
    {
      "cell_type": "code",
      "metadata": {
        "id": "pklR4KN3NSFU",
        "colab_type": "code",
        "colab": {
          "base_uri": "https://localhost:8080/",
          "height": 38
        },
        "outputId": "cbb81a86-f36f-4aa9-dd88-5dd5a10ac490"
      },
      "source": [
        "m = sym.symbols('m')\n",
        "cond_max = 2* sym.pi* m\n",
        "sym.Eq(delta, cond_max )"
      ],
      "execution_count": 19,
      "outputs": [
        {
          "output_type": "display_data",
          "data": {
            "text/html": [
              "<script src='https://colab.research.google.com/static/mathjax/MathJax.js?config=TeX-MML-AM_HTMLorMML'></script>"
            ],
            "text/plain": [
              "<IPython.core.display.HTML object>"
            ]
          },
          "metadata": {
            "tags": []
          }
        },
        {
          "output_type": "execute_result",
          "data": {
            "text/latex": "$$\\delta = 2 \\pi m$$",
            "text/plain": [
              "\\delta = 2⋅π⋅m"
            ]
          },
          "metadata": {
            "tags": []
          },
          "execution_count": 19
        }
      ]
    },
    {
      "cell_type": "markdown",
      "metadata": {
        "id": "KavL12w2NSFi",
        "colab_type": "text"
      },
      "source": [
        "Que resulta ser"
      ]
    },
    {
      "cell_type": "code",
      "metadata": {
        "id": "UjHqpVAHNSFk",
        "colab_type": "code",
        "colab": {
          "base_uri": "https://localhost:8080/",
          "height": 40
        },
        "outputId": "86b52b49-47af-4ae0-b8f9-788ffd9d0733"
      },
      "source": [
        "delta_max = sym.Eq(delta_subs, cond_max)\n",
        "delta_max"
      ],
      "execution_count": 20,
      "outputs": [
        {
          "output_type": "display_data",
          "data": {
            "text/html": [
              "<script src='https://colab.research.google.com/static/mathjax/MathJax.js?config=TeX-MML-AM_HTMLorMML'></script>"
            ],
            "text/plain": [
              "<IPython.core.display.HTML object>"
            ]
          },
          "metadata": {
            "tags": []
          }
        },
        {
          "output_type": "execute_result",
          "data": {
            "text/latex": "$$- \\pi + \\frac{4 \\pi}{\\lambda_0} d n_{2} = 2 \\pi m$$",
            "text/plain": [
              "     4⋅π⋅d⋅n₂        \n",
              "-π + ──────── = 2⋅π⋅m\n",
              "     \\lambda₀        "
            ]
          },
          "metadata": {
            "tags": []
          },
          "execution_count": 20
        }
      ]
    },
    {
      "cell_type": "markdown",
      "metadata": {
        "id": "1xZB7uL4NSFt",
        "colab_type": "text"
      },
      "source": [
        "De esta igualdad se pueden despejar las posibles longitudes de onda en el vacío en función del $m \\in \\mathbb{N}_0$"
      ]
    },
    {
      "cell_type": "code",
      "metadata": {
        "id": "dNuaz8XLNSFw",
        "colab_type": "code",
        "colab": {
          "base_uri": "https://localhost:8080/",
          "height": 39
        },
        "outputId": "d0f3906f-90e4-44a7-8871-e247f95c373c"
      },
      "source": [
        "lambda0_exp = sym.solve(delta_max, lambda0)[0]\n",
        "sym.Eq(lambda0, lambda0_exp)"
      ],
      "execution_count": 21,
      "outputs": [
        {
          "output_type": "display_data",
          "data": {
            "text/html": [
              "<script src='https://colab.research.google.com/static/mathjax/MathJax.js?config=TeX-MML-AM_HTMLorMML'></script>"
            ],
            "text/plain": [
              "<IPython.core.display.HTML object>"
            ]
          },
          "metadata": {
            "tags": []
          }
        },
        {
          "output_type": "execute_result",
          "data": {
            "text/latex": "$$\\lambda_0 = \\frac{4 d n_{2}}{2 m + 1}$$",
            "text/plain": [
              "            4⋅d⋅n₂\n",
              "\\lambda₀ = ───────\n",
              "           2⋅m + 1"
            ]
          },
          "metadata": {
            "tags": []
          },
          "execution_count": 21
        }
      ]
    },
    {
      "cell_type": "markdown",
      "metadata": {
        "id": "TBTbF6XSNSF4",
        "colab_type": "text"
      },
      "source": [
        "Asignaré los valores que conocemos del enunciado."
      ]
    },
    {
      "cell_type": "code",
      "metadata": {
        "id": "4koPV9OXNSF6",
        "colab_type": "code",
        "colab": {
          "base_uri": "https://localhost:8080/",
          "height": 41
        },
        "outputId": "138f0418-55b4-49eb-b3c1-39fc8cb48b73"
      },
      "source": [
        "n2_val = 1.5\n",
        "d_val = 0.4E-6\n",
        "datos = {\n",
        "    n2 : n2_val,\n",
        "    d : d_val\n",
        "}\n",
        "lambda0_subs = lambda0_exp.subs(datos)\n",
        "lambda0_subs"
      ],
      "execution_count": 22,
      "outputs": [
        {
          "output_type": "display_data",
          "data": {
            "text/html": [
              "<script src='https://colab.research.google.com/static/mathjax/MathJax.js?config=TeX-MML-AM_HTMLorMML'></script>"
            ],
            "text/plain": [
              "<IPython.core.display.HTML object>"
            ]
          },
          "metadata": {
            "tags": []
          }
        },
        {
          "output_type": "execute_result",
          "data": {
            "text/latex": "$$\\frac{2.4 \\cdot 10^{-6}}{2 m + 1}$$",
            "text/plain": [
              " 2.4e-6\n",
              "───────\n",
              "2⋅m + 1"
            ]
          },
          "metadata": {
            "tags": []
          },
          "execution_count": 22
        }
      ]
    },
    {
      "cell_type": "markdown",
      "metadata": {
        "id": "w3XjVftgNSGE",
        "colab_type": "text"
      },
      "source": [
        "Y obtengo valores de $\\lambda_0$ para diversos $m$"
      ]
    },
    {
      "cell_type": "code",
      "metadata": {
        "id": "akazEduxNSGF",
        "colab_type": "code",
        "colab": {}
      },
      "source": [
        "import numpy as np"
      ],
      "execution_count": 23,
      "outputs": []
    },
    {
      "cell_type": "code",
      "metadata": {
        "id": "wQq3-NSpNSGP",
        "colab_type": "code",
        "colab": {
          "base_uri": "https://localhost:8080/",
          "height": 34
        },
        "outputId": "d0e9c3f9-34ce-45d5-fa1b-e496ac02fe62"
      },
      "source": [
        "m_valores = np.arange(5)\n",
        "m_valores # valores de m que probaré"
      ],
      "execution_count": 24,
      "outputs": [
        {
          "output_type": "execute_result",
          "data": {
            "text/plain": [
              "array([0, 1, 2, 3, 4])"
            ]
          },
          "metadata": {
            "tags": []
          },
          "execution_count": 24
        }
      ]
    },
    {
      "cell_type": "code",
      "metadata": {
        "id": "S7IRUhcZNSGZ",
        "colab_type": "code",
        "colab": {}
      },
      "source": [
        "lambda0_lambdify = sym.lambdify(m, lambda0_subs) # lo convierto en una expresión numérica"
      ],
      "execution_count": 25,
      "outputs": []
    },
    {
      "cell_type": "code",
      "metadata": {
        "id": "COXwwDE2NSGn",
        "colab_type": "code",
        "colab": {
          "base_uri": "https://localhost:8080/",
          "height": 51
        },
        "outputId": "6df41c96-1b80-40f4-c854-66b1829dfa72"
      },
      "source": [
        "lambda0_lambdify(m_valores) # longitudes de onda para esos m"
      ],
      "execution_count": 26,
      "outputs": [
        {
          "output_type": "execute_result",
          "data": {
            "text/plain": [
              "array([2.40000000e-06, 8.00000000e-07, 4.80000000e-07, 3.42857143e-07,\n",
              "       2.66666667e-07])"
            ]
          },
          "metadata": {
            "tags": []
          },
          "execution_count": 26
        }
      ]
    },
    {
      "cell_type": "markdown",
      "metadata": {
        "id": "Z0kZqrzrNSGv",
        "colab_type": "text"
      },
      "source": [
        "El rango de longitudes de enda del visible va desde los $400\\,\\mathrm{nm}$ hasta los $790\\,\\mathrm{nm}$.\n",
        "Esto es $4.00\\,10^{-7}\\,\\mathrm{m}$ a $7.90\\,10^{-7}\\,\\mathrm{m}$."
      ]
    },
    {
      "cell_type": "markdown",
      "metadata": {
        "id": "Ktw9JSRINSGw",
        "colab_type": "text"
      },
      "source": [
        "Así que del rango visible solo el de $480\\,\\mathrm{nm}$ es intensificado, que corresponde a $m=1$."
      ]
    }
  ]
}