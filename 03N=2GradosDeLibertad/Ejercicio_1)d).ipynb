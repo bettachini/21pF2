{
 "cells": [
  {
   "cell_type": "code",
   "execution_count": 1,
   "metadata": {
    "id": "AR_uwqVdjaV0"
   },
   "outputs": [],
   "source": [
    "import numpy as np\n",
    "from matplotlib import pyplot as plt\n",
    "from matplotlib.animation import FuncAnimation\n",
    "from matplotlib import rc\n",
    "import ipywidgets as iwy\n",
    "\n",
    "rc('animation', html='html5');"
   ]
  },
  {
   "cell_type": "markdown",
   "metadata": {
    "id": "Sr56DSEVQ6eQ"
   },
   "source": [
    "Tengo un sistema de masas unidas por resortes cuyo desplazamiento de su respectiva posicion de equilibro puede ser descrito por el sistema de ecuaciones :\n",
    "\n",
    " $$\\begin{cases} \\ddot\\psi_a = -2\\frac{k}{m}\\psi_a + \\frac{k}{m}\\psi_b \\\\[10pt] \\ddot\\psi_b = \\frac{k}{m}\\psi_a + -\\frac{k}{m}\\psi_b \\end{cases} $$ \n",
    "\n",
    "Donde la distancia de las masa a y b respecto a la pared donde comienza el resorte es: \n",
    "\n",
    "$$x_a = l_0 + \\psi_a \\\\[10pt] x_b = l_0 + \\psi_b$$\n",
    "\n",
    "Siendo las condiciones iniciales: $\\psi_a(0), \\psi_b(0), \\dot\\psi_a(0) = \\dot\\psi_b(0) = 0$\n",
    "\n",
    "Resolviendo el sistema llego a que: \n",
    "$$\\begin{cases} \\psi_a(t) = Acos(w_1t) + Bcos(w_2t) \\\\[10pt]\n",
    "  \\psi_b(t) = \\frac{3}{2}Acos(w_1t) - Bcos(w_2t) \\end{cases}$$\n",
    "\n",
    "Donde\n",
    "$$A = \\frac{2}{5}(\\psi_a(0) + \\psi_b(0)), \\;\\;\n",
    "  B = \\frac{3}{5}\\psi_a(0) - \\frac{2}{5}\\psi_b(0) \\\\[10pt]\n",
    "  w_1 = \\sqrt{\\frac{k}{2m}}, \\;\\; w_2 = \\sqrt{\\frac{3k}{m}}$$\n",
    "\n",
    "Esta situacion puede simularse con python:"
   ]
  },
  {
   "cell_type": "code",
   "execution_count": 2,
   "metadata": {
    "id": "lcH0nEZfOh_b"
   },
   "outputs": [],
   "source": [
    "# Variables y condiciones iniciales\n",
    "m_a = 1  # m_b = m_a * 2/3 relacion implicita en mi sistema de ecuaciones\n",
    "\n",
    "velocidad_inicial = 0  # m/s\n",
    "\n",
    "# Descripcion movimiento\n",
    "\n",
    "def psi_a(t, psi_inicial_1, psi_inicial_2, k):\n",
    "  A = (psi_inicial_1 + psi_inicial_2) * 2/5\n",
    "  B = psi_inicial_1 * 3/5 - psi_inicial_2 * 2/5\n",
    "\n",
    "  w1 = np.sqrt(k/(2 * m_a))\n",
    "  w2 = np.sqrt(3 * k / m_a)\n",
    "\n",
    "  return A * np.cos(w1 * t) + B * np.cos(w2 * t)\n",
    "\n",
    "\n",
    "def psi_b(t, psi_inicial_1, psi_inicial_2, k):\n",
    "  A = (psi_inicial_1 + psi_inicial_2) * 2/5\n",
    "  B = psi_inicial_1 * 3/5 - psi_inicial_2 * 2/5\n",
    "\n",
    "  w1 = np.sqrt(k/(2 * m_a))\n",
    "  w2 = np.sqrt(3 * k / m_a)\n",
    "\n",
    "  return 3/2 * A * np.cos(w1 * t) - B * np.cos(w2 * t)"
   ]
  },
  {
   "cell_type": "markdown",
   "metadata": {
    "id": "YwE2FIkIPsuk"
   },
   "source": [
    "El codigo siguiente presenta un grafico de desplazamiento en funcion del tiempo para cada masa. Se agregaron sliders para experimentar"
   ]
  },
  {
   "cell_type": "code",
   "execution_count": 3,
   "metadata": {
    "colab": {
     "base_uri": "https://localhost:8080/",
     "height": 440,
     "referenced_widgets": [
      "cb9cc2db20684cda985fa4a86f2fc658",
      "9e1e0b3ea41f41288698ee867575397c",
      "2387eb3a5b844ff3afafa4adf89f9520",
      "dfa9e04f52234828ad6e49165e9e3ec7",
      "fce7f5332f5f4271815f678ca5e16ab9",
      "ee1cfa947fa54b208c7865cf7b41d135",
      "a3294ec56b0944ae9b5a5b1d98200d8e",
      "571aa75de46341399dddccbd0d1fd716",
      "240aa88cf4fb4fc88ce11ede7139c1bb",
      "8800d2b3fdd9453897816fd1ddb3c6bf",
      "6832635454854ce8be689fa38d68b23e",
      "e269bee0a11b4776aadebea128d5868a",
      "3610e986f1944561b005fa613fb86e8c",
      "322b4349b6fc4a3d82e179893802a1e4",
      "510345c618164e008df8ca3373dc8e73",
      "c24d6390cc364eec9776b102a61da5b8"
     ]
    },
    "id": "eBvFZBwlavKE",
    "outputId": "f93e7817-3138-494d-cfa4-20f8d05520c5"
   },
   "outputs": [
    {
     "data": {
      "application/vnd.jupyter.widget-view+json": {
       "model_id": "e9b15a9f27aa4a3db607335cdf9d38e9",
       "version_major": 2,
       "version_minor": 0
      },
      "text/plain": [
       "interactive(children=(FloatSlider(value=1.0, description='k', max=5.0, min=0.1, step=0.3), FloatSlider(value=0…"
      ]
     },
     "metadata": {},
     "output_type": "display_data"
    },
    {
     "data": {
      "text/plain": [
       "<function __main__.movimiento(k=1, psi_inicial_1=0, psi_inicial_2=1, tiempo=10)>"
      ]
     },
     "execution_count": 3,
     "metadata": {},
     "output_type": "execute_result"
    }
   ],
   "source": [
    "# @iwy.interact(k=(0.1, 5, 0.3), psi_inicial_1=(-2, 2, 0.1), psi_inicial_2=(-2, 2, 0.1), tiempo=(0.1, 60, 1))\n",
    "# def movimiento(k, psi_inicial_1, psi_inicial_2, tiempo):\n",
    "def movimiento(k = 1, psi_inicial_1 = 0, psi_inicial_2 = 1, tiempo = 10):\n",
    "\n",
    "  # Grafico de la solucion\n",
    "  t = np.linspace(0, tiempo, 500)\n",
    "\n",
    "  plt.plot(t, psi_a(t, psi_inicial_1, psi_inicial_2, k))\n",
    "  plt.plot(t, psi_b(t, psi_inicial_1, psi_inicial_2, k))\n",
    "\n",
    "  plt.title('Desplazamiento de la posicion inicial de equilibrio')\n",
    "  plt.xlabel('Tiempo [s]')\n",
    "  plt.ylabel('Desplazamiento [m]')\n",
    "\n",
    "  plt.plot()\n",
    "\n",
    "\n",
    "iwy.interact(movimiento, k=(0.1, 5, 0.3), psi_inicial_1=(-2, 2, 0.1), psi_inicial_2=(-2, 2, 0.1), tiempo=(0.1, 60, 1))"
   ]
  },
  {
   "cell_type": "markdown",
   "metadata": {
    "id": "1wKSRAd4EMBR"
   },
   "source": [
    "Tambien se puede llevar a cabo una animacion muy ilustrativa\n"
   ]
  },
  {
   "cell_type": "code",
   "execution_count": 4,
   "metadata": {
    "colab": {
     "base_uri": "https://localhost:8080/",
     "height": 309
    },
    "id": "s4kQeXhbEUJZ",
    "outputId": "aa34be42-aee9-416a-9029-db13fd7da106"
   },
   "outputs": [
    {
     "data": {
      "text/html": [
       "<video width=\"432\" height=\"288\" controls autoplay loop>\n",
       "  <source type=\"video/mp4\" src=\"data:video/mp4;base64,AAAAHGZ0eXBNNFYgAAACAGlzb21pc28yYXZjMQAAAAhmcmVlAABmCG1kYXQAAAKtBgX//6ncRem9\n",
       "5tlIt5Ys2CDZI+7veDI2NCAtIGNvcmUgMTU1IHIyOTE3IDBhODRkOTggLSBILjI2NC9NUEVHLTQg\n",
       "QVZDIGNvZGVjIC0gQ29weWxlZnQgMjAwMy0yMDE4IC0gaHR0cDovL3d3dy52aWRlb2xhbi5vcmcv\n",
       "eDI2NC5odG1sIC0gb3B0aW9uczogY2FiYWM9MSByZWY9MyBkZWJsb2NrPTE6MDowIGFuYWx5c2U9\n",
       "MHgzOjB4MTEzIG1lPWhleCBzdWJtZT03IHBzeT0xIHBzeV9yZD0xLjAwOjAuMDAgbWl4ZWRfcmVm\n",
       "PTEgbWVfcmFuZ2U9MTYgY2hyb21hX21lPTEgdHJlbGxpcz0xIDh4OGRjdD0xIGNxbT0wIGRlYWR6\n",
       "b25lPTIxLDExIGZhc3RfcHNraXA9MSBjaHJvbWFfcXBfb2Zmc2V0PS0yIHRocmVhZHM9MyBsb29r\n",
       "YWhlYWRfdGhyZWFkcz0xIHNsaWNlZF90aHJlYWRzPTAgbnI9MCBkZWNpbWF0ZT0xIGludGVybGFj\n",
       "ZWQ9MCBibHVyYXlfY29tcGF0PTAgY29uc3RyYWluZWRfaW50cmE9MCBiZnJhbWVzPTMgYl9weXJh\n",
       "bWlkPTIgYl9hZGFwdD0xIGJfYmlhcz0wIGRpcmVjdD0xIHdlaWdodGI9MSBvcGVuX2dvcD0wIHdl\n",
       "aWdodHA9MiBrZXlpbnQ9MjUwIGtleWludF9taW49NiBzY2VuZWN1dD00MCBpbnRyYV9yZWZyZXNo\n",
       "PTAgcmNfbG9va2FoZWFkPTQwIHJjPWNyZiBtYnRyZWU9MSBjcmY9MjMuMCBxY29tcD0wLjYwIHFw\n",
       "bWluPTAgcXBtYXg9NjkgcXBzdGVwPTQgaXBfcmF0aW89MS40MCBhcT0xOjEuMDAAgAAAHGlliIQA\n",
       "Ev/+963fgU3AQO1rulc4tMurlDQ9UfaUpni2SAAAAwADjiHS/tO287UAtD4/jb5e2WlqY+VbcK5a\n",
       "NRxqR8wsqhCv+uooqtiEUbUoHR0AajLYOrBQLEmKYaR3UCiTErxiRXyrI/lsr7d79+8WFY2+8Zl1\n",
       "xcGj6vi1+TL8zljfvNal/FkodQ5kLquYy7/XlEcTFoPnbTZIR7hbrsJi19u0uYE2peizqfgD5n6X\n",
       "Oxi3MRP5RzhTkKiw/naaSn/Z/Mh+T+fyFtKmvKtylPmu8hObDo3u1KD0j3IDYNZvMB3r2eLUb/N3\n",
       "B/ZR4AqQExazVaw1oFYySYhiDF0U+9K69UMeTFiSfwVmwKhRYb9CuK0H1GZ486rJWFIo9xkXUD72\n",
       "93HBxIBlJbTB4mv9mwUICo39GW1KRVxIaYySsI9sphoK645KUF+NQVGd/KpFHMp/JKgJixEozdgU\n",
       "OHp9MNaDy2mD3/l+xLmXL7mI9pUrgB5TZ4HUElGlCQDxtjxxbhZ2JgMnEV6GPbfd3T2CVhTOBHbz\n",
       "vTOtK/PyOhryDwgAuHwwfDPyUUfTevR5SZld7u2bXD04N/97MgZuS5HYGyhauPEOXjfmQSZEf//B\n",
       "AQgxNmAweQO5upaHcLEayQILgsWuHgziuPf6pljhEINsVuP/3Bsra8gqZHxrxbab9+sH71Q/Mjva\n",
       "2y4YDCXuLCgw166pRC3wZcdAohkkty8BzpPRxiqD+feK3CtkiOQaa/o8cFPBVIqNkACbw63IPtf+\n",
       "d6dBqhUWJzgbJaZc4yURvz9CV4H7tsOz/HmbRNDp2Ef4eUdbWQc7YTqUfPQ/h5Fi6E1W/jd6NITg\n",
       "tO3dQyR6zQ79yr9V3Dizmec5UBsHqmtPt1kF9llaBprbUl5WFZbWJ+H9csrWazZVjZ9jI38c8nDH\n",
       "AzwzibEefHw2miVu1fGG68G/l1nRKjNJbO0y7nsT4JjHK2OV+ZNS/lGB//GjLv60v8UrO/5Eh3G/\n",
       "I46DtBZiYwa5vFZQ0KiBft7tI3RZT63zCVYg0NDgokKG/gvhT803+Bobz3f0n0uAsqPSgaZt4lHh\n",
       "1eisUCR4aSz0DYlemV1euYxFMr3EVO76rTiykzl2SRubu9QBob5hgc2wf7mXK69ux7ruYG4z/Cdf\n",
       "o8Jq4udjvveEySdEJ6Clp2Y6knMyujq0qzySQtrSt9oJnZcIUsux5rHvEyc2vTDySSkhZ+9Aan3a\n",
       "fBfVAeHWO0ZHdbM0l3bVC2N+g5cfRdbNRgTmBsd/AtLWBD6qaKTZnViSfm5stMoEvT3AcVSm+kKT\n",
       "zdVNbpAn9CdpA92Z2dDIirsvV0Zw/Vtzz/97n5EQbk7IKGdn0Gz1eVX+cEsRGol2pEZfR7r5qg4J\n",
       "f4Csv/n6V8v11YB+y9jLFVxWE9quah+4Ohkxzj5/flfxt23Lt/RA9R4BXrqY26tkUnRJbv154djz\n",
       "umM9tU5yl0JGnytroumnp5zDpBi7w67L835nBp2kMf0++JaTfgtkKOfPZYiQ5FuSJfWKLHqIbu7d\n",
       "cHiG8HL2KfQYKHKcJsvhihKLb8/85FnD4KXMQontFaUzegId+xNYmWuBn+3oPBKFE0mwlRgj/+fN\n",
       "6AXk57cdaQghpgZ9jsKI87k1hvOcta3xhxR88r2QtvQanGhqnPQkUre3jrflmtQWuAcMt5LZkY93\n",
       "ObDqg2L/uH/vpJPC0dTYkYO802ZYBmo/zRDYl8G/9IMzzDERwyv27nTOpFvpXUC6uUkOO043Zc3q\n",
       "NiAT2EER4OgYGWKHuUqiRMbmiwHDyaVvV2XEUvwpqlnekrRwgRXfQqU+VRxJJQ5O9CAZJznRv4y9\n",
       "OkOUtFK7p9VGoLZ1tgCEliYY1k4f6T2YTSfutr0yaFZhv4eoUkv/aLSq9yVfFypNmlO2u/zrdSfc\n",
       "sVepOXJ0/g8bkEMno9K3hrtPRqxzXVWvAXswsKx9PPB7dy3kZN2HQKjOKgQmyFNg7HYc959NbRcJ\n",
       "a+QsNkzMMyc3NFI819duLVgQkt9IkBKLo8qIVanAD/xCd+X0JTsvrD4LXQuyFS6ANYSVZNTwRM32\n",
       "pGGllPEftJZJHZRga7Cv0nBg/jFwT7qrOoqCwMYDQwkcPU97OjMMbMjWXamqO2IxzXsTc3uP4zem\n",
       "BtmAIce8E1slJIIFXOxBh+XXgAb6s5RHwVteIavawZlcngyKcwdoNgd8tt3i3l7VnZ/zcIZlgw0t\n",
       "bUzwvkqwtaFBZ+T1mbdY0ezyMlMNgGGCr98z/E5b0BmKFIBr6nieoILjIesp8DQ13vJxwENnpoeL\n",
       "OXlRkGzF1eyu6FWYnAMSq8s5ZnfM4nrGHWH3IWdcYAquHvjJnEq+x24OIacZAmj+An7Oanwtjqk3\n",
       "ceI756wUrw/us4aYHdO3onT8UJ6mY3H2NXtg5VRfyQqfISHkcEiry0iNW17plYQ+A0khEl9oLeO+\n",
       "5+jWU/fQdEDkJFoslQ63/QGYaAJQxkGGF9CndDzODLc3criLiP/Pf9nd2TwXRAbrvw9fu6xt9r/a\n",
       "SF/1mjmT1gMVO8nrwH1G0vPsMKoP6xJp1Sa0XKIjphIN0tazfGWTeBoz50F/pmwXNaR8orUwubRQ\n",
       "ruVWAHzjv9WlIdtRfymzPwWedBf67uoeB9mm80V/lnzyyFor2Zcz/55bzCpRtpuuX89qgHL8TbIR\n",
       "qsNqNC2t2Q0LrACm+JDHz4v/RNz84WnvRTpZw4znNa7VYCAChOTx+VI9SHwPSeR5OouEfAFAOikL\n",
       "hNDbgNXHKVZ8qboyg4VGf/kQl9EFjJyF/8VFMx4zlYG0469KYvJ1Ji8GLzoavn3tBkfPAmUd/p4f\n",
       "+HFEYYmp14RWj0QRtSBYs0WmJIZvXJoyCGqBUU5Mqv445A/CV5NpZBCTiXfPr8awW4bdWmzqBYK6\n",
       "2WluMIVwP0siWp8zGPH1aVC6Q7PngroKbq4uw3Y13dLs7vnESKw5zSQ2Nfr8xgmS1Er9lv3+pvOa\n",
       "77Om8k4zK9U994Na2S5TcWD3UTKH/Gqr34QpjzlYDqPCSdr3vqw0uHvXkXAOtWytncTxuAKIykwL\n",
       "yCclAYPTQTGXkL9YVdJvSVE3t5pRsF0gOHeUHxyAZDOfZ3juwd6r6J7qmXv13W3021HaYDQ+5nQI\n",
       "jQ3BX4OkcSVtmeAosS4NuATjrdAA4gpDI9/sA8p3kH7QM20jQG5lcObsU1F6VUbhDuvdBVicYe6a\n",
       "3w8HJA6WkzSLHMNZXkKyfDMyPQDfDMe7Djq5Ik/rUr3iHR6qIfzd745oR84EuAeL4hx6BuOel0TU\n",
       "AAMCosxmYETRKKeNIAjSJiOkdV7Izh0nZZNG2D1MtZKZbFfW50b66CwxTewQHijANx5zkZi09rx/\n",
       "nnH5ireuFFYw190Sl4Hlkx8/KaLEr4X/dutGe368U1WRkext/IwcSoKliMMSVZibcCb4Jz7SAdQ8\n",
       "vpVonG1O7Ris79q/9NOFxtNfXnz5foB7FFpQiL/mhievYFtsk66EaCxZxJ8z8TiGmcbI7gxWu57P\n",
       "KnnwVqEJZ/h4cwVNpOoJUkjh+wE+FrgRIaSAvMBUuDENiahm+s7vgTqDLvYSBx5wabOOGq3KRQ0u\n",
       "dSSVU5BLjo4r8dKZ980qDtrZ2lYJD1aCp7sNILuxqVUA71jT8QzkcKF8qfTA7QkBod9cpr/4vRFo\n",
       "R09z9MJUMfwzwPXzU6IJ/33ycO3lXgh2UKGX6flKldL2cTt1kRxL+fCVAKCNUFJ/p/taOA4G8Dw8\n",
       "SjJVqO0aHbpGgjYLl3LZHIMq0GBh6YdZ/MNCRo7Fm7r1gpkKtjbpQ8cHVuYXSOTkt8z5BJm4iBbn\n",
       "vGlU+W7LWwyM3fd20brZ3kUI5bY/DVmYTbV+sJ3UCWagdAVTm35KoW6TfhNkzUZOCN/dI/QKW6NM\n",
       "+qJk3s+JfJJ6xzYykpmmPJEZ5Y1Te3++EKts4reRcP5m1qNTgKtoutdYVJ0EBJcJA2XSJImuVihF\n",
       "9/hpYMs9hWbqN51JvxGUPZt+aoO3R3N/cSGB92+b7roLuvVIVwImenKwWZ+hEYW2bOpWF3EhHm2+\n",
       "LkiMsk7Hfsn6jBZEe1C2lKJWpDYOk3ZxJ104qZ7omId9QV8g9234qfeRzmJ+/iJMLw7tDiDSi4XT\n",
       "X21jrPU3XUBBynoKxObr5H7DqLhNAEW/JTU6NqK14mZcEKQiss459a4ppZNIr//PWoeXcB4gKThX\n",
       "Cn/96HBZiGtLrFS5g/DpMycnE/ZcM6vqMmpvjBXslKnvVpVnXhzZsFdVQp4H0kIhZhENiRtWH8oN\n",
       "9NP/Qi+Hb2Q3noH23Lf1kbJTKYGz82J/177DqH/0iHxZYJrvFIjtuV/IfkCTWM8zbIA9YLe8PDBE\n",
       "C4p09Dzi/nrLsfOET6OEtN2diOW4uUcShBbnV2UYcBlBkz+Enz1ImVBJ/uIzn4sBr5N0TkIZMQqq\n",
       "8UTZqvC3sVqe5ok71Az1BxthTkUvWzm9YanRNBgxP1IlHnrXHkjFy0/H3O+O3EjA2b1fX+vmWrrr\n",
       "qv9nsIMHMxrHH0zioiYhcnyeGrnd46w6MpKX4OISKUJ6Q7baHAtYp1jWw7wDY/Ckv+3QS6ccwe75\n",
       "I9UFWB907c7fJPb6Sn1i0YAnrpvT69MKdTU6cbVWCY1apTh9hFRkdj8tbghqkq6ODLGlG0DH0KSP\n",
       "LyYgmU9+jgwGPionL86ljMTG/y/hLQS8QVxFEPwnhKwK9CMXvup2HlxbUakZ9It6Tv4pxdefWIAE\n",
       "YJUeTeZrmIfmCJHFipOcfVQGAjoD29FkARhD5NOBBlRr0X3LdHPw/jLTJYQx0I57WN4ScAYKCkHK\n",
       "FhZVwWbU2sKyQ4o4bAKcrlNoI5vfd6nxBkLTX5ZP4kMzUIoeeEO0Qt//mnP40F7K7ElF3V/OMh0v\n",
       "aP5nwuTO5t+dnU353o6zawmm8Oz+mf+SbpTWI0sglauNhZkVJiQa4juXK5LA1EvuVYcQ7bF6Kw6b\n",
       "2Z+w4eVwm2XHxrTi0epANWV54ZyebW2kYGLs/At3faHxU0SpEDEoX/enoWCzSdeoKNwBwlTLgP/8\n",
       "16Ujh4eA3ffqBcX0n6ossycUP8yPssmTMyUD5Uj8HgJ49sppwfWXTN+TFOUPwfZkDLrVAW5PN0eQ\n",
       "XyANK52+lzyJsaHtEnF2zqu/IyuNTa1RW2X5V+iHpZ/V+P8NeNmgeAhPitIfnPzBNAWjYP6EyPaf\n",
       "yl72LXYwpa8m/l/zCuyT0zQBEq+2lBkjbiHiOobn/g+5SA19lXZ1d9hRvswx9uv6uLrFNQ4Z3kJL\n",
       "1IP3G/FIakEw78Yh1OXz2H/7AciKAS0oYkLu8eZfv3WCnJc8qw+UmXu+1QtY3As4LwyVoncWiC+y\n",
       "5XQSdUGSzxsQNUwYtuc+9ERiebgCjVH0g7DOT52UpkOoc8j6JRN7Wi3Q1M5hXDpBayPkXLtcjWgJ\n",
       "LEMUwU+41NRVhRmdW5NqNK6URh5IQ7EF2u/+uV39pwZ/HEfRg9PKGWE1t9hx9SF0tJjKXZeQRJnY\n",
       "yfedy5HItY0zCp9r3S1f4AJcb+ReGdIOGwOkbys2Eiv6GGQYmPz/0/h2I+/HSeIgaYQYu7T6uTKQ\n",
       "U9HGDR7as3kA6pi81b7XLI639syq8l8Tr2ULRutjv3oCU5/7Ip8KDF//NFqyOlmL1uMCIZBbMfyF\n",
       "gO/8ZRqw4cSzoRu1lAtelbl19jxH97yr9KhSml6bEU2oQoHYK+cJ/bgbX27XCUdDU7hs7sWLrhQM\n",
       "DcjvFwiqmpWlzGr3Fmxj5SFqtloj7uVV1n/V6ZAABTJb/7MwME1OraCdt/aXhmpI3JVqCC1PfB8/\n",
       "EnT2izdpHZVPAn5NJYOE7fE2c3g/NXcbERYmih0GNEoUM2wbkWHZ+dofxFNjwMH70HCBVgEr9TA9\n",
       "SqpmUrQYV9mf24yK9jNAnmyiaow/9FJeUXD6BT9wOxRmveeFxsbYol27GTm0KMpgtXiOaFLXIzKD\n",
       "8qnyzu2iPXzjKz5KMTo3lYz5rlyySqpxmwIARyrjIOmxSpbMiyIeHhr+6EPXWIlfWfDM2onEHVRi\n",
       "Rusgovlyo00X7WQ+9eAPLhhIoHX9aN+G5JAQsMBRh0/Q+hckIEp/sL5mSSCykV3VKP/FD/zEY11b\n",
       "14lr2RyYVNgICvMVE5CH2CdzdK8HsW9/jnvDcwfBtCxqZc2m1yWa4S9MljZ469pyzqpWLtEsElyo\n",
       "zm+wMIaS4b+dsIHV03U25ehrgABTrBsdpMCVQYpO1JaLFFLPedC2+b/B8MHKX5W9a8+SAeA3nlYn\n",
       "VGwSGyJk8JpIwtWKk7q6J1XbctCoZlyai2RyCzuEIM5sxdrTHWmHScc8CR44yIO8vw7iH758SNp1\n",
       "VCWmFo3ZiHr3ubLGvkemc07nJiBszfKr+jD8OoqKS75RjF6WIXPfb30CXV8QN5GNDQLwnKYsR54W\n",
       "Xnrxcu/9tN67YXfF8a/cmQfBNgw8gnFNZ4Z0XhiAk1cNOx/nQke2Awq3wHbx93otpOFl/fAlouZn\n",
       "+qCzNI31Tm5jgKCnOZWUN20WopBqJhl4ItjV+tnfAI9k4EGrUvH04xN1ASeZfeU+7FxpuasvuW7U\n",
       "YOZZ46dbI2Bzfg2SK0nR/t6dApfbKZOT7VkuUqaz6RIN5jQM8JoX83UIcPs3Co0Y5c7WVwWJVmCd\n",
       "wdEGuhKBtfKQCM7Ei6VDobEF2f3dlB/THNiQ7f/GxMara183lOyfCMqDdSIvF/rg7WfwgT8ocSxF\n",
       "z/GIaks0/+nnwlA5kSXzXr1WMxFuvCX1RN83ILiFVZUZDHGbRRAYX0M94r/zDOK3jOT48XL2tBYZ\n",
       "1RAefm32O4kwCOPocgNBpVrxJ6NFgmKso7itq8RfE0TMcG9hXIyIsZisokWVOY2VrerxUKisbN+r\n",
       "6WxSP/yxfK8hUDgL9NSQjM3Ybc7uxEMiITvIg/THTHIWnPxv7NArh6TQUchxPVj7xa+/dS024ln6\n",
       "cTPsxY1hL5MrAdQypBn9P41YvqCpso7IbX6FD97Jl4r76uVrEGyOph4mVtQTOTtSbyHe2qLqWA7d\n",
       "1RAobHior4idCqLJGJbBAZJOeIL6TayMIwH/sfq4lxP4GFuvUZxlwpRqyuSVJibGgpYUQtJdk8r6\n",
       "efKKYJUsR5yGHZ9yJka7/K6WtzIX0ZgUs0hEiZU+CsIcoUq2UvlwKwCNt4hgtaLN6UFKrBiKZkcz\n",
       "YIV1JHKej3KXByveAUJ1rYAAL2ZqEDOUP9aHjhITSL0sASxmS5phm3Jrp2tD77mTQifNZwU/M+Ur\n",
       "Y+d0zELQvs8X9W463ApxcCQ6ifP5QFDdy2l20yEaG3pP2yRsWbOuw+yxTQYT59kgQRlXawgGW34Y\n",
       "MWvsMtNOExqlO8+I0u6Ba11cy6tQSUF56iQRLjsfl5MklWO50r8xghhh+9fI9j/0YijyPfc/F1Rv\n",
       "4Nh/lxaBD1Ob8SyKpiq9F8/8EHcfGwoBCcgspGhMHq/iEwXCQWQhZ0cIadNBLT/SC1k8j7K0Qtzy\n",
       "pUN+aB0sBHzdTQ3uQCehJTC82rB/vtfjPUnj50VKAJbYXdedlnZH0ohs/EXbK9RJ7zSxqK6tUppR\n",
       "v9JFovAHYVvgU/Lca+G5wrHtoVlIZdq3R4dVFKHXl9hzTia1o0cZl0YdnaV7kKkqb7tQegcL1yL1\n",
       "zbL0gCOaEZhIL1Dyn/8kqftT2amBqKKh+a+A+fpzSJ5e2q37OhkBQy0dLMZK8JpZo8ybLv+lXWgM\n",
       "Wi63p6+YtLJa27aNG266/aHcIzw716xW2I3+wLmXnG32Ay0zf8pQ01qdMGxDC2RBIzZ2mF6fQzgd\n",
       "rd/ZIIVRBzikMtaTRbEbXloIu4v0rf0zHpVVXxwnKT3VuOnXC9L2UElQpYZ3P/FDE/GBX7OgF1Op\n",
       "S5ojtHFOS8L5qpWrqBf529f8OceiqnqxhlGNpFKmjuVdym7KOqqXm/m4mirVEuGtEReH5n4M1lFQ\n",
       "UitT6k1qMgZJqnOLUZCWZd/MxcWr+3KtuMtcF2xGczA1mNc95WWpbWk8U6YmmQGbmM4S8KaDvbwY\n",
       "E6IQpF/31HLgAvpVC6hKIouxceW1aoaOKhdaPhToRrLUtrSeKNCwO6PnEiRu0FfpAEP8KEhUIB2+\n",
       "Dkje2twcCA/PgxDu6fDhU+LikHEgE51Dbrb66+SvIZrdLfV7xA31/69kiCaMR0/+4VxNINqOlr6A\n",
       "UBBov1mnNQOZFnV4arUl67gsQvPwRf83eHD+CobZWvcRpn6gnwDhCC9YRNxnggCy9PvN8ExX2+0L\n",
       "g8BSoPEilMVAGIllxA+h5mW0KjbuV9BaFvVlH+fwntPTJ7Ss0hfPNCtqiX3dk/Knxk+4G9SKCzry\n",
       "Yk1Jdjty1FNs3MM6XDK0qz5LBdgRynfdlzw8eLHGkdLGPLNAodeBdW3eSc92s49puqh2xHK6A/9d\n",
       "lfbxbf5c+79cWlcudsl10qUzu8Gx4eU6F/lIYkXSTPkcl2CLb84hYFTdo03WmgTm88HVHdXJCCj5\n",
       "V6WplRracddm+fud2LoRldsVpDAtQkMEi8ucpEERVH9MhfHHEg42JrLuDNYo2QlxbEPfFgIuJnlN\n",
       "1YyfP7LgghnzJnDW83dHkjYmthkC0qxmZiY3+XOpgkVIG+QoLEa0S7MeJJn7bRjdWVN01Xnt5Fn/\n",
       "mdTBOACSb/lsqQFWlMvWmn4XemMaKzCgntAV2YUBbmIkR/PgMHh/klR+NpS0JGqTVTBtoq57FJC0\n",
       "hzdE6GtgRcSUk3qR7P1e6009VcFS09odAfxfnkrwgY0ORRITaW+v5krtCcr5v+FRqE9yqt8PaEhf\n",
       "93eEHt7G3JgMXvmH3fyJI5q2r0l9wdfNRFk0AhHQxrYg21ScaYZj6Rp7fkoIoTEQtd/VbJHtwAtc\n",
       "crZhXqGlTWLRhgNHzrN5FYBknanGJoDJ6JjC4lcoN9HW7MoUbYvpijW19y0RE2Rg0asCCfz/L4vR\n",
       "Bz0X/XuAemxKOccmucB75Ue7MRj6sb7aD3waDWvsrGxy5n/1uKwPb6jTO71R/FdfDfQx7Umm/nfo\n",
       "/gSNkvhrT6buAAQRBz6pBDCOy6yM2p1ei5wPWINDd5l2QSaqaTh4RorIo9dV3Jr+22Qdgw1ywxiL\n",
       "LMJHsKy2OzkTJ+84dc1LpLUKebvs5htOxOiezU9YcrrxFzV36Gbm1cmcSK/CBwqg7pKhtD9LA2+B\n",
       "am0qWcdLjkOg8FG3K9XLl7DhiF/6qJ5OU9EJQUAjlz2+m01/0TZLfvnk9hUdeUVkQBdICiJq++PH\n",
       "dybmOs9ZBxx2m6zyTzDCvpVW9blkz1sDKadyH4GN7LrwxtnDrRP6Z2Y1mFTaXCblx2h763HJbsxn\n",
       "hhq4Wfw+NsAcgd9D2FFnF+hKNQ/NAd0vGOcG4V2m1TCIfqmtsADXABxtLQASHU1r6AtJHvbl+0AU\n",
       "lU3mlOxKoePbGE2Ie0DZaLfdzfAjx/BWTjxPwgVxWFNne7IFKhZMI9vG92JZEobT86GE3hWu03fc\n",
       "JS1gWW+A5NQ18fcX6PynUVpATyPyA7TSev6SEFJ/tTX4R8xXHVxcLgUjDKd/qIZkzTMWbkobLvRZ\n",
       "tme8ScYczV1k4Ib31Mqxc3+9T+P7N7H5yFTCsvU7+34giRovb47YDDiRgsQpFfot9I4mxGudh81q\n",
       "zCp0QoFR8T6L6cjCOwUdDUGm3z+8MfhOL/roo6qtL1B/IWMvTIlP5b3g4B57Ivi/7otKCjq1aTNG\n",
       "/JCac9zqr5ZavJKwom1dY/1qYdSY7RUzdBOYSOuBAAAD40GaI2xBL/61KoDbbzYAcfdgmQdfCdzu\n",
       "ZQgZUwSlzuj27u91OY9HFukmAt15Ct3Wkrev+Cb9+lqBcEgkGErqNhqXJ4bE4vNM6j/20gTyroMf\n",
       "x2OPXP3a46HdbTHinrA2KW+b/sYZcoFsK0ejmHwQkMZzbY2jJ8qbEVmv6jjCOFfLA2GVqs6SKRwI\n",
       "UkVa/W9ns4AtXtwqUujCiYlJvo3b4A5wSd/uP6wcVuepoPhUT+qa+dQGraclqSy8fEpYFXJqIZQb\n",
       "HyIJ4/H7xYU85D8Its4vxdLtD+LTHrIX/s9BeMJB11hMtjc9wyMz9SUozxg0JeviIkPOqAohaQ6A\n",
       "lAeebmXxmKU+BjuXNtOdO7qIsI3A1GH4AHvmQalLAhc2j5BISPxV3+jxNKGaG76zFDm0to7EVk82\n",
       "GeOp0OQVDmycY75Wd5vxt5xeGjOoTS0D1f1f8XiyVawsm71c4K05Ld2kQYz3uBlHApcbqmH9Badi\n",
       "F9bFSJEMWwxjOPvZj537Ll4rRjZho5ow4pI0x69iCQpsqhPsTC32HpoHx9obCXIb21HKxofYgUpY\n",
       "stJCjBuS/TklWlYMp+FehtaJf4CXq/jmlZlght6/85uIVMNEPZiwsAjS1Hfafd1gKdfB1xZbLcSg\n",
       "2+jva3Z6jhkD6BfrAnEmXa2j9fuRxqs9cJpG4cIocaRKFYnEMIqxCw+HNncLTGDWFV6A7X5nicFa\n",
       "FAv7Ad672BgEiQYbUwArRzhqauKAwz5QGrI713H5+4I8wbitS3pWqUmacJn+g64uW6/qIBKYC0vg\n",
       "0oQ7Y7cFkgCOw4ykmUV8oipdf3u9NRmKlLtaTOCGh1CCZQNGJcGG+RN3fY/rp8csEVDGiRD/mLFo\n",
       "+29jhES1AqhZQcUOaxEQtrBQl1032SHx6n8bpd+FlKPl8HrYATutVklVRJRPmCzAZIsxt7RmHnmP\n",
       "sAAWo07waaYjSBki5nVTswdae/05ZRVNSfT3iQG1MzTXqBGdnn6bqGZKa9Q56hzY+d7mGpntdHTC\n",
       "efyxbN2Q1JS/lfSb0tfG5uPmGHOw4gt2qFL0X7eBjV/5u2FnwjyDaICu/wg5nIfDuunaLANh2S70\n",
       "4VAs2YQxsRfljkAZA7Mw4jX0Z796AZzTWw/H9lCOmGtQZIOyRfQAdnUxK4zpXu6/L77SAomkQM41\n",
       "PobRXaOUu2PA+mJnf6GEclGD+nBvMLgtZ+DcPWFu1L/+Yzr/jcrrMnzYxgE0rcjPXVsAWozhf0mL\n",
       "KXwtAS7nhs3XG4Q+Jcpte0tn8wjQvUWIEwN8SPVNrpo3wyzBVXiUGoVK1WJoLmievuBrGGdlswHB\n",
       "5XmgAAABK0GeQXiH/wCgY7ABfXwX1LyT0bcnl1nnH/okIck5h5qe/d56aAjpRCfmovZ/g27/dVez\n",
       "0dDQPJekJLF8f+4Jl+ABbl+vGoA6MzWYLkg1hvpChYaUEheWjCM6kJxcT+yP6R5FPXHtxLnpH624\n",
       "DO14wPoHJ9+eOY5E25a5Rmj+12HLPth3TApVxo/OnQuxy86xE2prpzjk6jRHSODPKYSYark8IpZp\n",
       "YMAIIVQjp80tM8SoQDFrzlYBnzy82qUnJq8utGfMFuAND+epwiuc+0xvnNzG0gLPF/3b3yYEiVWK\n",
       "i3edL08CY/ouysNUIeB1wgxCtgDCoDU6oaP9N96+08JIFQNGP9Ne62+d9yHMsJzmLyoXM04wP0MX\n",
       "OgffLsdYpRaY2nskEQ9P96LiSE6BAAAAuAGeYmpDvwDZUNqkwN3LaJ5/uCf7EABO3Db+8sQtmAub\n",
       "Khvu2LeENNWOPXL9Md+RBKBjkFiG08HF0O1jlg928ddvylKB/4T6O79Oq0LhQYLmmT3p/mMRy2Yy\n",
       "GuP4eZvTAAEr7tDxj6xae0vcyta4pr+vpEpovhEvfEGzqXdofPLRG+BMsIfBbHf7edw1sjT+e5NA\n",
       "UtNa4r3vBM/31yJ+idoJrYZrQnLqaf6UHA9iSUifOw1bkwaWBqwAAAErQZpnSahBaJlMCCP//rUq\n",
       "gNunOwBYfpWJ4dm6bv5M1TzdxYKJH+/fWdy1EE2LvCnAJLmC6t+gpB+pnNbwtXSGt4DRsAxdTPIK\n",
       "vyhDf9NpM9LCsW69NsGQBfxBhkcchAtZYfL0ZHf9ua5NPJr+3/CV8XlepseUOA8qf0D0KvHf5eTH\n",
       "5NZaWCS8+xOeXLa2BCqmFKQKIprQ/vOvd7SgiGwEvo5KhoLd7KDLtWtPv0AEb+86SsjP81a3ojE8\n",
       "PgmbuaukeXTN8V8piBUQ6JJRZvvengxK2zWuPlvXGXsP+1DArfEZ3SskKIKgQ4Qs1ZEx9z8cP+nR\n",
       "oWW2tOQwnyGHu/M2HPC6ONmMWOwu58lodNyWCR8RrrUQuXmR1ERclhp4kDQKI7txMieG4XdvEMEA\n",
       "AAFzQZ6FRREsP/8Ak86QYAIUphuyHbOJxlZMx5T5pki8ybDv8O3+8+1s/6AiNESdqejUFb0zQ0+K\n",
       "Z/MLdZ8ECAnoEgDwaMHTDqBpWGjpJQkot6g/bUKWsqErWqbxsr3FrLOKfYQPzghMsCXpxiyLM4wH\n",
       "biacRoRbDtsBd47Fzdhapjcj3qLrKZUmtbR0ZXtekprIvo7OwflNCbf0afN4RkzC3dRFVfFWHFxm\n",
       "Z1p0UAD+aLTcBSf+aj+0I4oKJdHuAfcHGa2KE4BJ22e/kGjgmvNIWexZoCQ1CLYWjzb7xkU5pDZb\n",
       "SYWPgWL09hdfLyBf5QqRS0FYtakFbifTJZlJE7cNmRCjtDzuHu6MpGPl1w5bYBRDYSaz+YTA5ck3\n",
       "iBybPY12ATNkXak/hGEbPX0RFie2r/GcImrayCdY3UVBF5ZyNseaFxBfxuZIenr3R80rr7poPa9M\n",
       "xdt4xxd9YRRWgwrPxEzdnLFXf6TJ2zaKCMPfpXTXDykAAACMAZ6kdEO/DK/Mz+avQAOyvEO94dJu\n",
       "RQw+ZDooycGRDKpljHPK0IoJ+1GfXWuIXPLKGo5WxAKSU6kY693fknSUGsrhPGNRDhsAwuxIVY++\n",
       "CtlFdeAAz2xoYb9mgWHfgJotJzsN5qlC4K7r8CAATCi1W2uwT8ZaWUsBTP/Rgt8033MMrpc7oEWv\n",
       "oM19XpcAAACYAZ6makO/DKIuLmPg7ChgMLvDjmqoJwoUNHB3W2AD85iMHVOI3dZWAtm6OKyhJ1K6\n",
       "C7elhUCDcLOcaq5e0qmfVPkRH+z4hwevcQ7ccXHI1O1+nNwMhvG8y1VOYKe61KGypWL/SIVftcbb\n",
       "5k+ltjLwZZM0ET5K4mqCEVOcIW0oKbLFI/Be7soaMfZErwj8ZbcKi5vxLfV4BYUAAAEJQZqoSahB\n",
       "bJlMCCX//rUqgNrF4AARNvDXHLQUvsrDNaYPMJH2j3OY0sY1W+A4n1N7PUzd+M/3yQ2lb1ua7TIZ\n",
       "msL07Ppb+0jM8JTc+eb2AL4NHTbvb/rPbJxKJ9vWKOGQwWcCJKKxvNrp5jZ2OEr2nobczX+AiceF\n",
       "SQr4KlEV8eUc9wLA+4NlyvNRYDnWLRyyyJJ6KBHux5WW57V2/hpnKySpEnjuE3Q7rPgPsWOoi8jx\n",
       "iU1EcVhUUzOVudjzUtqZhwBfKan+Jb3n1gR9UfzOCrBfwqJE6LkIaLsVx/PZWMHmqsgnWIJc5KZF\n",
       "MNMmhWr6L23i5u0hLfC1T/82B45IRfVwcpU//OVThAAAAMZBmspJ4QpSZTBRUsEv/rUqgLzNxAAi\n",
       "bc1IPLYpWHV/kuvykEwRZ6DKGHoeuUyeJDYiMBM5dYmz2S70w9ZHMxlwk+iAOuX/n17HCulTWkY0\n",
       "Eg0BBkjMpqIzSNoXxyFSF2vp6Yrx9wIYNL902wC0v/GTeIfPjk4b/A/guyNY0ZvBIG7u/jz+QSvY\n",
       "iBESaRLq1F2jgb/MGaolE8+OwCgwKnSxx2+KrYULWMzFCISelMPwm1nE3TW5ZZ/+oAvPyPyLUBL9\n",
       "L18msCAAAAEqAZ7pakO/AM+ElaYgvG2FTgZMxT53hzIATkWk+BaJF/qzh5LfT8gZsxfw3yxZzb+L\n",
       "jaj5QWavCX7yyvPxKRz56tAkRQyhLcbZCSkadVdnRJBmzu/IlVTPGEjsb2Wy+pW8gO3Z5GbepAaX\n",
       "1fv9YyL8M8H09f1MrdsDAJkK6kjyTZDlf2KtHC7hVz3kwu03+DIAarX/7HmYD85+KvKa4pfIfq9o\n",
       "RpOYZ/lG6w9uemhlOmKKjQ5ZI0kY5JcV8avnJvkXXQZalDrXwmN9sgnCG3b3u/AfjOx6oqoxWE8N\n",
       "tiJb28KlXArEaibPTJNNLxlkJOLmRTSd5wnP1DUa59MYy7ZVSYn19JnxGI8OpB72X/FZU60UPpNB\n",
       "QyHxWPxJTB5zhqcvKTlJ/yUuRzGBQwAAAVxBmu5J4Q6JlMCCX/61KoC8HXNACMtzUg8tilYdX+S6\n",
       "/Pg1lSk7nFCO16l7XLlZmvf50vbnrlMniQ2egcqXdQpXVjFS4OyA5k6b6aDmr6fnXQ3yzI5TqYVQ\n",
       "cXpvv8X0YO4Dn42j/xiw14LIowx34uRNTrgoDllf+epGXV5u1PHGmNN/O46SGexJT5Ne+a8Z+uHv\n",
       "+EX4LPUzxhAm9xrFzCu+uG1LECz8P++Jidi/zFlLZ0Og9o0y8lmMYCVDWtDe7YY3A2vAjyuw6Edd\n",
       "i6JWTNyfjQgLOezoczU1qqPL49sdw4XYBQEy7/bjTn4PjdCXfmkgg4JL939gcgXVQBqofr2c2/tK\n",
       "M94NMh2vihmTYv+K5hdAgWKrVmuEG5OzQj/XYXS3X94IO0N0ZUiTH2Nj6OXQTBip/UQUv4XwnxVF\n",
       "frxmLF3freRv79LH0uyH5ODKgxwmSsndZFC8c2OdY6AAAADFQZ8MRRU8P/8AlxWeBNgyoAFTnNvP\n",
       "310ADZSU+wyb4bX9FKd2a+oxCVnl2X7cQl1N1H4ffGb+aLChN9oZfive+f9hoTKM40+0F9lwV69O\n",
       "dH7O1gF2i4NYxq41PDAwLWIFO2PvNSx2M/Mp7m3pvPHXxus6ryxb1kkvEv3PxcW7HyhvWpUP2LwZ\n",
       "tzIxZN/xDbWqFiLu+ADJcOXXwtdkDwff6gksnRAj8B5RzOdTlygYf+UJMVCF7IUa3VoZgYRbRuWa\n",
       "RTmjD/AAAAC5AZ8rdEO/AM9H4Yf9BpIdI+8l1oCopB11TvABLiFAzsuysHVbcNgAugba6oOIWcGU\n",
       "slJauPOWKiPYVvoStEs6Y5u2/uNyQpDLCzcFJ4NXOrwtD5EQ/BU/rfLllsbUfFXinDVllvbb5Pzn\n",
       "pZQ0yxktYn7V1PNgGGmpYae46K5zgHuEEYF73IHCaoYgvJ9JYE+bwm4iME8iWMEPS5py212YOZDc\n",
       "Lwo0e6Gse3I3kcdb3jzS2SvuSb7yqYEAAABlAZ8takO/AM+EmpXInlD1+RQUCHUue7RAB+VEL1jD\n",
       "2WjJMqVCPicNghEa+oVW9kBiDWBOdGa53r1XqhgUDCpz/Nb9T82KsrJiRu78Tv6OCYNHj7wnztA4\n",
       "xL46V+3Tfo6fL/T8XY0AAAEEQZsxSahBaJlMCCX//rUqgLwdc0AIy3NSDy2KVh1f5Lr8/Dbjdj29\n",
       "iz657CyZGCFUESw1NrdWtdgcW8GdZ3Bmky2LV7Y33HqVWP3vwf8OCIpYKEkhvF7ObmmWKHZ88zAp\n",
       "8CBzX8Md/YyOgimM2dXItIHpzegLtMOml9CSBoLqP2pi75Ys64dzvIZUqBcbLzYJmnIg/4EG0Z6N\n",
       "lV9IW2jsKqTyzDFCA/G2bYcQDddI9tvRUsVlRf5ISLTjQGkdGZpL70ii7t7SWyfgCb60Hb3MFlCC\n",
       "Gt1SqEAXZPfFcij241v++NnxU8qKOy6LxUTlirzFMU8NAGbIPrVEFQAMVvYODTzlFbEAAACSQZ9P\n",
       "RREsP/8AlukfhCI4Dxzs86iK/AC00+ZSkqZyACa+ZGYADFU8sgxwH9gGmTlPDO1SYdVaQ91yrYZ3\n",
       "wFmuv8xpF/FW6YYqccL9RKbjblo26jC4pdcZnyltQk96LUumTh++hUpv5wSTNUjZzUjZcSzKkYbm\n",
       "yukwXs2LDDNNrbhQ18k4CnL84MWvxP4+8En013AAAAB6AZ9wakO/AAGUdPYHFwAfnIlINcHtzz61\n",
       "3m91dObsDj+PWU2oW6uNhCfBW3tUwycTOgWRT3WlDd7EAvmmYuu/wcqkO8ef6FjOknu1GqQ4cVrL\n",
       "pt6Cx/vUu/waN5zM4dcp66051wmzIl3Ku+JJ5w9Lc/NwfGK5YNfr3rAAAACiQZtzSahBbJlMFEwS\n",
       "//61KoAAZ6hHFAA6k832BydthO6nPaOzsd2fLRHg/+2vF04QzMZWt+FFLM/srRr4fvh24HJISab0\n",
       "LYJvX3OZKBpcfcVfgXhJsfOoXlolw7epYUZcpifj0Vh/RutvYnm9JyAN2jenftNrxWVhuvcgwlud\n",
       "uJcV1xcSvFG+T8qeBhVYUJym56SC2YenwR8dWc7y27PnLlPBAAAAjwGfkmpDvwABlNkCa0st/Jkf\n",
       "QAjkIN+YbFExAi0AUMz2LVEu4A8G1q1gRqbPJoJAkQwykcJQeceFzAptthIUQwxn76OYZwiXJ0Ck\n",
       "poF9tY2SWIekiK0bPqT/2LeWT3C8C4KTti5KCAirLCBIabuEslW7H3ghiqbIR8r2q9R2igVK7ouR\n",
       "2Q8tqlkHP2+0umckAAABbUGbl0nhClJlMCCX//61KoAAarcf/Ix78gBahOR6X+w5JhNwG6yBFnF7\n",
       "ANodAfZXpx9YLYi8GtbBEpjFisKN9yCroUZDDfQTIS/Gr++uXALpmmBS+qoKIE9FmIYcoiwuD5gf\n",
       "7GMNgRFWFJTA26GMfhYzlomaw16AxY8IV4mOG8USThpOerqzVf4rT4XSMxo9ZmMpen86jmbKWQUg\n",
       "YSvXWko7rFBBo+IJgEDUVn/wQVl/3yb3V+Ejpi5QZfZPuxRM8fZCrbjSQst1FkPj19jWinGMRcts\n",
       "81A+Sn8s3lRdGlT26aSWlVLWs+zC4deITY9X6IpZyRm2rPbuxQq9CeFWyYh+5Z2AQdLe88hvzNfu\n",
       "9+eL7IopeTi7u8ZQd/hw7uTI2ODS9WnZ8bv37Ot2Vs/TbKOLeA8lBK9t0aaPMxYhavTw/XqfaOTx\n",
       "BsH3Ys9+LOhRluJCunO27/PkpywRK+k5cs+doWjsk/A4usF3OPqeAAAAtUGftUU0TD//AAElg1N2\n",
       "fx+EAJRVQeMW0fWfT96+AWsCpnK8pWxvRRPVjRNwgoNgPpURx+KSMeBCGvJrfefVBTSYX3tdylBe\n",
       "M6txAOJGOF8SPfLQXlS9cgFPT6fR8lXxAXC7bJubmh8g9BxGXVCaKyHL//bZjKF6z6o9quiByg1x\n",
       "v6EChSNpQ2gZcV3UGLO+IJJ/D45Z43IUprb5kBpXf7TSbnhinZIXG9n5eIvb3M/7Co+vW8EAAABU\n",
       "AZ/UdEO/AAGe7KGOyy6AD85iMHVOI3dWkFj4e4uGZsvMGec8gHerk2OXaJjlyJZzoKYv2E8AeGTI\n",
       "F7vxen5H6GuKh7hgPrup73NzJXMR1I5d/Dq4AAAAigGf1mpDvwABnwRwTngPEALZC8wSF+4Zn5WB\n",
       "bb4GgrTvCsnUdIs0f9s/kt90y18rjaydI/pnc+WA47x2V1r0frTAf1y8BJO10KjtQ3UwhNTlxBSj\n",
       "twVCYwr1+3ZoUnNNuq4OSX/NuS3kGCJCT/a2D2yXE5zri+ey9AV5b0eS7kaaJRtJApbXV/7e2wAA\n",
       "ARdBm9tJqEFomUwIJf/+tSqAAGoqNmgzuOAAg4qhb6dKD+wRZt4+tweUkW/W4cE7T9gTJmvIciCv\n",
       "H4J9vOXTVd87zlzWnX8PLc2ZGkr/kZEuizJshqFNITfsZD4qpe30q7s0No2Yg4EC9+FS2/ft4Gcv\n",
       "uLI5c7Hjqje9lb3Ab0ZpUoWrTggvutD/uBI/ES3j4GqnYTqybqijL5/F/Lt2Y+U7E7spg0FSKQ/h\n",
       "jg76KOC6ObueFaRypoBbrssTJFiJxB+cgxyxDvYTAuf85sQIVLW20i76xmJ2so5dhxwzalh+uevz\n",
       "J14GQtr3CkGOLyqjsjgHr0i5/IPBz+bolEH9dHH15bH8YoGFbngDSDuxVuXHgPrPo+nclQUAAACO\n",
       "QZ/5RREsP/8AASVo3VC04We1YAH50IzaAOq031FPZOVdvVn/M1QG5ihxaQIJ8pL6PNPsU98+Chb2\n",
       "2NdJvEPoXKNIwq0NTJSKQ9x1JtIq5X6VIg6fhR39ExwBEy9q88PjgmDwlVEg8LWdhvmawjQroPOU\n",
       "KUx/6nQohaC0ONWrP/gdeSigU7GHG/uiP9fGwAAAAJABnhh0Q78AAZ8JiVBb/gA/OYhf1NnTacq0\n",
       "ml2QojtN3IOPYpxLnRBRum7pSAsLPd2WGXQ10oEJpPKhO3mVeNmSz+CMgtYppnpy6GhRz+yednUL\n",
       "znIDNcPMzKGhUnMntJ7gDN+Ae95ImJGuhrvUTKj46RO16pcyF6hGXuQ5WA+vnjSkzHbA6EdZIL0r\n",
       "8Z+8q6EAAACPAZ4aakO/AAGVBD7BY3EAcAEzGACwtqyOpi+/LMUQsGNKueOtWkQyZIM0eeq15GEq\n",
       "PRKQCbc4cZ2eRtCmTFnEHsQneIQlVYpWlrmmVg5DVq5RX8V0giI7KZMBC5NZF4F1nSTlBtk8GsZ6\n",
       "63Ty12Ri2h5V8vE0iQ38ufQzaB91gGbLFGD107mR6zr5gX9uXsAAAACrQZoeSahBbJlMCCX//rUq\n",
       "gABoAnFRnyACHVuJYITT9AdrwKCuYQVT1oxmgPZPcemwbrkQPBJGh1OV658J64HkoeO6rAjiCZ7w\n",
       "wEO4jKdsp7NERNhKA+5/aj7Q40WH04aCKswZTrbelumuYhr0Ta71qc6PI9ZE/LhYUCW5bcZ/BjTX\n",
       "PGRfi8G7BZS9nKDclBHUQiDXIzoXAbDn2KE28E13mAyc9tBe/w6eIbZhAAAAkkGePEUVLD//AAEc\n",
       "3Oe+ygAuUlQzCefHnvhr3Fl9DcnDsYyw3yffD79vUtlcFgoLhQkwiphw1iQyO8BUIMleRU1DCAtb\n",
       "LB9ik0By9ULsVwcbVfZE8VYpdv9MvbAkdpjEjaLwpXRm0p3WTiTGdzooYjYK8o3ocOUGemfsFu3b\n",
       "0vn5RPbpx1ajtp72Md1QQw1Z/lxDAAAA6AGeXWpDvwABlDTw9daAHFvEOEF+kqiwGBip3ZbjjrBA\n",
       "lUwqyy6DXeGMgv9hx5ap9bG/BnL9uabQYPbdh5iq7Og9DW2C7qsMu9mNk8CJiJbIr/4LprNwxOIM\n",
       "MZcn9xzzDYHksSkSYDlGsUiqo+mdqvs+7EPRnBva19OYHXisSkWuIj/nIZGxog04rXkSquBbm28I\n",
       "1kuQ9tFuQOuOhM7FQsfHTA+wi4rvtxeCJe3kS/8/7OQq47oPE5OrJC/Yanm7pOjClI0gEJbfAtQo\n",
       "ZJCLzcTWvb+IPm2G3Tkwj8hjzGAebmdYzm9JZCAAAADmQZpASahBbJlMFEwS//61KoAAaChCEgYA\n",
       "JkL45xtppbrwGdgtVg5oCmbiNaCK3j53JQaAv4AbdRaVtxgJpY+lat38NigtAt+IwmZA7uRKkOvD\n",
       "6aF1cFiSS3p2mOsVjITnfnfA9/wzHq26Ad8jQ4I9N+pRDkzq4edT+guEuTheARp15DP4PoGH6ks/\n",
       "eaCVM4c5jwYXCNBDkGjP61JsdnuvVnXx2RYzII9/5tlEbtqFsrvkH484KrOAzlknvhdY02LJH9Te\n",
       "cKK6jp/PhQqz8aHUU0POS5t+A83TIQZ7Dcd+5CNdWUDCkYAAAADCAZ5/akO/AAGe/lqyPjfhiJNN\n",
       "AB8VckGWop59faqQ7heYYUPNuCo+4AqX/EeNwEBXWbh1droPQrvg3l3ijiToR/+c5Rb5IBzyx2bi\n",
       "67jeCqJXNmKOj8KCrAyOO/VyUedTRq7qhSSuSMTMRxvgnFFVJ3k9yfN/FHiOvDuAkqataFuyNrMv\n",
       "lmuRcLJvpbXKckrfwom09lDvuuhvTZkU96bMOasT4pDVnVMTcpDiRrb28X01+NLd6dwRPcGNr+aZ\n",
       "feX9u08AAADDQZpjSeEKUmUwIJf//rUqgABoJeVmuQAP0JyQENdCs9eNoBB66Cl19WoslIen9CHX\n",
       "2P3IW2zVrQsaEtR8tn/l/+JwF8ztaedv7zY6pVRP+Xpdn/zCXotn/qPuYFBSHsqXPVFAebqytSKb\n",
       "bLv4GWgN3QMB6rJtbeKNTAODljW8osb93iw+nBCdm9AVGsJPcewou4d0VjPV990eZoeTdUOiMWOm\n",
       "ixkerERdzBu+FoW2d17/dmnB4LfEDlQgfgwQPduuv27oAAAAvkGegUU0TD//AAEdJ7Di0gBt9CM3\n",
       "GWt2NGIDnn6DnK3zjhSJiNpvuF2rJxzXQoO42BoXFNwoat6ZKgFU/wtPMqV8alZqZDNII+WoFTzg\n",
       "LmbxFgDzsrYPA74UO7qzGXos6a16cxNTIJAKReG4N1rZUJB70Jyne+WYJP9wS0XHSl9/hFrh2FHT\n",
       "ZvoWmBetVU9/B2YbCj1mVtwkLrm/SGnhkS1bNsR3OMtbNpT67s2LDmO4XeMu7brXxrCBmj/1bikA\n",
       "AACFAZ6iakO/AAGUKKlBTAB9jHs4m6Kvzi45+g9Rc0tLxfY8d8c3/TEDahAl2u7cy7EgwaQPNTnW\n",
       "slFLCQT/WZbKhy/6ALAwZPDeQX3+1KysoRsumLMsVz4EeV5W22dd2Ig7CA3mIyvkAVHZL7jHuoI1\n",
       "TkbliCjnkHdaphZnFeeixKkSo+3e0AAAAPFBmqdJqEFomUwIJf/+tSqAAGgfoa8WACBNtKZD+V5Y\n",
       "DepczWiWduzGuwGSlOEIlobm+rC0Nusf8q/SrNY6c4ft4DNLmhGbwfkAnJmCFx9Q/biceFi3y/47\n",
       "leBD9rzOX+XEfJoVPMs+K/j9Ynjhi5ymi0mFtHDd7TC27SZnOms1gHknbsH34lp5KVVMS6u55kZE\n",
       "9lX5N6QsE5lncakRGluAAfYuKfVOq0t6toxOD1gejfL+z7WeJujHhP5f0zXOViDBmdl66wjJe8zm\n",
       "1UgpNvGHXY8TqvDr+/JuQeNOqaYs8yRUpoS6DCQjVbmvUFL1+3dBAAAAaUGexUURLD//AAEdlZmD\n",
       "lB8be9sG/Io1ADhJjj55cm19wBL4rYxYNo97zhGzFLgcv2rQQpcM7T1HXQ9tOB0p0LMzpW/EqoEl\n",
       "gC+DgNXzq2SBFRxJ47rohcYhSD/ImnjCZQn3s2CWf3bMgQAAAJwBnuR0Q78AAZTG4TWyiwBguUAH\n",
       "i5ATni5sWE7yxBcO5bREF5XgACt38GKRaWk1q8GQPNSOP8T/LNI17EtA38vYbVxNTKXkeFLryp2M\n",
       "IjM81z1xJnfr/vcTQPBuowSIBTEPTJ15MUDFJ++3grcbc6l2XnW7sjaEJxvqXF8plIAVQwjndc0F\n",
       "DiuMOLGlEprvjcEkywfeUAvf9y/5ghEAAAB+AZ7makO/AAGeysNSoUArB/nhAASgg0i9nonfANt5\n",
       "TNCk4pT3Ls1NU8mM0cVF3OhV35xC5fZBh2OxyaNyaX80NrmfdvfBdfSxcfCWuSWIQeCpH4SZqe7P\n",
       "rC705cXEcqEsCmGOSYBb4RtFMdzvDPu7joBlwnH8ZCC3ubYT/w5jAAAAvEGa6UmoQWyZTBRMEv/+\n",
       "tSqAAGq6oOmfVVjae2TcQJhLGAmdbVv+Xj/pOug/5bxVawng8CXGdDVoxnP+19qE9OrPxBtSx2vN\n",
       "gVOv1IBHEV7Taa3l23nGT6TUvEL+G39pforBx0YAaTzETaHIR8lTB33Ve6q1R30aPAJugf/VkX4b\n",
       "+tHU/96YLKAuIyxBpyro6+2L3dJK/Kih1olQflSOyYKNeXPinQGO4SiHByfnp2R1IhWLNgCHUOV+\n",
       "sdJAAAAA1wGfCGpDvwABlJKQM7UQAcJLRg6qi9ccsfqHRwt/Zgz6Zw7zf+oE45NDejKWR0G9XZX+\n",
       "Kh0MPwFVdse7Bzgs02K8AjmUHxvUMHWSqGntvqeBp8NENWAerKQhJTuXiGqGoCFZCheHxRbjPNAk\n",
       "DXV2+eTKyF+yF95hX3MVx7doY4bklhdNR0CTEHdu0W2iKPJE5MzbQQLlomkubdcv7O4rm+/uqj01\n",
       "ZMcMWFgq9LwvbdfTUBYeJN2U7eigGn4BYAZpnsSY4NYT8ck89P9cEhH11hr+4YbNYmloAAABL0Gb\n",
       "DUnhClJlMCCX//61KoAAaCXfvuQAPz+85ZzBSupNMsLsv/JmNC2N2onorF/4D/DD5RRCkx40dso5\n",
       "bJPpne1MgHtPjH2kI6AmM1Fbwx4fVCB/+X8u4BxAvFGXkSI64ZpUuIfL7D6h/EYTIpI51DMsrSx8\n",
       "mSNXgCReg6VhYtH5GJbDwQof6hDFiQ4sB7I1yzcw0LI/DeFasDr5RIPKV4e6LzVkLFWsn8dkCjG9\n",
       "+4bVGVS2w7qMlaOllxNiwt+hCazwBT7c9YJv78IHTf/Fz5F5aSsRXoiO10SP/9NMI2a5Me7qnl53\n",
       "7Eo6+TOG+YIvIHd6TJ/IczzOPOKDSLG7GWBQeu9kEzKZ7xRb7gHEAJK6S70y/4weZN0QpQ3gBULN\n",
       "sOjZqM38/p4UJvgsiIbZgQAAAIBBnytFNEw//wABHYxe6ceT5o6ADVuuMzkHNlCWK5T/itRfs6WX\n",
       "eGE1I35x6yRCx+Vkq8ejUXYeRd6sPOeHWjndDbfyWEhSuanl5GNtPvpM/5W51GwertQVSSErK+1/\n",
       "0B/yJGRiRAPbzHwUugI2JsS1LpzBs7uncyxUQHn40/zjggAAAFMBn0p0Q78AAZ8JVJLnHgA/NhCy\n",
       "ik/UZl472ZdMZvv3Br9iV61WpCUUdTBKHp8cCnxF+4Iz4mnTAX/TcK0sOFxaL3UUmYVzw+qyCs2o\n",
       "RHlMr6wKgAAAAHEBn0xqQ78AAZUEb/DClotnto4r4ASqPXUiqG5xLU73wd3m1jvpA/tZkCLKLnCW\n",
       "eUHurWXyJcbmeMoW4IbuFW/m1V2+8N+5Olu0Kp3L79CQRCFq++frL2bLoIzTvOpqf63CokrM70t2\n",
       "hjV7Tf/m/8wVgQAAAHNBm05JqEFomUwIJ//+tSqAAGgI3/mTACHV0CVazdYHumQ9qz9lZwvfwfsV\n",
       "XCCW6HzUe8NwiGmODeznwdOJJ73ljw4bL/xwdeqbIyeqbA7r2/qBm83ne+j0eSZHu1ilKSQbcGQD\n",
       "9lWf4kkhKpX9IR/by9mxAAAA/EGbcknhClJlMCCf//61KoAAZ6oSRhDOgx4AEIrdO4Ma71ljP0YT\n",
       "bBcjZPxpnnghHv0tTW4w9XCIEqTQ3rhu9cKwdvfDm6OK/q7s+Rq8i2U3VzdwpI3HjHo90a3rU9Xm\n",
       "oxSbDJ7m+xtT+gHB86ejSRZ8HlDieEE/I0lWzvroBVPRHDjIbwvV29SZtQ8V48K/cNSnU9YPVFtH\n",
       "IPpLsOjJqbwJp0rscYubqwgXGuG5971Pw1sXJyCoDBagGiv//hFIfLmwrdzcyqPo4wupsK1BSv2Z\n",
       "/XfKfb/LfHZFs4DR9YOihKHPTDRMEM9jTCCzO4bMLsrQQyxToBCg/23UwQAAAFZBn5BFNEw//wAB\n",
       "GcyDfLsBhhACHFCDokBCEa5qf9tWOwihVCf1iEv8XTOJ/u2OJKd/FTtHmd6ZXzpmVyYtOa+putM6\n",
       "IubuNnP64FR8CxqwB/hYy/fyUAAAAIABn690Q78AAZQ08PXWgBxbxDhBfpKosBgYqhzZdCBQBKM2\n",
       "R3Ln2fp7GQXwB6VRPmrnXexUrL14TmY4Aa8JX8CVqBVUxHtCWkez8UopK794rEIzO/0hPyvC3fge\n",
       "D+54PNMSbeSK+Z3x4Ef0ZaU8nrQvWhgQUjJq5yT+7gXRte+JNgAAASwBn7FqQ78AAZsnn3Hb+mcA\n",
       "Cdvhqj4/OcHnMmQh7wbwjG4yPwlpTy1eUIE1SLAtfsrzK+3aSuc1wqCVvqZl3m94///471VAVvAS\n",
       "YV4PKfV98rWcfqTBUsM710ZHyE4X9oEakRg8Jow/cBJJq7osBQYkX4qswQRhpA6alIXg3dRVqa+o\n",
       "uxb+tXH3mYFqLr0PdXerdHifrYoETsozRFaoKJNWw9IPj3R6fu8iHz3/Jicq9OWbVztdsHYP5Qss\n",
       "A2GFqXzARMWnwqn+Jy4ELLONNcEan9QgWciPCC7Jejqi8dY4eHOG6nrfaf3KvEUup5Nmfrzc7xuk\n",
       "qy8likYDyON2Dz3sQPGRNHxYLlV0b2+WYijf9k/cxcC78gzyzbLOT/DUZ1AaZzSvTrUBvcroVIEA\n",
       "AAFgQZu2SahBaJlMCCf//rUqgABn9m/DTzYAFugwf1+juI16RYHpEr6zhnmsZTVS0KmPvQPLopaW\n",
       "79Ql4TtyW4s4bvPYJ4b0r+fjm+hLCP+C0efhCe1T2GPt0Evzl75/OMQe8qF3/6Tcil7QqJF7klGC\n",
       "RtjYz2wsmoDOYDOMEpiizwbu6zQtdf5oq7GDy1JnSp16F2d6z522QqocgIQCTqCMXzdZtOelmlN6\n",
       "sToLisQqFH+rHl75ZVreFM4Ar4knbVLn5NwWyV9YeZFEuTD2UASYDFJtlGEAoaz8tWWdUhax7BoY\n",
       "6Mrbslh9FEQeroAQ2QF5rkmEvyHyBQwP9wtudmU593o0kbu6ItIs3x/EuAD03XjO3UeakTCA/t3x\n",
       "bY4ghCl6PRK0OADSJnxwC1BpVsYZokDNq/bfdWjovAVHDVCZQNMTW+DVgLnHeW+xuXs6p4zxsZIr\n",
       "Hvev0Mmg71JKJu54LAAAAHRBn9RFESw//wABHOiKU4kXCQjQeaMCSVHrvQATd87ov46jXIDQJZ9e\n",
       "9NnKlY7rV49W6CtOUYmEhfQ0uQZLdMGId9ipzD1JM7uBqQ2YWaPGkxZTDj60o/YPbB49MaNHEKmP\n",
       "2+8jqeanWBjxGFSD7u6qCf+HpQAAAIIBn/N0Q78AAZTvKaWjUrQAfEGgeMtSpIbNKkrJwTxBzo07\n",
       "dJL8qgDqs6BI5pObf6TVFbRUlxQk+hF7mjYIZy38X4/L6MJ0PdIXMNeMZZHZaT67CdBRZa3oWP57\n",
       "jgoc2/5c1GNKkJpMYoLJy46mk6shAt5/mN//x1OihhzVvVSft9WBAAAAOgGf9WpDvwABlQR/07kp\n",
       "elnC9cgBWKxp55O5pq3pYp/otoq0JUxdleMfDLq9Ay105qQEPdnWNaX+Z5QAAADAQZv6SahBbJlM\n",
       "CCf//rUqgABoKsr4oAIYhw1VV15Fe/rH/biE3EsgxMgH7w5zQYeMMopAvcKmsTC26+2oD4r9TFie\n",
       "i0+Ar9VmwPk+gc2KflG15JOVS/ZeEie/a1MMazy9h+lNXrzHYFZgaMvgyRgCIgEp83VCBhX+IjmL\n",
       "uoVe9DVaFULxhyY66SlZSibQpvKuWc1dtYu2jlkUIqujv7CJT0jzc9XfZjmiO/i8vPxRLoCYM3s3\n",
       "+ha1XvnAYeiYy54LAAAArUGeGEUVLD//AAEixz/6MQg4AbfQlfbubOhyP2IWbhBa0+CsKtxfc2G5\n",
       "kqyJdfiIdUeePVRnIX2O+De8FydiF2yc/nqRgAFAiU/j/ecxGjL+gHsH9YNISy2+0hs89U0+F+Zk\n",
       "uNTni5BgODjPR42BFM6ELPaCbc6fQ0h71Op2dMYzVR4XYftTk9kc93rzWCs5WzgLQar+E9l0WUkf\n",
       "aG4jtxHAlZKgNo9qXoU/a/AVAAAAdAGeN3RDvwABnxUEPlBXb9QAaKpadksmul7tIAAJHdtJ0CqM\n",
       "zNzbmuhRTvxJ3UaL6EintkDdI0m/3gIDbAOueWq8+8g/FvdH+98mZqAXsaLSNCGWkQM0VhTl1yU4\n",
       "7H/Deqqldysq9pJDmv5PIWPwzkmX/MwQAAAAgQGeOWpDvwABntoX0Vx0AE5JZDSWDMMy3qWgMQ6r\n",
       "sVn+/7DdMi3bTHLkZ7mgrgqj69WTM7KeM1wvIcFq1Pq0CHqNLBor1IiOOKwTXE9DcFV7QWw+LFLb\n",
       "Q/ma/w4aQ6dZxXuSUTS6G4AcUgHyuTpupyP1qsXkISg5Fm+1tLurnT9wqwAAAC1Bmj5JqEFsmUwI\n",
       "Jf/+tSqAAGe+yRgB5D4Vl+7TcLVwIfSf+8xMxGHT/BYTmBAAAABzQZ5cRRUsP/8AASTuwfWYqogA\n",
       "/OhH5AeR/vbE1/miOdMCTwUeljaW8Kdn995FYKHD5c4a2lH+LmEE2rUN/c3NIcIcIvULCxsMg+y5\n",
       "3RR3kc/7rvFFhXv2sUfrK6Ot9nEfbcQmvZ5cNX0xOHU6OLwdxfd2EQAAAJIBnnt0Q78AAZ8U0dng\n",
       "PEAJmL0bu55lmTQjqANjbT8spPnwGeOA6rZAIX42TP5c2O8ZkpqvTYzBoj6BojoC9VVdtc6HX5iC\n",
       "fS5J6UskGP5kbvtjY7SJz3TrG//Lq7n2J2ns5h/xcAqqdfEZu8MD9Yx/TGQfkXIc1LgJuYEe3zZ1\n",
       "iVkwn/KFlJV1Ld6wtwrWvD7grQAAAGEBnn1qQ78AAZ7aWw0r3GrQAfEGgeMtSpIbNKkrJwVShe8v\n",
       "0RzgTnrCWaibbYF/LXHSU93B6v0DvnijhstEdI/+T8WKrSJMeSStPdGrbagn6qQa99ryxp5XfET2\n",
       "Tir477bFAAAAn0GaYUmoQWyZTAgn//61KoAAZaql6r50AFBqlA8aTRoJrhISNlQ1guTcAzhgQNXq\n",
       "Iv3+GHHiZmya9I3WJfdSefuLRS1B5BF0UTn4M3+1ILqxiJYnk+n2+j3mO2n85lx9I1SvS2PhBaNS\n",
       "Gf4PXljbzlNM+BHjbk5YUJReMKB/JUEdvj+pLI1H01FjJEDIQqCUqVTqrU+2a4hxA43D0ruW0AAA\n",
       "AJBBnp9FFSw//wABGc5BlFgAABK95+93zfNWki3+w1eenR59+xPYKnHWur7Xo2BjkgvV5/mPmbu7\n",
       "om5SoTWl7eyD5htIlcstiK/uVnymDmUyEybPZ0XZvLELq24YCZs381TOcczHByQsgII9zlAqbH2u\n",
       "cz2w/8QPyDPY+goaPLdKiDYKCTDYnj7EifqzaFy+wnMAAABZAZ6gakO/AAGUEoqCmAD7GPbn9Zpr\n",
       "6pLLsWCO8lk5wiCUy2wid6MLWmZt3FmbCt9S4NFaHbcUGlL3NcFGPIGu9STOD4YNElOAKduPx9NL\n",
       "NHkvwkjkPZn6erAAAAC7QZqlSahBbJlMCCf//rUqgABlni/b3zoALgzbSHDcnvecuXqATbfQl8z3\n",
       "t7CMqFYulVx3dBOYUGn6Rk+jyxwt/IvDeBeNRHF0vxF0Al83zCBe/HH+UaVd9gAhgVG+oElbJ0ba\n",
       "rij2pksfKbzQrmOmTGLL3jDZVWBjBuk0Z3hE0GMhKNBi48DuzH2+x0WTFuJqA7QTUGLgDtLt6GKM\n",
       "bIND1BWBosq7Wvr256qHvhBeJq8YERNrnRoVYYoYEQAAALFBnsNFFSw//wABIsc/+u19UUAEQfIo\n",
       "FdMm5Vf2EZD3kNZHGqpU7aM2hLSkWZXbifYIF3SQQqk2KxAZBptZ5rri6F79NqIPFbhXXeHa1rO8\n",
       "4RbXa42F2jfml62fOYVRB0rCkfM7qrfPMdfvroTszdRJNM6BL9LH4l+znFRpf09wcJIEHN0qhQ70\n",
       "b0sWgseG42nbNerRaNiy6QC3Ib5XR9vJTt4QeNdnTx1VZSrizBNNEFgAAABwAZ7idEO/AAGfE//H\n",
       "74KPQAf0eEyQm8ATVicjJ0Ai3eOXRqN5R07oJc82jyWvdXQ/5cw8Gq4MwqdNkgV+6H81oPJcrQOa\n",
       "6CbNkcFdlD3xWx2PxOprYcjTbL3ZCHFLwpV1+TnqKT7auP5w8B/Jh3zE2QAAAJABnuRqQ78AAZ7a\n",
       "HvnIvSAD82Bohlm7tucVmG9+RMSkTJ3Aif+LPOobCGCTlX/dCGhPC3MliLx9cjWic2idN4oEb/bz\n",
       "mj+uqpSpoTvhNuQi1aLbbvsY+6gadp98qJoBzQoMZOMwoZqtuRGubnLeHksJfxs2pAn/QizjmuKY\n",
       "QAko8iY9zqVJeqs05TEQtH3+4nUAAACUQZrpSahBbJlMCCf//rUqgABlqq0wzoAKNTbSHCoJ0Tm3\n",
       "DtQVwSeBzrb7RAJn+LMDj5qt8qt6oC9m38RPwAutKvCsPOZ0ua9lvdJWE/YU4Yqej10JWXDmw0jT\n",
       "CRh7pEZ7Ryvs7x4vh/d4DaZ6iC6jkNOKwzyhTP+Iz1zBZEzDXmaoq6UmC3bxIc9yM5a58xyg79zj\n",
       "gQAAAStBnwdFFSw//wABGc5BoxTUAE7eq+1VFsPTm6hmt7TcaNClT7Chm+iheX4+ow1P2yAg3Xy0\n",
       "LPaG0fE4k52jH+5h+0scXAzjPPjUz9FExBSVHFEqgpt6hPG8gdhPNRTewgST/9qTFHRE0lVhCJS2\n",
       "rv2dgk/UUN11Jsddu67X48U3vSckhsbE313iio4pOcwxnW7BQb1dGurJkMHffeEtSbhti1hlmUzD\n",
       "xX5ItJ4tYEfOyp/Rp9iJm/vLMPdt03Ug/TS2hrTv3cMz5ewG9opdzSBK68yGTm034KzuvCKhAaaM\n",
       "DnSh6wliIhba+AoDnK0hAuoZK+B9NtVzFL7kyrYnUknLC6ZQucqaC5rJmc/iel4JDciPGL16vI5Y\n",
       "VeSbMynM72DJ/jEiXiwEw2n1gQAAAGcBnyZ0Q78AAZRJffhqAC5QvHDW502nbwgxQ5i5XhU7Ee6D\n",
       "xuv/+aP9l9cp4fvrWXqFDSj6ZVtg0qqtoRrMywzf10DbfYBu/hxME0lnGadDVaAtUPZLyse7p07c\n",
       "ZYh3czyE3hRH7h3AAAAAgwGfKGpDvwABlNkCbThm00HABJ5c3R8/tPAkq0YTUt6I9cQRgEM0BciO\n",
       "WLsWWlbxcR/UP9wy6FFN07ajmuURR8RCQuxMUiemgN02PFOauQhT5CkPmL5CiYMMjtOBvlT7OfXa\n",
       "Unatks9EgDhK02ddKVb/9s3rthLlxJzp7TIkvrxbvuLMAAAAiUGbLUmoQWyZTAgn//61KoAAZ6oQ\n",
       "eawAIP1OdvxrVYLyQN52Jg3EQ2zd6v5pKH5McUozOHKflKcX+bGZGW9xnFzYM1xRGb5SA3cBvd2b\n",
       "t78PIr3Pekol+Bjlan/hdcJmRS5vOmdpOVoij2q+s7hxGOSHA3+phzbN3swaj4YW0Bc0yI6HUPn8\n",
       "DOWVAAAAeEGfS0UVLD//AAElX62tYU5aAFxyF2MIM7/fz+XBXgT2OYwUJW7XGTTC7KzBgbnc6OTo\n",
       "pN5ku4N+qOmsxnt8f89bwdIOtrtyM4k1Yk3/R/W4vFA5I8Or0FTTaG6wjZ7WIb1YaueR4fauRz7i\n",
       "wpQ9pUIf239gIFr8yAAAAIEBn2p0Q78AAZ7HiPG+tWCMgx8jqnuMoAXO81ok0hHzKxrzs0zqd90C\n",
       "neAvSaOwnvDdHILJoBJqOZiZUzr40nWHjn3iZ+0iyBP1JxIsi7tNPRmh/et6Oq/HHGrEY8HZymzP\n",
       "L8bMw76m/ZZRtppapXlEmDXFWpDQQXFwuFrkwZy/MiQAAADfAZ9sakO/AAGe2fP+XeGxADb5iMAd\n",
       "SwePj2431ptMOHlDvJrC576ttv/cBceUr6PT9iNwN/m85ZW+Aj72SpsyrtKZmUSmEnEd6/crG/Bw\n",
       "0sIO84c/mIWzshyD52qKiCwlH1kifXifaPpjz7U50XJDEh4ZnjVf25VUkDgHBr732Z1tvHRoYiV4\n",
       "ma/h9TwAOWk8B4a4wTFW1LLkcys9dKwbilfqUSjy8QzHEmtDtNbGtV/D5dWWDlUWns6qXASaSDza\n",
       "nhYFhdlzDv8aRcY+/R38dW8Ot8z+JIlAsmQjouUfZQAAARhBm3FJqEFsmUwIJf/+tSqAAGejkDM8\n",
       "dRAAvdbe+TIhQRcyY6s+116ssY0aTq4/Y6G8qCE6Dj3QTfBJmD8sjYrDeOIU3WUtFY4HeBWBHur3\n",
       "r2gMf+HBEco94tSehSpArXypRiE4HJml0DKe0v7Auukz0hvEum31X2AiBeISKqIqJkMP2YREaYjN\n",
       "SBK1Hv4dhGEP8nYPlhCQDXhsLCqpteFW5CQg6IvEngV1LVVPKRuxn56+GJIFzewZMwlQRo+bsDI0\n",
       "aY8CCjPtUIRkx2lMKK4MvTsUXnABt7Gg750hPPziCQm5IQMctan20aified2PwvkLUh+goa0Skss\n",
       "LhMmnY+BjYYeUWktOekWHVMR+C1GVrsYea0fX7d1AAAAj0Gfj0UVLD//AAEdjF7rU9loANXYpf8c\n",
       "4vGIxhvEoaOZDmErm0v3wKPDNdD8xecTA3TngwhZvWpDkO1O3rJonojgWrkaLQ1NubE4CuoJhfek\n",
       "gkk9wqQxqQNOPcnkf2M1YwQAhGCplLnRlq+eWEmkO1tVFcq/qtJH2Tz3aRDx5Ux7ZY9yxNedjiWN\n",
       "f3cU/X5lAAAAYwGfrnRDvwABlJo6xOYAPilnFVmHx7gEbVJG2z11FouuWB60VxY5u6+xlERj44/d\n",
       "1AboyUAN8eAikIP30fEKhBqHKZux6nz/o36j0nEJ5zKLqrinzsHEehwUATFRhTbv4+ZGgAAAAIsB\n",
       "n7BqQ78AAZUD//AY30Riz0AFf0GNgpy0pskQD37KXrfrlV0ydHM+801/2ZzihP2tL7HL2gX8TNHr\n",
       "I4D7h6BtyEW5Bl2CykBvM1toYkBGOb3Rin8Pk2N5YEdjIkBXwON/c8TcpPrYbBMAyZrkzJvWXbPs\n",
       "Vpu8mBk6CjVokEEqsbORZXuT5EwR8RZAAAABJkGbtUmoQWyZTAgl//61KoAAarcf/L+XPWAA4p1+\n",
       "att93VC/sn2JtdptqToRom1MfhLwQ91Q52ywmXmqvJ3jPK0qAquir3hQKqwx92cg/gf95+HuhYrG\n",
       "LJgdebN8I68V1BBU+5HbGjzo4uUjlL5Rjta90p/mHI/PJNP1wdzoV8K/mh2wqE/yoaSe7oOk5ChQ\n",
       "60Czh/AC2KZ0rlhfnoSkDS7wCejA97X2zsCQWSQjj4FAxaXbnkPBejsYfho+KMl2qllIyPGmdKq5\n",
       "EW5vMzy5sAEvnk93S58zWmxtAhNNWaSnTREQS6YnaiAreD7YvsZPPEOF+SBc/Nh8pHTMdHl5x/kU\n",
       "yb5yvW/FpGWjRuY3++wpijOrd772MrAqYt8Shrjr9h1f39PCYQAAAONBn9NFFSw//wABJYNSXUpw\n",
       "A4RAonrsMSFnJB4HgGsmKX3Bq9wwRJUDx9d//x+5xojO+Bfbn+j9aR0ZupntHo1C8F9gtYRaszwo\n",
       "TTB0ke5DkpdQT3GjdZ/1erAPCwhAsBOZ0LlARr9gxFtS7lyFxfQhIlqWmjBqPouGPYuNtVmlAO5/\n",
       "7X2DCefAPwlFQURJpuC8yFOIix0xm08ydsy/djAbbxS2mzly5gVd/WMdHPhHucjr6+UzNpnKmx8P\n",
       "zl64bBOsjjYosAo3SchEOvYxMOoZhtszm8BY5LcTVKrcSthrUZIAIAAAAFUBn/J0Q78AAY/0czb2\n",
       "xeFwAmZLOYDinLkaV2ljzM2l6yh/bw6dGAiv+IO3u/WroJweG4AabWMv4i776qbcb8JyGejqChZH\n",
       "EMwu4DBvIHH22KPihgLAAAAAVQGf9GpDvwABnwRw7K0XABMpdIGcfgsrl0oKGtQz0VJrznDXxR51\n",
       "vbOWaTeCiPHJbv7Vc+AWg0TeXyQu0a+EMY7If0yzbSByfDrDJlBq2CdOLWHFhfUAAACQQZv5SahB\n",
       "bJlMCCX//rUqgABqKDf4PpTIAF25uxzvotHXFzyZ7+m4BQaFQy3QrE4jhIDRx7gCyKO0D22vzpP6\n",
       "bcqaAd1TH9gwal6nZu1ZG+NZbmpK93giOg4GsCtop9a9E2x3Bw1z/46YxzztWcSgHp6AjCfYDXjC\n",
       "wZGd15hdK8vHBmCD30vAA1JhghX708JgAAAA8EGeF0UVLD//AAElaMYX7DpsAH9FxoIZJHjCzQLH\n",
       "Podu6EuiAh6Jr18S7iXYcaZ2R+2Li7VixEs2F1mXH252KyeX3NiekO4knAES6vuDSV6lV5Iv4mNi\n",
       "LrxFs2ZyAKce9npPJ9wQDPSkjZ3xiRHWiMwNoxD1CGM+4JniNCTSdqjLeL5lrainpb3Mr8xqoR4E\n",
       "uKE84Gy+54TkuUZEAU4hKPuvdbv56gC+KbMQAQkxLphF74t7qzLQ1SmMitgvBFEPGqKJmFq6EmGQ\n",
       "BngiMyVVZmfV47689L1jjPoej/hn+9L/ucwE38vuUJk2NsXI+yuLSQAAAGgBnjZ0Q78AAZ7HVm+r\n",
       "+bV0AE5F6YJDOPEsXcuazBNd90zSAcIaIqUf1LTbEalNnzL/C3C5IIB8bJdBdN0Aha/TVd97+Q38\n",
       "Ycf1g37FHXm/RLhkphMCqlvkk2NVjlInl9WNKaQmYf2/NQAAAEgBnjhqQ78AAZUEZAxYNQABNFiz\n",
       "RJMxyDZ1rSd99xQvk5xiCdnzxbmO3hvff31vuYD357QCcxcGG24OkMN6jfKjXdaNesH1VKAAAACP\n",
       "QZo8SahBbJlMCCX//rUqgABqM73uCAEY4kiP6MpdMhZUIQws4RUYD8YtTnPiQMvzNwV0odZXQqhT\n",
       "YifVCvomyHocrUMJuD2mrs+PP0mt7sToZKXusNLVHvPj4RPdvXNZRyUFLqGv9Tr6kb52ULkPneUz\n",
       "jGpUAeeEbXQsV9g8+FawU2trIzzC5c9cbg/p4TEAAAC8QZ5aRRUsP/8AASWDXUmWDrr/gAFiYyS9\n",
       "mcDlmS7s+9Olxx8RZ/XOwnpmwvkiK3oJkzOW3R/YDLS99b4SR9gpGCnPL9Jzji1Ef4AU4075pUx9\n",
       "fuvIhMpbIbipQZ+p+uokaZm8CeYjR99unn9skIVieqWddx6zozFHrRRFsbCGw4vi4yBXM/JCJuQd\n",
       "R+au+9b4CMyf+4xnBCD4L9G5KfjCA8OOEdRcuw2IO6l+s98HzK16MRRtOz7Nc8P1IWAAAACsAZ57\n",
       "akO/AAGfBH/TscSvmWgBwktUH6pCkOVsxHpGxI4ph8z2pXyO0Z64LDOqs2vYQINEiVWYhr/Fb+oK\n",
       "qJnhrzvQwEvWlQVgYMAhrPr5Xqy32L0RHEs8VracMZznGgynHr92RFT1CQUq5pp7vnBJK/q51U0J\n",
       "lKGHCs3UW81OMsKmgMZpmitqg2oSedSiayc6wI5i9vPgE7FoMAAcpJXDukHBK24ACAPBvMR0PQAA\n",
       "AHNBmmBJqEFsmUwIIf/+qlUAANRgQhwac8nW0QAQypCXMv/fFGrh1bcrXaB3Z2KlO3z4nWz7hqrO\n",
       "9gZN+v3Z4xoy8TSZOP/1/SJ4cIlx6R58FH+S9bmkX+HikUx8Mixk9N9zHqlva+Q8xaXyvzeiX3Zi\n",
       "rl3BAAAA+kGenkUVLD//AAEllZVTH0a8ALZJT7D5v6hva9Z9MZG4vD0ISxoubLpipv4tf5SJ7hog\n",
       "W3Mk8rmiQvyCIQC8XhlA92D0r+WcZOsAYctSgeRFUbCW8EjcFblI8E3vSLanTH+KFxBQVu/Y/fIr\n",
       "9ZSY2g7QbJSKxfTWurctxnYIpifQugiHvOFSO43gLY5SmFCYyK16PQM3gmjZr1SCd24PNBFpWn41\n",
       "m0u1K4bJlj1C+6kHQ3Zg3u2vwLL/FCRnEFDr/OVMe9+3+HJ73wW+EysMhM0iLyuUu7+HYxCfdMlU\n",
       "aBWnQBO3aKTjeM9reakQEWKChbVK3EpeeEybAEAAAACLAZ69dEO/AAGe63k1ZOYP4ABLhmRsHH5X\n",
       "f0ZkwlOaheVGKc21ONUvZ6Rg8n6FSS9mwsxNlqWZ1B5KndP9Qqh3zO8l0cyMSKjtshs8NcanP2T2\n",
       "5dSs2BNJ1Z/SfGoeqiKbbX6V3egIxCPjrobnWsSMxtcLVAWqfTRTY+xFJvm0sDQs9DwtlbnnkR1M\n",
       "2AAAAJ0Bnr9qQ78AAZNZl4crlABbLdJtBhFfD3KRgROjLjy5lf8bsWdFRHeQYF/SRswtgXi4BrmW\n",
       "MlcgZ3qmukshLijyqRL7H638dQc6x16LxF0EKtfL+UvFD3SPs3RRjD8XyOaB7lUFoYyHc4SLsiqu\n",
       "ON/1vnVSCDPaaVmz7xGS6E4R0paTWaxDnLXJ/Y+L9ovqwG7HfgJ72w4mEOc1bF5xAAAAaEGaoUmo\n",
       "QWyZTAgh//6qVQAAz8FY2LoABEmwDyUXtFvSrUcm/gu1xUiZ9MdXK4pRr/Hs999nLm9xzmsGkEEP\n",
       "kje0uiMQvOWOYgK3XizOt5LgdHE7e/btIsOqZMRAhOi/4d28aXQuwek4AAAAV0Gaw0nhClJlMFFS\n",
       "w7/+qZYAAyxwTBCgAuULkeb6i9hsm5/eOtGdVHev9h6iVZz+vALDSjUsv4EZReXWJ8u6Uif38Zuo\n",
       "bc+DqOhvGahViiuweL2eDO2GBQAAAI0BnuJqQ78AAZUEb8pOCRrpr9V1JAB/Rbvj0JVTT39nYgTW\n",
       "dJabnaXzQh5y9whtxZh8r+aL8mBnBhQAgR2FbBMKzkOjFWkY2BwgujBq5ke9gMpxPgxR4IqHLYlY\n",
       "LniwIu2iATcH5iDhKzDYD4z127cKdls6lYYgIPe7SlHGan3b10z+UiGnuhL387VPX7kAAAeubW9v\n",
       "dgAAAGxtdmhkAAAAAAAAAAAAAAAAAAAD6AAAOpgAAQAAAQAAAAAAAAAAAAAAAAEAAAAAAAAAAAAA\n",
       "AAAAAAABAAAAAAAAAAAAAAAAAABAAAAAAAAAAAAAAAAAAAAAAAAAAAAAAAAAAAAAAAAAAgAABth0\n",
       "cmFrAAAAXHRraGQAAAADAAAAAAAAAAAAAAABAAAAAAAAOpgAAAAAAAAAAAAAAAAAAAAAAAEAAAAA\n",
       "AAAAAAAAAAAAAAABAAAAAAAAAAAAAAAAAABAAAAAAbAAAAEgAAAAAAAkZWR0cwAAABxlbHN0AAAA\n",
       "AAAAAAEAADqYAAAMAAABAAAAAAZQbWRpYQAAACBtZGhkAAAAAAAAAAAAAAAAAAAoAAACWABVxAAA\n",
       "AAAALWhkbHIAAAAAAAAAAHZpZGUAAAAAAAAAAAAAAABWaWRlb0hhbmRsZXIAAAAF+21pbmYAAAAU\n",
       "dm1oZAAAAAEAAAAAAAAAAAAAACRkaW5mAAAAHGRyZWYAAAAAAAAAAQAAAAx1cmwgAAAAAQAABbtz\n",
       "dGJsAAAAs3N0c2QAAAAAAAAAAQAAAKNhdmMxAAAAAAAAAAEAAAAAAAAAAAAAAAAAAAAAAbABIABI\n",
       "AAAASAAAAAAAAAABAAAAAAAAAAAAAAAAAAAAAAAAAAAAAAAAAAAAAAAAAAAAGP//AAAAMWF2Y0MB\n",
       "ZAAV/+EAGGdkABWs2UGwloQAAAMADAAAAwCgPFi2WAEABmjr48siwAAAABx1dWlka2hA8l8kT8W6\n",
       "OaUbzwMj8wAAAAAAAAAYc3R0cwAAAAAAAAABAAAAZAAABgAAAAAUc3RzcwAAAAAAAAABAAAAAQAA\n",
       "AwBjdHRzAAAAAAAAAF4AAAABAAAMAAAAAAEAABgAAAAAAgAABgAAAAABAAAeAAAAAAEAAAwAAAAA\n",
       "AQAAAAAAAAABAAAGAAAAAAEAAAwAAAAAAQAAEgAAAAABAAAGAAAAAAEAAB4AAAAAAQAADAAAAAAB\n",
       "AAAAAAAAAAEAAAYAAAAAAQAAGAAAAAACAAAGAAAAAAEAABIAAAAAAQAABgAAAAABAAAeAAAAAAEA\n",
       "AAwAAAAAAQAAAAAAAAABAAAGAAAAAAEAAB4AAAAAAQAADAAAAAABAAAAAAAAAAEAAAYAAAAAAQAA\n",
       "GAAAAAACAAAGAAAAAAEAABIAAAAAAQAABgAAAAABAAAYAAAAAAIAAAYAAAAAAQAAHgAAAAABAAAM\n",
       "AAAAAAEAAAAAAAAAAQAABgAAAAABAAASAAAAAAEAAAYAAAAAAQAAHgAAAAABAAAMAAAAAAEAAAAA\n",
       "AAAAAQAABgAAAAABAAAMAAAAAAEAAB4AAAAAAQAADAAAAAABAAAAAAAAAAEAAAYAAAAAAQAAHgAA\n",
       "AAABAAAMAAAAAAEAAAAAAAAAAQAABgAAAAABAAAeAAAAAAEAAAwAAAAAAQAAAAAAAAABAAAGAAAA\n",
       "AAEAAB4AAAAAAQAADAAAAAABAAAAAAAAAAEAAAYAAAAAAQAAGAAAAAACAAAGAAAAAAEAAB4AAAAA\n",
       "AQAADAAAAAABAAAAAAAAAAEAAAYAAAAAAQAAHgAAAAABAAAMAAAAAAEAAAAAAAAAAQAABgAAAAAB\n",
       "AAAeAAAAAAEAAAwAAAAAAQAAAAAAAAABAAAGAAAAAAEAAB4AAAAAAQAADAAAAAABAAAAAAAAAAEA\n",
       "AAYAAAAAAQAAHgAAAAABAAAMAAAAAAEAAAAAAAAAAQAABgAAAAABAAAeAAAAAAEAAAwAAAAAAQAA\n",
       "AAAAAAABAAAGAAAAAAEAABgAAAAAAgAABgAAAAABAAAeAAAAAAEAAAwAAAAAAQAAAAAAAAABAAAG\n",
       "AAAAAAEAAAwAAAAAAQAAEgAAAAABAAAGAAAAABxzdHNjAAAAAAAAAAEAAAABAAAAZAAAAAEAAAGk\n",
       "c3RzegAAAAAAAAAAAAAAZAAAHx4AAAPnAAABLwAAALwAAAEvAAABdwAAAJAAAACcAAABDQAAAMoA\n",
       "AAEuAAABYAAAAMkAAAC9AAAAaQAAAQgAAACWAAAAfgAAAKYAAACTAAABcQAAALkAAABYAAAAjgAA\n",
       "ARsAAACSAAAAlAAAAJMAAACvAAAAlgAAAOwAAADqAAAAxgAAAMcAAADCAAAAiQAAAPUAAABtAAAA\n",
       "oAAAAIIAAADAAAAA2wAAATMAAACEAAAAVwAAAHUAAAB3AAABAAAAAFoAAACEAAABMAAAAWQAAAB4\n",
       "AAAAhgAAAD4AAADEAAAAsQAAAHgAAACFAAAAMQAAAHcAAACWAAAAZQAAAKMAAACUAAAAXQAAAL8A\n",
       "AAC1AAAAdAAAAJQAAACYAAABLwAAAGsAAACHAAAAjQAAAHwAAACFAAAA4wAAARwAAACTAAAAZwAA\n",
       "AI8AAAEqAAAA5wAAAFkAAABZAAAAlAAAAPQAAABsAAAATAAAAJMAAADAAAAAsAAAAHcAAAD+AAAA\n",
       "jwAAAKEAAABsAAAAWwAAAJEAAAAUc3RjbwAAAAAAAAABAAAALAAAAGJ1ZHRhAAAAWm1ldGEAAAAA\n",
       "AAAAIWhkbHIAAAAAAAAAAG1kaXJhcHBsAAAAAAAAAAAAAAAALWlsc3QAAAAlqXRvbwAAAB1kYXRh\n",
       "AAAAAQAAAABMYXZmNTguMjAuMTAw\n",
       "\">\n",
       "  Your browser does not support the video tag.\n",
       "</video>"
      ],
      "text/plain": [
       "<matplotlib.animation.FuncAnimation at 0x7f4eb73af860>"
      ]
     },
     "execution_count": 4,
     "metadata": {},
     "output_type": "execute_result"
    }
   ],
   "source": [
    "# Variables y condiciones iniciales\n",
    "k = 1\n",
    "lo_1 = 4  # m\n",
    "lo_2 = 9  # m\n",
    "psi_inicial_1 = 1\n",
    "psi_inicial_2 = 0\n",
    "\n",
    "\n",
    "# Animacion de la solucion\n",
    "fig, ax = plt.subplots()\n",
    "\n",
    "ax.set_ylim(-2, 2)\n",
    "ax.set_xlim(0, lo_2 * 2)\n",
    "\n",
    "ax.grid(True)\n",
    "\n",
    "# Lineas marcando la posicion y equilibrio\n",
    "line_a, = ax.plot([], [], 'o', ms=13)\n",
    "line_b, = ax.plot([], [], 'o', ms=13)\n",
    "\n",
    "ax.plot([lo_1, lo_1], [-1.5, 1.5], '--')\n",
    "ax.plot([lo_2, lo_2], [-1.5, 1.5], '--')\n",
    "\n",
    "def animate(t):\n",
    "\tline_a.set_data(psi_a(t, psi_inicial_1, psi_inicial_2, k) + lo_1, 0)\n",
    "\tline_b.set_data(psi_b(t, psi_inicial_1, psi_inicial_2, k) + lo_2, 0)\n",
    "\n",
    "\treturn line_a,\n",
    "\n",
    "plt.title('Movimiento masas')\n",
    "plt.xlabel('X [m]')\n",
    "plt.ylabel('Y [m]')\n",
    "\n",
    "plt.close()\n",
    "\n",
    "animation = FuncAnimation(fig, animate, frames=100, interval=150)\n",
    "animation"
   ]
  }
 ],
 "metadata": {
  "colab": {
   "collapsed_sections": [],
   "name": "Ejercicio 1)d).ipynb",
   "provenance": []
  },
  "kernelspec": {
   "display_name": "Python 3",
   "language": "python",
   "name": "python3"
  },
  "language_info": {
   "codemirror_mode": {
    "name": "ipython",
    "version": 3
   },
   "file_extension": ".py",
   "mimetype": "text/x-python",
   "name": "python",
   "nbconvert_exporter": "python",
   "pygments_lexer": "ipython3",
   "version": "3.7.3"
  },
  "widgets": {
   "application/vnd.jupyter.widget-state+json": {
    "state": {
     "023cd0eceea94b0098500e027dcfe36f": {
      "model_module": "@jupyter-widgets/controls",
      "model_module_version": "1.5.0",
      "model_name": "FloatSliderModel",
      "state": {
       "description": "k",
       "layout": "IPY_MODEL_ddf341987c2e43ff9445bb1414387a3d",
       "max": 5,
       "min": 0.1,
       "step": 0.3,
       "style": "IPY_MODEL_b40fe06653684fa296f4fdd5c669d197",
       "value": 1
      }
     },
     "096732b8c68240e09b8443807e57c10e": {
      "model_module": "@jupyter-widgets/base",
      "model_module_version": "1.2.0",
      "model_name": "LayoutModel",
      "state": {}
     },
     "0bbe5138d3494262b32cd4a8be8bac48": {
      "model_module": "@jupyter-widgets/controls",
      "model_module_version": "1.5.0",
      "model_name": "SliderStyleModel",
      "state": {
       "description_width": ""
      }
     },
     "1a937e4f1d60477d95d73cc1312c5df4": {
      "model_module": "@jupyter-widgets/base",
      "model_module_version": "1.2.0",
      "model_name": "LayoutModel",
      "state": {}
     },
     "347f967b03784729a5793e31599abe8b": {
      "model_module": "@jupyter-widgets/controls",
      "model_module_version": "1.5.0",
      "model_name": "SliderStyleModel",
      "state": {
       "description_width": ""
      }
     },
     "383a7f1394b144b3aae5077f129ae499": {
      "model_module": "@jupyter-widgets/base",
      "model_module_version": "1.2.0",
      "model_name": "LayoutModel",
      "state": {}
     },
     "3966e25e1215439da7336f55ecc657cd": {
      "model_module": "@jupyter-widgets/base",
      "model_module_version": "1.2.0",
      "model_name": "LayoutModel",
      "state": {}
     },
     "3d143722de424f94b7c888965a24a4ab": {
      "model_module": "@jupyter-widgets/controls",
      "model_module_version": "1.5.0",
      "model_name": "FloatSliderModel",
      "state": {
       "description": "psi_inicial_2",
       "layout": "IPY_MODEL_cc33a95899174610914352fe58214778",
       "max": 2,
       "min": -2,
       "step": 0.1,
       "style": "IPY_MODEL_0bbe5138d3494262b32cd4a8be8bac48",
       "value": 1
      }
     },
     "3eedba35c2414ba984d0a09a6d13d4c6": {
      "model_module": "@jupyter-widgets/base",
      "model_module_version": "1.2.0",
      "model_name": "LayoutModel",
      "state": {}
     },
     "444e37199e304b878bde20792eedcbd2": {
      "model_module": "@jupyter-widgets/controls",
      "model_module_version": "1.5.0",
      "model_name": "SliderStyleModel",
      "state": {
       "description_width": ""
      }
     },
     "674f01c3b51e4ede9edaf837ff4b5611": {
      "model_module": "@jupyter-widgets/output",
      "model_module_version": "1.0.0",
      "model_name": "OutputModel",
      "state": {
       "layout": "IPY_MODEL_dcd2a8503610455a90108fd3b21982a8",
       "outputs": [
        {
         "data": {
          "image/png": "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\n",
          "text/plain": "<Figure size 432x288 with 1 Axes>"
         },
         "metadata": {
          "needs_background": "light"
         },
         "output_type": "display_data"
        }
       ]
      }
     },
     "6c84d646ee04463f909cde05c987cec7": {
      "model_module": "@jupyter-widgets/controls",
      "model_module_version": "1.5.0",
      "model_name": "SliderStyleModel",
      "state": {
       "description_width": ""
      }
     },
     "6cc8df1a97c34d30b0839649db8dfcc5": {
      "model_module": "@jupyter-widgets/controls",
      "model_module_version": "1.5.0",
      "model_name": "SliderStyleModel",
      "state": {
       "description_width": ""
      }
     },
     "70faf028814a4f94ad19200d84e840cb": {
      "model_module": "@jupyter-widgets/controls",
      "model_module_version": "1.5.0",
      "model_name": "FloatSliderModel",
      "state": {
       "description": "k",
       "layout": "IPY_MODEL_c67d9e6d5b9645e8bddeb34fa196fe9a",
       "max": 5,
       "min": 0.1,
       "step": 0.3,
       "style": "IPY_MODEL_d324394668714fcabf488e50c4529dc9",
       "value": 1
      }
     },
     "74b8a97401484acbadc34a0ac3f0aac5": {
      "model_module": "@jupyter-widgets/base",
      "model_module_version": "1.2.0",
      "model_name": "LayoutModel",
      "state": {}
     },
     "75a243225720412a9b535cdad3681b3a": {
      "model_module": "@jupyter-widgets/controls",
      "model_module_version": "1.5.0",
      "model_name": "FloatSliderModel",
      "state": {
       "description": "psi_inicial_1",
       "layout": "IPY_MODEL_74b8a97401484acbadc34a0ac3f0aac5",
       "max": 2,
       "min": -2,
       "step": 0.1,
       "style": "IPY_MODEL_444e37199e304b878bde20792eedcbd2"
      }
     },
     "8806ccf5099546fc9ffd07475f7d23ad": {
      "model_module": "@jupyter-widgets/controls",
      "model_module_version": "1.5.0",
      "model_name": "VBoxModel",
      "state": {
       "_dom_classes": [
        "widget-interact"
       ],
       "children": [
        "IPY_MODEL_70faf028814a4f94ad19200d84e840cb",
        "IPY_MODEL_e740c735f5c34362afe0ca94b185056e",
        "IPY_MODEL_901a666dd7c8411e9167cfd298ed0eb6",
        "IPY_MODEL_c14e2e0def9e466e91f46b43de51bd9a",
        "IPY_MODEL_674f01c3b51e4ede9edaf837ff4b5611"
       ],
       "layout": "IPY_MODEL_3966e25e1215439da7336f55ecc657cd"
      }
     },
     "901a666dd7c8411e9167cfd298ed0eb6": {
      "model_module": "@jupyter-widgets/controls",
      "model_module_version": "1.5.0",
      "model_name": "FloatSliderModel",
      "state": {
       "description": "psi_inicial_2",
       "layout": "IPY_MODEL_1a937e4f1d60477d95d73cc1312c5df4",
       "max": 2,
       "min": -2,
       "step": 0.1,
       "style": "IPY_MODEL_6cc8df1a97c34d30b0839649db8dfcc5",
       "value": 1
      }
     },
     "91bf2b8f64ca4f879360e1b6c8337163": {
      "model_module": "@jupyter-widgets/controls",
      "model_module_version": "1.5.0",
      "model_name": "VBoxModel",
      "state": {
       "_dom_classes": [
        "widget-interact"
       ],
       "children": [
        "IPY_MODEL_023cd0eceea94b0098500e027dcfe36f",
        "IPY_MODEL_75a243225720412a9b535cdad3681b3a",
        "IPY_MODEL_3d143722de424f94b7c888965a24a4ab",
        "IPY_MODEL_99100853af68440090e1ebe3d03bdcd8",
        "IPY_MODEL_db38fabf6f6c4b4db6bd1a3d03f0d13c"
       ],
       "layout": "IPY_MODEL_ef9c69ae9c6e4b0c91da291cac8de872"
      }
     },
     "99100853af68440090e1ebe3d03bdcd8": {
      "model_module": "@jupyter-widgets/controls",
      "model_module_version": "1.5.0",
      "model_name": "FloatSliderModel",
      "state": {
       "description": "tiempo",
       "layout": "IPY_MODEL_3eedba35c2414ba984d0a09a6d13d4c6",
       "max": 60,
       "min": 0.1,
       "style": "IPY_MODEL_6c84d646ee04463f909cde05c987cec7",
       "value": 10
      }
     },
     "ac9c40ec4e514a5f8f70013eb802af22": {
      "model_module": "@jupyter-widgets/controls",
      "model_module_version": "1.5.0",
      "model_name": "SliderStyleModel",
      "state": {
       "description_width": ""
      }
     },
     "b40fe06653684fa296f4fdd5c669d197": {
      "model_module": "@jupyter-widgets/controls",
      "model_module_version": "1.5.0",
      "model_name": "SliderStyleModel",
      "state": {
       "description_width": ""
      }
     },
     "c14e2e0def9e466e91f46b43de51bd9a": {
      "model_module": "@jupyter-widgets/controls",
      "model_module_version": "1.5.0",
      "model_name": "FloatSliderModel",
      "state": {
       "description": "tiempo",
       "layout": "IPY_MODEL_096732b8c68240e09b8443807e57c10e",
       "max": 60,
       "min": 0.1,
       "style": "IPY_MODEL_ac9c40ec4e514a5f8f70013eb802af22",
       "value": 10
      }
     },
     "c67d9e6d5b9645e8bddeb34fa196fe9a": {
      "model_module": "@jupyter-widgets/base",
      "model_module_version": "1.2.0",
      "model_name": "LayoutModel",
      "state": {}
     },
     "cc33a95899174610914352fe58214778": {
      "model_module": "@jupyter-widgets/base",
      "model_module_version": "1.2.0",
      "model_name": "LayoutModel",
      "state": {}
     },
     "d324394668714fcabf488e50c4529dc9": {
      "model_module": "@jupyter-widgets/controls",
      "model_module_version": "1.5.0",
      "model_name": "SliderStyleModel",
      "state": {
       "description_width": ""
      }
     },
     "db38fabf6f6c4b4db6bd1a3d03f0d13c": {
      "model_module": "@jupyter-widgets/output",
      "model_module_version": "1.0.0",
      "model_name": "OutputModel",
      "state": {
       "layout": "IPY_MODEL_383a7f1394b144b3aae5077f129ae499",
       "outputs": [
        {
         "data": {
          "image/png": "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\n",
          "text/plain": "<Figure size 432x288 with 1 Axes>"
         },
         "metadata": {
          "needs_background": "light"
         },
         "output_type": "display_data"
        }
       ]
      }
     },
     "dbae8a3792d44d059f34e18d5caddefe": {
      "model_module": "@jupyter-widgets/base",
      "model_module_version": "1.2.0",
      "model_name": "LayoutModel",
      "state": {}
     },
     "dcd2a8503610455a90108fd3b21982a8": {
      "model_module": "@jupyter-widgets/base",
      "model_module_version": "1.2.0",
      "model_name": "LayoutModel",
      "state": {}
     },
     "ddf341987c2e43ff9445bb1414387a3d": {
      "model_module": "@jupyter-widgets/base",
      "model_module_version": "1.2.0",
      "model_name": "LayoutModel",
      "state": {}
     },
     "e740c735f5c34362afe0ca94b185056e": {
      "model_module": "@jupyter-widgets/controls",
      "model_module_version": "1.5.0",
      "model_name": "FloatSliderModel",
      "state": {
       "description": "psi_inicial_1",
       "layout": "IPY_MODEL_dbae8a3792d44d059f34e18d5caddefe",
       "max": 2,
       "min": -2,
       "step": 0.1,
       "style": "IPY_MODEL_347f967b03784729a5793e31599abe8b"
      }
     },
     "ef9c69ae9c6e4b0c91da291cac8de872": {
      "model_module": "@jupyter-widgets/base",
      "model_module_version": "1.2.0",
      "model_name": "LayoutModel",
      "state": {}
     }
    },
    "version_major": 2,
    "version_minor": 0
   }
  }
 },
 "nbformat": 4,
 "nbformat_minor": 4
}
