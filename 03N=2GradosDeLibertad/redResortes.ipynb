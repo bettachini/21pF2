{
 "cells": [
  {
   "cell_type": "markdown",
   "metadata": {},
   "source": [
    "# Modos normales de oscilación: sistema con dos grados de libertad\n",
    "Víctor A. Bettachini  \n",
    "bettachini@df.uba.ar  \n",
    "Copyright Departamento de Física, Facultad de Ciencias Exactas y Naturales, Universidad de Buenos Aires"
   ]
  },
  {
   "cell_type": "markdown",
   "metadata": {},
   "source": [
    "## Red de resortes\n",
    "\n",
    "![Figura: sistema a resolver](./resortes_acoplados.jpg)\n",
    "\n",
    "Considere el sistema de la figura, en el que se tienen dos part ́ıculas de masamunidas a las paredescon resortes verticales de longitud natural $l_0 (l_0< L/2)$ y constante $k_1$, y con resortes horizontales $l_0= 0$ (slinkies) y constante $k_2$.\n",
    "Imagine que las partículas tienen la libertad de moverse en el plano y que la gravedad no les afecta.\n",
    "\n",
    "a ¿Bajo qué aproximaciones es posible decir que el movimiento más general posible de cada una de las masas es una superposición lineal del movimiento más general posible de las oscilaciones longitudinales y de las oscilaciones transversales?\n",
    "  Demuestre su afirmación.  \n",
    "b. Considerando la aproximación del punto anterior, determine las frecuencias propias y los modos normales de oscilación: longitudinales, transversales y de la solución más general posible para un movimiento arbitrario en el plano."
   ]
  },
  {
   "cell_type": "code",
   "execution_count": 49,
   "metadata": {},
   "outputs": [],
   "source": [
    "import sympy as sy\n",
    "from sympy.physics.mechanics import dynamicsymbols, init_vprinting\n",
    "from sympy import solve, Eq\n",
    "init_vprinting()\n",
    "psiax, psiay, psibx, psiby = sy.physics.mechanics.dynamicsymbols(\n",
    "    'psi_{ax} psi_{ay} psi_{bx} psi_{by}')\n",
    "V, omegax1, omegax2, omegay1, omegay1 = sy.symbols(\n",
    "    'V omega_{x1} omega_{x2} omega_{y1} omega_{y2}')\n",
    "m, k1, k2, l0, L, d, t = sy.symbols(\n",
    "    'm k_1 k_2 l_0 L d t')\n",
    "l1, l2, l3= sy.symbols(\n",
    "    'l_1 l_2 l_3')\n",
    "lI, lII, lIII, lIV= sy.symbols(\n",
    "    'l_I l_{II} l_{III} l_{IV}')"
   ]
  },
  {
   "cell_type": "markdown",
   "metadata": {},
   "source": [
    "## Potencial del sistema\n",
    "Empezamos preguntandonos que potenciales están en juego.\n",
    "En este caso solo los elásticos de los resortes, ya que quitamos del análisis efectos gravitatorios.\n",
    "\n",
    "Nos queda la tarea de escibir las longitudes de todos los resortes.\n",
    "Para esto primero hay que establecer un sistema de coordenadas.\n",
    "Resulta cómodo uno centrada en la posición de reposo de alguna de las partículas, la de la izquierda por ejemplo que llamaremos $a$.\n",
    "Como analizamos pequeñas oscilaciones su posición será un pequeño apartamiento $\\psi$ desde allí\n",
    "$$\n",
    "\\vec{r}_a =  \\psi_{ax} \\hat{x}+ \\psi_{ay} \\hat{y},\n",
    "$$\n",
    "con $\\hat{x}$ apuntando a la derecha del dibujo, e $\\hat{y}$ hacia arriba.\n",
    "\n",
    "Lo mismo para la otra partícula\n",
    "$$\n",
    "\\vec{r}_b = \\left( d+ \\psi_{bx} \\right) \\hat{x}  + \\psi_{by} \\hat{y}.\n",
    "$$\n",
    "\n",
    "Con esto podemos escribir las longitudes de los resortes en la dirección de la línea que atraviesa estas partículas:\n",
    "$$\n",
    "\\begin{aligned}\n",
    "l_1 &= |\\vec{r}_a- (-d \\hat{x})|= \\sqrt{(d+ \\psi_{ax}) ^2 + \\psi_{ay}^2} \\\\\n",
    "l_2 &= |\\vec{r}_b - \\vec{r}_a| = \\sqrt{(d+ \\psi_{bx}- \\psi_{ax})^2 + (\\psi_{by}- \\psi_{ay})^2} \\\\\n",
    "l_3 &= |(2d \\hat{x})- \\vec{r}_b|= \\sqrt{(d- \\psi_{bx}) ^2 + \\psi_{by}^2}\n",
    "\\end{aligned}\n",
    "$$"
   ]
  },
  {
   "cell_type": "code",
   "execution_count": 50,
   "metadata": {},
   "outputs": [
    {
     "data": {
      "image/png": "[encoded data removed]",
      "text/latex": [
       "$\\displaystyle \\left( l_{1} = \\sqrt{\\left(d + \\psi_{{ax}}\\right)^{2} + \\psi_{{ay}}}, \\  l_{2} = \\sqrt{\\left(- \\psi_{{ay}} + \\psi_{{by}}\\right)^{2} + \\left(d - \\psi_{{ax}} + \\psi_{{bx}}\\right)^{2}}, \\  l_{3} = \\sqrt{\\left(d - \\psi_{{bx}}\\right)^{2} + \\psi_{{by}}}\\right)$"
      ],
      "text/plain": [
       "⎛        ________________________          ___________________________________\n",
       "⎜       ╱             2                   ╱                   2               \n",
       "⎝l₁ = ╲╱  (d + ψ_{ax})  + ψ_{ay} , l₂ = ╲╱  (-ψ_{ay} + ψ_{by})  + (d - ψ_{ax} \n",
       "\n",
       "___________          ________________________⎞\n",
       "         2          ╱             2          ⎟\n",
       "+ ψ_{bx})  , l₃ = ╲╱  (d - ψ_{bx})  + ψ_{by} ⎠"
      ]
     },
     "execution_count": 50,
     "metadata": {},
     "output_type": "execute_result"
    }
   ],
   "source": [
    "l_1 = sy.sqrt((d + psiax)**2+ psiay)\n",
    "l_2 = sy.sqrt( (d + psibx - psiax)**2 + ( psiby- psiay )**2 )\n",
    "l_3 = sy.sqrt((d - psibx)**2+ psiby)\n",
    "sy.Eq(l1, l_1), sy.Eq(l2, l_2), sy.Eq(l3, l_3)"
   ]
  },
  {
   "cell_type": "markdown",
   "metadata": {},
   "source": [
    "Lo mismo con los resortes en la dirección transversal a la anterior\n",
    "$$\n",
    "\\begin{aligned}\n",
    "l_I &= |L \\hat{y}- \\vec{r}_a|= \\sqrt{ \\psi_{ax}^2 + (L/2 - \\psi_{ay})^2} \\\\\n",
    "l_{II} &= |\\vec{r}_a- (-L \\hat{y})|= \\sqrt{ \\psi_{ax}^2 + (L/2 + \\psi_{ay})^2} \\\\\n",
    "l_{III} &= |L \\hat{y}- \\vec{r}_b|= \\sqrt{ \\psi_{bx}^2 + (L/2 - \\psi_{by})^2} \\\\\n",
    "l_{IV} &= |\\vec{r}_b- (-L \\hat{y})|= \\sqrt{ \\psi_{bx}^2 + (L/2 + \\psi_{by})^2}\n",
    "\\end{aligned}\n",
    "$$"
   ]
  },
  {
   "cell_type": "code",
   "execution_count": 51,
   "metadata": {},
   "outputs": [
    {
     "data": {
      "image/png": "[encoded data removed]",
      "text/latex": [
       "$\\displaystyle \\left( l_{I} = \\sqrt{\\left(\\frac{L}{2} - \\psi_{{ay}}\\right)^{2} + \\psi^{2}_{{ax}}}, \\  l_{II} = \\sqrt{\\left(\\frac{L}{2} + \\psi_{{ay}}\\right)^{2} + \\psi^{2}_{{ax}}}, \\  l_{III} = \\sqrt{\\left(\\frac{L}{2} - \\psi_{{by}}\\right)^{2} + \\psi^{2}_{{bx}}}, \\  l_{IV} = \\sqrt{\\left(\\frac{L}{2} + \\psi_{{by}}\\right)^{2} + \\psi^{2}_{{bx}}}\\right)$"
      ],
      "text/plain": [
       "⎛           _________________________                _________________________\n",
       "⎜          ╱             2                          ╱             2           \n",
       "⎜         ╱  ⎛L         ⎞          2               ╱  ⎛L         ⎞          2 \n",
       "⎜l_I =   ╱   ⎜─ - ψ_{ay}⎟  + ψ_{ax}  , l_{II} =   ╱   ⎜─ + ψ_{ay}⎟  + ψ_{ax}  \n",
       "⎝      ╲╱    ⎝2         ⎠                       ╲╱    ⎝2         ⎠            \n",
       "\n",
       "                 _________________________                ____________________\n",
       "                ╱             2                          ╱             2      \n",
       "               ╱  ⎛L         ⎞          2               ╱  ⎛L         ⎞       \n",
       ", l_{III} =   ╱   ⎜─ - ψ_{by}⎟  + ψ_{bx}  , l_{IV} =   ╱   ⎜─ + ψ_{by}⎟  + ψ_{\n",
       "            ╲╱    ⎝2         ⎠                       ╲╱    ⎝2         ⎠       \n",
       "\n",
       "_____⎞\n",
       "     ⎟\n",
       "   2 ⎟\n",
       "bx}  ⎟\n",
       "     ⎠"
      ]
     },
     "execution_count": 51,
     "metadata": {},
     "output_type": "execute_result"
    }
   ],
   "source": [
    "l_I= sy.sqrt(psiax**2+ (L/2 - psiay)**2)\n",
    "l_II= sy.sqrt(psiax**2+ (L/2 + psiay)**2)\n",
    "l_III= sy.sqrt(psibx**2+ (L/2 - psiby)**2)\n",
    "l_IV= sy.sqrt(psibx**2+ (L/2 + psiby)**2)\n",
    "sy.Eq(lI, l_I), sy.Eq(lII, l_II), sy.Eq(lIII, l_III), sy.Eq(lIV, l_IV)"
   ]
  },
  {
   "cell_type": "markdown",
   "metadata": {},
   "source": [
    "Para escribir el potencial elástico de cada uno debemos recordar que los \"longitudinales\" son _slinkies_ ($l_0=0$), en tanto que los dispuestos \"transversalmente\" tiene una longitud natural no nula $l_o < L/2$ según el enunciado.\n",
    "El potencial del sistema así modelado para pequeñas oscilaciones de $a$ y $b$ es\n",
    "$$\n",
    "\\begin{aligned}\n",
    "V(\\psi_{ax}, \\psi_{bx}, \\psi_{ay}, \\psi_{by} ) =&\n",
    "\\frac{k_2}{2} \n",
    "\\left[\n",
    "l_1^2 + l_2^2+ l_3^2\n",
    "\\right] \\\\\n",
    "&+ \\frac{k_1}{2} \\left[\n",
    "(l_{I}- l_0)^2 + (l_{II}- l_0)^2 + (l_{III}- l_0)^2 + (l_{IV}- l_0)^2\n",
    "\\right] \\\\\n",
    "=& \\frac{k_2}{2} \\left[\n",
    "(d+ \\psi_{ax}) ^2 + \\psi_{ay}^2 + (d+ \\psi_{bx}- \\psi_{ax})^2 + (\\psi_{by}- \\psi_{ay})^2 + (d- \\psi_{bx}) ^2 + \\psi_{by}^2\n",
    "\\right] \\\\\n",
    "&+ \\frac{k_1}{2} \\left[\n",
    "  \\left( \\sqrt{ \\psi_{ax}^2 + (L/2 - \\psi_{ay})^2} - l_0 \\right)^2\n",
    "+ \\left( \\sqrt{ \\psi_{ax}^2 + (L/2 + \\psi_{ay})^2} - l_0 \\right)^2\n",
    "+ \\left( \\sqrt{ \\psi_{bx}^2 + (L/2 - \\psi_{by})^2} - l_0 \\right)^2\n",
    "+ \\left( \\sqrt{ \\psi_{bx}^2 + (L/2 + \\psi_{by})^2} - l_0 \\right)^2\n",
    "\\right]\n",
    "\\end{aligned}\n",
    "$$\n",
    "\n",
    "Esto es mejor no desarmarlo pues al derivar para obtener las fuerzas los cuadrados se van y quedan expresiones más sencillas."
   ]
  },
  {
   "cell_type": "code",
   "execution_count": 52,
   "metadata": {},
   "outputs": [
    {
     "data": {
      "image/png": "[encoded data removed]",
      "text/latex": [
       "$\\displaystyle V = \\frac{k_{1} \\left(\\left(- l_{0} + \\sqrt{\\left(\\frac{L}{2} - \\psi_{{ay}}\\right)^{2} + \\psi^{2}_{{ax}}}\\right)^{2} + \\left(- l_{0} + \\sqrt{\\left(\\frac{L}{2} + \\psi_{{ay}}\\right)^{2} + \\psi^{2}_{{ax}}}\\right)^{2} + \\left(- l_{0} + \\sqrt{\\left(\\frac{L}{2} - \\psi_{{by}}\\right)^{2} + \\psi^{2}_{{bx}}}\\right)^{2} + \\left(- l_{0} + \\sqrt{\\left(\\frac{L}{2} + \\psi_{{by}}\\right)^{2} + \\psi^{2}_{{bx}}}\\right)^{2}\\right)}{2} + \\frac{k_{2} \\left(\\left(d + \\psi_{{ax}}\\right)^{2} + \\left(d - \\psi_{{bx}}\\right)^{2} + \\left(- \\psi_{{ay}} + \\psi_{{by}}\\right)^{2} + \\left(d - \\psi_{{ax}} + \\psi_{{bx}}\\right)^{2} + \\psi_{{ay}} + \\psi_{{by}}\\right)}{2}$"
      ],
      "text/plain": [
       "       ⎛                                      2                               \n",
       "       ⎜⎛           _________________________⎞    ⎛           ________________\n",
       "       ⎜⎜          ╱             2           ⎟    ⎜          ╱             2  \n",
       "       ⎜⎜         ╱  ⎛L         ⎞          2 ⎟    ⎜         ╱  ⎛L         ⎞   \n",
       "    k₁⋅⎜⎜-l₀ +   ╱   ⎜─ - ψ_{ay}⎟  + ψ_{ax}  ⎟  + ⎜-l₀ +   ╱   ⎜─ + ψ_{ay}⎟  +\n",
       "       ⎝⎝      ╲╱    ⎝2         ⎠            ⎠    ⎝      ╲╱    ⎝2         ⎠   \n",
       "V = ──────────────────────────────────────────────────────────────────────────\n",
       "                                                                              \n",
       "\n",
       "          2                                         2                         \n",
       "_________⎞    ⎛           _________________________⎞    ⎛           __________\n",
       "         ⎟    ⎜          ╱             2           ⎟    ⎜          ╱          \n",
       "       2 ⎟    ⎜         ╱  ⎛L         ⎞          2 ⎟    ⎜         ╱  ⎛L       \n",
       " ψ_{ax}  ⎟  + ⎜-l₀ +   ╱   ⎜─ - ψ_{by}⎟  + ψ_{bx}  ⎟  + ⎜-l₀ +   ╱   ⎜─ + ψ_{b\n",
       "         ⎠    ⎝      ╲╱    ⎝2         ⎠            ⎠    ⎝      ╲╱    ⎝2       \n",
       "──────────────────────────────────────────────────────────────────────────────\n",
       "          2                                                                   \n",
       "\n",
       "                2⎞                                                            \n",
       "_______________⎞ ⎟                                                            \n",
       "   2           ⎟ ⎟                                                            \n",
       "  ⎞          2 ⎟ ⎟                                                            \n",
       "y}⎟  + ψ_{bx}  ⎟ ⎟      ⎛            2               2                     2  \n",
       "  ⎠            ⎠ ⎠   k₂⋅⎝(d + ψ_{ax})  + (d - ψ_{bx})  + (-ψ_{ay} + ψ_{by})  +\n",
       "────────────────── + ─────────────────────────────────────────────────────────\n",
       "                                                                      2       \n",
       "\n",
       "                                          \n",
       "                                          \n",
       "                                          \n",
       "                                          \n",
       "                      2                  ⎞\n",
       " (d - ψ_{ax} + ψ_{bx})  + ψ_{ay} + ψ_{by}⎠\n",
       "──────────────────────────────────────────\n",
       "                                          "
      ]
     },
     "execution_count": 52,
     "metadata": {},
     "output_type": "execute_result"
    }
   ],
   "source": [
    "pot= (k2/2) * ( l_1**2+ l_2**2+ l_3**2 ) \\\n",
    "    + (k1/2) * ( (l_I - l0)**2 + (l_II - l0)**2 + (l_III - l0)**2 + (l_IV - l0)**2 )\n",
    "potencial= sy.Eq(V,pot)\n",
    "potencial"
   ]
  },
  {
   "cell_type": "markdown",
   "metadata": {},
   "source": [
    "## Obteniendo las fuerzas y planteando la 2.a ley de Newton\n",
    "Hay que analizar para cada partícula que oscila. Para la $a$ bastaría con derivar respecto a sus coordenadas\n",
    "$\\vec{F}_a = - \\vec{\\nabla}_a V(\\psi_{ax}, \\psi_{bx}, \\psi_{ay}, \\psi_{by} ) = - \\left( \\frac{\\mathrm{d}}{\\mathrm{d} \\psi_{ax}} V \\hat{x} + \\frac{\\mathrm{d}}{\\mathrm{d} \\psi_{ay}} V \\hat{y} \\right) $.\n",
    "\n",
    "Empecemos por las llamadas oscilaciones longitudinales, en la dirección de la línea que atraviesa esta párticula y la $b$ nos limitamos a\n",
    "$$\n",
    " m \\ddot{x}_a =  m \\ddot{\\vec{r}}_{a} \\cdot \\hat{x}= m \\ddot{\\psi}_{ax} = \\vec{F}_a \\cdot \\hat{x} = - \\frac{\\mathrm{d}}{\\mathrm{d} \\psi_{ax}} V\n",
    "$$\n",
    "que luego de algunas cuentas queda"
   ]
  },
  {
   "cell_type": "code",
   "execution_count": 67,
   "metadata": {},
   "outputs": [
    {
     "data": {
      "image/png": "[encoded data removed]",
      "text/latex": [
       "$\\displaystyle m \\ddot{\\psi}_{{ax}} = \\frac{2 k_{1} l_{0} \\psi_{{ax}}}{\\sqrt{\\left(L + 2 \\psi_{{ay}}\\right)^{2} + 4 \\psi^{2}_{{ax}}}} + \\frac{2 k_{1} l_{0} \\psi_{{ax}}}{\\sqrt{\\left(L - 2 \\psi_{{ay}}\\right)^{2} + 4 \\psi^{2}_{{ax}}}} - 2 k_{1} \\psi_{{ax}} - 2 k_{2} \\psi_{{ax}} + k_{2} \\psi_{{bx}}$"
      ],
      "text/plain": [
       "                    2⋅k₁⋅l₀⋅ψ_{ax}                     2⋅k₁⋅l₀⋅ψ_{ax}         \n",
       "m⋅ψ_{äx} = ──────────────────────────────── + ───────────────────────────────\n",
       "              _____________________________      _____________________________\n",
       "             ╱               2           2      ╱               2           2 \n",
       "           ╲╱  (L + 2⋅ψ_{ay})  + 4⋅ψ_{ax}     ╲╱  (L - 2⋅ψ_{ay})  + 4⋅ψ_{ax}  \n",
       "\n",
       "                                        \n",
       "─ - 2⋅k₁⋅ψ_{ax} - 2⋅k₂⋅ψ_{ax} + k₂⋅ψ_{bx}\n",
       "                                        \n",
       "                                        \n",
       "                                        "
      ]
     },
     "execution_count": 67,
     "metadata": {},
     "output_type": "execute_result"
    }
   ],
   "source": [
    "f_ax= (-1)* sy.diff(pot,psiax).simplify()\n",
    "sy.Eq(m * psiax.diff().diff(), f_ax)"
   ]
  },
  {
   "cell_type": "markdown",
   "metadata": {},
   "source": [
    "Acá hacemos uso de la operación de sacar el $L$ de las raices, que quedan en el denominador.\n",
    "Dentro de las raices quedarán fracciones las fracciones $\\left( \\frac{\\psi_{ax}}{L} \\right)^2$ y $\\left( \\frac{\\psi_{ay}}{L} \\right)^2$.\n",
    "Puesto que $\\psi_{ax}, \\psi_{ay} \\ll L \\implies$ los cuadrados de tales fracciones pueden despreciarse.\n",
    "Así queda"
   ]
  },
  {
   "cell_type": "code",
   "execution_count": 70,
   "metadata": {},
   "outputs": [
    {
     "data": {
      "image/png": "[encoded data removed]",
      "text/latex": [
       "$\\displaystyle m \\ddot{\\psi}_{{ax}} = \\frac{4 k_{1} l_{0} \\psi_{{ax}}}{\\sqrt{L^{2}}} - 2 k_{1} \\psi_{{ax}} - 2 k_{2} \\psi_{{ax}} + k_{2} \\psi_{{bx}}$"
      ],
      "text/plain": [
       "           4⋅k₁⋅l₀⋅ψ_{ax}                                        \n",
       "m⋅ψ_{äx} = ────────────── - 2⋅k₁⋅ψ_{ax} - 2⋅k₂⋅ψ_{ax} + k₂⋅ψ_{bx}\n",
       "                 ____                                            \n",
       "                ╱  2                                             \n",
       "              ╲╱  L                                              "
      ]
     },
     "execution_count": 70,
     "metadata": {},
     "output_type": "execute_result"
    }
   ],
   "source": [
    "f_axS= f_ax.expand().subs([(psiax**2,0),(psiay**2,0),(L*psiay,0)]).simplify()\n",
    "sy.Eq(m * psiax.diff().diff(), f_axS)"
   ]
  },
  {
   "cell_type": "code",
   "execution_count": null,
   "metadata": {},
   "outputs": [],
   "source": []
  }
 ],
 "metadata": {
  "kernelspec": {
   "display_name": "Python 3",
   "language": "python",
   "name": "python3"
  },
  "language_info": {
   "codemirror_mode": {
    "name": "ipython",
    "version": 3
   },
   "file_extension": ".py",
   "mimetype": "text/x-python",
   "name": "python",
   "nbconvert_exporter": "python",
   "pygments_lexer": "ipython3",
   "version": "3.7.3"
  }
 },
 "nbformat": 4,
 "nbformat_minor": 4
}
