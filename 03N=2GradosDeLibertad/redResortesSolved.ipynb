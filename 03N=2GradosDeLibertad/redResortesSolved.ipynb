{
 "cells": [
  {
   "cell_type": "markdown",
   "metadata": {},
   "source": [
    "# Modos normales de oscilación: sistema con dos grados de libertad"
   ]
  },
  {
   "cell_type": "markdown",
   "metadata": {},
   "source": [
    "[![Departamento de Física, Facultad de Ciencias Exactas y Naturales, Universidad de Buenos Aires](data:image/png;base64,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)](https://www.df.uba.ar/)  \n",
    "\n",
    "[![cc-by-sa-80x15.png](data:image/png;base64,iVBORw0KGgoAAAANSUhEUgAAAFAAAAAPCAMAAABEF7i9AAAABGdBTUEAANbY1E9YMgAAAJZQTFRF////7u7u3d3dys7KzMzMyMzIxsrGxcbFur+6u7u7s7iyq7GqqqqqmZmZlJmTj5CPiIiIh4eHhoaGgICAfYJ9d3d3cnZxZ2tnZmZmW15bVVVVS0xLREREQ0NDQkJCQUJBOz07OTs5MzMzMTMxLjAuJygnJCUjIiIiISEhICAgGRkZERERDxAPDg4ODQ4NDQ0NDQ0MAAAADbeuvgAAANNJREFUeNqtk2kTgiAQhl/KzlWzgw6j+7Ayq/3/f64hTPNLNskOMMwuPLzsAtiygWHVNJC0TThIXSrxierXv/UZoJ8E2SHqQNQeVgSuT7lqh2dEjXk14C2AE7ESiiMHakdU773igF5keu5AKXDEHUQhpIyF50LeiNotEzct4+XO78AxO0JXJdzqO8uEqNvMBKUaYcbXDD8qVNNYSA/yXlRYEISfFNI9gBvzVCje1rDYF3L4sf+d03Lg5my5yv6jnwGXRwvvkMY8SHmrS9WfYvsvW7YnkDuZd7/ChBQAAAAASUVORK5CYII=)](https://creativecommons.org/licenses/by-sa/4.0/deed.es_ES) \n",
    "2021 [Víctor A. Bettachini](mailto:bettachini@df.uba.ar)  \n",
    "\n",
    "---"
   ]
  },
  {
   "cell_type": "markdown",
   "metadata": {},
   "source": [
    "## Red de resortes\n",
    "![Figura: sistema a resolver](figuras/malla.png) \n",
    "\n",
    "Considere el sistema de la figura, en el que se tienen dos partıculas de masa \\\\(m\\\\) unidas a las paredescon resortes verticales de longitud natural $l_0 (l_0< L/2)$ y constante $k_1$, y con resortes horizontales $l_0= 0$ (slinkies) y constante $k_2$.\n",
    "Imagine que las partículas tienen la libertad de moverse en el plano y que la gravedad no les afecta.\n",
    "\n",
    "1. ¿Bajo qué aproximaciones es posible decir que el movimiento más general posible de cada una de las masas es una superposición lineal del movimiento más general posible de las oscilaciones longitudinales y de las oscilaciones transversales?\n",
    "  Demuestre su afirmación.  \n",
    "2. Considerando la aproximación del punto anterior, determine las frecuencias propias y los modos normales de oscilación: longitudinales, transversales y de la solución más general posible para un movimiento arbitrario en el plano."
   ]
  },
  {
   "cell_type": "code",
   "execution_count": 49,
   "metadata": {},
   "outputs": [],
   "source": [
    "import sympy as sy\n",
    "from sympy.physics.mechanics import dynamicsymbols, init_vprinting\n",
    "from sympy import solve, Eq\n",
    "init_vprinting()\n",
    "psiax, psiay, psibx, psiby = sy.physics.mechanics.dynamicsymbols(\n",
    "    'psi_{ax} psi_{ay} psi_{bx} psi_{by}')\n",
    "V, omegax1, omegax2, omegay1, omegay1 = sy.symbols(\n",
    "    'V omega_{x1} omega_{x2} omega_{y1} omega_{y2}')\n",
    "m, k1, k2, l0, L, d, t = sy.symbols(\n",
    "    'm k_1 k_2 l_0 L d t')\n",
    "l1, l2, l3= sy.symbols(\n",
    "    'l_1 l_2 l_3')\n",
    "lI, lII, lIII, lIV= sy.symbols(\n",
    "    'l_I l_{II} l_{III} l_{IV}')"
   ]
  },
  {
   "cell_type": "markdown",
   "metadata": {},
   "source": [
    "## Potencial del sistema\n",
    "Empezamos preguntandonos que potenciales están en juego.\n",
    "En este caso solo los elásticos de los resortes, ya que quitamos del análisis efectos gravitatorios.\n",
    "\n",
    "Nos queda la tarea de escibir las longitudes de todos los resortes.\n",
    "Para esto primero hay que establecer un sistema de coordenadas.\n",
    "Resulta cómodo uno centrada en la posición de reposo de alguna de las partículas, la de la izquierda por ejemplo que llamaremos $a$.\n",
    "Como analizamos pequeñas oscilaciones su posición será un pequeño apartamiento $\\psi$ desde allí\n",
    "$$\n",
    "\\vec{r}_a =  \\psi_{ax} \\hat{x}+ \\psi_{ay} \\hat{y},\n",
    "$$\n",
    "con $\\hat{x}$ apuntando a la derecha del dibujo, e $\\hat{y}$ hacia arriba.\n",
    "\n",
    "Lo mismo para la otra partícula\n",
    "$$\n",
    "\\vec{r}_b = \\left( d+ \\psi_{bx} \\right) \\hat{x}  + \\psi_{by} \\hat{y}.\n",
    "$$\n",
    "\n",
    "Con esto podemos escribir las longitudes de los resortes en la dirección de la línea que atraviesa estas partículas:\n",
    "$$\n",
    "\\begin{aligned}\n",
    "l_1 &= |\\vec{r}_a- (-d \\hat{x})|= \\sqrt{(d+ \\psi_{ax}) ^2 + \\psi_{ay}^2} \\\\\n",
    "l_2 &= |\\vec{r}_b - \\vec{r}_a| = \\sqrt{(d+ \\psi_{bx}- \\psi_{ax})^2 + (\\psi_{by}- \\psi_{ay})^2} \\\\\n",
    "l_3 &= |(2d \\hat{x})- \\vec{r}_b|= \\sqrt{(d- \\psi_{bx}) ^2 + \\psi_{by}^2}\n",
    "\\end{aligned}\n",
    "$$"
   ]
  },
  {
   "cell_type": "code",
   "execution_count": 50,
   "metadata": {},
   "outputs": [
    {
     "data": {
      "image/png": "[encoded data removed]",
      "text/latex": [
       "$\\displaystyle \\left( l_{1} = \\sqrt{\\left(d + \\psi_{{ax}}\\right)^{2} + \\psi_{{ay}}}, \\  l_{2} = \\sqrt{\\left(- \\psi_{{ay}} + \\psi_{{by}}\\right)^{2} + \\left(d - \\psi_{{ax}} + \\psi_{{bx}}\\right)^{2}}, \\  l_{3} = \\sqrt{\\left(d - \\psi_{{bx}}\\right)^{2} + \\psi_{{by}}}\\right)$"
      ],
      "text/plain": [
       "⎛        ________________________          ___________________________________\n",
       "⎜       ╱             2                   ╱                   2               \n",
       "⎝l₁ = ╲╱  (d + ψ_{ax})  + ψ_{ay} , l₂ = ╲╱  (-ψ_{ay} + ψ_{by})  + (d - ψ_{ax} \n",
       "\n",
       "___________          ________________________⎞\n",
       "         2          ╱             2          ⎟\n",
       "+ ψ_{bx})  , l₃ = ╲╱  (d - ψ_{bx})  + ψ_{by} ⎠"
      ]
     },
     "execution_count": 50,
     "metadata": {},
     "output_type": "execute_result"
    }
   ],
   "source": [
    "l_1 = sy.sqrt((d + psiax)**2+ psiay)\n",
    "l_2 = sy.sqrt( (d + psibx - psiax)**2 + ( psiby- psiay )**2 )\n",
    "l_3 = sy.sqrt((d - psibx)**2+ psiby)\n",
    "sy.Eq(l1, l_1), sy.Eq(l2, l_2), sy.Eq(l3, l_3)"
   ]
  },
  {
   "cell_type": "markdown",
   "metadata": {},
   "source": [
    "Lo mismo con los resortes en la dirección transversal a la anterior\n",
    "$$\n",
    "\\begin{aligned}\n",
    "l_I &= |L \\hat{y}- \\vec{r}_a|= \\sqrt{ \\psi_{ax}^2 + (L/2 - \\psi_{ay})^2} \\\\\n",
    "l_{II} &= |\\vec{r}_a- (-L \\hat{y})|= \\sqrt{ \\psi_{ax}^2 + (L/2 + \\psi_{ay})^2} \\\\\n",
    "l_{III} &= |L \\hat{y}- \\vec{r}_b|= \\sqrt{ \\psi_{bx}^2 + (L/2 - \\psi_{by})^2} \\\\\n",
    "l_{IV} &= |\\vec{r}_b- (-L \\hat{y})|= \\sqrt{ \\psi_{bx}^2 + (L/2 + \\psi_{by})^2}\n",
    "\\end{aligned}\n",
    "$$"
   ]
  },
  {
   "cell_type": "code",
   "execution_count": 51,
   "metadata": {},
   "outputs": [
    {
     "data": {
      "image/png": "[encoded data removed]",
      "text/latex": [
       "$\\displaystyle \\left( l_{I} = \\sqrt{\\left(\\frac{L}{2} - \\psi_{{ay}}\\right)^{2} + \\psi^{2}_{{ax}}}, \\  l_{II} = \\sqrt{\\left(\\frac{L}{2} + \\psi_{{ay}}\\right)^{2} + \\psi^{2}_{{ax}}}, \\  l_{III} = \\sqrt{\\left(\\frac{L}{2} - \\psi_{{by}}\\right)^{2} + \\psi^{2}_{{bx}}}, \\  l_{IV} = \\sqrt{\\left(\\frac{L}{2} + \\psi_{{by}}\\right)^{2} + \\psi^{2}_{{bx}}}\\right)$"
      ],
      "text/plain": [
       "⎛           _________________________                _________________________\n",
       "⎜          ╱             2                          ╱             2           \n",
       "⎜         ╱  ⎛L         ⎞          2               ╱  ⎛L         ⎞          2 \n",
       "⎜l_I =   ╱   ⎜─ - ψ_{ay}⎟  + ψ_{ax}  , l_{II} =   ╱   ⎜─ + ψ_{ay}⎟  + ψ_{ax}  \n",
       "⎝      ╲╱    ⎝2         ⎠                       ╲╱    ⎝2         ⎠            \n",
       "\n",
       "                 _________________________                ____________________\n",
       "                ╱             2                          ╱             2      \n",
       "               ╱  ⎛L         ⎞          2               ╱  ⎛L         ⎞       \n",
       ", l_{III} =   ╱   ⎜─ - ψ_{by}⎟  + ψ_{bx}  , l_{IV} =   ╱   ⎜─ + ψ_{by}⎟  + ψ_{\n",
       "            ╲╱    ⎝2         ⎠                       ╲╱    ⎝2         ⎠       \n",
       "\n",
       "_____⎞\n",
       "     ⎟\n",
       "   2 ⎟\n",
       "bx}  ⎟\n",
       "     ⎠"
      ]
     },
     "execution_count": 51,
     "metadata": {},
     "output_type": "execute_result"
    }
   ],
   "source": [
    "l_I= sy.sqrt(psiax**2+ (L/2 - psiay)**2)\n",
    "l_II= sy.sqrt(psiax**2+ (L/2 + psiay)**2)\n",
    "l_III= sy.sqrt(psibx**2+ (L/2 - psiby)**2)\n",
    "l_IV= sy.sqrt(psibx**2+ (L/2 + psiby)**2)\n",
    "sy.Eq(lI, l_I), sy.Eq(lII, l_II), sy.Eq(lIII, l_III), sy.Eq(lIV, l_IV)"
   ]
  },
  {
   "cell_type": "markdown",
   "metadata": {},
   "source": [
    "Para escribir el potencial elástico de cada uno debemos recordar que los \"longitudinales\" son _slinkies_ ($l_0=0$), en tanto que los dispuestos \"transversalmente\" tiene una longitud natural no nula $l_o < L/2$ según el enunciado.\n",
    "El potencial del sistema así modelado para pequeñas oscilaciones de $a$ y $b$ es\n",
    "$$\n",
    "\\begin{aligned}\n",
    "V(\\psi_{ax}, \\psi_{bx}, \\psi_{ay}, \\psi_{by} ) =&\n",
    "\\frac{k_2}{2} \n",
    "\\left[\n",
    "l_1^2 + l_2^2+ l_3^2\n",
    "\\right] \\\\\n",
    "&+ \\frac{k_1}{2} \\left[\n",
    "(l_{I}- l_0)^2 + (l_{II}- l_0)^2 + (l_{III}- l_0)^2 + (l_{IV}- l_0)^2\n",
    "\\right] \\\\\n",
    "=& \\frac{k_2}{2} \\left[\n",
    "(d+ \\psi_{ax}) ^2 + \\psi_{ay}^2 + (d+ \\psi_{bx}- \\psi_{ax})^2 + (\\psi_{by}- \\psi_{ay})^2 + (d- \\psi_{bx}) ^2 + \\psi_{by}^2\n",
    "\\right] \\\\\n",
    "&+ \\frac{k_1}{2} \\left[\n",
    "  \\left( \\sqrt{ \\psi_{ax}^2 + (L/2 - \\psi_{ay})^2} - l_0 \\right)^2\n",
    "+ \\left( \\sqrt{ \\psi_{ax}^2 + (L/2 + \\psi_{ay})^2} - l_0 \\right)^2\n",
    "+ \\left( \\sqrt{ \\psi_{bx}^2 + (L/2 - \\psi_{by})^2} - l_0 \\right)^2\n",
    "+ \\left( \\sqrt{ \\psi_{bx}^2 + (L/2 + \\psi_{by})^2} - l_0 \\right)^2\n",
    "\\right]\n",
    "\\end{aligned}\n",
    "$$\n",
    "\n",
    "Esto es mejor no desarmarlo pues al derivar para obtener las fuerzas los cuadrados se van y quedan expresiones más sencillas."
   ]
  },
  {
   "cell_type": "code",
   "execution_count": 52,
   "metadata": {},
   "outputs": [
    {
     "data": {
      "image/png": "[encoded data removed]",
      "text/latex": [
       "$\\displaystyle V = \\frac{k_{1} \\left(\\left(- l_{0} + \\sqrt{\\left(\\frac{L}{2} - \\psi_{{ay}}\\right)^{2} + \\psi^{2}_{{ax}}}\\right)^{2} + \\left(- l_{0} + \\sqrt{\\left(\\frac{L}{2} + \\psi_{{ay}}\\right)^{2} + \\psi^{2}_{{ax}}}\\right)^{2} + \\left(- l_{0} + \\sqrt{\\left(\\frac{L}{2} - \\psi_{{by}}\\right)^{2} + \\psi^{2}_{{bx}}}\\right)^{2} + \\left(- l_{0} + \\sqrt{\\left(\\frac{L}{2} + \\psi_{{by}}\\right)^{2} + \\psi^{2}_{{bx}}}\\right)^{2}\\right)}{2} + \\frac{k_{2} \\left(\\left(d + \\psi_{{ax}}\\right)^{2} + \\left(d - \\psi_{{bx}}\\right)^{2} + \\left(- \\psi_{{ay}} + \\psi_{{by}}\\right)^{2} + \\left(d - \\psi_{{ax}} + \\psi_{{bx}}\\right)^{2} + \\psi_{{ay}} + \\psi_{{by}}\\right)}{2}$"
      ],
      "text/plain": [
       "       ⎛                                      2                               \n",
       "       ⎜⎛           _________________________⎞    ⎛           ________________\n",
       "       ⎜⎜          ╱             2           ⎟    ⎜          ╱             2  \n",
       "       ⎜⎜         ╱  ⎛L         ⎞          2 ⎟    ⎜         ╱  ⎛L         ⎞   \n",
       "    k₁⋅⎜⎜-l₀ +   ╱   ⎜─ - ψ_{ay}⎟  + ψ_{ax}  ⎟  + ⎜-l₀ +   ╱   ⎜─ + ψ_{ay}⎟  +\n",
       "       ⎝⎝      ╲╱    ⎝2         ⎠            ⎠    ⎝      ╲╱    ⎝2         ⎠   \n",
       "V = ──────────────────────────────────────────────────────────────────────────\n",
       "                                                                              \n",
       "\n",
       "          2                                         2                         \n",
       "_________⎞    ⎛           _________________________⎞    ⎛           __________\n",
       "         ⎟    ⎜          ╱             2           ⎟    ⎜          ╱          \n",
       "       2 ⎟    ⎜         ╱  ⎛L         ⎞          2 ⎟    ⎜         ╱  ⎛L       \n",
       " ψ_{ax}  ⎟  + ⎜-l₀ +   ╱   ⎜─ - ψ_{by}⎟  + ψ_{bx}  ⎟  + ⎜-l₀ +   ╱   ⎜─ + ψ_{b\n",
       "         ⎠    ⎝      ╲╱    ⎝2         ⎠            ⎠    ⎝      ╲╱    ⎝2       \n",
       "──────────────────────────────────────────────────────────────────────────────\n",
       "          2                                                                   \n",
       "\n",
       "                2⎞                                                            \n",
       "_______________⎞ ⎟                                                            \n",
       "   2           ⎟ ⎟                                                            \n",
       "  ⎞          2 ⎟ ⎟                                                            \n",
       "y}⎟  + ψ_{bx}  ⎟ ⎟      ⎛            2               2                     2  \n",
       "  ⎠            ⎠ ⎠   k₂⋅⎝(d + ψ_{ax})  + (d - ψ_{bx})  + (-ψ_{ay} + ψ_{by})  +\n",
       "────────────────── + ─────────────────────────────────────────────────────────\n",
       "                                                                      2       \n",
       "\n",
       "                                          \n",
       "                                          \n",
       "                                          \n",
       "                                          \n",
       "                      2                  ⎞\n",
       " (d - ψ_{ax} + ψ_{bx})  + ψ_{ay} + ψ_{by}⎠\n",
       "──────────────────────────────────────────\n",
       "                                          "
      ]
     },
     "execution_count": 52,
     "metadata": {},
     "output_type": "execute_result"
    }
   ],
   "source": [
    "pot= (k2/2) * ( l_1**2+ l_2**2+ l_3**2 ) \\\n",
    "    + (k1/2) * ( (l_I - l0)**2 + (l_II - l0)**2 + (l_III - l0)**2 + (l_IV - l0)**2 )\n",
    "potencial= sy.Eq(V,pot)\n",
    "potencial"
   ]
  },
  {
   "cell_type": "markdown",
   "metadata": {},
   "source": [
    "## Obteniendo las fuerzas y planteando la 2.a ley de Newton\n",
    "Hay que analizar para cada partícula que oscila. Para la $a$ bastaría con derivar respecto a sus coordenadas\n",
    "$\\vec{F}_a = - \\vec{\\nabla}_a V(\\psi_{ax}, \\psi_{bx}, \\psi_{ay}, \\psi_{by} ) = - \\left( \\frac{\\mathrm{d}}{\\mathrm{d} \\psi_{ax}} V \\hat{x} + \\frac{\\mathrm{d}}{\\mathrm{d} \\psi_{ay}} V \\hat{y} \\right) $.\n",
    "\n",
    "Empecemos por las llamadas oscilaciones longitudinales, en la dirección de la línea que atraviesa esta párticula y la $b$ nos limitamos a\n",
    "$$\n",
    " m \\ddot{x}_a =  m \\ddot{\\vec{r}}_{a} \\cdot \\hat{x}= m \\ddot{\\psi}_{ax} = \\vec{F}_a \\cdot \\hat{x} = - \\frac{\\mathrm{d}}{\\mathrm{d} \\psi_{ax}} V\n",
    "$$\n",
    "que luego de algunas cuentas queda"
   ]
  },
  {
   "cell_type": "code",
   "execution_count": 67,
   "metadata": {},
   "outputs": [
    {
     "data": {
      "image/png": "[encoded data removed]",
      "text/latex": [
       "$\\displaystyle m \\ddot{\\psi}_{{ax}} = \\frac{2 k_{1} l_{0} \\psi_{{ax}}}{\\sqrt{\\left(L + 2 \\psi_{{ay}}\\right)^{2} + 4 \\psi^{2}_{{ax}}}} + \\frac{2 k_{1} l_{0} \\psi_{{ax}}}{\\sqrt{\\left(L - 2 \\psi_{{ay}}\\right)^{2} + 4 \\psi^{2}_{{ax}}}} - 2 k_{1} \\psi_{{ax}} - 2 k_{2} \\psi_{{ax}} + k_{2} \\psi_{{bx}}$"
      ],
      "text/plain": [
       "                    2⋅k₁⋅l₀⋅ψ_{ax}                     2⋅k₁⋅l₀⋅ψ_{ax}         \n",
       "m⋅ψ_{äx} = ──────────────────────────────── + ───────────────────────────────\n",
       "              _____________________________      _____________________________\n",
       "             ╱               2           2      ╱               2           2 \n",
       "           ╲╱  (L + 2⋅ψ_{ay})  + 4⋅ψ_{ax}     ╲╱  (L - 2⋅ψ_{ay})  + 4⋅ψ_{ax}  \n",
       "\n",
       "                                        \n",
       "─ - 2⋅k₁⋅ψ_{ax} - 2⋅k₂⋅ψ_{ax} + k₂⋅ψ_{bx}\n",
       "                                        \n",
       "                                        \n",
       "                                        "
      ]
     },
     "execution_count": 67,
     "metadata": {},
     "output_type": "execute_result"
    }
   ],
   "source": [
    "f_ax= (-1)* sy.diff(pot,psiax).simplify()\n",
    "sy.Eq(m * psiax.diff().diff(), f_ax)"
   ]
  },
  {
   "cell_type": "markdown",
   "metadata": {},
   "source": [
    "Acá hacemos uso de la operación de sacar el $L$ de las raices, que quedan en el denominador.\n",
    "Dentro de las raices quedarán fracciones las fracciones $\\left( \\frac{\\psi_{ax}}{L} \\right)^2$ y $\\left( \\frac{\\psi_{ay}}{L} \\right)^2$.\n",
    "Puesto que $\\psi_{ax}, \\psi_{ay} \\ll L \\implies$ los cuadrados de tales fracciones pueden despreciarse.\n",
    "Así queda"
   ]
  },
  {
   "cell_type": "code",
   "execution_count": 70,
   "metadata": {},
   "outputs": [
    {
     "data": {
      "image/png": "[encoded data removed]",
      "text/latex": [
       "$\\displaystyle m \\ddot{\\psi}_{{ax}} = \\frac{4 k_{1} l_{0} \\psi_{{ax}}}{\\sqrt{L^{2}}} - 2 k_{1} \\psi_{{ax}} - 2 k_{2} \\psi_{{ax}} + k_{2} \\psi_{{bx}}$"
      ],
      "text/plain": [
       "           4⋅k₁⋅l₀⋅ψ_{ax}                                        \n",
       "m⋅ψ_{äx} = ────────────── - 2⋅k₁⋅ψ_{ax} - 2⋅k₂⋅ψ_{ax} + k₂⋅ψ_{bx}\n",
       "                 ____                                            \n",
       "                ╱  2                                             \n",
       "              ╲╱  L                                              "
      ]
     },
     "execution_count": 70,
     "metadata": {},
     "output_type": "execute_result"
    }
   ],
   "source": [
    "f_axS= f_ax.expand().subs([(psiax**2,0),(psiay**2,0),(L*psiay,0)]).simplify()\n",
    "sy.Eq(m * psiax.diff().diff(), f_axS)"
   ]
  },
  {
   "cell_type": "code",
   "execution_count": null,
   "metadata": {},
   "outputs": [],
   "source": []
  }
 ],
 "metadata": {
  "kernelspec": {
   "display_name": "Python 3",
   "language": "python",
   "name": "python3"
  },
  "language_info": {
   "codemirror_mode": {
    "name": "ipython",
    "version": 3
   },
   "file_extension": ".py",
   "mimetype": "text/x-python",
   "name": "python",
   "nbconvert_exporter": "python",
   "pygments_lexer": "ipython3",
   "version": "3.7.3"
  }
 },
 "nbformat": 4,
 "nbformat_minor": 4
}
