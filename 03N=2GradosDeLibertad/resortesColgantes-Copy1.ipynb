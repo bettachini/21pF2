{
 "cells": [
  {
   "cell_type": "markdown",
   "metadata": {},
   "source": [
    "# Dos resortes colgantes"
   ]
  },
  {
   "cell_type": "markdown",
   "metadata": {},
   "source": [
    "![Departamento de Física, Facultad de Ciencias Exactas y Naturales, Universidad de Buenos Aires](figuras/logoDF.png \"DF, FCEyN, UBA\")  \n",
    "©2021 [Víctor A. Bettachini](mailto:bettachini@df.uba.ar)  \n",
    "\n",
    "----"
   ]
  },
  {
   "cell_type": "markdown",
   "metadata": {},
   "source": [
    "# Enunciado\n",
    " Considere el sistema de la figura en ausencia de gravedad  \n",
    "![Figura 1: Sistema a analizar.](figuras/modosNormales_ej1-6.png)\n",
    "    \n",
    "a) Obtenga sus frecuencias naturales de oscilación y los modos normales correspondientes.\n",
    "Escriba las ecuaciones de movimiento de cada masa.  \n",
    "b) Sabiendo que a $t=0$ el sistema satisface las siguientes condiciones: $\\Psi_{a}(0)=1,\\,\\Psi_{b}(0)=0$ y que se encuentra en reposo, encuentre el movimiento de cada partícula.   \n",
    "c) Analice cómo se modifica el resultado por la presencia de la gravedad."
   ]
  },
  {
   "cell_type": "markdown",
   "metadata": {},
   "source": [
    "# Sistema sin gravedad | 1) obtención de frecuencias y modos normales de oscilación\n",
    "\n",
    "### Potenciales en el sistema\n",
    "Empezamos preguntandonos que potenciales están en juego.\n",
    "En este caso los de los resortes.\n",
    "En la figura está indicada como coordenadas sugeridas las $\\psi_i$, notación que se usa para notar un pequeño desplazamiento.\n",
    "Pero antes de ver el porqué de esta sugerencia hagamos el análisis el potencial elástico de cada resorte que como sabemos depende de la longitud de los mismos.\n",
    "\n",
    "Tomamos el origen del sistema de coordenadas en el \"techo\" del que pende el resorte superior, de allí apuntando hacia abajo orientamos $\\hat{y}$.\n",
    "Para el resorte unido a este techo la posición de la masa superior $\\vec{y}_a$ determina su longitud\n",
    "$$\n",
    "l_1 = |y_a \\hat{y} - 0|= y_a .\n",
    "$$\n",
    "Para el que pende debajo de esta masa tiene en su otro extremo en $\\vec{y}_b$ otra masa.\n",
    "La posición de ambas establece su longitud\n",
    "$$\n",
    "l_2 = |y_b \\hat{y} - y_a \\hat{y}|= y_b- y_a . \n",
    "$$\n",
    "Si ambos tienen la misma longitud natural $l_0$, aquella que tendrían si ninguna fuerza se aplicara a ellos, el potencial del sistema es\n",
    "$$\n",
    "V(y_a, y_b)= \\frac{k}{2} \\left[ \\left(y_a - l_0 \\right)^2 + \\left(y_b - y_a - l_0 \\right)^2 \\right].\n",
    "$$ "
   ]
  },
  {
   "cell_type": "markdown",
   "metadata": {},
   "source": [
    "## Fuerzas y planteo de 2.a ley de Newton\n",
    "Para escribir la 2.a ley de Newton para cada masa obtenemos las fuerzas sobre ellas.\n",
    "Para la superior\n",
    "$$\n",
    "m \\ddot{y}_a = m \\ddot{\\vec{y}_a} \\cdot \\hat{y} = -\\vec{\\nabla}_a V \\cdot \\hat{y} = - \\frac{\\partial}{\\partial y_a} V(y_a, y_b) = - k (y_a- l_0) + k (y_b -y_a- l_0) .\n",
    "$$\n",
    "Para la masa inferior lo mismo\n",
    "$$\n",
    "\\frac{2m}{3} \\ddot{y}_b = \\frac{2m}{3} \\ddot{\\vec{y}_b} \\cdot \\hat{y} = -\\vec{\\nabla}_b V \\cdot \\hat{y} = - \\frac{\\partial}{\\partial y_b} V(y_a, y_b)= - k (y_b -y_a- l_0) .\n",
    "$$\n",
    "\n",
    "En este sistema no afectado por la aceleración $\\vec{g}$, resulta que las longitudes de equilibrio de las fuerzas corresponden a cuando la longitud de los resortes coincide con $l_0$, pues ninguna otra fuerza que la elástica existe en este modelo.\n",
    "Esto es fácilmente comprobable obteniendo el mínimo de potencial en función de las longitudes de los resortes. $l_1$ y $l_2$.\n",
    "Entonces\n",
    "$$\n",
    "y_a = l_o + \\psi_a,\n",
    "$$\n",
    "siendo $\\psi_a$ el pequeño desplazamiento en torno a la posición de equilibrio, y lo mismo para el extremo inferior del segundo resorte.\n",
    "$$\n",
    "y_b = 2 l_o + \\psi_b.\n",
    "$$\n",
    "\n",
    "Si quiero re-escribir las ecuaciones de la 2.a ley en funcion de estos pequeños desplazamientos al derivar dos veces respecto al tiempo $\\ddot{y}_a= \\ddot{\\psi}_a$ y $\\ddot{y}_b = \\ddot{\\psi}_b$ por lo que obtenemos\n",
    "$$\n",
    "\\begin{aligned}\n",
    "m \\ddot{\\psi}_a & = - k \\left[ (l_o + \\psi_a) - l_0 \\right] + k \\left[ (2 l_0 + \\psi_b) - (l_0 + \\psi_a) - l_0 \\right] = -k \\psi_a + k (\\psi_b - \\psi_a) = -k (2\\psi_a - \\psi_b) \\\\\n",
    "\\frac{2m}{3} \\ddot{\\psi}_b & = -  k \\left( (2 l_o+ \\psi_b) - (l_o + \\psi_a) - l_0 \\right)= -k (\\psi_b - \\psi_a)\n",
    "\\end{aligned}\n",
    "$$\n",
    "Nos queda un sistema de ecuaciones acopladas\n",
    "$$\n",
    "\\left \\{\n",
    "\\begin{matrix}\n",
    "\\ddot{\\psi}_a = - \\frac{k}{m} (2 \\psi_a - \\psi_b)\\\\\n",
    "\\ddot{\\psi}_b = -\\frac{3k}{2m} ( \\psi_b - \\psi_a)\n",
    "\\end{matrix}\n",
    "\\right .\n",
    ",\n",
    "$$\n",
    "que puede escribirse en forma matricial"
   ]
  },
  {
   "cell_type": "code",
   "execution_count": 1,
   "metadata": {},
   "outputs": [],
   "source": [
    "import sympy as sym\n",
    "from sympy.physics.mechanics import dynamicsymbols, init_vprinting\n",
    "init_vprinting() # notación con punto para la velocidad y punto punto para la aceleración"
   ]
  },
  {
   "cell_type": "code",
   "execution_count": 2,
   "metadata": {},
   "outputs": [
    {
     "data": {
      "text/latex": [
       "$\\displaystyle \\left[\\begin{matrix}\\ddot{\\psi}_{a}\\\\\\ddot{\\psi}_{b}\\end{matrix}\\right] = - k \\frac{1}{m} \\left[\\begin{matrix}2 & -1\\\\- \\frac{3}{2} & \\frac{3}{2}\\end{matrix}\\right] \\left[\\begin{matrix}\\psi_{a}\\\\\\psi_{b}\\end{matrix}\\right]$"
      ],
      "text/plain": [
       "⎡ψₐ̈ ⎤   -k  ⎡ 2    -1 ⎤ ⎡ψₐ ⎤\n",
       "⎢   ⎥ = ───⋅⎢         ⎥⋅⎢   ⎥\n",
       "⎣ψ_̈b⎦    m  ⎣-3/2  3/2⎦ ⎣ψ_b⎦"
      ]
     },
     "execution_count": 2,
     "metadata": {},
     "output_type": "execute_result"
    }
   ],
   "source": [
    "m, k = sym.symbols('m, k') # parámetros físicos\n",
    "psia, psib = sym.physics.mechanics.dynamicsymbols('psi_a, psi_b') # se declaran símbolos a medida que se necesito\n",
    "vecPsi = sym.Matrix([[psia], [psib] ] )\n",
    "matV = sym.Matrix([\n",
    "    [2, -1],\n",
    "    ['-3/2','3/2']\n",
    "] )\n",
    "sym.Eq(sym.MatMul(vecPsi.diff().diff() ), sym.MatMul(-k/m, matV, vecPsi) )"
   ]
  },
  {
   "cell_type": "markdown",
   "metadata": {},
   "source": [
    "## Resolución del sistema de ecuaciones diferenciales\n",
    "\n",
    "Proponiendo la solución $\\psi= \\psi_0 \\mathrm{e}^{i \\omega t}$, se llega a que\n",
    "$$\n",
    "\\ddot{\\psi} =  (-i \\omega)^2 \\psi= - \\omega^2 \\psi\n",
    "$$ \n",
    "lo que permite escribir el sistema como"
   ]
  },
  {
   "cell_type": "code",
   "execution_count": 3,
   "metadata": {},
   "outputs": [
    {
     "data": {
      "text/latex": [
       "$\\displaystyle - \\omega^{2} \\left[\\begin{matrix}\\psi_{a}\\\\\\psi_{b}\\end{matrix}\\right] = - k \\frac{1}{m} \\left[\\begin{matrix}2 & -1\\\\- \\frac{3}{2} & \\frac{3}{2}\\end{matrix}\\right] \\left[\\begin{matrix}\\psi_{a}\\\\\\psi_{b}\\end{matrix}\\right]$"
      ],
      "text/plain": [
       "  2 ⎡ψₐ ⎤   -k  ⎡ 2    -1 ⎤ ⎡ψₐ ⎤\n",
       "-ω ⋅⎢   ⎥ = ───⋅⎢         ⎥⋅⎢   ⎥\n",
       "    ⎣ψ_b⎦    m  ⎣-3/2  3/2⎦ ⎣ψ_b⎦"
      ]
     },
     "execution_count": 3,
     "metadata": {},
     "output_type": "execute_result"
    }
   ],
   "source": [
    "omega= sym.Symbol('omega', positive=True)\n",
    "sym.Eq(sym.MatMul(- omega**2, vecPsi), sym.MatMul(-k/m, matV, vecPsi))"
   ]
  },
  {
   "cell_type": "markdown",
   "metadata": {},
   "source": [
    "Esto nos permite agrupar todo a un lado del signo de igualdad"
   ]
  },
  {
   "cell_type": "code",
   "execution_count": 4,
   "metadata": {},
   "outputs": [
    {
     "data": {
      "text/latex": [
       "$\\displaystyle \\left[\\begin{matrix}- \\frac{2 k}{m} + \\omega^{2} & \\frac{k}{m}\\\\\\frac{3 k}{2 m} & - \\frac{3 k}{2 m} + \\omega^{2}\\end{matrix}\\right] \\left[\\begin{matrix}\\psi_{a}\\\\\\psi_{b}\\end{matrix}\\right] = 0$"
      ],
      "text/plain": [
       "⎡  2⋅k    2      k     ⎤          \n",
       "⎢- ─── + ω       ─     ⎥          \n",
       "⎢   m            m     ⎥ ⎡ψₐ ⎤    \n",
       "⎢                      ⎥⋅⎢   ⎥ = 0\n",
       "⎢   3⋅k        3⋅k    2⎥ ⎣ψ_b⎦    \n",
       "⎢   ───      - ─── + ω ⎥          \n",
       "⎣   2⋅m        2⋅m     ⎦          "
      ]
     },
     "execution_count": 4,
     "metadata": {},
     "output_type": "execute_result"
    }
   ],
   "source": [
    "sistema = omega**2* sym.eye(2)+ sym.MatMul(-(k/m), matV)\n",
    "sym.Eq(sym.MatMul(sistema, vecPsi), 0, evaluate= False)"
   ]
  },
  {
   "cell_type": "markdown",
   "metadata": {},
   "source": [
    "Para evitar la solución trivial $\\psi_1= \\psi_2= 0$ el determinante de la matriz debe ser nulo.\n",
    "Se obtiene así un polinomio característico,"
   ]
  },
  {
   "cell_type": "code",
   "execution_count": 5,
   "metadata": {},
   "outputs": [
    {
     "data": {
      "image/png": "[encoded data removed]",
      "text/latex": [
       "$\\displaystyle \\frac{3 k^{2} - 7 k m \\omega^{2} + 2 m^{2} \\omega^{4}}{2 m^{2}} = 0$"
      ],
      "text/plain": [
       "   2          2      2  4    \n",
       "3⋅k  - 7⋅k⋅m⋅ω  + 2⋅m ⋅ω     \n",
       "───────────────────────── = 0\n",
       "              2              \n",
       "           2⋅m               "
      ]
     },
     "execution_count": 5,
     "metadata": {},
     "output_type": "execute_result"
    }
   ],
   "source": [
    "detSistema = sym.det(sistema)\n",
    "sym.Eq(detSistema, 0, evaluate= False)"
   ]
  },
  {
   "cell_type": "markdown",
   "metadata": {},
   "source": [
    "De las raices se obtienen las $\\omega$ de los modos normales"
   ]
  },
  {
   "cell_type": "code",
   "execution_count": 6,
   "metadata": {},
   "outputs": [
    {
     "data": {
      "image/png": "[encoded data removed]",
      "text/latex": [
       "$\\displaystyle \\left[ - \\frac{\\sqrt{2} \\sqrt{\\frac{k}{m}}}{2}, \\  \\frac{\\sqrt{2} \\sqrt{\\frac{k}{m}}}{2}, \\  - \\sqrt{3} \\sqrt{\\frac{k}{m}}, \\  \\sqrt{3} \\sqrt{\\frac{k}{m}}\\right]$"
      ],
      "text/plain": [
       "⎡        ___          ___                         ⎤\n",
       "⎢       ╱ k          ╱ k                          ⎥\n",
       "⎢-√2⋅  ╱  ─    √2⋅  ╱  ─           ___         ___⎥\n",
       "⎢    ╲╱   m       ╲╱   m          ╱ k         ╱ k ⎥\n",
       "⎢────────────, ──────────, -√3⋅  ╱  ─ , √3⋅  ╱  ─ ⎥\n",
       "⎣     2            2           ╲╱   m      ╲╱   m ⎦"
      ]
     },
     "execution_count": 6,
     "metadata": {},
     "output_type": "execute_result"
    }
   ],
   "source": [
    "frecModos = sym.solve(detSistema,omega)\n",
    "frecModos"
   ]
  },
  {
   "cell_type": "markdown",
   "metadata": {},
   "source": [
    "Las $\\omega$ negativas no tienen sentido físico, por lo que nos quedamos con las dos correspondientes a este sistema de sendos grados de libertad:"
   ]
  },
  {
   "cell_type": "code",
   "execution_count": 7,
   "metadata": {},
   "outputs": [
    {
     "data": {
      "image/png": "[encoded data removed]",
      "text/latex": [
       "$\\displaystyle \\left( \\omega_{1} = \\frac{\\sqrt{2} \\sqrt{\\frac{k}{m}}}{2}, \\  \\omega_{2} = \\sqrt{3} \\sqrt{\\frac{k}{m}}\\right)$"
      ],
      "text/plain": [
       "⎛            ___                 ⎞\n",
       "⎜           ╱ k                  ⎟\n",
       "⎜     √2⋅  ╱  ─               ___⎟\n",
       "⎜        ╲╱   m              ╱ k ⎟\n",
       "⎜ω₁ = ──────────, ω₂ = √3⋅  ╱  ─ ⎟\n",
       "⎝         2               ╲╱   m ⎠"
      ]
     },
     "execution_count": 7,
     "metadata": {},
     "output_type": "execute_result"
    }
   ],
   "source": [
    "omega_1, omega_2 = sym.symbols('omega_1, omega_2', positive=True)\n",
    "omega1 = sym.Eq(omega_1, sym.simplify(frecModos[1]) )\n",
    "omega2 = sym.Eq(omega_2, sym.simplify(frecModos[3]) )\n",
    "omega1, omega2"
   ]
  },
  {
   "cell_type": "markdown",
   "metadata": {},
   "source": [
    "Se hace usualmente un ordenamiento de menor a mayor de las frecuencias, pues como se verá luego, mayors frecuencia está asociada a un movimiento _más violento_."
   ]
  },
  {
   "cell_type": "markdown",
   "metadata": {},
   "source": [
    "## Modos normales\n",
    "Con cada una de las $\\omega$ obtenidas da una solución válida al sistema de ecuaciones diferenciales del estilo que obtuvimos para el oscilador de un solo grado de libertad.\n",
    "Pero con dos grados de libertad habrá que definir la relación de amplitudes entre cada uno de estos, lo que escribiremos como un vector $\\vec{\\xi}_i$.\n",
    "\n",
    "### Modo para $\\omega_1$\n",
    "Para $\\omega_1$ corresponderá una relación de amplitudes para cada masa"
   ]
  },
  {
   "cell_type": "code",
   "execution_count": 8,
   "metadata": {},
   "outputs": [
    {
     "data": {
      "text/latex": [
       "$\\displaystyle \\vec{\\xi}_1 = \\left[\\begin{matrix}\\xi_{1 a}\\\\\\xi_{1 b}\\end{matrix}\\right]$"
      ],
      "text/plain": [
       "             ⎡ξ₁ ₐ ⎤\n",
       "\\vec{\\xi}₁ = ⎢     ⎥\n",
       "             ⎣ξ_1_b⎦"
      ]
     },
     "execution_count": 8,
     "metadata": {},
     "output_type": "execute_result"
    }
   ],
   "source": [
    "xi1, xi1a, xi1b = sym.physics.mechanics.dynamicsymbols(r'\\vec{\\xi}_1, xi_1_a, xi_1_b')\n",
    "vecXi1 = sym.Eq(xi1, sym.Matrix([[xi1a], [xi1b] ] ), evaluate= False )\n",
    "vecXi1"
   ]
  },
  {
   "cell_type": "markdown",
   "metadata": {},
   "source": [
    "y una fase $\\phi_1$ en su solucíon general:"
   ]
  },
  {
   "cell_type": "code",
   "execution_count": 10,
   "metadata": {},
   "outputs": [
    {
     "data": {
      "text/latex": [
       "$\\displaystyle \\left[\\begin{matrix}\\psi_{a}\\\\\\psi_{b}\\end{matrix}\\right] = \\vec{\\xi}_1 \\cos{\\left(\\omega_{1} t + \\phi_{1} \\right)}$"
      ],
      "text/plain": [
       "⎡ψₐ ⎤                            \n",
       "⎢   ⎥ = \\vec{\\xi}₁⋅cos(ω₁⋅t + φ₁)\n",
       "⎣ψ_b⎦                            "
      ]
     },
     "execution_count": 10,
     "metadata": {},
     "output_type": "execute_result"
    }
   ],
   "source": [
    "phi_1 = sym.Symbol('phi_1')\n",
    "t = sym.Symbol('t')\n",
    "soluciónOmega1 = vecXi1.lhs* sym.cos(omega1.lhs* t+ phi_1)\n",
    "sym.Eq(sym.MatMul(vecPsi), soluciónOmega1, evaluate=False)"
   ]
  },
  {
   "cell_type": "markdown",
   "metadata": {},
   "source": [
    "¿Como obtener este vector $\\vec{\\xi}_1$?\n",
    "Si reemplazamos esta solución en"
   ]
  },
  {
   "cell_type": "code",
   "execution_count": 11,
   "metadata": {},
   "outputs": [
    {
     "data": {
      "text/latex": [
       "$\\displaystyle \\left[\\begin{matrix}- \\frac{2 k}{m} + \\omega^{2} & \\frac{k}{m}\\\\\\frac{3 k}{2 m} & - \\frac{3 k}{2 m} + \\omega^{2}\\end{matrix}\\right] \\left[\\begin{matrix}\\psi_{a}\\\\\\psi_{b}\\end{matrix}\\right] = 0$"
      ],
      "text/plain": [
       "⎡  2⋅k    2      k     ⎤          \n",
       "⎢- ─── + ω       ─     ⎥          \n",
       "⎢   m            m     ⎥ ⎡ψₐ ⎤    \n",
       "⎢                      ⎥⋅⎢   ⎥ = 0\n",
       "⎢   3⋅k        3⋅k    2⎥ ⎣ψ_b⎦    \n",
       "⎢   ───      - ─── + ω ⎥          \n",
       "⎣   2⋅m        2⋅m     ⎦          "
      ]
     },
     "execution_count": 11,
     "metadata": {},
     "output_type": "execute_result"
    }
   ],
   "source": [
    "sym.Eq(sym.MatMul(sistema, vecPsi), 0, evaluate=False)"
   ]
  },
  {
   "cell_type": "code",
   "execution_count": 12,
   "metadata": {},
   "outputs": [
    {
     "data": {
      "text/latex": [
       "$\\displaystyle \\left[\\begin{matrix}- \\frac{2 k}{m} + \\omega_{1}^{2} & \\frac{k}{m}\\\\\\frac{3 k}{2 m} & - \\frac{3 k}{2 m} + \\omega_{1}^{2}\\end{matrix}\\right] \\left(\\vec{\\xi}_1 \\cos{\\left(\\omega_{1} t + \\phi_{1} \\right)}\\right) = 0$"
      ],
      "text/plain": [
       "⎡  2⋅k     2       k     ⎤                              \n",
       "⎢- ─── + ω₁        ─     ⎥                              \n",
       "⎢   m              m     ⎥                              \n",
       "⎢                        ⎥⋅\\vec{\\xi}₁⋅cos(ω₁⋅t + φ₁) = 0\n",
       "⎢    3⋅k        3⋅k     2⎥                              \n",
       "⎢    ───      - ─── + ω₁ ⎥                              \n",
       "⎣    2⋅m        2⋅m      ⎦                              "
      ]
     },
     "execution_count": 12,
     "metadata": {},
     "output_type": "execute_result"
    }
   ],
   "source": [
    "sym.Eq(sym.MatMul(sistema.subs(omega, omega1.lhs), soluciónOmega1 ), 0, evaluate=False)"
   ]
  },
  {
   "cell_type": "markdown",
   "metadata": {},
   "source": [
    "Ya que el coseno no debe ser nulo en todo $t$ nos encontramos que reemplazando por el valor de $\\omega_1$"
   ]
  },
  {
   "cell_type": "code",
   "execution_count": 13,
   "metadata": {},
   "outputs": [
    {
     "data": {
      "text/latex": [
       "$\\displaystyle \\left[\\begin{matrix}- \\frac{3 k}{2 m} & \\frac{k}{m}\\\\\\frac{3 k}{2 m} & - \\frac{k}{m}\\end{matrix}\\right] \\left[\\begin{matrix}\\xi_{1 a}\\\\\\xi_{1 b}\\end{matrix}\\right] = 0$"
      ],
      "text/plain": [
       "⎡-3⋅k    k ⎤            \n",
       "⎢─────   ─ ⎥            \n",
       "⎢ 2⋅m    m ⎥ ⎡ξ₁ ₐ ⎤    \n",
       "⎢          ⎥⋅⎢     ⎥ = 0\n",
       "⎢ 3⋅k   -k ⎥ ⎣ξ_1_b⎦    \n",
       "⎢ ───   ───⎥            \n",
       "⎣ 2⋅m    m ⎦            "
      ]
     },
     "execution_count": 13,
     "metadata": {},
     "output_type": "execute_result"
    }
   ],
   "source": [
    "sysXi1= sym.Eq(sym.MatMul(sistema.subs(omega, omega1.rhs), vecXi1.rhs ), 0, evaluate=False)\n",
    "sysXi1"
   ]
  },
  {
   "cell_type": "markdown",
   "metadata": {},
   "source": [
    "Despejando de la primera o segunda ecuación nos queda idéntica relación, $\\xi_{1b}= \\frac{3}{2} \\xi_{1a}$, por tanto"
   ]
  },
  {
   "cell_type": "code",
   "execution_count": 14,
   "metadata": {},
   "outputs": [
    {
     "data": {
      "text/latex": [
       "$\\displaystyle \\vec{\\xi}_1 = \\left[\\begin{matrix}1\\\\\\frac{3}{2}\\end{matrix}\\right]$"
      ],
      "text/plain": [
       "             ⎡ 1 ⎤\n",
       "\\vec{\\xi}₁ = ⎢   ⎥\n",
       "             ⎣3/2⎦"
      ]
     },
     "execution_count": 14,
     "metadata": {},
     "output_type": "execute_result"
    }
   ],
   "source": [
    "vecXi1Subs= sym.Eq(vecXi1.lhs, vecXi1.rhs.subs([(xi1a, 1), (xi1b, '3/2' ) ] ), evaluate= False )\n",
    "vecXi1Subs"
   ]
  },
  {
   "cell_type": "markdown",
   "metadata": {},
   "source": [
    "Si el sistema oscilará con $\\omega= \\omega_1$ ambas masas subirían o bajarían, solo que la de más abajo se distanciaría de su posición de equilibrio 3/2 veces más que la de arriba."
   ]
  },
  {
   "cell_type": "markdown",
   "metadata": {},
   "source": [
    "### Modo para $\\omega_2$\n",
    "Seguimos el mismo procedimento para $\\omega_2$"
   ]
  },
  {
   "cell_type": "code",
   "execution_count": 15,
   "metadata": {},
   "outputs": [
    {
     "data": {
      "text/latex": [
       "$\\displaystyle \\vec{\\xi}_2 = \\left[\\begin{matrix}\\xi_{2 a}\\\\\\xi_{2 b}\\end{matrix}\\right]$"
      ],
      "text/plain": [
       "             ⎡ξ₂ ₐ ⎤\n",
       "\\vec{\\xi}₂ = ⎢     ⎥\n",
       "             ⎣ξ_2_b⎦"
      ]
     },
     "execution_count": 15,
     "metadata": {},
     "output_type": "execute_result"
    }
   ],
   "source": [
    "xi2, xi2a, xi2b = sym.physics.mechanics.dynamicsymbols(r'\\vec{\\xi}_2, xi_2_a, xi_2_b')\n",
    "vecXi2 = sym.Eq(xi2, sym.Matrix([[xi2a], [xi2b] ] ), evaluate= False )\n",
    "vecXi2"
   ]
  },
  {
   "cell_type": "code",
   "execution_count": 16,
   "metadata": {},
   "outputs": [
    {
     "data": {
      "text/latex": [
       "$\\displaystyle \\left[\\begin{matrix}\\psi_{a}\\\\\\psi_{b}\\end{matrix}\\right] = \\vec{\\xi}_2 \\cos{\\left(\\omega_{2} t + \\phi_{2} \\right)}$"
      ],
      "text/plain": [
       "⎡ψₐ ⎤                            \n",
       "⎢   ⎥ = \\vec{\\xi}₂⋅cos(ω₂⋅t + φ₂)\n",
       "⎣ψ_b⎦                            "
      ]
     },
     "execution_count": 16,
     "metadata": {},
     "output_type": "execute_result"
    }
   ],
   "source": [
    "phi_2 = sym.Symbol('phi_2')\n",
    "soluciónOmega2 = vecXi2.lhs* sym.cos(omega2.lhs* t+ phi_2)\n",
    "sym.Eq(sym.MatMul(vecPsi), soluciónOmega2, evaluate=False)"
   ]
  },
  {
   "cell_type": "code",
   "execution_count": 17,
   "metadata": {},
   "outputs": [
    {
     "data": {
      "text/latex": [
       "$\\displaystyle \\left[\\begin{matrix}\\frac{k}{m} & \\frac{k}{m}\\\\\\frac{3 k}{2 m} & \\frac{3 k}{2 m}\\end{matrix}\\right] \\left[\\begin{matrix}\\xi_{2 a}\\\\\\xi_{2 b}\\end{matrix}\\right] = 0$"
      ],
      "text/plain": [
       "⎡ k    k ⎤            \n",
       "⎢ ─    ─ ⎥            \n",
       "⎢ m    m ⎥ ⎡ξ₂ ₐ ⎤    \n",
       "⎢        ⎥⋅⎢     ⎥ = 0\n",
       "⎢3⋅k  3⋅k⎥ ⎣ξ_2_b⎦    \n",
       "⎢───  ───⎥            \n",
       "⎣2⋅m  2⋅m⎦            "
      ]
     },
     "execution_count": 17,
     "metadata": {},
     "output_type": "execute_result"
    }
   ],
   "source": [
    "sysXi2= sym.Eq(sym.MatMul(sistema.subs(omega, omega2.rhs), vecXi2.rhs ), 0, evaluate=False)\n",
    "sysXi2"
   ]
  },
  {
   "cell_type": "markdown",
   "metadata": {},
   "source": [
    "Despejando de la primera o segunda ecuación nos queda idéntica relación, $\\xi_{2b}= - \\xi_{2a}$, con lo que obtuvimos"
   ]
  },
  {
   "cell_type": "code",
   "execution_count": 18,
   "metadata": {},
   "outputs": [
    {
     "data": {
      "text/latex": [
       "$\\displaystyle \\vec{\\xi}_2 = \\left[\\begin{matrix}1\\\\-1\\end{matrix}\\right]$"
      ],
      "text/plain": [
       "             ⎡1 ⎤\n",
       "\\vec{\\xi}₂ = ⎢  ⎥\n",
       "             ⎣-1⎦"
      ]
     },
     "execution_count": 18,
     "metadata": {},
     "output_type": "execute_result"
    }
   ],
   "source": [
    "vecXi2Subs= sym.Eq(vecXi2.lhs, vecXi2.rhs.subs([(xi2a, 1),(xi2b, -1) ]), evaluate= False )\n",
    "vecXi2Subs"
   ]
  },
  {
   "cell_type": "markdown",
   "metadata": {},
   "source": [
    "Si el sistema oscilara con $\\omega= \\omega_2$ cuando una masa sube la otra baja y visceversa con ídentica separacion de su posición de equilibrio."
   ]
  },
  {
   "cell_type": "markdown",
   "metadata": {},
   "source": [
    "### Solución general\n",
    "Sabemos que la solución al sistema es la combinación lineal de ambas soluciones es"
   ]
  },
  {
   "cell_type": "code",
   "execution_count": 67,
   "metadata": {},
   "outputs": [
    {
     "data": {
      "text/latex": [
       "$\\displaystyle \\left[\\begin{matrix}\\psi_{a}\\\\\\psi_{b}\\end{matrix}\\right] = A_{1} \\vec{\\xi}_1 \\cos{\\left(\\omega_{1} t + \\phi_{1} \\right)} + A_{2} \\vec{\\xi}_2 \\cos{\\left(\\omega_{2} t + \\phi_{2} \\right)}$"
      ],
      "text/plain": [
       "⎡ψₐ ⎤                                                              \n",
       "⎢   ⎥ = A₁⋅\\vec{\\xi}₁⋅cos(ω₁⋅t + φ₁) + A₂⋅\\vec{\\xi}₂⋅cos(ω₂⋅t + φ₂)\n",
       "⎣ψ_b⎦                                                              "
      ]
     },
     "execution_count": 67,
     "metadata": {},
     "output_type": "execute_result"
    }
   ],
   "source": [
    "A_1, A_2 = sym.symbols('A_1, A_2') # símbolos varios\n",
    "soluciónGeneral= sym.Eq(vecPsi, A_1* soluciónOmega1 + A_2* soluciónOmega2, evaluate= False)\n",
    "soluciónGeneral"
   ]
  },
  {
   "cell_type": "markdown",
   "metadata": {},
   "source": [
    "con $A_i$ y $\\phi_i$ las amplitudes y fases de cada modo que deben responder a las condiciones iniciales."
   ]
  },
  {
   "cell_type": "code",
   "execution_count": 68,
   "metadata": {},
   "outputs": [
    {
     "data": {
      "text/latex": [
       "$\\displaystyle \\left[\\begin{matrix}\\psi_{a}\\\\\\psi_{b}\\end{matrix}\\right] = \\left[\\begin{matrix}A_{1} \\cos{\\left(\\phi_{1} + \\frac{\\sqrt{2} t \\sqrt{\\frac{k}{m}}}{2} \\right)} + A_{2} \\cos{\\left(\\phi_{2} + \\sqrt{3} t \\sqrt{\\frac{k}{m}} \\right)}\\\\\\frac{3 A_{1} \\cos{\\left(\\phi_{1} + \\frac{\\sqrt{2} t \\sqrt{\\frac{k}{m}}}{2} \\right)}}{2} - A_{2} \\cos{\\left(\\phi_{2} + \\sqrt{3} t \\sqrt{\\frac{k}{m}} \\right)}\\end{matrix}\\right]$"
      ],
      "text/plain": [
       "        ⎡       ⎛              ___⎞                             ⎤\n",
       "        ⎢       ⎜             ╱ k ⎟                             ⎥\n",
       "        ⎢       ⎜     √2⋅t⋅  ╱  ─ ⎟         ⎛              ___⎞ ⎥\n",
       "        ⎢       ⎜          ╲╱   m ⎟         ⎜             ╱ k ⎟ ⎥\n",
       "        ⎢ A₁⋅cos⎜φ₁ + ────────────⎟ + A₂⋅cos⎜φ₂ + √3⋅t⋅  ╱  ─ ⎟ ⎥\n",
       "        ⎢       ⎝          2      ⎠         ⎝          ╲╱   m ⎠ ⎥\n",
       "⎡ψₐ ⎤   ⎢                                                       ⎥\n",
       "⎢   ⎥ = ⎢        ⎛              ___⎞                            ⎥\n",
       "⎣ψ_b⎦   ⎢        ⎜             ╱ k ⎟                            ⎥\n",
       "        ⎢        ⎜     √2⋅t⋅  ╱  ─ ⎟                            ⎥\n",
       "        ⎢        ⎜          ╲╱   m ⎟                            ⎥\n",
       "        ⎢3⋅A₁⋅cos⎜φ₁ + ────────────⎟         ⎛              ___⎞⎥\n",
       "        ⎢        ⎝          2      ⎠         ⎜             ╱ k ⎟⎥\n",
       "        ⎢─────────────────────────── - A₂⋅cos⎜φ₂ + √3⋅t⋅  ╱  ─ ⎟⎥\n",
       "        ⎣             2                      ⎝          ╲╱   m ⎠⎦"
      ]
     },
     "execution_count": 68,
     "metadata": {},
     "output_type": "execute_result"
    }
   ],
   "source": [
    "sustitucionesDinámica = {\n",
    "    omega1.lhs: omega1.rhs,\n",
    "    omega2.lhs: omega2.rhs,\n",
    "    vecXi1.lhs: vecXi1Subs.rhs,\n",
    "    vecXi2.lhs: vecXi2Subs.rhs\n",
    "}\n",
    "dinámica= sym.Eq(vecPsi, soluciónGeneral.rhs.subs(sustitucionesDinámica), evaluate= False)\n",
    "dinámica"
   ]
  },
  {
   "cell_type": "markdown",
   "metadata": {},
   "source": [
    "## b) Condiciones iniciales\n",
    "Segun el enunciado en $t=0$"
   ]
  },
  {
   "cell_type": "code",
   "execution_count": 69,
   "metadata": {},
   "outputs": [
    {
     "data": {
      "text/latex": [
       "$\\displaystyle \\left[\\begin{matrix}\\psi_{a}{\\left(0 \\right)}\\\\\\psi_{b}{\\left(0 \\right)}\\end{matrix}\\right] = \\left[\\begin{matrix}A_{1} \\cos{\\left(\\phi_{1} \\right)} + A_{2} \\cos{\\left(\\phi_{2} \\right)}\\\\\\frac{3 A_{1} \\cos{\\left(\\phi_{1} \\right)}}{2} - A_{2} \\cos{\\left(\\phi_{2} \\right)}\\end{matrix}\\right]$"
      ],
      "text/plain": [
       "           ⎡ A₁⋅cos(φ₁) + A₂⋅cos(φ₂) ⎤\n",
       "⎡ψₐ(0) ⎤   ⎢                         ⎥\n",
       "⎢      ⎥ = ⎢3⋅A₁⋅cos(φ₁)             ⎥\n",
       "⎣ψ_b(0)⎦   ⎢──────────── - A₂⋅cos(φ₂)⎥\n",
       "           ⎣     2                   ⎦"
      ]
     },
     "execution_count": 69,
     "metadata": {},
     "output_type": "execute_result"
    }
   ],
   "source": [
    "dinámica.subs(t,0)"
   ]
  },
  {
   "cell_type": "markdown",
   "metadata": {},
   "source": [
    "se sabe que las posiciones son"
   ]
  },
  {
   "cell_type": "code",
   "execution_count": 70,
   "metadata": {},
   "outputs": [
    {
     "data": {
      "image/png": "[encoded data removed]",
      "text/latex": [
       "$\\displaystyle \\left( \\psi_{a}{\\left(0 \\right)} = 0, \\  \\psi_{b}{\\left(0 \\right)} = 0\\right)$"
      ],
      "text/plain": [
       "(ψₐ(0) = 0, ψ_b(0) = 0)"
      ]
     },
     "execution_count": 70,
     "metadata": {},
     "output_type": "execute_result"
    }
   ],
   "source": [
    "sym.Eq(dinámica.lhs[0].subs(t,0), 0), sym.Eq(dinámica.lhs[1].subs(t,0), 0)"
   ]
  },
  {
   "cell_type": "markdown",
   "metadata": {},
   "source": [
    "Pero aún tras esta substitución el número de incógnitas dobla el de ecuaciones."
   ]
  },
  {
   "cell_type": "code",
   "execution_count": 71,
   "metadata": {},
   "outputs": [
    {
     "data": {
      "text/latex": [
       "$\\displaystyle \\left[\\begin{matrix}1\\\\0\\end{matrix}\\right] = \\left[\\begin{matrix}A_{1} \\cos{\\left(\\phi_{1} \\right)} + A_{2} \\cos{\\left(\\phi_{2} \\right)}\\\\\\frac{3 A_{1} \\cos{\\left(\\phi_{1} \\right)}}{2} - A_{2} \\cos{\\left(\\phi_{2} \\right)}\\end{matrix}\\right]$"
      ],
      "text/plain": [
       "      ⎡ A₁⋅cos(φ₁) + A₂⋅cos(φ₂) ⎤\n",
       "⎡1⎤   ⎢                         ⎥\n",
       "⎢ ⎥ = ⎢3⋅A₁⋅cos(φ₁)             ⎥\n",
       "⎣0⎦   ⎢──────────── - A₂⋅cos(φ₂)⎥\n",
       "      ⎣     2                   ⎦"
      ]
     },
     "execution_count": 71,
     "metadata": {},
     "output_type": "execute_result"
    }
   ],
   "source": [
    "dinámicaCondiciónPosición = dinámica.subs(t,0).subs([(dinámicaSubs.lhs[0], 1), (dinámicaSubs.lhs[1], 0)])\n",
    "dinámicaCondiciónPosición"
   ]
  },
  {
   "cell_type": "markdown",
   "metadata": {},
   "source": [
    "El enunciado da otra información al afirmar que el sistema \"se encuentra originalmente en reposo\".\n",
    "Esto significa que las velocidades inciales son nulas"
   ]
  },
  {
   "cell_type": "code",
   "execution_count": 72,
   "metadata": {},
   "outputs": [
    {
     "data": {
      "text/latex": [
       "$\\displaystyle \\left( \\left. \\dot{\\psi}_{a} \\right|_{\\substack{ t=0 }} = 0, \\  \\left. \\dot{\\psi}_{b} \\right|_{\\substack{ t=0 }} = 0\\right)$"
      ],
      "text/plain": [
       "⎛(ψₐ̇)│    = 0, (ψ_̇b)│    = 0⎞\n",
       "⎝    │t=0           │t=0    ⎠"
      ]
     },
     "execution_count": 72,
     "metadata": {},
     "output_type": "execute_result"
    }
   ],
   "source": [
    "sym.Eq(dinámica.lhs[0].diff(t).subs(t,0), 0), sym.Eq(dinámica.lhs[1].diff(t).subs(t,0), 0)"
   ]
  },
  {
   "cell_type": "code",
   "execution_count": 73,
   "metadata": {},
   "outputs": [
    {
     "data": {
      "text/latex": [
       "$\\displaystyle \\left[\\begin{matrix}0\\\\0\\end{matrix}\\right] = \\left[\\begin{matrix}- \\frac{\\sqrt{2} A_{1} \\sqrt{\\frac{k}{m}} \\sin{\\left(\\phi_{1} \\right)}}{2} - \\sqrt{3} A_{2} \\sqrt{\\frac{k}{m}} \\sin{\\left(\\phi_{2} \\right)}\\\\- \\frac{3 \\sqrt{2} A_{1} \\sqrt{\\frac{k}{m}} \\sin{\\left(\\phi_{1} \\right)}}{4} + \\sqrt{3} A_{2} \\sqrt{\\frac{k}{m}} \\sin{\\left(\\phi_{2} \\right)}\\end{matrix}\\right]$"
      ],
      "text/plain": [
       "      ⎡             ___                                 ⎤\n",
       "      ⎢            ╱ k                                  ⎥\n",
       "      ⎢   √2⋅A₁⋅  ╱  ─ ⋅sin(φ₁)             ___         ⎥\n",
       "      ⎢         ╲╱   m                     ╱ k          ⎥\n",
       "      ⎢ - ───────────────────── - √3⋅A₂⋅  ╱  ─ ⋅sin(φ₂) ⎥\n",
       "⎡0⎤   ⎢             2                   ╲╱   m          ⎥\n",
       "⎢ ⎥ = ⎢                                                 ⎥\n",
       "⎣0⎦   ⎢              ___                                ⎥\n",
       "      ⎢             ╱ k                                 ⎥\n",
       "      ⎢  3⋅√2⋅A₁⋅  ╱  ─ ⋅sin(φ₁)             ___        ⎥\n",
       "      ⎢          ╲╱   m                     ╱ k         ⎥\n",
       "      ⎢- ─────────────────────── + √3⋅A₂⋅  ╱  ─ ⋅sin(φ₂)⎥\n",
       "      ⎣             4                    ╲╱   m         ⎦"
      ]
     },
     "execution_count": 73,
     "metadata": {},
     "output_type": "execute_result"
    }
   ],
   "source": [
    "sym.Eq( sym.Matrix([[0], [0] ] ), dinámica.rhs.diff(t).subs(t, 0) )"
   ]
  },
  {
   "cell_type": "markdown",
   "metadata": {},
   "source": [
    "Pero hay un camino más sencillo que resolver un sistema que contemple estas dos ecuaciones de la condición para la velocidad y las otras tantas para la condición de la posición.\n",
    "\n",
    "De establecerse $\\phi_1= \\phi_2= 0$ esto asegura que las velocidades son nulas pues estas fases son argumento de los senos en todos los términos.\n",
    "Volviendo entonces a las condiciones sobre la posición con este dato."
   ]
  },
  {
   "cell_type": "code",
   "execution_count": 74,
   "metadata": {},
   "outputs": [
    {
     "data": {
      "text/latex": [
       "$\\displaystyle \\left[\\begin{matrix}1\\\\0\\end{matrix}\\right] = \\left[\\begin{matrix}A_{1} + A_{2}\\\\\\frac{3 A_{1}}{2} - A_{2}\\end{matrix}\\right]$"
      ],
      "text/plain": [
       "      ⎡ A₁ + A₂ ⎤\n",
       "⎡1⎤   ⎢         ⎥\n",
       "⎢ ⎥ = ⎢3⋅A₁     ⎥\n",
       "⎣0⎦   ⎢──── - A₂⎥\n",
       "      ⎣ 2       ⎦"
      ]
     },
     "execution_count": 74,
     "metadata": {},
     "output_type": "execute_result"
    }
   ],
   "source": [
    "amplitudesSistema= dinámicaCondiciónPosición.subs([(phi_1, 0), (phi_2, 0) ] )\n",
    "amplitudesSistema"
   ]
  },
  {
   "cell_type": "markdown",
   "metadata": {},
   "source": [
    "No es difícil obtener que $A_1= \\frac{2}{5}$ y $A_2=\\frac{3}{5}$.\n",
    "Con lo que finalmente obtenemos una solución para estas condiciones iniciales:"
   ]
  },
  {
   "cell_type": "code",
   "execution_count": 77,
   "metadata": {},
   "outputs": [
    {
     "data": {
      "text/latex": [
       "$\\displaystyle \\left[\\begin{matrix}\\psi_{a}\\\\\\psi_{b}\\end{matrix}\\right] = \\left[\\begin{matrix}\\frac{3 \\cos{\\left(\\frac{\\sqrt{2} t \\sqrt{\\frac{k}{m}}}{2} \\right)}}{5} + \\frac{2 \\cos{\\left(\\sqrt{3} t \\sqrt{\\frac{k}{m}} \\right)}}{5}\\\\\\frac{9 \\cos{\\left(\\frac{\\sqrt{2} t \\sqrt{\\frac{k}{m}}}{2} \\right)}}{10} - \\frac{2 \\cos{\\left(\\sqrt{3} t \\sqrt{\\frac{k}{m}} \\right)}}{5}\\end{matrix}\\right]$"
      ],
      "text/plain": [
       "        ⎡     ⎛         ___⎞                      ⎤\n",
       "        ⎢     ⎜        ╱ k ⎟                      ⎥\n",
       "        ⎢     ⎜√2⋅t⋅  ╱  ─ ⎟        ⎛         ___⎞⎥\n",
       "        ⎢     ⎜     ╲╱   m ⎟        ⎜        ╱ k ⎟⎥\n",
       "        ⎢3⋅cos⎜────────────⎟   2⋅cos⎜√3⋅t⋅  ╱  ─ ⎟⎥\n",
       "        ⎢     ⎝     2      ⎠        ⎝     ╲╱   m ⎠⎥\n",
       "        ⎢─────────────────── + ───────────────────⎥\n",
       "⎡ψₐ ⎤   ⎢         5                     5         ⎥\n",
       "⎢   ⎥ = ⎢                                         ⎥\n",
       "⎣ψ_b⎦   ⎢     ⎛         ___⎞                      ⎥\n",
       "        ⎢     ⎜        ╱ k ⎟                      ⎥\n",
       "        ⎢     ⎜√2⋅t⋅  ╱  ─ ⎟        ⎛         ___⎞⎥\n",
       "        ⎢     ⎜     ╲╱   m ⎟        ⎜        ╱ k ⎟⎥\n",
       "        ⎢9⋅cos⎜────────────⎟   2⋅cos⎜√3⋅t⋅  ╱  ─ ⎟⎥\n",
       "        ⎢     ⎝     2      ⎠        ⎝     ╲╱   m ⎠⎥\n",
       "        ⎢─────────────────── - ───────────────────⎥\n",
       "        ⎣         10                    5         ⎦"
      ]
     },
     "execution_count": 77,
     "metadata": {},
     "output_type": "execute_result"
    }
   ],
   "source": [
    "coeficientesCondicionesIniciales = {\n",
    "    A_1: '3/5',\n",
    "    A_2: '2/5',  \n",
    "    phi_1: 0,\n",
    "    phi_2: 0,\n",
    "}\n",
    "dinámicaCondicionesIniciales = dinámica.subs(coeficientesCondicionesIniciales)\n",
    "dinámicaCondicionesIniciales"
   ]
  },
  {
   "cell_type": "markdown",
   "metadata": {},
   "source": [
    "## Animación\n",
    "Adaptación del notebook de María Luz Martínez Ricci, teórica de Depine, 2.o cuat. 2020  \n",
    "https://colab.research.google.com/drive/1kV613w-bnJn6584nc5YWX34Hp84YNfq3?usp=sharing#scrollTo=IlewqJ3dETVT"
   ]
  },
  {
   "cell_type": "code",
   "execution_count": null,
   "metadata": {},
   "outputs": [],
   "source": [
    "import matplotlib.pylab as plt\n",
    "from matplotlib import animation, rc\n",
    "from IPython.display import HTML\n",
    "rc('animation', html='html5');"
   ]
  },
  {
   "cell_type": "code",
   "execution_count": null,
   "metadata": {},
   "outputs": [],
   "source": [
    "l0 = 3\n",
    "fig, ax = plt.subplots();\n",
    "ax.set_xlabel('$x(t)$');\n",
    "ax.set_xlim((0,9));\n",
    "ax.set_ylim((-2,2));\n",
    "ax.grid(True);\n",
    "ax.plot([l0,l0], (-1.5,1.5), '--',color  = 'green');\n",
    "ax.plot([2*l0,2*l0], (-1.5,1.5), '--',color  = 'green');\n",
    "ax.text(3.02,1,'$l_0$',color = 'green');\n",
    "ax.text(6.02,1,'$2l_0$',color = 'green');"
   ]
  },
  {
   "cell_type": "code",
   "execution_count": null,
   "metadata": {},
   "outputs": [],
   "source": [
    "linea, = ax.plot([],[],'o',ms = 10,color = 'r', label = 'Movimiento particula a',zorder = 3)\n",
    "lineResa, = ax.plot([],[],ls = '--',color = 'r', lw = 2, zorder = 2)\n",
    "lineb, = ax.plot([],[],'o',ms = 10,color = 'b', label = 'Movimiento particula b',zorder = 3)\n",
    "lineResb, = ax.plot([],[],ls = '--',color = 'b', lw = 2, zorder = 1)"
   ]
  },
  {
   "cell_type": "code",
   "execution_count": null,
   "metadata": {},
   "outputs": [],
   "source": [
    "# lambdify: pasar a una función que trabaje con numpy, que acepte `t` como variable\n",
    "psiA_numérica = sym.lambdify()\n",
    "sym.dinámicaCondicionesIniciales.rhs[0]"
   ]
  },
  {
   "cell_type": "code",
   "execution_count": null,
   "metadata": {},
   "outputs": [],
   "source": [
    "#MODO 1\n",
    "def MODO1(i):\n",
    "  CTE1 = 1.25\n",
    "  A11 = CTE1*A1\n",
    "  B11 = CTE1*B1\n",
    "  phi = 0 # y fase arbitraria\n",
    " \n",
    "  #omega1=np.sqrt(k/(2*m))\n",
    "\n",
    "  t= np.linspace(0,15,100) # aca le estamos diciendo que genere equispaciadamente 50 tiempos entre 0 y 5seg\n",
    "  x_a=A11*np.cos(omega1*t[i] + phi) + l0\n",
    "  x_b=B11*np.cos(omega1*t[i] + phi) + 2*l0\n",
    "  linea.set_data(x_a, 0)\n",
    "  lineResa.set_data([0,x_a],[0,0])\n",
    "  lineb.set_data(x_b, 0)\n",
    "  lineResb.set_data([0,x_b],[0,0])\n",
    "  return (linea,)"
   ]
  },
  {
   "cell_type": "markdown",
   "metadata": {},
   "source": [
    "## c) ¿Qué modifica la presencia de gravedad?\n",
    "Sin tratar de ser perspicaces empecemos a resolver \"mecánicamente\".\n",
    "Al potencial anteriormente calculado agregamos el potencial gravitatorio\n",
    "$$\n",
    "V(y_a, y_b)= \\frac{k}{2} \\left[ \\left(y_a - l_0 \\right)^2 + \\left(y_b - y_a - l_0 \\right)^2 \\right]- g( m_a y_a + m_b y_b) .\n",
    "$$ "
   ]
  },
  {
   "cell_type": "markdown",
   "metadata": {},
   "source": [
    "Habrá nuevas posiciones de equilibrio.\n",
    "Basta realizar $\\frac{\\partial}{\\partial y_i} V = 0$ \n",
    "$$\n",
    "\\left\\{\n",
    "\\begin{aligned}\n",
    "k(y_a - l_0)- k (y_b - y_a - l_0)- g m_a =  2 k y_a - k y_b - g m_a &= 0 \\\\\n",
    "k(y_b - y_a - l_0) - g m_b &= 0\n",
    "\\end{aligned}\n",
    "\\right.\n",
    "$$\n",
    "de donde puede obtenerse fácilmente las posiciones de equilibrio $y_{a0}= \\frac{g}{k} (m_a + m_b) + l_0$ e $y_{a0}= \\frac{g}{k} (m_a + 2 m_b) + 2 l_0$.\n",
    "\n",
    "Bien, tenemos nuevas posiciones de equilibrio, y entonces para escribir en función de los apartamientos de estas $\\psi_a$ y $\\psi_b$ tenemos  \n",
    "$$\n",
    "\\begin{aligned}\n",
    "y_a &= y_{a0}+ \\psi_a = \\frac{g}{k} (m_a + m_b) + l_0 + \\psi_a \\\\\n",
    "y_b &= y_{b0}+ \\psi_a = \\frac{g}{k} (m_a + 2 m_b) + 2 l_0 + \\psi_b,\n",
    "\\end{aligned}\n",
    "$$"
   ]
  },
  {
   "cell_type": "markdown",
   "metadata": {},
   "source": [
    "¿Qué seguía? Para obtener las fuerzas derivar el potencial potencial... ¡pero si lo acabamos de hacer!\n",
    "Si reemplazo estos $y_a$ y $y_b$\n",
    "$$\n",
    "\\left\\{\n",
    "\\begin{aligned}\n",
    "m_a \\ddot{\\psi}_a \n",
    "& = 2 k \\left[ \\frac{g}{k} (m_a + m_b) + l_0 + \\psi_a \\right] - k \\left[ \\frac{g}{k} (m_a + 2 m_b) + 2 l_0 + \\psi_b \\right] - g m_a \\\\\n",
    "& = 2 g (m_a+ m_b) + 2k l_0 + 2 k \\psi_a - g (m_a + 2 m_b) - 2 k l_0 - k \\psi_b - g m_a \\\\\n",
    "& = -k (2\\psi_a - \\psi_b) \\\\\n",
    "m_b \\ddot{\\psi}_b \n",
    "& = k \\left[ \\left( \\frac{g}{k} (m_a + 2 m_b) + 2 l_0 + \\psi_b \\right) - \\left( \\frac{g}{k} (m_a + m_b) + l_0 + \\psi_a \\right) - l_0 \\right] - g m_b \\\\\n",
    "& = g (m_a + 2 m_b) + 2 k l_0 + k \\psi_b - g (m_a + m_b) + k l_0 + k \\psi_a - kl_0 - g m_b \\\\\n",
    "& = -k (\\psi_b - \\psi_a)\n",
    "\\end{aligned}\n",
    "\\right.\n",
    "$$\n",
    "\n",
    "Exactamente lo que teníamos para el caso sin gravedad.\n",
    "¿Qué es lo que cambia?\n",
    "No hay que olvidar de que si se quiere expresar las posiciones no desde el equilibrio sino como $y_i$ hay que sumar la posición de equilibrio, que ahora es mayor en módulo que las de los resortes libres, $l_0$ y $2l_0$ respectivamente.\n",
    "\n",
    "Siendo perspicaces tendríamos que haber recordado que nada de lo que obtuvimos, en particular las frecuencias de oscilación, tenían dependencia en las longitudes de los resortes, si de $k$ y las $m$. "
   ]
  },
  {
   "cell_type": "code",
   "execution_count": null,
   "metadata": {},
   "outputs": [],
   "source": []
  }
 ],
 "metadata": {
  "kernelspec": {
   "display_name": "Python 3",
   "language": "python",
   "name": "python3"
  },
  "language_info": {
   "codemirror_mode": {
    "name": "ipython",
    "version": 3
   },
   "file_extension": ".py",
   "mimetype": "text/x-python",
   "name": "python",
   "nbconvert_exporter": "python",
   "pygments_lexer": "ipython3",
   "version": "3.7.3"
  }
 },
 "nbformat": 4,
 "nbformat_minor": 4
}
