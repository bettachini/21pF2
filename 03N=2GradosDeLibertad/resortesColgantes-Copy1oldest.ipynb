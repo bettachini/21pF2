{
 "cells": [
  {
   "cell_type": "markdown",
   "metadata": {},
   "source": [
    "# Dos resortes colgantes"
   ]
  },
  {
   "cell_type": "markdown",
   "metadata": {},
   "source": [
    "![Departamento de Física, Facultad de Ciencias Exactas y Naturales, Universidad de Buenos Aires](figuras/logoDF.png \"DF, FCEyN, UBA\")  \n",
    "©2021 [Víctor A. Bettachini](mailto:bettachini@df.uba.ar)  \n",
    "\n",
    "----"
   ]
  },
  {
   "cell_type": "markdown",
   "metadata": {},
   "source": [
    "# Enunciado\n",
    " Considere el sistema de la figura en ausencia de gravedad  \n",
    "![Figura 1: Sistema a analizar.](figuras/modosNormales_ej1-6.png)\n",
    "    \n",
    "a) Obtenga sus frecuencias naturales de oscilación y los modos normales correspondientes.\n",
    "Escriba las ecuaciones de movimiento de cada masa.  \n",
    "b) Sabiendo que a $t=0$ el sistema satisface las siguientes condiciones: $\\Psi_{a}(0)=1,\\,\\Psi_{b}(0)=0$ y que se encuentra en reposo, encuentre el movimiento de cada partícula.   \n",
    "c) Analice cómo se modifica el resultado por la presencia de la gravedad."
   ]
  },
  {
   "cell_type": "code",
   "execution_count": 1,
   "metadata": {},
   "outputs": [],
   "source": [
    "import sympy as sy\n",
    "from sympy.physics.mechanics import dynamicsymbols, init_vprinting\n",
    "init_vprinting() # notación con punto para la velocidad y punto punto para la aceleración\n",
    "psia, psib, xi1, xi2 = sy.physics.mechanics.dynamicsymbols(\n",
    "    'psi_a psi_b xi_1 xi_2')\n",
    "xi1a, xi1b, xi2a, xi2b = sy.physics.mechanics.dynamicsymbols(\n",
    "    'xi_{1a} xi_{1b} xi_{2a} xi_{2b}')\n",
    "g, m, k, l0, t, phi1, phi2, A1, A2, l2 = sy.symbols(\n",
    "    'g m k l_0 t phi_1 phi_2 A_1 A2 l_2')\n",
    "omega, omega1, omega2 = sy.symbols('omega omega_1 omega_2', positive=True, real= True)"
   ]
  },
  {
   "cell_type": "markdown",
   "metadata": {},
   "source": [
    "# Sistema sin gravedad | 1) obtención de frecuencias y modos normales de oscilación\n",
    "\n",
    "### Potenciales en el sistema\n",
    "Empezamos preguntandonos que potenciales están en juego.\n",
    "En este caso los de los resortes.\n",
    "En la figura está indicada como coordenadas sugeridas las $\\psi_i$, notación que se usa para notar un pequeño desplazamiento.\n",
    "Pero antes de ver el porqué de esta sugerencia hagamos el análisis el potencial elástico de cada resorte que como sabemos depende de la longitud de los mismos.\n",
    "\n",
    "Tomamos el origen del sistema de coordenadas en el \"techo\" del que pende el resorte superior, de allí apuntando hacia abajo orientamos $\\hat{y}$.\n",
    "Para el resorte unido a este techo la posición de la masa superior $\\vec{y}_a$ determina su longitud\n",
    "$$\n",
    "l_1 = |y_a \\hat{y} - 0|= y_a .\n",
    "$$\n",
    "Para el que pende debajo de esta masa tiene en su otro extremo en $\\vec{y}_b$ otra masa.\n",
    "La posición de ambas establece su longitud\n",
    "$$\n",
    "l_2 = |y_b \\hat{y} - y_a \\hat{y}|= y_b- y_a . \n",
    "$$\n",
    "Si ambos tienen la misma longitud natural $l_0$, aquella que tendrían si ninguna fuerza se aplicara a ellos, el potencial del sistema es\n",
    "$$\n",
    "V(y_a, y_b)= \\frac{k}{2} \\left[ \\left(y_a - l_0 \\right)^2 + \\left(y_b - y_a - l_0 \\right)^2 \\right].\n",
    "$$ "
   ]
  },
  {
   "cell_type": "markdown",
   "metadata": {},
   "source": [
    "## Fuerzas y planteo de 2.a ley de Newton\n",
    "Para escribir la 2.a ley de Newton para cada masa obtenemos las fuerzas sobre ellas.\n",
    "Para la superior\n",
    "$$\n",
    "m \\ddot{y}_a = m \\ddot{\\vec{y}_a} \\cdot \\hat{y} = -\\vec{\\nabla}_a V \\cdot \\hat{y} = - \\frac{\\partial}{\\partial y_a} V(y_a, y_b) = - k (y_a- l_0) + k (y_b -y_a- l_0) .\n",
    "$$\n",
    "Para la masa inferior lo mismo\n",
    "$$\n",
    "\\frac{2m}{3} \\ddot{y}_b = \\frac{2m}{3} \\ddot{\\vec{y}_b} \\cdot \\hat{y} = -\\vec{\\nabla}_b V \\cdot \\hat{y} = - \\frac{\\partial}{\\partial y_b} V(y_a, y_b)= - k (y_b -y_a- l_0) .\n",
    "$$\n",
    "\n",
    "En este sistema no afectado por la aceleración $\\vec{g}$, resulta que las longitudes de equilibrio de las fuerzas corresponden a cuando la longitud de los resortes coincide con $l_0$, pues ninguna otra fuerza que la elástica existe en este modelo.\n",
    "Esto es fácilmente comprobable obteniendo el mínimo de potencial en función de las longitudes de los resortes. $l_1$ y $l_2$.\n",
    "Entonces\n",
    "$$\n",
    "y_a = l_o + \\psi_a,\n",
    "$$\n",
    "siendo $\\psi_a$ el pequeño desplazamiento en torno a la posición de equilibrio, y lo mismo para el extremo inferior del segundo resorte.\n",
    "$$\n",
    "y_b = 2 l_o + \\psi_b.\n",
    "$$\n",
    "\n",
    "Si quiero re-escribir las ecuaciones de la 2.a ley en funcion de estos pequeños desplazamientos al derivar dos veces respecto al tiempo $\\ddot{y}_a= \\ddot{\\psi}_a$ y $\\ddot{y}_b = \\ddot{\\psi}_b$ por lo que obtenemos\n",
    "$$\n",
    "\\begin{aligned}\n",
    "m \\ddot{\\psi}_a & = - k \\left[ (l_o + \\psi_a) - l_0 \\right] + k \\left[ (2 l_0 + \\psi_b) - (l_0 + \\psi_a) - l_0 \\right] = -k \\psi_a + k (\\psi_b - \\psi_a) = -k (2\\psi_a - \\psi_b) \\\\\n",
    "\\frac{2m}{3} \\ddot{\\psi}_b & = -  k \\left( (2 l_o+ \\psi_b) - (l_o + \\psi_a) - l_0 \\right)= -k (\\psi_b - \\psi_a)\n",
    "\\end{aligned}\n",
    "$$\n",
    "Nos queda un sistema de ecuaciones acopladas\n",
    "$$\n",
    "\\left \\{\n",
    "\\begin{matrix}\n",
    "\\ddot{\\psi}_a = - \\frac{k}{m} (2 \\psi_a - \\psi_b)\\\\\n",
    "\\ddot{\\psi}_b = -\\frac{3k}{2m} ( \\psi_b - \\psi_a)\n",
    "\\end{matrix}\n",
    "\\right .\n",
    ",\n",
    "$$\n",
    "que puede escribirse en forma matricial"
   ]
  },
  {
   "cell_type": "code",
   "execution_count": 2,
   "metadata": {},
   "outputs": [
    {
     "data": {
      "text/latex": [
       "$\\displaystyle \\left[\\begin{matrix}\\ddot{\\psi}_{a}\\\\\\ddot{\\psi}_{b}\\end{matrix}\\right] = - k \\frac{1}{m} \\left[\\begin{matrix}2 & -1\\\\- \\frac{3}{2} & \\frac{3}{2}\\end{matrix}\\right] \\left[\\begin{matrix}\\psi_{a}\\\\\\psi_{b}\\end{matrix}\\right]$"
      ],
      "text/plain": [
       "⎡ψₐ̈ ⎤   -k  ⎡ 2    -1 ⎤ ⎡ψₐ ⎤\n",
       "⎢   ⎥ = ───⋅⎢         ⎥⋅⎢   ⎥\n",
       "⎣ψ_̈b⎦    m  ⎣-3/2  3/2⎦ ⎣ψ_b⎦"
      ]
     },
     "execution_count": 2,
     "metadata": {},
     "output_type": "execute_result"
    }
   ],
   "source": [
    "vecPsi = sy.Matrix([[psia],[psib]])\n",
    "matV = sy.Matrix([[2, -1],['-3/2','3/2']])\n",
    "sy.Eq(sy.MatMul(vecPsi.diff().diff()), sy.MatMul(-k/m, matV, vecPsi))"
   ]
  },
  {
   "cell_type": "markdown",
   "metadata": {},
   "source": [
    "## Resolución del sistema de ecuaciones diferenciales\n",
    "\n",
    "Proponiendo la solución $\\psi= \\psi_0 \\mathrm{e}^{i \\omega t+ \\varphi}$, se llega a que $\\ddot{\\psi} =  (-i \\omega)^2 \\psi= - \\omega^2 \\psi$ lo que permite escribir el sistema como"
   ]
  },
  {
   "cell_type": "code",
   "execution_count": 3,
   "metadata": {},
   "outputs": [
    {
     "data": {
      "text/latex": [
       "$\\displaystyle - \\omega^{2} \\left[\\begin{matrix}\\psi_{a}\\\\\\psi_{b}\\end{matrix}\\right] = - k \\frac{1}{m} \\left[\\begin{matrix}2 & -1\\\\- \\frac{3}{2} & \\frac{3}{2}\\end{matrix}\\right] \\left[\\begin{matrix}\\psi_{a}\\\\\\psi_{b}\\end{matrix}\\right]$"
      ],
      "text/plain": [
       "  2 ⎡ψₐ ⎤   -k  ⎡ 2    -1 ⎤ ⎡ψₐ ⎤\n",
       "-ω ⋅⎢   ⎥ = ───⋅⎢         ⎥⋅⎢   ⎥\n",
       "    ⎣ψ_b⎦    m  ⎣-3/2  3/2⎦ ⎣ψ_b⎦"
      ]
     },
     "execution_count": 3,
     "metadata": {},
     "output_type": "execute_result"
    }
   ],
   "source": [
    "sy.Eq(sy.MatMul(- omega**2, vecPsi), sy.MatMul(-k/m, matV, vecPsi))"
   ]
  },
  {
   "cell_type": "markdown",
   "metadata": {},
   "source": [
    "Esto nos permite agrupar todo a un lado del signo de igualdad"
   ]
  },
  {
   "cell_type": "code",
   "execution_count": 4,
   "metadata": {},
   "outputs": [
    {
     "data": {
      "text/latex": [
       "$\\displaystyle \\left[\\begin{matrix}- \\frac{2 k}{m} + \\omega^{2} & \\frac{k}{m}\\\\\\frac{3 k}{2 m} & - \\frac{3 k}{2 m} + \\omega^{2}\\end{matrix}\\right] \\left[\\begin{matrix}\\psi_{a}\\\\\\psi_{b}\\end{matrix}\\right] = 0$"
      ],
      "text/plain": [
       "⎡  2⋅k    2      k     ⎤          \n",
       "⎢- ─── + ω       ─     ⎥          \n",
       "⎢   m            m     ⎥ ⎡ψₐ ⎤    \n",
       "⎢                      ⎥⋅⎢   ⎥ = 0\n",
       "⎢   3⋅k        3⋅k    2⎥ ⎣ψ_b⎦    \n",
       "⎢   ───      - ─── + ω ⎥          \n",
       "⎣   2⋅m        2⋅m     ⎦          "
      ]
     },
     "execution_count": 4,
     "metadata": {},
     "output_type": "execute_result"
    }
   ],
   "source": [
    "sistema = omega**2* sy.eye(2)+ sy.MatMul(-(k/m), matV)\n",
    "sy.Eq(sy.MatMul(sistema, vecPsi),0,evaluate=False)"
   ]
  },
  {
   "cell_type": "markdown",
   "metadata": {},
   "source": [
    "Para evitar la solución trivial $\\psi_1= \\psi_2= 0$ el determinante de la matriz debe ser nulo.\n",
    "Se obtiene así un polinomio característico,"
   ]
  },
  {
   "cell_type": "code",
   "execution_count": 5,
   "metadata": {},
   "outputs": [
    {
     "data": {
      "image/png": "[encoded data removed]",
      "text/latex": [
       "$\\displaystyle \\frac{3 k^{2} - 7 k m \\omega^{2} + 2 m^{2} \\omega^{4}}{2 m^{2}} = 0$"
      ],
      "text/plain": [
       "   2          2      2  4    \n",
       "3⋅k  - 7⋅k⋅m⋅ω  + 2⋅m ⋅ω     \n",
       "───────────────────────── = 0\n",
       "              2              \n",
       "           2⋅m               "
      ]
     },
     "execution_count": 5,
     "metadata": {},
     "output_type": "execute_result"
    }
   ],
   "source": [
    "detSistema = sy.det(sistema)\n",
    "sy.Eq(detSistema,0,evaluate=False)"
   ]
  },
  {
   "cell_type": "markdown",
   "metadata": {},
   "source": [
    "De las raices se obtienen las $\\omega$ de los modos normales"
   ]
  },
  {
   "cell_type": "code",
   "execution_count": 6,
   "metadata": {},
   "outputs": [
    {
     "data": {
      "image/png": "[encoded data removed]",
      "text/latex": [
       "$\\displaystyle \\left[ - \\frac{\\sqrt{2} \\sqrt{\\frac{k}{m}}}{2}, \\  \\frac{\\sqrt{2} \\sqrt{\\frac{k}{m}}}{2}, \\  - \\sqrt{3} \\sqrt{\\frac{k}{m}}, \\  \\sqrt{3} \\sqrt{\\frac{k}{m}}\\right]$"
      ],
      "text/plain": [
       "⎡        ___          ___                         ⎤\n",
       "⎢       ╱ k          ╱ k                          ⎥\n",
       "⎢-√2⋅  ╱  ─    √2⋅  ╱  ─           ___         ___⎥\n",
       "⎢    ╲╱   m       ╲╱   m          ╱ k         ╱ k ⎥\n",
       "⎢────────────, ──────────, -√3⋅  ╱  ─ , √3⋅  ╱  ─ ⎥\n",
       "⎣     2            2           ╲╱   m      ╲╱   m ⎦"
      ]
     },
     "execution_count": 6,
     "metadata": {},
     "output_type": "execute_result"
    }
   ],
   "source": [
    "frecModos = sy.solve(detSistema,omega)\n",
    "frecModos"
   ]
  },
  {
   "cell_type": "markdown",
   "metadata": {},
   "source": [
    "Las $\\omega$ negativas no tienen sentido físico, por lo que nos quedamos con las dos correspondientes a este sistema de sendos grados de libertad:"
   ]
  },
  {
   "cell_type": "code",
   "execution_count": 7,
   "metadata": {},
   "outputs": [
    {
     "data": {
      "image/png": "[encoded data removed]",
      "text/latex": [
       "$\\displaystyle \\left( \\omega_{1} = \\sqrt{3} \\sqrt{\\frac{k}{m}}, \\  \\omega_{2} = \\frac{\\sqrt{2} \\sqrt{\\frac{k}{m}}}{2}\\right)$"
      ],
      "text/plain": [
       "⎛                             ___⎞\n",
       "⎜                            ╱ k ⎟\n",
       "⎜            ___       √2⋅  ╱  ─ ⎟\n",
       "⎜           ╱ k           ╲╱   m ⎟\n",
       "⎜ω₁ = √3⋅  ╱  ─ , ω₂ = ──────────⎟\n",
       "⎝        ╲╱   m            2     ⎠"
      ]
     },
     "execution_count": 7,
     "metadata": {},
     "output_type": "execute_result"
    }
   ],
   "source": [
    "omega_1 = sy.simplify(frecModos[3])\n",
    "omega_2 = sy.simplify(frecModos[1]) \n",
    "sy.Eq(omega1,omega_1), sy.Eq(omega2,omega_2)"
   ]
  },
  {
   "cell_type": "markdown",
   "metadata": {},
   "source": [
    "## Modos normales\n",
    "Con cada una de las $\\omega$ obtenidas da una solución válida al sistema de ecuaciones diferenciales del estilo que obtuvimos para el oscilador de un solo grado de libertad.\n",
    "Pero con dos grados de libertad habrá que definir la relación de amplitudes entre cada uno de estos, lo que escribiremos como un vector $\\vec{\\xi}_i$.\n",
    "\n",
    "### Modo para $\\omega_1$\n",
    "Para $\\omega_1$ corresponderá una relación de amplitudes para cada masa"
   ]
  },
  {
   "cell_type": "code",
   "execution_count": 8,
   "metadata": {},
   "outputs": [
    {
     "data": {
      "text/latex": [
       "$\\displaystyle \\left[\\begin{matrix}xi_{1a}\\\\xi_{1b}\\end{matrix}\\right]$"
      ],
      "text/plain": [
       "⎡ξ_{1a}⎤\n",
       "⎢      ⎥\n",
       "⎣ξ_{1b}⎦"
      ]
     },
     "execution_count": 8,
     "metadata": {},
     "output_type": "execute_result"
    }
   ],
   "source": [
    "vecXi1 = sy.Matrix([[xi1a],[xi1b]])\n",
    "vecXi1"
   ]
  },
  {
   "cell_type": "markdown",
   "metadata": {},
   "source": [
    "y una fase $\\phi_1$."
   ]
  },
  {
   "cell_type": "code",
   "execution_count": 9,
   "metadata": {},
   "outputs": [
    {
     "data": {
      "text/latex": [
       "$\\displaystyle \\left[\\begin{matrix}\\psi_{a}\\\\\\psi_{b}\\end{matrix}\\right] = \\xi_{1} \\cos{\\left(\\omega_{1} t + \\phi_{1} \\right)}$"
      ],
      "text/plain": [
       "⎡ψₐ ⎤                    \n",
       "⎢   ⎥ = ξ₁⋅cos(ω₁⋅t + φ₁)\n",
       "⎣ψ_b⎦                    "
      ]
     },
     "execution_count": 9,
     "metadata": {},
     "output_type": "execute_result"
    }
   ],
   "source": [
    "sy.Eq(sy.MatMul(vecPsi),xi1* sy.cos(omega1*t+ phi1), evaluate=False)"
   ]
  },
  {
   "cell_type": "markdown",
   "metadata": {},
   "source": [
    "¿Como obtener este vector $\\vec{\\xi}_1$?\n",
    "Si reemplazamos esta solución en"
   ]
  },
  {
   "cell_type": "code",
   "execution_count": 10,
   "metadata": {},
   "outputs": [
    {
     "data": {
      "text/latex": [
       "$\\displaystyle \\left[\\begin{matrix}- \\frac{2 k}{m} + \\omega^{2} & \\frac{k}{m}\\\\\\frac{3 k}{2 m} & - \\frac{3 k}{2 m} + \\omega^{2}\\end{matrix}\\right] \\left[\\begin{matrix}\\psi_{a}\\\\\\psi_{b}\\end{matrix}\\right] = 0$"
      ],
      "text/plain": [
       "⎡  2⋅k    2      k     ⎤          \n",
       "⎢- ─── + ω       ─     ⎥          \n",
       "⎢   m            m     ⎥ ⎡ψₐ ⎤    \n",
       "⎢                      ⎥⋅⎢   ⎥ = 0\n",
       "⎢   3⋅k        3⋅k    2⎥ ⎣ψ_b⎦    \n",
       "⎢   ───      - ─── + ω ⎥          \n",
       "⎣   2⋅m        2⋅m     ⎦          "
      ]
     },
     "execution_count": 10,
     "metadata": {},
     "output_type": "execute_result"
    }
   ],
   "source": [
    "sy.Eq(sy.MatMul(sistema, vecPsi),0,evaluate=False)"
   ]
  },
  {
   "cell_type": "code",
   "execution_count": 11,
   "metadata": {},
   "outputs": [
    {
     "data": {
      "text/latex": [
       "$\\displaystyle \\left[\\begin{matrix}- \\frac{2 k}{m} + \\omega_{1}^{2} & \\frac{k}{m}\\\\\\frac{3 k}{2 m} & - \\frac{3 k}{2 m} + \\omega_{1}^{2}\\end{matrix}\\right] \\xi_{1} \\cos{\\left(\\omega_{1} t + \\phi_{1} \\right)} = 0$"
      ],
      "text/plain": [
       "⎡  2⋅k     2       k     ⎤                      \n",
       "⎢- ─── + ω₁        ─     ⎥                      \n",
       "⎢   m              m     ⎥                      \n",
       "⎢                        ⎥⋅ξ₁⋅cos(ω₁⋅t + φ₁) = 0\n",
       "⎢    3⋅k        3⋅k     2⎥                      \n",
       "⎢    ───      - ─── + ω₁ ⎥                      \n",
       "⎣    2⋅m        2⋅m      ⎦                      "
      ]
     },
     "execution_count": 11,
     "metadata": {},
     "output_type": "execute_result"
    }
   ],
   "source": [
    "sy.Eq(sy.MatMul(sistema.subs(omega,omega1), xi1, sy.cos(omega1* t+ phi1)),0,evaluate=False)"
   ]
  },
  {
   "cell_type": "markdown",
   "metadata": {},
   "source": [
    "Ya que el coseno no debe ser nulo en todo $t$ nos encontramos que reemplazando por el valor de $\\omega_1$"
   ]
  },
  {
   "cell_type": "code",
   "execution_count": 12,
   "metadata": {},
   "outputs": [
    {
     "data": {
      "text/latex": [
       "$\\displaystyle \\left[\\begin{matrix}\\frac{k}{m} & \\frac{k}{m}\\\\\\frac{3 k}{2 m} & \\frac{3 k}{2 m}\\end{matrix}\\right] \\left[\\begin{matrix}xi_{1a}\\\\xi_{1b}\\end{matrix}\\right] = 0$"
      ],
      "text/plain": [
       "⎡ k    k ⎤             \n",
       "⎢ ─    ─ ⎥             \n",
       "⎢ m    m ⎥ ⎡ξ_{1a}⎤    \n",
       "⎢        ⎥⋅⎢      ⎥ = 0\n",
       "⎢3⋅k  3⋅k⎥ ⎣ξ_{1b}⎦    \n",
       "⎢───  ───⎥             \n",
       "⎣2⋅m  2⋅m⎦             "
      ]
     },
     "execution_count": 12,
     "metadata": {},
     "output_type": "execute_result"
    }
   ],
   "source": [
    "sysXi1= sy.Eq(sy.MatMul(sistema.subs(omega,omega_1), vecXi1),0,evaluate=False)\n",
    "sysXi1"
   ]
  },
  {
   "cell_type": "markdown",
   "metadata": {},
   "source": [
    "Despejando de la primera o segunda ecuación nos queda idéntica relación, $\\xi_{1b}= - \\xi_{1a}$, con lo que obtuvimos"
   ]
  },
  {
   "cell_type": "code",
   "execution_count": 13,
   "metadata": {},
   "outputs": [
    {
     "data": {
      "text/latex": [
       "$\\displaystyle \\left[\\begin{matrix}xi_{1a}\\\\xi_{1b}\\end{matrix}\\right] = \\left[\\begin{matrix}1\\\\-1\\end{matrix}\\right]$"
      ],
      "text/plain": [
       "⎡ξ_{1a}⎤   ⎡1 ⎤\n",
       "⎢      ⎥ = ⎢  ⎥\n",
       "⎣ξ_{1b}⎦   ⎣-1⎦"
      ]
     },
     "execution_count": 13,
     "metadata": {},
     "output_type": "execute_result"
    }
   ],
   "source": [
    "vecXi1subs= vecXi1.subs([(xi1a,1),(xi1b,-1) ])\n",
    "sy.Eq(vecXi1,vecXi1subs)"
   ]
  },
  {
   "cell_type": "markdown",
   "metadata": {},
   "source": [
    "Si el sistema oscilara con $\\omega= \\omega_1$ cuando una masa sube la otra baja y visceversa con ídentica separacion de su posición de equilibrio."
   ]
  },
  {
   "cell_type": "markdown",
   "metadata": {},
   "source": [
    "### Modo para $\\omega_2$\n",
    "Seguimos el mismo procedimento para $\\omega_2$"
   ]
  },
  {
   "cell_type": "code",
   "execution_count": 14,
   "metadata": {},
   "outputs": [
    {
     "data": {
      "text/latex": [
       "$\\displaystyle \\left[\\begin{matrix}- \\frac{2 k}{m} + \\omega_{2}^{2} & \\frac{k}{m}\\\\\\frac{3 k}{2 m} & - \\frac{3 k}{2 m} + \\omega_{2}^{2}\\end{matrix}\\right] \\xi_{2} \\cos{\\left(\\omega_{2} t + \\phi_{2} \\right)} = 0$"
      ],
      "text/plain": [
       "⎡  2⋅k     2       k     ⎤                      \n",
       "⎢- ─── + ω₂        ─     ⎥                      \n",
       "⎢   m              m     ⎥                      \n",
       "⎢                        ⎥⋅ξ₂⋅cos(ω₂⋅t + φ₂) = 0\n",
       "⎢    3⋅k        3⋅k     2⎥                      \n",
       "⎢    ───      - ─── + ω₂ ⎥                      \n",
       "⎣    2⋅m        2⋅m      ⎦                      "
      ]
     },
     "execution_count": 14,
     "metadata": {},
     "output_type": "execute_result"
    }
   ],
   "source": [
    "sy.Eq(sy.MatMul(sistema.subs(omega,omega2), xi2, sy.cos(omega2* t+ phi2)),0,evaluate=False)"
   ]
  },
  {
   "cell_type": "code",
   "execution_count": 15,
   "metadata": {},
   "outputs": [
    {
     "data": {
      "text/latex": [
       "$\\displaystyle \\left[\\begin{matrix}- \\frac{3 k}{2 m} & \\frac{k}{m}\\\\\\frac{3 k}{2 m} & - \\frac{k}{m}\\end{matrix}\\right] \\left[\\begin{matrix}xi_{2a}\\\\xi_{2b}\\end{matrix}\\right] = 0$"
      ],
      "text/plain": [
       "⎡-3⋅k    k ⎤             \n",
       "⎢─────   ─ ⎥             \n",
       "⎢ 2⋅m    m ⎥ ⎡ξ_{2a}⎤    \n",
       "⎢          ⎥⋅⎢      ⎥ = 0\n",
       "⎢ 3⋅k   -k ⎥ ⎣ξ_{2b}⎦    \n",
       "⎢ ───   ───⎥             \n",
       "⎣ 2⋅m    m ⎦             "
      ]
     },
     "execution_count": 15,
     "metadata": {},
     "output_type": "execute_result"
    }
   ],
   "source": [
    "vecXi2 = sy.Matrix([[xi2a],[xi2b]])\n",
    "sysXi2= sy.Eq(sy.MatMul(sistema.subs(omega,omega_2), vecXi2),0,evaluate=False)\n",
    "sysXi2"
   ]
  },
  {
   "cell_type": "markdown",
   "metadata": {},
   "source": [
    "Despejando de la primera o segunda ecuación nos queda idéntica relación, $\\xi_{2b}= \\frac{3}{2} \\xi_{2a}$, por tanto"
   ]
  },
  {
   "cell_type": "code",
   "execution_count": 16,
   "metadata": {},
   "outputs": [
    {
     "data": {
      "text/latex": [
       "$\\displaystyle \\left[\\begin{matrix}xi_{2a}\\\\xi_{2b}\\end{matrix}\\right] = \\left[\\begin{matrix}1\\\\\\frac{3}{2}\\end{matrix}\\right]$"
      ],
      "text/plain": [
       "⎡ξ_{2a}⎤   ⎡ 1 ⎤\n",
       "⎢      ⎥ = ⎢   ⎥\n",
       "⎣ξ_{2b}⎦   ⎣3/2⎦"
      ]
     },
     "execution_count": 16,
     "metadata": {},
     "output_type": "execute_result"
    }
   ],
   "source": [
    "vecXi2subs= vecXi2.subs([(xi2a,1),(xi2b,'3/2') ])\n",
    "sy.Eq(vecXi2,vecXi2subs)"
   ]
  },
  {
   "cell_type": "markdown",
   "metadata": {},
   "source": [
    "Si el sistema oscilará con $\\omega= \\omega_2$ ambas masas subirían o bajarían, solo que la de más abajo se distanciaría de su posición de equilibrio 3/2 veces más que la de arriba."
   ]
  },
  {
   "cell_type": "markdown",
   "metadata": {},
   "source": [
    "### Solución general\n",
    "Sabemos que la solución al sistema es la combinación lineal de ambas soluciones\n",
    "$$\n",
    "\\begin{aligned}\n",
    "  \\begin{pmatrix}\n",
    "   \\psi_1\\\\\n",
    "   \\psi_2\n",
    "  \\end{pmatrix}\n",
    "  = &\n",
    "  A_1 \\vec{\\xi}_1 \\cos{\\left(\\omega_1 t + \\phi_1 \\right)}+\n",
    "  A_2 \\vec{\\xi}_2 \\cos{\\left(\\omega_2 t + \\phi_2 \\right)} ,\n",
    "\\end{aligned}\n",
    "$$\n",
    "con $A_i$ y $\\phi_i$ las amplitudes y fases de cada modo que deben responder a las condiciones iniciales."
   ]
  },
  {
   "cell_type": "code",
   "execution_count": 17,
   "metadata": {},
   "outputs": [
    {
     "data": {
      "text/latex": [
       "$\\displaystyle \\left[\\begin{matrix}\\psi_{a}\\\\\\psi_{b}\\end{matrix}\\right] = \\left[\\begin{matrix}A_{2} \\cos{\\left(\\phi_{2} + \\frac{\\sqrt{2} t \\sqrt{\\frac{k}{m}}}{2} \\right)} + A_{1} \\cos{\\left(\\phi_{1} + \\sqrt{3} t \\sqrt{\\frac{k}{m}} \\right)}\\\\\\frac{3 A_{2} \\cos{\\left(\\phi_{2} + \\frac{\\sqrt{2} t \\sqrt{\\frac{k}{m}}}{2} \\right)}}{2} - A_{1} \\cos{\\left(\\phi_{1} + \\sqrt{3} t \\sqrt{\\frac{k}{m}} \\right)}\\end{matrix}\\right]$"
      ],
      "text/plain": [
       "        ⎡       ⎛              ___⎞                             ⎤\n",
       "        ⎢       ⎜             ╱ k ⎟                             ⎥\n",
       "        ⎢       ⎜     √2⋅t⋅  ╱  ─ ⎟         ⎛              ___⎞ ⎥\n",
       "        ⎢       ⎜          ╲╱   m ⎟         ⎜             ╱ k ⎟ ⎥\n",
       "        ⎢ A₂⋅cos⎜φ₂ + ────────────⎟ + A₁⋅cos⎜φ₁ + √3⋅t⋅  ╱  ─ ⎟ ⎥\n",
       "        ⎢       ⎝          2      ⎠         ⎝          ╲╱   m ⎠ ⎥\n",
       "⎡ψₐ ⎤   ⎢                                                       ⎥\n",
       "⎢   ⎥ = ⎢        ⎛              ___⎞                            ⎥\n",
       "⎣ψ_b⎦   ⎢        ⎜             ╱ k ⎟                            ⎥\n",
       "        ⎢        ⎜     √2⋅t⋅  ╱  ─ ⎟                            ⎥\n",
       "        ⎢        ⎜          ╲╱   m ⎟                            ⎥\n",
       "        ⎢3⋅A₂⋅cos⎜φ₂ + ────────────⎟         ⎛              ___⎞⎥\n",
       "        ⎢        ⎝          2      ⎠         ⎜             ╱ k ⎟⎥\n",
       "        ⎢─────────────────────────── - A₁⋅cos⎜φ₁ + √3⋅t⋅  ╱  ─ ⎟⎥\n",
       "        ⎣             2                      ⎝          ╲╱   m ⎠⎦"
      ]
     },
     "execution_count": 17,
     "metadata": {},
     "output_type": "execute_result"
    }
   ],
   "source": [
    "dinámica = A1* vecXi1subs* sy.cos(omega_1* t + phi1) + A2* vecXi2subs* sy.cos(omega_2* t + phi2)\n",
    "sy.Eq(vecPsi,dinámica)"
   ]
  },
  {
   "cell_type": "markdown",
   "metadata": {},
   "source": [
    "## b) Condiciones iniciales\n",
    "Segun el enunciado en $t=0$ se sabe que $\\psi_{a}(0)=1,\\,\\psi_{b}(0)=0$"
   ]
  },
  {
   "cell_type": "code",
   "execution_count": 19,
   "metadata": {},
   "outputs": [
    {
     "data": {
      "text/latex": [
       "$\\displaystyle \\left[\\begin{matrix}1\\\\0\\end{matrix}\\right] = \\left[\\begin{matrix}A_{2} \\cos{\\left(\\phi_{2} \\right)} + A_{1} \\cos{\\left(\\phi_{1} \\right)}\\\\\\frac{3 A_{2} \\cos{\\left(\\phi_{2} \\right)}}{2} - A_{1} \\cos{\\left(\\phi_{1} \\right)}\\end{matrix}\\right]$"
      ],
      "text/plain": [
       "      ⎡ A₂⋅cos(φ₂) + A₁⋅cos(φ₁) ⎤\n",
       "⎡1⎤   ⎢                         ⎥\n",
       "⎢ ⎥ = ⎢3⋅A₂⋅cos(φ₂)             ⎥\n",
       "⎣0⎦   ⎢──────────── - A₁⋅cos(φ₁)⎥\n",
       "      ⎣     2                   ⎦"
      ]
     },
     "execution_count": 19,
     "metadata": {},
     "output_type": "execute_result"
    }
   ],
   "source": [
    "dinámicaSubs= dinámica.subs(t,0)\n",
    "vecPsiSubs= vecPsi.subs([(psia,1),(psib,0)])\n",
    "sy.Eq(vecPsiSubs,dinámicaSubs)"
   ]
  },
  {
   "cell_type": "markdown",
   "metadata": {},
   "source": []
  },
  {
   "cell_type": "markdown",
   "metadata": {},
   "source": [
    "No parece alcanzar con esto para definir cuatro variables.\n",
    "El enunciado nos da otra información al decir \"que se encuetra en reposo\", esto significa que las velocidades inciales son nulas $\\dot{\\psi}_{a}(0)= 0,\\,\\dot{\\psi}_{b}(0)=0$.\n",
    "Uno estaría tentado de hacer lo mismo que con las condiciones sobre la posición."
   ]
  },
  {
   "cell_type": "code",
   "execution_count": 20,
   "metadata": {},
   "outputs": [
    {
     "data": {
      "text/latex": [
       "$\\displaystyle \\left[\\begin{matrix}0\\\\0\\end{matrix}\\right] = \\left[\\begin{matrix}- \\frac{\\sqrt{2} A_{2} \\sqrt{\\frac{k}{m}} \\sin{\\left(\\phi_{2} \\right)}}{2} - \\sqrt{3} A_{1} \\sqrt{\\frac{k}{m}} \\sin{\\left(\\phi_{1} \\right)}\\\\- \\frac{3 \\sqrt{2} A_{2} \\sqrt{\\frac{k}{m}} \\sin{\\left(\\phi_{2} \\right)}}{4} + \\sqrt{3} A_{1} \\sqrt{\\frac{k}{m}} \\sin{\\left(\\phi_{1} \\right)}\\end{matrix}\\right]$"
      ],
      "text/plain": [
       "      ⎡             ___                                 ⎤\n",
       "      ⎢            ╱ k                                  ⎥\n",
       "      ⎢   √2⋅A₂⋅  ╱  ─ ⋅sin(φ₂)             ___         ⎥\n",
       "      ⎢         ╲╱   m                     ╱ k          ⎥\n",
       "      ⎢ - ───────────────────── - √3⋅A₁⋅  ╱  ─ ⋅sin(φ₁) ⎥\n",
       "⎡0⎤   ⎢             2                   ╲╱   m          ⎥\n",
       "⎢ ⎥ = ⎢                                                 ⎥\n",
       "⎣0⎦   ⎢              ___                                ⎥\n",
       "      ⎢             ╱ k                                 ⎥\n",
       "      ⎢  3⋅√2⋅A₂⋅  ╱  ─ ⋅sin(φ₂)             ___        ⎥\n",
       "      ⎢          ╲╱   m                     ╱ k         ⎥\n",
       "      ⎢- ─────────────────────── + √3⋅A₁⋅  ╱  ─ ⋅sin(φ₁)⎥\n",
       "      ⎣             4                    ╲╱   m         ⎦"
      ]
     },
     "execution_count": 20,
     "metadata": {},
     "output_type": "execute_result"
    }
   ],
   "source": [
    "dinámicaSubsDiff= dinámica.diff(t).subs(t,0)\n",
    "vecPsiSubsDiff= vecPsi.subs([(psia,0),(psib,0)])\n",
    "sy.Eq(vecPsiSubsDiff,dinámicaSubsDiff)"
   ]
  },
  {
   "cell_type": "markdown",
   "metadata": {},
   "source": [
    "Pero es bastante más sencillo de lo que parece.\n",
    "Si establecemos $\\phi_1= \\phi_2=0$ esto nos asegura que las velocidades son nulas.\n",
    "\n",
    "Volvemos entonces a las condiciones sobre la posición con este dato."
   ]
  },
  {
   "cell_type": "code",
   "execution_count": 21,
   "metadata": {},
   "outputs": [
    {
     "data": {
      "text/latex": [
       "$\\displaystyle \\left[\\begin{matrix}1\\\\0\\end{matrix}\\right] = \\left[\\begin{matrix}A_{2} + A_{1}\\\\\\frac{3 A_{2}}{2} - A_{1}\\end{matrix}\\right]$"
      ],
      "text/plain": [
       "      ⎡ A₂ + A₁ ⎤\n",
       "⎡1⎤   ⎢         ⎥\n",
       "⎢ ⎥ = ⎢3⋅A₂     ⎥\n",
       "⎣0⎦   ⎢──── - A₁⎥\n",
       "      ⎣ 2       ⎦"
      ]
     },
     "execution_count": 21,
     "metadata": {},
     "output_type": "execute_result"
    }
   ],
   "source": [
    "condA= sy.Eq(vecPsiSubs,dinámicaSubs.subs([(phi1,0),(phi2,0)]))\n",
    "condA"
   ]
  },
  {
   "cell_type": "markdown",
   "metadata": {},
   "source": [
    "No es difícil obtener que $A_1= \\frac{3}{5}$ y $A_2=\\frac{2}{5}$.\n",
    "Con lo que finalmente obtenemos una solución para estas condiciones iniciales:"
   ]
  },
  {
   "cell_type": "code",
   "execution_count": 22,
   "metadata": {},
   "outputs": [
    {
     "data": {
      "text/latex": [
       "$\\displaystyle \\left[\\begin{matrix}\\psi_{a}\\\\\\psi_{b}\\end{matrix}\\right] = \\left[\\begin{matrix}\\frac{3 \\cos{\\left(\\frac{\\sqrt{2} t \\sqrt{\\frac{k}{m}}}{2} \\right)}}{5} + \\frac{3 \\cos{\\left(\\sqrt{3} t \\sqrt{\\frac{k}{m}} \\right)}}{5}\\\\\\frac{9 \\cos{\\left(\\frac{\\sqrt{2} t \\sqrt{\\frac{k}{m}}}{2} \\right)}}{10} - \\frac{3 \\cos{\\left(\\sqrt{3} t \\sqrt{\\frac{k}{m}} \\right)}}{5}\\end{matrix}\\right]$"
      ],
      "text/plain": [
       "        ⎡     ⎛         ___⎞                      ⎤\n",
       "        ⎢     ⎜        ╱ k ⎟                      ⎥\n",
       "        ⎢     ⎜√2⋅t⋅  ╱  ─ ⎟        ⎛         ___⎞⎥\n",
       "        ⎢     ⎜     ╲╱   m ⎟        ⎜        ╱ k ⎟⎥\n",
       "        ⎢3⋅cos⎜────────────⎟   3⋅cos⎜√3⋅t⋅  ╱  ─ ⎟⎥\n",
       "        ⎢     ⎝     2      ⎠        ⎝     ╲╱   m ⎠⎥\n",
       "        ⎢─────────────────── + ───────────────────⎥\n",
       "⎡ψₐ ⎤   ⎢         5                     5         ⎥\n",
       "⎢   ⎥ = ⎢                                         ⎥\n",
       "⎣ψ_b⎦   ⎢     ⎛         ___⎞                      ⎥\n",
       "        ⎢     ⎜        ╱ k ⎟                      ⎥\n",
       "        ⎢     ⎜√2⋅t⋅  ╱  ─ ⎟        ⎛         ___⎞⎥\n",
       "        ⎢     ⎜     ╲╱   m ⎟        ⎜        ╱ k ⎟⎥\n",
       "        ⎢9⋅cos⎜────────────⎟   3⋅cos⎜√3⋅t⋅  ╱  ─ ⎟⎥\n",
       "        ⎢     ⎝     2      ⎠        ⎝     ╲╱   m ⎠⎥\n",
       "        ⎢─────────────────── - ───────────────────⎥\n",
       "        ⎣         10                    5         ⎦"
      ]
     },
     "execution_count": 22,
     "metadata": {},
     "output_type": "execute_result"
    }
   ],
   "source": [
    "dinámica = A1* vecXi1subs* sy.cos(omega_1* t + phi1) + A2* vecXi2subs* sy.cos(omega_2* t + phi2)\n",
    "sy.Eq(vecPsi, dinámica.subs([(A1,'3/5'), (A2,'3/5'), (phi1,0), (phi2,0)]))"
   ]
  },
  {
   "cell_type": "markdown",
   "metadata": {},
   "source": [
    "## c) ¿Qué modifica la presencia de gravedad?\n",
    "Sin tratar de ser perspicaces empecemos a resolver \"mecánicamente\".\n",
    "Al potencial anteriormente calculado agregamos el potencial gravitatorio\n",
    "$$\n",
    "V(y_a, y_b)= \\frac{k}{2} \\left[ \\left(y_a - l_0 \\right)^2 + \\left(y_b - y_a - l_0 \\right)^2 \\right]- g( m_a y_a + m_b y_b) .\n",
    "$$ "
   ]
  },
  {
   "cell_type": "markdown",
   "metadata": {},
   "source": [
    "Habrá nuevas posiciones de equilibrio.\n",
    "Basta realizar $\\frac{\\partial}{\\partial y_i} V = 0$ \n",
    "$$\n",
    "\\left\\{\n",
    "\\begin{aligned}\n",
    "k(y_a - l_0)- k (y_b - y_a - l_0)- g m_a =  2 k y_a - k y_b - g m_a &= 0 \\\\\n",
    "k(y_b - y_a - l_0) - g m_b &= 0\n",
    "\\end{aligned}\n",
    "\\right.\n",
    "$$\n",
    "de donde puede obtenerse fácilmente las posiciones de equilibrio $y_{a0}= \\frac{g}{k} (m_a + m_b) + l_0$ e $y_{a0}= \\frac{g}{k} (m_a + 2 m_b) + 2 l_0$.\n",
    "\n",
    "Bien, tenemos nuevas posiciones de equilibrio, y entonces para escribir en función de los apartamientos de estas $\\psi_a$ y $\\psi_b$ tenemos  \n",
    "$$\n",
    "\\begin{aligned}\n",
    "y_a &= y_{a0}+ \\psi_a = \\frac{g}{k} (m_a + m_b) + l_0 + \\psi_a \\\\\n",
    "y_b &= y_{b0}+ \\psi_a = \\frac{g}{k} (m_a + 2 m_b) + 2 l_0 + \\psi_b,\n",
    "\\end{aligned}\n",
    "$$"
   ]
  },
  {
   "cell_type": "markdown",
   "metadata": {},
   "source": [
    "¿Qué seguía? Para obtener las fuerzas derivar el potencial potencial... ¡pero si lo acabamos de hacer!\n",
    "Si reemplazo estos $y_a$ y $y_b$\n",
    "$$\n",
    "\\left\\{\n",
    "\\begin{aligned}\n",
    "m_a \\ddot{\\psi}_a \n",
    "& = 2 k \\left[ \\frac{g}{k} (m_a + m_b) + l_0 + \\psi_a \\right] - k \\left[ \\frac{g}{k} (m_a + 2 m_b) + 2 l_0 + \\psi_b \\right] - g m_a \\\\\n",
    "& = 2 g (m_a+ m_b) + 2k l_0 + 2 k \\psi_a - g (m_a + 2 m_b) - 2 k l_0 - k \\psi_b - g m_a \\\\\n",
    "& = -k (2\\psi_a - \\psi_b) \\\\\n",
    "m_b \\ddot{\\psi}_b \n",
    "& = k \\left[ \\left( \\frac{g}{k} (m_a + 2 m_b) + 2 l_0 + \\psi_b \\right) - \\left( \\frac{g}{k} (m_a + m_b) + l_0 + \\psi_a \\right) - l_0 \\right] - g m_b \\\\\n",
    "& = g (m_a + 2 m_b) + 2 k l_0 + k \\psi_b - g (m_a + m_b) + k l_0 + k \\psi_a - kl_0 - g m_b \\\\\n",
    "& = -k (\\psi_b - \\psi_a)\n",
    "\\end{aligned}\n",
    "\\right.\n",
    "$$\n",
    "\n",
    "Exactamente lo que teníamos para el caso sin gravedad.\n",
    "¿Qué es lo que cambia?\n",
    "No hay que olvidar de que si se quiere expresar las posiciones no desde el equilibrio sino como $y_i$ hay que sumar la posición de equilibrio, que ahora es mayor en módulo que las de los resortes libres, $l_0$ y $2l_0$ respectivamente.\n",
    "\n",
    "Siendo perspicaces tendríamos que haber recordado que nada de lo que obtuvimos, en particular las frecuencias de oscilación, tenían dependencia en las longitudes de los resortes, si de $k$ y las $m$. "
   ]
  },
  {
   "cell_type": "code",
   "execution_count": null,
   "metadata": {},
   "outputs": [],
   "source": []
  }
 ],
 "metadata": {
  "kernelspec": {
   "display_name": "Python 3",
   "language": "python",
   "name": "python3"
  },
  "language_info": {
   "codemirror_mode": {
    "name": "ipython",
    "version": 3
   },
   "file_extension": ".py",
   "mimetype": "text/x-python",
   "name": "python",
   "nbconvert_exporter": "python",
   "pygments_lexer": "ipython3",
   "version": "3.7.3"
  }
 },
 "nbformat": 4,
 "nbformat_minor": 4
}
