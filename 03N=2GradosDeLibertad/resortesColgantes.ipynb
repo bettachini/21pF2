{
 "cells": [
  {
   "cell_type": "markdown",
   "metadata": {},
   "source": [
    "# Dos resortes colgantes"
   ]
  },
  {
   "cell_type": "markdown",
   "metadata": {},
   "source": [
    "![Departamento de Física, Facultad de Ciencias Exactas y Naturales, Universidad de Buenos Aires](figuras/logoDF.png \"DF, FCEyN, UBA\")  \n",
    "©2021 [Víctor A. Bettachini](mailto:bettachini@df.uba.ar)  \n",
    "\n",
    "----"
   ]
  },
  {
   "cell_type": "markdown",
   "metadata": {},
   "source": [
    "# Enunciado\n",
    " Considere el sistema de la figura en ausencia de gravedad  \n",
    "![Figura 1: Sistema a analizar.](figuras/modosNormales_ej1-6.png)\n",
    "    \n",
    "a) Obtenga sus frecuencias naturales de oscilación y los modos normales correspondientes.\n",
    "Escriba las ecuaciones de movimiento de cada masa.  \n",
    "b) Sabiendo que a $t=0$ el sistema satisface las siguientes condiciones: $\\Psi_{a}(0)=1,\\,\\Psi_{b}(0)=0$ y que se encuentra en reposo, encuentre el movimiento de cada partícula.   \n",
    "c) Analice cómo se modifica el resultado por la presencia de la gravedad."
   ]
  },
  {
   "cell_type": "markdown",
   "metadata": {},
   "source": [
    "# Sistema sin gravedad | 1) obtención de frecuencias y modos normales de oscilación\n",
    "\n",
    "### Potenciales en el sistema\n",
    "Empezamos preguntandonos que potenciales están en juego.\n",
    "En este caso los de los resortes.\n",
    "En la figura está indicada como coordenadas sugeridas las $\\psi_i$, notación que se usa para notar un pequeño desplazamiento.\n",
    "Pero antes de ver el porqué de esta sugerencia hagamos el análisis el potencial elástico de cada resorte que como sabemos depende de la longitud de los mismos.\n",
    "\n",
    "Tomamos el origen del sistema de coordenadas en el \"techo\" del que pende el resorte superior, de allí apuntando hacia abajo orientamos $\\hat{y}$.\n",
    "Para el resorte unido a este techo la posición de la masa superior $\\vec{y}_a$ determina su longitud\n",
    "$$\n",
    "l_1 = |y_a \\hat{y} - 0|= y_a .\n",
    "$$\n",
    "Para el que pende debajo de esta masa tiene en su otro extremo en $\\vec{y}_b$ otra masa.\n",
    "La posición de ambas establece su longitud\n",
    "$$\n",
    "l_2 = |y_b \\hat{y} - y_a \\hat{y}|= y_b- y_a . \n",
    "$$\n",
    "Si ambos tienen la misma longitud natural $l_0$, aquella que tendrían si ninguna fuerza se aplicara a ellos, el potencial del sistema es\n",
    "$$\n",
    "V(y_a, y_b)= \\frac{k}{2} \\left[ \\left(y_a - l_0 \\right)^2 + \\left(y_b - y_a - l_0 \\right)^2 \\right].\n",
    "$$ "
   ]
  },
  {
   "cell_type": "code",
   "execution_count": 1,
   "metadata": {},
   "outputs": [],
   "source": [
    "import sympy as sym\n",
    "from sympy.physics.mechanics import init_vprinting\n",
    "init_vprinting() # notación con punto para la velocidad y punto punto para la aceleración"
   ]
  },
  {
   "cell_type": "code",
   "execution_count": 2,
   "metadata": {},
   "outputs": [],
   "source": [
    "m, k = sym.symbols('m, k') # parámetros físicos\n",
    "t = sym.Symbol('t')\n",
    "l_0 = sym.symbols('l_0')\n",
    "y_a = sym.Function('y_a')(t)\n",
    "y_b = sym.Function('y_b')(t)"
   ]
  },
  {
   "cell_type": "code",
   "execution_count": 3,
   "metadata": {},
   "outputs": [
    {
     "data": {
      "image/png": "[encoded data removed]",
      "text/latex": [
       "$\\displaystyle V = \\frac{k \\left(\\left(- l_{0} + y_{a}\\right)^{2} + \\left(- l_{0} - y_{a} + y_{b}\\right)^{2}\\right)}{2}$"
      ],
      "text/plain": [
       "      ⎛          2                   2⎞\n",
       "    k⋅⎝(-l₀ + yₐ)  + (-l₀ - yₐ + y_b) ⎠\n",
       "V = ───────────────────────────────────\n",
       "                     2                 "
      ]
     },
     "execution_count": 3,
     "metadata": {},
     "output_type": "execute_result"
    }
   ],
   "source": [
    "V = sym.Eq(sym.symbols('V'), (k/2)* ((y_a- l_0)**2 + (y_b- y_a- l_0)**2 ) )\n",
    "V"
   ]
  },
  {
   "cell_type": "markdown",
   "metadata": {},
   "source": [
    "## Fuerzas y planteo de 2.a ley de Newton\n",
    "Para escribir la 2.a ley de Newton para cada masa obtenemos las fuerzas sobre ellas.\n",
    "Para la superior\n",
    "$$\n",
    "m \\ddot{y}_a \n",
    "= m \\ddot{\\vec{y}_a} \\cdot \\hat{y} = -\\vec{\\nabla}_a V \\cdot \\hat{y} \n",
    "= - \\frac{\\partial}{\\partial y_a} V(y_a, y_b) = - k (y_a- l_0) + k (y_b- y_a- l_0)\n",
    "= -k (2 y_a- y_b) .\n",
    "$$"
   ]
  },
  {
   "cell_type": "code",
   "execution_count": 4,
   "metadata": {},
   "outputs": [
    {
     "data": {
      "image/png": "[encoded data removed]",
      "text/latex": [
       "$\\displaystyle m \\ddot{y}_{a} = - k \\left(2 y_{a} - y_{b}\\right)$"
      ],
      "text/plain": [
       "m⋅yₐ̈ = -k⋅(2⋅yₐ - y_b)"
      ]
     },
     "execution_count": 4,
     "metadata": {},
     "output_type": "execute_result"
    }
   ],
   "source": [
    "sym.Eq(m* y_a.diff(t,2), -V.rhs.diff(y_a).simplify() )"
   ]
  },
  {
   "cell_type": "markdown",
   "metadata": {},
   "source": [
    "Para la masa inferior lo mismo\n",
    "$$\n",
    "\\frac{2m}{3} \\ddot{y}_b = \\frac{2m}{3} \\ddot{\\vec{y}_b} \\cdot \\hat{y} = -\\vec{\\nabla}_b V \\cdot \\hat{y} = - \\frac{\\partial}{\\partial y_b} V(y_a, y_b)= - k (y_b -y_a- l_0) .\n",
    "$$"
   ]
  },
  {
   "cell_type": "code",
   "execution_count": 5,
   "metadata": {},
   "outputs": [
    {
     "data": {
      "image/png": "[encoded data removed]",
      "text/latex": [
       "$\\displaystyle \\frac{2 m \\ddot{y}_{b}}{3} = - k \\left(- l_{0} - y_{a} + y_{b}\\right)$"
      ],
      "text/plain": [
       "2⋅m⋅y_̈b                      \n",
       "─────── = -k⋅(-l₀ - yₐ + y_b)\n",
       "   3                         "
      ]
     },
     "execution_count": 5,
     "metadata": {},
     "output_type": "execute_result"
    }
   ],
   "source": [
    "sym.Eq(sym.Rational(2,3)* m* y_b.diff(t,2), -V.rhs.diff(y_b).simplify() )"
   ]
  },
  {
   "cell_type": "markdown",
   "metadata": {},
   "source": [
    "En este sistema no afectado por la aceleración $\\vec{g}$, resulta que las longitudes de equilibrio de las fuerzas corresponden a cuando la longitud de los resortes coincide con $l_0$, pues ninguna otra fuerza que la elástica existe en este modelo.\n",
    "Esto es fácilmente comprobable obteniendo el mínimo de potencial en función de las longitudes de los resortes. $l_1$ y $l_2$.\n",
    "Entonces\n",
    "$$\n",
    "y_a = l_o + \\psi_a,\n",
    "$$\n",
    "siendo $\\psi_a$ el pequeño desplazamiento en torno a la posición de equilibrio, y lo mismo para el extremo inferior del segundo resorte.\n",
    "$$\n",
    "y_b = 2 l_o + \\psi_b.\n",
    "$$"
   ]
  },
  {
   "cell_type": "code",
   "execution_count": 6,
   "metadata": {},
   "outputs": [
    {
     "data": {
      "image/png": "[encoded data removed]",
      "text/latex": [
       "$\\displaystyle V = \\frac{k \\left(\\left(- \\psi_{a} + \\psi_{b}\\right)^{2} + \\psi_{a}^{2}\\right)}{2}$"
      ],
      "text/plain": [
       "      ⎛           2     2⎞\n",
       "    k⋅⎝(-ψₐ + ψ_b)  + ψₐ ⎠\n",
       "V = ──────────────────────\n",
       "              2           "
      ]
     },
     "execution_count": 6,
     "metadata": {},
     "output_type": "execute_result"
    }
   ],
   "source": [
    "psi_a = sym.Function('psi_a')(t) # se declaran símbolos a medida que se requieren\n",
    "psi_b = sym.Function('psi_b')(t)\n",
    "psis ={\n",
    "    y_a : l_0 + psi_a,\n",
    "    y_b : 2* l_0 + psi_b,\n",
    "}\n",
    "Vpsi = V.subs(psis)\n",
    "Vpsi"
   ]
  },
  {
   "cell_type": "markdown",
   "metadata": {},
   "source": [
    "Si quiere re-escribirse las ecuaciones de la 2.a ley en funcion de estos pequeños desplazamientos al derivar dos veces respecto al tiempo $\\ddot{y}_a= \\ddot{\\psi}_a$ y $\\ddot{y}_b = \\ddot{\\psi}_b$.\n",
    "Se obtendrá\n",
    "$$\n",
    "\\begin{aligned}\n",
    "m \\ddot{\\psi}_a & = - k \\left[ (l_o + \\psi_a) - l_0 \\right] + k \\left[ (2 l_0 + \\psi_b) - (l_0 + \\psi_a) - l_0 \\right] = -k \\psi_a + k (\\psi_b - \\psi_a) = -k (2\\psi_a - \\psi_b) \\\\\n",
    "\\frac{2m}{3} \\ddot{\\psi}_b & = -  k \\left( (2 l_o+ \\psi_b) - (l_o + \\psi_a) - l_0 \\right)= -k (\\psi_b - \\psi_a)\n",
    "\\end{aligned}\n",
    "$$"
   ]
  },
  {
   "cell_type": "code",
   "execution_count": 7,
   "metadata": {},
   "outputs": [
    {
     "data": {
      "image/png": "[encoded data removed]",
      "text/latex": [
       "$\\displaystyle m \\ddot{\\psi}_{a} = - k \\left(2 \\psi_{a} - \\psi_{b}\\right)$"
      ],
      "text/plain": [
       "m⋅ψₐ̈ = -k⋅(2⋅ψₐ - ψ_b)"
      ]
     },
     "execution_count": 7,
     "metadata": {},
     "output_type": "execute_result"
    }
   ],
   "source": [
    "sym.Eq(m* y_a.subs(psis).diff(t,2), -Vpsi.rhs.diff(psi_a).simplify() )"
   ]
  },
  {
   "cell_type": "code",
   "execution_count": 8,
   "metadata": {},
   "outputs": [
    {
     "data": {
      "image/png": "[encoded data removed]",
      "text/latex": [
       "$\\displaystyle \\frac{2 m \\ddot{\\psi}_{b}}{3} = - k \\left(- \\psi_{a} + \\psi_{b}\\right)$"
      ],
      "text/plain": [
       "2⋅m⋅ψ_̈b                 \n",
       "─────── = -k⋅(-ψₐ + ψ_b)\n",
       "   3                    "
      ]
     },
     "execution_count": 8,
     "metadata": {},
     "output_type": "execute_result"
    }
   ],
   "source": [
    "sym.Eq(sym.Rational(2,3)* m* y_b.subs(psis).diff(t,2), -Vpsi.rhs.diff(psi_b).simplify() )"
   ]
  },
  {
   "cell_type": "markdown",
   "metadata": {},
   "source": [
    "Queda un sistema de ecuaciones diferenciales lineales acopladas\n",
    "$$\n",
    "\\left \\{\n",
    "\\begin{matrix}\n",
    "m \\ddot{\\psi}_a = - k (2 \\psi_a - \\psi_b)\\\\\n",
    "\\frac{2m}{3} \\ddot{\\psi}_b = -k ( \\psi_b - \\psi_a)\n",
    "\\end{matrix}\n",
    "\\right .\n",
    ",\n",
    "$$\n",
    "que puede escribirse en forma matricial"
   ]
  },
  {
   "cell_type": "code",
   "execution_count": 9,
   "metadata": {},
   "outputs": [
    {
     "data": {
      "text/latex": [
       "$\\displaystyle \\left[\\begin{matrix}m & 0\\\\0 & \\frac{3 m}{2}\\end{matrix}\\right] \\left[\\begin{matrix}\\ddot{\\psi}_{a}\\\\\\ddot{\\psi}_{b}\\end{matrix}\\right] = - k \\left[\\begin{matrix}2 & -1\\\\-1 & 1\\end{matrix}\\right] \\left[\\begin{matrix}\\psi_{a}\\\\\\psi_{b}\\end{matrix}\\right]$"
      ],
      "text/plain": [
       "⎡m   0 ⎤                          \n",
       "⎢      ⎥ ⎡ψₐ̈ ⎤      ⎡2   -1⎤ ⎡ψₐ ⎤\n",
       "⎢   3⋅m⎥⋅⎢   ⎥ = -k⋅⎢      ⎥⋅⎢   ⎥\n",
       "⎢0  ───⎥ ⎣ψ_̈b⎦      ⎣-1  1 ⎦ ⎣ψ_b⎦\n",
       "⎣    2 ⎦                          "
      ]
     },
     "execution_count": 9,
     "metadata": {},
     "output_type": "execute_result"
    }
   ],
   "source": [
    "vecPsi = sym.Matrix([[psi_a], [psi_b] ] )\n",
    "matM = sym.Matrix([\n",
    "    [1, 0],\n",
    "    [0,'3/2']\n",
    "] )\n",
    "matK = sym.Matrix([\n",
    "    [2, -1],\n",
    "    [-1,1]\n",
    "] )\n",
    "sym.Eq(sym.MatMul(matM* m, vecPsi.diff().diff() ), sym.MatMul(-k, matK, vecPsi) )"
   ]
  },
  {
   "cell_type": "markdown",
   "metadata": {},
   "source": [
    "Que se escriben como\n",
    "$$\n",
    "\\mathbb{M} \\ddot{\\vec{\\Psi}} = -\\mathbb{K} \\vec{\\Psi},\n",
    "$$\n",
    "donde $\\mathbb{M}$ es una matríz con la información de las masas y $\\mathbb{K}$ tiene los coeficientes de dureza de los resortes.\n",
    "\n",
    "Como $\\mathbb{M}$ diagonal nada impide despejar $\\ddot{\\vec{\\Psi}}$ y llevar a la forma más usual\n",
    "$$\n",
    "\\ddot{\\vec{\\Psi}} = -\\mathbb{K}' \\vec{\\Psi},\n",
    "$$\n",
    "donde $\\mathbb{K}'$ está normalizada con las $m$."
   ]
  },
  {
   "cell_type": "code",
   "execution_count": 10,
   "metadata": {},
   "outputs": [
    {
     "data": {
      "text/latex": [
       "$\\displaystyle \\left[\\begin{matrix}\\ddot{\\psi}_{a}\\\\\\ddot{\\psi}_{b}\\end{matrix}\\right] = \\left[\\begin{matrix}- \\frac{2 k}{m} & \\frac{k}{m}\\\\\\frac{3 k}{2 m} & - \\frac{3 k}{2 m}\\end{matrix}\\right] \\left[\\begin{matrix}\\psi_{a}\\\\\\psi_{b}\\end{matrix}\\right]$"
      ],
      "text/plain": [
       "        ⎡-2⋅k     k  ⎤      \n",
       "        ⎢─────    ─  ⎥      \n",
       "⎡ψₐ̈ ⎤   ⎢  m      m  ⎥ ⎡ψₐ ⎤\n",
       "⎢   ⎥ = ⎢            ⎥⋅⎢   ⎥\n",
       "⎣ψ_̈b⎦   ⎢ 3⋅k   -3⋅k ⎥ ⎣ψ_b⎦\n",
       "        ⎢ ───   ─────⎥      \n",
       "        ⎣ 2⋅m    2⋅m ⎦      "
      ]
     },
     "execution_count": 10,
     "metadata": {},
     "output_type": "execute_result"
    }
   ],
   "source": [
    "vecPsi = sym.Matrix([[psi_a], [psi_b] ] )\n",
    "matrízKprima = -(k/m)* sym.Matrix([\n",
    "    [2, -1],\n",
    "    ['-3/2','3/2']\n",
    "] )\n",
    "sym.Eq(sym.MatMul(vecPsi.diff().diff() ), sym.MatMul(matrízKprima, vecPsi) )"
   ]
  },
  {
   "cell_type": "markdown",
   "metadata": {},
   "source": [
    "## Resolución del sistema de ecuaciones diferenciales\n",
    "\n",
    "Proponiendo la solución $\\psi= \\psi_0 \\mathrm{e}^{i \\omega t}$, se llega a que\n",
    "$$\n",
    "\\ddot{\\psi} =  (-i \\omega)^2 \\psi= - \\omega^2 \\psi\n",
    "$$ \n",
    "lo que permite escribir el sistema como"
   ]
  },
  {
   "cell_type": "code",
   "execution_count": 11,
   "metadata": {},
   "outputs": [
    {
     "data": {
      "text/latex": [
       "$\\displaystyle - \\omega^{2} \\left[\\begin{matrix}\\psi_{a}\\\\\\psi_{b}\\end{matrix}\\right] = \\left[\\begin{matrix}- \\frac{2 k}{m} & \\frac{k}{m}\\\\\\frac{3 k}{2 m} & - \\frac{3 k}{2 m}\\end{matrix}\\right] \\left[\\begin{matrix}\\psi_{a}\\\\\\psi_{b}\\end{matrix}\\right]$"
      ],
      "text/plain": [
       "            ⎡-2⋅k     k  ⎤      \n",
       "            ⎢─────    ─  ⎥      \n",
       "  2 ⎡ψₐ ⎤   ⎢  m      m  ⎥ ⎡ψₐ ⎤\n",
       "-ω ⋅⎢   ⎥ = ⎢            ⎥⋅⎢   ⎥\n",
       "    ⎣ψ_b⎦   ⎢ 3⋅k   -3⋅k ⎥ ⎣ψ_b⎦\n",
       "            ⎢ ───   ─────⎥      \n",
       "            ⎣ 2⋅m    2⋅m ⎦      "
      ]
     },
     "execution_count": 11,
     "metadata": {},
     "output_type": "execute_result"
    }
   ],
   "source": [
    "omega= sym.Symbol('omega', positive=True)\n",
    "sym.Eq(sym.MatMul(- omega**2, vecPsi), sym.MatMul(matrízKprima, vecPsi))"
   ]
  },
  {
   "cell_type": "markdown",
   "metadata": {},
   "source": [
    "Esto nos permite agrupar todo a un lado del signo de igualdad"
   ]
  },
  {
   "cell_type": "code",
   "execution_count": 12,
   "metadata": {},
   "outputs": [
    {
     "data": {
      "text/latex": [
       "$\\displaystyle \\left[\\begin{matrix}- \\frac{2 k}{m} + \\omega^{2} & \\frac{k}{m}\\\\\\frac{3 k}{2 m} & - \\frac{3 k}{2 m} + \\omega^{2}\\end{matrix}\\right] \\left[\\begin{matrix}\\psi_{a}\\\\\\psi_{b}\\end{matrix}\\right] = 0$"
      ],
      "text/plain": [
       "⎡  2⋅k    2      k     ⎤          \n",
       "⎢- ─── + ω       ─     ⎥          \n",
       "⎢   m            m     ⎥ ⎡ψₐ ⎤    \n",
       "⎢                      ⎥⋅⎢   ⎥ = 0\n",
       "⎢   3⋅k        3⋅k    2⎥ ⎣ψ_b⎦    \n",
       "⎢   ───      - ─── + ω ⎥          \n",
       "⎣   2⋅m        2⋅m     ⎦          "
      ]
     },
     "execution_count": 12,
     "metadata": {},
     "output_type": "execute_result"
    }
   ],
   "source": [
    "sistema = omega**2* sym.eye(2)+ matrízKprima\n",
    "sym.Eq(sym.MatMul(sistema, vecPsi), 0, evaluate= False)"
   ]
  },
  {
   "cell_type": "markdown",
   "metadata": {},
   "source": [
    "Para evitar la solución trivial $\\psi_1= \\psi_2= 0$ el determinante de la matriz debe ser nulo.\n",
    "Se obtiene así un polinomio característico correspondiente a la matríz $\\mathbb{K}'$ en función de los $\\omega^2$ que son los autovalores para esta matríz,"
   ]
  },
  {
   "cell_type": "code",
   "execution_count": 13,
   "metadata": {},
   "outputs": [
    {
     "data": {
      "image/png": "[encoded data removed]",
      "text/latex": [
       "$\\displaystyle \\frac{3 k^{2}}{2 m^{2}} - \\frac{7 k \\omega^{2}}{2 m} + \\omega^{4} = 0$"
      ],
      "text/plain": [
       "   2        2         \n",
       "3⋅k    7⋅k⋅ω     4    \n",
       "──── - ────── + ω  = 0\n",
       "   2    2⋅m           \n",
       "2⋅m                   "
      ]
     },
     "execution_count": 13,
     "metadata": {},
     "output_type": "execute_result"
    }
   ],
   "source": [
    "detSistema = sym.det(sistema)\n",
    "sym.Eq(detSistema, 0, evaluate= False).simplify()"
   ]
  },
  {
   "cell_type": "markdown",
   "metadata": {},
   "source": [
    "De las raices se obtienen las $\\omega$ de los modos normales"
   ]
  },
  {
   "cell_type": "code",
   "execution_count": 14,
   "metadata": {},
   "outputs": [
    {
     "data": {
      "image/png": "[encoded data removed]",
      "text/latex": [
       "$\\displaystyle \\left[ - \\frac{\\sqrt{2} \\sqrt{\\frac{k}{m}}}{2}, \\  \\frac{\\sqrt{2} \\sqrt{\\frac{k}{m}}}{2}, \\  - \\sqrt{3} \\sqrt{\\frac{k}{m}}, \\  \\sqrt{3} \\sqrt{\\frac{k}{m}}\\right]$"
      ],
      "text/plain": [
       "⎡        ___          ___                         ⎤\n",
       "⎢       ╱ k          ╱ k                          ⎥\n",
       "⎢-√2⋅  ╱  ─    √2⋅  ╱  ─           ___         ___⎥\n",
       "⎢    ╲╱   m       ╲╱   m          ╱ k         ╱ k ⎥\n",
       "⎢────────────, ──────────, -√3⋅  ╱  ─ , √3⋅  ╱  ─ ⎥\n",
       "⎣     2            2           ╲╱   m      ╲╱   m ⎦"
      ]
     },
     "execution_count": 14,
     "metadata": {},
     "output_type": "execute_result"
    }
   ],
   "source": [
    "frecModos = sym.solve(detSistema,omega)\n",
    "frecModos"
   ]
  },
  {
   "cell_type": "markdown",
   "metadata": {},
   "source": [
    "Las $\\omega$ negativas no tienen sentido físico, por lo que nos quedamos con las dos correspondientes a este sistema de sendos grados de libertad:"
   ]
  },
  {
   "cell_type": "code",
   "execution_count": 15,
   "metadata": {},
   "outputs": [
    {
     "data": {
      "image/png": "[encoded data removed]",
      "text/latex": [
       "$\\displaystyle \\left( \\omega_{1} = \\frac{\\sqrt{2} \\sqrt{\\frac{k}{m}}}{2}, \\  \\omega_{2} = \\sqrt{3} \\sqrt{\\frac{k}{m}}\\right)$"
      ],
      "text/plain": [
       "⎛            ___                 ⎞\n",
       "⎜           ╱ k                  ⎟\n",
       "⎜     √2⋅  ╱  ─               ___⎟\n",
       "⎜        ╲╱   m              ╱ k ⎟\n",
       "⎜ω₁ = ──────────, ω₂ = √3⋅  ╱  ─ ⎟\n",
       "⎝         2               ╲╱   m ⎠"
      ]
     },
     "execution_count": 15,
     "metadata": {},
     "output_type": "execute_result"
    }
   ],
   "source": [
    "omega_1, omega_2 = sym.symbols('omega_1, omega_2', positive=True)\n",
    "omega1 = sym.Eq(omega_1, sym.simplify(frecModos[1]) )\n",
    "omega2 = sym.Eq(omega_2, sym.simplify(frecModos[3]) )\n",
    "omega1, omega2"
   ]
  },
  {
   "cell_type": "markdown",
   "metadata": {},
   "source": [
    "Se hace usualmente un ordenamiento de menor a mayor de las frecuencias, pues como se verá luego, una mayor frecuencia está asociada a un movimiento _más violento_."
   ]
  },
  {
   "cell_type": "markdown",
   "metadata": {},
   "source": [
    "### Autovalores sin tanto esfuerzo"
   ]
  },
  {
   "cell_type": "markdown",
   "metadata": {},
   "source": [
    "Por supuesto `sympy` puede calcular los $\\omega_i$ sin que deba calcularse el polinomio característico de $\\mathbb{K}'$ y obtener sus raices."
   ]
  },
  {
   "cell_type": "code",
   "execution_count": 16,
   "metadata": {},
   "outputs": [
    {
     "data": {
      "image/png": "[encoded data removed]",
      "text/latex": [
       "$\\displaystyle \\left[ \\frac{k}{2 m}, \\  \\frac{3 k}{m}\\right]$"
      ],
      "text/plain": [
       "⎡ k   3⋅k⎤\n",
       "⎢───, ───⎥\n",
       "⎣2⋅m   m ⎦"
      ]
     },
     "execution_count": 16,
     "metadata": {},
     "output_type": "execute_result"
    }
   ],
   "source": [
    "omegasCuadrado = (-matrízKprima).eigenvals(multiple=True) # múltiple: devuelve lista\n",
    "omegasCuadrado"
   ]
  },
  {
   "cell_type": "code",
   "execution_count": 17,
   "metadata": {},
   "outputs": [
    {
     "data": {
      "image/png": "[encoded data removed]",
      "text/latex": [
       "$\\displaystyle \\left( \\omega_{1} = \\frac{\\sqrt{2} \\sqrt{\\frac{k}{m}}}{2}, \\  \\omega_{2} = \\sqrt{3} \\sqrt{\\frac{k}{m}}\\right)$"
      ],
      "text/plain": [
       "⎛            ___                 ⎞\n",
       "⎜           ╱ k                  ⎟\n",
       "⎜     √2⋅  ╱  ─               ___⎟\n",
       "⎜        ╲╱   m              ╱ k ⎟\n",
       "⎜ω₁ = ──────────, ω₂ = √3⋅  ╱  ─ ⎟\n",
       "⎝         2               ╲╱   m ⎠"
      ]
     },
     "execution_count": 17,
     "metadata": {},
     "output_type": "execute_result"
    }
   ],
   "source": [
    "sym.Eq(omega_1, sym.sqrt(omegasCuadrado[0]) ), sym.Eq(omega_2, sym.sqrt(omegasCuadrado[1]) )"
   ]
  },
  {
   "cell_type": "markdown",
   "metadata": {},
   "source": [
    "## Modos normales\n",
    "Con cada una de las $\\omega$ obtenidas da una solución válida al sistema de ecuaciones diferenciales del estilo que obtuvimos para el oscilador de un solo grado de libertad.\n",
    "Pero con dos grados de libertad habrá que definir la relación de amplitudes entre cada uno de estos, lo que escribiremos como un vector $\\vec{\\xi}_i$.\n",
    "\n",
    "### Modo para $\\omega_1$\n",
    "Para $\\omega_1$ corresponderá una relación de amplitudes para cada masa"
   ]
  },
  {
   "cell_type": "code",
   "execution_count": 18,
   "metadata": {},
   "outputs": [
    {
     "data": {
      "text/latex": [
       "$\\displaystyle \\vec{\\xi}_1 = \\left[\\begin{matrix}\\xi_{1 a}\\\\\\xi_{1 b}\\end{matrix}\\right]$"
      ],
      "text/plain": [
       "             ⎡ξ₁ ₐ ⎤\n",
       "\\vec{\\xi}₁ = ⎢     ⎥\n",
       "             ⎣ξ_1_b⎦"
      ]
     },
     "execution_count": 18,
     "metadata": {},
     "output_type": "execute_result"
    }
   ],
   "source": [
    "xi1, xi1a, xi1b = sym.physics.mechanics.dynamicsymbols(r'\\vec{\\xi}_1, xi_1_a, xi_1_b')\n",
    "vecXi1 = sym.Eq(xi1, sym.Matrix([[xi1a], [xi1b] ] ), evaluate= False )\n",
    "vecXi1"
   ]
  },
  {
   "cell_type": "markdown",
   "metadata": {},
   "source": [
    "y una fase $\\phi_1$ en su solucíon general:"
   ]
  },
  {
   "cell_type": "code",
   "execution_count": 19,
   "metadata": {},
   "outputs": [
    {
     "data": {
      "text/latex": [
       "$\\displaystyle \\left[\\begin{matrix}\\psi_{a}\\\\\\psi_{b}\\end{matrix}\\right] = \\vec{\\xi}_1 \\cos{\\left(\\omega_{1} t + \\phi_{1} \\right)}$"
      ],
      "text/plain": [
       "⎡ψₐ ⎤                            \n",
       "⎢   ⎥ = \\vec{\\xi}₁⋅cos(ω₁⋅t + φ₁)\n",
       "⎣ψ_b⎦                            "
      ]
     },
     "execution_count": 19,
     "metadata": {},
     "output_type": "execute_result"
    }
   ],
   "source": [
    "phi_1 = sym.Symbol('phi_1')\n",
    "t = sym.Symbol('t')\n",
    "soluciónOmega1 = vecXi1.lhs* sym.cos(omega1.lhs* t+ phi_1)\n",
    "sym.Eq(sym.MatMul(vecPsi), soluciónOmega1, evaluate=False)"
   ]
  },
  {
   "cell_type": "markdown",
   "metadata": {},
   "source": [
    "¿Como obtener este vector $\\vec{\\xi}_1$?\n",
    "Si reemplazamos esta solución en"
   ]
  },
  {
   "cell_type": "code",
   "execution_count": 20,
   "metadata": {},
   "outputs": [
    {
     "data": {
      "text/latex": [
       "$\\displaystyle \\left[\\begin{matrix}- \\frac{2 k}{m} + \\omega^{2} & \\frac{k}{m}\\\\\\frac{3 k}{2 m} & - \\frac{3 k}{2 m} + \\omega^{2}\\end{matrix}\\right] \\left[\\begin{matrix}\\psi_{a}\\\\\\psi_{b}\\end{matrix}\\right] = 0$"
      ],
      "text/plain": [
       "⎡  2⋅k    2      k     ⎤          \n",
       "⎢- ─── + ω       ─     ⎥          \n",
       "⎢   m            m     ⎥ ⎡ψₐ ⎤    \n",
       "⎢                      ⎥⋅⎢   ⎥ = 0\n",
       "⎢   3⋅k        3⋅k    2⎥ ⎣ψ_b⎦    \n",
       "⎢   ───      - ─── + ω ⎥          \n",
       "⎣   2⋅m        2⋅m     ⎦          "
      ]
     },
     "execution_count": 20,
     "metadata": {},
     "output_type": "execute_result"
    }
   ],
   "source": [
    "sym.Eq(sym.MatMul(sistema, vecPsi), 0, evaluate=False)"
   ]
  },
  {
   "cell_type": "code",
   "execution_count": 21,
   "metadata": {},
   "outputs": [
    {
     "data": {
      "text/latex": [
       "$\\displaystyle \\left[\\begin{matrix}- \\frac{2 k}{m} + \\omega_{1}^{2} & \\frac{k}{m}\\\\\\frac{3 k}{2 m} & - \\frac{3 k}{2 m} + \\omega_{1}^{2}\\end{matrix}\\right] \\left(\\vec{\\xi}_1 \\cos{\\left(\\omega_{1} t + \\phi_{1} \\right)}\\right) = 0$"
      ],
      "text/plain": [
       "⎡  2⋅k     2       k     ⎤                              \n",
       "⎢- ─── + ω₁        ─     ⎥                              \n",
       "⎢   m              m     ⎥                              \n",
       "⎢                        ⎥⋅\\vec{\\xi}₁⋅cos(ω₁⋅t + φ₁) = 0\n",
       "⎢    3⋅k        3⋅k     2⎥                              \n",
       "⎢    ───      - ─── + ω₁ ⎥                              \n",
       "⎣    2⋅m        2⋅m      ⎦                              "
      ]
     },
     "execution_count": 21,
     "metadata": {},
     "output_type": "execute_result"
    }
   ],
   "source": [
    "sym.Eq(sym.MatMul(sistema.subs(omega, omega1.lhs), soluciónOmega1 ), 0, evaluate=False)"
   ]
  },
  {
   "cell_type": "markdown",
   "metadata": {},
   "source": [
    "Ya que el coseno no debe ser nulo en todo $t$ nos encontramos que reemplazando por el valor de $\\omega_1$"
   ]
  },
  {
   "cell_type": "code",
   "execution_count": 22,
   "metadata": {},
   "outputs": [
    {
     "data": {
      "text/latex": [
       "$\\displaystyle \\left[\\begin{matrix}- \\frac{3 k}{2 m} & \\frac{k}{m}\\\\\\frac{3 k}{2 m} & - \\frac{k}{m}\\end{matrix}\\right] \\left[\\begin{matrix}\\xi_{1 a}\\\\\\xi_{1 b}\\end{matrix}\\right] = 0$"
      ],
      "text/plain": [
       "⎡-3⋅k    k ⎤            \n",
       "⎢─────   ─ ⎥            \n",
       "⎢ 2⋅m    m ⎥ ⎡ξ₁ ₐ ⎤    \n",
       "⎢          ⎥⋅⎢     ⎥ = 0\n",
       "⎢ 3⋅k   -k ⎥ ⎣ξ_1_b⎦    \n",
       "⎢ ───   ───⎥            \n",
       "⎣ 2⋅m    m ⎦            "
      ]
     },
     "execution_count": 22,
     "metadata": {},
     "output_type": "execute_result"
    }
   ],
   "source": [
    "sysXi1= sym.Eq(sym.MatMul(sistema.subs(omega, omega1.rhs), vecXi1.rhs ), 0, evaluate=False)\n",
    "sysXi1"
   ]
  },
  {
   "cell_type": "markdown",
   "metadata": {},
   "source": [
    "Despejando de la primera o segunda ecuación nos queda idéntica relación, $\\xi_{1b}= \\frac{3}{2} \\xi_{1a}$, por tanto"
   ]
  },
  {
   "cell_type": "code",
   "execution_count": 23,
   "metadata": {},
   "outputs": [
    {
     "data": {
      "text/latex": [
       "$\\displaystyle \\vec{\\xi}_1 = \\left[\\begin{matrix}\\frac{2}{3}\\\\1\\end{matrix}\\right]$"
      ],
      "text/plain": [
       "             ⎡2/3⎤\n",
       "\\vec{\\xi}₁ = ⎢   ⎥\n",
       "             ⎣ 1 ⎦"
      ]
     },
     "execution_count": 23,
     "metadata": {},
     "output_type": "execute_result"
    }
   ],
   "source": [
    "vecXi1Subs= sym.Eq(vecXi1.lhs, vecXi1.rhs.subs([(xi1a, '2/3'), (xi1b, 1 ) ] ), evaluate= False )\n",
    "vecXi1Subs"
   ]
  },
  {
   "cell_type": "markdown",
   "metadata": {},
   "source": [
    "Si el sistema oscilará con $\\omega= \\omega_1$ ambas masas subirían o bajarían, solo que la de más abajo se distanciaría de su posición de equilibrio 3/2 veces más que la de arriba."
   ]
  },
  {
   "cell_type": "markdown",
   "metadata": {},
   "source": [
    "### Modo para $\\omega_2$\n",
    "Seguimos el mismo procedimento para $\\omega_2$"
   ]
  },
  {
   "cell_type": "code",
   "execution_count": 24,
   "metadata": {},
   "outputs": [
    {
     "data": {
      "text/latex": [
       "$\\displaystyle \\vec{\\xi}_2 = \\left[\\begin{matrix}\\xi_{2 a}\\\\\\xi_{2 b}\\end{matrix}\\right]$"
      ],
      "text/plain": [
       "             ⎡ξ₂ ₐ ⎤\n",
       "\\vec{\\xi}₂ = ⎢     ⎥\n",
       "             ⎣ξ_2_b⎦"
      ]
     },
     "execution_count": 24,
     "metadata": {},
     "output_type": "execute_result"
    }
   ],
   "source": [
    "xi2, xi2a, xi2b = sym.physics.mechanics.dynamicsymbols(r'\\vec{\\xi}_2, xi_2_a, xi_2_b')\n",
    "vecXi2 = sym.Eq(xi2, sym.Matrix([[xi2a], [xi2b] ] ), evaluate= False )\n",
    "vecXi2"
   ]
  },
  {
   "cell_type": "code",
   "execution_count": 25,
   "metadata": {},
   "outputs": [
    {
     "data": {
      "text/latex": [
       "$\\displaystyle \\left[\\begin{matrix}\\psi_{a}\\\\\\psi_{b}\\end{matrix}\\right] = \\vec{\\xi}_2 \\cos{\\left(\\omega_{2} t + \\phi_{2} \\right)}$"
      ],
      "text/plain": [
       "⎡ψₐ ⎤                            \n",
       "⎢   ⎥ = \\vec{\\xi}₂⋅cos(ω₂⋅t + φ₂)\n",
       "⎣ψ_b⎦                            "
      ]
     },
     "execution_count": 25,
     "metadata": {},
     "output_type": "execute_result"
    }
   ],
   "source": [
    "phi_2 = sym.Symbol('phi_2')\n",
    "soluciónOmega2 = vecXi2.lhs* sym.cos(omega2.lhs* t+ phi_2)\n",
    "sym.Eq(sym.MatMul(vecPsi), soluciónOmega2, evaluate=False)"
   ]
  },
  {
   "cell_type": "code",
   "execution_count": 26,
   "metadata": {},
   "outputs": [
    {
     "data": {
      "text/latex": [
       "$\\displaystyle \\left[\\begin{matrix}\\frac{k}{m} & \\frac{k}{m}\\\\\\frac{3 k}{2 m} & \\frac{3 k}{2 m}\\end{matrix}\\right] \\left[\\begin{matrix}\\xi_{2 a}\\\\\\xi_{2 b}\\end{matrix}\\right] = 0$"
      ],
      "text/plain": [
       "⎡ k    k ⎤            \n",
       "⎢ ─    ─ ⎥            \n",
       "⎢ m    m ⎥ ⎡ξ₂ ₐ ⎤    \n",
       "⎢        ⎥⋅⎢     ⎥ = 0\n",
       "⎢3⋅k  3⋅k⎥ ⎣ξ_2_b⎦    \n",
       "⎢───  ───⎥            \n",
       "⎣2⋅m  2⋅m⎦            "
      ]
     },
     "execution_count": 26,
     "metadata": {},
     "output_type": "execute_result"
    }
   ],
   "source": [
    "sysXi2= sym.Eq(sym.MatMul(sistema.subs(omega, omega2.rhs), vecXi2.rhs ), 0, evaluate=False)\n",
    "sysXi2"
   ]
  },
  {
   "cell_type": "markdown",
   "metadata": {},
   "source": [
    "Despejando de la primera o segunda ecuación nos queda idéntica relación, $\\xi_{2b}= - \\xi_{2a}$, con lo que obtuvimos"
   ]
  },
  {
   "cell_type": "code",
   "execution_count": 27,
   "metadata": {},
   "outputs": [
    {
     "data": {
      "text/latex": [
       "$\\displaystyle \\vec{\\xi}_2 = \\left[\\begin{matrix}-1\\\\1\\end{matrix}\\right]$"
      ],
      "text/plain": [
       "             ⎡-1⎤\n",
       "\\vec{\\xi}₂ = ⎢  ⎥\n",
       "             ⎣1 ⎦"
      ]
     },
     "execution_count": 27,
     "metadata": {},
     "output_type": "execute_result"
    }
   ],
   "source": [
    "vecXi2Subs= sym.Eq(vecXi2.lhs, vecXi2.rhs.subs([(xi2a, -1),(xi2b, 1) ]), evaluate= False )\n",
    "vecXi2Subs"
   ]
  },
  {
   "cell_type": "markdown",
   "metadata": {},
   "source": [
    "Si el sistema oscilara con $\\omega= \\omega_2$ cuando una masa sube la otra baja y visceversa con ídentica separacion de su posición de equilibrio."
   ]
  },
  {
   "cell_type": "markdown",
   "metadata": {},
   "source": [
    "## Autovectores\n",
    "los $\\vec{\\xi}_1$ son los autovectores asociados a los autovalores $\\omega_i^2$ de la matríz $\\mathbb{K}'$.\n",
    "Nuevamente, `sympy` puede obtenerlos con poco sufrimiento para el operador de la computadora. "
   ]
  },
  {
   "cell_type": "code",
   "execution_count": 28,
   "metadata": {},
   "outputs": [
    {
     "data": {
      "text/latex": [
       "$\\displaystyle \\left[ \\left( - \\frac{3 k}{m}, \\  1, \\  \\left[ \\left[\\begin{matrix}-1\\\\1\\end{matrix}\\right]\\right]\\right), \\  \\left( - \\frac{k}{2 m}, \\  1, \\  \\left[ \\left[\\begin{matrix}\\frac{2}{3}\\\\1\\end{matrix}\\right]\\right]\\right)\\right]$"
      ],
      "text/plain": [
       "⎡⎛-3⋅k      ⎡⎡-1⎤⎤⎞  ⎛-k      ⎡⎡2/3⎤⎤⎞⎤\n",
       "⎢⎜─────, 1, ⎢⎢  ⎥⎥⎟, ⎜───, 1, ⎢⎢   ⎥⎥⎟⎥\n",
       "⎣⎝  m       ⎣⎣1 ⎦⎦⎠  ⎝2⋅m     ⎣⎣ 1 ⎦⎦⎠⎦"
      ]
     },
     "execution_count": 28,
     "metadata": {},
     "output_type": "execute_result"
    }
   ],
   "source": [
    "autovectores = matrízKprima.eigenvects()\n",
    "autovectores"
   ]
  },
  {
   "cell_type": "markdown",
   "metadata": {},
   "source": [
    "Donde se indica (autovalor, multiplicidad y autovector).\n",
    "Por tanto"
   ]
  },
  {
   "cell_type": "code",
   "execution_count": 29,
   "metadata": {},
   "outputs": [
    {
     "data": {
      "text/latex": [
       "$\\displaystyle \\left( \\vec{\\xi}_1 = \\left[\\begin{matrix}\\frac{2}{3}\\\\1\\end{matrix}\\right], \\  \\vec{\\xi}_2 = \\left[\\begin{matrix}-1\\\\1\\end{matrix}\\right]\\right)$"
      ],
      "text/plain": [
       "⎛             ⎡2/3⎤               ⎡-1⎤⎞\n",
       "⎜\\vec{\\xi}₁ = ⎢   ⎥, \\vec{\\xi}₂ = ⎢  ⎥⎟\n",
       "⎝             ⎣ 1 ⎦               ⎣1 ⎦⎠"
      ]
     },
     "execution_count": 29,
     "metadata": {},
     "output_type": "execute_result"
    }
   ],
   "source": [
    "sym.Eq(vecXi1.lhs, autovectores[1][2][0], evaluate= False), sym.Eq(vecXi2.lhs, autovectores[0][2][0], evaluate= False)"
   ]
  },
  {
   "cell_type": "markdown",
   "metadata": {},
   "source": [
    "## Solución general\n",
    "Sabemos que la solución al sistema es la combinación lineal de ambas soluciones es"
   ]
  },
  {
   "cell_type": "code",
   "execution_count": 30,
   "metadata": {},
   "outputs": [
    {
     "data": {
      "text/latex": [
       "$\\displaystyle \\left[\\begin{matrix}\\psi_{a}\\\\\\psi_{b}\\end{matrix}\\right] = A_{1} \\vec{\\xi}_1 \\cos{\\left(\\omega_{1} t + \\phi_{1} \\right)} + A_{2} \\vec{\\xi}_2 \\cos{\\left(\\omega_{2} t + \\phi_{2} \\right)}$"
      ],
      "text/plain": [
       "⎡ψₐ ⎤                                                              \n",
       "⎢   ⎥ = A₁⋅\\vec{\\xi}₁⋅cos(ω₁⋅t + φ₁) + A₂⋅\\vec{\\xi}₂⋅cos(ω₂⋅t + φ₂)\n",
       "⎣ψ_b⎦                                                              "
      ]
     },
     "execution_count": 30,
     "metadata": {},
     "output_type": "execute_result"
    }
   ],
   "source": [
    "A_1, A_2 = sym.symbols('A_1, A_2') # símbolos varios\n",
    "soluciónGeneral= sym.Eq(vecPsi, A_1* soluciónOmega1 + A_2* soluciónOmega2, evaluate= False)\n",
    "soluciónGeneral"
   ]
  },
  {
   "cell_type": "markdown",
   "metadata": {},
   "source": [
    "con $A_i$ y $\\phi_i$ las amplitudes y fases de cada modo que deben responder a las condiciones iniciales."
   ]
  },
  {
   "cell_type": "code",
   "execution_count": 31,
   "metadata": {},
   "outputs": [
    {
     "data": {
      "text/latex": [
       "$\\displaystyle \\left[\\begin{matrix}\\psi_{a}\\\\\\psi_{b}\\end{matrix}\\right] = \\left[\\begin{matrix}\\frac{2 A_{1} \\cos{\\left(\\phi_{1} + \\frac{\\sqrt{2} t \\sqrt{\\frac{k}{m}}}{2} \\right)}}{3} - A_{2} \\cos{\\left(\\phi_{2} + \\sqrt{3} t \\sqrt{\\frac{k}{m}} \\right)}\\\\A_{1} \\cos{\\left(\\phi_{1} + \\frac{\\sqrt{2} t \\sqrt{\\frac{k}{m}}}{2} \\right)} + A_{2} \\cos{\\left(\\phi_{2} + \\sqrt{3} t \\sqrt{\\frac{k}{m}} \\right)}\\end{matrix}\\right]$"
      ],
      "text/plain": [
       "        ⎡        ⎛              ___⎞                            ⎤\n",
       "        ⎢        ⎜             ╱ k ⎟                            ⎥\n",
       "        ⎢        ⎜     √2⋅t⋅  ╱  ─ ⎟                            ⎥\n",
       "        ⎢        ⎜          ╲╱   m ⎟                            ⎥\n",
       "        ⎢2⋅A₁⋅cos⎜φ₁ + ────────────⎟         ⎛              ___⎞⎥\n",
       "        ⎢        ⎝          2      ⎠         ⎜             ╱ k ⎟⎥\n",
       "⎡ψₐ ⎤   ⎢─────────────────────────── - A₂⋅cos⎜φ₂ + √3⋅t⋅  ╱  ─ ⎟⎥\n",
       "⎢   ⎥ = ⎢             3                      ⎝          ╲╱   m ⎠⎥\n",
       "⎣ψ_b⎦   ⎢                                                       ⎥\n",
       "        ⎢       ⎛              ___⎞                             ⎥\n",
       "        ⎢       ⎜             ╱ k ⎟                             ⎥\n",
       "        ⎢       ⎜     √2⋅t⋅  ╱  ─ ⎟         ⎛              ___⎞ ⎥\n",
       "        ⎢       ⎜          ╲╱   m ⎟         ⎜             ╱ k ⎟ ⎥\n",
       "        ⎢ A₁⋅cos⎜φ₁ + ────────────⎟ + A₂⋅cos⎜φ₂ + √3⋅t⋅  ╱  ─ ⎟ ⎥\n",
       "        ⎣       ⎝          2      ⎠         ⎝          ╲╱   m ⎠ ⎦"
      ]
     },
     "execution_count": 31,
     "metadata": {},
     "output_type": "execute_result"
    }
   ],
   "source": [
    "sustitucionesDinámica = {\n",
    "    omega1.lhs: omega1.rhs,\n",
    "    omega2.lhs: omega2.rhs,\n",
    "    vecXi1.lhs: vecXi1Subs.rhs,\n",
    "    vecXi2.lhs: vecXi2Subs.rhs\n",
    "}\n",
    "dinámica= sym.Eq(vecPsi, soluciónGeneral.rhs.subs(sustitucionesDinámica), evaluate= False)\n",
    "dinámica"
   ]
  },
  {
   "cell_type": "markdown",
   "metadata": {},
   "source": [
    "## b) Condiciones iniciales\n",
    "Segun el enunciado en $t=0$"
   ]
  },
  {
   "cell_type": "code",
   "execution_count": 32,
   "metadata": {},
   "outputs": [
    {
     "data": {
      "text/latex": [
       "$\\displaystyle \\left[\\begin{matrix}\\psi_{a}{\\left(0 \\right)}\\\\\\psi_{b}{\\left(0 \\right)}\\end{matrix}\\right] = \\left[\\begin{matrix}\\frac{2 A_{1} \\cos{\\left(\\phi_{1} \\right)}}{3} - A_{2} \\cos{\\left(\\phi_{2} \\right)}\\\\A_{1} \\cos{\\left(\\phi_{1} \\right)} + A_{2} \\cos{\\left(\\phi_{2} \\right)}\\end{matrix}\\right]$"
      ],
      "text/plain": [
       "           ⎡2⋅A₁⋅cos(φ₁)             ⎤\n",
       "⎡ψₐ(0) ⎤   ⎢──────────── - A₂⋅cos(φ₂)⎥\n",
       "⎢      ⎥ = ⎢     3                   ⎥\n",
       "⎣ψ_b(0)⎦   ⎢                         ⎥\n",
       "           ⎣ A₁⋅cos(φ₁) + A₂⋅cos(φ₂) ⎦"
      ]
     },
     "execution_count": 32,
     "metadata": {},
     "output_type": "execute_result"
    }
   ],
   "source": [
    "dinámica.subs(t,0)"
   ]
  },
  {
   "cell_type": "markdown",
   "metadata": {},
   "source": [
    "se sabe que las posiciones son"
   ]
  },
  {
   "cell_type": "code",
   "execution_count": 33,
   "metadata": {},
   "outputs": [
    {
     "data": {
      "image/png": "[encoded data removed]",
      "text/latex": [
       "$\\displaystyle \\left\\{ \\psi_{a}{\\left(0 \\right)} : 1, \\  \\psi_{b}{\\left(0 \\right)} : 0\\right\\}$"
      ],
      "text/plain": [
       "{ψₐ(0): 1, ψ_b(0): 0}"
      ]
     },
     "execution_count": 33,
     "metadata": {},
     "output_type": "execute_result"
    }
   ],
   "source": [
    "condicionesPosición = {\n",
    "    dinámica.lhs[0].subs(t,0): 1,\n",
    "    dinámica.lhs[1].subs(t,0): 0,\n",
    "}\n",
    "condicionesPosición"
   ]
  },
  {
   "cell_type": "markdown",
   "metadata": {},
   "source": [
    "Pero aún tras esta substitución el número de incógnitas dobla el de ecuaciones."
   ]
  },
  {
   "cell_type": "code",
   "execution_count": 34,
   "metadata": {},
   "outputs": [
    {
     "data": {
      "text/latex": [
       "$\\displaystyle \\left[\\begin{matrix}1\\\\0\\end{matrix}\\right] = \\left[\\begin{matrix}\\frac{2 A_{1} \\cos{\\left(\\phi_{1} \\right)}}{3} - A_{2} \\cos{\\left(\\phi_{2} \\right)}\\\\A_{1} \\cos{\\left(\\phi_{1} \\right)} + A_{2} \\cos{\\left(\\phi_{2} \\right)}\\end{matrix}\\right]$"
      ],
      "text/plain": [
       "      ⎡2⋅A₁⋅cos(φ₁)             ⎤\n",
       "⎡1⎤   ⎢──────────── - A₂⋅cos(φ₂)⎥\n",
       "⎢ ⎥ = ⎢     3                   ⎥\n",
       "⎣0⎦   ⎢                         ⎥\n",
       "      ⎣ A₁⋅cos(φ₁) + A₂⋅cos(φ₂) ⎦"
      ]
     },
     "execution_count": 34,
     "metadata": {},
     "output_type": "execute_result"
    }
   ],
   "source": [
    "dinámicaCondiciónPosición = dinámica.subs(t,0).subs(condicionesPosición)\n",
    "dinámicaCondiciónPosición"
   ]
  },
  {
   "cell_type": "markdown",
   "metadata": {},
   "source": [
    "El enunciado da otra información al afirmar que el sistema \"se encuentra originalmente en reposo\".\n",
    "Esto significa que las velocidades inciales son nulas"
   ]
  },
  {
   "cell_type": "code",
   "execution_count": 35,
   "metadata": {},
   "outputs": [
    {
     "data": {
      "text/latex": [
       "$\\displaystyle \\left\\{ \\left. \\dot{\\psi}_{a} \\right|_{\\substack{ t=0 }} : 0, \\  \\left. \\dot{\\psi}_{b} \\right|_{\\substack{ t=0 }} : 0\\right\\}$"
      ],
      "text/plain": [
       "⎧(ψₐ̇)│   : 0, (ψ_̇b)│   : 0⎫\n",
       "⎨    │t=0          │t=0   ⎬\n",
       "⎩                         ⎭"
      ]
     },
     "execution_count": 35,
     "metadata": {},
     "output_type": "execute_result"
    }
   ],
   "source": [
    "condicionesVelocidad = {\n",
    "    dinámica.lhs[0].diff().subs(t,0): 0,\n",
    "    dinámica.lhs[1].diff().subs(t,0): 0,\n",
    "}\n",
    "condicionesVelocidad"
   ]
  },
  {
   "cell_type": "code",
   "execution_count": 36,
   "metadata": {},
   "outputs": [
    {
     "data": {
      "text/latex": [
       "$\\displaystyle \\left[\\begin{matrix}0\\\\0\\end{matrix}\\right] = \\left[\\begin{matrix}- \\frac{\\sqrt{2} A_{1} \\sqrt{\\frac{k}{m}} \\sin{\\left(\\phi_{1} \\right)}}{3} + \\sqrt{3} A_{2} \\sqrt{\\frac{k}{m}} \\sin{\\left(\\phi_{2} \\right)}\\\\- \\frac{\\sqrt{2} A_{1} \\sqrt{\\frac{k}{m}} \\sin{\\left(\\phi_{1} \\right)}}{2} - \\sqrt{3} A_{2} \\sqrt{\\frac{k}{m}} \\sin{\\left(\\phi_{2} \\right)}\\end{matrix}\\right]$"
      ],
      "text/plain": [
       "      ⎡            ___                                ⎤\n",
       "      ⎢           ╱ k                                 ⎥\n",
       "      ⎢  √2⋅A₁⋅  ╱  ─ ⋅sin(φ₁)             ___        ⎥\n",
       "      ⎢        ╲╱   m                     ╱ k         ⎥\n",
       "      ⎢- ───────────────────── + √3⋅A₂⋅  ╱  ─ ⋅sin(φ₂)⎥\n",
       "⎡0⎤   ⎢            3                   ╲╱   m         ⎥\n",
       "⎢ ⎥ = ⎢                                               ⎥\n",
       "⎣0⎦   ⎢            ___                                ⎥\n",
       "      ⎢           ╱ k                                 ⎥\n",
       "      ⎢  √2⋅A₁⋅  ╱  ─ ⋅sin(φ₁)             ___        ⎥\n",
       "      ⎢        ╲╱   m                     ╱ k         ⎥\n",
       "      ⎢- ───────────────────── - √3⋅A₂⋅  ╱  ─ ⋅sin(φ₂)⎥\n",
       "      ⎣            2                   ╲╱   m         ⎦"
      ]
     },
     "execution_count": 36,
     "metadata": {},
     "output_type": "execute_result"
    }
   ],
   "source": [
    "sym.Eq( sym.Matrix([[0], [0] ] ), dinámica.rhs.diff(t).subs(t, 0) )"
   ]
  },
  {
   "cell_type": "markdown",
   "metadata": {},
   "source": [
    "Pero hay un camino más sencillo que resolver un sistema que contemple estas dos ecuaciones de la condición para la velocidad y las otras tantas para la condición de la posición.\n",
    "\n",
    "De establecerse $\\phi_1= \\phi_2= 0$ esto asegura que las velocidades son nulas pues estas fases son argumento de los senos en todos los términos.\n",
    "Volviendo entonces a las condiciones sobre la posición con este dato."
   ]
  },
  {
   "cell_type": "code",
   "execution_count": 37,
   "metadata": {},
   "outputs": [
    {
     "data": {
      "text/latex": [
       "$\\displaystyle \\left[\\begin{matrix}1\\\\0\\end{matrix}\\right] = \\left[\\begin{matrix}\\frac{2 A_{1}}{3} - A_{2}\\\\A_{1} + A_{2}\\end{matrix}\\right]$"
      ],
      "text/plain": [
       "      ⎡2⋅A₁     ⎤\n",
       "⎡1⎤   ⎢──── - A₂⎥\n",
       "⎢ ⎥ = ⎢ 3       ⎥\n",
       "⎣0⎦   ⎢         ⎥\n",
       "      ⎣ A₁ + A₂ ⎦"
      ]
     },
     "execution_count": 37,
     "metadata": {},
     "output_type": "execute_result"
    }
   ],
   "source": [
    "amplitudesSistema= dinámicaCondiciónPosición.subs([(phi_1, 0), (phi_2, 0) ] )\n",
    "amplitudesSistema"
   ]
  },
  {
   "cell_type": "markdown",
   "metadata": {},
   "source": [
    "No es difícil obtener que $A_1= \\frac{3}{5}$ y $A_2= -\\frac{3}{5}$.\n",
    "Con lo que finalmente obtenemos una solución para estas condiciones iniciales:"
   ]
  },
  {
   "cell_type": "code",
   "execution_count": 38,
   "metadata": {},
   "outputs": [
    {
     "data": {
      "text/latex": [
       "$\\displaystyle \\left[\\begin{matrix}\\psi_{a}\\\\\\psi_{b}\\end{matrix}\\right] = \\left[\\begin{matrix}\\frac{2 \\cos{\\left(\\frac{\\sqrt{2} t \\sqrt{\\frac{k}{m}}}{2} \\right)}}{5} + \\frac{3 \\cos{\\left(\\sqrt{3} t \\sqrt{\\frac{k}{m}} \\right)}}{5}\\\\\\frac{3 \\cos{\\left(\\frac{\\sqrt{2} t \\sqrt{\\frac{k}{m}}}{2} \\right)}}{5} - \\frac{3 \\cos{\\left(\\sqrt{3} t \\sqrt{\\frac{k}{m}} \\right)}}{5}\\end{matrix}\\right]$"
      ],
      "text/plain": [
       "        ⎡     ⎛         ___⎞                      ⎤\n",
       "        ⎢     ⎜        ╱ k ⎟                      ⎥\n",
       "        ⎢     ⎜√2⋅t⋅  ╱  ─ ⎟        ⎛         ___⎞⎥\n",
       "        ⎢     ⎜     ╲╱   m ⎟        ⎜        ╱ k ⎟⎥\n",
       "        ⎢2⋅cos⎜────────────⎟   3⋅cos⎜√3⋅t⋅  ╱  ─ ⎟⎥\n",
       "        ⎢     ⎝     2      ⎠        ⎝     ╲╱   m ⎠⎥\n",
       "        ⎢─────────────────── + ───────────────────⎥\n",
       "⎡ψₐ ⎤   ⎢         5                     5         ⎥\n",
       "⎢   ⎥ = ⎢                                         ⎥\n",
       "⎣ψ_b⎦   ⎢     ⎛         ___⎞                      ⎥\n",
       "        ⎢     ⎜        ╱ k ⎟                      ⎥\n",
       "        ⎢     ⎜√2⋅t⋅  ╱  ─ ⎟        ⎛         ___⎞⎥\n",
       "        ⎢     ⎜     ╲╱   m ⎟        ⎜        ╱ k ⎟⎥\n",
       "        ⎢3⋅cos⎜────────────⎟   3⋅cos⎜√3⋅t⋅  ╱  ─ ⎟⎥\n",
       "        ⎢     ⎝     2      ⎠        ⎝     ╲╱   m ⎠⎥\n",
       "        ⎢─────────────────── - ───────────────────⎥\n",
       "        ⎣         5                     5         ⎦"
      ]
     },
     "execution_count": 38,
     "metadata": {},
     "output_type": "execute_result"
    }
   ],
   "source": [
    "coeficientesCondicionesIniciales = {\n",
    "    A_1: '3/5',\n",
    "    A_2: '-3/5',  \n",
    "    phi_1: 0,\n",
    "    phi_2: 0,\n",
    "}\n",
    "dinámicaCondicionesIniciales = dinámica.subs(coeficientesCondicionesIniciales)\n",
    "dinámicaCondicionesIniciales"
   ]
  },
  {
   "cell_type": "markdown",
   "metadata": {},
   "source": [
    "## Graficación de la dinámica\n"
   ]
  },
  {
   "cell_type": "markdown",
   "metadata": {},
   "source": [
    "Resulta útil que las funciones simbólica de `sympy` puedan ser convertidas en otras estríctamente numéricas compatibles con otras funciones básicas de `Python` o de la biblioteca numérica `numpy`.\n",
    "\n",
    "Para esto se usa el comando `lambdify` que retorna la función en un formato compatible con el módulo de Python indicado.\n",
    "Por defecto este módulo es el `numpy` que es la que usaremos a continuación.\n",
    "Obligatoriamente hay que indicar al menos una variable de la que depende la función.\n",
    "En este caso se indicó $t$, que se indicó en el momento de definir que las \\\\(\\Psi_i = \\Psi_i(t)\\\\).  "
   ]
  },
  {
   "cell_type": "code",
   "execution_count": 39,
   "metadata": {},
   "outputs": [],
   "source": [
    "k_magnitud = 100 # [N m-1]\n",
    "m_magnitud = 1 # [kg]\n",
    "parámetros ={\n",
    "    k : k_magnitud,\n",
    "    m : m_magnitud,\n",
    "}\n",
    "\n",
    "psiA_numpy = sym.lambdify(t, dinámicaCondicionesIniciales.rhs[0].subs(parámetros) )\n",
    "psiB_numpy = sym.lambdify(t, dinámicaCondicionesIniciales.rhs[1].subs(parámetros) )"
   ]
  },
  {
   "cell_type": "code",
   "execution_count": 40,
   "metadata": {},
   "outputs": [],
   "source": [
    "import numpy as np\n",
    "import matplotlib.pyplot as plt\n",
    "# plt.style.use('fivethirtyeight') #estilo\n",
    "import matplotlib as mpl\n",
    "mpl.style.use('fivethirtyeight') # estilo de gráficos con grilla y letras grandes\n"
   ]
  },
  {
   "cell_type": "code",
   "execution_count": 41,
   "metadata": {},
   "outputs": [
    {
     "data": {
      "text/plain": [
       "<matplotlib.legend.Legend at 0x7f434e48a278>"
      ]
     },
     "execution_count": 41,
     "metadata": {},
     "output_type": "execute_result"
    },
    {
     "data": {
      "image/png": "[encoded data removed]",
      "text/plain": [
       "<Figure size 864x288 with 1 Axes>"
      ]
     },
     "metadata": {},
     "output_type": "display_data"
    }
   ],
   "source": [
    "tiempos = np.linspace(0, 5, 1000) # [s]\n",
    "fig = plt.figure(figsize=(12, 4))\n",
    "ax = fig.add_axes([0, 0, 1, 1])\n",
    "ax.plot(tiempos, psiA_numpy(tiempos), 'r-', label= '$\\Psi_a$')\n",
    "ax.plot(tiempos, psiB_numpy(tiempos), 'b-', label= '$\\Psi_b$' )\n",
    "ax.set_xlabel('Tiempo [s]')\n",
    "ax.set_ylabel('$\\Psi_i$ [m]')\n",
    "ax.set_title('Apartamiento de la posición de equilibrio')\n",
    "ax.legend()"
   ]
  },
  {
   "cell_type": "markdown",
   "metadata": {},
   "source": [
    "Esta complejísima dinámica es fruto de que la condición inicial hizo que ambos $A_i \\neq 0$ por lo que vemos una superposición de los modos normales. "
   ]
  },
  {
   "cell_type": "markdown",
   "metadata": {},
   "source": [
    "## Animación\n",
    "Adaptación del notebook de María Luz Martínez Ricci, teórica de Depine, 2.o cuat. 2020  \n",
    "https://colab.research.google.com/drive/1kV613w-bnJn6584nc5YWX34Hp84YNfq3?usp=sharing#scrollTo=IlewqJ3dETVT"
   ]
  },
  {
   "cell_type": "markdown",
   "metadata": {},
   "source": [
    "Sería interesante poder mostrar como sería la dinámica de oscilar el sistema en uno solo de los modos normales.\n",
    "\n",
    "Una opción es imponer condiciones iniciales desde el reposo que sean proporcionales a \\\\(\\xi_i\\\\) de acuerdo al modo de que \\\\(\\omega_i\\\\) quiera verse oscilar el sistema.\n",
    "\n",
    "\n",
    "Anteriormente a la solucíon para cada \\\\(\\omega_i\\\\) las denominamos `soluciónOmegai` con `i=1,2`.\n",
    "\n",
    "Una animación de la dinámica en el caso en que se excita uno u otro de los modos puede obtenerse tan solo "
   ]
  },
  {
   "cell_type": "code",
   "execution_count": 42,
   "metadata": {},
   "outputs": [],
   "source": [
    "from matplotlib import animation, rc\n",
    "from IPython.display import HTML\n",
    "rc('animation', html='html5');"
   ]
  },
  {
   "cell_type": "code",
   "execution_count": 43,
   "metadata": {},
   "outputs": [
    {
     "data": {
      "image/png": "[encoded data removed]",
      "text/plain": [
       "<Figure size 432x288 with 1 Axes>"
      ]
     },
     "metadata": {},
     "output_type": "display_data"
    }
   ],
   "source": [
    "l0 = 3 # [m]\n",
    "fig, ax = plt.subplots();\n",
    "ax.set_xlabel('$x(t)$');\n",
    "ax.set_xlim((0,9));\n",
    "ax.set_ylim((-2,2));\n",
    "ax.grid(True);\n",
    "ax.plot([l0,l0], (-1.5,1.5), '--',color  = 'green');\n",
    "ax.plot([2*l0,2*l0], (-1.5,1.5), '--',color  = 'green');\n",
    "ax.text(3.02,1,'$l_0$',color = 'green');\n",
    "ax.text(6.02,1,'$2l_0$',color = 'green');"
   ]
  },
  {
   "cell_type": "code",
   "execution_count": 44,
   "metadata": {},
   "outputs": [],
   "source": [
    "linea, = ax.plot([],[],'o',ms = 10,color = 'r', label = 'Movimiento particula a',zorder = 3)\n",
    "lineResa, = ax.plot([],[],ls = '--',color = 'r', lw = 2, zorder = 2)\n",
    "lineb, = ax.plot([],[],'o',ms = 10,color = 'b', label = 'Movimiento particula b',zorder = 3)\n",
    "lineResb, = ax.plot([],[],ls = '--',color = 'b', lw = 2, zorder = 1)"
   ]
  },
  {
   "cell_type": "code",
   "execution_count": 45,
   "metadata": {},
   "outputs": [],
   "source": [
    "#MODO 1\n",
    "def MODO1(i):\n",
    "  t= np.linspace(0,15,1000)\n",
    "  x_a= psiA_numpy(t[i]) + l0\n",
    "  x_b= psiA_numpy(t[i]) + 2*l0\n",
    "  linea.set_data(x_a, 0)\n",
    "  lineResa.set_data([0,x_a],[0,0])\n",
    "  lineb.set_data(x_b, 0)\n",
    "  lineResb.set_data([0,x_b],[0,0])\n",
    "  return (linea,)"
   ]
  },
  {
   "cell_type": "code",
   "execution_count": 46,
   "metadata": {},
   "outputs": [
    {
     "data": {
      "text/html": [
       "<video width=\"432\" height=\"288\" controls autoplay loop>\n",
       "  <source type=\"video/mp4\" src=\"data:video/mp4;base64,AAAAHGZ0eXBNNFYgAAACAGlzb21pc28yYXZjMQAAAAhmcmVlAABQBW1kYXQAAAKtBgX//6ncRem9\n",
       "5tlIt5Ys2CDZI+7veDI2NCAtIGNvcmUgMTU1IHIyOTE3IDBhODRkOTggLSBILjI2NC9NUEVHLTQg\n",
       "QVZDIGNvZGVjIC0gQ29weWxlZnQgMjAwMy0yMDE4IC0gaHR0cDovL3d3dy52aWRlb2xhbi5vcmcv\n",
       "eDI2NC5odG1sIC0gb3B0aW9uczogY2FiYWM9MSByZWY9MyBkZWJsb2NrPTE6MDowIGFuYWx5c2U9\n",
       "MHgzOjB4MTEzIG1lPWhleCBzdWJtZT03IHBzeT0xIHBzeV9yZD0xLjAwOjAuMDAgbWl4ZWRfcmVm\n",
       "PTEgbWVfcmFuZ2U9MTYgY2hyb21hX21lPTEgdHJlbGxpcz0xIDh4OGRjdD0xIGNxbT0wIGRlYWR6\n",
       "b25lPTIxLDExIGZhc3RfcHNraXA9MSBjaHJvbWFfcXBfb2Zmc2V0PS0yIHRocmVhZHM9MyBsb29r\n",
       "YWhlYWRfdGhyZWFkcz0xIHNsaWNlZF90aHJlYWRzPTAgbnI9MCBkZWNpbWF0ZT0xIGludGVybGFj\n",
       "ZWQ9MCBibHVyYXlfY29tcGF0PTAgY29uc3RyYWluZWRfaW50cmE9MCBiZnJhbWVzPTMgYl9weXJh\n",
       "bWlkPTIgYl9hZGFwdD0xIGJfYmlhcz0wIGRpcmVjdD0xIHdlaWdodGI9MSBvcGVuX2dvcD0wIHdl\n",
       "aWdodHA9MiBrZXlpbnQ9MjUwIGtleWludF9taW49NiBzY2VuZWN1dD00MCBpbnRyYV9yZWZyZXNo\n",
       "PTAgcmNfbG9va2FoZWFkPTQwIHJjPWNyZiBtYnRyZWU9MSBjcmY9MjMuMCBxY29tcD0wLjYwIHFw\n",
       "bWluPTAgcXBtYXg9NjkgcXBzdGVwPTQgaXBfcmF0aW89MS40MCBhcT0xOjEuMDAAgAAAGplliIQA\n",
       "Ev/+963fgU24tf1rulc4tMurlDQ9UfaUpni2SAAAAwAH+v4QTPGoCCmYl7GcIBfJOyknW7jkEMzZ\n",
       "RSBvigoPz5mgP0QzOQysudOtxI3zTD/Qz9QPsE2HS3ulKfGlrwr1BIbOzdb6PA2IF7qbZTjoAAAE\n",
       "S6SO1ilXdbNUnV5rQOZjCl7pFbE1kUpUycDeLCV/ZoPI3cPa8PeJK2a68d8fatqnIpWn66uvXv1W\n",
       "m5LoNaOMo5fNzwHvqQXKtwS8Pl/YASySwyryETF7vQwa/T9ZvRmfk9ccLvigZB4f1UAlwz61nr/Y\n",
       "9ICf8JJJirV8jcM68RdvewZHL2oPZUU8K4Bebv04J9VhBc3vbzbsrSyaiscsks3LV3bJ1YP8ADxF\n",
       "1GmNJEsqQFXfWX6gcoB8AzCqQFXfWfXu+Nj/XNuvdswxroWFPA7fWUrfn24TMKE1/gaXswbACeaW\n",
       "OQTXb6q277U3XmcBKRf/1n7+ly+SWfFoVcno8GzZ0gIbq8Vse+PcInbl/h3elWLanW6KMQmp6zkx\n",
       "yXG2HsorXdTrQ2Mi5CCDEP5MGg3zYtGXQ29X2PWYwvABiAbQIMviG5SuqDWYPiuydkK1yjRkswnP\n",
       "4d/4iG1+9Onpa3jcrruDBOZB+W7+HdVfWiC373t2X2PpG/ieFToOf4FkaQLWjE35+NiIk4k79OD8\n",
       "7PsdmsgJ0twyw7cyB7F6FdlNdRZaiUCJbYWT23yl7WkLxdXy5xWQ89Hoy2nPqiyrmHPSx8sSltH9\n",
       "pCn9wBPIPxUBfQ0yoJmw6mbuKu4midvUbgTBecmE8NgCj8P4TFhpvtP/iF9jJQ4QclUvW40iBR46\n",
       "sf8u4y9Ls0JLYeqsCWC6zvl8m3rs1c1/PFuw2T7XXX1O9t+q3bStj6lE7dDv0GjIXy1S+NPVLtsd\n",
       "FW942xzv0TgXOWCWTBr9vpZYruYyOdvBdBTjJ//4+ZICeihIWfGoXNYt/Y5sLZSk10JRREQotD+i\n",
       "IAv/XcdA/rEuVTbmIThqnHbmgxqmcC2LR6QDPN0F/i2cls8T+8PG1V3Wy13DqQvFerYYSGGHDhUx\n",
       "79ofD0tnw2JuSFkGRQ2WATe3NQFFXm1c/oDTVvIFKLuOtLDCwgU4P8cvRkZUovIyylhoxMqQRaiG\n",
       "1P7EssTgN1mDfwvvsKAhtDISaY6sbymwa0muxxWG5ysp725EOoff0zQ/PEjPtpY3B5MyCk0uWS0N\n",
       "K4w2EiESKOMSUQ0OJKogMBDo1QLibxwofTOHOSIPbGT7Teb7X9EMNlE72uByqh6az0kmuayYyCT5\n",
       "GQFP0aeQ5kX53syt6A4YwQdUhR0Z+3j9QExQ3aaKFxX6fJgCe3r3KaZyazbAZTjuQZmwu7aylQcf\n",
       "gV/Jf8xhUBT0kOuJwVcBvyEaLCsVvRyBCqA9P1uTBt+5MWHRGmwFWTodah2Znta641+4HilFktbZ\n",
       "5c7IHCtcVlU0pVeq2Z1WK5UVDhMvwTRsJdwpHwLHEFLDnB8Hfg65cn3ds8j+XXHmxLwWMHXTvguy\n",
       "WeP/3pyOMkwbB+dYPDq2P2oifbeW8UriXGn8Y2VaSIDCt3XWAn4QvOBWOHyu4gd3YB7Wl03PitTL\n",
       "YADbE2f0YK/ING1d0nsXJp32eERB/V3ffDbiupYP/zl4A6b9znUsQFIxgXBdBFYPhBvk6fBP1AG4\n",
       "7WI3P/z5TeRU77YQKkDnRPXPCfGa44moqiL6S+VAouDaLLGBdYo9q+UCo/cHUerBoApINzpsj9pL\n",
       "rOS2RciXMYBajzXHDNcp5tVTBlVOsSglUk9N8lAeT+3it1ce+rBxk7J6MnxxVWXheNIGAAsF7M//\n",
       "zp8U/btvlE7L7jfXBtXdCfBY4yIPNoB7T095vT+0MUtgb6Sug/0xP9zh5XifBsFuWAD+he0rjPXJ\n",
       "GQQegv3vVZmhkCnggsWuWxbeFpXdad9pzl8Mx1M/ubK/MklLTJ2xnPoVNQsAap1o9XDrA70WlGzH\n",
       "iUidc3VyIsUykku5w/7MzQsRgbgDKXA3B9CLDfpYDgTwkhcrQgJBZ7JqnvtuwjC/HrJ6EuG747y9\n",
       "QbHBHpZDLp6HEcjc2Z6/n4Bp7xWf/frghTMHeH1gmqW578Bq7aqXsOUJCGd0v6vThTrPpttswlma\n",
       "kw41IDC1qgq9fG/P3KEZthrf+OT2qZdYBoAvDnpbrzcfW1iL3barEzMtr64nGzA5ycGKsuTZFZdP\n",
       "oFqr1unUC9f++ehhnWroSmA/pSQBywFJAPYSxEZjjZg+HoOEUqw4EenNSHxjkvZeoCj9eZV6oRmP\n",
       "rU+do86djKIuReLB6OFBsA6kasOmrTb8mPizJh67eUCtZL7ZzXVeHJ2kHOc3wrsaF+BdIWGupmPw\n",
       "L5OzIIzn3Rr3cVcSCQA6hgKLCCbYtxzLqUGGRrvWcsCBieS0JVdRmt4t3vKPPg0E7ghPU96QCu1x\n",
       "RIyzLYhZqonUuDTb0MfNQ4oXAbPgc7lH3kgzJOIDRqAIzJ675XiQgQTF0I9Gll/sNJzav8cb2mJD\n",
       "poQeAtzuUBET9Ti/wxsL6OSAMYg3S3zYYM5NrON1IpdG19HEIvv/nDWkGOwm8iUj4/HeuMi6npNV\n",
       "W9VB7ptQbUMx11mf9zDJectMZe0Nqn0KYD1VRAdeS/CHmf1XKqQ9LcyFTQtn9L700TAZp1cRdtRu\n",
       "NJir+Lw9SmhoB65PkZ5QlenBMu8PTeftO5Ors5JpaO4j8oldE5186RVz6bcWYVcBu3/eseTOKIRZ\n",
       "8m67pUISTqz0VegMD/2XeafDffz3pMWE4Ks0KqcRhVm2QZJN6+g42WPDHY8GClcAB0LN9Ptay9E2\n",
       "jreG2rg66JmkT3hqBSUUMOpmnSNusqztYRMJokEVY9NbGN3ua2E5htUHfGdMAPLvDvTIr/cyd6oT\n",
       "Xnbe6HUMiRz/tWjVh5zcUnZUuNelqVObVTOxwvxxhbvG4jDZ2lRbT2AEgBfp7p4Yzi50NHK8WZEp\n",
       "INr+E9V/1p6cgODpe/5t3G3cmrGw3pPzDyg0Mx4NeT8pxjsMI2mOnLQaMU94Af/gQ1Ym+sG9oVud\n",
       "7rILtr4zUTjdR51iHXwjxPt0hMjzTfzZv6PQK+BUGCrSAQz4HMHE96vwp//aYV0HP0Y21XuMp05m\n",
       "hUzDerV/r4wvSqr+7KaP7T7NK+2ETM9KQ9F1ZYzAiPQY/sGHlFy9h1y0NUWYzfdZ91XT0DcFqBFN\n",
       "ih1RCt/S1L+u5ZnqP29Qjvk1thNQwIpdulpVbjGZEULp+3/VAm9Op5IUMbXY2I/ueTYCZihDN5tu\n",
       "B9KVAMZKICA1/HlSPUMvACDTAr6/nWb0Hy0S3UF+e6obo2p0SFhYuAj6Ndt3CYUJELxo3rrWnrL9\n",
       "ps5xPWCWwyLnuCDVcgKwHiYAetU1ASbvHDc5deA7huz3iDK0AQsllQsC6uWAzRtvvFRxWB1rtaTV\n",
       "qwC7r+r0yvjc7bcztZcQB5ayv1B2+XKCMy3fvKjJ0agXWLwgmoaMtdQfP50FjCF6cDuzGW814gy3\n",
       "cANLKUdlBSxEfX1JWAJskVHhrDHNOd8iCZwM4OmV2gf7CTc3gpkjPJ3JxU8Ufm2/4n7dF8nnZLpE\n",
       "OmkR4fDfStduPr+KZiRLPYnaVfWR0DhTQv2qoKak4SHtSDrYTbABZVHbB0yfJNtX0flCah3/9pGb\n",
       "7ZtXh/85x8f/HsJZHdUZS3ZaCqVKnHUd9+zG9zvlzLsftyAn4JFHWFaYjoF5lW1KQzLG173xe+5s\n",
       "Z/yS8hyzGC1s42f8gNCw8WBR4ASlD3PbTR2PXh3Trv2je6hD4UTZrGC9uz+1fwn4HEEfXIVRvodP\n",
       "wfmrqm9DhHn9+vBXbgJJYG371oq+Gxai5Ce3Q/QhjBV2GYWxx33bQHFCi7Vu0UOixMARYjRjAYRl\n",
       "hWV775kuki7KXRkL50m/N8gJMMh44by+OJ2lRG89t+6z/YMsQw9N8G7vBN6mJxIGAbml0kUUq1w1\n",
       "VQavSfbQBsvMT8vGZZIZhqj+uq3qDtauBqsQSqQoh+NZBqGVIXs/4G1NqGkxsUwKuqSypjG27yoo\n",
       "h5/LrJ4m2Fb7KSMc5fSxh+PG4RwAFJYraEQu4vNGvNvkq8aMk6zQxs7+OTydEFhyKdhzzVXd3eui\n",
       "nn9qrhsyKagG6WdmRuKjYivNRbHdYWswVrz9L1azSeW72G4G54fA1Y12ae6gm78ADg4LzOroDeD/\n",
       "/8bDLs8Zs76x4NEqBslZXz7HlIYGnkaI9egU+AMUZKCmTXu4xS+gzHbGrpXY4Py0oDa0PlsMALhi\n",
       "Jeu1trSiUSiXe54kaunbSBDpUZK+xofiOXxTCrJYHW2GWbcxLLLbMqzsbwfHyoDpLhestTH4CsCR\n",
       "jYc2Y8nD/cdUAa9SL1aIgMbWlzvb1xA9t5lKtxuzG2yeOf/lIGiKiV6nGPpHbeZDUpRQ1XzHEN+e\n",
       "LJ0hVd3DY0iOlzjcISC2dvv016JMRD7vEG/QOyn+STz/Y1u1fXb5bwcgMzj4QMD5RI/AnucjQens\n",
       "9LPxYUe3lHOhujg9FZufz9KB8UKyo413ckMfP0Phrg4GeS7SP2mjQHLIUQzZCfP1j+QYu79fzXmn\n",
       "aOnd/ZhEIDiCDCPHA15iTsy1/xvFudlVvt7ZR2uoLGOfW9T2uxfm1Q0Hfx68QjY8PNHP/ik+Of8c\n",
       "LT4LvDuqYN0ye8sg10BzdaRC6Jc589pHFGy2tPjNF7WeQwNKzpbnhef2TZfmc7xPLNhPKxYn1KSM\n",
       "N7kK6N0YNlw8+KyWYUWooa7t7+IGBFiuORUqUOFYBtJ+GKl3adbBkBp1s1o+lSqmq7zJfxM6NvI2\n",
       "YbhurChFWlLYTZjam0HEYOD+vxTGT0GhxAQQVJTv2lrlDUlpQm/94us2Zow9OHLoU2LmGV0mLgoQ\n",
       "42fvt+GlcIN3xRBcszI/x3zvKSQUcvk2a3Dy80f0+KgZD/zkXYiu9dVPSTH5mZfbYBoLSIDr3EpJ\n",
       "nbh/o8IeztSHq/opCdwIJvew6g8A2HQddpnBn+cWcB+djUu43N9mWsA0Hw7TBpoGFUGIVygMij0X\n",
       "rJE0JAIxLzBv8oqREI5OBC5ffgtxt0Lbb62+MspQ8iQRLiyYboBHHvcRs86RDKIFkOWqItAKwBV1\n",
       "/yo+kv5ZwLzVF/I8u9VZc6ytT2Z/Otl9qKmtkvOomohltYy+mEaY2QJUOoygQdcI+zen6kxPS6+Q\n",
       "ePrHvpgkqNX9KcbMTMXanB01IUwRXeWjYxw0JH6uHZ8CaMkTl4r+Xdl6q0pToOqbHDKHGWntXjXz\n",
       "RAlIkeS2kTerRRHR1GTs/2NFWCRwi3mYUhusLX1eq3SDzEqQAQtuvr8ez/TZDBEBVsPPiNDPTykW\n",
       "xnCry+Zp4e/TqQCRynRUvIPQos/NjhnYl4luQxidTMtL5MDLFcJwjgt5OM61+ZAaq/Okc1HQlwkT\n",
       "91GcAdNPBNYkJYmdE7t1FeTm5uG9wbgh+zF93jV9H3JtqozM5WYXhZpNV4+aiIUW0dwpOYjjS8yY\n",
       "81fohzkeQPScRMVZ2+74B3YI1Qpnl5f/DPxuNdOMEuCcsp85sgLwu4U4/VQ8qgYmsz9vG+jzeuiC\n",
       "yMwjeJXCSU8xoG2Ys4WnHNrJa5IHh9/nZ928gCfwB95BDuxr1tzeK7TNcOrZ5wILK39XV4zIf5ao\n",
       "GdktA8Ac7k0AYOx5v7/HfEuBV2+PoiudzFRgKvV/yNN85m6gD75yfFtX7yDcC1WJETwdk9Mof7Nf\n",
       "V1Y/fCMjCXebQexVBpl5rB7BvHxZFB2n6SNyrgqURfQLiA5PHGfDYsZ0L3W+0iPApXJ82BXJFJv7\n",
       "3ahV45nGjlhxR2ftA/+mK9TxW4CxISps919v/0uAH47S0uTkf7dQVoYcRvivFhFKKL4M+icVt3bz\n",
       "oP1m2zg1MHQ4P/cDtxpCCD5Ypfgd6ZK9651fPHbMnlJXRUrno0U00btIr1mWokHZI3bNd+zRBXhE\n",
       "/1gisZXcGnQZ0f7ijFJjODyM0+iB05f30QdttRcLWKHtck3aBUQU9JkIPTJwIdfkUw302ap15vIm\n",
       "2EswvP/eLjs6O8VAkqFZAwVYKdh8qQQwTz/OXuIBAGxDnxyotvlcmrv1M7aKFfxmvqdu9qgbLO0v\n",
       "7UpbT7ON0kMIKuGb+UCXj+MBco5OB1n+6Rw6jci+5R7k/O6CeWaIAtPuk/L+LF5k5CQaj+ZS2+Gz\n",
       "wbfjRBjzzokEzR4ReicWfOrHIqGea7hJSR4bmKcVBSC7Z/+qjXhqq2Wv/3DOPLZjanB9WBli277X\n",
       "2aHHX4CsUWS7w/AJHpYDlAuNrr2ByNxFOdkVV+WfY2+hqA1lAjlb6J00/f+iBVgEbXqtgXbEjuop\n",
       "4aJVwpftU7SkauzVX7hZhWJrmUuCd2SCU4YJ8FI4Wh9jjccnMvFEOWISeVor0nWhKdslehgvsQag\n",
       "3fqEnqvUnyGKglfz7x3TauQplJkwjUqOXgwAad3/1Ei0olYgKUbqMGbnBsS33hFoXzcXoym345D1\n",
       "lGtd2boR+zXh1ZQb/zjwPP5lAZ7IXicRF8sKPlp7BxsMDap+R0b6BRV1kVbjgERRSXuWw5vSqu8R\n",
       "3MNITqR0yVS/jKpZWV6h+y6nN36PhdhuPoHZ9jccx864xOkrJx2vh5SK/P8yJnqg1lIwGzhS082+\n",
       "dl0JeHR0+nOcJlDcsrKyIELEv/ZgaKA7XCAehD+/fk0TYX3OJhd2rz0aBZkUPYMwTKHYjb9DMPsq\n",
       "BYxt5TXDmmEKdN2T1TujO7szpp0gopEIemdn8kdVYPX8iiK0HnvYSbIHOHrZzI2pJSBBjbmZw5Ks\n",
       "4Vf48wH4FejqtK5ZyDWXVmbCxUZwQ2Qj1anunQk3uwekaYGyBFlw0lEAk95XX5kn1EfSwuKmmDhC\n",
       "8sVl+n6G2q2P/4uQBo7KminKBpi15JqD28WqowOLk9//b3c3cOTAV0uqaEBQA2GNMvDXJ0/5Uxrt\n",
       "dL0T72SSl5BBoa8cJSTliL5DF4N+bXwt7GAwF4Q6yM+5xWF3FyAiT2T4bBVJ2RSxuyzQ4YmAdf12\n",
       "FMTdRdPp3LQ0qBdJnhrwg9P4bPbRVGoxIStXe5C++S6m9fNaC8KV14kir/tdK3ZrPOew/nkyP/MT\n",
       "cbzVigo09xOUMTeJ0P3vTQ46HilWu3Y1+OItZWGG2MtlCcmTNz6qCoRbDZ0B8Byl1ESLdMJdkYE9\n",
       "BoTstTp8RRnqZTMw69gaWRIBdwvsOtO6UKSBV073h2bXVrzfbj2yDaH5nHtw9jtofSA18DMUU8Jh\n",
       "vE519Gc0b8tm6sJNDVxIuuVnGSqFU1bhLwoMUb0/OTnqOF5dHodwct8YVUugt5EQ+snZtOMT//6S\n",
       "ZNyh5Qd9/i92WavcmsQRdxnIbDggvcp1nFPqhLPgPyhJteFNpbRlntTeb9L+0rvhZjBxUL56HjTo\n",
       "TfV8iox1dICv+Gi5FI4TiPB2q0V9D+oZQh3UZfcG+uigkospZfh1eC2sMEKao3iObViqmPccEZFw\n",
       "yD3/zjis6AfAMcYShwoaLC4llmfnh3cWCYmXYV7UNbf0jeNMSnmQJXnPpnRo0Et8p8AuTdYUN9dp\n",
       "DPIQlt23aRunTOcG1vtvVrQuNMeKAy+5GGQM76c3EK/aP4Zasc2yM5nm46DCjL5P6yi2bM39MOwI\n",
       "mviRD0nzMPNi1EwOuyOzPap5C8c2qdWyO/uGbtAeH27Kt4cLmsVcneZW1JNNbVRArMKuaQUhGiYW\n",
       "3niUrLAnYQMhCXaOa9s5cnyMRV0+H9hzR4w2rglSHhMtm/QCDWTElpSxKlfSHg1W4N8h2n/Ts4ls\n",
       "B04AE7KmHKfFpq1DYEVKL9rimJcsNvv4rzBPaRhddnz7c2dSIigZ/ggn7pkJiZBKOfl9/0X7YxG6\n",
       "HYzP6RVZuenl0wCt3OSWieXNqYLsx0wK1lQv50KDKwWxBWKXLqZMqK1izAl/9So/gph+ELhtuefB\n",
       "5QG/YB2M8jE9dBl1O1NvDzpniUSD2G18ns3kI95Hw6HhSfyiZoNwg0G57E24CnQMeICk8UFITWoW\n",
       "tZvq291DRFFf4ar0bziev+PogeJkMWuDApqpB+j9dd+5geYwuSO1B1eYu+Q+jqt9k4wGG1LEqkV5\n",
       "VPpXC/N52fldDV/hfS4wj3ikqBtkNxM5sOu5zTW/itpiLzqkwoYrYTm8dr/qS9K4kUGgAxM5+kx6\n",
       "3NYALkREYVtwHs18tZDS9af+trcf2Rwl098DiEvhzr1AC3Lpd6HWtLZjpbkJQCIdOMgfgQRijiiW\n",
       "i0Yt3ioK/lyRdhoFuGXqyK3W/sxt74wNYQA2FcbHtCDTWpVZ72PWw305ZyVsp8/znndYsemPf2EB\n",
       "qaZgZWWTacTZhrDXMCHAuKnaN2wZwf23wwoK9RTPrpD/T70TkOU8Vmhexv78TFcbpxWvhLmHGytH\n",
       "QHRuVAIk8VxwYhA0qob7OXzv6/Qqk92H1TxnpwMq585TRpKH5D3frge+baXmH5fofkKSwUKJLTca\n",
       "5WvgW7v7GUbqIg7XlGUm6iSAErno/1H7JbS//tKBnOkkA3a+tsjs6ahO3H18TI4XCc6h3UpOdt9U\n",
       "/q7iasgX2qAOyg+ksvBy2Rz2dwLnkjlf3wqnSS+n/OKGogQqE7PyY6WUxBqMz6BUiIK9epGEKVWp\n",
       "LJsTh/O156crv6a8pjNtZ7ouPoz1ccrmIuXG1TLNGM9aUN2kgMU/K3qw+FQdof6e41+VgJvLmzOP\n",
       "YuxgCRDG7nQM8/bkaLcKOiUQ4F6wejPb08I0anXToA5FqsfUePU7Oy09iJK3cQWFFsECHbmrnoZM\n",
       "jmkeRVGx1bwj1i0za1kkTT0Dwa4/EAAN3K/NLoy/nBf4G4H6tf3xspGdJJV4JiR7aRtcJjveZNWl\n",
       "FFjY9mx55AogxkCZadn1bVGfXUAFY7qrJ+j/+qignrLR7uZISteIqdy72nUMa1ROaFmirZCNNvoc\n",
       "rtfXFkqDI2yAWombKb5XgwS2+B4QYo8QpsuApPPkhgXcvQPqY0qFlU0vYtKyYMjTEZG5CeklzpaX\n",
       "TXcge8ogwkRZJMgBQfEpkj3659axgBKfkXlZ2k/1oNP/jJNYbXKb7iOeZkZnHi1G+MQEvAq8yWOx\n",
       "WZN513Www45I4Ivvb1WlgL6zoHknVQAAAN5BmiNsQR/+tSqErVJAH/KqPpiOFxxkVN7+fHroe/xg\n",
       "refbPk8CjmNjd3440b3u5F+0DrefeacFv4WxsuSRgWl6iqBxLFmv7/MVGvSGPVilc/0Vf4h5ksUQ\n",
       "10chrRZSIi8rwskuJmxBCkGGHzzw4eK6DSOfls72opsv0TV+MGCP5pnJHchlycTBahkv6ZsYling\n",
       "/nCqRo+6HX7WbvBzfJwpSGitT3Mq5qhDKsfx+U8oLQXv2qyxaYI4qtxPI3nygtLay+hvkCEcA+Ak\n",
       "ovL0ozevC2og974bnYoW4T16u4AAAABVQZ5BeIf/ASCD3mVWbmfurcM5gzapWWAd5AJHlQMAG0mr\n",
       "tIh3IiD7+HpzYPIMqyUcfmQrwWKDub/r09q7TwpicripteBqnOg156XjVQorq5kW8xThgQAAAFkB\n",
       "nmJqQ78BZR/16q0+8mfY5W3EAEP0la9Swgv04fjA0aWhphMY+/2jZI7B1649lHPCw1PdWRphLhIO\n",
       "5x/DCCyjGWW0RukHMU4uG6Twy05uDe8Q7WsbobqjNgAAAI9BmmVJqEFomUwU8Ef//rUqgACcM7/X\n",
       "lyYdgMmwAHLHv4FMlre+aOPD9mwj8YcgTcSrUJ/XANo46ugiTiPb+eSBBlsdlxc+pV8P00k0XbFH\n",
       "d6k7WcJvMRJGuSg+x8NE/vo8fhJDuLfSSREmK/RN2RLb3vHoeCW1CEsXiYasWgAlYSbbxpIZd+Sf\n",
       "LHQ59pu3swAAAGABnoRqQ78BZXULHE8x89QWdsjhx0QA0rDIdpF/WXBAARB8NKDyFNKCCWgzJXUp\n",
       "BpYPIvRVB1C04qzW+bTHneu1jITNSY82AI/o0aNlD1tf5WZbkwnZpPjNgh0py7o+WaEAAABeQZqG\n",
       "SeEKUmUwII///rUqgACAOC/xJDyK3yne1hwYdgZuCfD34OMgvoKT/GzXQ87E8hok8BYFnm00MvsA\n",
       "4pc0YqrerSdfccoqoXrJni84hNHrDUoz/ek4hwM+0iIk2wAAALpBmqdJ4Q6JlMCCX/61KoAAXj5i\n",
       "xnIpEZrp0IzZGOQAhNOYQP9Iz2vdDb23dkC2riEjNfx6TJzvejan/Ysm5OZLye+bgYD5V86iTF2e\n",
       "G6aS8MI+1SE3b8lUStqehLGjuLNvtbphbYl5I5iaAK1J42obkd5I7klH29Nabh/aG8oPj9YFEPNt\n",
       "INy/l+OMdRpEJ5PCdaI0fAlZluHcNY/1lLCzFMQXJ4Goq2Tt6GjyBv5GwJWO8RqZXfwqmPEAAADG\n",
       "QZrJSeEPJlMFETwS//61KoAAMVO/KLEgAXTFX+4mDYOhQOKNDrpQVyTNMyJUgNS6V1+ogP/x97eM\n",
       "AbX/flDPBMc1JaMsqlWoyDfEKyNb2gsMN9bGkNl3NI2kZSoTqUwXgH+D7Yy7vqI+gSMwTCPDMii6\n",
       "3viEfx6Hp/vVFR3aS7K5O5zNvyOBQ5+6eSswlN0H4aI3pCbNSj/fAEjnPY5xXwCPTr4rabQe2Nz/\n",
       "7XruZvEMhXNNI60KQfs7KOmFBFXlN2yMCl3AAAAAiQGe6GpDvwABHYAND24L46QANk13+S94ICVV\n",
       "Ot1lI5vmzF50LQb+x0ANmbo/RA3PUg2aCSS+8e4lm1ST6uRL1q0sYQcd23djpOFmfHF3lHdt2kFL\n",
       "6aW9oP8V0cfTcosfarUIB/xtf9MlO2XUBGbVR312A+yPMMtjlUcXn55O4y8/6qiT+CzS3AeoAAAA\n",
       "zEGa60nhDyZTBTwS//61KoAAMr7ew7IAATeZX1qe+GdCympDjG3BIF3Ks4TNosHFu8gqxQJi/n0X\n",
       "5ra3jZUrVUbHsnjJ032jk2+PNOJ4oWpRFOMLZyj+BcBIhASwaOUEMMG/pVG8Xi/j+WsiQRlakZZx\n",
       "ertjot8+MSYrVEUn/Fg2yGmEkq27ilNbcdZ8D/d64dy9NP313GkY+fzuTDHATNHczZEUIldN8l+W\n",
       "bs85MaFN5RZTYwcFOSyhHO+cIt3s3gF0+CdEIjP1iHABgQAAAHEBnwpqQ78AAR2ADTWAQz7+AD+k\n",
       "LVLqPjsiB+pV7+aoX1avplapfINaSNppnX++FQCl5yVJrigEH8GFhFth/YCVtjWRsh3GXaiRpFTm\n",
       "xGdtgEBMxMe2UGyaKeB+nvXsxGvFX6zgSTOpaALlPUzCSv4EQAAAAFNBmw9J4Q8mUwII//61KoAB\n",
       "OG0N/HlIRaZrGCHmkzAAdmfPQJCj0ZnSF3DLDOXuS5TnGzgwXKS7DupGNoctCYPapkriB+Khrdmd\n",
       "LBr7mbUY4wyYOAAAAIpBny1FETw//wAAy/JRRtegEKAEsog3a/itdoqF8uZQDh1vSasPVt8E8SSv\n",
       "uvWUGFpxEx064cwJBHMfytMYwuzFJHTXiO+Jk3GQSMzoN9vlX1w2pTVXy2ev4x845RBrLOJknXy1\n",
       "BP0tA2iD2mwTGEZaJHbFK+joncMnGHlNqZwhpQh9dek04SYML2EAAAA/AZ9MdEO/AADC9tA0qocx\n",
       "GgAiDzhvIp5YBYoZMO5wLR7zd9t2/All7VIwrv7hojtZFAti+DP9BqfKul2hmBUPAAAAJgGfTmpD\n",
       "vwAAxYI/8Br5MOzXIAL5o9KD/XeyrMc3fPqcLtsy/eNBAAAAgEGbUUmoQWiZTBTwR//+tSqAADK1\n",
       "BcAI4A1R5eeHv1o5fkFoBlaCrElzfaWc9JE08zIS5/yTX5EAXyE8bWEuFbxxPG6zuzMgSSueOgv3\n",
       "xu4NYhki4mc0qkJSmkLghBc8DXcg7blErYfVW44nuxzQs/HfwOdpkSomYzUINtOGmFLaAAAAQQGf\n",
       "cGpDvwABIKVHfgAu80AJ1oknE5bAUOpDto8nRWbHYhaSqk3kxoTsBiI+uMc7ADNS2/Ng7GtfXVi1\n",
       "knkDOKIeAAAAn0GbcknhClJlMCCX//61KoABOG5nkmrQMeyoDNsAEOWv/2GA3MSPTmkiMBtptjAx\n",
       "Z+4lxLZjNNIRSUdRXAa3ArPZiQ0lrIN8fsllCazLnmwalOj7KGENwJPp7wX2ZtwxHHXQYqX723wG\n",
       "ARwrjxdMP8MCNTf4t7Lkg3qAmeUTNLUhydQ+B/Iqm9OjvhHHjfiaK+wXLZMMunH/snQ1rxlywQAA\n",
       "AV9Bm5VJ4Q6JlMCCP/61KoABOG2qebUb1w2iBF+P8N4AiaU0fa9h3lJjz6uPlcNDkDglJAfNYiWl\n",
       "JQ7gSLxUIKXlJd3hq03ju/OvvXlJkuHYG0QH2xUeEvKGUL8kGDVcM5ngkzkMkEQTvpvQhCBF6OPS\n",
       "6kUigzdb5U6xq+LYHtoPSE/85IO5NVMXP2M5xNZ44+Eb16qS/A+KJriCGoQavsQdX5xVEgvnpqce\n",
       "gR1AP625QzlwrtoCikZAa/gQBLEUoNh0wv3q93oCQmpkw6kex64bprPMzZZUVrz5RX4I2/JZCmxi\n",
       "byxdQQFe4FiWH6ugFORQLMPFEz0ppQ3KJruzNCDBf5MAnNtSR9ehfsHftLe5Gkr1r36unac7LTVu\n",
       "LjWB3lujCsW2D/dT3lptsbP7AsE18iQeZqpkGWhnC66ehcb6t211UT2ulgVtVBtKxclBU4dPTkZG\n",
       "qN4acHU1FmvSrggAAAB+QZ+zRRE8P/8AANfmrCdm8TFD3qgA67ugEIFc+t7gW2+DuYsB9XA0JYN7\n",
       "rYqC0XZG719AjYeFZeb5BoKBhUV0s9Js7fGebBOD92pp3Xe2+M6L06CxKXhGoRSYyRLa9f1d0BKi\n",
       "2yp5H+ShYV3c0cS2zn6RQrrpFYEmuOWNiQuqAAAAkgGf1GpDvwAAv6tgRQmAD8363nGy/7kpiyEp\n",
       "cAIkheQm60ZoHoSMjWH0Rhp8a2LjsKPe/eq56aujx1Mz6UWPNpFLtRKUZkV+b6IcUTtj7/1SYcMS\n",
       "0dRkdXgQ4OMPzeVbagd1WA/qfDpBDcpXptmX6ER1G3L9Ym+DNANSqfQTg3U4JDvqPOFCB5INvWvM\n",
       "qxRo6J8hAAAAlkGb1kmoQWiZTAgl//61KoABOG5nkmrQMIS2L5YAWq3f+QwJEEoJ8pgmQPl7ekJB\n",
       "Nf3UXDUVw4Y+6gkyK06LSWb5ohuIkmgs1vuH+6jUiE+5mpE63mPfj7yl8oQMQM02MRlwvVaxLIQJ\n",
       "lyDgI4mRBRh8Pxe5KH01VBrmQiemv8Ru+IRulapnxPHAyFTkHxB82A96Jmn5FwAAAEtBm/lJ4QpS\n",
       "ZTAgj//+tSqAADAaEDN8AF1gf/+v5ymFVQYDtFMzjWLwtzRLCrVRTaVs0+vOuRjj7wCsmY3530m4\n",
       "Hi4KQBFBPUXKJOEAAAB9QZ4XRTRMP/8AAM3/a2XliveAD3wC/+v5ymFUbU0tHS57Jpz0dgX8sIpP\n",
       "PcroeLsgNxxWgIgDDTGFJDeuYWA112n73GrOTYSLHPkJ0ySBoOSAfDknbuwo9n+sIDCRKjbfYlto\n",
       "xKWXLpoWFw6MVVsi0z66ylpEXtLhhogWACEAAAAUAZ44akO/AAC7qvXtH9Tqi7aSwXgAAAC0QZo7\n",
       "SahBaJlMFPBH//61KoAAMVDJRC4QAX19KyxLqjKnEVXLCBW0JIfrf0Vn7A1KgMzjruLjOpZeEynm\n",
       "vyztfl6fZB9xUsK7Co/3pOfaY34b/VlaXLEmBbhXjmTHcFG/FBH9JvZ9SRQNx/YIwomsyNAMvPXd\n",
       "tvbOIk/wN9C8Gx7pVv/p3Dw4zh9kC4MC2pvjDUL47Z1f2jMwLx0wy3ljN7k6cL4/qrYmk6yXfj9F\n",
       "mp2kdmghAAAAYwGeWmpDvwABIKVHX9QbR7lQAQI+/tsFdFyQxTw51U0ElaeLw0zOHVtPG3Ll6zHh\n",
       "YKeIsXn47OU5XLbyMi63WjLrjA8KviTVh3kPaYR+uxZxXKGh1dWTsvbqw6GT/OrLdAK44AAAAL9B\n",
       "mlxJ4QpSZTAgj//+tSqAADF0/nwjgAZB0wR7Zj7T3cTdBLlmP/4V6KLfmw2XbdYRO1cmXZ8al4QR\n",
       "iDUDW49AaythVsAvH8urhrvM7GY1gxVnfQW6GBVpm9y0gi5Wa9xrd+1B3fsXEgHAv2W69n6EiQ8F\n",
       "dyT7nUQfX4mn9QZ7ihbwX5dHBqG2f75MJ5R0DtRrd+iVALnWZEmm3ES4FGMWLVUJhEqHr6bauHmD\n",
       "OIwp05rlnbuR58qrFX8OpHZoIQAAAPhBmn1J4Q6JlMCCP/61KoAAMVRtoyaIAL1tX/XzHaiLd8/6\n",
       "nirgzqGfEE8R4E9g57Noav1XyohUjUolDL9Ot5Cwdad7UUGRgCsOOGP2xTSw1lAb52q5ATTERXxc\n",
       "+VwfWZSLYv2xELw8RyCdjkcFcvJweffF753UvByxtqtkQ7RgkIX2Rw23D9h/us1le3vskdvKLrfb\n",
       "OX1LvzNMBC8MYn7CGf7eYSDKErjC9SVh9BlvTWlDKSUUn65F7L1+PUFbCm5klAMP5+Rp+oRIjiwU\n",
       "gcGjHgIUEbtE9qJ7eR192798/a5ob4enZ6a6owqhOPwRMt/FFilYKy/KgQAAANFBmp5J4Q8mUwII\n",
       "//61KoABOG2qebUcE74QIwAC6UlK31oKMv6Ng48fwlJlzE+Ee9Gd1svsBi18UBiA5fY/xYbh3JZo\n",
       "u86gb5cc0X3Tt09M2f7RZPtt0rTnnV48rvcJRd68qnzxAs4G/s/MKcZZvr/Bd6L55Z7LmD9bN9K0\n",
       "9fxMqJsNGSdaNPlvQzoAcZxAZUQSI/V2RgRDdyulsqf40S1yULhtzBWQl+d2Z0YtxvzPrj6KUN+h\n",
       "qJlhx/vXA5FiqNeDJVWL490pGp2Vp9UrUG9KwAAAAIxBmr9J4Q8mUwIJf/61KoABOG5nkmrQMz+k\n",
       "YXbuEBVYAOMbgk95D5PsmtonykB1Ibtg4N1z/DkxI188X/nLoULyPLqHy7EYE9MOsGYvzvWSI9cV\n",
       "6jCxR85mqEDVm634FEMxVRr+m9p04kDvSSsehiIBDM2lF1FfdU9zNzPthuzjg/cDk1nsbJc8KHri\n",
       "wAAAAE1BmsFJ4Q8mUwURPBL//rUqgAAz/t7EokAEnAlW7vIBJMjRTjbJ+SgpLYaOx9bqeunRA8G0\n",
       "G90wN9gSg9uBEQghou+xjuVW7GJRR6tZ8QAAAGoBnuBqQ78AAYsEq/2ipSkGlRgsAH9GQtfEKXyo\n",
       "eQ7+Pu3wVuKxW7Mtx8Xw2AoVlRMYo24QCbOYIvrhLynCx1eglUwv0NOURd2UqWRbI9jc0uoGT5Ls\n",
       "WzJJJmrvSvRLykmdEEDIQqMvowRAAAAAcUGa5EnhDyZTAgj//rUqgAE4bap5tRxWo/c5IAPfdtbM\n",
       "CMdOFvPJoasYGGzdsCTVGYGU3aEXWVef+wpFEc9ZsdX5w4k7ThhD33Kj9jlGlWtLt9wMjRe16+5A\n",
       "ECFZ7LIC+nOdL0Q9vgw1m5dJX/zhPDuBAAAAUkGfAkURPD//AAEVlaNRBmmCfnRcNmtD5IAHaV6Z\n",
       "6+aL67bb/gBt2T8VBg/GKIgnODchbffRE2l4+8SNkC0+cEUEkqx01Wv6LeDfcc8Z5LXpJCAAAAAX\n",
       "AZ8jakO/AAFKMbXIDK7jRFtwqbhgw3cAAACeQZsnSahBaJlMCCP//rUqgAE4bcWD1XabqNCJGJfA\n",
       "PTG3/v5P9x5kIEDBrufgiijkNadfj1hlYG81ft0LaIaG/a49ZTjNmfJhijs+OXcAh9xHlBpz08oZ\n",
       "Km/rva8RuCn9a+7A+MIavvsLBbVfiQy7t3Sq9qEj5ROhVtugmkrCL4qIPmCv8huNW6mOar5iRhR+\n",
       "DBFsn3pY7HNzoKfjw7kAAABIQZ9FRREsP/8AAM4GW7xs+cpcD3gAvWDNnDpEh47EZ+S4RxXxZE80\n",
       "KsrD7ElZZIU65rPYmkDULIlFjPMsYi6ZV56CE1mRFZahAAAATQGfZmpDvwABhtr0t5Qwgb81lUoM\n",
       "TIAEQenGRRgmPzyPwnqGtsijZLm2eyTd+yF73Um1CQOESNMnAI+tz2Vb8UBn21OfVRlXk19C1X1h\n",
       "AAAAj0GbaEmoQWyZTAgj//61KoAAM9F986VG9PEuBkTprFj4myz4g4b1P6qkBWW7YNFI/bow25QJ\n",
       "wwc0yt0BH+R+GPr1XXFkkxxLmd3TuU/EI2JJrHKoD+T3s0KptZbACKCY6C1zeB/4vbIR7k/PWJ74\n",
       "ip5KQPDhiabdyGHyh4nmtp6xzGaKf800sd8liZEG2rWfAAAAiUGbiUnhClJlMCCP//61KoAApf2K\n",
       "oOwWXnIrTS3Y7YySdZpF+Dy4kfUBYIq65gl/Snr0EdPBexjg+MBdJA+v6P78iI2TY7id7uPWkwAT\n",
       "N2x2RqJNyoWr/LV0SCjOw3ARllDPUZ7XAaw5q3WshEDsa12gdlxss1U8enQu1k0sJ1Ffs12xk/ek\n",
       "a2pAAAAA0UGbqknhDomUwII//rUqgABlvj5tZF2W/FIKzmQHvuEiQ29p1JN4RCxy445+bDEyzaIV\n",
       "TnR9/Q5av+K7YXiEdvGlhtqGlEmyjeNPjF341e5EnKeEWbbESGETeTR+WLzztJrJmS9MNgJQsNp9\n",
       "d2wCR1z5hVj6JGzadYH4SjRoN47zXYhl/7vkLPmrwb/6+62NQ892hnSPF361YGd7NfbsVIX7aRVL\n",
       "V4XFPkRQxBsFtnTHH6JdjE4LpPcShCfwymLZHVBBiiCaNPiAaMcF3Ph+GtqZAAAAokGby0nhDyZT\n",
       "Agj//rUqgAAxcrcdIgpcAVqHimuiHWajgM7LIJ5GeGFJTxDqsEqW//+HSx7YlZyZE2RXfyeYJMUN\n",
       "GAhf/1EhiPAVKta17b/a/Lh7vlqRhFn5CmqIYIbVB8yp2lDGUoIxk2SaRqLUSftNFXRMnSC3boiK\n",
       "buZAWg55QZ897ijkY0ba+LnSgT4F+UlIwnuq0tzvnp7ZzQoo7TCl3AAAAL9Bm+xJ4Q8mUwIJf/61\n",
       "KoAAMY/g4hACMt4a5AaxdLRHe6o+wy3HUw9cOJdoGH6iRD4vbbReg1A5FF7Zd0HhZfLqm1JYQqq3\n",
       "RA2LA304j1FYIjcxTSu/oVpWeHEVIDLOGI+Nn/RAzY++toAyI1Vzfm3r6tgaaYlAX3DAhGpDlADP\n",
       "kqHXKON+XWCaG/NuD4/gVwg/9gdeWyrF9mCas21GzOd/6KdOdeq4w1qN5c9n5/lbGYGVIkd5NvlI\n",
       "2lm7SHs0EAAAAMBBmg5J4Q8mUwURPBH//rUqgAE4bap5tY0eqB7TVQBSZhGJ7uYaZJ5zGnSRzmPX\n",
       "//r+BPD+WL963HJ0napR19032eo8tV7NVKi061Gz5qU6jzy5jyLTWJ0nyO7C4/uJchONY6aeD/mD\n",
       "+TRHMTppESR18dn0CeC3yxNQp6w/2pTI+ctz6fTFQzBjCPCG67qOwCsU2zqtxBnG20/M8JtYSAfY\n",
       "N/l4L3zR96D9ljjFQyK3ofw28jDXlbbXKAA3ldCCJ/0AAABTAZ4takO/AAE9xhAvRI6Yqqb4kf6+\n",
       "iWABDfUbbpL9BTjaHAxv6+mIJ5zh8KzcqAls/v9ZujcPSb/1TBltKnFzCE4ut53aqSpRKliRgCtJ\n",
       "c30lZrEAAACfQZovSeEPJlMCCX/+tSqAAThuZ5Jq0C8re0LGQcQvGUAOMcEl/1SMLTaGLgg4sC+M\n",
       "4TNPOfe6tgAiT+1mEhXv4eMxZZSWH5mVlkyET4ZcKostRqPALBC2plr8u1PAtNFpF5dzhZ8GShKU\n",
       "e4kqv2pofaDQJ7DToYN0lu1zf4jLcD9yQ9NqfH8ztRiw+bPiKIdMKNnb83OS+IJeSUC1erBxAAAA\n",
       "eEGaU0nhDyZTAgj//rUqgAAu2wZh/Pj9mAD+kaVfwVja0GiiSw55jPP28v+ej6fwS+iKQJ4NmdyP\n",
       "SDkIOedU4x5dofa31Yy3x8XiIK/txRyJSVC2JGjwCxRRKnullUNqDPmqBdtBgxQY20TVaG2qXtVm\n",
       "RZ1yJQXCgAAAAD5BnnFFETw//wAA/f4xlmUDjzJNR/xP1+0gBUREiZSY+tQw8kUgwzYnqXIYdlPO\n",
       "bVkgBw7MhmVdKj7gmz/BuAAAADUBnpB0Q78AAUEetzDJVWimkJVmguI6BjS8AHaXQCbHuO9OXNvw\n",
       "cBy2ysrpjWHrcMAXO79CEQAAAB4BnpJqQ78AAUFWF6Fd8MXAItEg8h0VRvW8EJU5rsAAAACHQZqV\n",
       "SahBaJlMFPBH//61KoAALuOxhE/gA/pGsLq1k7Ur9J5UgNsE9lpxINSKR70xaO/4rHoE48pskTAv\n",
       "epAO6ZRYkkQxGiSDQ2UK62L2WXO0r/EsqvmYu1H/3KZkFQQrrASdaYuWvZJMszvSYgIKQdzk+EkH\n",
       "474CUVzUz0HlzjpPVTc+Mr5gAAAAPQGetGpDvwABbnDJ2rBYu1wbBLIAIfpK2E5n3xNqLyA7XKPb\n",
       "Wm/2bdWwIBGl4fPO4HfcIu3jDMd4wNM/kUkAAACSQZq3SeEKUmUwUsEf/rUqgAE4bap5tRuBLZJr\n",
       "2wAC6sj/jEB40i+6nj1dZuHiGPzSryOSPQXifJzwZ9PF7gVRn+zRF+HOCjAZDcJ30KyGXVFGtjLJ\n",
       "3kabUzHW8tNizm3UC2lHdQGEwO60CvRfiCEa47seP7WwobMjcLFWuxw+Qbmo4Vu555TmGNU8qk2y\n",
       "ln1iz4AAAABHAZ7WakO/AAFuQU13zqUp+/3HsNQsACH6StnhIfvSdIjJdpXEUcjvp3btOCzsq8k5\n",
       "PHrgZsJbCfwu5EDGssHdmA2M9K9/wZ0AAACpQZrYSeEOiZTAgl/+tSqAAThuZ5Jq0DDRQ3zeq7yQ\n",
       "AtX63/elwTO64RB4MRQSqDL4kNNRoD8hpQwVWhrLKzguWEGr6/dKBBJK1iEDRH4/doODLlqAfMjp\n",
       "U+/1q668ihpkyWQQ4wv7SwPl3ELpoYy8vSFljFMChHqA9VCiAnKm3ZOhAY+HfXLyp0TftE3Th1Ru\n",
       "a+dtsi4POqBDUhPEEAvRYCKVsCGF4fY9wQAAAS5BmvxJ4Q8mUwII//61KoAAMXK2fypnYAPfd/t0\n",
       "STCfHmkB9cD951Px94oK4rn+zoRnS07rUG6RedrxB1ApkdX8BULd9WLPjPPE9cbifYaTDn92rWno\n",
       "dDT7/Ea4UMiKGlsGZPteSNJvJGFnHgjIXa1AB9GpjodrnA9ik5INXUl81OUx71+bA6bde++mWRb7\n",
       "NLwJQ0lY5ByYgCYPJlopfbmSRP14AyBWwRhBI1LkBbVG11boreeJTd+JS9B00xisCkxkkCdh9scQ\n",
       "YJI2XEE+ytDgnwi/Qcp8qqA5b+FBfb6y3km1paY2I1YyxDok7dxUTTTNHzRypcAxE5DhzQ1e2M91\n",
       "PH71utwL2WX9KVyJubecFMGrM5Ud4PZSrkAzKyec7o4MlRdtN2drcN9YdI7NBAAAAI1BnxpFETw/\n",
       "/wAA4C6R0BeCb1qXz+4ANqq1FBVkU+eXfgCe5GSArQ2r4lVJXzAdTddIz6DvPZDuoGB4gYwJ2oh0\n",
       "i3tR8OcZCqfn+hGHkzTaDNk5I7EIC0ju4b0MYtFc2wBiVjz9N5lY9fjLsQsb8eHRgwSwKZhVpJnw\n",
       "W0aUTWAuFEUXGKO4U6FEeKLfu98AAACKAZ85dEO/AAFBHpnNsC6vMoZoAQ4VI/kczU7V6QTeLOmC\n",
       "2pRDB3Oiw9hTA89oA6f+tvvybXL/IaYLaIrEG2v+xNVOikfCi4u9U1aJ8j2GgXVH7ymVCAuSGb/X\n",
       "FAH0hyoBi0M4YLFDFsiwWV33//K8dPJnnhQdf7tAUcIW+k5u5rvag3n3vHih9/mAAAAAWwGfO2pD\n",
       "vwABQVYGYjt7x7ABDcrf+4Y+yBgTzvn8lWyw7uAHf3yZDHW29NjTFrcaiYTSQLFzRwP3Mc0/wD9u\n",
       "LayYdHWJY0PXUWo8xZ7MR9Q+yMzu3hIHuif95GEAAABtQZs+SahBaJlMFPBH//61KoAAMVH56ydA\n",
       "cgAuZqtkQhv9GoyH33xGsf2jUBuS4F0f83sVFuAnOX9K38d8+UFansgXQ9qqoZ5+oqrhJvwGgVYi\n",
       "jthPlEr0sufed/T2HlwJ7d7tn2dpCfVhtx51tQAAADwBn11qQ78AAUFwwxhZfhwqZHSgA0bZ1VsT\n",
       "voOJ5I4dYTdoUu/WbTzwyiQzMyXEn7d/hryKdZCeaJ//RVgAAAAmQZtfSeEKUmUwII///rUqgAAx\n",
       "VJC9ABsmKlbfDsUkiNi+eq6jZxwAAAE0QZthSeEOiZTBTRMEf/61KoAAMZttm5o+KzsgCEbht5ct\n",
       "F33GvDrkjHiboVSd3BOK6uX634FwJezn2xkecLwXeQBWw19MtokJE+I7/VLx63amyfH428Rb6XVm\n",
       "3OeIGJOMHC/nuEfzfKVQ7MsqRBJAj0jT7PCXVby8UU+hiQTUMeTbg81vI/RxisBynch3vOZfd73w\n",
       "BjqDO+h5cOYOT/YNzbDkTVzAcPE23DnCrgJ6s+s5I6/hmTDjcLG3FT8JN544ZMyyJn+61qeUijSz\n",
       "cbJ08P0ioQbsiD52uyaycS91UxuMuV5ToJVogHXtmPd7jXeR5JvZRUlhDowxb6VbkFzlEXdQtloS\n",
       "0iS6H+i90D2X8hDN1qOZ9Quxx5a2BFkfX3DOuaDatsGsgJWMdqZ+7o88xMojs0EAAAB4AZ+AakO/\n",
       "AAE9xgyOrHblWABDhQkJ9042yxKKNOKbXUnKhtFn1jI86n90Qb+wN3y56Hpssw4hqQh3EpRjjMt9\n",
       "HvG0ssOKG7ahzm/q69IQ4v39GYcFgmHdIGwNcbsUfQQLJAkfY6UnwoUfuivAzlNVNPRFTxNX8T+A\n",
       "AAABBUGbgknhDyZTAgj//rUqgAAxWv0gBO6O/cDQ/AlelgR051viY+4fmJd3uVBC+AZA0zQIHEAr\n",
       "zg1m3/mMCRBKUPW/+JJygnaAwh2vDWmkWVNDUN1MIgM1mf3ZZhqJleufJ/ASmii69Rpnsx204mE5\n",
       "Pb6UxN/8uHC4VhXXSI30NxvtLegrf0pPmKpknHyv7ClbqpgYl1vOfcU39Eo+g9cKfsDDJT4ULNMr\n",
       "MVUS91mYGchMeE3Lh2Jfa3DjWot11zNwVm4UdSaBUCyO7Upcg83gK9fbRDzSsEjBvnQNiKsVIXA5\n",
       "4X3F4/GRbYV3aMPQVahHxoQVe+Fx8TKsDC6Zk7NT4yAfO1a2YQAAALxBm6RJ4Q8mUwURPBH//rUq\n",
       "gAAwGb3AvAAg/d//38CcSSwCbnhmPqDy7NGDnf2gNsvc8jmnrJMJK20LDaToqCU50oP1FavkWnEi\n",
       "8dhOue4atqY41pcf3E5uuNY6IC/mP+d94xvS3Gmq1cjmCkUhPdcT7em3anXWPmdT9iuazaM5b8Lx\n",
       "VB0ZmqWA7wt4sjc4M/EB513wTyGjGWIldKuJgFkEM//s+OXAaOuJQ4XwXzDPT8Ji3QcK6IGXohzB\n",
       "gAAAAEEBn8NqQ78AAW5cAfe8pVKkjVJkioI4XACFPTiwqNS6gWkmPhZ0hOd74PpHt/YbAE1lKd/7\n",
       "9nTD4dkFPfYsR32nYQAAAHJBm8VJ4Q8mUwIJf/61KoAAMBHDNQ1HQAWw02eHSRtrJhO7RWAACMb0\n",
       "1F/UHm9dhw77uypK/PULMwnd41rCfVfiknvg3Re+Z2QwDlDPHO/2FyZONa4+R1y16KJ9/FnyDRon\n",
       "6JCp/oKnpWm83UixZ/BmP58AAAA/QZvpSeEPJlMCCP/+tSqAAC7jzh8UACIPcxWpMsgaGG7mr2mj\n",
       "MGJrZmcTtLYwVr48hg0kuJTVT9aAKWO/JgVNAAAAaEGeB0URPD//AAD7rJq3wI45373gBb12Vt4b\n",
       "c/xbTbTvdnl61w4AYs2la1DXvA76lmujX9oyYDk0gPVuitz96QR1ugJHuEnPcgC7D3mhuJnbU2+m\n",
       "i7bBf236YpkiysYIqOlpiTkiv8ZdAAAAOAGeJnRDvwABbh6wfFYWurpQAiD4BtyZ258USxZoKXlq\n",
       "FtOwfVv5CwzdJr6numIPpa3iQxaqz9I+AAAAJwGeKGpDvwABblYTs69kH+19vtqXgA7M0LW3uXcv\n",
       "9CUvIQgWNfnnBgAAAIJBmitJqEFomUwU8Ef//rUqgAAwG1YQAXstWTeoTUHx7ycICLy+6uFE3735\n",
       "kVZ/uYv2/L0roijhmyBtJ0H5E8kdIKvv13dv/gWNkkSArOt3GzQg+en2ndI9OxswLg84FPCv7NaI\n",
       "Uu2bj4bPMNFdS5FnhQqWzqsIjSwSmzcX1sOgROXhAAAARAGeSmpDvwABbnDJ2rD8KnmG6oW83gpA\n",
       "BtJoWvoUQdd93ZUeefuUf/7JUotikinVzceAzyl5sMuWh+7fZg4o3Bg6373sAAAAeUGaTEnhClJl\n",
       "MCCP//61KoABOG2qebUbhO9Tu7YABfX0rFBZpVWg7FHjjz8gkkVEC7BCKAJ9qdFJwZnib4AoOHX9\n",
       "4hvq1sto6j3TZsbuF5th7QXo5w/xvs34eg1z5xwH6ngg4NbC8dFAa9YCuGgW4s2ku+6bCbUWHdUA\n",
       "AAC8QZptSeEOiZTAgl/+tSqAAThuZ5Jq0DHmaAAU8CP5o/yAUBvTGqK9+3VZ61q+9u2qRqzz1g3T\n",
       "khSI0fIUDqMw1Ff96hMdeYiW58A0WT7hfERHaoW8VALAI0xFuFOleq3kgoRD5j2tP/PWUPMciW12\n",
       "EHtJv0VBT2dFh/lW/9PahQLw95ktFEn8mblReZ+5hLZT4i/bA3dSJfj4b+c2CbzCzFa7cBtjpFVj\n",
       "b0kRXNs2tMaBb8hkfKq78Pjbg8EAAAHrQZqQSeEPJlMCCP/+tSqAAThtqnm1HB8OFYsf6jnOAD+D\n",
       "nv/6KCdy0wtimQq28pQ0my8S+Aap8M+p5YUnPLDVLIt9B5k/3eHbtarkR6tE5jZcZ8iUT15DlkTG\n",
       "Wr4ElZ9Vhh7RJVj58gF2Z1dAhPUG+aSn8lvSz7VBzDo4nnb+usygY0L6oYu4AR/Qo3oe1yeBAWIt\n",
       "jBe59YdHWmn0ZTfV6kmRwUu8YBDt63RwDHFiqkhGjLhLh3jigDBAK9fGN6oHxIhCAb1MSNFdok68\n",
       "1rXcRCjwWCP8oo6Ejyr+XF1pLvh1Bt3h1dct28bkJ1gwq2NKPAC5UAWayA9vBip///0AYP7F9juq\n",
       "COKHVpSPfYQK7VFWW8DNadX1M0LtukyqRIoSRr2zkLQLrXh4+x5WSNGYhA8H2gFvHQTKtCJH3BUF\n",
       "AJ+VGIO/fmAKk1Bwgs+nxd3zeaJUQgAvTkmq3u5ltaSXCsyaD4XOqhsV2yQYZJ46aZmMlWnOta0e\n",
       "nqMqCNRgTdC/v7OQiHbJSN1qK3C1SgbD+WlT8OxcLFX0GlasWFJt/KxywYaQs6i8c4APr1mDUYMe\n",
       "0lmpIVo5JjUXXkg3i6d819ND4iKVj22T+4GeKfni9QEletfMAW+7X1Q8QFa5nVchylxiuyMWtpRR\n",
       "u6cAAACFQZ6uRRE8P/8AAOAukfM7kf9sy08AF9eoYsLfhDhlFs+II0dQPjhtM+Ok2dGU/FK9DIVI\n",
       "2bdKjchzMhcF/KZjnHFSvYOP9wGXDIcGNOJQGOwwhVwowLlschQA/9GxUvUDpKk4usvpibPfg+lz\n",
       "/xMlsqK9xVnwZavROMpvfF0kyUBVuP+0YwAAAHUBns9qQ78AAYsEsmOvaQHNZoALqugFQyF/axZx\n",
       "qKWLWixTq6HJNXgeMXdvULDukQO4hpGabkEzcT2KBQm2puJ6dfDFAHyFTbNaR9lUo+FXsuHJY66l\n",
       "i31Xa6I6CcVIWJru5Z8I7F59NKX3w1lOrH41P0f+faAAAADIQZrRSahBaJlMCCX//rUqgAE4bmeS\n",
       "atAzRH8VQSAHGODTANd+rcyb/KO9MvG4PR4+R4/mR15i75fhzkWQSTSqWWMY8gTen723IKm4JjWw\n",
       "JrRyJn6BLOvH34LHuaZoqtSnVXe3v42yW1pN7jYhoHrt22zrXOjRmS0FWV4ghZIjy8R0O7R8DX7z\n",
       "fb1qHNGxWzKPRjH8WPx/b3dZLxca+j/cFkndQJfjKimkWOlS4F9eNZFonbwzJWI5HzBo/MgmRZb8\n",
       "IjEUkfp+/IAAAACFQZr1SeEKUmUwII///rUqgAE4bap5tRxWrDDFQAD8EWp6vOCy0EKxCOgXE/9N\n",
       "8uEN3Am/O93UtFKt8lZ/qpheiJ2k5WTMi/NkgkycouAQDKIsLsidbBx8A7wPzx9TSba/5dqM9tUC\n",
       "QWge+jDBPi90Uegu4LnFE7EhAVwZwBzCtphG4zw7gQAAAEVBnxNFNEw//wABFYxrTrNl7pbg78AG\n",
       "yEBVizuCMG/5L30cNYdp4ySA4Dm1s1fkqhntyBazZF4OdoxHqfLKVloYkR4/BTAAAABDAZ8ydEO/\n",
       "AAGG2vRKp/jCXokOABOtJZR2spNDjg9YYWBBYpE/azaJFfn+LeTQlqkb8EUVMhcBFQ5CIrLmmrXS\n",
       "C/9ykAAAAB0BnzRqQ78AAYba9E1X+Rjw8TvJpBZwM3RTDtuB4QAAADZBmzdJqEFomUwU8Ef//rUq\n",
       "gAE4bcWD1Xabl1KADRYvyoJS6gtWR0MVP67XApo+aRdbZVXI6pgAAAAzAZ9WakO/AAGG2vROlDfy\n",
       "g3JzvgA1l5sBNkPD6je9bRxxoADQ/9ZspKs/phObRJOv9WCBAAAAeUGbWUnhClJlMFLBH/61KoAA\n",
       "M9m1yUdACdt8/3AZKhGQfms8tdy7TLwx7vVFcr2gj9i16OR3DYgWM1D9kEewTc4WEaiLUCscmdIN\n",
       "GT1sJ0RKsCI5vcERWuQkLcmX5lJjcOzEAegCRVrkLodypGXfaoDWN0kb/lf09mEAAAA5AZ94akO/\n",
       "AAGG2vS0fHDkFEd4+4APvINKNkfGbubL614CflXy7DLeGe/fGGFuUrXfQ2fV6MWt34+oAAAAfUGb\n",
       "eknhDomUwII//rUqgABlvj51xquVLhFWNA0ZABfNthtIyvwJ5x4NlPYpGivOlGOp4c+amRCTF7SA\n",
       "PFCOewOvukP5unVnURANJdGBQBxCBJicSDDTXI0oYlqreA7lJjTyr5X0DjhPjkox9dwCukHFqDxM\n",
       "D2aITlkqWM6ZAAAAbEGbm0nhDyZTAgj//rUqgAAyj+CqErq8RKUDgAmXG32fwthJP6ognamvN/B4\n",
       "me82JOgYZMOFnxStor/1zJewKYQuSyIWkTOLWDxkIyP7U1UtaakFFLPzGwzz6Swebmt5AOCHKWRr\n",
       "5WL4TuoKLgAAAL9Bm7xJ4Q8mUwII//61KoABOG2qebUcE773yMAB0UlK31oOGH3CI1e8qYMqg/Ap\n",
       "tSBBoomn1SUjuT2nP7RY38v3iQF52C2fx/vXO/5fP5viLt0QGuJ5HH/b+Ut6P8eYeSwpRbq6Nk9u\n",
       "4sS1TpMEBGQY2JmlPlecTYm5vAEeSrA/up7VL9vv/m6TWNM3I0dx7l4cBVCMlvurKBE8xoeA4pCr\n",
       "5aDa+33RXJykXoO8znBtix5IgiN0JL6dWbDKAASzAwAAAQ5Bm95J4Q8mUwURPBH//rUqgAE4bcWD\n",
       "1XaXvsqust2gB0qOR1or7+rlEcQG33+nPPKmA+cDRGOB9EJb9Stf0U3xZsXXoueJ/n71M1AASxPp\n",
       "M52oXGg+f8+V3FUak1FcGGxOfdW7jDHOjwUkZ6jsf+nyaVaTAkCk1w0M+XV99LicMQPhSwsTde87\n",
       "VsW2CqdP6OsdBd6E+69FDc6Chzqb/3xeYV1BVhS0f+AohBrBkqIPfASmn4ygb27HlM8nWYd7WPXA\n",
       "BaVU9QnMJnxuo/51Ab6a4DoIrfVO0pzUwjhtSbuymoh3tCraHlNe0UwBCg7SQFZejm6R/cks9PqU\n",
       "BCF2nSI6jcT66EerI3x//NqDIeEAAAB1AZ/9akO/AAGLJv8jDaPWzQAQgUJP3NV6je44quZO3nZO\n",
       "T/loduSwJAVd6Op2h+FyM5BA3NBsKRaZc9t95zr3Ik6BLBZRUFcozVoL8nCIHQDWAr+D/klDS4h/\n",
       "Qaeb/eMZQz+9nZm7Eo8mRdzarI7BPllB+n7AAAAA2kGb4EnhDyZTBTwR//61KoAAMB5aLafGQAfw\n",
       "eergiSE7TJx9l2u+LTlSh4qkalQH201s7bOgyLqFDfACakEdx6Sru0nDlTtVSUgdfW7+7vl9bniw\n",
       "3qE0M1bRtVoUy9pKxwUYyJ6u96hSkgXlbEi2cPeYdlz8RdqqmqKef9doEG6t8YJqY3SjOtOBc7Xr\n",
       "VHcxzKU4Lp8CnsagW9iJUl+2Tq7oc91MQmiM7rAhJKY+Z0Rrn8KQeKQ2jrxOXhdrYtMI6Ih8ILNG\n",
       "DKOoyWcg3ZiYcFuHptqDOOuo5KXcAAAAWQGeH2pDvwAAu5DlZKgAgR9/bYK6LkhiYuhSLjHKu2Pg\n",
       "+MrEqPODKnrMlDqCC5wZNBlL2maPyZRC2QNMWk64mqBCym6nkh2YR67+wpDLZ+UIT9bynrGy+smh\n",
       "AAAAFEGaA0nhDyZTAh3//qmWAAADAPCAAAAAPUGeIUURPD//AACCjGjKNH+eAEtWtjUZDyRZ1pGc\n",
       "dWweGFzuQ4AuGXME1ErKV8alLHfLjjsvoQEudQP7ZsEAAAAWAZ5CakO/AAC7qvXtH9DRy+qWKWLf\n",
       "oAAAB05tb292AAAAbG12aGQAAAAAAAAAAAAAAAAAAAPoAAA6mAABAAABAAAAAAAAAAAAAAAAAQAA\n",
       "AAAAAAAAAAAAAAAAAAEAAAAAAAAAAAAAAAAAAEAAAAAAAAAAAAAAAAAAAAAAAAAAAAAAAAAAAAAA\n",
       "AAACAAAGeHRyYWsAAABcdGtoZAAAAAMAAAAAAAAAAAAAAAEAAAAAAAA6mAAAAAAAAAAAAAAAAAAA\n",
       "AAAAAQAAAAAAAAAAAAAAAAAAAAEAAAAAAAAAAAAAAAAAAEAAAAABsAAAASAAAAAAACRlZHRzAAAA\n",
       "HGVsc3QAAAAAAAAAAQAAOpgAAAwAAAEAAAAABfBtZGlhAAAAIG1kaGQAAAAAAAAAAAAAAAAAACgA\n",
       "AAJYAFXEAAAAAAAtaGRscgAAAAAAAAAAdmlkZQAAAAAAAAAAAAAAAFZpZGVvSGFuZGxlcgAAAAWb\n",
       "bWluZgAAABR2bWhkAAAAAQAAAAAAAAAAAAAAJGRpbmYAAAAcZHJlZgAAAAAAAAABAAAADHVybCAA\n",
       "AAABAAAFW3N0YmwAAACzc3RzZAAAAAAAAAABAAAAo2F2YzEAAAAAAAAAAQAAAAAAAAAAAAAAAAAA\n",
       "AAABsAEgAEgAAABIAAAAAAAAAAEAAAAAAAAAAAAAAAAAAAAAAAAAAAAAAAAAAAAAAAAAAAAY//8A\n",
       "AAAxYXZjQwFkABX/4QAYZ2QAFazZQbCWhAAAAwAMAAADAKA8WLZYAQAGaOvjyyLAAAAAHHV1aWRr\n",
       "aEDyXyRPxbo5pRvPAyPzAAAAAAAAABhzdHRzAAAAAAAAAAEAAABkAAAGAAAAABRzdHNzAAAAAAAA\n",
       "AAEAAAABAAACoGN0dHMAAAAAAAAAUgAAAAEAAAwAAAAAAQAAGAAAAAACAAAGAAAAAAEAABIAAAAA\n",
       "AQAABgAAAAACAAAMAAAAAAEAABIAAAAAAQAABgAAAAABAAASAAAAAAEAAAYAAAAAAQAAHgAAAAAB\n",
       "AAAMAAAAAAEAAAAAAAAAAQAABgAAAAABAAASAAAAAAEAAAYAAAAAAQAADAAAAAABAAAYAAAAAAIA\n",
       "AAYAAAAAAQAADAAAAAABAAAYAAAAAAIAAAYAAAAAAQAAEgAAAAABAAAGAAAAAAQAAAwAAAAAAQAA\n",
       "EgAAAAABAAAGAAAAAAEAABgAAAAAAgAABgAAAAABAAAYAAAAAAIAAAYAAAAABQAADAAAAAABAAAS\n",
       "AAAAAAEAAAYAAAAAAQAADAAAAAABAAAeAAAAAAEAAAwAAAAAAQAAAAAAAAABAAAGAAAAAAEAABIA\n",
       "AAAAAQAABgAAAAABAAASAAAAAAEAAAYAAAAAAQAADAAAAAABAAAeAAAAAAEAAAwAAAAAAQAAAAAA\n",
       "AAABAAAGAAAAAAEAABIAAAAAAQAABgAAAAABAAAMAAAAAAEAABIAAAAAAQAABgAAAAABAAAMAAAA\n",
       "AAEAABIAAAAAAQAABgAAAAABAAAMAAAAAAEAAB4AAAAAAQAADAAAAAABAAAAAAAAAAEAAAYAAAAA\n",
       "AQAAEgAAAAABAAAGAAAAAAIAAAwAAAAAAQAAGAAAAAACAAAGAAAAAAEAAAwAAAAAAQAAHgAAAAAB\n",
       "AAAMAAAAAAEAAAAAAAAAAQAABgAAAAABAAASAAAAAAEAAAYAAAAAAQAAEgAAAAABAAAGAAAAAAMA\n",
       "AAwAAAAAAQAAEgAAAAABAAAGAAAAAAEAABIAAAAAAQAABgAAAAABAAAYAAAAAAIAAAYAAAAAHHN0\n",
       "c2MAAAAAAAAAAQAAAAEAAABkAAAAAQAAAaRzdHN6AAAAAAAAAAAAAABkAAAdTgAAAOIAAABZAAAA\n",
       "XQAAAJMAAABkAAAAYgAAAL4AAADKAAAAjQAAANAAAAB1AAAAVwAAAI4AAABDAAAAKgAAAIQAAABF\n",
       "AAAAowAAAWMAAACCAAAAlgAAAJoAAABPAAAAgQAAABgAAAC4AAAAZwAAAMMAAAD8AAAA1QAAAJAA\n",
       "AABRAAAAbgAAAHUAAABWAAAAGwAAAKIAAABMAAAAUQAAAJMAAACNAAAA1QAAAKYAAADDAAAAxAAA\n",
       "AFcAAACjAAAAfAAAAEIAAAA5AAAAIgAAAIsAAABBAAAAlgAAAEsAAACtAAABMgAAAJEAAACOAAAA\n",
       "XwAAAHEAAABAAAAAKgAAATgAAAB8AAABCQAAAMAAAABFAAAAdgAAAEMAAABsAAAAPAAAACsAAACG\n",
       "AAAASAAAAH0AAADAAAAB7wAAAIkAAAB5AAAAzAAAAIkAAABJAAAARwAAACEAAAA6AAAANwAAAH0A\n",
       "AAA9AAAAgQAAAHAAAADDAAABEgAAAHkAAADeAAAAXQAAABgAAABBAAAAGgAAABRzdGNvAAAAAAAA\n",
       "AAEAAAAsAAAAYnVkdGEAAABabWV0YQAAAAAAAAAhaGRscgAAAAAAAAAAbWRpcmFwcGwAAAAAAAAA\n",
       "AAAAAAAtaWxzdAAAACWpdG9vAAAAHWRhdGEAAAABAAAAAExhdmY1OC4yMC4xMDA=\n",
       "\">\n",
       "  Your browser does not support the video tag.\n",
       "</video>"
      ],
      "text/plain": [
       "<matplotlib.animation.FuncAnimation at 0x7f434c9edb38>"
      ]
     },
     "execution_count": 46,
     "metadata": {},
     "output_type": "execute_result"
    }
   ],
   "source": [
    "anim = animation.FuncAnimation(fig, MODO1, frames=100, interval=150)\n",
    "anim"
   ]
  },
  {
   "cell_type": "markdown",
   "metadata": {},
   "source": [
    "## c) ¿Qué modifica la presencia de gravedad?\n",
    "Sin tratar de ser perspicaces empecemos a resolver \"mecánicamente\".\n",
    "Al potencial anteriormente calculado agregamos el potencial gravitatorio\n",
    "$$\n",
    "V(y_a, y_b)= \\frac{k}{2} \\left[ \\left(y_a - l_0 \\right)^2 + \\left(y_b - y_a - l_0 \\right)^2 \\right]- g( m_a y_a + m_b y_b) .\n",
    "$$ "
   ]
  },
  {
   "cell_type": "markdown",
   "metadata": {},
   "source": [
    "Habrá nuevas posiciones de equilibrio.\n",
    "Basta realizar $\\frac{\\partial}{\\partial y_i} V = 0$ \n",
    "$$\n",
    "\\left\\{\n",
    "\\begin{aligned}\n",
    "k(y_a - l_0)- k (y_b - y_a - l_0)- g m_a =  2 k y_a - k y_b - g m_a &= 0 \\\\\n",
    "k(y_b - y_a - l_0) - g m_b &= 0\n",
    "\\end{aligned}\n",
    "\\right.\n",
    "$$\n",
    "de donde puede obtenerse fácilmente las posiciones de equilibrio $y_{a0}= \\frac{g}{k} (m_a + m_b) + l_0$ e $y_{a0}= \\frac{g}{k} (m_a + 2 m_b) + 2 l_0$.\n",
    "\n",
    "Bien, tenemos nuevas posiciones de equilibrio, y entonces para escribir en función de los apartamientos de estas $\\psi_a$ y $\\psi_b$ tenemos  \n",
    "$$\n",
    "\\begin{aligned}\n",
    "y_a &= y_{a0}+ \\psi_a = \\frac{g}{k} (m_a + m_b) + l_0 + \\psi_a \\\\\n",
    "y_b &= y_{b0}+ \\psi_a = \\frac{g}{k} (m_a + 2 m_b) + 2 l_0 + \\psi_b,\n",
    "\\end{aligned}\n",
    "$$"
   ]
  },
  {
   "cell_type": "markdown",
   "metadata": {},
   "source": [
    "¿Qué seguía? Para obtener las fuerzas derivar el potencial potencial... ¡pero si lo acabamos de hacer!\n",
    "Si reemplazo estos $y_a$ y $y_b$\n",
    "$$\n",
    "\\left\\{\n",
    "\\begin{aligned}\n",
    "m_a \\ddot{\\psi}_a \n",
    "& = 2 k \\left[ \\frac{g}{k} (m_a + m_b) + l_0 + \\psi_a \\right] - k \\left[ \\frac{g}{k} (m_a + 2 m_b) + 2 l_0 + \\psi_b \\right] - g m_a \\\\\n",
    "& = 2 g (m_a+ m_b) + 2k l_0 + 2 k \\psi_a - g (m_a + 2 m_b) - 2 k l_0 - k \\psi_b - g m_a \\\\\n",
    "& = -k (2\\psi_a - \\psi_b) \\\\\n",
    "m_b \\ddot{\\psi}_b \n",
    "& = k \\left[ \\left( \\frac{g}{k} (m_a + 2 m_b) + 2 l_0 + \\psi_b \\right) - \\left( \\frac{g}{k} (m_a + m_b) + l_0 + \\psi_a \\right) - l_0 \\right] - g m_b \\\\\n",
    "& = g (m_a + 2 m_b) + 2 k l_0 + k \\psi_b - g (m_a + m_b) + k l_0 + k \\psi_a - kl_0 - g m_b \\\\\n",
    "& = -k (\\psi_b - \\psi_a)\n",
    "\\end{aligned}\n",
    "\\right.\n",
    "$$\n",
    "\n",
    "Exactamente lo que teníamos para el caso sin gravedad.\n",
    "¿Qué es lo que cambia?\n",
    "No hay que olvidar de que si se quiere expresar las posiciones no desde el equilibrio sino como $y_i$ hay que sumar la posición de equilibrio, que ahora es mayor en módulo que las de los resortes libres, $l_0$ y $2l_0$ respectivamente.\n",
    "\n",
    "Siendo perspicaces tendríamos que haber recordado que nada de lo que obtuvimos, en particular las frecuencias de oscilación, tenían dependencia en las longitudes de los resortes, si de $k$ y las $m$. "
   ]
  },
  {
   "cell_type": "code",
   "execution_count": null,
   "metadata": {},
   "outputs": [],
   "source": []
  }
 ],
 "metadata": {
  "kernelspec": {
   "display_name": "Python 3",
   "language": "python",
   "name": "python3"
  },
  "language_info": {
   "codemirror_mode": {
    "name": "ipython",
    "version": 3
   },
   "file_extension": ".py",
   "mimetype": "text/x-python",
   "name": "python",
   "nbconvert_exporter": "python",
   "pygments_lexer": "ipython3",
   "version": "3.7.3"
  }
 },
 "nbformat": 4,
 "nbformat_minor": 4
}
