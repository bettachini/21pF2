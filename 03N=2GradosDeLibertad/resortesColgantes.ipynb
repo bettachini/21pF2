{
 "cells": [
  {
   "cell_type": "markdown",
   "metadata": {},
   "source": [
    "# Dos resortes colgantes"
   ]
  },
  {
   "cell_type": "markdown",
   "metadata": {},
   "source": [
    "![Departamento de Física, Facultad de Ciencias Exactas y Naturales, Universidad de Buenos Aires](figuras/logoDF.png \"DF, FCEyN, UBA\")  \n",
    "©2021 [Víctor A. Bettachini](mailto:bettachini@df.uba.ar)  \n",
    "\n",
    "----"
   ]
  },
  {
   "cell_type": "markdown",
   "metadata": {},
   "source": [
    "# Enunciado\n",
    " Considere el sistema de la figura en ausencia de gravedad  \n",
    "![Figura 1: Sistema a analizar.](figuras/modosNormales_ej1-6.png)\n",
    "    \n",
    "a) Obtenga sus frecuencias naturales de oscilación y los modos normales correspondientes.\n",
    "Escriba las ecuaciones de movimiento de cada masa.  \n",
    "b) Sabiendo que a $t=0$ el sistema satisface las siguientes condiciones: $\\Psi_{a}(0)=1,\\,\\Psi_{b}(0)=0$ y que se encuentra en reposo, encuentre el movimiento de cada partícula.   \n",
    "c) Analice cómo se modifica el resultado por la presencia de la gravedad."
   ]
  },
  {
   "cell_type": "markdown",
   "metadata": {},
   "source": [
    "# Sistema sin gravedad | 1) obtención de frecuencias y modos normales de oscilación\n",
    "\n",
    "### Potenciales en el sistema\n",
    "Empezamos preguntandonos que potenciales están en juego.\n",
    "En este caso los de los resortes.\n",
    "En la figura está indicada como coordenadas sugeridas las $\\psi_i$, notación que se usa para notar un pequeño desplazamiento.\n",
    "Pero antes de ver el porqué de esta sugerencia hagamos el análisis el potencial elástico de cada resorte que como sabemos depende de la longitud de los mismos.\n",
    "\n",
    "Tomamos el origen del sistema de coordenadas en el \"techo\" del que pende el resorte superior, de allí apuntando hacia abajo orientamos $\\hat{y}$.\n",
    "Para el resorte unido a este techo la posición de la masa superior $\\vec{y}_a$ determina su longitud\n",
    "$$\n",
    "l_1 = |y_a \\hat{y} - 0|= y_a .\n",
    "$$\n",
    "Para el que pende debajo de esta masa tiene en su otro extremo en $\\vec{y}_b$ otra masa.\n",
    "La posición de ambas establece su longitud\n",
    "$$\n",
    "l_2 = |y_b \\hat{y} - y_a \\hat{y}|= y_b- y_a . \n",
    "$$\n",
    "Si ambos tienen la misma longitud natural $l_0$, aquella que tendrían si ninguna fuerza se aplicara a ellos, el potencial del sistema es\n",
    "$$\n",
    "V(y_a, y_b)= \\frac{k}{2} \\left[ \\left(y_a - l_0 \\right)^2 + \\left(y_b - y_a - l_0 \\right)^2 \\right].\n",
    "$$ "
   ]
  },
  {
   "cell_type": "code",
   "execution_count": 1,
   "metadata": {},
   "outputs": [],
   "source": [
    "import sympy as sym\n",
    "from sympy.physics.mechanics import init_vprinting\n",
    "init_vprinting() # notación con punto para la velocidad y punto punto para la aceleración"
   ]
  },
  {
   "cell_type": "code",
   "execution_count": 2,
   "metadata": {},
   "outputs": [],
   "source": [
    "m, k = sym.symbols('m, k') # parámetros físicos\n",
    "t = sym.Symbol('t')\n",
    "l_0 = sym.symbols('l_0')\n",
    "y_a = sym.Function('y_a')(t)\n",
    "y_b = sym.Function('y_b')(t)"
   ]
  },
  {
   "cell_type": "code",
   "execution_count": 3,
   "metadata": {},
   "outputs": [
    {
     "data": {
      "image/png": "[encoded data removed]",
      "text/latex": [
       "$\\displaystyle V = \\frac{k \\left(\\left(- l_{0} + y_{a}\\right)^{2} + \\left(- l_{0} - y_{a} + y_{b}\\right)^{2}\\right)}{2}$"
      ],
      "text/plain": [
       "      ⎛          2                   2⎞\n",
       "    k⋅⎝(-l₀ + yₐ)  + (-l₀ - yₐ + y_b) ⎠\n",
       "V = ───────────────────────────────────\n",
       "                     2                 "
      ]
     },
     "execution_count": 3,
     "metadata": {},
     "output_type": "execute_result"
    }
   ],
   "source": [
    "V = sym.Eq(sym.symbols('V'), (k/2)* ((y_a- l_0)**2 + (y_b- y_a- l_0)**2 ) )\n",
    "V"
   ]
  },
  {
   "cell_type": "markdown",
   "metadata": {},
   "source": [
    "## Fuerzas y planteo de 2.a ley de Newton\n",
    "Para escribir la 2.a ley de Newton para cada masa obtenemos las fuerzas sobre ellas.\n",
    "Para la superior\n",
    "$$\n",
    "m \\ddot{y}_a \n",
    "= m \\ddot{\\vec{y}_a} \\cdot \\hat{y} = -\\vec{\\nabla}_a V \\cdot \\hat{y} \n",
    "= - \\frac{\\partial}{\\partial y_a} V(y_a, y_b) = - k (y_a- l_0) + k (y_b- y_a- l_0)\n",
    "= -k (2 y_a- y_b) .\n",
    "$$"
   ]
  },
  {
   "cell_type": "code",
   "execution_count": 4,
   "metadata": {},
   "outputs": [
    {
     "data": {
      "image/png": "[encoded data removed]",
      "text/latex": [
       "$\\displaystyle m \\ddot{y}_{a} = - k \\left(2 y_{a} - y_{b}\\right)$"
      ],
      "text/plain": [
       "m⋅yₐ̈ = -k⋅(2⋅yₐ - y_b)"
      ]
     },
     "execution_count": 4,
     "metadata": {},
     "output_type": "execute_result"
    }
   ],
   "source": [
    "sym.Eq(m* y_a.diff(t,2), -V.rhs.diff(y_a).simplify() )"
   ]
  },
  {
   "cell_type": "markdown",
   "metadata": {},
   "source": [
    "Para la masa inferior lo mismo\n",
    "$$\n",
    "\\frac{2m}{3} \\ddot{y}_b = \\frac{2m}{3} \\ddot{\\vec{y}_b} \\cdot \\hat{y} = -\\vec{\\nabla}_b V \\cdot \\hat{y} = - \\frac{\\partial}{\\partial y_b} V(y_a, y_b)= - k (y_b -y_a- l_0) .\n",
    "$$"
   ]
  },
  {
   "cell_type": "code",
   "execution_count": 5,
   "metadata": {},
   "outputs": [
    {
     "data": {
      "image/png": "[encoded data removed]",
      "text/latex": [
       "$\\displaystyle \\frac{2 m \\ddot{y}_{b}}{3} = - k \\left(- l_{0} - y_{a} + y_{b}\\right)$"
      ],
      "text/plain": [
       "2⋅m⋅y_̈b                      \n",
       "─────── = -k⋅(-l₀ - yₐ + y_b)\n",
       "   3                         "
      ]
     },
     "execution_count": 5,
     "metadata": {},
     "output_type": "execute_result"
    }
   ],
   "source": [
    "sym.Eq(sym.Rational(2,3)* m* y_b.diff(t,2), -V.rhs.diff(y_b).simplify() )"
   ]
  },
  {
   "cell_type": "markdown",
   "metadata": {},
   "source": [
    "En este sistema no afectado por la aceleración $\\vec{g}$, resulta que las longitudes de equilibrio de las fuerzas corresponden a cuando la longitud de los resortes coincide con $l_0$, pues ninguna otra fuerza que la elástica existe en este modelo.\n",
    "Esto es fácilmente comprobable obteniendo el mínimo de potencial en función de las longitudes de los resortes. $l_1$ y $l_2$.\n",
    "Entonces\n",
    "$$\n",
    "y_a = l_o + \\psi_a,\n",
    "$$\n",
    "siendo $\\psi_a$ el pequeño desplazamiento en torno a la posición de equilibrio, y lo mismo para el extremo inferior del segundo resorte.\n",
    "$$\n",
    "y_b = 2 l_o + \\psi_b.\n",
    "$$"
   ]
  },
  {
   "cell_type": "code",
   "execution_count": 6,
   "metadata": {},
   "outputs": [
    {
     "data": {
      "image/png": "[encoded data removed]",
      "text/latex": [
       "$\\displaystyle V = \\frac{k \\left(\\left(- \\psi_{a} + \\psi_{b}\\right)^{2} + \\psi_{a}^{2}\\right)}{2}$"
      ],
      "text/plain": [
       "      ⎛           2     2⎞\n",
       "    k⋅⎝(-ψₐ + ψ_b)  + ψₐ ⎠\n",
       "V = ──────────────────────\n",
       "              2           "
      ]
     },
     "execution_count": 6,
     "metadata": {},
     "output_type": "execute_result"
    }
   ],
   "source": [
    "psi_a = sym.Function('psi_a')(t) # se declaran símbolos a medida que se requieren\n",
    "psi_b = sym.Function('psi_b')(t)\n",
    "psis ={\n",
    "    y_a : l_0 + psi_a,\n",
    "    y_b : 2* l_0 + psi_b,\n",
    "}\n",
    "Vpsi = V.subs(psis)\n",
    "Vpsi"
   ]
  },
  {
   "cell_type": "markdown",
   "metadata": {},
   "source": [
    "Si quiere re-escribirse las ecuaciones de la 2.a ley en funcion de estos pequeños desplazamientos al derivar dos veces respecto al tiempo $\\ddot{y}_a= \\ddot{\\psi}_a$ y $\\ddot{y}_b = \\ddot{\\psi}_b$.\n",
    "Se obtendrá\n",
    "$$\n",
    "\\begin{aligned}\n",
    "m \\ddot{\\psi}_a & = - k \\left[ (l_o + \\psi_a) - l_0 \\right] + k \\left[ (2 l_0 + \\psi_b) - (l_0 + \\psi_a) - l_0 \\right] = -k \\psi_a + k (\\psi_b - \\psi_a) = -k (2\\psi_a - \\psi_b) \\\\\n",
    "\\frac{2m}{3} \\ddot{\\psi}_b & = -  k \\left( (2 l_o+ \\psi_b) - (l_o + \\psi_a) - l_0 \\right)= -k (\\psi_b - \\psi_a)\n",
    "\\end{aligned}\n",
    "$$"
   ]
  },
  {
   "cell_type": "code",
   "execution_count": 7,
   "metadata": {},
   "outputs": [
    {
     "data": {
      "image/png": "[encoded data removed]",
      "text/latex": [
       "$\\displaystyle m \\ddot{\\psi}_{a} = - k \\left(2 \\psi_{a} - \\psi_{b}\\right)$"
      ],
      "text/plain": [
       "m⋅ψₐ̈ = -k⋅(2⋅ψₐ - ψ_b)"
      ]
     },
     "execution_count": 7,
     "metadata": {},
     "output_type": "execute_result"
    }
   ],
   "source": [
    "sym.Eq(m* y_a.subs(psis).diff(t,2), -Vpsi.rhs.diff(psi_a).simplify() )"
   ]
  },
  {
   "cell_type": "code",
   "execution_count": 8,
   "metadata": {},
   "outputs": [
    {
     "data": {
      "image/png": "[encoded data removed]",
      "text/latex": [
       "$\\displaystyle \\frac{2 m \\ddot{\\psi}_{b}}{3} = - k \\left(- \\psi_{a} + \\psi_{b}\\right)$"
      ],
      "text/plain": [
       "2⋅m⋅ψ_̈b                 \n",
       "─────── = -k⋅(-ψₐ + ψ_b)\n",
       "   3                    "
      ]
     },
     "execution_count": 8,
     "metadata": {},
     "output_type": "execute_result"
    }
   ],
   "source": [
    "sym.Eq(sym.Rational(2,3)* m* y_b.subs(psis).diff(t,2), -Vpsi.rhs.diff(psi_b).simplify() )"
   ]
  },
  {
   "cell_type": "markdown",
   "metadata": {},
   "source": [
    "Queda un sistema de ecuaciones diferenciales lineales acopladas\n",
    "$$\n",
    "\\left \\{\n",
    "\\begin{matrix}\n",
    "m \\ddot{\\psi}_a = - k (2 \\psi_a - \\psi_b)\\\\\n",
    "\\frac{2m}{3} \\ddot{\\psi}_b = -k ( \\psi_b - \\psi_a)\n",
    "\\end{matrix}\n",
    "\\right .\n",
    ",\n",
    "$$\n",
    "que puede escribirse en forma matricial"
   ]
  },
  {
   "cell_type": "code",
   "execution_count": 9,
   "metadata": {},
   "outputs": [
    {
     "data": {
      "text/latex": [
       "$\\displaystyle \\left[\\begin{matrix}m & 0\\\\0 & \\frac{3 m}{2}\\end{matrix}\\right] \\left[\\begin{matrix}\\ddot{\\psi}_{a}\\\\\\ddot{\\psi}_{b}\\end{matrix}\\right] = - k \\left[\\begin{matrix}2 & -1\\\\-1 & 1\\end{matrix}\\right] \\left[\\begin{matrix}\\psi_{a}\\\\\\psi_{b}\\end{matrix}\\right]$"
      ],
      "text/plain": [
       "⎡m   0 ⎤                          \n",
       "⎢      ⎥ ⎡ψₐ̈ ⎤      ⎡2   -1⎤ ⎡ψₐ ⎤\n",
       "⎢   3⋅m⎥⋅⎢   ⎥ = -k⋅⎢      ⎥⋅⎢   ⎥\n",
       "⎢0  ───⎥ ⎣ψ_̈b⎦      ⎣-1  1 ⎦ ⎣ψ_b⎦\n",
       "⎣    2 ⎦                          "
      ]
     },
     "execution_count": 9,
     "metadata": {},
     "output_type": "execute_result"
    }
   ],
   "source": [
    "vecPsi = sym.Matrix([[psi_a], [psi_b] ] )\n",
    "matM = sym.Matrix([\n",
    "    [1, 0],\n",
    "    [0,'3/2']\n",
    "] )\n",
    "matK = sym.Matrix([\n",
    "    [2, -1],\n",
    "    [-1,1]\n",
    "] )\n",
    "sym.Eq(sym.MatMul(matM* m, vecPsi.diff().diff() ), sym.MatMul(-k, matK, vecPsi) )"
   ]
  },
  {
   "cell_type": "markdown",
   "metadata": {},
   "source": [
    "Que se escriben como\n",
    "$$\n",
    "\\mathbb{M} \\ddot{\\vec{\\Psi}} = -\\mathbb{K} \\vec{\\Psi},\n",
    "$$\n",
    "donde $\\mathbb{M}$ es una matríz con la información de las masas y $\\mathbb{K}$ tiene los coeficientes de dureza de los resortes.\n",
    "\n",
    "Como $\\mathbb{M}$ diagonal nada impide despejar $\\ddot{\\vec{\\Psi}}$ y llevar a la forma más usual\n",
    "$$\n",
    "\\ddot{\\vec{\\Psi}} = -\\mathbb{K}' \\vec{\\Psi},\n",
    "$$\n",
    "donde $\\mathbb{K}'$ está normalizada con las $m$."
   ]
  },
  {
   "cell_type": "code",
   "execution_count": 10,
   "metadata": {},
   "outputs": [
    {
     "data": {
      "text/latex": [
       "$\\displaystyle \\left[\\begin{matrix}\\ddot{\\psi}_{a}\\\\\\ddot{\\psi}_{b}\\end{matrix}\\right] = \\left[\\begin{matrix}- \\frac{2 k}{m} & \\frac{k}{m}\\\\\\frac{3 k}{2 m} & - \\frac{3 k}{2 m}\\end{matrix}\\right] \\left[\\begin{matrix}\\psi_{a}\\\\\\psi_{b}\\end{matrix}\\right]$"
      ],
      "text/plain": [
       "        ⎡-2⋅k     k  ⎤      \n",
       "        ⎢─────    ─  ⎥      \n",
       "⎡ψₐ̈ ⎤   ⎢  m      m  ⎥ ⎡ψₐ ⎤\n",
       "⎢   ⎥ = ⎢            ⎥⋅⎢   ⎥\n",
       "⎣ψ_̈b⎦   ⎢ 3⋅k   -3⋅k ⎥ ⎣ψ_b⎦\n",
       "        ⎢ ───   ─────⎥      \n",
       "        ⎣ 2⋅m    2⋅m ⎦      "
      ]
     },
     "execution_count": 10,
     "metadata": {},
     "output_type": "execute_result"
    }
   ],
   "source": [
    "vecPsi = sym.Matrix([[psi_a], [psi_b] ] )\n",
    "matrízKprima = -(k/m)* sym.Matrix([\n",
    "    [2, -1],\n",
    "    ['-3/2','3/2']\n",
    "] )\n",
    "sym.Eq(sym.MatMul(vecPsi.diff().diff() ), sym.MatMul(matrízKprima, vecPsi) )"
   ]
  },
  {
   "cell_type": "markdown",
   "metadata": {},
   "source": [
    "## Resolución del sistema de ecuaciones diferenciales\n",
    "\n",
    "Proponiendo la solución $\\psi= \\psi_0 \\mathrm{e}^{i \\omega t}$, se llega a que\n",
    "$$\n",
    "\\ddot{\\psi} =  (-i \\omega)^2 \\psi= - \\omega^2 \\psi\n",
    "$$ \n",
    "lo que permite escribir el sistema como"
   ]
  },
  {
   "cell_type": "code",
   "execution_count": 11,
   "metadata": {},
   "outputs": [
    {
     "data": {
      "text/latex": [
       "$\\displaystyle - \\omega^{2} \\left[\\begin{matrix}\\psi_{a}\\\\\\psi_{b}\\end{matrix}\\right] = \\left[\\begin{matrix}- \\frac{2 k}{m} & \\frac{k}{m}\\\\\\frac{3 k}{2 m} & - \\frac{3 k}{2 m}\\end{matrix}\\right] \\left[\\begin{matrix}\\psi_{a}\\\\\\psi_{b}\\end{matrix}\\right]$"
      ],
      "text/plain": [
       "            ⎡-2⋅k     k  ⎤      \n",
       "            ⎢─────    ─  ⎥      \n",
       "  2 ⎡ψₐ ⎤   ⎢  m      m  ⎥ ⎡ψₐ ⎤\n",
       "-ω ⋅⎢   ⎥ = ⎢            ⎥⋅⎢   ⎥\n",
       "    ⎣ψ_b⎦   ⎢ 3⋅k   -3⋅k ⎥ ⎣ψ_b⎦\n",
       "            ⎢ ───   ─────⎥      \n",
       "            ⎣ 2⋅m    2⋅m ⎦      "
      ]
     },
     "execution_count": 11,
     "metadata": {},
     "output_type": "execute_result"
    }
   ],
   "source": [
    "omega= sym.Symbol('omega', positive=True)\n",
    "sym.Eq(sym.MatMul(- omega**2, vecPsi), sym.MatMul(matrízKprima, vecPsi))"
   ]
  },
  {
   "cell_type": "markdown",
   "metadata": {},
   "source": [
    "Esto nos permite agrupar todo a un lado del signo de igualdad"
   ]
  },
  {
   "cell_type": "code",
   "execution_count": 12,
   "metadata": {},
   "outputs": [
    {
     "data": {
      "text/latex": [
       "$\\displaystyle \\left[\\begin{matrix}- \\frac{2 k}{m} + \\omega^{2} & \\frac{k}{m}\\\\\\frac{3 k}{2 m} & - \\frac{3 k}{2 m} + \\omega^{2}\\end{matrix}\\right] \\left[\\begin{matrix}\\psi_{a}\\\\\\psi_{b}\\end{matrix}\\right] = 0$"
      ],
      "text/plain": [
       "⎡  2⋅k    2      k     ⎤          \n",
       "⎢- ─── + ω       ─     ⎥          \n",
       "⎢   m            m     ⎥ ⎡ψₐ ⎤    \n",
       "⎢                      ⎥⋅⎢   ⎥ = 0\n",
       "⎢   3⋅k        3⋅k    2⎥ ⎣ψ_b⎦    \n",
       "⎢   ───      - ─── + ω ⎥          \n",
       "⎣   2⋅m        2⋅m     ⎦          "
      ]
     },
     "execution_count": 12,
     "metadata": {},
     "output_type": "execute_result"
    }
   ],
   "source": [
    "sistema = omega**2* sym.eye(2)+ matrízKprima\n",
    "sym.Eq(sym.MatMul(sistema, vecPsi), 0, evaluate= False)"
   ]
  },
  {
   "cell_type": "markdown",
   "metadata": {},
   "source": [
    "Para evitar la solución trivial $\\psi_1= \\psi_2= 0$ el determinante de la matriz debe ser nulo.\n",
    "Se obtiene así un polinomio característico correspondiente a la matríz $\\mathbb{K}'$ en función de los $\\omega^2$ que son los autovalores para esta matríz,"
   ]
  },
  {
   "cell_type": "code",
   "execution_count": 13,
   "metadata": {},
   "outputs": [
    {
     "data": {
      "image/png": "[encoded data removed]",
      "text/latex": [
       "$\\displaystyle \\frac{3 k^{2}}{2 m^{2}} - \\frac{7 k \\omega^{2}}{2 m} + \\omega^{4} = 0$"
      ],
      "text/plain": [
       "   2        2         \n",
       "3⋅k    7⋅k⋅ω     4    \n",
       "──── - ────── + ω  = 0\n",
       "   2    2⋅m           \n",
       "2⋅m                   "
      ]
     },
     "execution_count": 13,
     "metadata": {},
     "output_type": "execute_result"
    }
   ],
   "source": [
    "detSistema = sym.det(sistema)\n",
    "sym.Eq(detSistema, 0, evaluate= False).simplify()"
   ]
  },
  {
   "cell_type": "markdown",
   "metadata": {},
   "source": [
    "De las raices se obtienen las $\\omega$ de los modos normales"
   ]
  },
  {
   "cell_type": "code",
   "execution_count": 14,
   "metadata": {},
   "outputs": [
    {
     "data": {
      "image/png": "[encoded data removed]",
      "text/latex": [
       "$\\displaystyle \\left[ - \\frac{\\sqrt{2} \\sqrt{\\frac{k}{m}}}{2}, \\  \\frac{\\sqrt{2} \\sqrt{\\frac{k}{m}}}{2}, \\  - \\sqrt{3} \\sqrt{\\frac{k}{m}}, \\  \\sqrt{3} \\sqrt{\\frac{k}{m}}\\right]$"
      ],
      "text/plain": [
       "⎡        ___          ___                         ⎤\n",
       "⎢       ╱ k          ╱ k                          ⎥\n",
       "⎢-√2⋅  ╱  ─    √2⋅  ╱  ─           ___         ___⎥\n",
       "⎢    ╲╱   m       ╲╱   m          ╱ k         ╱ k ⎥\n",
       "⎢────────────, ──────────, -√3⋅  ╱  ─ , √3⋅  ╱  ─ ⎥\n",
       "⎣     2            2           ╲╱   m      ╲╱   m ⎦"
      ]
     },
     "execution_count": 14,
     "metadata": {},
     "output_type": "execute_result"
    }
   ],
   "source": [
    "frecModos = sym.solve(detSistema,omega)\n",
    "frecModos"
   ]
  },
  {
   "cell_type": "markdown",
   "metadata": {},
   "source": [
    "Las $\\omega$ negativas no tienen sentido físico, por lo que nos quedamos con las dos correspondientes a este sistema de sendos grados de libertad:"
   ]
  },
  {
   "cell_type": "code",
   "execution_count": 15,
   "metadata": {},
   "outputs": [
    {
     "data": {
      "image/png": "[encoded data removed]",
      "text/latex": [
       "$\\displaystyle \\left( \\omega_{1} = \\frac{\\sqrt{2} \\sqrt{\\frac{k}{m}}}{2}, \\  \\omega_{2} = \\sqrt{3} \\sqrt{\\frac{k}{m}}\\right)$"
      ],
      "text/plain": [
       "⎛            ___                 ⎞\n",
       "⎜           ╱ k                  ⎟\n",
       "⎜     √2⋅  ╱  ─               ___⎟\n",
       "⎜        ╲╱   m              ╱ k ⎟\n",
       "⎜ω₁ = ──────────, ω₂ = √3⋅  ╱  ─ ⎟\n",
       "⎝         2               ╲╱   m ⎠"
      ]
     },
     "execution_count": 15,
     "metadata": {},
     "output_type": "execute_result"
    }
   ],
   "source": [
    "omega_1, omega_2 = sym.symbols('omega_1, omega_2', positive=True)\n",
    "omega1 = sym.Eq(omega_1, sym.simplify(frecModos[1]) )\n",
    "omega2 = sym.Eq(omega_2, sym.simplify(frecModos[3]) )\n",
    "omega1, omega2"
   ]
  },
  {
   "cell_type": "markdown",
   "metadata": {},
   "source": [
    "Se hace usualmente un ordenamiento de menor a mayor de las frecuencias, pues como se verá luego, una mayor frecuencia está asociada a un movimiento _más violento_."
   ]
  },
  {
   "cell_type": "markdown",
   "metadata": {},
   "source": [
    "### Autovalores sin tanto esfuerzo"
   ]
  },
  {
   "cell_type": "markdown",
   "metadata": {},
   "source": [
    "Por supuesto `sympy` puede calcular los $\\omega_i$ sin que deba calcularse el polinomio característico de $\\mathbb{K}'$ y obtener sus raices."
   ]
  },
  {
   "cell_type": "code",
   "execution_count": 16,
   "metadata": {},
   "outputs": [
    {
     "data": {
      "image/png": "[encoded data removed]",
      "text/latex": [
       "$\\displaystyle \\left[ \\frac{k}{2 m}, \\  \\frac{3 k}{m}\\right]$"
      ],
      "text/plain": [
       "⎡ k   3⋅k⎤\n",
       "⎢───, ───⎥\n",
       "⎣2⋅m   m ⎦"
      ]
     },
     "execution_count": 16,
     "metadata": {},
     "output_type": "execute_result"
    }
   ],
   "source": [
    "omegasCuadrado = (-matrízKprima).eigenvals(multiple=True) # múltiple: devuelve lista\n",
    "omegasCuadrado"
   ]
  },
  {
   "cell_type": "code",
   "execution_count": 17,
   "metadata": {},
   "outputs": [
    {
     "data": {
      "image/png": "[encoded data removed]",
      "text/latex": [
       "$\\displaystyle \\left( \\omega_{1} = \\frac{\\sqrt{2} \\sqrt{\\frac{k}{m}}}{2}, \\  \\omega_{2} = \\sqrt{3} \\sqrt{\\frac{k}{m}}\\right)$"
      ],
      "text/plain": [
       "⎛            ___                 ⎞\n",
       "⎜           ╱ k                  ⎟\n",
       "⎜     √2⋅  ╱  ─               ___⎟\n",
       "⎜        ╲╱   m              ╱ k ⎟\n",
       "⎜ω₁ = ──────────, ω₂ = √3⋅  ╱  ─ ⎟\n",
       "⎝         2               ╲╱   m ⎠"
      ]
     },
     "execution_count": 17,
     "metadata": {},
     "output_type": "execute_result"
    }
   ],
   "source": [
    "sym.Eq(omega_1, sym.sqrt(omegasCuadrado[0]) ), sym.Eq(omega_2, sym.sqrt(omegasCuadrado[1]) )"
   ]
  },
  {
   "cell_type": "markdown",
   "metadata": {},
   "source": [
    "## Modos normales\n",
    "Con cada una de las $\\omega$ obtenidas da una solución válida al sistema de ecuaciones diferenciales del estilo que obtuvimos para el oscilador de un solo grado de libertad.\n",
    "Pero con dos grados de libertad habrá que definir la relación de amplitudes entre cada uno de estos, lo que escribiremos como un vector $\\vec{\\xi}_i$.\n",
    "\n",
    "### Modo 1\n",
    "Para $\\omega_1$ corresponderá una relación de amplitudes para cada masa"
   ]
  },
  {
   "cell_type": "code",
   "execution_count": 18,
   "metadata": {},
   "outputs": [
    {
     "data": {
      "text/latex": [
       "$\\displaystyle \\vec{\\xi}_1 = \\left[\\begin{matrix}\\xi_{1 a}\\\\\\xi_{1 b}\\end{matrix}\\right]$"
      ],
      "text/plain": [
       "             ⎡ξ₁ ₐ ⎤\n",
       "\\vec{\\xi}₁ = ⎢     ⎥\n",
       "             ⎣ξ_1_b⎦"
      ]
     },
     "execution_count": 18,
     "metadata": {},
     "output_type": "execute_result"
    }
   ],
   "source": [
    "xi1, xi1a, xi1b = sym.physics.mechanics.dynamicsymbols(r'\\vec{\\xi}_1, xi_1_a, xi_1_b')\n",
    "vecXi1 = sym.Eq(xi1, sym.Matrix([[xi1a], [xi1b] ] ), evaluate= False )\n",
    "vecXi1"
   ]
  },
  {
   "cell_type": "markdown",
   "metadata": {},
   "source": [
    "y una fase $\\phi_1$ en su solucíon general:"
   ]
  },
  {
   "cell_type": "code",
   "execution_count": 19,
   "metadata": {},
   "outputs": [
    {
     "data": {
      "text/latex": [
       "$\\displaystyle \\left[\\begin{matrix}\\psi_{a}\\\\\\psi_{b}\\end{matrix}\\right] = \\vec{\\xi}_1 \\cos{\\left(\\omega_{1} t + \\phi_{1} \\right)}$"
      ],
      "text/plain": [
       "⎡ψₐ ⎤                            \n",
       "⎢   ⎥ = \\vec{\\xi}₁⋅cos(ω₁⋅t + φ₁)\n",
       "⎣ψ_b⎦                            "
      ]
     },
     "execution_count": 19,
     "metadata": {},
     "output_type": "execute_result"
    }
   ],
   "source": [
    "phi_1 = sym.Symbol('phi_1')\n",
    "t = sym.Symbol('t')\n",
    "soluciónOmega1 = vecXi1.lhs* sym.cos(omega1.lhs* t+ phi_1)\n",
    "sym.Eq(sym.MatMul(vecPsi), soluciónOmega1, evaluate=False)"
   ]
  },
  {
   "cell_type": "markdown",
   "metadata": {},
   "source": [
    "¿Como obtener este vector $\\vec{\\xi}_1$?\n",
    "Si reemplazamos esta solución en"
   ]
  },
  {
   "cell_type": "code",
   "execution_count": 20,
   "metadata": {},
   "outputs": [
    {
     "data": {
      "text/latex": [
       "$\\displaystyle \\left[\\begin{matrix}- \\frac{2 k}{m} + \\omega^{2} & \\frac{k}{m}\\\\\\frac{3 k}{2 m} & - \\frac{3 k}{2 m} + \\omega^{2}\\end{matrix}\\right] \\left[\\begin{matrix}\\psi_{a}\\\\\\psi_{b}\\end{matrix}\\right] = 0$"
      ],
      "text/plain": [
       "⎡  2⋅k    2      k     ⎤          \n",
       "⎢- ─── + ω       ─     ⎥          \n",
       "⎢   m            m     ⎥ ⎡ψₐ ⎤    \n",
       "⎢                      ⎥⋅⎢   ⎥ = 0\n",
       "⎢   3⋅k        3⋅k    2⎥ ⎣ψ_b⎦    \n",
       "⎢   ───      - ─── + ω ⎥          \n",
       "⎣   2⋅m        2⋅m     ⎦          "
      ]
     },
     "execution_count": 20,
     "metadata": {},
     "output_type": "execute_result"
    }
   ],
   "source": [
    "sym.Eq(sym.MatMul(sistema, vecPsi), 0, evaluate=False)"
   ]
  },
  {
   "cell_type": "code",
   "execution_count": 21,
   "metadata": {},
   "outputs": [
    {
     "data": {
      "text/latex": [
       "$\\displaystyle \\left[\\begin{matrix}- \\frac{2 k}{m} + \\omega_{1}^{2} & \\frac{k}{m}\\\\\\frac{3 k}{2 m} & - \\frac{3 k}{2 m} + \\omega_{1}^{2}\\end{matrix}\\right] \\left(\\vec{\\xi}_1 \\cos{\\left(\\omega_{1} t + \\phi_{1} \\right)}\\right) = 0$"
      ],
      "text/plain": [
       "⎡  2⋅k     2       k     ⎤                              \n",
       "⎢- ─── + ω₁        ─     ⎥                              \n",
       "⎢   m              m     ⎥                              \n",
       "⎢                        ⎥⋅\\vec{\\xi}₁⋅cos(ω₁⋅t + φ₁) = 0\n",
       "⎢    3⋅k        3⋅k     2⎥                              \n",
       "⎢    ───      - ─── + ω₁ ⎥                              \n",
       "⎣    2⋅m        2⋅m      ⎦                              "
      ]
     },
     "execution_count": 21,
     "metadata": {},
     "output_type": "execute_result"
    }
   ],
   "source": [
    "sym.Eq(sym.MatMul(sistema.subs(omega, omega1.lhs), soluciónOmega1 ), 0, evaluate=False)"
   ]
  },
  {
   "cell_type": "markdown",
   "metadata": {},
   "source": [
    "Ya que el coseno no debe ser nulo en todo $t$ nos encontramos que reemplazando por el valor de $\\omega_1$"
   ]
  },
  {
   "cell_type": "code",
   "execution_count": 22,
   "metadata": {},
   "outputs": [
    {
     "data": {
      "text/latex": [
       "$\\displaystyle \\left[\\begin{matrix}- \\frac{3 k}{2 m} & \\frac{k}{m}\\\\\\frac{3 k}{2 m} & - \\frac{k}{m}\\end{matrix}\\right] \\left[\\begin{matrix}\\xi_{1 a}\\\\\\xi_{1 b}\\end{matrix}\\right] = 0$"
      ],
      "text/plain": [
       "⎡-3⋅k    k ⎤            \n",
       "⎢─────   ─ ⎥            \n",
       "⎢ 2⋅m    m ⎥ ⎡ξ₁ ₐ ⎤    \n",
       "⎢          ⎥⋅⎢     ⎥ = 0\n",
       "⎢ 3⋅k   -k ⎥ ⎣ξ_1_b⎦    \n",
       "⎢ ───   ───⎥            \n",
       "⎣ 2⋅m    m ⎦            "
      ]
     },
     "execution_count": 22,
     "metadata": {},
     "output_type": "execute_result"
    }
   ],
   "source": [
    "sysXi1= sym.Eq(sym.MatMul(sistema.subs(omega, omega1.rhs), vecXi1.rhs ), 0, evaluate=False)\n",
    "sysXi1"
   ]
  },
  {
   "cell_type": "markdown",
   "metadata": {},
   "source": [
    "Despejando de la primera o segunda ecuación nos queda idéntica relación, $\\xi_{1b}= \\frac{3}{2} \\xi_{1a}$, por tanto"
   ]
  },
  {
   "cell_type": "code",
   "execution_count": 23,
   "metadata": {},
   "outputs": [
    {
     "data": {
      "text/latex": [
       "$\\displaystyle \\vec{\\xi}_1 = \\left[\\begin{matrix}\\frac{2}{3}\\\\1\\end{matrix}\\right]$"
      ],
      "text/plain": [
       "             ⎡2/3⎤\n",
       "\\vec{\\xi}₁ = ⎢   ⎥\n",
       "             ⎣ 1 ⎦"
      ]
     },
     "execution_count": 23,
     "metadata": {},
     "output_type": "execute_result"
    }
   ],
   "source": [
    "vecXi1Subs= sym.Eq(vecXi1.lhs, vecXi1.rhs.subs([(xi1a, '2/3'), (xi1b, 1 ) ] ), evaluate= False )\n",
    "vecXi1Subs"
   ]
  },
  {
   "cell_type": "markdown",
   "metadata": {},
   "source": [
    "Si el sistema oscilará con $\\omega= \\omega_1$ ambas masas subirían o bajarían, solo que la de más abajo se distanciaría de su posición de equilibrio 3/2 veces más que la de arriba."
   ]
  },
  {
   "cell_type": "markdown",
   "metadata": {},
   "source": [
    "### Modo 2\n",
    "Seguimos el mismo procedimento para $\\omega_2$"
   ]
  },
  {
   "cell_type": "code",
   "execution_count": 24,
   "metadata": {},
   "outputs": [
    {
     "data": {
      "text/latex": [
       "$\\displaystyle \\vec{\\xi}_2 = \\left[\\begin{matrix}\\xi_{2 a}\\\\\\xi_{2 b}\\end{matrix}\\right]$"
      ],
      "text/plain": [
       "             ⎡ξ₂ ₐ ⎤\n",
       "\\vec{\\xi}₂ = ⎢     ⎥\n",
       "             ⎣ξ_2_b⎦"
      ]
     },
     "execution_count": 24,
     "metadata": {},
     "output_type": "execute_result"
    }
   ],
   "source": [
    "xi2, xi2a, xi2b = sym.physics.mechanics.dynamicsymbols(r'\\vec{\\xi}_2, xi_2_a, xi_2_b')\n",
    "vecXi2 = sym.Eq(xi2, sym.Matrix([[xi2a], [xi2b] ] ), evaluate= False )\n",
    "vecXi2"
   ]
  },
  {
   "cell_type": "code",
   "execution_count": 25,
   "metadata": {},
   "outputs": [
    {
     "data": {
      "text/latex": [
       "$\\displaystyle \\left[\\begin{matrix}\\psi_{a}\\\\\\psi_{b}\\end{matrix}\\right] = \\vec{\\xi}_2 \\cos{\\left(\\omega_{2} t + \\phi_{2} \\right)}$"
      ],
      "text/plain": [
       "⎡ψₐ ⎤                            \n",
       "⎢   ⎥ = \\vec{\\xi}₂⋅cos(ω₂⋅t + φ₂)\n",
       "⎣ψ_b⎦                            "
      ]
     },
     "execution_count": 25,
     "metadata": {},
     "output_type": "execute_result"
    }
   ],
   "source": [
    "phi_2 = sym.Symbol('phi_2')\n",
    "soluciónOmega2 = vecXi2.lhs* sym.cos(omega2.lhs* t+ phi_2)\n",
    "sym.Eq(sym.MatMul(vecPsi), soluciónOmega2, evaluate=False)"
   ]
  },
  {
   "cell_type": "code",
   "execution_count": 26,
   "metadata": {},
   "outputs": [
    {
     "data": {
      "text/latex": [
       "$\\displaystyle \\left[\\begin{matrix}\\frac{k}{m} & \\frac{k}{m}\\\\\\frac{3 k}{2 m} & \\frac{3 k}{2 m}\\end{matrix}\\right] \\left[\\begin{matrix}\\xi_{2 a}\\\\\\xi_{2 b}\\end{matrix}\\right] = 0$"
      ],
      "text/plain": [
       "⎡ k    k ⎤            \n",
       "⎢ ─    ─ ⎥            \n",
       "⎢ m    m ⎥ ⎡ξ₂ ₐ ⎤    \n",
       "⎢        ⎥⋅⎢     ⎥ = 0\n",
       "⎢3⋅k  3⋅k⎥ ⎣ξ_2_b⎦    \n",
       "⎢───  ───⎥            \n",
       "⎣2⋅m  2⋅m⎦            "
      ]
     },
     "execution_count": 26,
     "metadata": {},
     "output_type": "execute_result"
    }
   ],
   "source": [
    "sysXi2= sym.Eq(sym.MatMul(sistema.subs(omega, omega2.rhs), vecXi2.rhs ), 0, evaluate=False)\n",
    "sysXi2"
   ]
  },
  {
   "cell_type": "markdown",
   "metadata": {},
   "source": [
    "Despejando de la primera o segunda ecuación nos queda idéntica relación, $\\xi_{2b}= - \\xi_{2a}$, con lo que obtuvimos"
   ]
  },
  {
   "cell_type": "code",
   "execution_count": 27,
   "metadata": {},
   "outputs": [
    {
     "data": {
      "text/latex": [
       "$\\displaystyle \\vec{\\xi}_2 = \\left[\\begin{matrix}-1\\\\1\\end{matrix}\\right]$"
      ],
      "text/plain": [
       "             ⎡-1⎤\n",
       "\\vec{\\xi}₂ = ⎢  ⎥\n",
       "             ⎣1 ⎦"
      ]
     },
     "execution_count": 27,
     "metadata": {},
     "output_type": "execute_result"
    }
   ],
   "source": [
    "vecXi2Subs= sym.Eq(vecXi2.lhs, vecXi2.rhs.subs([(xi2a, -1),(xi2b, 1) ]), evaluate= False )\n",
    "vecXi2Subs"
   ]
  },
  {
   "cell_type": "markdown",
   "metadata": {},
   "source": [
    "Si el sistema oscilara con $\\omega= \\omega_2$ cuando una masa sube la otra baja y visceversa con ídentica separacion de su posición de equilibrio."
   ]
  },
  {
   "cell_type": "markdown",
   "metadata": {},
   "source": [
    "### Autovectores\n",
    "los $\\vec{\\xi}_1$ son los autovectores asociados a los autovalores $\\omega_i^2$ de la matríz $\\mathbb{K}'$.\n",
    "Nuevamente, `sympy` puede obtenerlos con poco sufrimiento para el operador de la computadora. "
   ]
  },
  {
   "cell_type": "code",
   "execution_count": 28,
   "metadata": {},
   "outputs": [
    {
     "data": {
      "text/latex": [
       "$\\displaystyle \\left[ \\left( - \\frac{3 k}{m}, \\  1, \\  \\left[ \\left[\\begin{matrix}-1\\\\1\\end{matrix}\\right]\\right]\\right), \\  \\left( - \\frac{k}{2 m}, \\  1, \\  \\left[ \\left[\\begin{matrix}\\frac{2}{3}\\\\1\\end{matrix}\\right]\\right]\\right)\\right]$"
      ],
      "text/plain": [
       "⎡⎛-3⋅k      ⎡⎡-1⎤⎤⎞  ⎛-k      ⎡⎡2/3⎤⎤⎞⎤\n",
       "⎢⎜─────, 1, ⎢⎢  ⎥⎥⎟, ⎜───, 1, ⎢⎢   ⎥⎥⎟⎥\n",
       "⎣⎝  m       ⎣⎣1 ⎦⎦⎠  ⎝2⋅m     ⎣⎣ 1 ⎦⎦⎠⎦"
      ]
     },
     "execution_count": 28,
     "metadata": {},
     "output_type": "execute_result"
    }
   ],
   "source": [
    "autovectores = matrízKprima.eigenvects()\n",
    "autovectores"
   ]
  },
  {
   "cell_type": "markdown",
   "metadata": {},
   "source": [
    "Donde se indica (autovalor, multiplicidad y autovector).\n",
    "Por tanto"
   ]
  },
  {
   "cell_type": "code",
   "execution_count": 29,
   "metadata": {},
   "outputs": [
    {
     "data": {
      "text/latex": [
       "$\\displaystyle \\left( \\vec{\\xi}_1 = \\left[\\begin{matrix}\\frac{2}{3}\\\\1\\end{matrix}\\right], \\  \\vec{\\xi}_2 = \\left[\\begin{matrix}-1\\\\1\\end{matrix}\\right]\\right)$"
      ],
      "text/plain": [
       "⎛             ⎡2/3⎤               ⎡-1⎤⎞\n",
       "⎜\\vec{\\xi}₁ = ⎢   ⎥, \\vec{\\xi}₂ = ⎢  ⎥⎟\n",
       "⎝             ⎣ 1 ⎦               ⎣1 ⎦⎠"
      ]
     },
     "execution_count": 29,
     "metadata": {},
     "output_type": "execute_result"
    }
   ],
   "source": [
    "sym.Eq(vecXi1.lhs, autovectores[1][2][0], evaluate= False), sym.Eq(vecXi2.lhs, autovectores[0][2][0], evaluate= False)"
   ]
  },
  {
   "cell_type": "markdown",
   "metadata": {},
   "source": [
    "## Solución general\n",
    "Sabemos que la solución al sistema es la combinación lineal de ambas soluciones es"
   ]
  },
  {
   "cell_type": "code",
   "execution_count": 30,
   "metadata": {},
   "outputs": [
    {
     "data": {
      "text/latex": [
       "$\\displaystyle \\left[\\begin{matrix}\\psi_{a}\\\\\\psi_{b}\\end{matrix}\\right] = A_{1} \\vec{\\xi}_1 \\cos{\\left(\\omega_{1} t + \\phi_{1} \\right)} + A_{2} \\vec{\\xi}_2 \\cos{\\left(\\omega_{2} t + \\phi_{2} \\right)}$"
      ],
      "text/plain": [
       "⎡ψₐ ⎤                                                              \n",
       "⎢   ⎥ = A₁⋅\\vec{\\xi}₁⋅cos(ω₁⋅t + φ₁) + A₂⋅\\vec{\\xi}₂⋅cos(ω₂⋅t + φ₂)\n",
       "⎣ψ_b⎦                                                              "
      ]
     },
     "execution_count": 30,
     "metadata": {},
     "output_type": "execute_result"
    }
   ],
   "source": [
    "A_1, A_2 = sym.symbols('A_1, A_2') # símbolos varios\n",
    "soluciónGeneral= sym.Eq(vecPsi, A_1* soluciónOmega1 + A_2* soluciónOmega2, evaluate= False)\n",
    "soluciónGeneral"
   ]
  },
  {
   "cell_type": "markdown",
   "metadata": {},
   "source": [
    "con $A_i$ y $\\phi_i$ las amplitudes y fases de cada modo que deben responder a las condiciones iniciales."
   ]
  },
  {
   "cell_type": "code",
   "execution_count": 31,
   "metadata": {},
   "outputs": [
    {
     "data": {
      "text/latex": [
       "$\\displaystyle \\left[\\begin{matrix}\\psi_{a}\\\\\\psi_{b}\\end{matrix}\\right] = \\left[\\begin{matrix}\\frac{2 A_{1} \\cos{\\left(\\phi_{1} + \\frac{\\sqrt{2} t \\sqrt{\\frac{k}{m}}}{2} \\right)}}{3} - A_{2} \\cos{\\left(\\phi_{2} + \\sqrt{3} t \\sqrt{\\frac{k}{m}} \\right)}\\\\A_{1} \\cos{\\left(\\phi_{1} + \\frac{\\sqrt{2} t \\sqrt{\\frac{k}{m}}}{2} \\right)} + A_{2} \\cos{\\left(\\phi_{2} + \\sqrt{3} t \\sqrt{\\frac{k}{m}} \\right)}\\end{matrix}\\right]$"
      ],
      "text/plain": [
       "        ⎡        ⎛              ___⎞                            ⎤\n",
       "        ⎢        ⎜             ╱ k ⎟                            ⎥\n",
       "        ⎢        ⎜     √2⋅t⋅  ╱  ─ ⎟                            ⎥\n",
       "        ⎢        ⎜          ╲╱   m ⎟                            ⎥\n",
       "        ⎢2⋅A₁⋅cos⎜φ₁ + ────────────⎟         ⎛              ___⎞⎥\n",
       "        ⎢        ⎝          2      ⎠         ⎜             ╱ k ⎟⎥\n",
       "⎡ψₐ ⎤   ⎢─────────────────────────── - A₂⋅cos⎜φ₂ + √3⋅t⋅  ╱  ─ ⎟⎥\n",
       "⎢   ⎥ = ⎢             3                      ⎝          ╲╱   m ⎠⎥\n",
       "⎣ψ_b⎦   ⎢                                                       ⎥\n",
       "        ⎢       ⎛              ___⎞                             ⎥\n",
       "        ⎢       ⎜             ╱ k ⎟                             ⎥\n",
       "        ⎢       ⎜     √2⋅t⋅  ╱  ─ ⎟         ⎛              ___⎞ ⎥\n",
       "        ⎢       ⎜          ╲╱   m ⎟         ⎜             ╱ k ⎟ ⎥\n",
       "        ⎢ A₁⋅cos⎜φ₁ + ────────────⎟ + A₂⋅cos⎜φ₂ + √3⋅t⋅  ╱  ─ ⎟ ⎥\n",
       "        ⎣       ⎝          2      ⎠         ⎝          ╲╱   m ⎠ ⎦"
      ]
     },
     "execution_count": 31,
     "metadata": {},
     "output_type": "execute_result"
    }
   ],
   "source": [
    "sustitucionesDinámica = {\n",
    "    omega1.lhs: omega1.rhs,\n",
    "    omega2.lhs: omega2.rhs,\n",
    "    vecXi1.lhs: vecXi1Subs.rhs,\n",
    "    vecXi2.lhs: vecXi2Subs.rhs\n",
    "}\n",
    "dinámica= sym.Eq(vecPsi, soluciónGeneral.rhs.subs(sustitucionesDinámica), evaluate= False)\n",
    "dinámica"
   ]
  },
  {
   "cell_type": "markdown",
   "metadata": {},
   "source": [
    "## b) Condiciones iniciales\n",
    "Segun el enunciado en $t=0$"
   ]
  },
  {
   "cell_type": "code",
   "execution_count": 32,
   "metadata": {},
   "outputs": [
    {
     "data": {
      "text/latex": [
       "$\\displaystyle \\left[\\begin{matrix}\\psi_{a}{\\left(0 \\right)}\\\\\\psi_{b}{\\left(0 \\right)}\\end{matrix}\\right] = \\left[\\begin{matrix}\\frac{2 A_{1} \\cos{\\left(\\phi_{1} \\right)}}{3} - A_{2} \\cos{\\left(\\phi_{2} \\right)}\\\\A_{1} \\cos{\\left(\\phi_{1} \\right)} + A_{2} \\cos{\\left(\\phi_{2} \\right)}\\end{matrix}\\right]$"
      ],
      "text/plain": [
       "           ⎡2⋅A₁⋅cos(φ₁)             ⎤\n",
       "⎡ψₐ(0) ⎤   ⎢──────────── - A₂⋅cos(φ₂)⎥\n",
       "⎢      ⎥ = ⎢     3                   ⎥\n",
       "⎣ψ_b(0)⎦   ⎢                         ⎥\n",
       "           ⎣ A₁⋅cos(φ₁) + A₂⋅cos(φ₂) ⎦"
      ]
     },
     "execution_count": 32,
     "metadata": {},
     "output_type": "execute_result"
    }
   ],
   "source": [
    "dinámica.subs(t,0)"
   ]
  },
  {
   "cell_type": "markdown",
   "metadata": {},
   "source": [
    "se sabe que las posiciones son"
   ]
  },
  {
   "cell_type": "code",
   "execution_count": 33,
   "metadata": {},
   "outputs": [
    {
     "data": {
      "image/png": "[encoded data removed]",
      "text/latex": [
       "$\\displaystyle \\left\\{ \\psi_{a}{\\left(0 \\right)} : 1, \\  \\psi_{b}{\\left(0 \\right)} : 0\\right\\}$"
      ],
      "text/plain": [
       "{ψₐ(0): 1, ψ_b(0): 0}"
      ]
     },
     "execution_count": 33,
     "metadata": {},
     "output_type": "execute_result"
    }
   ],
   "source": [
    "condicionesPosición = {\n",
    "    dinámica.lhs[0].subs(t,0): 1,\n",
    "    dinámica.lhs[1].subs(t,0): 0,\n",
    "}\n",
    "condicionesPosición"
   ]
  },
  {
   "cell_type": "markdown",
   "metadata": {},
   "source": [
    "Pero aún tras esta substitución el número de incógnitas dobla el de ecuaciones."
   ]
  },
  {
   "cell_type": "code",
   "execution_count": 34,
   "metadata": {},
   "outputs": [
    {
     "data": {
      "text/latex": [
       "$\\displaystyle \\left[\\begin{matrix}1\\\\0\\end{matrix}\\right] = \\left[\\begin{matrix}\\frac{2 A_{1} \\cos{\\left(\\phi_{1} \\right)}}{3} - A_{2} \\cos{\\left(\\phi_{2} \\right)}\\\\A_{1} \\cos{\\left(\\phi_{1} \\right)} + A_{2} \\cos{\\left(\\phi_{2} \\right)}\\end{matrix}\\right]$"
      ],
      "text/plain": [
       "      ⎡2⋅A₁⋅cos(φ₁)             ⎤\n",
       "⎡1⎤   ⎢──────────── - A₂⋅cos(φ₂)⎥\n",
       "⎢ ⎥ = ⎢     3                   ⎥\n",
       "⎣0⎦   ⎢                         ⎥\n",
       "      ⎣ A₁⋅cos(φ₁) + A₂⋅cos(φ₂) ⎦"
      ]
     },
     "execution_count": 34,
     "metadata": {},
     "output_type": "execute_result"
    }
   ],
   "source": [
    "dinámicaCondiciónPosición = dinámica.subs(t,0).subs(condicionesPosición)\n",
    "dinámicaCondiciónPosición"
   ]
  },
  {
   "cell_type": "markdown",
   "metadata": {},
   "source": [
    "El enunciado da otra información al afirmar que el sistema \"se encuentra originalmente en reposo\".\n",
    "Esto significa que las velocidades inciales son nulas"
   ]
  },
  {
   "cell_type": "code",
   "execution_count": 35,
   "metadata": {},
   "outputs": [
    {
     "data": {
      "text/latex": [
       "$\\displaystyle \\left\\{ \\left. \\dot{\\psi}_{a} \\right|_{\\substack{ t=0 }} : 0, \\  \\left. \\dot{\\psi}_{b} \\right|_{\\substack{ t=0 }} : 0\\right\\}$"
      ],
      "text/plain": [
       "⎧(ψₐ̇)│   : 0, (ψ_̇b)│   : 0⎫\n",
       "⎨    │t=0          │t=0   ⎬\n",
       "⎩                         ⎭"
      ]
     },
     "execution_count": 35,
     "metadata": {},
     "output_type": "execute_result"
    }
   ],
   "source": [
    "condicionesVelocidad = {\n",
    "    dinámica.lhs[0].diff().subs(t,0): 0,\n",
    "    dinámica.lhs[1].diff().subs(t,0): 0,\n",
    "}\n",
    "condicionesVelocidad"
   ]
  },
  {
   "cell_type": "code",
   "execution_count": 36,
   "metadata": {},
   "outputs": [
    {
     "data": {
      "text/latex": [
       "$\\displaystyle \\left[\\begin{matrix}0\\\\0\\end{matrix}\\right] = \\left[\\begin{matrix}- \\frac{\\sqrt{2} A_{1} \\sqrt{\\frac{k}{m}} \\sin{\\left(\\phi_{1} \\right)}}{3} + \\sqrt{3} A_{2} \\sqrt{\\frac{k}{m}} \\sin{\\left(\\phi_{2} \\right)}\\\\- \\frac{\\sqrt{2} A_{1} \\sqrt{\\frac{k}{m}} \\sin{\\left(\\phi_{1} \\right)}}{2} - \\sqrt{3} A_{2} \\sqrt{\\frac{k}{m}} \\sin{\\left(\\phi_{2} \\right)}\\end{matrix}\\right]$"
      ],
      "text/plain": [
       "      ⎡            ___                                ⎤\n",
       "      ⎢           ╱ k                                 ⎥\n",
       "      ⎢  √2⋅A₁⋅  ╱  ─ ⋅sin(φ₁)             ___        ⎥\n",
       "      ⎢        ╲╱   m                     ╱ k         ⎥\n",
       "      ⎢- ───────────────────── + √3⋅A₂⋅  ╱  ─ ⋅sin(φ₂)⎥\n",
       "⎡0⎤   ⎢            3                   ╲╱   m         ⎥\n",
       "⎢ ⎥ = ⎢                                               ⎥\n",
       "⎣0⎦   ⎢            ___                                ⎥\n",
       "      ⎢           ╱ k                                 ⎥\n",
       "      ⎢  √2⋅A₁⋅  ╱  ─ ⋅sin(φ₁)             ___        ⎥\n",
       "      ⎢        ╲╱   m                     ╱ k         ⎥\n",
       "      ⎢- ───────────────────── - √3⋅A₂⋅  ╱  ─ ⋅sin(φ₂)⎥\n",
       "      ⎣            2                   ╲╱   m         ⎦"
      ]
     },
     "execution_count": 36,
     "metadata": {},
     "output_type": "execute_result"
    }
   ],
   "source": [
    "sym.Eq( sym.Matrix([[0], [0] ] ), dinámica.rhs.diff(t).subs(t, 0) )"
   ]
  },
  {
   "cell_type": "markdown",
   "metadata": {},
   "source": [
    "Pero hay un camino más sencillo que resolver un sistema que contemple estas dos ecuaciones de la condición para la velocidad y las otras tantas para la condición de la posición.\n",
    "\n",
    "De establecerse $\\phi_1= \\phi_2= 0$ esto asegura que las velocidades son nulas pues estas fases son argumento de los senos en todos los términos.\n",
    "Volviendo entonces a las condiciones sobre la posición con este dato."
   ]
  },
  {
   "cell_type": "code",
   "execution_count": 37,
   "metadata": {},
   "outputs": [
    {
     "data": {
      "text/latex": [
       "$\\displaystyle \\left[\\begin{matrix}1\\\\0\\end{matrix}\\right] = \\left[\\begin{matrix}\\frac{2 A_{1}}{3} - A_{2}\\\\A_{1} + A_{2}\\end{matrix}\\right]$"
      ],
      "text/plain": [
       "      ⎡2⋅A₁     ⎤\n",
       "⎡1⎤   ⎢──── - A₂⎥\n",
       "⎢ ⎥ = ⎢ 3       ⎥\n",
       "⎣0⎦   ⎢         ⎥\n",
       "      ⎣ A₁ + A₂ ⎦"
      ]
     },
     "execution_count": 37,
     "metadata": {},
     "output_type": "execute_result"
    }
   ],
   "source": [
    "amplitudesSistema= dinámicaCondiciónPosición.subs([(phi_1, 0), (phi_2, 0) ] )\n",
    "amplitudesSistema"
   ]
  },
  {
   "cell_type": "markdown",
   "metadata": {},
   "source": [
    "No es difícil obtener que $A_1= \\frac{3}{5}$ y $A_2= -\\frac{3}{5}$.\n",
    "Con lo que finalmente obtenemos una solución para estas condiciones iniciales:"
   ]
  },
  {
   "cell_type": "code",
   "execution_count": 38,
   "metadata": {},
   "outputs": [
    {
     "data": {
      "text/latex": [
       "$\\displaystyle \\left[\\begin{matrix}\\psi_{a}\\\\\\psi_{b}\\end{matrix}\\right] = \\left[\\begin{matrix}\\frac{2 \\cos{\\left(\\frac{\\sqrt{2} t \\sqrt{\\frac{k}{m}}}{2} \\right)}}{5} + \\frac{3 \\cos{\\left(\\sqrt{3} t \\sqrt{\\frac{k}{m}} \\right)}}{5}\\\\\\frac{3 \\cos{\\left(\\frac{\\sqrt{2} t \\sqrt{\\frac{k}{m}}}{2} \\right)}}{5} - \\frac{3 \\cos{\\left(\\sqrt{3} t \\sqrt{\\frac{k}{m}} \\right)}}{5}\\end{matrix}\\right]$"
      ],
      "text/plain": [
       "        ⎡     ⎛         ___⎞                      ⎤\n",
       "        ⎢     ⎜        ╱ k ⎟                      ⎥\n",
       "        ⎢     ⎜√2⋅t⋅  ╱  ─ ⎟        ⎛         ___⎞⎥\n",
       "        ⎢     ⎜     ╲╱   m ⎟        ⎜        ╱ k ⎟⎥\n",
       "        ⎢2⋅cos⎜────────────⎟   3⋅cos⎜√3⋅t⋅  ╱  ─ ⎟⎥\n",
       "        ⎢     ⎝     2      ⎠        ⎝     ╲╱   m ⎠⎥\n",
       "        ⎢─────────────────── + ───────────────────⎥\n",
       "⎡ψₐ ⎤   ⎢         5                     5         ⎥\n",
       "⎢   ⎥ = ⎢                                         ⎥\n",
       "⎣ψ_b⎦   ⎢     ⎛         ___⎞                      ⎥\n",
       "        ⎢     ⎜        ╱ k ⎟                      ⎥\n",
       "        ⎢     ⎜√2⋅t⋅  ╱  ─ ⎟        ⎛         ___⎞⎥\n",
       "        ⎢     ⎜     ╲╱   m ⎟        ⎜        ╱ k ⎟⎥\n",
       "        ⎢3⋅cos⎜────────────⎟   3⋅cos⎜√3⋅t⋅  ╱  ─ ⎟⎥\n",
       "        ⎢     ⎝     2      ⎠        ⎝     ╲╱   m ⎠⎥\n",
       "        ⎢─────────────────── - ───────────────────⎥\n",
       "        ⎣         5                     5         ⎦"
      ]
     },
     "execution_count": 38,
     "metadata": {},
     "output_type": "execute_result"
    }
   ],
   "source": [
    "coeficientesCondicionesIniciales = {\n",
    "    A_1: '3/5',\n",
    "    A_2: '-3/5',  \n",
    "    phi_1: 0,\n",
    "    phi_2: 0,\n",
    "}\n",
    "dinámicaCondicionesIniciales = dinámica.subs(coeficientesCondicionesIniciales)\n",
    "dinámicaCondicionesIniciales"
   ]
  },
  {
   "cell_type": "markdown",
   "metadata": {},
   "source": [
    "## Graficación de la dinámica\n"
   ]
  },
  {
   "cell_type": "markdown",
   "metadata": {},
   "source": [
    "Resulta útil que las funciones simbólica de `sympy` puedan ser convertidas en otras estríctamente numéricas compatibles con otras funciones básicas de `Python` o de la biblioteca numérica `numpy`.\n",
    "\n",
    "Para esto se usa el comando `lambdify` que retorna la función en un formato compatible con el módulo de Python indicado.\n",
    "Por defecto este módulo es el `numpy` que es la que usaremos a continuación.\n",
    "Obligatoriamente hay que indicar al menos una variable de la que depende la función.\n",
    "En este caso se indicó $t$, que se indicó en el momento de definir que las \\\\(\\Psi_i = \\Psi_i(t)\\\\).  "
   ]
  },
  {
   "cell_type": "code",
   "execution_count": 39,
   "metadata": {},
   "outputs": [],
   "source": [
    "k_magnitud = 100 # [N m-1]\n",
    "m_magnitud = 1 # [kg]\n",
    "parámetrosFísicos ={\n",
    "    k : k_magnitud,\n",
    "    m : m_magnitud,\n",
    "}\n",
    "\n",
    "psiA_numpy = sym.lambdify(t, dinámicaCondicionesIniciales.rhs[0].subs(parámetrosFísicos) )\n",
    "psiB_numpy = sym.lambdify(t, dinámicaCondicionesIniciales.rhs[1].subs(parámetrosFísicos) )"
   ]
  },
  {
   "cell_type": "code",
   "execution_count": 40,
   "metadata": {},
   "outputs": [],
   "source": [
    "import numpy as np\n",
    "import matplotlib.pyplot as plt\n",
    "# plt.style.use('fivethirtyeight') #estilo\n",
    "import matplotlib as mpl\n",
    "mpl.style.use('fivethirtyeight') # estilo de gráficos con grilla y letras grandes\n"
   ]
  },
  {
   "cell_type": "code",
   "execution_count": 41,
   "metadata": {},
   "outputs": [
    {
     "data": {
      "text/plain": [
       "<matplotlib.legend.Legend at 0x7f64ac4c4b70>"
      ]
     },
     "execution_count": 41,
     "metadata": {},
     "output_type": "execute_result"
    },
    {
     "data": {
      "image/png": "[encoded data removed]",
      "text/plain": [
       "<Figure size 864x288 with 1 Axes>"
      ]
     },
     "metadata": {},
     "output_type": "display_data"
    }
   ],
   "source": [
    "tiempos = np.linspace(0, 5, 1000) # [s]\n",
    "fig = plt.figure(figsize=(12, 4))\n",
    "ax = fig.add_axes([0, 0, 1, 1])\n",
    "ax.plot(tiempos, psiA_numpy(tiempos), 'r-', label= '$\\Psi_a$')\n",
    "ax.plot(tiempos, psiB_numpy(tiempos), 'b-', label= '$\\Psi_b$' )\n",
    "ax.set_xlabel('Tiempo [s]')\n",
    "ax.set_ylabel('$\\Psi_i$ [m]')\n",
    "ax.set_title('Apartamiento de la posición de equilibrio')\n",
    "ax.legend()"
   ]
  },
  {
   "cell_type": "markdown",
   "metadata": {},
   "source": [
    "Esta complejísima dinámica es fruto de que la condición inicial hizo que ambos $A_i \\neq 0$ por lo que vemos una superposición de los modos normales. "
   ]
  },
  {
   "cell_type": "markdown",
   "metadata": {},
   "source": [
    "## Visualizando los modos normales\n",
    "Adaptación del notebook de María Luz Martínez Ricci, teórica de Depine, 2.o cuat. 2020  "
   ]
  },
  {
   "cell_type": "markdown",
   "metadata": {},
   "source": [
    "### Modo 1"
   ]
  },
  {
   "cell_type": "code",
   "execution_count": 42,
   "metadata": {},
   "outputs": [
    {
     "data": {
      "text/latex": [
       "$\\displaystyle \\left[\\begin{matrix}\\psi_{a}\\\\\\psi_{b}\\end{matrix}\\right] = \\vec{\\xi}_1 \\cos{\\left(\\omega_{1} t + \\phi_{1} \\right)}$"
      ],
      "text/plain": [
       "⎡ψₐ ⎤                            \n",
       "⎢   ⎥ = \\vec{\\xi}₁⋅cos(ω₁⋅t + φ₁)\n",
       "⎣ψ_b⎦                            "
      ]
     },
     "execution_count": 42,
     "metadata": {},
     "output_type": "execute_result"
    }
   ],
   "source": [
    "sym.Eq(sym.MatMul(vecPsi), soluciónOmega1, evaluate=False)"
   ]
  },
  {
   "cell_type": "code",
   "execution_count": 43,
   "metadata": {},
   "outputs": [
    {
     "data": {
      "text/latex": [
       "$\\displaystyle \\left( \\omega_{1} = \\frac{\\sqrt{2} \\sqrt{\\frac{k}{m}}}{2}, \\  \\vec{\\xi}_1 = \\left[\\begin{matrix}\\frac{2}{3}\\\\1\\end{matrix}\\right]\\right)$"
      ],
      "text/plain": [
       "⎛            ___                    ⎞\n",
       "⎜           ╱ k                     ⎟\n",
       "⎜     √2⋅  ╱  ─                     ⎟\n",
       "⎜        ╲╱   m                ⎡2/3⎤⎟\n",
       "⎜ω₁ = ──────────, \\vec{\\xi}₁ = ⎢   ⎥⎟\n",
       "⎝         2                    ⎣ 1 ⎦⎠"
      ]
     },
     "execution_count": 43,
     "metadata": {},
     "output_type": "execute_result"
    }
   ],
   "source": [
    "omega1, sym.Eq(vecXi1.lhs, autovectores[1][2][0], evaluate=False )"
   ]
  },
  {
   "cell_type": "code",
   "execution_count": 44,
   "metadata": {},
   "outputs": [
    {
     "data": {
      "text/latex": [
       "$\\displaystyle \\left[\\begin{matrix}\\psi_{a}\\\\\\psi_{b}\\end{matrix}\\right] = \\left[\\begin{matrix}\\frac{2 \\cos{\\left(5 \\sqrt{2} t \\right)}}{3}\\\\\\cos{\\left(5 \\sqrt{2} t \\right)}\\end{matrix}\\right]$"
      ],
      "text/plain": [
       "        ⎡2⋅cos(5⋅√2⋅t)⎤\n",
       "⎡ψₐ ⎤   ⎢─────────────⎥\n",
       "⎢   ⎥ = ⎢      3      ⎥\n",
       "⎣ψ_b⎦   ⎢             ⎥\n",
       "        ⎣ cos(5⋅√2⋅t) ⎦"
      ]
     },
     "execution_count": 44,
     "metadata": {},
     "output_type": "execute_result"
    }
   ],
   "source": [
    "modo1auto={\n",
    "    vecXi1.lhs: autovectores[1][2][0],\n",
    "    omega1.lhs : omega1.rhs,\n",
    "    phi_1 : 0,\n",
    "}\n",
    "modo1 = sym.Eq(sym.MatMul(vecPsi), soluciónOmega1.subs(modo1auto).subs(parámetrosFísicos), evaluate=False)\n",
    "modo1"
   ]
  },
  {
   "cell_type": "code",
   "execution_count": 45,
   "metadata": {},
   "outputs": [],
   "source": [
    "psiA_modo1_numpy = sym.lambdify(t, modo1.rhs[0])\n",
    "psiB_modo1_numpy = sym.lambdify(t, modo1.rhs[1])"
   ]
  },
  {
   "cell_type": "code",
   "execution_count": 46,
   "metadata": {},
   "outputs": [],
   "source": [
    "from matplotlib import animation, rc\n",
    "from IPython.display import HTML\n",
    "rc('animation', html='html5')"
   ]
  },
  {
   "cell_type": "code",
   "execution_count": 47,
   "metadata": {},
   "outputs": [
    {
     "data": {
      "text/plain": [
       "Text(1, -6.02, '$2 l_0$')"
      ]
     },
     "execution_count": 47,
     "metadata": {},
     "output_type": "execute_result"
    },
    {
     "data": {
      "image/png": "[encoded data removed]",
      "text/plain": [
       "<Figure size 432x288 with 1 Axes>"
      ]
     },
     "metadata": {},
     "output_type": "display_data"
    }
   ],
   "source": [
    "l0 = 3 # [m] longitud natural de los resortes \n",
    "figuraAnimación, ax = plt.subplots()\n",
    "# figuraAnimación = plt.figure()\n",
    "# ax = figuraAnimación.add_axes([0,0,1,1]) # agrega ejes como atributo de la figura\n",
    "ax.set_ylabel('y [t]' )\n",
    "ax.set_xlim((-1,1))\n",
    "ax.set_ylim((-9,1))\n",
    "ax.grid(True)\n",
    "ax.plot((-1.5,1.5), [-l0,-l0],  '--',color  = 'green') # linea horizontal\n",
    "ax.plot((-1.5,1.5), [-2*l0,-2*l0], '--',color  = 'green')\n",
    "ax.text(1,-3.02,'$l_0$',color = 'green')\n",
    "ax.text(1,-6.02,'$2 l_0$',color = 'green')"
   ]
  },
  {
   "cell_type": "code",
   "execution_count": 48,
   "metadata": {},
   "outputs": [],
   "source": [
    "linea, = ax.plot([],[],'o',ms = 10,color = 'r', label = 'Movimiento particula a',zorder = 3)\n",
    "lineResa, = ax.plot([],[],ls = '--',color = 'r', lw = 2, zorder = 2)\n",
    "lineb, = ax.plot([],[],'o',ms = 10,color = 'b', label = 'Movimiento particula b',zorder = 3)\n",
    "lineResb, = ax.plot([],[],ls = '--',color = 'b', lw = 2, zorder = 1)\n",
    "\n",
    "tiempos= np.linspace(0, 10, 200)\n",
    "y_a_modo1= psiA_modo1_numpy(tiempos) + l0\n",
    "y_b_modo1= psiB_modo1_numpy(tiempos) + 2* l0\n",
    "\n",
    "def actualiza(i):\n",
    "    linea.set_data(0, -y_a_modo1[i])\n",
    "    lineResa.set_data([0,0],[0, -y_a_modo1[i]]) # linea desde el origen\n",
    "    lineb.set_data(0, -y_b_modo1[i])\n",
    "    lineResb.set_data([0,0],[0, -y_b_modo1[i]])\n",
    "\n",
    "anim_modo1 = animation.FuncAnimation(figuraAnimación, actualiza, frames= len(tiempos), interval= 200)"
   ]
  },
  {
   "cell_type": "code",
   "execution_count": 49,
   "metadata": {},
   "outputs": [
    {
     "data": {
      "text/html": [
       "<video width=\"432\" height=\"288\" controls autoplay loop>\n",
       "  <source type=\"video/mp4\" src=\"data:video/mp4;base64,AAAAHGZ0eXBNNFYgAAACAGlzb21pc28yYXZjMQAAAAhmcmVlAACweW1kYXQAAAKtBgX//6ncRem9\n",
       "5tlIt5Ys2CDZI+7veDI2NCAtIGNvcmUgMTU1IHIyOTE3IDBhODRkOTggLSBILjI2NC9NUEVHLTQg\n",
       "QVZDIGNvZGVjIC0gQ29weWxlZnQgMjAwMy0yMDE4IC0gaHR0cDovL3d3dy52aWRlb2xhbi5vcmcv\n",
       "eDI2NC5odG1sIC0gb3B0aW9uczogY2FiYWM9MSByZWY9MyBkZWJsb2NrPTE6MDowIGFuYWx5c2U9\n",
       "MHgzOjB4MTEzIG1lPWhleCBzdWJtZT03IHBzeT0xIHBzeV9yZD0xLjAwOjAuMDAgbWl4ZWRfcmVm\n",
       "PTEgbWVfcmFuZ2U9MTYgY2hyb21hX21lPTEgdHJlbGxpcz0xIDh4OGRjdD0xIGNxbT0wIGRlYWR6\n",
       "b25lPTIxLDExIGZhc3RfcHNraXA9MSBjaHJvbWFfcXBfb2Zmc2V0PS0yIHRocmVhZHM9MyBsb29r\n",
       "YWhlYWRfdGhyZWFkcz0xIHNsaWNlZF90aHJlYWRzPTAgbnI9MCBkZWNpbWF0ZT0xIGludGVybGFj\n",
       "ZWQ9MCBibHVyYXlfY29tcGF0PTAgY29uc3RyYWluZWRfaW50cmE9MCBiZnJhbWVzPTMgYl9weXJh\n",
       "bWlkPTIgYl9hZGFwdD0xIGJfYmlhcz0wIGRpcmVjdD0xIHdlaWdodGI9MSBvcGVuX2dvcD0wIHdl\n",
       "aWdodHA9MiBrZXlpbnQ9MjUwIGtleWludF9taW49NSBzY2VuZWN1dD00MCBpbnRyYV9yZWZyZXNo\n",
       "PTAgcmNfbG9va2FoZWFkPTQwIHJjPWNyZiBtYnRyZWU9MSBjcmY9MjMuMCBxY29tcD0wLjYwIHFw\n",
       "bWluPTAgcXBtYXg9NjkgcXBzdGVwPTQgaXBfcmF0aW89MS40MCBhcT0xOjEuMDAAgAAAITpliIQA\n",
       "E//+97GPgU2/hQ2XOop6H+EVsfSQUXqx2aBk6gAAAwAAiYGOFkC1uVpxUAAA3+774daz/gJHgAnv\n",
       "rqEOiMgH2LWMGcuB8thyddQxGp79k1J/XpWkfnHDlbS39xgIc+ZLDKaAfpqBkwiR+lhQeGM2wXOa\n",
       "6+ctezh4wB/ihgZT3qn9YIeyj5SjZI2cMysDS9Ch023YUZ9FjBhM0oawrGn71bymFxy4bemoSRxA\n",
       "p46rhIzXY7JvhfLya3Ee5TM0Ll3QH0f5q1aUuIpBPjbX9yxXQX6Bw2oH3vtTFeAB1+wgaL84XtIb\n",
       "XFmnEZ9IvPtpy9gAhLeUTFFrp+Aqpk9BFL/F7bh3Ywgr+puO7X/TuI9Awm3FeRsn///3Uv7XUPHN\n",
       "MWXPXqCSwYj6ZRMfidLu8PZmhmKl6SBpERurVUljUHMMmR0DB8kQyjVzVrqrUw1LPbR9Q03S3ytq\n",
       "4SsBdaPgsMxcems+KgRZ3PU4new1yu6ToFLnI5SbAvuju5/lM98/JfRZIEXwHVT6hz5y/HH2+DY9\n",
       "UWg9FDf+ST/FBn6vPp1y6uc6BlMhv+XE0JdA7UArhlEw0m26Fz7Gw9LTI8AR7zIfQCLuuJDyUGVX\n",
       "dfojCFftZ+t7WM6ZMDExmzhAf+VBL4HS1VzMMgpRTMS89lyhmv1XjucZiQC8loNdGtLxXPYb+RFx\n",
       "Hd4ulj2kQAON2hXizzzAxSPdXSNMgCwqaBUfnoWhcP+3qsnyNJqatIzV9ZGDs6+w9it1rXW0uh+W\n",
       "PxzsEHgcWPPDSuIBcdC11Yr6uOeAGRnOZXaL7yHHOnfdbPfZMTJwmFVQe5BtNQLtIYZf1R12jDpM\n",
       "C51Nt+T9kYRdSGaE5S+kKa5XZ7T2xt7KgJsdiVQsJhMQgGKJNRjeDVhdpxP/xIVVf2TS9Ony/DoL\n",
       "ZMYvVmrFAfLSaTl2luId6LIGGS2eIaUPeHBc8E9NcN3OjSGuqgToDTfdgHv///8We9mrb21ddMDD\n",
       "f277TKTfOWgCJdzs1o3txBy0fdAy2mkxxYBV6WTSh1HXYGThZQ1JjJcPkyedWjsrtb1odiUuGNTC\n",
       "lS9kM8E0a+ChFV5Vewl/ryoEesR1QRw+it0bOpU6ES7OK3235NW0uKg/Db/PhouQPjLPeMsR9PHV\n",
       "SX0O5JvAkkehBbetkj8LTxxKkuLJY5V6kREAQsvoTV97uDV2QMHxv2C/8YCKSQ7PD97DbCR4JDE9\n",
       "WNJ/dkFF5ClYPX5Da5jGcOxuCGtIP4JpozANJ+Of7RHq6q+8XyFk4xxhbZ/VajMecejvhB+gy7EI\n",
       "/xHzmFhpHxTqlS444KuVpXf9Be1XMy00TRudFGFrPrZKXbvnh/0bP6pc8KKvBm9qvoQESyIZMq40\n",
       "O7LMe0C0Ef+ka2lo1STq+Sm30Dfz1/IQA6fm8P/cLwX0M3puh9SRQLnKHsFvpsE+pt+hVvoRkf8u\n",
       "LbENHbJztHnqJlSVG8xq9RKtIvdxSuPgNtsGeW/DgXHyju9tzC9MGqysptxZ6sgljxVPhxL9rwWf\n",
       "0S5HZeoDiX+mEbWRZyWis1uKu9pkOluty38/SJCepeTu7P5Zml9DCc22y/VIBBlZQ5o4iB//mskt\n",
       "jJP2ukf/11w0czqEGtSi1FeuVvTeClpR+CdN8xMgfcXm6lH+DtZTcCkok0CvfPtiOyWTIXa8GQkH\n",
       "/GBeED5+fxriwBUMNIjwM0vHn+jwwMBalkfBF3tdI1PAkfvxJ4h6QTMkpx/Q/gtVhe33wS/cniB8\n",
       "Gqo8mKRqWM+agdhRRgwcsSQb1+8bADYkdWPkrpWB8mW13NNg/2wENO/i+cWDAbZDrtPvhOm1Ygvn\n",
       "yUO4gBOq+6pk4FlkJJY/kWmUW+lgEbrsxuUikbl1TkcnlfOKy6qocrI/pGtljcggm9fTJaXL8Oyf\n",
       "sidCRuaR7PBNzu5G3DxwuYnwcseiw+10bw0pjiMbO8s9GTPD+djfCU2GNDhudWsdDWADWuEJs+wU\n",
       "p1Nv+e2VZG5/J0DV+z2tH39F8vEKt4LOc6A+MawIVYXymvWwPSKkYYfkjsBBekUYQUy+NEhhCnbV\n",
       "18hJkd084v1blAXwN5fPDfMlGcV0MJMaRwL3V3SCIFtbJeEG0TH8J6dMVXKPNB9M2G+xxyNVm0Rh\n",
       "OJ6JJvZph6ozLVNrRD1l+G08McoWiJ2eUDNGjdPS9VqYdao7cQfme/pV0fyxQ18akXO4AF4OXybQ\n",
       "NWgGGMlZz+yfyiBWfqfsdJsfGeygfQm0Gdf+Vq8QGNkn8zV8WoO7lQeCMZ9XERCk4c1kmND/aYRo\n",
       "cfOhW2N+KkwmEJtMkMIjhypQVi7Lo7V84KKxjJgschTr/QD12AVsBZAVdz4tKyIzTi+oVlBSCtPI\n",
       "iDbXUq+JHfWaCguNiWlBQ7Z03mthqPb1VkFNBlvLNtAlua5sPA5ihyv4MegV0w4BGZkTnS1CREzQ\n",
       "k5ScIZOb3NUI3RRdj8C8y5ryHVlIvUxeqokSQVyb1p8PSAGATqyUaeJWgALeff4GDs8bDlPllV6p\n",
       "XungqTc4O+NST9jpiH4YYZf6+3k4E8W6bp/nDxxlmpMLRw6O1vzsnzzzmZ/PQIysXP0nJYYWsM5z\n",
       "bk8JELkSIamuGVV3iS+ru+wr4drpGShnvb5jam0Z6cB6TIacAMRoXzyHmjnxxiOxlGJgQJHnbQy0\n",
       "NO3Y+zukMUovasw7vadJGnDuuW8+CQjothbFXHC2Qht4+4v4xTSv1W62TlrfiE9E0itDY3Qrs/S/\n",
       "/KG/OfuxpuigVHVTt7mWIyfI4C2BWrKYpX9L/gxSUwV6YKZ3ZI6C12d25znhQoPgWiQ+NefZ5V9q\n",
       "EkCso0Wd4ajI+zUZPW5DRVX3xUdaP9ZilFa2RVhAfAespu54M9Umameu8/EgUx1WxNweqe8frrl4\n",
       "KcsyCTMsMH5p/59jF8QDonue9UvoVjMHqzDMtzInJ3yixhAVTQFv67irCPy9FlUYmbIkPqFkb85j\n",
       "CWoLL/3hw+cMp7dAdhSot6RL0AFarksu5A2s1dE5+IS79Kj+k6XcaABMhzkA+6lltAYRPLrvxMtg\n",
       "UizptNo+xXI2+L+stDpSWu+Jf38sGiIjrv67t1nxghcrYD3H9RFmFlruUt0A63fhjN67fVBDz/zQ\n",
       "4vW37YfVwb6h96XBonzWzpQ9rpyKx1uuZpET7XjzbyX+f2JmF/0xr7FPK1BiHmJUFJdTidWhG7rK\n",
       "BGy26GtUJhHzJIOktl6AoLKChiH1KFB9+zIhN5hcCHSIHg6ZfVzCeuEug/y1km0jrGVHJcZvPSJ3\n",
       "hQ8v5wBb9TY4ayArDDGY0GC7NywqkNofqwvjtYF+qn3vWnWW8VXIXQkV57sONsc/bqzykjPRrL1T\n",
       "/SJX6rV7z7W9wuIn2bXGTWb3OM/8NOVvodwcykSCy36+/WwGzl/RnNotqy8jGTDQCBb8fgTl7ocR\n",
       "KNy2XHKDJV8buL7R3QEct2wSrQGD5UO/31naSDy3KuL9w5va6g1mbijI+AWqaLKtZxueBejzBAUl\n",
       "0kXvP0pp/dVl4vdKEVNeCDDtSdqlP5kMQn/LDn057FX33jUSPNe0fHmIJHpgtbiiv4dtutUWIQ1k\n",
       "M2UcbFcYHpDJsb/vdcx12LvoORLf8bEWQq4L8H45PA29f/HeVvakQj5qGlRcZu7NuH0cETohbMWl\n",
       "hltNjFFG64MNRRKfIvqlvNZsdbcQ3+2mqUgdrAlyJwgV9mD17xjVPwXhIuFP+41tDC19/Ac2PwVh\n",
       "LTwq2WszVk0rFuI0wDv8lBh3O4tzp6Ia8Ujwam5g4a9B0dv2DQ6Qv/KStVr1ywGA5U4P7x968IQP\n",
       "SgZZNOyKlrPM3XsZB8Z5nk9QauT5Ea9va9kLvmB8nE4KMEzmvnSgY0VSOYTlzhuqL18L9ifC4Tb8\n",
       "ep7WE088GqNSUIrkfJIJWE7Hc0V+CwiXQc7BzSt4UVsKDAmSmZviyoRqtxwwZDT2kWqJDvGR+VaD\n",
       "IAoKMRmdvfXFAGpSYB68LpHkn48XD0AU/j/Gp0PUmlS3cGoAuIPidA7Psl1jr3MapgZ8pEyXMulj\n",
       "ctb5Ec//zIl94ngCeVTOGP5k9/MKhFYFvShyGF0hpdz1zDtokDSU6L+XCul22T65JdmifTPdrnd4\n",
       "1Xlc8NTvPbU9vQWSFhWkN0BLZwObyc5GEfp/Q/pD8xqoGXnZoG/PEWz7ZYhSy04BjkuoHhdX/ybL\n",
       "1XjkZ3ceW2esJEC66oioAVK6csmfMSWR5j+IC40o2bVWCvv3PCJ8W5iGueP8GeA7i/0X/wMJEfmm\n",
       "0OrEujpJKv2peVQBdmTvcXg50UNfRf3a3vrgqNfKTwIv7Eyw6tfZyWjNYT4ouYg0R0ww15+xQLaP\n",
       "RJw7w/Q03IlWu2ARwX36Df0prSpOFFgda37kaZm4nZDPkjEzy8Twh4WcdH5+KFPMGtjuJEntrHq5\n",
       "DvTFLGI/DVCPFL6Vhn0gbsel0UCK6On7YH54A1DMvIi4Jo+uiExiFUlSxVVPVBqMdbg5Reh17fnk\n",
       "eoA04HEJuzernHSIDc1PAcWGtlDpnkxoNCrhikNbj6JcgWqzY4HOBIrLv33jTky8zRqdydHSGzRy\n",
       "KRNIrMdbYgKyl+eoUEBodfhyXs3k5mbpSIx7XS+REOB2z8+2RFUCIiPLH04ODSYECZahFa9uOGbn\n",
       "6ZCmUuTd3JR0nODjhrGSfAKBMqoESvHJRjBRaqio+2NZeBi60gGOa+CGrLb9ZQDIYk9SISs1ZdRp\n",
       "sFoIurTL5TPVN9yg63Yfh1eIyBrqzGev8kIqCMpGPdF9RLvllj+kQCik1C8lddLxmcv6rORt844+\n",
       "/Yq7ELsUILzHPeb45ZVSEv0SI+4fPkCj8QO8CIGj/K9/5pUUQMTeK+DSFRXBjeQxszjTJ94dh1X5\n",
       "3aVTgEr/RoPSPFmC2UINwCCIxT9EvHbFuYqWntkOqQ8B1gadLhPMTg4a5DX/j8UnSxb9ObPU6b7b\n",
       "YXSPttG8S8caWRq65som4ssgFaNixmPm3MsrfMK1pJdPwbH+jA+9P53Yu9TLxs7vFR6245N/fmOA\n",
       "nfQH1zZdeOwhNtU9PkAFj2aSsdBGBYnVYjUaxm0Ae9FWALGCR6DZi5TLpr/3ZiuMsn69gh7PsZnr\n",
       "vwJf7zWWVxvavgavPIt4VBnBf6zTHFgyKLhn185VIZsacLVp/i9fh48zjSLt/s10rKMQBgh/8BPk\n",
       "0PeMTK9qoyHE/YoUJZxvFoACb75yCPpRoLPcwwMpky+DbS5gda2QSNnSuiFrJHknGviKr4FzGCdC\n",
       "TRnlxgWGowYCy7ha/MczPOscIg5OTLKYN4E9yz6J4Xln+0yDY6G20J2+vaSLYAlJVIwgJn2c8wDV\n",
       "pxV2q0vBeIGjcabRa3p/xYEj9f0AdGeXGy9k7jSKD/NDZb/wAwcZTCgAWb3Z37uqQsbJP/GN8dji\n",
       "r9w5TlZZnfdYcdr7Z2hRI/miRx4IsJ4A5r9X62J4Jm342AJ8yCFdLnARbVYDqkUUN/hMEd63qkBl\n",
       "v0nnk03y5lfPro86CWQDYlcRZigZ5vh51xIVtesXQ90nWD8L3Qfp79osZMpdKgHot5al1IOhdejq\n",
       "vDHT7118RU3TWuLj/BCfTqix71/V3NBJdpzPVpAydA7LZpcoBqPH31O0yz6qLbjBnPrg9ZW02tkQ\n",
       "Nofm3ELOzd4vT3GiFPV4IMwOmdxLKGIndjx5yVqT4z8KUAR6Ae9pKir9dXBvciTMFHEYsZJ2LHAR\n",
       "jFj/zG3VyEac/Y2e58uYizKGEq/ThmYi5d/aPFuptUHMtiCCaV4XjLKjS6jOxt3TPwh7mLeV5/BY\n",
       "rlyDJIfVTxOqhCojrdi5cYvJ/0Zv2HD1yLYWJmWhDi0IUMTgD6hH7zIqlIcYXE7IGJkBy2pA2IWv\n",
       "5sCFmyQlbUApiffnWzH8KsCQzs3/ey9Rjji2KMpp8/WdAM8RrzvA5cFeo1eoCKmt8tqJ1qGSLCnH\n",
       "Z872j3A4/QKCY7ASrXbo9UcmUZgseoQNz9XOa6jc2b0zdQW6WzcbKBdzyjAFH1JLNh2kfa0aC41q\n",
       "4rMpXCF6pP7fMX587/EVPtkXxS2hWiM2vrgNy6JtJA2z9Qrf5rO6T15yH84htfE4iH+9YYcH1KPR\n",
       "c4xJKFFlUuOSPPt57R/5NYWgytM47Ujr1uILL25V6LMBtAQaaxO2aZqESvKnnvL0ARsQw6JkYCZw\n",
       "D7D+WrkALupV5DC3qPtLF5asNhSPCJXdgUBCHyT72nGuPxY01QdYINEPi71sDm/98BmqS7b7tNvz\n",
       "bcHqOjsSrI+JevOSRRsFWr2MXGSvcqotUkI76Ok3faEbZ7YUv2Ci4Fu+zZyY3A065gKOjqUIKKtK\n",
       "wWtfp6xLPxdCE5w1nRuNEbxKcN3+xKjQbVEh6xpeWUc4DV0Vx06PiPFWCP9lqRMgWHLC/yVO0mxf\n",
       "8qjDUXXRMJz6je/DntsgldEkY5XcgaCPtI3vSq7p6d/Xgs4sfya4wNZiBmZqR15ZkIsWfui55fG5\n",
       "sIprsIFpMotlSxjFEyIKMHF3eJtTg51zzvhtJVJYe2QjcHSlgOdPH59m/RQzE83XNIxn96SpyXlu\n",
       "s923FgujS1hpZj/Ugk1yBs5Ogu6fWEefHILYXKxrg9uBZVj8SsJZncTi8BQIAmQC5/EcTV2r7/iV\n",
       "nQQHTIODvYBriKeyFZAvmdTVE0OGJymq/chrNu/UsisbaBjsZ8wvfc4rijqNX6tSWAr4FSSiUvFW\n",
       "tOXLUWCRK0JzC8q/DNT+6wBSqqXNPIyDa2ov/4yVaHr+5iMu/L07+ccQdzBb3rw1S52/eU4EJGml\n",
       "+LM4lP7RcsX/+W2TLUqC4D/BitF0q6d0nV5h9uSm6O7kBrTV/ITvOKpr9HGoQHrXiHXMvddQKr8H\n",
       "o3gbefyziRsaZCWp+9Hjy7gb0EHEd+NJ9SJpXEGyH/owLQLPv/658K4D6XWiBtfdfxDzsg0x+Mzm\n",
       "/YAOig3udGHtIv0FcDPnE6jGe6DabYqw/tJELluC/CSTstozzBIrGze6pZCd/RNvUcKTUgWxnSma\n",
       "uXP2X/maW9bmx51Tmh+EpLw0XspXV1N47d0Qrknk86dYJyQ3OqRGEJ8wsf9WNZAB14EOQmc8OtsI\n",
       "jt1mr5n6+VUYtgzDcUrdx08xcm5bYn+zds6SAdyywGh9TNBarwx+DKbGV8djiQVXjdHmxQeUOWTX\n",
       "Mem5VwZNnqiMz9uM7O3fBksIemfQA9wB5ZKVcmozXC7Uj0eBzlzAuxFkgkrr0dn/tG9lzfjPFvVz\n",
       "QDYCAiSJCa1C8hG2BU20zv/YvmSl3HsHJ4GcaIqEVvmtag927W3Ueojhg+gfTacEFeTThPNku6HM\n",
       "OWeeSmdv8oZ8owc6hMYQIFWNQBochFMXNTkRgYRTnQw+jFfAtaJ7AQ2Q0xOxPkoEpereNFeQUdXw\n",
       "vfbz1Kk3CN1tY3NZ9G9NDjtIco0fZVNtZEDx96gyaM9vTBqg5wj5T1tjwTHgnOxvWgoKcM90JGJO\n",
       "rH7DXFBH+76Ef+0MRmlcQv6hhPKq4jGs3SLdoh1v/X1zIwfvHMISqK9FABO/nXs1wHpzB9moAWm+\n",
       "N+v+0OJ3ZPHTxqucQ65DrGEyEsGDiXel1qZ9wj+fEY/dYmpkoHFjzd4f6eYx2bIzvwWGWr5mMg4U\n",
       "N3n4MUpa950BTuj9MJ31T4FfR5b5hMG+gLFWzp9fksvinqKwQra+wNygmU6tsKYQFbSIWb2fK+l4\n",
       "YgrkO90tgNUNW/rBkNn7pSp5+v1+dCSgmKkPjCqmyrJNXhjpCYASI/Ys7ZsKRF6Sf7r0HkE6VsyA\n",
       "qeHbkAZUtIySRc6HmgM2QNCB1YYozCQmklWvKpS9MheXO/A9dItTbt53nqV15kMCEDaF6lCX/UkQ\n",
       "Sny/a2TvJC3dWIvsC08DA8SAno4JqO+mvvqTGRlK0g5LyvK4r+QQWmUD0XYll+0bPZ0nvpZxR6do\n",
       "lKbiMebAnVgwiuy6cGKe7daAlXWpuShuMtss+uF7/zfEmWu+1uCTz8F5cRnlkc6CCapAVZ7GnDSz\n",
       "f2vXFZC9IL0mBm4QOmudgtWe3Pax4uUhy2hGI5pPyoMiQLa6m5VPHH7Rvn9mKiQqBMiVc5ITu74E\n",
       "RxaQeSGjkqB2iWy1FJaC7+5txpny+xk1SwG5/+k4Chw5vW2IRUnTph/xgBwjkka+t4VxhHR97LSm\n",
       "l0WvEUhhkVyDcA/lLUlr9COEze0Fay8W5axs7/CRv2GwxPe+ZwQZHgHpeLAzsQJg2hKDKpGl4tSn\n",
       "XHHoRp1/VBNPUFgCM5WkLhIMERSJt/0IQETU9T+DR3DZY2ylws1giDA11Ix/2C4/yFl7XaD/uoGP\n",
       "+IakU75Xqd4uH5pK74pRWR2Qx/y1M1sD2M43aIzzqt3X989N/ffAMSv3yKoOrdvseXzAB8NNHyKt\n",
       "nCW3kuN9PtiWjYkBP/yuK6/IXMy6Imd9CeCu5uLe3wIhnXotEOmnzzsoaznaUO/QBo616/EzGXsv\n",
       "fQ9mhBa/I7isSwALODT60lF6eVe2JMTWB/IPkbD7QVSgy61QlnQlOvcT3E542c3ieHxbIaR1S7l9\n",
       "HPfHcNQaYN3ZyGy3cMqjMqsXmv1co/iGeCcOB8azv+d6NWKckZCJfzFIT5ICr+UiQdBiMR3nZiH6\n",
       "2YccQWqrNxAL9NtYJ85gPYooz7An4P8FCbg2RHsZZ71/BJdXMUsZaWbE9dh4INlPt4BWGIolVNnC\n",
       "Q3m7+67CJu27JHJ2xPWedmDXw7SZmyHSp0wa5UIiTGHEtX28ZqOPH1w8nCC3l8WLnGln2tzXcQ/q\n",
       "M7769l7h+mYXekIm9FrdRQYGuJnrjXrXyzcHYtsoh0jG9Yve7P8G5XD0+5XWq6Bbk5oYFGcK6Zow\n",
       "Am0yDJTU6D1nPe4vWpa6A+6GGBtTE4fCJ0bPzNQSvh5c/CYhrYkc30fKZWDv5kmeLj4aoVekC34j\n",
       "kXDeT5RavMiHAw5ISagYINTejKsSQgYt75kVzjAwGX3SMCrW/QiZokpZzDiQNls+n/XtP8UHbYYI\n",
       "vdlww95sketCZhnPzCAo/1B3Mz2RpMCXMvwx5w9hQ6zDeToBozdCVwuDnPpL2gN2WuveOO1CHJM8\n",
       "MrYuksDnrbTvMz1Rkfz+DDrabqxWFuggfcNelHhqRvM+xmNI9bqQVhsf1WMxJqgG27nAzCHcm05V\n",
       "W48CQs8n8Z+wAKKBj4IDcNMUiMLyMm+oPrp256ynFrDUMIpykrKIdkV1A6s9SfDRyqLZWo0nQ2Nv\n",
       "+i/5mu82t/cozC+PB/0tw6lvA/BC9IcnFeNcqjzjp12ke4X57PIoIr4rh9xQjJxcJDQnPDU3FIBu\n",
       "OMS1OD6iIg3a2U+N51HBHq3q3dCykqt5dZ8MFzCKP/yoGrrFgYHKXVE2KAUQbnnwaXKmyYt23W7P\n",
       "/e+jPWwpYbnwcqMDH91KIv0lwOB6g/+WZeGE+rJ4D7qhjFCAP4S5lfy4lqA3zatDjlTUeFAOw71K\n",
       "vLkIO3rNQHuPZ0SNsLL14+91tsKJ39DlXHmY9h419NiqdQn4BXZ8cTEMggYvNBMZsdCODm0soVLX\n",
       "+uJnfwuATI859ykqHqbN8K4tbpFlQO4p5wsUsY084axh92SttOPI95Iwvs2cBowbBZWxkgmZNKty\n",
       "ThwPi/ZVeGOPFmtf4B+8s/unyJRCJ+FjV1tUHYTjsyyHQND2dEDdBPadqrANQ4U3eqbv86PTDy7u\n",
       "eEmttnQ5TI4hvnxiBu5XJte7NIHGG0yQr9YXvMOcFYhI2wrmgDiR1feI6w8Llrro1AUYtjQw89/Y\n",
       "L0SG/Dz2FHWKfE3B2RC5uly1hj8B8YPdOzvNaZWpRDCAfZfSqbpmUECHzYLd1CcRge1VXfQI63R+\n",
       "nez71Be0bToQq/dkUn3xqzObacxLlrtQGpCIoACkmXf5/nwkb25GaNCIDw4N/PL/tbJtGI54494X\n",
       "lW9DQv9GKTpzx+PdMHFYJ7MS7OnDcCku7pBLns7n+LR6X4dsVF1jbRElHWWicLEvbywYbDAvTrSx\n",
       "p+XY6jzNjYzbqLzSUo09DQ+gCg4NIZKsnJA5ZcLrILhtfa0lSZXqwEANmV1DWgnCJBc21pyUDnZ5\n",
       "3j51GQquroVxF0U/YNFxJGTZhBZ6zgsau6/f/Ha/tpz3s5exy/SNXG4yZoFyDV6+2eIEdyRVbxQv\n",
       "ea7Cfg1Zd3/7zn8aPD/XaSPdz9h1aKVe8ifs3eIr7Nc1aH7cpLkKc/zPiFql3Sdn2hRqb++cozdV\n",
       "pPTj7OZxmX/KNlVJDi5NBt/lfoyU7W0AiNOAUTOSgSIP52BpafgkZSI/jVvmE0w2eE/uzrAZ0dWi\n",
       "ZZrU1G2ClMpegqGvCQ0m9wKl/138WRW6d5l47ntVFS6mBs2VDlkHZWVnNElhadcsJNLM1Kh31Nrz\n",
       "+FdATwQmJiAPy0PISJPQHUmDn4obiCLA6hvhb2trjwNLWlzVR0bL6sHli/2uEIApkGpCZFcOQr75\n",
       "JleJiDSAVmNb5H3AU+YHpkg53BNi4RZtH3penmY8JmckMOVbTIlo5APRATt+4cS/Sx0B8ioYa8L9\n",
       "8y/106JRPjnA38fLpR1cGygQnl9/rR0D0oSR6c6Y6UDeot41YVk8NUaWa3hhaR3s14sqeHFVHPTr\n",
       "FmP48jQO3NHNUc0CmT7/1n9IiVYbmOt7Z0c9kjlWYWgpjDl8DRRU+qT8vo8yABnT8ogt1+VVyYTP\n",
       "VtdedHKL5Hqr0n1j1UwQSOjRZiuwSaLaL6Rcl4eIqvxj0WETeRU8d79009a4z+tyHJLOrtrA1/6z\n",
       "5A3QHKevkJB/GXuqhfbVWPfvo+pjpJOfQu8BbrMNsWf7mRcNEvWkGD282aOIg5fW/HjJ8rDvEg92\n",
       "l6MfiIOMRKz4HiIXZYeRoMkgtqtmF3hpMiK/ijTMgYvzZxdBcID7C+0tKdKB+sUlV82G/3U0F0zv\n",
       "E82jchC5CXgl3QLEXqi53792Z3Jf/BBPVcuZOOsuA/ZGwcKTCGst1W6n/9RoaW8KNwM/Hd8YJBhT\n",
       "OPMmXvkYEw8Li+ngd2lgcSe3DSz24LIlyS2i4EdSUvqlcZcTldpuj1UA9oGPr6FFkKIHZSv35VZw\n",
       "KDM6Dm5VNWD92DgGBRIX5Ay6o25/mXftdStG+82O8/a1OgEDXvM0LoYqEbOucAgT1+xADQVLmvyr\n",
       "7PebZlQG2YofXAuBtZ/TQqEXQcO5V0vqloX8hZOTp3/GuHhsr00EpGFqR+r7MySG16FthPmkYaRB\n",
       "t//CrVYCz+LYaLC5Vb5E7OJlNo9lJPV+Mh+8gEg0xFmOHyEABnOtXqg2Smp/IKWiS3HFGW9EZN8P\n",
       "XNHFMBL0a/cWkJOvYk6oCTyCwXnPJ80OPpN6++zPXHaroFa6og4UDbZyvULQuJTtLeOYgwWEynHt\n",
       "EeFeC2q8KcGBAAABhUGaImxBP/61KoAB6IEeoAfUNJWssxdy/YSP8QTlflDHyhAuK5fkO9Zy5YlN\n",
       "u0l03xzAdw2o/NfEdOipZJzUvMwK2RzYYHB2r2WgRB4Jvx1ILQuZXtxkxoqdkA7HZCMH7hyAK6xE\n",
       "muvDQHqCiJycZ+0N2dzNUlPMUC+uRfaouaKEiwwo0BqRgs1qSQp2QxK7NDY7XxSRsvj8CTZM25r7\n",
       "nZ+998KRGy+/uiBMLW1wnRFuE7CNxzvbluVGZttfNtaKnsu4cfcP+B2T/bT4BWacB32orBCtuKLZ\n",
       "Hxvxa+fFdMy3LrK5IknZvDOZQSEAII6VIFuW2p4n2yzrZq4ZY0lJGeKR12mHMGAk9enW4liYYYIm\n",
       "zTY4PZ7nEr8ofrLV4nqgbI51mJT4iSMYcRObe1hLmk9awpD2QyCylVolF1yqWPpCIAAqM2fHYGX9\n",
       "f2Rk61l+FC90T1Ylq36MxPjf6GhxLPNC/uhf2gLjETnctOMoeaaylbzrHqniL+Ix1dN2BSMRUxae\n",
       "ubaAAAAAZgGeQXkP/wAFZMV+5PghjmT56TIw0ekBMcB9P9F++YTLp0CTC8QAmCP+tZ9Owj88mH7M\n",
       "VutlZGlpEw8q6xxloGa6kQ07l4rBeRDkO2u0U7ACV13QTk+9wzPq3v8dPj27tWfdlxKX/wAAAbpB\n",
       "mkY8IZMphBL//rUqgACzcTulWuBgCIAL3WlU+5/DI4rEJKthcKEtWaEy774llLPpEi9nP4qhPKaq\n",
       "btAg31ANR42o7K5ESbRJlCg2eUkX3IU4+R+MAaF90wK7qavJoNiRBxT559bcgL3wm9WzSXxXMbKn\n",
       "uK0Vj/wXOlP+1P6q8FKdy5f/LktWaxxdlxN0koru915fxTMdvCu2EeCtsCOfncT6nqeogjIR0rJT\n",
       "UGGbqbqtRkxav7zWOZ5+yF+SGOGcl5XoFEn5ww6ppKDqYG1o6c5HjNOPuGufzvkXYp4hNeojrO3r\n",
       "Kklw6OnV17YhQKdIcr//chUPj6SLMi/ilqWCtOQcOGydTRaW4vGyH7A+/xxIbNN4zM0gusVzwTYf\n",
       "AIfFCXY9SNsq8/XhrN6UNnImGyjSoVy6wtsEI4iX3TOiN+03rNSsIHi4wXuXqjQR5/ifFING5TuW\n",
       "cIDkMX9gxfOJWACu+i+LIXHrwxvoQfovsBO5DkmEafx7tgknarSQr7uRJZwBYbxAw/MgYLf7NBqD\n",
       "kvxzZLENxp3w1LZBja+vCGAfOJ+E304udW5iucVUjc8/UZfSuGWLzhJAAAAA3kGeZGpTwQ8AANzf\n",
       "/qACIPheVWAhG62KL/Ay5x8/sTmMQMjxo1nw4aaibwZ/GZdmReOPHCsJEupNkgF7tpzwzwIsI+Iz\n",
       "6xJuskIFFbpw6Yd69v04otI67FKDkUYbh4oMAQxVM7/u0vc8OUpSAAQDqa9JJ7LnYM3IkQFH3v8m\n",
       "9OflCXslfFUR76s5z51qy+tO0CVFhiirH66HcQqY+Md7E8xgmSeRAuHsnH9+BaPHoJizpmUbTPJ8\n",
       "n2ahj1TIx6K8i72+dGaXvVXcQduVWBZa3NMwr+q3En6Xoo0ehFjFBQAAAJEBnoN0Q/8AAeX8zVqv\n",
       "f8IEAGoX56XAQccP0HUo1jFT6WS6++fxRFZTnhYeenVTnBvDZ6ZFjfCE5/lnW53lCTVVAafeA6cc\n",
       "Dk1eahpa/wf9a0/AKRS5+IkGn/FsNRyeZNKQgSqeSy97kMcdaOx4fl5hMoeThBZu+o9AZq5tc7Mb\n",
       "2Nr753GVmDB+tYkuGFv7j0AhAAAAjgGehWpD/wAB4CIAt5pTwAbSiJPya+rVoOcjIS+sc4jkJSvI\n",
       "t39/JDhwvJbEtVOt3PSHQTfWP92ST0Skicfrde3acG7bIzlgU8tzslUuWN5UTBfPQUdrightC8dV\n",
       "a/wNUvPfAP22pTHviHFtqImprcXAG1qYa6I6UGr/seuGUIRJ8oqW8ZoIZ2U2vp/a/sEAAAD1QZqH\n",
       "SahBaJlMCCX//rUqgAFlKDqACIVJMNdkU1H5Er41DDU2Sp9nb5jn+mmBVoOKmcIYce+peWM5tCqk\n",
       "Oyu97yENs2d+kgcy/toH6OU1m19CZbidu0ZkqIi9+bZiiaZfKx7yBrX4nPSjDP02ayjN+D1azFVU\n",
       "Q57WMaMv/gYflIV8T2exQmPsZl4uWX4pa8hl7Iw/zZFCppkcJrg7NEEwwenC2Z8IrPr1aWNB3Dug\n",
       "iVssuqmcwws8SfOlEmpQJqFAy1YpyvOriJiLRjA//5iAb9FCCslG9OKPeiYiRoc3dtN1Hog21zPZ\n",
       "YI8WqKTCOWu28/jZSBEAAADOQZqoSeEKUmUwIJ///rUqgAFk7lBSKo0AF1OD72R/GGoEtdIiMceF\n",
       "dkjpE2r1mxjiNi5UdKGP2uoh2/g9cEU7kJ6bebDcQuUTv02hcR5G4YQkS+I1x52LHn6T4eLgtdAc\n",
       "mgslVho59FKWNduvF1d7GexuXy0nAzsNyRbCQfIwKdTBplh+lm/po9WDVGNpOoRuhUdm7NO+WxjF\n",
       "1XN3iP+2vtTKTUeFIEfyz9b+yanujPDWhuv8zlS2K5P0/8WJDCQxkIjU4h8OQ6rDatQntoAAAABK\n",
       "QZrKSeEOiZTBTRME//61KoABZO1uiIjAASUUf7w/ulunjo1mlzrmERU66Qzu4BRB2FiRPY23/aUA\n",
       "TXgx9LJxC/DDWP08xW0zIy4AAAA+AZ7pakP/AAPAXdtZ/QAeKD/ZCf6oxQTam+EVwIRXEgayEaDD\n",
       "s0bTFFj4x7BTdaGPXp+svhkEthuBKH+wS2EAAACGQZrrSeEPJlMCCf/+tSqAAWUBiZADpbyMFZqE\n",
       "SoKrWJcJSS0Tfk7PnTrEo4cayegG96XLz9+7fDatc5tCzuggVWmgco3mJHYUTbNL95yZaYnTun3D\n",
       "x2kSXVKUUk7NhJX1JvqxkZy/pIFn1Y6NgKeBAG0wnsi463j7tRBtKI2ObQsupo2KLbUAAAHfQZsP\n",
       "SeEPJlMCCf/+tSqAALJ1WG7pDRoAOGvGm+tE/MBeVHpFK1iMKA/aePzAPGa+MKY8pLBy+9TOQUYL\n",
       "gAe4+I5t3TjQXiavSK1uFbdDq7pNe7gIPRxxRLirbZSN8ok+4QMcM4VNDgYlbmnY8ZKbB+n5xDog\n",
       "1KLgmipVyoGa+btG4S/MqnpoVEmtjM62HGjaBuFCNjbxYcMKAziWbT+/JPR4gsPVIkbu5yn/qj7t\n",
       "+mTakYM/k/l2NnSjs23uzXijbcAXgFGzgNXuaPV5wcUS4opXFYbWRlKtUvFX9pa5C3s+rI+BDmib\n",
       "Svgu/VPjKLkUtm55Q1bOjpW0BPGIE0NddxShQ1KsbJQd7A5uNLVgUrZx37Jeb1VVsSqeJiKK5Q1y\n",
       "4WqQWQISY1tQwm3+s7RxH4jOec56geNKl0W0AamRKYQzVrgPdEphB49eU6BEfM/VY/A2sEUHp/Oz\n",
       "McDNKkThzNLuWRItoAd0jIqQQREyv5dg4EFJLsawmYO/cZkPFBMutQ0or00fXrOQjhm1WARlldtp\n",
       "2PxPYBmJ7OYuFfWPZJvLlh3bzmA3PC5qplcUVXt7Kwtpt5r/IfcUbGXPzfGr6eq2XrHOzSmVdt0i\n",
       "CwNzU1g6yvcEeNWCwoIA1zOaW0AAAADDQZ8tRRE8EP8AANqJBqUjvwANXczENJkbn+ggDI62WUqA\n",
       "wGtxm/BAPIUbXa//boeDG96FemL3XPQJSsdg+K7T2j0ESjMPP/x2DCFpdpb0+/5DP9PxO9mvdBWr\n",
       "e5JBzbZwgIMYoyq1O3+DhtuEyNIi+iuy0ZW1hWpdlGqL5HPtw5w4PGKps3blhynLTu3MD1KeP5b/\n",
       "UIM1Y0LdooFtt5chfrtO0GK75hlnR49xywtBvUTA7BdjXK5Un01DTpa4t5IeR/CBAAAAmgGfTHRD\n",
       "/wAB4CFEU70iJUZW4AQgjFzDK1Ju/iYfDDoR0j3IqJpasA0O7qLibQNyJoHFQDsZF3/AEcwUCwB2\n",
       "XUJ7qBBrf02TenxJAaU5PBbUDyxce7hS0y1kctspUBnoabCIFdeP6xW4Luf9OnMhiOJa53s4b6yV\n",
       "Je5A6mSjOyDA5CkHHyYd5qwaXCKmm7uegrl0L2rTkwQZRSEAAABwAZ9OakP/AAHlwDYAPapQW+TK\n",
       "ZcjB0gV6GlmDbOxpvTjjT6Z+G3VJESxiv1RNTJCky+ZKwADpprKbHuOWrGFZSIOzdNlY+4V58eiI\n",
       "XuuK153Gvq5HTutSjwjcnjVwGkhTpsKL5E5wzE5lRUepF4SlwQAAAPdBm1BJqEFomUwIJ//+tSqA\n",
       "AFk7kmIUZWXEAIdRRxmzaMFsqoGDFGxoWVImdUfyKZ06Bc+2JyaEy0CqK4UsxLW+zRv30fgVEdfF\n",
       "0HWxvtqsyqEmic9sC4rdsfTzhvGUonCQnwgUiuSmTXug1WsxG4JLsCQVWwz34E1fb+NH7JHioaLx\n",
       "v8dC/GaOtQi3kmfWcWgHED4vsdmHXEyn6AaehfGVNGTaUXqqChCKiUoFx6IfXXx0jDAo249n7vAt\n",
       "opWuN1UH+LTQxnj9bQzmdxYFBMXahqRKVRETkZFWzBiVnzYMZ4xHye9IHMv4qH1XJ0LZTzATi+MY\n",
       "pdiQAAAAV0GbdEnhClJlMCCf//61KoAAWTq+lDClRPgAiBjSHDL8RZ1NP11KY6YKXwKtZHugb8i6\n",
       "uliL9AQCkHeen2/A45pMHKvy8iK0JmXRRkwGiA+JpjJXTaN09AAAAGBBn5JFNEwQ/wAAblv+qflA\n",
       "CSiQo83N20IEPrl/aGqN92D4D/Yb4qCz3AH+cH0qgnkY1v9AIPCD/j8ORA+mw4zZous42Tj2P+ng\n",
       "ejJcSw8bmBt0SG5c1Ufe6Zux4I/SYzEAAAAWAZ+xdEP/AADy17MgAqlWjM4ZtqfHyAAAAEwBn7Nq\n",
       "Q/8AAPLD56MSz4hjo7oVyAD3z5/ESUjuuLQBIMc0iVIob/4dBApXo+OpRG6B8QRAO8dU5dZitsot\n",
       "7HZ/LEc5nKvnb2tJxmXyAAABqkGbuEmoQWiZTAgn//61KoAAspZtgADGhGdjDKu3zhjl7FhiemPK\n",
       "r8XFWzTB81rmGDIoWn9/rSP9qp3aaPFVBIr+koRTPTcG98Rn1iidmPe3KcBPJdsJi87HAUPbAopJ\n",
       "1HgYGf97nfZCG5BH+qLn9dGHSGi2Ps4n0Lmgs5bloDNnca6ZiIgurREn9x7hJoAtgNIBRYZyu1cQ\n",
       "wek5/OJRkhO/6qKdIYDVrCqZDuW+0KMRw7n6xROavOjixR8c7A9G7C+Yxcl0lsmHQ3p/S/H9Jq6Y\n",
       "IjJP8DQHTTf8YTG7nk+MJjBsLhZgelSQEvkQcAm+n8rCZehzVIP4/rAtKdFGrCOTVmSXp/6gwwjc\n",
       "IADK/L93O7Q5fSM+XowY9uG8ud6Z9nWIdKtnrS9ZRdUnrjMU1dIRRWPIY3D5ExciMgg/8PdW+mLo\n",
       "U6IhwyYUw0WN9TFg0xDFWOYLYUqO9jmjs6cdn975GJ3pA79OwZmfwyNH6bL/k0fTmmstRbA440W4\n",
       "Hx8L5jlI/tAF29vNDLRKmf5QWGeuRc/139QspJyCDwJUXLtqcj4NAxzpfTjjrQAAAT1Bn9ZFESwQ\n",
       "/wAA3N/+oAIcV4hFMzV/md2x642aA/3O63ZJ0TEh8Uof2m9HcGZv1xV1UutBnGqZrYW5/ENXDU35\n",
       "TRl1/synRhot4sKI3HCocxiSsQpCWSt9neb2EjNyoEYn/+rLzp80AZLNpsYMElK/2XRgm9WaOlxY\n",
       "9Sh9BKjVPW49ekjzzDGWNQIjkPt7WjFBXrcHoXKYMsOIfHKmm8Oh/I3yPTXN2m8CVIChFU7sBA3N\n",
       "Pm//XNN7+kH72+RKrPtH9WlxW///TnqUyppubU5Fc9LhtYTBnoXy1/UWN+2eKbJc1HsDxrmTOoS1\n",
       "zvEoEDAwmzRxilHrjqnxCjKJdwNvCqSYOkOQDKbomQmACqu1ZTP6TxRS6E/LFcOUDjMEyGd5WVoo\n",
       "QapFLPnjffpFJtBNwIT/84yv6mi2Z0AvwgAAAIoBn/V0Q/8AAeX8zVpVqtL+JAPBABq6yrjfjX0p\n",
       "n4phfX8FzvWDHq243IegaY5pnowJElq/I+cR5ZX0dVUohhPww6plzb9nteaS5TrY5praHl12eK9W\n",
       "T49irk+swhEwP5Yrw3lzSpyAypVdIN8pBRug47AcYcXzQxRoMqHVvt/AYet5JHzR/p4SYIEAAACY\n",
       "AZ/3akP/AAHlFi84K4AQgjFgALup0bTE3wJ/sNSl7qYATDQ8zySlVZM1i0UxxxlVYzhUi2Ag+QRf\n",
       "YEWT0CN1aO2RcfpiXv4lYvf0W2uYB/rxXPcFh2o/dXxBoSrwS8k81vf1iytg/94gu3D4EXEN925K\n",
       "waV1aHToluHSw3Ur2bQ6QEAEgMzKa+W0I2Df9jctLKHzTZBLQEEAAADWQZv6SahBbJlMFEwT//61\n",
       "KoABZSrbAAX0bqTanisiR7e0RjoJktcM+1r0q4Clm9oz9S/PimbU57fm85bKDry0vw3Mpd99mzZt\n",
       "+lRAaJ/c+lWVYenv40ldd2mdNw2EMZEKj+9Zy3PqY9fj8s/+GcV4Gk/E6ka+AAW6NeY2JXv4ljzW\n",
       "qmb+bt3BpWunAGaR+y8JIC/fiH3eaFS+czsSU6+kWxEICrWW5XQmpit9OFI1YqLPcG67Duf0TfvI\n",
       "a+tjCT4m2wrisfFaEnSLIWHIEBDa345Ftf3tmAAAAG8BnhlqQ/8AA8BeRmJqQAkr9aBSuxd+PtTa\n",
       "I4nE1gGXJE5l/aTxTtj2orqhCRu25ONEPnRzRnAv3a+SJDTRFeBMBFUXxFR9vdXS8Na6DlSFP9OQ\n",
       "N1bYpkcHs1Xpbiqxvs5F320sxJVmNdcXXte72mkAAAAoQZodSeEKUmUwIJ///rUqgAFk+ENUmM7Y\n",
       "q4JntRV1EXklN/Hb23Qn/gAAABlBnjtFNEwQ/wABub+sayEFSC6QeTSA4TTBAAAAWwGeXGpD/wAD\n",
       "wF3besMAHgef7MZ5uNA96RfokNjHlSJyyaaoE4yCg5RW/bym81Wc7+VL1iZTLpF1tmRX6MKezFpb\n",
       "GV8tgPsDDV+l7u6qFLr5iOvJs3UCWn9VppEAAAHnQZpBSahBaJlMCCX//rUqgACzGGD68OcgBFsN\n",
       "snPrH5UeMVi7yf+5Wwo7m/kAPhOEm0dpWrDkFDNygUvnEfDbhfw6yUV9pn5/cXm1cPNdWs0ViY5M\n",
       "Z0i833PBnV8RqcNpD10W9YTHT/cEFMjWM9iBUDoq0qKGaqht4ugDvX6kiLhkkbi3w2xeHSWCN7Zx\n",
       "J9u4Xfw1uGjj6uvkU88NeUpbx2fmVwb1GkQuNKyR1x22/6wDQBbVZx9XQi1hKxamKMeUWB819KbJ\n",
       "6uiaLENpDDFNPAOxpNJedLGlgLFCsvfUbr0+8gss3USAfXqUi1BP2ypBxxe9yTVWiNZt3In2cy2K\n",
       "830PPLx8FllOx9+JGPusy7GbR/UkVqB+tTpSn3uuEmN/nBEBX3vId9H57se2hJ0eY6YwTXvPh5Ob\n",
       "FBK31i4Cn1M+SkFs7J5RaD2LCsJ3sF9pgVHqyOYQyBKngGgyKzeEQLF6EMB5bRkMzJ6/fQtZlp05\n",
       "VQtfl6cP7xGQ2K6eCLU8aH7ny/DNBdeYEdu5KYjaZal8WUgtofnXPXctStofVE8yWEYdREZVj8/a\n",
       "xDbeoIee93ISBFNuRKG38VydJm86eT1E9HXxUUpkRmnRGFiK8XwNA/RQ45p0ciVri4uXAi06rMBB\n",
       "EcQ9gAAAAM1Bnn9FESwQ/wAA3NE9QAQ4rxCKZmr/M7tj1xs0B/ud1uyTomJD4pQ/tN6O4Mzfrirq\n",
       "pdpmnGqeIGtyhFwm6nJLmM/11JfcU7XHEw8llUpVVT3sbK+X/cBCLla0rioNMJfemRyK1VmPVLTG\n",
       "2yRnJLMlGL/UYmMKG90Z1xwIsFRtBsIK3f2yLISIfgxbnnwrL93dbQrJk9HbINT8YfG4VWCzvsNA\n",
       "1qx4S0KvaqYhlbOaSgwRbm3h5XydXajjg2Lwqx6UCLzRIA8NTtD3fPhAAAAAlgGennRD/wAB4J9z\n",
       "jAABCCMWAAu6nRtMTfAn+w1KXupgBMNERBklKqyZrFopjjjKtxIAAb0bA0gi+wIsno2GMOfCLF7+\n",
       "mBKZlL+SD/qoho+NRZxfMcH9P1wlPiLqF6gMSqxei+yJS9kI2Xh7R/3AikHgW+qJhQ9vZ9iM7efc\n",
       "9V7Nd+KVckugE44Pt3drte2tjqQXVXARSQAAAGQBnoBqQ/8AAeXCFBh1fAHAvJiQgA1dZVxvxr6U\n",
       "z8Uwvr9jGEwc/FPILcpxpjmmei0F17Ayq/feV+4Tt4DHdcXaW+wHNA7nM727Usc02LuuKhD4tmUm\n",
       "F6pZmIDX6lFupmdx6FcEAAAAu0GagkmoQWyZTAgn//61KoAAWZrCzdEQAiA4gcFxUz51sSv41AX5\n",
       "PsLkBNzh+sDOIbLggFNReh0np5EJ9WNtfY9IetYc2r1rv+TvbufrAojAR+uCVJvbiaw6bMgNPQ8E\n",
       "UB0OvkEZygsgzX11gceSQPCLEzl7n2RNPnbJmapftWZxkI5vjBL9hooU2UN67L2bPT6PM5boYfzz\n",
       "uwfwPo+O823xSkhtSM0TWE3KM29L1a9BQ2OIMR6ihVX7vRkAAABeQZqlSeEKUmUwIJ///rUqgABZ\n",
       "sC+y80SfaEXPcQALnQB/5j9sdNtDmBHGtlLQxSnCSb4jQpi04HrX6xfo8m+g3tO59K90oZA/9OoV\n",
       "5Embf1DHnvD2HvJHe+y4SjQujAAAAGJBnsNFNEwQ/wAAbkKA7YABKCgP71YES2FgDk+aXjDyRz54\n",
       "OEixQCnC62Hwt1EOEQD5x+EAr90D9w59sw9SX4liiqypTYziplvX9IYKcW7jyPSVHiviRZikLRUI\n",
       "2F3Um4NPlQAAABYBnuRqQ/8AAPL2Miv6bYtGZvUhH+73AAAB6EGa6UmoQWiZTAgl//61KoAAsnEo\n",
       "x+xOoAHZt9AP9OU8xd5TgnApNS5jWc7EwyKZOjN5cxYjIdl/wIpMn8cOtutBT/sU5PsUafsZ8xDQ\n",
       "gJr2eR3GwV42/HBnRsksZN9cYZ+nkRW6sUwRva03xf1r+6UW/aloamXS4KNhtAI4WsCUIceNhkXl\n",
       "XuHf7kox9A85DFJrnF8hbRZUo+ty/vt/cVqXklLY5YTlj2BTVTsJFEcqjqfjrNIvnu9BX0JpiQdl\n",
       "SQwoCmb+sGtc8/f5g0ZLY+/7LU5wqHJnrobluhypGLmmUdKlhk4jTX8fWkPkf8pXea9WuoGdHXy3\n",
       "lSbsXY9JofUgEaNPgm4IDbQVqo47QHnBWP3aoyva0JhZe5SkoeKuCTA2QzPlV277MOXq/8QO9b1N\n",
       "4grMyl2QXzJejAhAKM/Xj+mFB+onVn/KFw5dkB5pvwRaSzKemWKRhxAY2dafQ6P5BpoaTnnbLEve\n",
       "ZZj5OT+mg6BA8QdaqOZW8z4Fz7BRhJbeHNSvi5YpFGZhC3jnPYlfJbEtz4WlozKTRhNvuU7NLODD\n",
       "oZ37kjdrXp0Agl8INVIHfg5SF3V8XW5uJq8PDwPgJ9FZTceKbexzzy1besgJquBIIxG0nH18xwG1\n",
       "tNMfwyUctOa6ca+zAAAA4EGfB0URLBD/AADc35pACQHzgEWJ5j35oSMJ92tWvhDkgCcpwJw6cBNH\n",
       "HcYkBnv27WFCyaNslnyaYNi+ltBVzwECWX2MWhaJs/Ku2i1F2SbaXzBscQe3f5oBA3VWA2+eAcpf\n",
       "E1qOJUgQWguW6c+5XyZSg2AtwRnN/praTN44674/ktxA2WvJrjHwOmEmzGUjImhXijQfRPMxrlWe\n",
       "aKVFA/D7AReWacwjGTqndsMoLFD8SmJrnWnJozwycCib9O2Z2YZ3qqi0pRnYATlY9nVt2sWhKGxA\n",
       "59NMtFbVurIC/tjdAAAAYwGfJnRD/wAB5fzwtnA9VACDjd/c5iPjiFh5jCY5Zi7vc7QoQdQeAysg\n",
       "D7BbxVX719bCiG8jz/ljI4PBKULjalXTsNQSK7z/Kb+hb8OOfyTAvaZCjBUqqnV2hS8dQ7lA7Cnp\n",
       "IAAAAJcBnyhqQ/8AAeAiALfkkkAIPLVD+EU0j3L/P47uY6vFNn6BxAyBoDKYbzLWvDg2f/vUbF4U\n",
       "+aiIh6ht30yO0klMJAQYCUBWvXdshv/3jy9z7fNTfRNtBNV0pCOWL+JSqbAQStA9JjP+1DGXn/4K\n",
       "107Vcvyo75lnh9Hkde3TNmR1cQXyMwLKJIMcpAxDbRVo2oCN7SUZnWl8AAAA1UGbKkmoQWyZTAgn\n",
       "//61KoAAs0UZd0cABS+Lmqf7vOfNb1qkn/7YFx03xQ0NryRTW1187+fm/Ulik0/3l8U8ItUDOWG5\n",
       "39XKviOObQRNR7e+q/pbj9UwbWQoAeIijjomC/bWiQCiE557IuQWRkNbZVZV1XtJA65+6G8mbnGd\n",
       "z9xY5OXP6FJJi/46FdvNv6jYKIIlfBHApeb0CDxaZtEUhDuKdcZsc3yzX4o4cvlU63Ix228EGibs\n",
       "UQrDTvbkpmE2Sgyf0K2cuA6SuC4+jc40nb0e+ecxvwAAANBBm0tJ4QpSZTAgp//+1oywAFuLLvAA\n",
       "7NyWLdmwGex4Lym3cjGaeT17U8TPCnuVetzuPECuGlY7iiTQ9uVl2YABVSgQ7slGeJz68Y/0u6/a\n",
       "U8nDbcz13CXy2bmQsrMNSNyzCTtglLXtw7noVpXyZVQ6jwkBoNHdrOo7oFFxOgUsyKRHfURfNXqi\n",
       "KffGBHhAcifwOeqSexaPWAKvYXj9u9gLr0KogE76FA2F6Z7cqsZTkBra0L0qGIggH88yB9QakSAh\n",
       "6uCxkW0X5bj8MD5OQ9pgAAAAYkGbb0nhDomUwIJ//rUqgAFk+EJQVJ/KQTwACJnER+4mZ/ET8AF1\n",
       "CfZXNp4xlsv2WUHnk7rnycuAq6zi8QuNRI4pwbI3HQc21IYb5Sa+1EXWbPJvVgE3qxy5uEKSxe7I\n",
       "iH/gAAAAaEGfjUURPBD/AAG1HO7wfwARwIP5tX4g5sVyrMrQos5GkkUX26skXBX8vcbFbJlZyM/c\n",
       "Rn0m1E0zTJY5faIyf0nLztU8E5RyRwsiAtp5LgQqtY35w93ZYP96R3kq06TVBtJPIFFtoFQVAAAA\n",
       "OQGfrHRD/wADwF4xYqvAB4oP9prn59PdgcT7fU5SkHbudzd/skCzJNFrizaJpO7dEN/DkiSnAP1L\n",
       "YQAAAGgBn65qQ/8AA80koAJ1l6C0aG/2XyLHfMz6pbFV8MThrv/B0pItNKtz+VDciXuyYTTGb/Ii\n",
       "WfpOZz3zwsSawTfzE0f16/zIBGk/+nHyHONGyctHuP3tOeHsasdkv2sDltPVo19SqfKppQAAAhpB\n",
       "m7NJqEFomUwIJ//+tSqAALLodwFtABw1URL8HcuLeUxp1qWECEOiVeZ3W9Sl0cVq2WEezET4/U2M\n",
       "HtHhzrQh4copC3CDpfiGs1PxR3ifYcrPmOeV0c+5J/naAn9xzizYTCjKTgkbaJYkcLGexAvg88Zh\n",
       "3pfjw66eMNQf3zluEt6MS8htjCs9ZovIZJGayPzv1UWmk7aNI6QhRS0FHlgW+rv/c3JW2gAqKHqo\n",
       "BPbdwPnq+nw9vHs1feOMgsUTe//SY6byFg0Vizh11LSLdlgoGvE6eebqWYfdh5PTM13zGtqLn15N\n",
       "1/fdDk4+i/oZbPThRANuim1CqAXV5WEbye+c47WAAGkb8T5FC9hBCNHj4IytjfCzfEC9b4xwEC7p\n",
       "4kvqZjh0beeywbapkg+41a9aJ1dKtK95IgNrOY6bCcPpK+HtOc3b69oAwACZzj66SUHkOGmH2mU6\n",
       "mKtvZmER/0pdrVwJBRww274e634ADkNOr+rJ7OMyEIVL+LkPiaEIu6rD7SP/Q5a8QOuszwVAtyom\n",
       "5z+bGjS5URKCQENlhgts1oGD5AscLhgIHqax493zjqEdOJCN+lMUwfcaFWGs1E5IKHF1oRXlbFoU\n",
       "6DNFsJAvnK61dqRAXWCPbhDnwMeSs8rq3JAWdDKC0ckXDhD9ZzrL0WKyPqEJkZtobP9dcrRMUWdq\n",
       "XcBDPtoxc487Ulo/FskwLY4POLI7rc+oAAAA50Gf0UURLBD/AADc0T1ABEHwvKrAQjlZ9eOt0F5n\n",
       "I6gGaRPPNjWfDi+kzP17DMuzIzmYK5BzwNkfDhNRMFhGb5jKx6ffk53r8LaZzomB6D+SL91Fr+7G\n",
       "9+KG+1jv/Bch+RiY1ybrpTJFXCOomqNeOzVsB9/+0l3sDHm727GI5CAp8hohTCDYN8c/PTEYX3NX\n",
       "YvhED2UmoqWr/cBB3NRm3Jykz6E48vTY9smCevaH1n6hamtahULcXVN7uPdWZdm2+5H7+uBsIXXq\n",
       "1GrH1hNKoAh6T6pxcS/WMb7ekBRi+VMNOUI7VeytwAAAAJMBn/B0Q/8AAeAj/UqBpPMAEQfHUgFn\n",
       "glMxW/SOUXemYXFmf5mLgrLXWd7C5Ir2pSEh2iWvMljCdqoIF9ubtPwKn3MCiL0BIRSN2/ItYt+f\n",
       "TIYzGvQ+A3ej59oXFxAZ/Yp5/l7h/889m0rVqC0Pq/wwjX40O9aHDpJJvyd1FcIRtsRwojfQ5DG+\n",
       "8Fqzt2P4kKDpYCEAAACRAZ/yakP/AAHlwhQmh7ZnzgVQAQcbv7nNAeRM/n3drGKn0sl199/DdcVJ\n",
       "+Fn8sGqnR9duuft3Veejk5gOStzm5zuO0ALnLGrbxVEvWBILSKnoV6oo8evA9jkkWw1D0zBVAYfe\n",
       "YiYU5WXq2BafySIaf4ddEk4QVbvI99jc+RE0FhAtGZoDc2/XPU3JWdrjixSfcAAAALBBm/dJqEFs\n",
       "mUwIJ//+tSqAAFt+EFkVWspNAALshUhb9frpi1udmfQ78F2ijRzcyr+CA48DOjbckSAKNkqwJFZC\n",
       "cTF6o/FlloWXbMTXsWmV1y8H0nHWw4K4/NXPbslJAx5S2wr1JuNAj8eLAqLI3DIEyBLeWt84tSqE\n",
       "bSkWQZZffiDMG71W9KJ3+Tdo66Zf6kn+d9F0J4e7Mz+XEwxrFAy3zuzT/4gMIYYx1poJqdvq2wAA\n",
       "AINBnhVFFSwQ/wAAcSeSbvf+C/tyAC6pRMWeFZBH0RUwuYYRaOMnwvXvhhTOVqqiFaSt7b6d+GtN\n",
       "ncta9mwh76IMhsBsrtny0tftJ64vKGOxov172MJTpSUEd1DAzMAwZ7cAwSoOSUkScCvfnPSDnb8i\n",
       "E9tfSsv86DG60P7qRDcUBHJPYQAAAFYBnjR0Q/8AAPhXrmZh/2ZtFWVragBMG/IZs7uAMsgU0/mW\n",
       "kzfu04Yqufpeh+qcq/isX8FOCGF4CCFeyjinN+w/Z/DxwICgNSf+u9zpgANklmiVWEp3yAAAACwB\n",
       "njZqQ/8AAPL2Miv6bYtGWhfLxwYAEQdgoWiUSFiXRydMIuB4rTYtPTfV7QAAAcBBmjtJqEFsmUwI\n",
       "Jf/+tSqAALNxO6Va3YNuEAF7Q0mX98zI4rPVrLC4b5dp0gcfzTEtJhgAW9hAYCoTynVR0rOyo0IK\n",
       "f5bd+gpGJuCuBF4bPKSL2oD1Ezp5idG90wK7qavJoNiRBxUH3tK8gL3wm9WzSXxXMbKnyZewGH6h\n",
       "9EmNyVC5zGY4CohvnxZIHi3J/gjbnraRoXkHTyOGmprFDiBIBHPzuKWi7LHrl59mkxi1Bhm4C6xJ\n",
       "QwQnQo0TTSWNJgXRe7Kcqu3e8RvWEgfIYXcCr06EjbHE6luL4Dbh63p6AYhNevbgjH4PY0JiOY0k\n",
       "XEfdt+6RAzhiV/fcjbK/hdPOPM8QaNWEwee/ywXIJj9vn7XciOzamaxO2Um5TviUwN+x3aK8Ixbo\n",
       "+mfQUDu3jCM/gM5pgfnegIPxceSx3BYMieNImYuc2duul7G59ieDVeaFZRl+jx+KZQqv9l07O1+k\n",
       "fsL5IB+uNIWZF0tCiWDhJUIHGcln+nhUAuTTJssl1b+e7DfwWPyOGYpnuz4wDZFneh0E5LzAQvWe\n",
       "11ij0iAlZkD07U+godMLyD/TfEbbDs5iFP9XjdAwNZ0jrTf5Sn+BAAAA4kGeWUUVLBD/AADc3/6g\n",
       "AiD4XlVgIRys+vHW6C8zkdQDNInnmxrPhw01E3gz+My7Mi8ceOFYMvg2SAUv7iY5ePf/Rli64yd6\n",
       "/NEYmMNnrx7Yh7gjP7mxyza3QxE15haNLer5Knssd6PAnAmmCAqSUlRXgC+mO8f2snb5SabIPQm2\n",
       "7ZA/nZqqXG8/PiGbVkLIRhZuL+0kkLaZ9r+lDd2Y7M2e7WY0dsP/dCnqw12f0+jAkSe+16ECBkkL\n",
       "z695iX7tPL1oygQbpfWwjkL0btt/S8EgOfA6j9bgPnjIBmE7Re2I0vgAAACMAZ54dEP/AAHl/M1a\n",
       "8lCJCADUL8+5zEfE/Tr6VcGELM0Z9KgE85KVA2q8ymyazgRSeqCiQhAdQEpCc/33a3nxzUC1Tos0\n",
       "gN/pJi39qzQz1vqbPDOWrE7B0aOQplKTR0Q6ZisA2W7cX1ob4nt+uNlLMV6iZGfV/GP4wc7k51a/\n",
       "3k610prLIYIq3gOpfbkAAACIAZ56akP/AAHgIgC3mlPABtKIbJ4VHw4IWHhM8x84jkJS/Z1H6n5L\n",
       "l2F5LYlqp1u+aUnroJn+7IxZBVN0jsnstqzV1AFsArOGzxcFgjT5TsYA+lE2EsBFQNCYjnRawMwB\n",
       "9W77PuQVupNYdf9Z9rYg/Qr2KyHx8ExKyGx5LJFGbQLnzpJQHwjaYAAAAOpBmnxJqEFsmUwIJf/+\n",
       "tSqAAWUoOoAJ3UkqOeHgRQnHOOAZpjjYGJaVkUHoIqO+LTWqmpp5s1l5YzmHqqQ7K73vIPOzcT5O\n",
       "XzLTkgQovw945yEJKNKiSHsyIiL35tmZbPMBbrfvDIws0oQK7f0qbkXbTZQX7ea/9LeNVy366xTW\n",
       "jKQr4ntObf65I2yGC1aXmK6CER0+v9f01m/EUyAEvcy0Ol3bgz2ku6PgAh0MkjoH24sVS7JVZsNs\n",
       "XkTd4sPzGv+rTv4Rx/ckixutLuU1OUEy6J5aIKkZPVfRatZTnApfVSn8VpKRNL+cpg0AAAC4QZqd\n",
       "SeEKUmUwIJ///rUqgAFk7lBSKo0AGqNr9673NSg9wWbMyluuOzLI50f4QWM8PBeKRhPw/YuVIC/F\n",
       "6IankvFGaX6dpCZ1JfH482cPEdR22D7V5jJNVqLYlf9jov/pqL1fhLneYWn3xAVSa7eMCK3ZtJGA\n",
       "ci2498gqRlCV6bV5Srn6a1PAj5v8sH+3qyRB4HXWZM0H3uoB7oRys2pRvwaLL19qZSbBZRH0WIXm\n",
       "h0JlPuxz5T93QQAAAE1Bmr9J4Q6JlMFNEwS//rUqgAFk4kZAmiABoCp/v+r2ikugkzEQ06aUlcs/\n",
       "o+coLEpjZmNEeP7wr2ChGkaSr+svVMS7O7v2+fDoJsYRcAAAADsBnt5qQ/8AA8Bd21n9AB4oP9qk\n",
       "JwdgvhYW+342zU00MPuiRoMOzU1pPPAjomk9PK9j0/WXqVJqQmaWwAAAAE5BmsBJ4Q8mUwIJ//61\n",
       "KoABZQGJkALCcREcO1r4yEc1aya4829tn7LlvwczVjjLDNnZuDQn+RXQ7WLsvi2PD64yVEl3Mufs\n",
       "puteVaElrjUAAAIBQZrkSeEPJlMCCf/+tSqAAWUq2wAR6FRanWd10Dmn5UfJ6VjUs8Zx4HVjaFt0\n",
       "sxfHK2U8/Wm5hfN7X8GunqfR3PdSMYRoOQjN0cFP7/gkaT9YmSf+CP1VtMT66Ol1EJygMj6sMPN5\n",
       "A6gDLXFZ/PRqF+kCmRD18BX2jELfuPvEDkUnGXOZTYvU4TINbPKSxLMF7FUWA32GrCO4OgSlSc8R\n",
       "PQJaoJ7jRLMAJO78p3GW/S6GFGoIlwpUhlzCAUUJdRdfrvQ5SuBshSZ7jSZD011oFiewTyLIFREy\n",
       "zZ7NmKlEuQyTHZSPaIYutQ2BYsVaH6QpI/F9UrYUY2Pm8CuYFa6U8uxqb71orQNbjyIyAala/mw6\n",
       "atK3Y8schCBmk7o7wPJyMM57ahY3KlAtAVWzw09iv0r77k96Z5L+iboBKKa94FKJBgjbH4gga2Ft\n",
       "Lem4AI+HSHOfvV/TlXp3zBYSLWZfLvXgS7vSR8wUqwWAZtFysrpaUvy8R8VkgcvwRZm9bAaUIQG0\n",
       "yfd7NmwSxtwYO980IPWo3a8s+pKm02vYDG9LZnMer00vKwhMXu8m3do84/MpzTS5g3QqyazvzNbx\n",
       "H01OPFUraeCTdFfO5HKD9e2FJkytrAKXLu7+4fgf1AJKPF4z6D19eBTU2MrwabFiTJPL+AK2MCzn\n",
       "MBdNjZxREDcurytIAAABQ0GfAkURPBD/AAG5odM1Car4ofgAIS7VmHwO409GYGS8VWfIAkAxqyAQ\n",
       "QDt7zT+wYhvPf/pTC7mAAuKYD9oWTS3Bx6f9S9qdVfYO+C2ojDwFjQgTGqdC3uU114xVS5SbHTrC\n",
       "aMAB2Bx8DwNr71hx5qEpY5tAo6+ucGtQJASTo4uUOpaV9gdcZI79Rz8oaz1J9HWKNuwvomyW7gja\n",
       "5i/bleaBZe7VKJCIzIEL61776G9rTXil1BMF72GXZsYI3vFbxkeztYOuJoguP/wW+PpjgnzcsYSV\n",
       "FZ3B8oGHsPI1AeWKktgKTrcre6BHdNy88nUhpYaV1/3dkAsEzRJnJ0QYWsk07eQSJDPbaXzK03bD\n",
       "sG6wiMKKR4QChYa8w7hJE6brgG0N1AhisxZ/uGNZTBEFWKQqFzPwmYNbS1KYYXx9+DtcUQPRAAAA\n",
       "jgGfIXRD/wADy17MfDtEE5FwzLZO0AEOIxYAC7qdG0w+GMnRs0/VZgPBI97/VfxzLNIOtBoHFPyJ\n",
       "2G2Ck/gp/YIVjC92+R8GLUGh+RbqDYzYaOxjbcNN/zLrbv09cH06O2LNQE8faV0B2NAgHxL1e6fs\n",
       "0/Qj+w7ldl92FFDWq7IqruF08+h61o0zqxkW5OAAAABqAZ8jakP/AAHlwDYAPXkLW82s2xMdN/6Z\n",
       "X+rfCw7IIWuLKtpU634sdWfHHKhWpl50ogjls7lN7T8K5dbX4lze+sovVJ44peH+UhTkA6W48YMP\n",
       "1dyAONPQtzuV3oQLisC17KOa6VF23nTEvwAAAOVBmyVJqEFomUwIJ//+tSqAAFk7kmIUZWXEAIdR\n",
       "RxmzaMFpLx6vyBpQPNzc43lYyb3U2Dwq8QCy0I93WyW4IwGzOCsbqrJBLD7x73n4Rzdy9J2rSg13\n",
       "p/guL+x2h+1XZr9ExWaHn2r/H/tahQ8FGcbwu46pgHFm06PzBDk3c6I/59MCPZhq15FyR1L5cpR8\n",
       "PFG3p+dSiZPVob13aTBbE669atZm199BkJW48+rP2DA2ZuDAuXXGVSTOe1yw24LJY3uwKVDQZ6V2\n",
       "x4hXeUjl6wUyBGrZDDv1XxX2s6thYbuD+Np9n6YxAAAAoUGbSUnhClJlMCCf//61KoAAWbAp9VAA\n",
       "ETXHd22Yh0YikpPPqQ3QqCX2n4wIuiYjhnshM9Tmk63pu3isZkGL/ILfR0FEei17FWjoc28qGLSv\n",
       "QqsOQjZYPUMhhuDxbVVnhptCnxBKRUnlUgiDtQARZkVtfrmTnote9dsxw/A2gX52zu/3aPIan0QH\n",
       "/a8rVp+LPnxOJgcwW8PfZDGO9RCCy4edAAAAW0GfZ0U0TBD/AABtRA1ObjW4K0H/mQAF0a/vqM93\n",
       "YOniFUWv0yZGYL7Ewq9Tw/DoYQ9EA+cfhAMfndjC63P3Nxs9M76Px6EJg9ys0+bHxhIXhzpeS0tS\n",
       "H+HMiyEAAAAtAZ+GdEP/AADy17MgAqlWjMNLl44MACINgxrRMkvevS0UV7H2k6P0yyYOIk9gAAAA\n",
       "RgGfiGpD/wAA8r/WR69biKEkPcgBNKBq+VlREc+Dt1nstftn3gRmzs+sSsWCld2rRP5JeEKAsWS/\n",
       "N5s978jwR/dRwFKNfIAAAAG3QZuNSahBaJlMCCX//rUqgACylViABduKenigVB9sZnGDOn7vCWmb\n",
       "iNG/M0WMiJZCz3FdLM5Q1aHleUKcnRCdrOZatMDjb+NCIQQYCxNUPWzqWdbu7P8S7HAVY7Am/H/g\n",
       "+019WLhnfb76YEqUdRohaAVZHlGpZEBOmj+kqoQVyZgoHIRXrGz7yK4gcbGcrHbJvjetFk+AF40e\n",
       "KMDs9Et4phxWULJZniwFTwEGt6W4HHNykZf1NZ1xyPeHQLtzOkMxRpmoKXFo+gn/I+3QMa387QWN\n",
       "HWhq9PgVHldVajsIq0hEqncMwBktbWu3OrdMU4aTrN7TCoG5OcvNH2RNn/YHdfN9hYCI2sPxM19M\n",
       "wcE60y8kFDEYo/LRtLyNrKwGAy7kDt/sfwEum2XIcS5W1nP3RTibBTWeWFbMmT7HPSYq7IVfQyDh\n",
       "hZ1NTE2/zjGh7/Ukaks+sXRsunQokk6vaYD24TRr11PCjBDJTc9H/pPXRWhbxIUfbW0U/KgK3XZa\n",
       "+meKpcDeYE/epIyCIEQz6XNYIGQ1gctY9mseFCV6RQl/LDWhaPZ8dT0PhA4Yld8vXJgsVbFrSwfo\n",
       "ewAAAP9Bn6tFESwQ/wAA3N/+oAIftsjUImdLDgPOnayXmvPfZGq+nEhH5sxrJ2qYaslhiGsw7QuD\n",
       "DRpSkrP1nlQIMYxhU+u06uCdyflhUR5d5xJ3Q30j399e9P3mjvorJz9W28AXLz7crV+mAQU+NsF9\n",
       "jF+GYm+jO3CtglElHlEh2h/+ler3pyLwtBQyfJckeT50EcjmU0t1bmPtT7Hz4KmsT4VyseGBbKhQ\n",
       "OAS1UUZiYP2gzDGwsEp9JvVideuygbYJ3qBJaF4cvUXULFdztDaNhFa/efwaPLFltMflNP1L+BMo\n",
       "0naCb8KQwRSj8tymtj+UVKaOOp+SnOGaoTjnT5WbNQQAAACHAZ/KdEP/AAHl/M1aQDyq9tINDYYE\n",
       "AGhEljQ+fcbRQXldvJTNT+QCnI24yClrvyytNbtEIyinATiSM2ZbRFLRzMzr8wjha3VtxOGxPMBX\n",
       "dloGxQIeFBpfnlZCyOp9J7gkBuyEwsSRpeA7iQqruYyx2sgXKlBusEBBdmvgTvBTVFtFPEotXVeC\n",
       "AAAAnAGfzGpD/wAB5RYvOCuAEIIxcyGt3U78jib4FEEkAP5M2Diw5i5nkh8+7c+sWrZPfGuFFzhU\n",
       "i2Ag9sPfKDiFI+raZioWCROkHS5K1sxIr9mZcNT1p8QXQmvMmgF91fEGhKvBLjcTVfCBEAlff8LB\n",
       "4Lq5P4hoVhljtuTVPCW2B/jTzBdXHCnCdhuEdQ1kflgZy8Jcg4e7PiAzvIGiAwAAAPpBm85JqEFs\n",
       "mUwIJf/+tSqAAWUoOoAJ2ODWrv6j9DRdA9Eg3k2PxG5T0JGldjyOYoU+/Gf3fFpKjHIEBKm67GMh\n",
       "wAy+eIujk1e5gqdznr/5cJSlRc0c49GrN0LF+SnE4c8GSBBheV5k9kH8BVZW5Siqid6KfXgjSptn\n",
       "NvV/8kAcBew8wNFUS//ewBYTa2zyEE+Aniqjvri85s/9f0InYlKGLEPtv5Z4Cv0r5LvhuwaXGCHh\n",
       "sTVXixtXgthOCmZvOrjiTtsUW/4W/12p2KAxeYE6ON4CZes/sD3Hk3stjdEVp515+Si7CWtuDKWX\n",
       "fWWbg6eZFGdrONNMbRcHAAAAoEGb70nhClJlMCCf//61KoABZO1ue+xoAHOvJ3skMuG1Avuuisap\n",
       "qKOLrvhJMFoAG9liBiNq0oU+eGaGslSTYv9TvTAQv65+KDQXYDvjJFMJ6X6q8IGh5b7TEjKxtHsW\n",
       "/hk4ylRqgLRday8kWwOv0v3ZXv4NfulORvQ7K/pF+vRABWPPnKTlAwc8c6IJ90xvAFI/sFNL1bpF\n",
       "YtkZoGU+2sEAAAAmQZoSSeEOiZTAgn/+tSqAAWUBeVRmFwevhar/rdO8JTdK29dGUwYAAABTQZ4w\n",
       "RRE8EP8AAbUc7vFhgAlfgfabHN2LiKGQb1Kz21euZrWlmMQvSwJp3Ej/v+N618J6thDqKOm+3IYs\n",
       "xoGU8WdUVuyu2oKguEil7hNLRzRkmmAAAABMAZ5RakP/AAPAXhx9YYAPA8/2YzzcaEbUC/RLzH+O\n",
       "qtDz1QjGUwU9eZ29aSSMJEViFDfmeIZ0GKzV+7xIfue8r8b+H9elFF7i+dFLYQAAAfFBmlZJqEFo\n",
       "mUwIJf/+tSqAALNRktDMXoAIhhq3fDzwRkJg9IcNlQBuhaqXZRYI3OLnSOO3pk1yGCA/hGgChPvD\n",
       "59ZBpRK9vgmIDWlim3HzXEFiO0YlUeX+oFeVz7zVl11MvPyd1G4K9/JHhTI1jPYgVA6LwLCOY0tL\n",
       "nVPnw1SSDElLKBtl3vpmutNbBpz6Krfj4RM6ElZk0DzIHc2oS4am1K5kmsSf2aloIbEu1kgkiR10\n",
       "Yb7UXWGHPeHhDoAJvQFBpTWfGPFAdmuGTvCQkbMG576CwwRmvD2aYy91tUMvwuy24hXJWR0kc1GE\n",
       "kNQDfkb5YjcK0ehFZCzrnOcHMg8azdynJiSRmVqq37vCPQDwpaoR3xUGhBx6CzGM6r91ARp2eor4\n",
       "plC+x+ntkOnn19PFRsVdRZ8P+7gHDMtq+O/RqQZhGPj5Qt4xnhkjaOK2HtUAvscpVjh6GuFxfs/X\n",
       "3HcmhzhExZIXlEoJv7a3FRrDwbf6lBqXJmq7LBaRI9KfSdmNSrgOYDCMUf7PAlN4KdnzaqPfDsfj\n",
       "q6s1mUBjtjvAtZJ4ajV4GtItqTrxnFvJjhCKT3gw2W3nGrpoWRbRyksSplWlN5TV0dEaQ82ugJ6g\n",
       "9nLdoj1OF9XKwbtm15cb0+dK2ORK1yY+cw8zLAm75JcB7AAAANlBnnRFESwQ/wAA2ojrbg3ZhmfA\n",
       "BDhutPBb8RWLej+jok7JzIXi2EeRptargez3ZurcjyXejUE7rVscFBO42tlqjvdELNIgWrPqDXlt\n",
       "qrH9aqVESoHL4+wUZh3tlrGzgwfhkRyRZqubmfrOKo3YBuhb/tOgIWsMVxEQyeFAZVAiIWBsavbe\n",
       "XUkChXKlHVDbCoGu62bzzBpyD5rYZCbGn+xQyxoKiaRbgq251SANlNKweIWtAUUWfC69R0AVv69L\n",
       "IBmZUQw0DufJHkv11tAJ5PFhEoQN4QMPU/CAAAAAoQGek3RD/wAB4CFEVKomwr5eADZRYLOJpSX7\n",
       "UmIpW4GrCscToBQ/SGb4krg4xby0G+RyI13/CaZJaBhTQ6Tam7nsU9k5su5MXTe/MdIJdh5mD9b8\n",
       "hNRHSIMzNzsxJKXIRxG/UmXm07wOsOJHltQZn9Yc/NBMLvXRMEZesX6mqDaOTJ02HTxy+kWTUgwK\n",
       "ofPnMwPQk6fbpVLaaOxO8ujGI3bBAAAAYQGelWpD/wAB5cIUJooeyCx4stmeqelAYANCOIeFYU8O\n",
       "hAT9qS3Y2lD/POIkgMOENKZ1FiG/5FBFSlCohhAxqGDGrWRJSM+mYJeU52NioW7xWroLyLE8FXqc\n",
       "qXhn4fzD4IAAAACYQZqXSahBbJlMCCf//rUqgABbgF5BZ4IpbegAIhNJiIau/Fd/vYC68z5MVvTc\n",
       "EUKfX+Jl8/XHOnSg9B2Wl//Xj7HZtTuxHETes+skxsdcXIgIFEIGIeDtzzeHqSc20H0rKGrV7Rhg\n",
       "7blNCuI/9e84p6+6msqgAuWvPbycvk0fXxE/xH2DDs0sznuwaDtFa2E5cVvXIm14hr8AAABTQZq6\n",
       "SeEKUmUwIJf//rUqgABZpS+/MAoTVQKCwABoiSyGZIP8hvZtrFEPE+mEmx0jeu8epL24/Lr/KsTX\n",
       "u1hwYuTYsTuzMyrzP1nddN7NnXU5yLkAAABhQZ7YRTRMEP8AAG5CgPi9ARc5LZAAWtK0rZSHs2qd\n",
       "Jw+7tD8t3/Q91L086eAWS984MvyTF+kwukH2zD1JeXz14d9aUQrAMsOpwEQCBSTw+OJzQlpfIV8K\n",
       "YKiVILSXmEkwzAAAABcBnvlqQ/8AAPL2Miv6bWF2/EePIP1EiQAAANJBmvtJqEFomUwIJ//+tSqA\n",
       "AFmHVgwIgAt4fn9VmQOkgKTAxB1f+eZ61DTRSUVZ5WhiBGG7Ih4bGyO63O6DkH9Xl1aFeZRYMlVF\n",
       "Su/n6CrOJN/EMPnQqED/dxeqMU/ATCCEGx1blEAUvrl2ma3MJqqcq1BhuL41oWh0eZKIONz9Ox8o\n",
       "sDy28Tii68arPxaQ08M5nosUPEU5xLUL9lLAHqER1ScbJoaXY6NGkt0btQbv4QSRrx9z0G2xIeae\n",
       "pcoyAWmP6CT2HKGSqa5xv26f479e8TgAAAGjQZsfSeEKUmUwIJf//rUqgACzcTX3EqVtRtgAcUBh\n",
       "geJCFJ3n7n1tCJRpH9z8hNrNVkoknUlgBo67+Ah6hPe2dTKNW1CGZWgpwEg6wm8J7A5S5nKA+HRw\n",
       "AIBSfQt+ht8X7dZ0Euk68m/GI0F/Y7tryxj++9NS2x75+i1Eo84KWu5rc8ymnYrdg2IvWh7ZkOmb\n",
       "2QNkmwJ4m2PzsqE8sRWIFrS5tgNrSi7C1GZoTPd3vBvE/S41yRU9BgJ/zxfqifADCqqC5u0iGp+a\n",
       "W1XOPdAyH2x8aQsFZJTcoZRForwQaHJZn01CcFaOhWXMOnVmbf+tWN8tFsWs1F2G3hjd/I5THs0I\n",
       "U6JiBYoMpK2NvaYHgDMoaqjGMBWqPtwrkX/GYAnYizf+3qAN8PjWPgwQQgjcL6F9d3SR+frjWzlB\n",
       "bOqrP3+yqYhl2AMCz3ET3p8VpRywfNWA5ZWopxuwCbfeyGMAHO6OOBpSfiAqGY5bQQXW06larcY/\n",
       "4DI7L6KmFyh6bVK1u20p/Ba4pPx9N3v0yG/7rNEcRLi6ht3lSGPFDp5nsPc0ZTEAAAD0QZ89RTRM\n",
       "EP8AANqHwM7M1uP8lABmfsr04mHLWA1zOn0bZniWej6vcf5h0PJOVCDzoHhLnM4tvfJfJu5wUXzW\n",
       "6XYZj0euijjRaTm6U0vZQ2nJ7CFNWYIUDf7fIAU9mtioKn7pZb9Z50pK2J6FKq3I3MppdzLeGdQk\n",
       "yONj+wsvw+RAveFsN9iWRVEirJ6DWx5492aDyv9GZNv0BUsw2rWzopvMcOmwRYN+egwNNv6wdyqV\n",
       "7snYldL48NuLbnO1Hx6cBoN8HA//8FiZamewTir0wUwHT6mGvws/FxVW+H2E0tgAzLNsHMhajMXh\n",
       "NLvp7OmgYFf4QQAAAFoBn1x0Q/8AAeX7NgAlCC4NwoMtNQe85Sbs/l4scd2ONKnsfFjqzUFiBUzG\n",
       "sPRIqaWEa9tMByUCLjvddiRkLU5rIe9PzkFn2/gNSLMYBEsxrzcfsjRdP9su5BAAAACMAZ9eakP/\n",
       "AAHlSd5wVwAhBGLmQ1u6nfkcTfCZueV5cHnq07KV6iIOjytQLJiPdMeCb/vJ/2OnmUiWcdcDK44H\n",
       "LH2eMaHSIQJoppML/RgnjcUu1DTnY1RdWS7e/RmaepNqDx3WTNndSCmuET5hd3iy5ekWvua8LCWK\n",
       "gOGGZnzG5olpNa2LEpPyfuEBO2AAAAC7QZtASahBaJlMCCf//rUqgAFlKtsABtLih2XKtGep38M7\n",
       "2fp0nGfTkz+jPnv9CB9zsPECuF8yWw+ft4Q4xPjrfKaE95Fm4F6UVME/95xGNRfJolm1zL//dgK3\n",
       "LqUmcjtG7B5m9taxB+9kI6p6MqCAD1gLY/yX7V62O7pIngwTT3+Vwlrt0kX8j8868vtYRC11kQK3\n",
       "GrF0o5kvKpyuUhFyEmZH7CHFOVpioh0HfSC8Zq+Jx4/hK9TdGJVqKQAAAG9Bm2RJ4QpSZTAgl//+\n",
       "tSqAAWTw1hyGiprc7wALRVbvbRnOM3zDY4N9fMAAf2e70KKyrZEnZmStsqoD/PPkqHL+bfq/ATlV\n",
       "5MYMYgYoulaW9Kak6gvNaWDWFpQ3cwjc0nWsHQeipoPyDBbFb0xehWAAAABjQZ+CRTRMEP8AAbUc\n",
       "7vB/ABHAg/m1fiDmxXKsygXXfu7YXvjt1SsdgVpQr87D9rrYugq8bZfL9Us9YD1cU9/7FsST6Bku\n",
       "YTWRlLTf7JP78c1X/EYzZvRA6UDpmKlgx0pWwpBVAAAAPAGfoXRD/wADwF4xYqvAB4oP9prn6IuI\n",
       "oT7m+CnuBL9zXslutzGALc3o1dIo6JgG43vdEN/DkiSnAP1LYAAAAGoBn6NqQ/8AA80koAJ1l6C0\n",
       "aG/2XyLHGFBs45YLe/29MXl92ypItNKtyZdieVYLvUYZv8lH0Xpw9hJG4Y2pcxdrun1JER+Nv+nI\n",
       "BxCOddH1He+iW8RBwOqCc8oS9cssgxPSxU39pHnoCSWxAAAB2EGbpkmoQWiZTBTwS//+tSqAALME\n",
       "ZwuKACIXgREXA6olkeFvQNDljVNB3OE92rS0wyGeO8elRl1fLwmlfwnN+r7T6ta4SYIka031Z4HY\n",
       "WcD/XmN/jT6/GvrCdwcaczppbNjsnTFc2IuamJV+cP6iD5XEYsMIJksj5HCF9eNnWjbHKm68Mzjc\n",
       "ghipkbSXXEmf0Hw+o/MMZ3Lya2tQzf169gz25cijsFz0P8r17kt0wZSvLIJfUEGTwSiZFW73qEHB\n",
       "LNib9TWL8nnOwaHFOHJkYwlyaaqjH6pPdu7Odu0WEFg9DE57YLcVEqsN217cMOwWdM7i5VlR1K+o\n",
       "yx7MhnX/DZiR6iKuafqjYzwLsSQUc3c85I3klT4HAsSYY20ki1tS8WrIysZ78RLZWMeQ0W1o5UaN\n",
       "R0ltxVvq2NslZP4yTr36YCFQ72j+8FEEzDY9cC8aNgrR7HnX5uT7yLCtEyJji6yUD1TgBY5c7qsX\n",
       "k6atwGd+EE+uEnYGrpmjU1WiARvoJZBTY7FpaXSwuIzioiKjKVM9wVWDW4CRBVec06zaHPreR4w4\n",
       "Dn4B40u5SlSB9nqpxj8RMAzanEbeMsZdOyEqCK5JCds8g4d9T7gDhlPrGEgm5NIlQXqgXv0AAACy\n",
       "AZ/FakP/AAHgI/1Kgf2+ADapTT6PjX1E/vhSonII9YGHIyAtm8OM7VTa3vzlX6xmmpDnNETKd7/V\n",
       "QXMOHHrdG+winnZhJE4BYCETtpr9RrdhxYQakEyoDzddDt6kx+Asc2AT5XhjkOrPtXokrku5bFo+\n",
       "cKuRvQekc6SJheSZyaYDUEp1n2PN83oGa3gQqV0LtTGU59/qO4w/Io1fwn11CU4QoA3Rt1t97DE0\n",
       "2jxNiN7tgQAAAQ5Bm8dJ4QpSZTAgl//+tSqAALKUHUAIveuTI3hy71IesN7k4v7rajjReIzoJPdR\n",
       "Mb8x2jlsVCDmhglkkDsf5a3AxPEPpPUe2h6/AeaDlVra8WNYjY+P5DXvH2Pv1xZEnGE4x6421+hl\n",
       "Wx1CUnMYzS1oSUmY6Am2DvVmHKanh2UaW7G9fSO9rKHmPMTwrcwwwt/S11eYm+sZ85sC3qlwu4uc\n",
       "kCUu2SoC4qQ2zwqrlL1RByiBObFTvcuNVGs2HzozHnsmzMEVwB5tKJbvBDlmOtKK02y2ZlI2SGSI\n",
       "Qk6xv0pGVii1Nl4MEEfjCRp5ZXUW/S27UqcFZCA7UT6UrSB+RcGMf+SOHNukCQiILaAjiKEAAADK\n",
       "QZvoSeEOiZTAgn/+tSqAAFmUM6boiADs3Hd3BkYyr7U1Xm7V50i4nO+r/aITQSUv26LaYvzvf+h7\n",
       "ip5XyobifU9DTSW3CtihWhVq0OdyxaevMeT+y0Rd1cyLe4lsTs3qH1id8BuTg1cv716kIHjizcsW\n",
       "FwTqmdfRQ21wOfDjqi+vB1lJmt01d28rfcoxBTranQrXM+d1ecXWayPwyqEZAwaOVxZx/HKkDVZD\n",
       "jR8S4jKEEHJZn8GO1m02r+qsH8kbVGuq5kRNzwMRQAAAALFBmgpJ4Q8mUwURPBP//rUqgABZsCWY\n",
       "qAAL6OOw1YdNFoB5qpyLub5wtwCjmqQZHJhPwT0i/Jajmx3h/WpY2tZsd19tsuQwTpXxTJrVGySW\n",
       "88dJNgnLHcvaCokty8KgcSS0DLSylfktDpog0a5dzGnWZtFt2TpuIFcyJaWmb3pofMGQSzS/St9R\n",
       "MCWtUGezivHdRHP06PWU1SOq6YdVSdTiOWcGcmFnvA2deAfsreIEjpgAAABWAZ4pakP/AADysGbq\n",
       "fsSLCn7kAJapvJLl9e7e2sDkB2FGeF3/w6fCFel4J5j1RHW3Vy6c37AR/Ioro0xKrBjFYOkrVUOh\n",
       "udmoXqdvOQJEshvX7CJ8F3EAAAChQZosSeEPJlMFPBP//rUqgABZsCNYqAAJfbyLbdHNVDC9AtWO\n",
       "aC7CHBc3AYf2IBFkiBoVZkhY2g8Q8Nbsjv6lsIUWTdYRKkGBANngzsjjbQbg/0LZ/YnioXpqDyaH\n",
       "5D0chwJIG1ZKgOdhu1REh4/TnYuGtnubtph2oJG0cFeUTEMCOr97NU030HIUTqIiPpPaIx4p1koZ\n",
       "fFN9bMuf31DuErQAAAAmAZ5LakP/AADy9jIr+m2LRmU110m3QAbU4oiZnqy+t+Efm5eZl8gAAAGv\n",
       "QZpQSeEPJlMCCX/+tSqAALNxO6Va3YNuEAF7rSqfc/hlFTXNlX7wm35dkLviXwowlJxpnbvAwVNW\n",
       "/oA4ZfRI56t44Kanob5HLGiGKChHSRe0xTj5Hy4nRveZ2u6mryaDYkQcVB97SvIC98JvVs0l8VzG\n",
       "yp8mXsWh2eGUAUxoax8BF9y6FEKwUhxvpzK9rM/1cSecbAd9tw01NYocQJAI5+dxPqep6iCMhHSh\n",
       "CNQWpn+qeXZhBIRWylm62NSU59ornwahyO1/JYdFNtjj3kF7PejDlau23D1v9MAcWbNWWryqRAM4\n",
       "/C6eg+UzGd1e2vUVuFSSuojCYOYO0dXGFAzUlo8H+eG8fxpohNh44Y5SsMjaJDdezahFxcQTuzXO\n",
       "Wf/OKL9ONsrKTA/O9AKtt/edWebi6v4g4qkF7cWueHKJg8zRTXldgzkPf41++mumbm9yYrq29g8M\n",
       "7GDUpcxiu9YBISgM+pLjElJZ/RoqQJE2dJiXLHnHyj9krBSpq9BB8cfYtE7DCiLGQ1J6SMWzsAlJ\n",
       "olMrz7e/mL4F52LCtd11y1DXWKzz3nq1Mhlz28iwEvsAAADvQZ5uRRE8EP8AANzfmkAHs3bOrj/R\n",
       "pYBtByNe3FDBk8/9Jkkcf3jxL0M5Y3dDFNTf0nvzGCxCXI+doijbQPIh4LlkfqiJE59AC+fWw69c\n",
       "e24UyCLXP/uYBe4wOQjjCPWE3E/w4petsHBvTBGOGNnSJCQcBHdH3NSF7pmL4aKm+ZTEVSSnF6v5\n",
       "Ixr+aKN4EfPcj5Rpl1KskbxS4S6YeQI61g5zrUXcfYkbt0lP7idYb0g1owcIkRNh7QprRW8Xn/o9\n",
       "3HXgG6Mishn3efciPp25ybWTrSQBVdmzHAoAoWn9+sYr/L83qlUeftM7A056JfEAAACIAZ6NdEP/\n",
       "AAHl/M1ar2KIEAGoX59zmgPMehC2ITqu0eGH6S8uwnnEYAt0h95f3yomGAILLGs63LWJ/xSH5vf0\n",
       "x8Kk6no9qdV+X1tMFTH8amSJ0+n6cRUGmVsCoPtQbVp+RQjBAY9L6ljxUIgix8ZhHqRmqtsyewuW\n",
       "A4bPtdo42OIqQ46CyvUIwQAAAH4Bno9qQ/8AAeAiALeaU8AG0oiV3owLJrIhZ4TueRUnIct7I+g0\n",
       "/JdrsLyWxLVTrd80pPY/CG2r6e1JtB6dIOrAKQrl856YTY7ni+vtwYSlux0TToNRxAbKqSjHL0gV\n",
       "jM0c/LJ/JYfsapFC9NVXBGYShrQA1kFzDigLJ6/ncUgAAADiQZqRSahBaJlMCCX//rUqgAFlKDqA\n",
       "Cd1JMS8WlUIV4ko2dc9ZMF3Tm+Y5RSnpRRwH4Vqf4is62ay8saFFHalDZKnz73kFvm1z2NVb5VRU\n",
       "R45r+WhRumcvt2fEQ23WCA8SuKDgwelK3VtIjkq8JJiAxyxvWa32839Rpkvgg1MDkj+v2NHTDOBD\n",
       "75Panf3CI6i7iuHaOmpl7OAfFWcEzRWBwzchFxBjS94xfqt0ysZz5TZjsoY0/XdZl0iP+rTwsMJe\n",
       "EdbFrDpywNRZshYwQN0IlqAT6UpgdufZBgCPN1v/G96ttQAAALFBmrJJ4QpSZTAgn//+tSqAAWTu\n",
       "UFIqjQAao2v3rvdjr2fJqR1+H90cX62CyT/AbUCDpuw6bnELpRT9sZ3itlWWIQxDt4MDRFV3IhZV\n",
       "tC4jqRITNHj22KzYOoRS5zic8E3AtB1Y2Ovf/t/kT+oxOvcqzxblHpmsZ5rGJ4mguiS/c3c15xKZ\n",
       "kJEe/lga0yIJfxAPT88RHTzUS5rxie/WfefaYR9EO2ZyHgnGU679mIa3N0EAAAAZQZrUSeEOiZTB\n",
       "TRMEv/61KoAAC3/RIq82YAAAAEkBnvNqQ/8AA8BeRsVXgA8UH+1SE4NvEBbBu1ObebqWyPctBi8O\n",
       "Z/5ucUG9GwOidUqTEnQaaXVcMb6qdqprm+F/BJMIyWRlwhLYAAAASkGa9UnhDyZTAgn//rUqgAFl\n",
       "AYmQAsJxBCqRLNycc1HFZwkvnjtUVct+DmascZYZs7NkWLhE8apYLtOBpBGJlMdL4p72RdTdakVh\n",
       "AAACCUGbGUnhDyZTAgn//rUqgAFlKtsAEehUEvZMuurpxi0r/YqVBeJJTcuCQkX9UUMfPMz9XI5A\n",
       "aza3+BPJIyp5REJLhu1DiGqZJ53flajHsAKu4gmD+kL34RzsfdziMRaFH/IwCpNpw21C33rUKI/f\n",
       "wnN6RBTT8FgxmpBOcyBt3shlZbDgG+G30t0h25RcbCNYUfOPf+GoD6y2og9kezdYXT6EYsgjXZ0S\n",
       "ALNFucEGtidDOyJHDsT0EFenqlNTB8ArWIRy6ojvVAQxPbMjv9N/UP7s7waP2tblMew1bv5P5mMy\n",
       "X8VuDD3wfqXeSNX3PRwKOnQ9zZPtzJBN8/7uMGJoFVrucgwCEpWX2Kdc9h4MlFI3zm4zirRFM92v\n",
       "eDR0fqpAXoTYHDVFkx/0a5piaWsg3UgzUkMBG4Xh6AgBOQh++k/IVnmsn3QTf2KUEm9HWfuYBi3p\n",
       "aKmjEcQLquV90LpN3lHRlvC6uff2ZdBG7U/RL56IXDV4WBQv4v6mW7ZoMYt119YkbN2r//+OhRZC\n",
       "0FYlJ4fDEaq8xMfBuKdC/y+/B3fnKXS8cyVnzjnb2aNLobIZp8js6dSoVm6vi3UeYEd3rLtiM/in\n",
       "y3LCUO6WY8ZAaiyx7TYtgiBw7rpv3skwV1lHEeIgnop6tY89JUOK+dR4bP0JPL/XolaJeuWIsx15\n",
       "HQQCPmKANib+7NGAAAAA6UGfN0URPBD/AAG5odM1CamBqQ9wANXczEHwO409FzdiuYjfQVmcuWwP\n",
       "/C7N4ykzwdbQO/TFW3AABOZNdtnRqbhXnDSnUWDTsSvkttWf8JaECY+aXHim3Leqh8mC0oGg1hNI\n",
       "AMbYz4GXqKoQ+dMO8yXlE5UFBth+nPM10riErJjModS0r6C2RDaooI9aRLOXiM19xk2DscrS2hRx\n",
       "2AtOI28iYaCgottW7+2d2gN6t2OzzcaHqHWl8zMbjX2EZ/p/GjZ4ibr4m9O1W/DD9MR9+ax+izH5\n",
       "ZK+INOvqikrt8xJUail4ekd3SnghAAAAjAGfVnRD/wADy17MfDtEE5Fw08ZO0AENmdCta7mAa2Ep\n",
       "5dDkzuW/W19852pXFou4hltT1oNA4p+ROw2wbkCkQA54pVHakX21weAMYGTec+KpqrzR6yU3+9dL\n",
       "+n7H/A/3Bh1pu40ngvSlyfP28zNjBOE3ZC0ekFmp6Ycf7ZyJr0vtJQDRSvwn+eiGyZLBAAAAhAGf\n",
       "WGpD/wAB5cA2AD2ds3Wj4/e5s5th8+w/x1RJuZORbfNS6qL1bvVim0Hebgs4gJcCdr49u/XVXJXB\n",
       "KaXrxvn/KLB2f5WVLxfcCerJj9w4/3AXNl0kj8BHM3Hm/xIYS4pczjD1lZ0L+G4pGb2GYL8R3V/D\n",
       "Kss7fmJFYUFOFu5UEabCXwAAAPJBm1pJqEFomUwIJ//+tSqAAFt+EFdtHVLb0ABEKlmYp1IMVQl5\n",
       "wQmb4kxzsJGlvrqwmz9IA0VkYRCFXg0G6pnbFEIbhcSQkybkkiBkZVmt7mKhef2hdt2fbHqxWrR6\n",
       "i63LmVtY7ujvuhUaHI/833JD5R0M+Ve22OvnqoAlL1X7IA+vmemPMsiH4ZR2KmXe667byowHCoW8\n",
       "7XB/ynds+my9hcDmI5SpOgUMY9o6lmcbVxPCY7w75EgF3/pJbwGROsJM9hMzQbkdAw1rF+MgVeiN\n",
       "OPTR1051pw8Cmecy2Df+GiR5V5aoUTREL6htajwS34aoYQAAAItBm35J4QpSZTAgn//+tSqAAFmw\n",
       "MBckACjoVIMw5J/xFHSHlEfW6KlW5KnJTBJajgZgppdf9jHAZhlLSyW/khNlM76GP1CHqJMRoCh2\n",
       "DL/8T63oNvsNJm+lifTe4PmM8pzgyPMNFvwNb2Bicuk/dqxSeF5ITD27lsUdDD/nUwt4yonPGIsY\n",
       "NPUqFABgAAAAgUGfnEU0TBD/AABuNNk7CYjoAS1ecjW4ON7n6C88zeZwWxwDz+CL8e/b7+gp5YWd\n",
       "KOSoENf+XUKvUMtvLmQUJrHDmoVI07koeTtK26c+58MgfTDzVTtW3ph7/y6/ZwMP01EcETFAQpqd\n",
       "HJ9yH93CD1McHIyWY3pZOgnUhtGuziGdJwAAADABn7t0Q/8AAPLXsyACqVaMsXxnbQYAEQYI4WiU\n",
       "SA1bRydXycZDyjLzReP6YLHmZe0AAABKAZ+9akP/AADyvZ6MPyIOc+bXIASpHUm6fbrkDcbjvXlI\n",
       "02m/+HPR8S9hdyxxzU3X+eagcvuTTFbcl/osEp9C2Keil1gd23phXyAAAAHMQZuiSahBaJlMCCX/\n",
       "/rUqgACyhAaUAFoPcIMW9v2n0LWdjxK4rPJ8ETgTPqLBDkOyxgCngICW8vzhVFtUIKynMakutN1P\n",
       "ZHsZl/qLAJ3471y/e4JlqvNXQ0rRLywTzfezlpMbVbgbMWHYQfFqoMC7Jv7n0hckljBiVsLOh8Rf\n",
       "bSVrJ0WnRL4JpbHzh5FXDnychCvVRv0k83kfjGJOILTpKmsFhBMSlc4WpQiL037FdSytoOm+1Tys\n",
       "//vGM9vXB/7vgENL0lbjFUcoYUF+i6Al9KFzs92WwSXVabXgS4w9nmvhGwJsbgHrPOD/KswNIEL6\n",
       "ekiHtRtYpwNPHoytt55apYNhE0oeD75/INzsxxAMg8SfbXsfCQdfD7l68WTULUqEy0UfGcP6/oCH\n",
       "/O4qznmFZKhx4IXCNsuM57qzW3Pz8IIpm8ObkRU/a59UvKIq7TZycCrLeVnOuhEj5gvz5DVkjUlc\n",
       "2vLkq264dknQF6pNC97MWb6/E/9pTc9IXj2bv6cJ+/068b1izeh4rcmQfTe8/TAT7GbAz6Xv4dGm\n",
       "gC4esb9d0EXyawvcR1df5MRXJy0Ln1IW3wptDdMeoMfkp1zYcnuqPj4YKR2uUGyX2AAAAPdBn8BF\n",
       "ESwQ/wAA2ogaeX8ADY0bVv/QuWGSEbCJpxrr3kY+2uLFpLNx+d9MViK1ZOni0kUXJDRuPGPfG5rO\n",
       "2TitNJWCJKdXQG2W18nexQM7czlsgUVoriw+yEUZNxTiKY7+WVyMKOTYw6wkZ5tLtoKfoodM4yHU\n",
       "Pc1+f81mk+2kAhlsElU0ygLdjuRqglt2jRad6fzh855D2fHcKitEwkXUCo6ZShQZyBtn1JeXiLVG\n",
       "eNfVozCW77AwAAsJb7RyRiIGGbNP0fSH8XJ2TcR+pTA8DNuFH1OlK9AK+/txDVKLQ/8o0SD/RDGX\n",
       "VIsElKiome/Xt7RILaghAAAAlAGf/3RD/wAB5fzNWkA8qvbSDz6DtABB/Rpz96V9l6d2emy1/B3F\n",
       "gq7g3UhakEAUuvNZhoqFrmXpBcy0u1PyQ+Dv6LMe6vW7bVPe15RKlr1lUfDGwIeFBpfnlZCyPM1R\n",
       "nmiSlAP2yXiUJpYRX60JqNJndAHqRj/PR20sqi0N0j02jmqYYN0NsDtqaknGop24n9txEBAAAACv\n",
       "AZ/hakP/AAHgIgFhF0ArgBCnx6hR7uuCUzFbqoy5UYzuQvyQ8yhsT5fZ37pbOrva//2Gj5lO+BZh\n",
       "9UWQ49bo2mmQzRaSsXx8H4W66ZEklARIZkGpEuhWyZLHmqJFkbqW9hjwIwmMMSXuPQBkTv2Up3D3\n",
       "m3HfwFmE9DW+6KKTgM0RW5xeEvUNkVJy/ElJbEmqjgREfHIq0ZeRYSh5k353xxBR+xOFpII+x6UZ\n",
       "dDHFgQAAAORBm+NJqEFsmUwIJf/+tSqAAWUoOoAJ2ODWrv6j9DRdA9Eg3k2PxG5T0JGtViVkmpC2\n",
       "k52tbE3oIif5Ua/wYyHADL54i5c88M9crnOev/lwk+XWGJoh5lmVjdDtLf0YaYIkCDeyOeZScL8g\n",
       "NdDIhxyboB14yrbSHrGnAVOJfhMBD3yg1vjDogfOygCIgaz/Ob+oIY7qysv+0jpjnw0ocNGqbaYg\n",
       "0/fngb0GZjlTSq8yB8Z4Zy7pe0VY4iTAspFrT9fNcEsRWwlvqAX7yuaWAHKAEpHj8HZZ+e97e2bi\n",
       "ZULfUbSypgwAAACbQZoESeEKUmUwIJ///rUqgAFk7lBU+xoAHOvJ3skMuG1Avuuisa2JJ4c4kkwW\n",
       "f5+DLFyuVtAZzw0Ok9Uk6SFtQvrtZRbdMc7dFOWVpf5VD8Fdx0gSRq4z2RBRWqlI/dCWFU7p9uYH\n",
       "ejl11pGkcnEc8ViZ2pvMLP+xZ8DZnZq35kKgP8/r0OETT03K4AsfkXN0mgeEgM1z02FL9tUAAABz\n",
       "QZonSeEOiZTAgn/+tSqAAWUBbSAGh41mhTzvJEhFkJVytWSkqgfhPeLRQERDLH6/rabZpWBjy3gL\n",
       "fOPkne/RubSKZZqMDMIPg5xss/GhG6aVRpmue4mOYJXWiI+rZAo/i38Dwo+ZPwoX1KGMNWJ7X522\n",
       "1QAAAFtBnkVFETwQ/wABtRzu8WGACV+B9psc3YuIoZBva/bK3eeWFzut3gh0IQfgVpyOtDPYP15h\n",
       "aZGZkdOF/ZAiR7dcoZiaKPMF6teiu/o7Jix+YsgRdeDTlK9SpVLBAAAASwGeZmpD/wADwF4cfWGA\n",
       "DwPP9mM83GgVbC8hzPl+sqVfkTSV9AwU9f6o3grPYpLqIUN+Z4fMrxKdIVhIZzr09PCM8LpUE/hO\n",
       "ND3JbQAAAfxBmmtJqEFomUwIJf/+tSqAALNRktDMXoAIhhzKuQuBVK52g+978vzSG1AV0ZODJJgB\n",
       "LrzgN2f74lnV7SJYFh3HxHNw6cor7TKWPq4ut5rcTeajxoZv4e3HIHXDplimZTWFjA7iLFRJHhTI\n",
       "1jPYgVA6lDzAlzTHKtwUwPu2iH/K6ETa4O8erGZIVdvCLcECPFwihljqOLXlSKO0iAKUsmMbOD0m\n",
       "xM/Eh1o826FyImghmLnJ+VhSg0aXlf/+EkDQcFj1SVSCbez2jXEZUh020zQ3ItOKPcLcdFPDamVz\n",
       "tP9TA+66AhzRnh9IQ/AywyA439cAb8vYn8Qd15LdYHIvmeorwy9Y+q2athosiTezWd4K7GlJ3Coy\n",
       "Tvg2KyLiTx+c53xBQRwUmemxhQpE2HCnqVYeg7ZnxDYckU2Aqx/I6FR6SCQV7bhGFJQFZL15S0ls\n",
       "gc0DOd9XA3LItFHfHZWT9SYToZzMG8zeoZvRVJ2ENh7yzBJiYfhprsOzbP5gesTBu/uSRoSGhWi3\n",
       "bVcf+5bOy4D4Ebj/EvE3K8LjhVMVISRbFjou/BdhfNaLZBtpL8nL25FnBinQbhlHYqVBYtysCIrO\n",
       "b7Xo4oZBchDF8GJ36ftNGFCL1RTt+wmbaNF3EKHm4uNzAiRxFkUtz44STwrgoDxJZoTW1SssBdYX\n",
       "A634AAABLkGeiUURLBD/AADc0T1ABDisvXDM6wftlh+A2ZvBNliuq513EO2c/7Hspu6A+EiXuiju\n",
       "JBuNUz20mU/ENXLiKcCC2MTVKlatDedhRG43Yh3rDJALipoOYhx+7z2f2vTIz79LyqiYxxZUolrl\n",
       "+L8Cvx6HuIYguBzCccyYYbiWesfILyykSHNlFr822KO1ppHExNhaVcEOMvjSh355VGKZt6Swzp6I\n",
       "6W+81uurJttZozd3pmdw2XM2HyzQGboF8O5CiCYcTq9/zGLLHVkY5N9p8LzERnOk+pBRz/daApNT\n",
       "JkaCtr3VTDMGnk20V8VSkmQLOb0sL+rOavDci9SlQ6QyELTb8OMxF+VWiinOmGIU3vnFYSJDdl67\n",
       "FcuOdde+hL63UKE8xRDjDNIHQ0NeD2QSAAAAggGeqHRD/wAB4CH7UfKoTwAbKLBZxNKTdHkxFKzV\n",
       "aJQjPa34pvRbEHZ9MzlmL33O5EYnoftCkueDasNnu1KyjhwjzsLr0E6QeymSW7LKn9QDtIcPQLb/\n",
       "U0Znu2mf9RTF25eimTtLEK6ZMkjeb84Jskapea1tmIjTK7JN0dfnO1ei4pEAAABTAZ6qakP/AAHl\n",
       "whQmiia85353ABCXVKc+TNnXJ3bF82X2IzYUHewpwmtdazCB4jkKP6MiOzVLrzwuiBOfr0kERyoY\n",
       "QR7taPNXzAXaGSu+JnCXvhAAAACoQZqsSahBbJlMCCf//rUqgABbgF5CYFvYoXoACITSYiGj/BVD\n",
       "MrEpYshpcXCbgFunsukhz3e4DSVvJZQUKqj7NqfxccWIFq3+yYkg1Hrs1fS3UemtwNBSAddPAfbW\n",
       "tI6AlhSO3BwsTxBFOFkvonCb7+y6Wm9Me0k7M5XYaUxwZ0BbmMOc2EeCBfmXEYdhCcJvDq+GXPsk\n",
       "szQPd8BZPsRK/S0Tg4Rd8bFdAAAAFEGaz0nhClJlMCCf//61KoAAAB6xAAAAWkGe7UU0TBD/AABu\n",
       "VqHcQ33ybfZkABdGwDL08kJ7KqM1vigsDMQG+aAr1QYppTUBH5ru4YcH2lnLVIsUmtFri0jMfmBz\n",
       "Jn5k//nKQN+z4yJzFJ1LMAupNDVZZQAAABYBnw5qQ/8AAPL2Miv6bYtGZvUhH+73AAAA4UGbEEmo\n",
       "QWiZTAgn//61KoAAWYdS+AiACmOufosBBxyGcWfz4fpU10mbdxwjTwUl1KoXbfnGPql0+x3T/dXe\n",
       "sFt7rwXrX/ho0DKETBEz43Q0Z++NcgihUpv3Zj6h/0wbEuwb8I98fgGeHJ3IPEuWra6zteRKDiG2\n",
       "tZsG1oCdV/Km0t4fh3fT6KLV6giLPMu4yUDqnnhYAzwqE2xxrq+AnEvcy8qmNY+1EvD0fo4oKnex\n",
       "7V2i5vQXVIHCFdiF5UqmXjce3NSr2jAKH2792V/KrbiX+LBP8IF575lMDNDMe++nIgAAAbJBmzRJ\n",
       "4QpSZTAgn//+tSqAALNxN4WJUrarHAAzlOU9Vw4eTmOPrHDqtvjZECP/jbrbeKd6zG7lmk6+KxfF\n",
       "b8gMtcbvWWGbyWLJpegDXqJPYJKXM5QHxBGVBQPB4yu7H8kP2+fOcApGi38D618qMHc8dfVa1DcO\n",
       "HwPm00OwajDmulMwTzXwfdwY4EYWy0Ke2I79av+EXWJTIntENbuzBYljkNsBtaYkAh3p/nt9mRUG\n",
       "8UlOttyMpiifgetzhzQ3Q9nA/kjM7wCpFaAd3KYac/vLUcAdUU2u3f8EnJ9dl9Wq8SaQkq859Iji\n",
       "Mtso9BeUYgscNVt0oeqcnczddxbJ4lVe3fA7AdpBgjU5FSv4/1sEHR+k05Qw22YoOkrY2j8QsO5K\n",
       "cKAlcBUMRl2VSqg3hf80ni8U37J2arI4exTFBBNTs4ZddljpH6AW3B/qiiH55HvfWPhe2lr7Uu/t\n",
       "ahu531QHwsB0UoKq+YvKQ6hOGz3cY4oTClJ+HFQzqecTcGOQJGq1/TMV2aCYMESCzAbYoLpKjhNC\n",
       "4Y8LfoALVHx0W7PbsyOj9IeJWomSz0OSjAdEgbFwYAAAATNBn1JFNEwQ/wAA2oganI78ADV34Fjw\n",
       "RqC1FweLuzQXvyy9y2uvV87NGVxGutcLHkEp2Vpo8flTRv227gYN5+FW4dfuJpGdBsyeKo61Ngn9\n",
       "93kLgVLknqN5AnNV9htmcTRLhAO67etMGVDn1TeXdM654KfTwMg0eDdNGa2uFPYffU1y6QvVt3Vf\n",
       "gmZ1c43w/7+cAzW5CR8ucr/D5qPyZqZI8plsqktSZqckBp9/A7k8DS3inezXeqvP8U+sK1aL97Rr\n",
       "au//aCWkVXim0M4EY3+AxqWF84HSYTwFO/ols+tf6bJIf260EwJrZGVODQGG4pSpBM+Q+xjL/TPb\n",
       "cONQxH6WNExGh/wbs/kvxH+ngWz/4XIJuvZ4Gw/Dja7ucZEHwn0jbNRpfcTj3wfiqWvg2TgSa/CB\n",
       "AAAAVQGfcXRD/wAB5fzNWq9/wgQAauxKTlkzZ1yd2xfNl9iM2FB3sKcJrXVKnJbAwFH7c54rMqOZ\n",
       "8myA9W8zemG87R8tHgQR7taQS3259a5xyTD/dDgja74AAACQAZ9zakP/AAHlFi84K4AQgjFzIa3d\n",
       "To2mJvhM3PK8uDz1adhMUXeZWIuOLBNTtx9KBv7yf9jyJ1yOwKAHeeMENBJPs8Y0OkK4HXV+PvyA\n",
       "rkjl+STQjuyMXhJrpLWXJfzG5TjNU3As491H4ZkAp5M7WCi0VjNZOW6B4t9V/Zv0UiB7ukzYVQfu\n",
       "gr+ee4dMf/7AAAAAwkGbdUmoQWiZTAgn//61KoABZSrbAAbS4ebLlWqZCvEWH/wNpPkdrku2MYC8\n",
       "20frqXkKbzD2iNFvXDwhxifHR9cMi9M6m4F6UVJAP9n5UKS+T5urHvTEMiiUzwGc5bJXGY17Lqo0\n",
       "pLhG4k539ddRlAkjnimFHoetw9FfK/avWx2Tvza4i2eh/ifGwP0nuT6d5TMFDMj6nfZiMXMXjxEn\n",
       "uajFp65iapUa265VxQqKkYv31dfHfSAVPec4roYtt4cxtp/5AAAAbkGbmUnhClJlMCCf//61KoAB\n",
       "ZQF5VGYnml9LAAotWcUx8WjL0P3wWfyZALBT6hE8SWnsNCB9zljJDfIRm2Fa5ccpcJQ//Suh7s41\n",
       "3XTiZflc1SawuF2crLEIjx2aF74PEvTNWj6N/T/BtzsvtmWYAAAAa0Gft0U0TBD/AAG1HO7wfwAR\n",
       "wIP5tX4g5sVyrGaHnzncbGSxwn29PVovcDHJewcvPkboLVetCfMP3dEK+PkdH70YMELKtjD38aVd\n",
       "rZcs5lpXA0HinvSSl0yP0Xt+0ILXTqJuNLOyShSwBKqXAAAAOAGf1nRD/wADwF4xYqvAB4oP9pnl\n",
       "ftBeJQfb8nSoMaZr2DVMSAji6UwhaCntT0eg38OQxIbx8qaRAAAAawGf2GpD/wADzSSgAnWXoLRo\n",
       "bccvj1EYUGzjlgxx9vTF5fbUUkWmlW5bY50Gb1kwmmM3+k5hNCLz6UaFPWXQueN27MNj/7cE+H6c\n",
       "fahl7YIO4GbzHXAC+NvTzodK0AF+OXPVpv3+sTnfkEtgAAACHUGb3UmoQWiZTAgn//61KoAAsnVY\n",
       "butbbgAA3AnZ4HN75hCKo9IpWeOOeOAyuVgRQCW/WhOf/mMekhlNbw887o0T59ZIpRRSlUr4X4Kd\n",
       "i13ofJ26cIWxPIAZwuMR0Fcvlb6b4YHNFI6w34VhLEjhYz2IF8G9T8GIBDRyf60A79qFAm3BwEVl\n",
       "zi28VKV2Wn+njQEra1MpmX+zU0AoOcLo2d6o4v2ANaL6w2HCwOEfOH0HgnvZHIO6cPcnRZ+QTDbA\n",
       "//wToO99eFMZ6PVWR1zXJs6uki5IbDO94owFtqhqcfT5MMjtt2WLXklxh0nPj4FgX42ukAYvkcvM\n",
       "XagEbnUOdPsFB/POIhwkK/x0sADUQfFhGdSh4R+qBLqN/qa0se0u1C2SJFgFbRwoj5r/+vk7cJWW\n",
       "Udr5JdAhXpxZdJKyOL5batwiRtBcI3CkiZoepQtyx/4PniuEHE3PObR5JRSQWkhOW+1mknu/IZ3K\n",
       "NnfCwLEYFF33suyLYOk6IGnTeXC7kxzeajl7JDV6me1KpZfeqRJiGb5HZtPJqTpo1sv71xWCQ138\n",
       "QxaZsMlVuismNyQRve4OPYkJ+QYWnosp4FGQgxFqJ3XWJRGqL0Cd7r6bvKu/nBWGY7KV9b0sE59g\n",
       "Ey+rbYirgiaWg9yxCDhAxtzlDsCZ8l3C8ugvDOO4LtaXy0Yo2YknJ23TkLR+W69pw9wEIWMlHCJA\n",
       "b4oi7aCWEUEAAAD5QZ/7RREsEP8AANqJBpxfwANjRtW/9C5YZH4S4tGI29kDzmAosLyhLHJAFUVj\n",
       "pm5PQsEOeNGho3HjMUf4VnazZX9GtXS1qZLr86FSjUhznHhnrcS1IHr2/vdvLFHkGeRRpjaSO8EE\n",
       "eP3WUyXxIKBC3U2Ujz7bC3QG7/eKywYO2R/NZreKn2QcxgKu3R6I/lLjJYlviQ4R/+AD0BM+HSGn\n",
       "Q5NN9vLMxOmdyCnawYR74RP2EmjmO2SCLqNYc1LBI9RJuPFtGCgdzXJ4w/iblRKby1liw+Qvew96\n",
       "OBiNpPT+bLb5pyhcY78zc37DZv97f1rN2GnjjRxbktdgAAAAoAGeGnRD/wAB4CP9SoGk8wARB8en\n",
       "j9w7kpmK3VXviC85AUMLNRQpCM95RVcDlqzOM+oFTfobvnJXPjHPlnxTvlMuhM5MyCQ2OO/jlUeC\n",
       "kE09pdskoae7e5cUtvcqHoi/JyDAeVpAX5blAta6ARtgqK7MRTIK1aRr0GS8EW04N4HAIxh7RgVE\n",
       "7fxFJrqSGLLkROI7b2kPvLpbtu1pzmKcQxcAAAClAZ4cakP/AAHlwhQYd/tJGqqFQAhLnVze549u\n",
       "U6VCmBYV1ilvkIMzjQ/f6rvmO1r9MYS7oNS3MPApnr1UzvNY9Td3tWtZkwh2TnM8+TL7wPo3G7Gp\n",
       "QzJrQA4/vaqEYzBGzEKbbDnhcoQ4gzYVDU/VHDHneibM34LNjlN7nI3nB8jE+jP7IkBNEArotQre\n",
       "WZPJuMcQLKSEPxYtSebRrFuxJS9whKiBAAAApUGaH0moQWyZTBRME//+tSqAAFk7W50rLiADs3Hd\n",
       "38txWUA81VG8jCWAfT3nK1lUA9fMksQg6ZQDdicb373BlqEv84rWorsQGlTydBZRzK2F1zW9yuXh\n",
       "PudGPetKfaLSUFaOsU+/LBCNBmfsD0enJs+Wtuxfnvq8zGyth1F2yZZ027zzBdPnabI2oBoShR/Z\n",
       "qLvIejZFis819psfn3EPSW+bDg4DcAAAAFABnj5qQ/8AAPKwZup+xIsKfuQAlVnXxDdwFdSBR2FE\n",
       "Yx034dPieXpqtVmPVYgswNQSQ7TthBrHvzs/IthvscEJv2P/O9TtRW2uGcrWF+gPYAAAAJdBmiFJ\n",
       "4QpSZTBSwT/+tSqAAFmcu1YqAAJfbxy6oHIrjdxpzZZq64kuQMrXGpsdFxBY1xMEDtaRmFFsShGn\n",
       "SR1PFLfkbMejxzygz6FpdU+anXoGBkhSwwXPp5/AmrStAx4KDqwmXsXhLgN7tN5dt9cOl92E48hc\n",
       "gGafhPtaonLE7rej459w9DrccL1gYMMUj2jg+BQS0gvxAAAAKAGeQGpD/wAA8vYyK/pti0ZaF8vH\n",
       "m0AG1N8NMz2UaHE5zyL004qtHsAAAAGnQZpFSeEOiZTAgl/+tSqAALNxO6Va4GAIgAvdaVT7n8Mj\n",
       "isSJ5AeE29fFDXPOz31agJOYUvmsAqat/Z3pBcB5T9PP8sPkMcFHLGiGKDbC6DLsctvmdG+Ghfea\n",
       "Ev9EyUUg2JEHFQfewbyTAfCh1bNJfFcxsqfJl7FodnjX9z12+rB+4c78UNn1E/q4YuUXf1jx6abh\n",
       "tDqZ+n+2uzaI5B6Zjn52uSw+oHrl7Nmkxi0phmaTVPLswgkIjxL/xle8/7kqlNeaxQlNnT06hwf8\n",
       "HQjS1AcH4dkRAeKYW1A2NZE2elufnGERyYGYhF8egue8OKNOo8UPSSwkoCyeEQMBIUswtWBfLCOs\n",
       "5Q+wttXaO9/u82X7CizxxvuszgbjtV592yrMEbKdABV2wDprkmYVDDaOKWLjf3K7WL3i4qI4ryuw\n",
       "ZXCXm5RJRruHtWsiOnRtvNFhuM/lKQCQw0qEIlVF3POTMajeNaUJvUqUEn71ZPMnaRwVKjYHwznq\n",
       "DXbtpCqGKqZWUqJhnJf7EF3uZDql2mCdg7T3yL+Ch9K3d2k0iGrzy0hkbxFO02L7AAAA30GeY0UV\n",
       "PBD/AADc35pAB7Orbrrj/RpYBgj1+1T82rDFZiyMVP7x2t5lw4xAS+JVrvhgixMpBCxC7vo7/IiK\n",
       "yqzwoiW7ZMwMur6d61XHNPEdEMUTPi63mnYKdsOs1hN8ejGQt7MD3Fd+pgkulpNPZhkN8X8i0m5K\n",
       "d3E5wqAjw2NeIJIFfck5Y8MV4ZfIXolAyNKjfIDNRMAVASOD1PVsheDJkM2hzTL4FYiCmF2CI69C\n",
       "g4B4woSKGGaCtVqoHyKnKeB/zwCXhS7CStjOJKWd0dNMsioBm+e1r3SINrUBQ24AAACYAZ6CdEP/\n",
       "AAHl/M1dCVOpQgA1bqxLYh0cWzHhFncvepQx3GgKGIa1REvZRswFEt4a1JqQEKgAipoD3sRGIN8l\n",
       "3Kwl1JRc5Ckm99oqpvvbAkw0K/fNWBVbf0Ai8I1EXbhwM/lfeCIszT9awz+5jWMqrJY2ypWOSNwu\n",
       "z3e1lALaOjQqEg2rhfr4l+xTzrzlkiN8cUgl8YGnujsAAACBAZ6EakP/AAHgIgC3mgNQAh+1RS9G\n",
       "EjF2gREKNyoIqdpanQBzw9/BOje4bUC2bHW75pSeugmf5N4qmoxTj+BlYFLwN/SghMJeQQseyMGE\n",
       "pbr2jvwNXz1DAWz9uW6KEhRnelG1SevkYiSQM/tk927mFboq+A74OiWRErFlS9ve8wvhAAAA3UGa\n",
       "hkmoQWiZTAgl//61KoABZSg6gAndSTEvFpVCFeJKNnXPWTBd05vmOUcmNXPVDW1VBOzlT3fU7rNn\n",
       "OVZWnoAb2RzzIsW2ZUoVrk9gSvfVMG9xc5tjI6UO9NBdLRfTeGuDUzAXlvNcAQRm6ZXxE4mW7kpH\n",
       "PEy/Ob+oaoqWMTt31y+v2NJlijgC9Bs/itAFZTVfULdn/OjHLnzP2qqQaWm7cAiuDriO+SeTk7Js\n",
       "Nuqj6+wOGPyrEG+mxlHIiRjJzfvMbPrHwxf/9UGqNXHUYqD+mdqWva2S/aWPAf+BAAAArkGap0nh\n",
       "ClJlMCCX//61KoABZOJGKKpoAHvEN842uwgDIFOKmuwm3BbzhkcxaKuusBannx5U/9s6GZGVRXsF\n",
       "wuV6qj6pjS00WX0OPhodxRidrslFHH+Ye7oaIoFZc7777qhTVxTzug6wJDhm9Csjvq7YiBWr9SyA\n",
       "Su4OhqJl85FV3L12R/1xcN87QoSta4IuteUebbOP8WOv/MnBbS9OhEpFBGvyXLLXsavYQyaigQAA\n",
       "ABVBmslJ4Q6JlMFNEwS//rUqgAAAHrAAAABJAZ7oakP/AAPAXkbFV4APFB/tUgOVPb+nmF14nghQ\n",
       "1pvLE7wAQ/qruNtcD1gdE6pUmJOg4C8xrO31U7VTXN8L+CSYRksjLhCWwAAAAD5BmupJ4Q8mUwIJ\n",
       "//61KoABZQGJkALCbpB9zTevwKZKPLqNwuW/BzNV/2BZXYO0e8D3l1PHPb0kLmX7Lmn/gQAAAatB\n",
       "mw1J4Q8mUwIJf/61KoABZOJF8EQArW37Z2m2htj2jM79dD673bf7VUOOT4KJUzwUI4fK0URl/iGq\n",
       "dAhdSw0t9age912cO3rgxWSDY3mC42C7AihcNShhIltkQG09WlUwgrOfO5UTfc8aXAScGhwbqqUV\n",
       "1obOl0ipDbdo2BYOs7+KhYNun0dIOWJ8CPbvtchbw+0zMhOnOB1vYLmQyd1NzGB1r6+B6rWCTuqH\n",
       "p/yAc8jZ0mwx0qs9Z1B+i4yvgPfpLxOH/oT/MA8+SFYSnX8bH1ARw0AoqN4KkeI9BW19wpyNO9P9\n",
       "W0tridTRU0/zyk07hPCgGFA0g4LUdY/yJdJQa4rAjcNzBdachQgIAvxOURfPgh/dP2J7NSr+3lH8\n",
       "yBi2v+yMRCRTEtF2fLTE2i351TqhMD/c29YN7ZWh8lUuoSqVyPs6NOXykq5yz2h486AIPvL+oEsH\n",
       "PQ0aRoHEkuqHUOgVdp/JX0RC8GhuajqIE2ZpYHK48O9IjK6lrbZjbhzYsMulZEV7VyVM/9AMwVAx\n",
       "2CGXAfZJKaIsTsPfdAmXIR5Z1wWFtr5FkY0wAAAAhUGfK0URPBD/AAG5odM1TKm2YAHLjeCKccm6\n",
       "PJibAG/shgZxzU79nCeqfBMg7Qy96JXmRmzrzVVzEXJQB6Zr+5yaUYEudahcv9xGmZc43Y52+kzh\n",
       "esj4bY4KJ8krtKa22d5nXLJ/JPhHbJ3k9+oY+eeL8FZ/ZYA8s1ytWeJjdH7dHieoHBAAAACAAZ9M\n",
       "akP/AAHgI/1LoDjABscOys5WlgXH/KO5pdHDu+ffo6/xZaHD8cyMSUDSENqplpbf6WXRHQbPX8C/\n",
       "PdqfbInCH0HY7fGfW8TrlChAitu6QiW2DHzh1hD8SQ98XqVfj/DBNBzVWHhXptYYTMjZzkXMrAue\n",
       "bVZUXpcfg1yKbwUAAAEYQZtOSahBaJlMCCf//rUqgACylQ0ADVxty4TQ+j/RMbp7PuVhFUgOi/p4\n",
       "fNGOVoOdGap5Oe8VKjeAk65hakhVe6ttsC3QTVRBKThXk12lj/5PlWRfQXdbstZLa5+/qT0l5Us6\n",
       "maXq/UXF8DbddckBJ25vH2FP6Mszr4XuE1TMZMjpFxJoq5TVWbGRAIkRT5rI2qVqnvTSAjpjO4JM\n",
       "f7+kn51IM0+XPPP6c2hSDm8zuWhQGJ8g6WXrVuY6TB7fDE/eqdY4NF7EI97B8uyyzrVN9PdEQvQo\n",
       "4JYrAqVZa47XQHkeOOgvYPj61GePCNPS+swt2f/+IpvoHiZYhEOw5WqVy2+8QFy62n8gvaKTUhMV\n",
       "CGuzjIwvTfAZbQAAAOVBm29J4QpSZTAgn//+tSqAAFk6xx6M3REAIg9hkoLUYqhLzehUQmgkpeGw\n",
       "tpjLCPesxCLpIbufL74v//KH/pAd7gWSrnoQ8cZaXTc45qzhizdbZdJVLZZYz8YY71vGjKVotB/R\n",
       "GjhEFQDjWxq0Q77NplcZvhnqYBoBv2x6cBsjuJciFcXjdJvV6ic6C+NC69fyILfZyflHspDvPQ+e\n",
       "1HJscGuZyrVXc7AUsQPcGZRIT1RtopMGPIqcYNHeBnpOnLRH8K66RkNtTYYMqfaEIEkGdsWn/5rs\n",
       "eo6gJyS7XcZ+nyptsdPrAAAAg0Gbk0nhDomUwIJ//rUqgABZsDAXJAAtSFmbMOOopcLPeLhjc17r\n",
       "Ma4SqDPTV6DQ9BuPZgpYFafT17ek2aH8kJoxvAg93m1Tm7amqlStM3xfiDN/8wVpjqoi45p7ZYQM\n",
       "gZjtn5WBSg8W/A7bYwPwn7tWc73hoW5IB/2zEX/q8fjPb4K6AAAAYkGfsUURPBD/AABtQ+EeHIyO\n",
       "oAF1TFHvzDyGYVLhm1QCMd9FvBoek+ejlfjdNPcY3kgs3GfBP8Jr/MeNQqRwsy05+HFMGhuY4UH2\n",
       "6HJOi+FsfcaYjfuHOMbinajNiTg+b0rIAAAAKgGf0HRD/wAA8tezIAKpVozDS5eODAAiDPfwFRPr\n",
       "gtx1baLIj70KJbpl8wAAAFMBn9JqQ/8AAPK9noTYAM3SaAmtx7lB82a114l6gat0oizthNRTH6p6\n",
       "jEHdvN8eqUWgaxAH7F0BkaMRDU7z1Wg64JZG8ZjGd6JWEJmrtAZN9ST29gAAAdZBm9dJqEFomUwI\n",
       "Jf/+tSqAALNxNoawQ0s+hABduZBxPfFcMr01sSEetRDkv1Vdgb6iNerr03tj6QZ4vJdm72Lp63dJ\n",
       "BRQki9Fz2TFp+sz026MHGt7Gwbr8L7Em/TqDrWoUPs8BNmxmRwCX5Ij4BbOLeQm/Ts+5ED3lAMmR\n",
       "A1danqdBRmZaAG32k0JGvO38DQSb6uZft2of72lHozX+NCi0ub9oXN+mTkBXcHjjvpyuI4WBWFpn\n",
       "BxcB3ZnNh3vuXg1RLOKIsmgjESBeJN5sEwLl4Ig8qq1B3Bwc5Mbw2QohAwII2Ce1vw2fR3/+S0z4\n",
       "hnqPodwqizHE4vbVCGkWjYXvhiW3ql3Nus1d1x7vhKzzh1MFNa4LbBI/Rg0i5ebA5tZHr+RrA2lW\n",
       "hqNUFCT+8yAiuPokWbAulvt74SGxSGG7ztlahm3mZzMjAFadchMFwYn/XpJkEAfZyX4UqDCMj876\n",
       "8E2HabLqolCvmiBNsPuDPAKczzVnTfejeUGpPXle9SvUgIEVWRFVEp5P9kXrhS/ezu+FIQodPTe9\n",
       "6iJAIjt4jEIt/nWOe4KMOupmepHuPkH8Mg6D8jgZ1uLVc2DIoQAqe5aPWcjPiTBuw0s+QGiTrYaX\n",
       "sFiHsAAAAOVBn/VFESwQ/wAA3N/+oAIftsip2dtLEN//Pvko7vrKY5PJxIR+bMavXqx0l5QvgRJE\n",
       "ea/yzPA3fhJK3pNv/0jmMQuemeoPWkRAmhNImvj2/d0vPBPGsD+kWIlS2N5wpGb0A4iHA+1zsHqh\n",
       "bjAyROTMHUpEQt10Gjx4lQdrZLl/n/6V2qS8pjihAHgIrCDYNAsAQwWoPFaRSztEdYc62Olh0+U8\n",
       "+R3aqk3qkuAUguSN0XoDPR99fw8DNvnJObSJzBFffKcEO/UWxyaf9wW6sHOnXThH1469JzboV7bh\n",
       "NEiI2OIAfFBBAAAApwGeFHRD/wAB5fzNWlWq0uY8SCADV15QxamdK5Kv6FCtGCYieEmEENyahM/t\n",
       "gpFG33uEbWbw39wlwKOUkMkaad5YEbOmsIAeyB3+ToOFW+z2QoCe1Sq3o424C1ICDg6nkrqBFdN3\n",
       "jAzSMdJ4Xe5a5qKjzi7GE0xxsk17CNlNw0948NP504NsITu6+p5ENdW7+NSeTabZehYMRFw1rV45\n",
       "VxYbczf521QjAAAArQGeFmpD/wAB4CIBYRdAK4AQp8eoUe7rglMxXB3EWBgjFDxjIGOe3X5cFyjM\n",
       "Kt6qj9vVwteeOE99rIIF9ujaSinesLpWaGEtpbsJ2SgIkMyDUi5cPpt2q0cJKLpg2RsMd6xbqK5W\n",
       "TisOyPYjspQLFmD1+VNRZ6bEkvVCkmVv8nxK3K5UuG9Bku+BdpLStSPlM/UGdRXsCkoHURFIUfhY\n",
       "+6LzDweIS1Y9PJwUgA7ZAAAA+UGaGEmoQWyZTAgl//61KoABZSg6gAnY4NdBgZJfweUGRVRRmoYm\n",
       "ypDOBimakcxRwn4Z/LDpKjHE13E3f4MhJmoFSwfNRs7kAHAkPXwgSb5F5KJfR4ZWN2DaOdhdOG1z\n",
       "wb2RzzLmstNDF/2+OAzbajtjVSrZT/GjHIPKZok4urkFZDeSZqw6LVt4P3nN/UD07lKGtY/84CHd\n",
       "NqvqIJKz4cKw3h0q77Os4dJAJdBYaqaF4P4AnQbvzOhrsNo9h6I6b7B8cBpG3bxMNmE6Dce+BXnr\n",
       "tnEWk1Hc4yC/Q05fp2TOK/+XU/fD3qXNTxFfXItk8YJBB+EjjTuH/wAAAI1BmjlJ4QpSZTAgn//+\n",
       "tSqAAWTuUFT7GgAc68neyQy4eMVABrm4L6S963ISSYLMIyfXCZNHPAZx4d5rLmxaVQLmlQVg5C1G\n",
       "xFW2n1AkJPRO4V1p6ueTuZ7RZX9LbxffV6kpu9JdIpU/WcK/aBE9eJRZO4+l2poY833Gq4Pj9FWg\n",
       "xQ+DbPLp3ev1j8vwxDwAAAB1QZpcSeEOiZTAgn/+tSqAAWUBeVRmN94vawACVldXxgDO1/tlF1/K\n",
       "/Ya+TVrgWZoQPudWnwmNtM/icDPJNZ1yRwCFzGdFQNCKQg4W/hwfChYrzVi+Ok977YSvmER/VGCv\n",
       "/UQpPATvTmwUTtFC84+c9wQZ8pFZAAAASkGeekURPBD/AAG1HO7w2mAEl8D7TY5uwwc/Q1/zvnyZ\n",
       "u9sL4g5TAHAl0aNuRNSKGJOnLQGx3W7m51i7kJailfxOuvofWRnUKBnAAAAASgGem2pD/wADwF4c\n",
       "fWGADwPP9mM85g2T7peQuTGW9nRNNUIxlMFPX++iZEVPYaqxChvzPB+Kjjc6RX0toCetGksBmhcZ\n",
       "7/fFuqmlAAAB70GagEmoQWiZTAgl//61KoAAsnGoTTF5hqgBFrvAm4KtKcmwdgLzNHuidbkw08f0\n",
       "0Ki0vA+sD7BaLT7+OzCI93h8+kD3TjQXlzSxtJ882EI/FwnBuGAAfEEBzItQfSF8sps1Si2eX595\n",
       "ALK7fGx2u1QixLlqoayLIDG7+ZHWIxs/pqRKZvMtxuwKbqvptt9rxfG6/lfBqu/BQpFXNC16HC08\n",
       "wxngBIdaRtTe45VYTwgWuhrkOVCuFND8wmqekHybaWx1LYfuE1t28XdbZRtjsxZQ6bNN+4DRE9kt\n",
       "AL6Na/BA9oXrvJ8XuzuZ6i9PGkdZZ++5c4PWDocn3Ka9xkO1SIxZUxTYonRHHshTGQdWQ9To/YAG\n",
       "JodY3em8To7tShjPA7MRXqrRX4/eXhz5p879Uo1dG/7gOPeClmxt5DzCk5oQI7l32kdZw6PX52PM\n",
       "/8vRkjeA/bHA3jGg04YeVtCXYsX4Xk/9nV3Dj91jdaM2SOAZlodv/6yhWjVbnylS17cA4EGaY5RY\n",
       "Qk5h80g/dtb5o9jksOi744fS217SQG2ycEbz9x2c6mlVXtT4N5Mebi+rfCWUvu0F+qcgr0ucWbTI\n",
       "Ruw55RxeqQiq21ibWGw/ieSb0UefBxuRqGr1+amda5i0ciVriFN6p/cvors43qxvwQAAATJBnr5F\n",
       "ESwQ/wAA2ojrbg3VKYYZAB+fnzQSe/i2z1dV5cx92dX7ESPDKIdQGX3gjE7T0K9F0jPO+l3TXPEv\n",
       "aMAoisfgpA05RDo2NxM+9hiCmFKvgsj7KtmTFs/tqyyFDHEI7639xLyX/Rcx0QX7bV32NuvqYDiO\n",
       "2VJzREm9z9k9Z3yZ7z+eKb7AY/oa55zM/7dzhrum6YWXH4hD91EW2gsK1q6gd7Xlo8/UBJ8uXvav\n",
       "To+xyWvxGD/LOp4bVPcBZ1z+HCxnZNNQJLrhv/9Rp9y4cF+CeBITbTRJ+Gzdht6l+wX5gdihrI05\n",
       "Zmy1i1oDYw0FK2VcQXmwLZN0ua2+HvAcPyQLY7Q/1VL1tTqn/qJUcv/PHJ1gTPA9rvs5M6L/Q5IJ\n",
       "J7v5ZLHqfAVdwokeS/Ft/fAAAACHAZ7ddEP/AAHldN5wVwAhBGLmQ1vSLfMcgb4TNzzdLliyzIyI\n",
       "xciVf23XmQx0zM0qo8ktrojPZDyOwB8YddhALi0lX+nR9BmVGWMi77pJIGQ9jUVcs5tQTFGrXllW\n",
       "E9ku9HyOaL5uAf/W8JGimvpNBrLb+aaSB35F0+2m3IjcvQyhHmTuAuKQAAAAVAGe32pD/wAB5cIU\n",
       "Joe2Z9JzVABCXVKc+TNnXJ3bFwPXx5m0SRyPj/L6NoT+Po8v9GWobQfzv5NnZRBosLw2DJxuicOW\n",
       "hAMnPbKqAW9GHZCD4BZ4BQAAALVBmsFJqEFsmUwIJf/+tSqAAFt8NVyJHVLJLRvgAnNCUa8GzA2x\n",
       "gk2vFDkp7RtxvmJaVf5jN7JiFryCO7PzUsYGRLVNi/H4bQwYsY867dpXXk9G+6TAr2k+nZ/YkxCO\n",
       "6KPqySC5nhU1Na2NjFjvBtSJvpfQLBsAdt+luC5bT1qaIjJML3DkKOO8d1ALbfJWVr8xaqy8VYQ1\n",
       "6DwAPbRx2o7w55vScK3YRkQcHGDCPVfcVyS0Y02JAAAAFEGa5EnhClJlMCCP//61KoAAAB6xAAAA\n",
       "YUGfAkU0TBD/AABtR0jLcXe7Bz1mQAF0bAMwHEed+gKYKA2W9iKgEAYTZMqMcACmC6H3eZzIQWjQ\n",
       "k7uMlyAsrv4MRf4DWJRL+AOJc8C8HpC2+RPAT+Tpc16QcsLIZ8FWIrIAAAAWAZ8jakP/AADy9jIr\n",
       "+m2LRmb1IR/u9wAAAI1BmyVJqEFomUwII//+tSqAAFl4Uv28AAzQhX5wAQcca/0iXoi2bJsAfp7H\n",
       "2Nlh98eSDTviSY2ARUGOvC8cMUDhFt69//gmE0/6fEdC4f/vEcfY9f3A9RplEO54aVhQFjCpo8x3\n",
       "18Md7w8gj9pG9Okx3DgYW2lgZmwIH6jT3fkuOoTh950c7FBwqJT56GEAAADdQZtHSeEKUmUwURLD\n",
       "//6plgAFbsNSmqEoAIS52mwr/3opWZFN3Nm6xhTObgTZ2vkCY5AKee0DfNKZT9NU+9ZdZmAxhdWz\n",
       "2f+XBpMDiQ7sMXNxsb+DvkPRXY1xZi6WcmgmNMbl11Hvj4K/+7ZG9KjOcAw6DH2n1u+js0X54t62\n",
       "29aWmnKFEDBvoboX002kIJlREtaBVP+6a52wAgeYo9UByRLalrn5OC4B2JtYOJpDHyX+RHqSENCQ\n",
       "GLNA4FPVRCLuUcpG9MXWHWLwx9r/zwx+oUxEjdFYGG1s9n+Cpv0AAABUAZ9makP/AAHl7GRWq+Eu\n",
       "gQAauxIvOZG/5zcf/61WXDo0ii2tMVqfhLScLFcxav9GN86ajXk5SVg++CHs/JAmwlcOEozU2/mL\n",
       "6YP5PWzCpra6I8CRAAAL9m1vb3YAAABsbXZoZAAAAAAAAAAAAAAAAAAAA+gAAJxAAAEAAAEAAAAA\n",
       "AAAAAAAAAAABAAAAAAAAAAAAAAAAAAAAAQAAAAAAAAAAAAAAAAAAQAAAAAAAAAAAAAAAAAAAAAAA\n",
       "AAAAAAAAAAAAAAAAAAIAAAsgdHJhawAAAFx0a2hkAAAAAwAAAAAAAAAAAAAAAQAAAAAAAJxAAAAA\n",
       "AAAAAAAAAAAAAAAAAAABAAAAAAAAAAAAAAAAAAAAAQAAAAAAAAAAAAAAAAAAQAAAAAGwAAABIAAA\n",
       "AAAAJGVkdHMAAAAcZWxzdAAAAAAAAAABAACcQAAAEAAAAQAAAAAKmG1kaWEAAAAgbWRoZAAAAAAA\n",
       "AAAAAAAAAAAAKAAABkAAVcQAAAAAAC1oZGxyAAAAAAAAAAB2aWRlAAAAAAAAAAAAAAAAVmlkZW9I\n",
       "YW5kbGVyAAAACkNtaW5mAAAAFHZtaGQAAAABAAAAAAAAAAAAAAAkZGluZgAAABxkcmVmAAAAAAAA\n",
       "AAEAAAAMdXJsIAAAAAEAAAoDc3RibAAAALNzdHNkAAAAAAAAAAEAAACjYXZjMQAAAAAAAAABAAAA\n",
       "AAAAAAAAAAAAAAAAAAGwASAASAAAAEgAAAAAAAAAAQAAAAAAAAAAAAAAAAAAAAAAAAAAAAAAAAAA\n",
       "AAAAAAAAABj//wAAADFhdmNDAWQAFf/hABhnZAAVrNlBsJaEAAADAAQAAAMAKDxYtlgBAAZo6+PL\n",
       "IsAAAAAcdXVpZGtoQPJfJE/FujmlG88DI/MAAAAAAAAAGHN0dHMAAAAAAAAAAQAAAMgAAAgAAAAA\n",
       "FHN0c3MAAAAAAAAAAQAAAAEAAAW4Y3R0cwAAAAAAAAC1AAAAAQAAEAAAAAABAAAYAAAAAAEAAAgA\n",
       "AAAAAQAAKAAAAAABAAAQAAAAAAEAAAAAAAAAAQAACAAAAAACAAAQAAAAAAEAABgAAAAAAQAACAAA\n",
       "AAABAAAQAAAAAAEAACgAAAAAAQAAEAAAAAABAAAAAAAAAAEAAAgAAAAAAQAAEAAAAAABAAAoAAAA\n",
       "AAEAABAAAAAAAQAAAAAAAAABAAAIAAAAAAEAACgAAAAAAQAAEAAAAAABAAAAAAAAAAEAAAgAAAAA\n",
       "AQAAGAAAAAABAAAIAAAAAAEAACAAAAAAAgAACAAAAAABAAAoAAAAAAEAABAAAAAAAQAAAAAAAAAB\n",
       "AAAIAAAAAAEAABAAAAAAAQAAIAAAAAACAAAIAAAAAAEAACgAAAAAAQAAEAAAAAABAAAAAAAAAAEA\n",
       "AAgAAAAAAgAAEAAAAAABAAAoAAAAAAEAABAAAAAAAQAAAAAAAAABAAAIAAAAAAEAACgAAAAAAQAA\n",
       "EAAAAAABAAAAAAAAAAEAAAgAAAAAAQAAKAAAAAABAAAQAAAAAAEAAAAAAAAAAQAACAAAAAABAAAo\n",
       "AAAAAAEAABAAAAAAAQAAAAAAAAABAAAIAAAAAAIAABAAAAAAAQAAGAAAAAABAAAIAAAAAAEAABAA\n",
       "AAAAAQAAKAAAAAABAAAQAAAAAAEAAAAAAAAAAQAACAAAAAABAAAQAAAAAAEAACgAAAAAAQAAEAAA\n",
       "AAABAAAAAAAAAAEAAAgAAAAAAQAAKAAAAAABAAAQAAAAAAEAAAAAAAAAAQAACAAAAAACAAAQAAAA\n",
       "AAEAACAAAAAAAgAACAAAAAABAAAoAAAAAAEAABAAAAAAAQAAAAAAAAABAAAIAAAAAAEAABAAAAAA\n",
       "AQAAIAAAAAACAAAIAAAAAAEAABAAAAAAAQAAKAAAAAABAAAQAAAAAAEAAAAAAAAAAQAACAAAAAAB\n",
       "AAAQAAAAAAEAACgAAAAAAQAAEAAAAAABAAAAAAAAAAEAAAgAAAAAAQAAGAAAAAABAAAIAAAAAAIA\n",
       "ABAAAAAAAQAAGAAAAAABAAAIAAAAAAEAABgAAAAAAQAACAAAAAABAAAoAAAAAAEAABAAAAAAAQAA\n",
       "AAAAAAABAAAIAAAAAAIAABAAAAAAAQAAGAAAAAABAAAIAAAAAAEAABAAAAAAAQAAKAAAAAABAAAQ\n",
       "AAAAAAEAAAAAAAAAAQAACAAAAAABAAAQAAAAAAEAACgAAAAAAQAAEAAAAAABAAAAAAAAAAEAAAgA\n",
       "AAAAAQAAKAAAAAABAAAQAAAAAAEAAAAAAAAAAQAACAAAAAACAAAQAAAAAAEAACAAAAAAAgAACAAA\n",
       "AAABAAAoAAAAAAEAABAAAAAAAQAAAAAAAAABAAAIAAAAAAEAABAAAAAAAQAAIAAAAAACAAAIAAAA\n",
       "AAEAABAAAAAAAQAAKAAAAAABAAAQAAAAAAEAAAAAAAAAAQAACAAAAAABAAAQAAAAAAEAACgAAAAA\n",
       "AQAAEAAAAAABAAAAAAAAAAEAAAgAAAAAAQAAKAAAAAABAAAQAAAAAAEAAAAAAAAAAQAACAAAAAAB\n",
       "AAAYAAAAAAEAAAgAAAAAAQAAGAAAAAABAAAIAAAAAAEAACgAAAAAAQAAEAAAAAABAAAAAAAAAAEA\n",
       "AAgAAAAAAgAAEAAAAAABAAAYAAAAAAEAAAgAAAAAAQAAEAAAAAABAAAgAAAAAAIAAAgAAAAAAgAA\n",
       "EAAAAAABAAAoAAAAAAEAABAAAAAAAQAAAAAAAAABAAAIAAAAAAEAACgAAAAAAQAAEAAAAAABAAAA\n",
       "AAAAAAEAAAgAAAAAAgAAEAAAAAABAAAgAAAAAAIAAAgAAAAAAQAAKAAAAAABAAAQAAAAAAEAAAAA\n",
       "AAAAAQAACAAAAAABAAAQAAAAAAEAACAAAAAAAgAACAAAAAABAAAQAAAAAAEAABgAAAAAAQAACAAA\n",
       "AAAcc3RzYwAAAAAAAAABAAAAAQAAAMgAAAABAAADNHN0c3oAAAAAAAAAAAAAAMgAACPvAAABiQAA\n",
       "AGoAAAG+AAAA4gAAAJUAAACSAAAA+QAAANIAAABOAAAAQgAAAIoAAAHjAAAAxwAAAJ4AAAB0AAAA\n",
       "+wAAAFsAAABkAAAAGgAAAFAAAAGuAAABQQAAAI4AAACcAAAA2gAAAHMAAAAsAAAAHQAAAF8AAAHr\n",
       "AAAA0QAAAJoAAABoAAAAvwAAAGIAAABmAAAAGgAAAewAAADkAAAAZwAAAJsAAADZAAAA1AAAAGYA\n",
       "AABsAAAAPQAAAGwAAAIeAAAA6wAAAJcAAACVAAAAtAAAAIcAAABaAAAAMAAAAcQAAADmAAAAkAAA\n",
       "AIwAAADuAAAAvAAAAFEAAAA/AAAAUgAAAgUAAAFHAAAAkgAAAG4AAADpAAAApQAAAF8AAAAxAAAA\n",
       "SgAAAbsAAAEDAAAAiwAAAKAAAAD+AAAApAAAACoAAABXAAAAUAAAAfUAAADdAAAApQAAAGUAAACc\n",
       "AAAAVwAAAGUAAAAbAAAA1gAAAacAAAD4AAAAXgAAAJAAAAC/AAAAcwAAAGcAAABAAAAAbgAAAdwA\n",
       "AAC2AAABEgAAAM4AAAC1AAAAWgAAAKUAAAAqAAABswAAAPMAAACMAAAAggAAAOYAAAC1AAAAHQAA\n",
       "AE0AAABOAAACDQAAAO0AAACQAAAAiAAAAPYAAACPAAAAhQAAADQAAABOAAAB0AAAAPsAAACYAAAA\n",
       "swAAAOgAAACfAAAAdwAAAF8AAABPAAACAAAAATIAAACGAAAAVwAAAKwAAAAYAAAAXgAAABoAAADl\n",
       "AAABtgAAATcAAABZAAAAlAAAAMYAAAByAAAAbwAAADwAAABvAAACIQAAAP0AAACkAAAAqQAAAKkA\n",
       "AABUAAAAmwAAACwAAAGrAAAA4wAAAJwAAACFAAAA4QAAALIAAAAZAAAATQAAAEIAAAGvAAAAiQAA\n",
       "AIQAAAEcAAAA6QAAAIcAAABmAAAALgAAAFcAAAHaAAAA6QAAAKsAAACxAAAA/QAAAJEAAAB5AAAA\n",
       "TgAAAE4AAAHzAAABNgAAAIsAAABYAAAAuQAAABgAAABlAAAAGgAAAJEAAADhAAAAWAAAABRzdGNv\n",
       "AAAAAAAAAAEAAAAsAAAAYnVkdGEAAABabWV0YQAAAAAAAAAhaGRscgAAAAAAAAAAbWRpcmFwcGwA\n",
       "AAAAAAAAAAAAAAAtaWxzdAAAACWpdG9vAAAAHWRhdGEAAAABAAAAAExhdmY1OC4yMC4xMDA=\n",
       "\">\n",
       "  Your browser does not support the video tag.\n",
       "</video>"
      ],
      "text/plain": [
       "<matplotlib.animation.FuncAnimation at 0x7f64aa9e1c18>"
      ]
     },
     "execution_count": 49,
     "metadata": {},
     "output_type": "execute_result"
    }
   ],
   "source": [
    "anim_modo1"
   ]
  },
  {
   "cell_type": "markdown",
   "metadata": {},
   "source": [
    "### Modo 2"
   ]
  },
  {
   "cell_type": "code",
   "execution_count": 50,
   "metadata": {},
   "outputs": [
    {
     "data": {
      "text/latex": [
       "$\\displaystyle \\left( \\omega_{2} = \\sqrt{3} \\sqrt{\\frac{k}{m}}, \\  \\vec{\\xi}_2 = \\left[\\begin{matrix}-1\\\\1\\end{matrix}\\right]\\right)$"
      ],
      "text/plain": [
       "⎛            ___                   ⎞\n",
       "⎜           ╱ k                ⎡-1⎤⎟\n",
       "⎜ω₂ = √3⋅  ╱  ─ , \\vec{\\xi}₂ = ⎢  ⎥⎟\n",
       "⎝        ╲╱   m                ⎣1 ⎦⎠"
      ]
     },
     "execution_count": 50,
     "metadata": {},
     "output_type": "execute_result"
    }
   ],
   "source": [
    "omega2, sym.Eq(vecXi2.lhs, autovectores[0][2][0], evaluate=False )"
   ]
  },
  {
   "cell_type": "code",
   "execution_count": 51,
   "metadata": {},
   "outputs": [
    {
     "data": {
      "text/latex": [
       "$\\displaystyle \\left[\\begin{matrix}\\psi_{a}\\\\\\psi_{b}\\end{matrix}\\right] = \\left[\\begin{matrix}- \\cos{\\left(5 \\sqrt{2} t \\right)}\\\\\\cos{\\left(5 \\sqrt{2} t \\right)}\\end{matrix}\\right]$"
      ],
      "text/plain": [
       "⎡ψₐ ⎤   ⎡-cos(5⋅√2⋅t)⎤\n",
       "⎢   ⎥ = ⎢            ⎥\n",
       "⎣ψ_b⎦   ⎣cos(5⋅√2⋅t) ⎦"
      ]
     },
     "execution_count": 51,
     "metadata": {},
     "output_type": "execute_result"
    }
   ],
   "source": [
    "modo2auto={\n",
    "    vecXi2.lhs: autovectores[0][2][0],\n",
    "    omega2.lhs : omega1.rhs,\n",
    "    phi_2 : 0,\n",
    "}\n",
    "modo2 = sym.Eq(sym.MatMul(vecPsi), soluciónOmega2.subs(modo2auto).subs(parámetrosFísicos), evaluate=False)\n",
    "modo2"
   ]
  },
  {
   "cell_type": "code",
   "execution_count": 52,
   "metadata": {},
   "outputs": [
    {
     "data": {
      "text/plain": [
       "Text(1, -6.02, '$2 l_0$')"
      ]
     },
     "execution_count": 52,
     "metadata": {},
     "output_type": "execute_result"
    },
    {
     "data": {
      "image/png": "[encoded data removed]",
      "text/plain": [
       "<Figure size 432x288 with 1 Axes>"
      ]
     },
     "metadata": {},
     "output_type": "display_data"
    }
   ],
   "source": [
    "l0 = 3 # [m] longitud natural de los resortes \n",
    "figuraAnimación, ax = plt.subplots()\n",
    "# figuraAnimación = plt.figure()\n",
    "# ax = figuraAnimación.add_axes([0,0,1,1]) # agrega ejes como atributo de la figura\n",
    "ax.set_ylabel('y [t]' )\n",
    "ax.set_xlim((-1,1))\n",
    "ax.set_ylim((-9,1))\n",
    "ax.grid(True)\n",
    "ax.plot((-1.5,1.5), [-l0,-l0],  '--',color  = 'green') # linea horizontal\n",
    "ax.plot((-1.5,1.5), [-2*l0,-2*l0], '--',color  = 'green')\n",
    "ax.text(1,-3.02,'$l_0$',color = 'green')\n",
    "ax.text(1,-6.02,'$2 l_0$',color = 'green')"
   ]
  },
  {
   "cell_type": "code",
   "execution_count": 53,
   "metadata": {},
   "outputs": [],
   "source": [
    "psiA_modo2_numpy = sym.lambdify(t, modo2.rhs[0])\n",
    "psiB_modo2_numpy = sym.lambdify(t, modo2.rhs[1])"
   ]
  },
  {
   "cell_type": "code",
   "execution_count": 54,
   "metadata": {},
   "outputs": [],
   "source": [
    "linea, = ax.plot([],[],'o',ms = 10,color = 'r', label = 'Movimiento particula a',zorder = 3)\n",
    "lineResa, = ax.plot([],[],ls = '--',color = 'r', lw = 2, zorder = 2)\n",
    "lineb, = ax.plot([],[],'o',ms = 10,color = 'b', label = 'Movimiento particula b',zorder = 3)\n",
    "lineResb, = ax.plot([],[],ls = '--',color = 'b', lw = 2, zorder = 1)\n",
    "\n",
    "tiempos= np.linspace(0, 10, 200)\n",
    "y_a_modo2= psiA_modo2_numpy(tiempos) + l0\n",
    "y_b_modo2= psiB_modo2_numpy(tiempos) + 2* l0\n",
    "\n",
    "def actualiza(i):\n",
    "    linea.set_data(0, -y_a_modo2[i])\n",
    "    lineResa.set_data([0,0],[0, -y_a_modo2[i]]) # linea desde el origen\n",
    "    lineb.set_data(0, -y_b_modo2[i])\n",
    "    lineResb.set_data([0,0],[0, -y_b_modo2[i]])\n",
    "\n",
    "anim_modo2 = animation.FuncAnimation(figuraAnimación, actualiza, frames= len(tiempos), interval= 200)"
   ]
  },
  {
   "cell_type": "code",
   "execution_count": 55,
   "metadata": {},
   "outputs": [
    {
     "data": {
      "text/html": [
       "<video width=\"432\" height=\"288\" controls autoplay loop>\n",
       "  <source type=\"video/mp4\" src=\"data:video/mp4;base64,AAAAHGZ0eXBNNFYgAAACAGlzb21pc28yYXZjMQAAAAhmcmVlAAC1V21kYXQAAAKtBgX//6ncRem9\n",
       "5tlIt5Ys2CDZI+7veDI2NCAtIGNvcmUgMTU1IHIyOTE3IDBhODRkOTggLSBILjI2NC9NUEVHLTQg\n",
       "QVZDIGNvZGVjIC0gQ29weWxlZnQgMjAwMy0yMDE4IC0gaHR0cDovL3d3dy52aWRlb2xhbi5vcmcv\n",
       "eDI2NC5odG1sIC0gb3B0aW9uczogY2FiYWM9MSByZWY9MyBkZWJsb2NrPTE6MDowIGFuYWx5c2U9\n",
       "MHgzOjB4MTEzIG1lPWhleCBzdWJtZT03IHBzeT0xIHBzeV9yZD0xLjAwOjAuMDAgbWl4ZWRfcmVm\n",
       "PTEgbWVfcmFuZ2U9MTYgY2hyb21hX21lPTEgdHJlbGxpcz0xIDh4OGRjdD0xIGNxbT0wIGRlYWR6\n",
       "b25lPTIxLDExIGZhc3RfcHNraXA9MSBjaHJvbWFfcXBfb2Zmc2V0PS0yIHRocmVhZHM9MyBsb29r\n",
       "YWhlYWRfdGhyZWFkcz0xIHNsaWNlZF90aHJlYWRzPTAgbnI9MCBkZWNpbWF0ZT0xIGludGVybGFj\n",
       "ZWQ9MCBibHVyYXlfY29tcGF0PTAgY29uc3RyYWluZWRfaW50cmE9MCBiZnJhbWVzPTMgYl9weXJh\n",
       "bWlkPTIgYl9hZGFwdD0xIGJfYmlhcz0wIGRpcmVjdD0xIHdlaWdodGI9MSBvcGVuX2dvcD0wIHdl\n",
       "aWdodHA9MiBrZXlpbnQ9MjUwIGtleWludF9taW49NSBzY2VuZWN1dD00MCBpbnRyYV9yZWZyZXNo\n",
       "PTAgcmNfbG9va2FoZWFkPTQwIHJjPWNyZiBtYnRyZWU9MSBjcmY9MjMuMCBxY29tcD0wLjYwIHFw\n",
       "bWluPTAgcXBtYXg9NjkgcXBzdGVwPTQgaXBfcmF0aW89MS40MCBhcT0xOjEuMDAAgAAAITBliIQA\n",
       "E//+97GPgU2/hQ2XOop6H+EVsfSQUXqx2aBk6gAAAwAAiYGOFkC1uVpxUAAA3+774daz/gJHgAnv\n",
       "rqEOiMgH2LWMGcuB8thyddQxGp79k1J/XpWkfnHDlbS39xgIc+ZLDKaAfpqBkwiR+lhQeGM2wXOa\n",
       "6+ctezh4wB/ihgZT3qn9YIeyj5SjZI2cMysDS9Ch023YUZ9FjBhM0oawrGn71bymFxy4bemoSRxA\n",
       "p46rhIzXY7JvhfLya3Ee5TM0Ll3QH0f5q1aUuIpBPjbX9yxXQX6Bw2oH3vtTFeAB1+wgaL84XtIb\n",
       "XFmnEZ9IvPtpy9gAhLeUTFFrp+Aqpk9BFL/F7bh3Ywgr+puO7X/TuI9Awm3FeRsn///3Uv7XUPHN\n",
       "MWXPXqCSwYj6ZRMfidLu8PZmhmKl6SBpERurVUljUHMMmR0DB8kQyjVzVrqrUw1LPbR9Q03S3ytq\n",
       "4SsBdaPgsMxcems+KgRZ3PU4new1yu6ToFLnI5SbAvuju5/lM98/JfRZIEXwHVT6hz5y/HH2+DY9\n",
       "UWg9FDf+ST/FBn6vPp1y6uc6BlMhv+XE0JdA7UArhlEw0m26Fz7Gw9LTI8AR7zIfQCLuuJDyUGVX\n",
       "dfojCFftZ+t7WM6ZMDExmzhAf+VBL4HS1VzMMgpRTMS89lyhmv1XjucZiQC8loNdGtLxXPYb+RFx\n",
       "Hd4ulj2kQAON2hXizzzAxSPdXSNMgCwqaBUfnoWhcP+3qsnyNJqatIzV9ZGDs6+w9it1rXW0uh+W\n",
       "PxzsEHgcWPPDSuIBZkoZhxqDUrngBkZzmV2i+8hxzp33Wz32TEycJhdmHuQbTUC7SGGX9Uddow6T\n",
       "AudTbfk/ZGEXUhmhOUvpCmuV2e09sbeyoCbHYlULCYTEIBiiTUY3g1YXacT/8SFVX9k0vTp8vw6C\n",
       "2TGL1ZqxQHy0mk5dpbiHeiyBhktniGlD3hwXPBPTXDdzo0hrqoE6A033YB7////FnvZq29tXXTAw\n",
       "39u+0yk3zloAiXc7NaN7cQctH3QMtppMcWAVelk0odR12Bk4WUaAlSKSp1cquthbJGxCswKvvFJO\n",
       "BUbuzdpFsclVDkHcvFaZ1jMoRrnMcqumHNRiq7STMkMv8OP3uv0G+G0o6PA6rDtY1L6obJNI2i6k\n",
       "KOySJ7ufnsmS/ndV+IAaKP45Ujz/25lVLvShIeC7iLgehQFXGJiFlfHWvH8GHPoiL6T9sgkC2OtM\n",
       "my6F0PDC/dix4yWsuXd/KaZWrpaA0xZX5qdm8FpyFCna0xUZaRo4m7KF8mO54zeJ/6WRkXzYjUEk\n",
       "BmEvQvKFoF/bkAMKk2nsOotEp+BvRf8QonE0MiQgNJrPdsf3q2SR8ceKBUpG7eG+7sjdQv+qrJrV\n",
       "g0o5p1eAbpSnKito+MoMTRvFT3Waq0Hy2v3E/AoBLXrzRumRB59jL6l8NU60ZrGSiYHaNIQy58b7\n",
       "LR9DqwSuJiOC8o2RLOzHT1lCizs6I3Ma6ydE/uyHKkgG2gTmHm7OMl4RAU/Yl3rQcZ//DEwbYjnF\n",
       "mqP9OHy10gFjI9nXFX9h73NDZOY/VEeFt0a7YngKuVEH0uZBANW9WvZEjqjirKd13I+e74cC4+Ud\n",
       "3tuZLrujcVJFYpK6PIbCUiLUVYo7YLtxu2WJuyD9WIPiccqUJn4vJ9cd7Q5mqjLJi9IkJ6l5O7tC\n",
       "HfGP9kMgLX7KqrOeVk6maitv/5rFS/SnOzJ/+9MuB7mdQgeUUXYr1yt6bwUtLHwUJWOWJpmNDVjY\n",
       "o1z8gfDTRsxhkcvbqLJD0cmQu14MhJf9elnyOa3BtsmbT4jNDHjGLiufd26AFQZDR6oiAU/epoD3\n",
       "2jJrNYWZZkjctUss6Tq9s0gFXvVuq4x8fK5/425SrpUCluFCPynqSDV32pQAxeVlj5K6PQoJZvek\n",
       "zMLBO7y9v4vnFgyVyQ67T74TptWTYro2RCIATqvuqZOYWE+UiGmwmB7eayXM9sxJad6fWH8AuRrU\n",
       "LzU4E7j9r+LFs3GotwTevpk1SVBvrTvG2q4b1Xf5vamzYmsFAlRMXT0hfQ97pjVCEHlzoFvBo+3I\n",
       "SfWFN6Kj+jajWsjLSEEOcIWei/QfRWodz7LKKa9y2mhRwJEOg1vSM32WRph24ekBBs01WNtH19jh\n",
       "N8OTYtQvU4XFZT/Uss34qz5DgxjRbGFHqauWjDWuEeuc9C9X2pnbTPRQ1qq3kiDsl+QFkP6MQU5q\n",
       "C3gDtAbyj1mNfLFyRONMfwaIhWzXJnoEq+EqhMwHeptMuSUSuYkKKnjYUMn+Rto4i9zzt+SkIJhn\n",
       "GM36R3r071nd+tPoEsowdCxenjcGDylNggEhw3gEU6Fe9AwODVNHWNZ9xi/pGGjva75uPcDvuoA4\n",
       "Wbh9v/FcnikqzaE3152c+5vDUxYQe2eFzSN6vsmmH/QwQ7z+H145EM1AkdUEJkDVPr+jlU0tQeSO\n",
       "1fOCBSTGGUL/IXlirSL3cUrj23vt0WlZEZpxfUKygp2dIhQeAr1Kvq46Cl6uZ2IudB5TxjDsiPl4\n",
       "bI7qS75cm9L1gasTduRHqW/udiVum0OoKGZH7TDdchYvkQ7jznCU9E/IVPii+g8tqNQR4tFQ9X0N\n",
       "0t22+VcdeqlV9+wWSAd/fPyFV8b+KaPrzItY++HqjxGzeqV7p4Kk3ODvi+k/Y6Yh+GGGYovt5OBP\n",
       "FumyP5PNQZ1prC0b5/4t48LNng4UF3xusJFQTtSV+nEzOc25PCRC5EiGpsFNgnaPtdOTppb7XB24\n",
       "FD72HVarjblsetrptoICxienFSJjmH5twjkRcJFeCVYyFz4xcqDyefnz3KMEg8nZjEjarEqV91u8\n",
       "xuiBbFXRsd1cPwStpldq+eUdLnC/i5BttLpyYj/i/oMjQnvlDfnP3Y03RQKjrnW9zLEZPkcBbAqg\n",
       "lIOF+qKxOz1e3tDfF/w7/tDeWP/dN5lDe+BaJENXpCl5O/DETX33frqp7Mj7NRk9bkSESAvlR1o/\n",
       "1mJhVlASuanDMTcxh3gz1SZqX+9x7yBTHVbE3B2p7x+Ivmx7lmQSSrkN863ZxR01WbIpTnvVL6FY\n",
       "zB6swzLcyJycklMkE4i3gi7icRrBz7pDcYPgldVZfNrARKkjRJz/4Zw+cMp7dAdBSot6RL0AFark\n",
       "su5A2s1iXdhXl/9rvJIX3caABMhzkBbz6/EgXVaBqCwJ1t6lBrJSi9X4TXRPB5UxSktd8S/v5YRE\n",
       "RHlf5J9il3rW+SgPdf1icK1jaPFugHW4wlfvXb6oH2/+tGn566S493Rp7RtcYGifNbOlH629sTHa\n",
       "uz2mPfBhEh/af5/YmYX/Tr0Ye8rUGIeYlQUl1JjqiEbusoEbLboa0ImDfMkLfIjHoCgs8KGIfUoU\n",
       "3BFEiE3mFwH5IgeDpl9b1L3kK5jfLR4xzJU1KLhxm89IJrL8IfnLEn/sahrICsBKeyDorpU/tRTr\n",
       "Q/WkQVawL9VPQuMULnsd7muhIrzzRg1Cwn9r70ZGejWYFJzgpo8Z8NGBw2v8RPs2uMms3uZ5/4ac\n",
       "rfQ6a5lIkFo1b9+tgNnL/DZXSDRBzbRihg6qr8fgTl7ocROCQ1tTJ4Kz1cscGRVOxVJ8ZFhyX9dG\n",
       "Z6v7O0k/luVcX7hzj81dgXJ/Mj4Baposq18M54F6PMEBagLFWQ/Smnj+v3KZz0Iqa8EFlIk7VKfz\n",
       "IYhP+YHPtz2TwL/Gnz+a9o+PMQOvTBa3JFfw7bdaosQhsXSko42K4wPSGTY4Pfa5jjsXfQciW/52\n",
       "IshVwX4PuqdUmwrQ7KJFIoOiJhzvXGKAvJAVAarmzNRHgRAV2HfXrN/sdeaY3xe8joGHdRI2wWUM\n",
       "BulqOVxrx1hbRfOG1MGJdcxCwo40ix6SNNAr3TQQ7qoMieAh2IngKm68lWjWkGHyjA2X2NxRSH5n\n",
       "PSsyXqHC/v/3X8GItriBtsgYkn+f9+7L95x1XePW4LIjvM74mahtyK2MSmOy2Ho5I0d4FLdIbpJp\n",
       "Mimb4+wSaZDjjluNqh/Eu5ZnzcLNUZPP2XmC365eoj/VBmhmVrAbJ36QlkODrUqYZdV9B+/qem+D\n",
       "56c0uMwN7ug0fuIgwWzzjR9kcc/a8zpTCAbXcynedfF33vMnGR+2XAS7egYsn9Ibrl0n4p1FfcaL\n",
       "+WV6t4S0i/wuZkgKLP3TSgCyEboGKw8Xl4vC7m6A6kunEk5Jmwu6ce2im/hQXaT15c9Nh4uT4yeM\n",
       "N6LEKeH3VTxUOP1ZGD/73zjZGBZfOjTaWoNwvP5L0e47JkwT+yir1MRpV/6ItzmcTz/OcB7TnnWh\n",
       "sD9mX1TR/90k54RluHSmVFONJWUMMRDK9+6DXb0er83QL/e1hx3iYeXgCIJHdYNcVa/YxP9853le\n",
       "nLOZN4s57mbk73eOEJFDX0XYTjgloKjXyk76/7vSo7TEhJV9SD5pciY/6LFQ371lCo1Z0DCqGToP\n",
       "yCTG15bEKxAgUvwLrbjt8nCiwPeI3Gci2ZfTWKzqIYRtH8qNqrcvx9rjXVSP0VRL88nnUCFgrqg7\n",
       "I5hjsJNG6sN+I1mRndvhmZaAkC9biZeBxODr78dQS6mQPc0UtyUC/6blIGOtwcovRCrOzzXUAacD\n",
       "iE3SZi7D6CBQwUxKIjDnWnMDYSvWnd31gSrTPXHN9zEoduaDlqP/Wxiu1IYHN98nR0hstAIZlpgv\n",
       "ByGDfeQXqERwKor2Cgf4vR/nyRPIx7Z9WREOB2z8+2RFUCIiPLK0zL2JhbrWrSMtYFOhK3OmQplL\n",
       "k3dyUdJzg406xknwCag3JAiV45KMYKLVUWuPeZLwMXWkAxzXwQ1d32eyYGpQB6kQlZqy6jTYLQRd\n",
       "WM4+PgN2BblFQKeTFVjYEqtX01f5IRUEZSMe6L6iY/EaBohmSYESG2R8G+pUmtKOxjI6P+ixQ12I\n",
       "XYoQXmOe98GkhLSV50SI+4fPlJEowNUbqJ3/g8/9enVEGJvFfBpCorgZwIZPpxnYL8AYeFU2M9IB\n",
       "UcHncMsqXSA3IaVyixEdfppLx2xbmKlp7XL2kPAcWW0rH1cjPkBqaBnsQSpsBBn83PX5R2wtDepp\n",
       "4bLNPWr+IsJL4DPHa8LnEQGjAungU7jmEvXkccqvb3Vfi6wtqcZGRS1w/8oW8Bjd7by8B9UMxTge\n",
       "0yUbwx7KeCphEApFpAAdXBiejJDBTRs+3+O4ArvlCb/X4d2tW1jRtkArx97fz0QT//eg0o1eTArc\n",
       "+sJicA6JfU2oc4ZgHTyqSQDeaIAhzNmDhpgzB8YhqlixGbbxEaeJqB9kBWJDHGyD+1tpoti85FJO\n",
       "WVimDIFTVypaLYZu8smHAYSKYNy1py9Mc8Lyz/aZBsdFPvE7fXtK93iykqkYQE0CpKSiKKAjdqtJ\n",
       "tsLbLyHG9cD+C/Wfe3M0TLpxWmfdtEw225ULLO/C2ibpmD3s30gsbJP/GJPJYqXoQlDTME0q9/nt\n",
       "MjPjAOV4pLuy9BbDBfS+0Ux+Wszb8bAE+ZBCulykTmqTj0AvZvETtcLAiRVnEIB10E9Rcyvn10ed\n",
       "BLIBsSwwsxQM83w864kK2vWLpZhA3uz6QPF1vl/K1kTwXvSTNNmYbL2f9eIGw7plNPXXxGACbASj\n",
       "pqwZtOqLHvX9Xc0El2nM9WkDSfD2MhFygGo8ffU7TL4qotuMGc+uD1lbTbNdA2h+bcQs7N3i9PkS\n",
       "oU9XggzA6Z3EsqymZNkt35kM9GOma3iJQD3tJUVfrq4N7kUv6vfimuZ8gMaBBsWP/MbdXIRpz9kI\n",
       "44n8UjgXuSr9BGZiLnXk4nuLD0ov7zYQLs1ioZZUaXUZ2Nfqih+h4gTCIK7FcDuXIMlZoNaCFHCF\n",
       "RHXF/5Vnd4ZI3gLcabmy6kddAwh07CFDEWwk5NVrpqy7GD7jnKDFBT/2NyBsQtflofg5Hv6gW6qi\n",
       "mJ9+dbMfduHEZxj/5eehdiiVijKagXroEhec1dgR5FdFgvnWWGCVNnxV1qGSLh7MT9hSV7uzPkln\n",
       "6PLUDwKPblE0M2iLN50Km/dzmuoYVm9M3UFttw3Gygmc8nJfsh+YDYdpH2tGfx/GDz+XWFT+aJSr\n",
       "L7GIMbKBwdCItydoWQxKm0ZXVD+/coHbjtO/PbyD/lecgv9xm9sVSr/xHrH0kLxu0BzEkoUWVS40\n",
       "tzoL0jB4k+CMStaZx2C/pk/6Gj25V6OsBs+nXSV7vZkAc1jXNySVNUcKH2YEYaES+IXwKBjd6L6p\n",
       "V5AS+B/cCJNCyTQpGBqxdgUBCHyT715nK6CAwXEExWtfjBMXxnm/98C+WS7b90qvzbcHqO4dR4RZ\n",
       "7iyGRxXFYJaTQGtU7o3PnpIR30dJu+ze2gGOBcYYlwfRSWhGjGueqYDaPhds8UVaVr7mUp6xTPxb\n",
       "jUEtHPRuNEbxKcFr/RP3UrhOWrOvWw4rUMow0i+Q6kM1FMH/ZamXqFhnd38lTtJrqeHfshDThqOa\n",
       "LE3vuJ0UXSuiSMcruQNBH2jj3nld09OW2julWP5NhYGsxAzM1I68svjRgwxJieXxuaqp67CBaTKL\n",
       "ZUsYvRuZ2hH34P302HTLAyUpYkqksQbIQODpSsbOnkZOzfooZiAQkzIxn96SfAXlus9p3FguVBZm\n",
       "sZj/Uex3FHS7q38PF4x0sgJrYXKxu5F1LVfOPM1LJzcTi8AX0/mjge5jNtKu1dD8StAO0MOJAe5T\n",
       "LEhqeZoXfBpGuTJF0ICzErgGUrzBF1eIlo7MHArKQ1+pz70IZllvGffNlU3te2f81uZQ+Wu/oW6n\n",
       "kKBx5UlTpTpoyvmedZFwx6irYv/4yVYGqN5iMu/L3hlWD69Dz17hqlzt+8pwIIqIszJ5mse1GR4v\n",
       "/8tNP85sEQGJmK0XSrrCnnxSVdwAxe/5vKEbV/ITvOKpr3eR8QHfXiHTnBdcwKr8HZDbfNKhi49m\n",
       "9MhLU/e15FgbOZrmTe/Gk+pE0riBpD/452+Cz7/+ufCuC+l1pMbXzX8RZBvur/xsjJx1B0UMhsyh\n",
       "8zR1Yq4y8TqMaaeWptilD+0kQuS4L6FupyK28SCRWPs2YSaKlS7xNnv0UsYmidKZq5c/Zf55pcEb\n",
       "0bDBiH7oGswQVoFO6mBKBvOZWUfenpLqAlr+GrMvWt0rZA/6sayADrwIchKo50XATErrNXhP1cqo\n",
       "w7BmG4pi7js5i5Rm1qRTvAesoqQ1qHZZQU9UcZgXzB1Nfw7uxxIKrxujyrEUs0yTXMem5VtiDV2Y\n",
       "tKOzXUWzWNHuWUuyOgpLxOYIXwZLb2pcKhV14HL/L3qwWmV5ZmT0IOJDyat+NB29XNANhn6MQGLL\n",
       "xCJ2TQRSUIf9i+ZiOfmccngZxoioRTubAKD3btbdR6iOGDwB9NpwQV5NOzM2S7ocw5Z55KZ2/yZn\n",
       "yiBzoFd74tGalIDTEnQSmVORGCag96GH0YuY1R5M4CGyGj52J9lAlL1bxoryCjq+F77eepUm4Rut\n",
       "rG5rPo3pocdpDlGj7KptrIgePvUGTRnt6YNUHOEfKetseCY8E52N60FBThnuhIxJ1Y/Ya4oI/3fQ\n",
       "j/2hiM0rkF/UcJ55iJyIIqnRro+5/8PrmRhCAC4olUV6KBQa/TX5oFRpzCBvg/suZzw+xYpj4snk\n",
       "541XOIdch1jCfCWDBxLvS61M7uzvSO+LfCaSWQkCkgn2aijhE6l0778FRcf+RkSOFDgSf9xYTrtt\n",
       "gU7o/TCd9U/TC8rnYrXrzppj4/PyT/MiVOMRWLU6bXPpo0kATuOKMBOaREzez5X0vDOlch3ulsBq\n",
       "hq39YMh5S64VPP1+vzxER0/wr+IpU2VZJq8LrctFft6Pt3bNhSIvShPXNlnBDGk+gKLh25AGVLSM\n",
       "kkXOh5oDNkDQgdWGKNPWbZJVryqUvTIXlzvwPjSLU27ed56ldeZDAhAVktYBGjYB/AUz2YsB0lWg\n",
       "PfucjVpvAwPEWV6OCajvpr76kxkZSJIOS8ryuK/kEFplBVF2JZftGz2dKL6WcUenaJSm4jHmwL1Y\n",
       "MIrsunBinu3Wr+qc++NcGgoNCfW+d/5+eYWTBwzRAxEC8uIzyyOdA99RdhKJJkc1SHXgeDYPekF6\n",
       "PZzcIHTbOwWrPbntY8XJ65WnZSNyL5UGZIFtdTcqnjj9pL1UeJIgzx3ZyNlgIbRpFpB5IaOHh62J\n",
       "bLUUmYLv7m3GmfL7EKuGriRf0nAaOHN62xCKk6cEP+QAPcckjX1vCuMI6Ua42HAhK12ikMMiuQWw\n",
       "H8paktfoRwmb2gruXi3LWNnf4SN+w2LJ73zOCDI8A9LxYHdiBMG0JQZVI0vFqs6449CNOv6oJp6g\n",
       "YARnK0hcJBgiKRN7+hCAianqfwaO4bLE2UuFmsEQYGupGP+wXH+Qsva7Qf95F2O6BUincK9TvFw/\n",
       "NJXfFKLyOyGP+WpmtgexnG7RGkdVu6/vnpv774RiV++RVB1bt9jy+YAPhpo+RVs4S28lxvp9sS0b\n",
       "EgJ/+VxXX5C5mXREzvobwV3Nxb2+BIM69Foh00+edlDWc7Sp36ANHWvX4mYy9l8KHs0ILX5HcViW\n",
       "ABZwafWkoxTyr2xJiawP5B8jYgaCqUGXWqEs6Ep17je4nPGzm8Tw+LZDSQqXcvo5747hqDTBu7OQ\n",
       "1m7hlUZlVi81+rlH8QzwbhwPjWd/zvRqxTkjIhL+YpCfJAVfykSDoMRiO87MRPWzDjiC1VZuIBfp\n",
       "ttBPnMB7FFGfYE/B/goTcGyI9jLPev4JLq5iliLKHw6qBPtTqB9xgD3vAdSH3Lb4OQ8IPh5K3aUY\n",
       "wBsT1nnZg18O0mZsh0qdMGuVCIkxhxLV9vGcjjx9cPJwgt5fGi5xpZ9rc13EP6jJe+vZe4fpmF3p\n",
       "CJvRa3UUGBriZ641618s3B2LbKIdIxvWL3uz/BuVw9PuV1qugW5OaGBRnCumaNAJtMgyU1Og9Zz3\n",
       "uL1qWugPuhhgbUxOHwidGz8zUQr3FYXIMkvcSOb6PlMrB38yTPFx8NUKvSBb8RyLhvJ8otXmRDgY\n",
       "ckJNQMEGpvRlWJIQMW98yK5xgYDL7pGBVrfoRM0SUt5hxIGy2fT/r2n+KDtsUEXuy4Ye82SPWhMw\n",
       "zn5hAUf6g7mZ7I0l/SZt8MecPYUPMw3k6AaM3QlcLg5z6TihK08e/elicCIi2z7q8XSWBz1tp3mZ\n",
       "6oySh/Bh1tdRlK1e9GssMhucXEISMejMK8tlahXhovYiRgkNIc9JFn8TIG7YzlVblyChdJV36/zD\n",
       "PkTDsUOJ6xSIwvIyb6hBGnbnrKcWsNQwinKSsohyRXUDqz1J8NHKotlajSZDY2/6L/ma7za39yoM\n",
       "L48H/S3EGni+n+x9wZZLxrlUewdOu0j3C/PZ5FBFfFcZuKEZOLhIaE54am4pkNxxiWpwfUREG7Wy\n",
       "nxvOo4I9W9W7oWUlVvLrPhgwxbY/9rwTPAsDA5S6onbsCiDc8+DSnU2TFu263Z/730Z62FLNc+Dl\n",
       "RgY/upRF+kuBwPUH/yzLwwn1ZPAfdUMYoQB/CYoBaXEtQG+bVochKajwoB2HepV5chB2/5qA9x7O\n",
       "iRthZevH5U56z1HtTroPUFQTfjX02KpPCfgFdnxxMMOiBi80Exmx0I4ObSzBUtf64md/C3E253H3\n",
       "KSofBs3wri1ukWVA7in00xSxjTzhrGH3ZK8E48j3kjC+zZwGjBsPlbGSCZk0q3JOHA+J9lV4Y48W\n",
       "a1/gH71z+6fIlEIn4WNYc1QdhOOzLIdA0PZ0QN0E9p2qsA1DhThapu/zo9MPLu54Sa29dDlMjiG+\n",
       "fGIG7lcm17s0gcsbTJCv1he8w5wViEjbC+bDz1AcnZYgtPH6xdLoCjFsaGHnv7BeiKX4eewo6xz4\n",
       "m4OyIXN0uWsMfgPjCXp2d5rTK1KIYQD7L6VTdMyggQ+bBbuoUKMD2qq76FHW6P072feoL2jadCFX\n",
       "7sik++NWZzbTqIxddqA1IRFAAUwy7/P8+Eje3IzRoXAeHBv55f9rZNoxHvHHvC8q3oaF/oxSdOeP\n",
       "zbpg4rBPZiXZ04bgU93dIJc9nc/xaPS/DtjAusbaIko6zMThYl7eWDDLYF6daWNPy7HUeZsbGbcR\n",
       "NtjvFeYpjvmILuU2wscPGajLhdbBcNr7WkqTK9WAgBtKuoa0E4RILm2tOSmc7PO8fOoyFV1dCuIu\n",
       "inWUEPIYYG7qDMVw3SGAWpBC7tf20a+QWeK7OCVN3YSCQzfbFhgkWEtO5Iqt4oXvN6Lnwasu7/95\n",
       "z2ODZJXKTbvYJKMgyRWDyLLmY1nmfJ+5z9uUlyFOf5blC1S7pOz7Qo1V8TEhaAQv5yagwfwUffKN\n",
       "lVJDi5MovIFfoyU7W0AiNOAUTOSgSIP6ad4aNio2TVLQVNk/poasBJHcL9fvkpKN5qGcE3AcLWjT\n",
       "rD40Zje9WVAruWUJwO6d5l47ntVFS6mNkym7lkHZWVnNElhhdcsJNLM1Kh31NrzeFdATwQmJiAPy\n",
       "0PIiJPQHUmDn4obiCLA6h5FGOc5tWsEudYPCMCltxdPR9rlNoAVg42Awel5jn8kyvExohFNV8y5H\n",
       "3AU+YHpkgZzRzsGFpK/2crH+ag0apIYcq2mQzb64eiAnb9wsXiiagK5/SGnf8vxTwzs/p/frkW6m\n",
       "hvQkWTM8yPmZg5nVmh6TZyCOdMdJ8hlGu5WtLmCJ+K494YZqv2GszeSiVOLvQQThJjbtyZ4ebf6y\n",
       "VJ5k+9nj6sIlWG5jre2dHTDI5VmFoKYw5fA0UVQBe/L6PMgAZ0/KILdtlVcmEz1bdXnRyi+R6q9J\n",
       "9Y9VMEEjiAwfO+pmjSi+kXJeHiKr8Y8KhW8dB7fX/dNPTdRP/l9pKzq7awNf+s+RN0Bynr5CQfxl\n",
       "7qoX21Vi376PqY6STn0ObAW6zDbFn+5j3DRL1pBg9vNmjiIOX1vx4yfKw7xLLTqYRXvv5/o/EQ4r\n",
       "OU7LD9qxkkFtWMwu8NJkRX8UaZkDF+bOLoLhAfYX2lpTpQP1hQqvmw3+6mgumd4sYRyhpq1fEktZ\n",
       "vABeu3oWCOzO5L/4IJ6hBHWB1lwH7I2DhSYQ1luq3Pf/qNDS3hRuBn48P9RIMKZx5ky98jAmHPQX\n",
       "08Du0r7CT24aWe3BZEilhfsQjqSl9UrjLh8nFsYeqgHtAx9fQoshRA7KV+/KqQBQZnQc3Kpqwfuw\n",
       "XAwKJC/IGXVG3P8xP3aSSQ9TzY7z9rU6AQE+8zQuhioRs65wCBPX7EANBUua/KvYqGFmVAbZh9Ph\n",
       "lfx1n9NCoRdBw7lXS3rOTnI5c4Am7rrsuGyvSM4w18NjyvszJIbXoW2E/iRhpEG3/8KtVgLSYtho\n",
       "sLlVvkTs4hrOj2Uk9X4yH7yOSDTEWY4fIQAGc61eqDaCan8gpaJLccUZb0Rofuc9Pfl/9/dgpmfw\n",
       "lI9iTqgJPILB/09EAw4+k3v77M9cdqugVuBiBwoG2zrSF0Iqh23C2/doIbRc6psT0DzqF+/de6EA\n",
       "AAGEQZoibEE//rUqgAHogR6gB9Q0layzF3L9hI/y6iNLqkX/atrKcxrzxLZ4SUpMDUbUrrRT90dY\n",
       "aqst+zxgFlvpRXS2pve0E35Zji/05yy8DIP2W29S+Kh4zja9yHvddyRiTCJXNokzERbK52lXaWv8\n",
       "rjLwZEpBkYfCe33PwkU/pUSICpyj6KbiGKwR7HHs2kw6ofYYKI3ykgB3sQnKeGw3JDbMAxYbqbOX\n",
       "608aDgxgzPQmmxjOcnrr4UdmDb8qUDYNm9IVgExA60RNVUnBG7+xL2yfon0HOLeQIhU0m+Pz7xKA\n",
       "nn/gRKxxz3qq8FE2Wug2/RUYXKQIUysGz0ESyBviWMXKDePVz3tEpQo/12li+O87E4lciZQy1epY\n",
       "uxPL2luJoZf9h2jafQpIT4eDR822LdKESFddNKS2UmOWTLu+dNGzTIZbQwPcv0ceaF4b6cYr4xHl\n",
       "7a3O6jdd6eYX+hq3Z7ZdT6nCaj07hFGHyp+GIeObowAPGYOPq/T8KSAbO4jT1fqQQAAAAGABnkF5\n",
       "D/8ABWTFgCh4NmnfGAANjfbhibiI+pYbvKtyPlgnMJeHgxUHD1XExams/3LFRcTFkz7KcPnRm858\n",
       "wzFvF7Lb5dVdjmSQXyd7KbmnWq9/098gipi8lXPOrfUJbw0AAAHzQZpGPCGTKYQT//61KoABZh1o\n",
       "zIQAQ95MrTsc1Y9mWgY/l0EoyqFAKl1AWTIzbw4bWGIFzXRxma1+6Jx2OAKblRgaJbEQcEU+bJqs\n",
       "0uz5JioxhssxD5o7Y8Wgtd5Hbk+2fWjFmgNSZKIN3lZ2LygjQxjMLQqMf2ZwZNtJSx1sDhWgglRA\n",
       "EhgU72nRHgdis506xbPeaVMSxbSMHdWDTNczmdkkqpmVEPGlbjycSV3u6VrUvR8YS7P8aez6uuCr\n",
       "aOPo2v9LJyACz1WgUd7ioOoZmnUAcOyOk4CIajDilEb1Ec+3M48daWO8Qmt6dAYK6dHI5awBJHk6\n",
       "1k7+3q0MRyHTUP3OdKmzjEI1C0c2cD5QAVYZYReO27ujhFGcYt472mCqpDX7Ub934IrpIpTx3nXG\n",
       "AvNxlz/Kcsi7j3byvFDsEs29ggVnuxWShdObSP1DxNzP1aLjXrZqMuBA3HzmdK9Tk0PRd/2LZsHL\n",
       "g2uLlVSohrrO+W9Y6x+Iejr3Vb18SSYjI/vMmxdoR6G/09PHFRMXtVKmmpnSPhLvWpSwIuJKHjlo\n",
       "FtA3DiPSDv50nS0t9gI8XloOdCX0QeqC7krXlpSj0KLGlThhafhuDCAE1DIgj0K18e8Eam6pBbf6\n",
       "qpM+5B1MZ7+dm9oWMj2cOBCsd+yzRmakEwAAAR5BnmRqU8EPAAG5odM1CbCtiA7oANqvLK8APwhh\n",
       "ZEhuGDs2Qqx3wiTqKP/wRsAoJeyR8zKqz3N6s2Y62+EtVEtbM46HhQLZ3ZeY0UbM2Jvp6hBxKUNN\n",
       "+KTcsQ0qK8I11fceX6FYxJN+Jo69q4VFgFzysYNWwG6t45Zx2TcgpLprDAe7KMu40Y5PAyN3zoA1\n",
       "kKqfdvoo5m1X1oQ5qCx79kIJcCxPqrVCywrVij4D2xeqP6RbaFetm4zS+LEIkKzeAPEEVsgszIP8\n",
       "Vre/PVaOyKPgPwuFuLpJ2IGTW6RDbrcl8SQ7tb0zOECOn3js8z2A38q7y/Wr7Vm36htGsRUUV/5F\n",
       "xkcekCC3OU7L7KO7B0YX+hvEbUFCWSHjyr2cfI4JAAAAkwGeg3RD/wADy17Mf8wuMsqAEHozcted\n",
       "Iv0YAWBzHC0vof306lWvgbwMESJvTRlIA1pIifdbmCAM1jzjF7/yz8vt35lRdSwT1IDzvhngjvzk\n",
       "blRdsWgisb1usFt1iQinTs1XTfVr9Rz0XpRJXHLoQAdGPv2BcgBiy6eN7Zq5tczQdAc9OGmScBMd\n",
       "29a5E2CeSdGcEQAAAKgBnoVqQ/8AAeXCFBh66cgRH5UQgA1dVwvv6ETayUMz+kxSAlp4hGFUeFQI\n",
       "C0VyOIOQz0XFngSKcAMkRhFzAHigpb7Xkzcvcfdkug4bN7D2W6znnjCq++Z/k4vrjoPCXjPqClgd\n",
       "HEF4BPzRRVK8SDv/AOoBZsktRviGvfU4D5+4Hp2q+iVujMoHdynf9tIaadQZia58FI/XctQhUaQV\n",
       "cdKQmdcNnfG4uvkAAADiQZqHSahBaJlMCCf//rUqgABZOR/FOkVAALe3kZEH+xFwNgo/lBYoeV9M\n",
       "gAtZ5nZCaUdjJ944FAp1yNVUzaP3vY/zO8OdcC53CihtyhmGS86CQQWjGQE7LLp6NUEV1WNaMJBw\n",
       "YdoKRK6PGPZxWuMxQ8XPY8Oz2rvo/r6Ugd5uydvko0SD2l3eulC4X7PjeLVssMvw7D73y9rLEA2i\n",
       "Agih0D0RPv49OaNeQJRAjXK916c50q6kkeVQCIKd99vL2Yho6cxog6VJwi1cIS7IXN7f2Ed5vJ+I\n",
       "mBgz/9vh1CloQWFb4QAAAFlBmqtJ4QpSZTAgn//+tSqAAFmwL7+QAQiqnht+kh5yq9gqhGbSjIgP\n",
       "US8RKzIPCW8jPtCLd7/jurYjZKMSGaDxhuZITI7ueBSpk5yA2keraHhGca8+qGF6YAAAAGxBnslF\n",
       "NEwQ/wAAbkPjD8AFpEenP4R2SbAYh+Q/5nU0Lg6olMRgZFnOrlqaHdQe9tsx4tYcUcIg5A7H79dA\n",
       "3H4IojcSBOuf89MrP/O7EwavKk+XoXG0nk2AbYocKsMHbtCRSjxHGZ/6sTl8MjAAAAAyAZ7odEP/\n",
       "AADy17Mf48fK2gA2Yq51ak/UgGE0HNRgXqcq7r8lMOki5DlnT+2SVNL1qgUAAAA6AZ7qakP/AADy\n",
       "9jIrwayALaQQAbSiPhui3KvnMhPZppvd5gYI63K8asIh4bmh+ya1I1R1xq2Sl4avZgAAAkpBmu9J\n",
       "qEFomUwIJ//+tSqAAWUq2wAG0uKHZcq0Z6nfwzvZ+nSDq3OP7CbTcjCtLFes/23zZzMycHhDdpdZ\n",
       "kDmrXkP2/Pm73LyGhk6l07EGsWEZh3SNqxRXDGeGVAObFRDqIONKTIOnO7KdrDmClAQS/cmK7F/8\n",
       "FZCYKsmKxKZaU5chvy1NYQ454buIIpCLq0vJDx4fhO0PmMsVdNvnbsM6dulnyPit0XXZFZFiegLI\n",
       "xpX2X9v5gDlDKprAbpkrxDM0ipifC4v2w+6NUGUPW8XbrLFeYlHpn6PW+mlSaqx1cQXaUdiEKw+9\n",
       "B3rlKIleijMqcE1hHUR3K22SA57lAtnp2DnfQQ0UhmrGSPkEU3HptnWPEPLtKxGChRdpylArmf0e\n",
       "2F8xx9rZ+52ByYyXjryqW85iOGVrWwrxWWbe2FhY35Ed4+av51sVnxRh/r//k51BGPPRr4D/+tgm\n",
       "E5ixlqApd4E0/OpGR6525SVaL25u/mUyOO30KPBq/n9h5HKT3gqDS6hid4yOg12ZLEBfrV4uQjLz\n",
       "eReNLkQtWYvZEO8HnifChyAmxU/zRvpRl0cyvgMjZPyeWNQ/98rXvDGfps8qgsi1EqXGQpQxV9nH\n",
       "BTXE2KtJ8WYWNUoFQUzrHTfO6hC/+FFeehQY0t0dcDj2QrRiLWEtMQWzWxyOFCE48N1AMMVgS9Sv\n",
       "HGy+mrNomqBaE3in811sBJlMup4bW5FREoab0yBNmI9IEmwMdZjkSn8Z8IajmEUxNFEOqlBTAYgG\n",
       "kw4TAv4QBgfwxGmAAAABO0GfDUURLBD/AAG5v6xrISfQAbVdgsKKZp7dnEf9Ek4+f2JzGH6nmxqw\n",
       "UaRw+utRhmXZkZzMFdraENiP9+9faqSWJ9JrR9+Qt6JWzxzVXJ3MURM1XCI3rTgWWhe/7hIbm2P6\n",
       "asnDQH2z/y8HpgCfYtB1TX7tYR3ImDq+wE4kJRZsdjSLI2gPHxdhBaieYg1J/40KBpPq3K5ACjHU\n",
       "KBLLjC0f7tox3aKt+qJp47ROpAXgJ19E3S2AKD/8F2MOSfL8vvykJpthSP19SS0IpWjhj59JSsK2\n",
       "/juygd0YA0CaX8gJ7AFlcCLH8a8tHjWnBDnrhgERQGg2YI3pST+W48KsHGYyKm70nj0JtOlgzP/y\n",
       "xPgokoWN0xaWi+BHtvuxySK/xxB53yVam5BOBk5/4kl1lC0ngaayL2ROk/DZ3wAAAI0Bnyx0Q/8A\n",
       "AeX8zVrya1fcgA1C/PucxHxO665KHQrbDBhpHdoRIWW6szWcRFZrMUTW6iim/8hAJdVlj2J95Oc8\n",
       "JDAVBr74lSRaZ9FqNHrLIe0esbBlvD66BDI6WTvhc3Hf1WvbtW7A9SJSXggN2E0ikXWUYTOvrKK+\n",
       "+Z8ygLPw16yNpoA3Es6NJ7cAtYMAAABkAZ8uakP/AAPL2MivWTeCBVACDF5IyVy1WnAIplipBF9R\n",
       "LBG7hMPNcoS0Wb/XiQ0b5MMNNCTHmvpm17M4jxoEJl/YzjzB3IqS/1J5dvqWTjSqD9K0bY6wC7zV\n",
       "naKQB37ch0A7gwAAAMtBmzBJqEFsmUwIKf/+1oywAFt+pBUJGLAA6KQLjSg33EdNnX36WSV1wR7D\n",
       "MDz+C5f9WN2pUVnVrt0u6AR/gNR33/fdZDQ2tKkhOHtQwy8dkPV9Qu3vS0SsUllyVdKhew4F0G20\n",
       "IkJubYqPiqF5p1jUtAnxG9mMJmeBqGy0EFNnLINlKj147WXgjxHouH8SXFJJu0i6frQIWahdFTlI\n",
       "x3DoiKUdJBzeoFf0lc4PFygOpOCYWGtqmJfQee09taROTzZbY+qUASUqwVscVAAAAE5Bm1RJ4QpS\n",
       "ZTAgn//+tSqAAWTtbnEcjgAlQ2uq9RjIk1vmjKkZrhshi6+1QOdBn8cfsFO6xN24RdpJayuuXUc+\n",
       "RfaFqWus4Os/z1iFtigAAACHQZ9yRTRMEP8AAblhKwfPAC2SrzKfs1eYnS0t1xliEFc9Bks03CtS\n",
       "0RgdeJdKoTpZVz1jepH360wXJTYG8lWepz/GyNP0Teo/nRBNIKsTlmp1haXP3rvDr8otqYOh3Egh\n",
       "WeL3+/N5KOWn23L0Ymnod6Vm/OUTSmlSLiT6d1gvm0eRN5U6ZSWRAAAAFgGfkXRD/wADy17MgAql\n",
       "WRzOGbanx8gAAABdAZ+TakP/AAPAXkYScBgAQnLuiB++4T9Xndf5T1NNmBs+T5ZkhxG/owg266BY\n",
       "rxJNzUkcl+H2gXd96y5lJXsy2/4yu9vgK3Uo6NrA4SKrzvyLiSgu9i/GTsE+Kh8gAAAB60GbmEmo\n",
       "QWiZTAgn//61KoABZO1udQhtADZ9r/qZBku5/fwu6LsNycOXHmRrIFZqeLBjlnQWRHNeeNcG1aZR\n",
       "EmYhvNFn51ACc9fnT87H8/Vbkf9xh1yCxQxjAr0oSGDli3Z5eHxU2DNPeavAruZriFHCwOzBfn0j\n",
       "R1Bge4up4kGVLM4laBr7U0K3PYWsw96sN1rOf+Mrk7Vp0ULAbXre1ZovZ/Cj42jj+EJjzUSU3oST\n",
       "3QqYKNbeLXsPhShH9yG7E0DwfzHr5i91DbhmJSJOllwSDAaYpBMbdhoyMzG3ZbhioetULi07tvEG\n",
       "D9KgOL/NSIN3uW5DsRINMQyXrss6DDTkzz0gmvL3WYDd1P6GcbYcOdQSGlSI5RWLGa0gFggFY75C\n",
       "K8uDT+dRspRDNU3E/z8vCGhrhHvIccln7k0vnQU+d8amAD10Aacz54FyuLd5NDl9Iz7PLOMW1iX9\n",
       "rGQy9iQET1MZkfWrcZS+DneuqglgB/zG5HbW676KGulusIXDL/Bp87/rxzWmY7bRX/YhoOR/yuNy\n",
       "nNwh60TWKh/OEmashSmLYlXznZKbB+JjTNLcBFeVQFpg1tZSiTTFdGu0skfCmIjH5cfJ9MfUct1T\n",
       "vz80FY+d78DfUQY/CHHtH6LC4E6QlpDCD2U8exFBAAABLkGftkURLBD/AAG5odM1CbBWXY4AF2bX\n",
       "2a1396SQiL1f+iiaDrFcrBq9/KE5B5hY9Bj+i8c7rWyyN+23cBeY3xDkA6kO0Kc9HgN+kj+H1Pbv\n",
       "CgfS/0V+s4jOOT8pSwgELdjI5Ku5EYmyK1ApjoLs+0djObi2+G48qyx7PX4kdHaZ1Ek3xl3reRxD\n",
       "FkKqSAiP90sKtqPuY68p8exmgaeWUpHGGxy39ek0VcFfZZ3cTJY03Bi3dEvmdN33J9NcV083006I\n",
       "nTr/9SJRXtLaABjgGxdCxxBxm5lDkd081oYbpuzBbt9LKWuu+c96aL9fnfhEG+LL/laRAo3qUf/Q\n",
       "HipcjyOckgCTTWrfDQfL3hyEqRTkAoiWfYtKag1WMiJ7z76zgfBKTVVpEh9YzcM23EXBAAAAgwGf\n",
       "1XRD/wADy17MfDtEJoKukINtABCA+rnuWlZ+VI7R0TdIb9KAkrkCKL69wsC8ltIrdF2wDnhuy3JY\n",
       "6fyf99CMOV7tafDHD/E4OJdk/cGNHgp6O1kxtJvS1EOS5a2+Zm2IViac1hlEI3FpAxW8WiinrDk9\n",
       "Ae3PNqif78mJ5Jvs524RAAAAugGf12pD/wAB5cIUGHf9ghuf3wqAEJc7LfRpsgr2iiiVahqnpkdB\n",
       "xYyoBBb9pYWTgcbC9YbtUtx7RUWbrMtqWc5RQo12yR8nkiD0mSo2g/CD0zAcYYn6MYNis4t3czK8\n",
       "uyDka2AkH7Ba/LMsMuNFytxPrhxjaDSfC1p7Cg5NgN2VnwYQ412MAhnmDS+uJwOc0eG4ru8CZ8vb\n",
       "8vnAfeciAqNq/QoLFTmjGabr99QRk0V4+Jf6g0oyhWwfIQAAANJBm9xJqEFsmUwIJ//+tSqAAFmg\n",
       "fCugAhsD/9hO+pl+p2BtXOedjGiWsQXdiRDfaMXriAcTAuQtbYJw1cKmyXs6RHT0PU++44ZepV+K\n",
       "5ld8jb8gvYxlFEZOZ+EKSIXxITxTrDXxfVjRMXBZQOHgzsARLpb+m7/KSgN6+ZnJDw+F1Gd/Abd7\n",
       "zmfV5gI5defH55sKoruQzoj8xB40XMCnnBAS33cnk5Dy8pEYSvqJMQV+FthM74OShUN7hhH8TGJ2\n",
       "gvWt2U2n4qygF76LhM3PBRqSyTAAAABoQZ/6RRUsEP8AAG1GfK2mV+AC0iL6VeP9Y3NjOiKtRGyg\n",
       "znVsWqwm7eMRuyfOAz9hi9dsGAb6dPSPU+nRAYNnDu8tMCVkPgMJtkjHa6nys3Ab0RaWhsADLluD\n",
       "QKLPeOIOkI1d/FjIFSEAAAAXAZ4ZdEP/AADyojWMs6tTUQsQ14aDqgQAAAAVAZ4bakP/AADy9jIr\n",
       "+m2FA05gB83NAAAAaEGaHUmoQWyZTAgp//7WjLAAFt+sxYqksADhNQnlgAIg1KYnVYt1HzrE05ww\n",
       "eOAPrZV73O4RtU+J4kAKX/qxjAXuynP6EnqDG4/cjeFH2WxrvUnQ4kH1i5ANw3OHyhsrn5UJqAk2\n",
       "JV+BAAACJ0GaIUnhClJlMCCf//61KoABZSrbAAXuvMxRBTY0ieDSGXLJwjlOSlZHoEStscdoyszr\n",
       "IRkF193p6KpfkEq8SYr5y0e5k0CfbOy29seS3emZt+rOzzNHmwTSp5Ujdz5SK8g1oVmAqP2O+lFA\n",
       "hcp3Aefl+VL9fsq2TV/W4X5ntcdtxXQzuVkd/PO+DGu0Yuv4E6Gp7+gcTavrPGdZkY4LUJ2TeWAZ\n",
       "A3KmxpDxT9DWH/ZoLDBuuAvYY1au6R8e0LrPq1qt8MuEETrUein//2RkymfSdNq0M/+RohqzqKvg\n",
       "noOGAVM0Zm2JvFxjqnZ5KLS8FfV+AK0he8PkvStnpYvgaX6JEsVZUfxQZ4Vx6HKqGK/eRw/cnDO/\n",
       "2MHRAcvPiY5tyeWrHfpVqZHbPYcUyQij6RactL4QzAJYQW+k6dw3qN9m5jJytJ7QagVDDHaVUkGR\n",
       "Lbs0L3QkDRozexgewEC1By00ij12JDACbbP9RSmwsEyjimJbfXFd6Od3SVkR7XRp7jEULRyYtDvU\n",
       "qH9GioHQhLwRe+iccy9ixxvncltCqy/otfOhXAxjSkdJSNDDzScjwMYuDZ4O57DxUKLirMML/feN\n",
       "+4GbbsuR2Twb0OBXyBSIhnvLxTliEyf3Bz1+gPrfscxUf/fj38Ii46XAAR37QF6RvHEu1a4N8pq5\n",
       "Ok7OL3U3TYVAULRBPaI2wJfk5HTthPDJLpNn5rXtSJH+ghkEnDra/R6rPcGAAAABJEGeX0U0TBD/\n",
       "AAG5v6xqeo6noVNABxKsI1a7+9JIRF6v/RRNB1iuVg1e/lCcg8wsegx/ReOd1peaN+23cBeY3xD3\n",
       "cJmLcfXo8Bv0kfw+p7d4UD6X+iv1yXQB2J/ayPYCAH/ljPJfbHmyK1ApjoLs+0djObi2+G48qyx7\n",
       "OvPWMk1r6r3QvO/+qOP4e4EoytQdsZe+lvEGOufB9Fl8HEBNVaJSOJK/HboAGh4SCgX+zU4DxDlN\n",
       "+SdmRnnRVzk3/6hb9RVApSd/M2e+R4BLwvnr536ZCYko8F30753oSL5rbeiC58eH+jLxbaiAUoxU\n",
       "OpedLct9vkXkNSm7+AGFkyveKPTcjUi1TqqX5ITWsvfOrwQc9Y8PGatyNEv0UFLZZx83jFIA4IAA\n",
       "AACeAZ5+dEP/AAHl/M1fAK1obQAahfn3OYj4n99I0C8RPov/D9rVQpDp2bDxt9+Y2WAPSUT0HTSE\n",
       "U/nzEscKW9n/if83pynUas+1TqF+/gUrlD/mt2DZ1UuD4fID3Ka7BtBiKel2YUhbOHLlzMM7130G\n",
       "d+gDYue6Xc7fEtfyWnneM7q5+WlE4uhTPWzo6P8IICW9g5YdrxkdxSU6UwwnlAMAAABdAZ5gakP/\n",
       "AAPL2MitKsJ1iNcntjtABqYDn0G2P4gjHLxJulv48BIVru65c2U13hYNon5Z1UfLRO6zX9f45mI7\n",
       "Qd7a1skn/58j+c8eTHQL3j4dsblHeiPeovHBIReCAAAAgkGaZUmoQWiZTAgn//61KoABZO1udDbA\n",
       "AFqtyoZUCIaiuwtqDcZvz0Bsa7FHaK4J+w2Q83C3QDEvbjUwr/wipN9PyTPOA26ik9f5BvfMRUuF\n",
       "9gvBdfdRB7zzWj8JqR1qu62klHhR8lrIKXHkdVCdnyEUoVR7DonyZF/ezwjQrqHbnPcAAACLQZ6D\n",
       "RREsEP8AAbUQVsQuat6ACxbd6/fRXAY+ZPYE7pXoTg6WLsRuNk1+ZfgMx3jtFFxtkN0U2HexDtVD\n",
       "F7tdnak4/joFf3N/D9zm2EzhEqo9FIhuyPnhxvUcLUfmi071Bd6srUdfY7HmVEJ8sbxhtMZRkvR7\n",
       "eX1PMPVD3/HwDDiS6BET9kDDhVJYzAAAAFMBnqJ0Q/8AA8BeMTJW4AQnMRbsuGDLHdGgInhrYy10\n",
       "k2gFN4mHIttLeGw5nPW6ZHtXXwoLVTp3x8sfPcUVyNorbcASx139MPzajodWJXIzGNqRewAAABYB\n",
       "nqRqQ/8AA8vYyK/ptiyOZvUhH+73AAAB6UGaqUmoQWyZTAgn//61KoABZO11OX6dQAjasL+gf+lb\n",
       "kw5eRVqc8hDcFf2XjHKnATSIJEn/H/9PoPjMeNd5LATCB9zsYMOw83Vj+dpiIsthiCQEeK98ojPb\n",
       "qnKc5QJYH8ElD8FTvyG7/fc8pkz2rBHxX/mRJ1Pb35IT1GG4EMFqTKsEK1vruZq+rtxFjn9aYh81\n",
       "c4egDBD/oO4/BOzOsaLvUzcR7B1ioe3xsdrtiHHysuKQZ8EOIhrXy335r/q96eabb7xS+3VBKqBp\n",
       "h+Ug6jtBDSiIpjr6bHMuyjYLVXsYccLwi0PUKyDANbY+G95UUkvjR4bqoMIoDoy1SrZtm6f7uKO2\n",
       "B2nCIskNBdkJPEX3ySx814e3Ilamy2LkxJgd4neScTPQhOxPdiaMtgGsmsFIqnTTEhHYAr5hi0rO\n",
       "jFMhR4lUANShy81gCidXdEMydPcS3NA/TCcKRSPHJi9QDw9l2j1m8zY7lA0EsgggshiNyhbqiWNa\n",
       "wC2NX676WS1awkE0UZSxDb83GHysTMKrhfe7+u7QHvAJu5dO40dP3+Mac1T7oncnvK55s8xJV1CP\n",
       "YWGDJWkKUYoABTQoRYGKgl09mYRWAgp5hEMbXgyKhoWx+hPKxyQFf20zFFdLd74aE/Binl0mH3lp\n",
       "jQAAAJhBnsdFFSwQ/wABuaHTNWSvrbGABwdu2jIJYmVCXPm4BDhKXGVVdHrsjjL5yH8E2/6b8zqa\n",
       "R0E/auE8X8dIsihVDjbgYWwgLyJUKQKhZqRf+BhrUiFYy5B4MZl8eaf3Bi3arm3Sla2mg4o3+EzQ\n",
       "TQQnAr6hdyk08zM0XfbqpXwXSES2KAmH6m2fSQfSSTu7Dy6X+7SR2ShMvwAAAHgBnuZ0Q/8AA8tg\n",
       "FIATTaGlOgPyGfMDL6+xySL1pSDFP62N69lTYI5DFGLkixwdEXT3o9r7IT3q0D8bTemCLG/e+ubc\n",
       "VXB2A+a9XWozHH+5tRo9W3h1ggSidwsQhZ2XuNYQKAKiEJFrJ2/c5GhH/j/WiusBHc85wEgAAACX\n",
       "AZ7oakP/AAHlw1SAE1fHlaZTNPSrOJAOJJm4exvmOjfjxo1YKWN3FCYDmxQrx3MKmNlWq89JYYvX\n",
       "mv3rHREr2e9wOlE55ziQ8f4iK43oiMUU2PXjC+znUJB/fPggfEOgPKy2XvNsNbIUj//BaFOAXRap\n",
       "lHJ3CXcrSiUDLzkjps8SZq0E60J/ZJef7Nh0hxIqG5KRTUKcEAAAAZ9Bmu1JqEFsmUwIJf/+tSqA\n",
       "AFt+cYngAo2EdS5I4VivyP8T2Jjqx67gibT29ZYAUDP3crfCNxeBVtEwRQcbOkrDBhMetJQmSXZh\n",
       "a5HcNhP+sQgMGCiwkY4lymTNcy10mxCvu+jmk8OICshZxjpbIIP1rdKxxBaDVj+5N8MZf9rqmv/+\n",
       "EP55APyOgHtRVsOYfbkCODSTIqys7Z3w1FxAvFVy60eKLUsSFxGPi9rQ0I/BqBM3I5T/v4LBdsqw\n",
       "D3X75Q5NHzMpfDUN5lGqNoAVJg2fVk8eQhTuX2S9xewr+7YcZQYcdzozIlUBOtBTKB/LkoJV8BAH\n",
       "oq+VVxNwVimg0w8xSqKK/plWFEGFWAzMwZVDeLjD/qPcC1MeU46EJhI3jPUb5LvLGkbsl9tH1+r1\n",
       "vaV2AZkZ4/aF2Pc0lC9UavIZXlvXjZDWMzdn5qZEDSp10UJJe7eZSFuvuHnPYmKZwEUxJqw7pTfn\n",
       "7/aMDQ22PMrIaH4qIkEJGLI/2J1xajqIoOzugC14AUPORECYyU0d0bJLpLAf0J57f+h2Mky8uf99\n",
       "AAAAOkGfC0UVLBD/AABxMsyTUbfET1ODqsAFq898rjej+pVm2L1aPRIhGkDQBDi+ilJgOcMxIJ7t\n",
       "FZyQNaoAAABQAZ8qdEP/AADyqPIkhCAENma6cGr26HsYtiJza0XAL7UiCaontOmEewNwpkS5BlvZ\n",
       "VN/RzOxOwuP9L1PoBL8UPsOunmdt32w730PF6EfpaoAAAAAjAZ8sakP/AAB4CP9VTSk251e80AH9\n",
       "ADV8wC02H5hr03VpMjEAAACcQZsuSahBbJlMCCf//rUqgABZSrbAAVIcdhm0zOT1hnjlolwdT8Q/\n",
       "tAR4LJHSJtlVnWRr4tu2+6CdKuE7VEzUzu1sIFaJQhoEVJ5pgCCfsKwns6YadmUjO/+WGTeU/VQN\n",
       "vJ/cHdE8ekpMeEyA6/HlQksImv4SbZ1QVPgqB5WDJWhwDy4HlAJWJNnzW1J06fBoKVT0x3Sln4U7\n",
       "iAh5AAAAe0GbT0nhClJlMCCn//7WjLAAFvwcfYGHyA9zHtnmlU1SyAB2YPCs5yfYIyszH8zQGlTd\n",
       "2FdfhVFdnZTHmj3lzgj+jX/qrfcZgMQ17x6PDlVIW/EfwnEZj5PEGls09Y17L71sM7WbmnzP+Fvd\n",
       "ufaJdniyTzL8F5heIIgvTQAAAiZBm3NJ4Q6JlMCCf/61KoABZO5QXar0AGZABlLh5NNqOlmPoQor\n",
       "vhhFoRZC7jaiA7+BRI0DRe6SoRQ6Dr9EtYgu7ACZkzaD5cinV6fs3wFJ63Axm3CnMATMrpoPQTyU\n",
       "jwsSArZO7kEs0U9O97xWjyZddMxe1C6n6+pEF2utlGKTyg/MUiCip8xyJkVcj+1rfRl7xWmi+hyl\n",
       "mny8fBsJY20cjWwd5JgNdlZTJ6vS0m1LC2DHO5bihp69G7YNcrQUg9yaBS383Of4jXDyBUvo9eL+\n",
       "wRHp6ZMb7dqe81uKVfj7GH3DPTANGLc7XgtKhGmid603t7WoFrRzD3IYZt1IG1hz6V5kk7Mz8ZGJ\n",
       "mwZMIaWc7RiKwfQwgF/53JABgqiWAUiy9tNKl5pdSn+REIB3juq/dxkgABA9kVCQ7D+HVDIsB9Ez\n",
       "tib5R7422OqWkRdEPRaysNR1bjUyrmj7czzKNExUJNihDuv4krq5hmXD6B2X49BTc7DoYv4Yz0nz\n",
       "rGdq6Dcrl8bbovfEvZc6SnCR5rU5LgbAUxcgU/J2a1qJPNSAQ7H9MonqLigCaeJPM85zHx+7OHDm\n",
       "fgboSWcYIV9oH7OA00zfuczHBbTUXnIvTouTNmdi3z3EywQDfTXtZP3s+q01wEpvqUbwxkpENXPv\n",
       "XCjkPYEDoxl1mPd5Od/eKHI349JqGvVmHtOTuNdUolqv0bOEugcPkwTxsSlIFbqFkGvh5CQvvWy1\n",
       "AAAA20GfkUURPBD/AAG5v6xqepD8V2OABq7Poa7/aG5SLjHkNB4H4Qe4thNE0b0y+kiV3Y5CLCEs\n",
       "V1RAbEdXwnL/CRclukEYto/KqekN4PaiK3jlz5I8FMIHa+aAFso6Fjb9pVxCCdsNmish9U4abybR\n",
       "FKY5bGDPNZ89n03HNAgcQ8UOF9SpKL0VJazrbO7MrpzaKCaFkyGuvn9kXV3otirwSETQoMPxrT9R\n",
       "geXfhDLZd9AhYHmaxAfrImnCFr5Hj1e+z7LZQJ+D1BlE7INZ0ITYanBr27shDfSbrzH12AAAAJgB\n",
       "n7B0Q/8AAeX8zVqvvvaBABq7Eqo+PrCKO7vHjz0PQTga05l/jPE+s7t4p6HP6wqzayTSow3e6PAR\n",
       "jgQ/cBs6u9wIaNMtv3nUdSnfQPZ/boC1XM5uWM+phCkJMLkjxxd2F7TPzTMyyD+2jo11bmDS6Zk/\n",
       "FsQt66Q+Capy7ZGXQJC7feZK0U96Ny7EOlSkweAYpTbeJwv44QAAAJUBn7JqQ/8AA8vYyK9d5rDl\n",
       "oANSV0sU/GcX6MAPYc/RVU3r00LFa8N/AoGbberG3SiQ7GKwSuzDV6b91sTMWwxDPMFqLz/7YrNx\n",
       "00uizibTRx2easRdtWgd8b1usFt1h6GlO+arnrh+BsfGZ3FPye9JV8vTpCDNIAYssxje2aubXNXU\n",
       "qswfdNf50vDjZQrAQHd2g5W8QAAAAC1Bm7dJqEFomUwIJ//+tSqAAArvzvf8NhD2gvAA6kwMRGZt\n",
       "aa+noqjk1YxUmYAAAACaQZ/VRREsEP8AAblIOH1uACVTbVJLNk01S0tyCt+n0kBEAAsE7JTLRff8\n",
       "8cO8xaWvaGymCsiJ9XRmeZSTMbjH38x1KvGDnqD/7FioyxVQ+BlKG9Yw7LYWfLVnUnvnbeOHDblQ\n",
       "itWaO3562frE81hb+VSa8Zjo2RU9O3lqfzu8pQSsL8VE0qbf5VA/t9tiQjpJKrSZSBdSpCJc5QAA\n",
       "AEoBn/R0Q/8AA8BH+pF9EZwAQ2T6zW0ZvrS70JGaM3lRUe5J5p1a3v1hrht+nd54uOjLclBNoIt4\n",
       "ed2yImxq5Sm6kAs1zkRFEHQC+QAAAEgBn/ZqQ/8AA8BEAtXc15wAQ2T6zW0ZvrS70JGaM3lRUe5L\n",
       "FwQDBLOsNcNv07vSDR2t1EHFbQRbw87tkRNjVylQIH9i8KuizfMAAAHxQZv7SahBbJlMCCf//rUq\n",
       "gAFmupfg0gBFgb1V5K9fqyDTQBp6fUnNqNBzCnR0oG2j9dS+XFFu5ZcplkHl9UoMY9V+NIXK10+P\n",
       "NnUjzdzI6Wv8Qj+LmWgTcCxCkAw6bcn6yXfq26cxvmKpjLaAefPcT+CncjLht/jER7l3put+AD5a\n",
       "bXYrLWRvDTBdo27UlN+2Wwzdp0n1Xxo4jzxaAGN8Np19wcJziQzCU0qm08vAbgDWLAuTcJlFZ3uN\n",
       "izamWA+z73qvw4xYlvmg5gSdWcOAv/Kc1McVxtzhFmRDKSKQ4SEW1ttkYO9zD2Gy/P4UsXIlmQVV\n",
       "UpV1+YRoNT4H9uymIKtGOfH10H2qsKaXCKLA8cUf+2F/6u9/SXOEzIJQj6tZL0YqcEOkNX6kDdVX\n",
       "N6GbUQJP/TSYUkHdbPHPAgQFeHJGZcKyq6kqdwdNzxt98N/aQMNimLAAPTNvJ9DSrgmY+hTgItoi\n",
       "RuGlW3/ak4lkOMCNyK9Xh0/MkXaKDUGNqlEXMU5KtF1h1pwxPrkg3zpnzX+FHcHU3+5GIOPKSnn0\n",
       "3PjSfYR3KofCnTFJu0mR3tEwzpOe/X/If+yn27TPkIn6UNNeUqonwaqu3ko16/tKx2yniBOL4bku\n",
       "3axep/EUusqpM7/rRlD4mcSyQt3DakirThkAAAEhQZ4ZRRUsEP8AAbmh0zUJsK2IDugA2q8spQd4\n",
       "dyRi+4YQvznF4KIkmsMf/gjaZB3YuE9qe3M4tk9bjrb4S1US1szjoeFAtneTGavIsBQ81fHqEHEp\n",
       "Q03+7yTfaGlR/KWKVtyF4Y6xmhZAQ596PatLALnlZUgvL8m8H6zERCivdVgIg3CSiBabYSS6Ul4G\n",
       "RO6cTobkCH5SjmRstM1PmoLHv2QglwUwesHT9/MDxxAieSbYCxFXilg8xGFQCDL7lAtRkJZXbJLD\n",
       "ZtZxOoFiZ+PU+YqVVQBOILhDxJ9neeJWp1e8AXxGf873t+JGkqBelBJiJZgqb5FvSZHXfiNmyIZE\n",
       "FEuLv2WNmnlh4g4POiafdGgvG2HtQbN3thNqhMgIUPjogAAAAKIBnjh0Q/8AA8tgFIAW9dgiB1Ga\n",
       "VkRV8XLdSwLPs9s70bQCc9YcG4gdG0dwGh1hmqEya3rXW8ODo9LbU0eXHw9wVSTil0+L/iTdoHzE\n",
       "j+koY55uFTjAtRL2rca8wRR3s8NBzXM+LoqQJ970y3i1/1ebt7vzaX1RETlyzbdNcjXEV43dyrsy\n",
       "CIDaxXt6lFNZ/g5CRsVN5sevOb2yieVErZChH3EAAACvAZ46akP/AAHlwDYAPXkLW+TKZdEm62nu\n",
       "h03eyR/Lxi12f8q4cuTtCL/B1SviVrpmU324mi968xpVIu06+Rg5nCNA1jOSsf/j2LcFTaGGefKr\n",
       "d21zQqAj8WG8pKkiESOSabPmji/gXu2kzUZW/5hrjo+xP/xKZqwnPUJ4KTg/dNi/uYclifapQZTM\n",
       "JOLhzTbv4V0liVxVQiHdTUGGvjStq2Zvt7fBqnGl/tA5P51JCAAAANFBmjxJqEFsmUwIJ//+tSqA\n",
       "AFuAXkHpWrSeCAF1byMiD/Yi4GwUfygsUPJ4ZABazzMu5Lah5eL0UZvql6cX81aivDj/M7xEf+cv\n",
       "HPooFnvGcjBp+rghplf9KEsd9XKsXiJnbsGjq4HbvLw9GgW1j9VYCOydHIkJPseVqFxD/yqTDpBe\n",
       "5Trf8Scf2E0+8Cvg7zQR/VpHUbWxJXpMfL8RDLB283rISxDpCTsVppZeCz/nzLth/qltcn1g37qj\n",
       "0XmZTAJMrVQwqOKF/V0tUUM//3HbJQAAAGRBmkBJ4QpSZTAgn//+tSqAAFmwL7+QAQg2bG36Z2ZN\n",
       "+s8h7bTvc6dQSXiGiudzROZg2oRbvf8iyL9FEAVzRZmnrQNFyuy3kB6jJbAdAI/TMxDhZGm6sSOX\n",
       "a3V0wIUO4/SrM/iTAAAAbkGefkU0TBD/AABuQ+MPwAWkR6drXbxp2xISGyH/LXMS1jXmwOXoSQaS\n",
       "J+2u6g9yDqS6r1fWiKYmGHJ8BZPZfsHKNZrqQ07qHnfCAH2MYRCFs2Casm62Vrq44K9SXq+RMTTf\n",
       "97DsIo2IpTiueoVIAAAANwGenXRD/wAA8tezH+PHytoANmLsXRqT8OBh3FUx9bxHDmPGI/Cb2KXl\n",
       "MOnj+CiuhAcez29HpuYAAAA9AZ6fakP/AADy9jIrSrVk1R30YAIg1XT/7XwHGuMOBd912Ik3Ovzf\n",
       "W67X73b5RcaWqSeiL6KobBFg7YybmQAAAj5BmoRJqEFomUwIJ//+tSqAAWUq2wAG0uO7uDG4wFES\n",
       "DIwuJmZTLGscFK7AQWBHOkSBy5Ip/WiVYbfqMzYHPSGzgKvW9ClKNaKvQOkYFn2YnvkOKlNFSpTv\n",
       "QbgP8WvDPe95tkrvgkU9o8eXmZkTC7CRIqJL6A4yT3jnizjhYUL+RCSlZDWriFk5QEIn1YFzIcfM\n",
       "wRQcfb1RB/ATobHWVV8wDPDxEftPP4p5HLPDvQM4iKK+kMMYfMaX24bF4ce6EmxnGnAgFYInmZ3X\n",
       "CixMpIX7kueny+JT1/qYlvRRYao8qLBpfSiIr9yf2J8hDuuK5lKahAVEjjnsh6DLIpeAhDrET7dz\n",
       "Gd+ALNuD9FcTR7VHKX7hZWMaaYppGfe8YfPdV7VHNnV1ybdyrLd0YtpmUJ/QgIeeW1yzfr9oW2HH\n",
       "icueWjdn9fGerCyMLqxmF+1aLFMdVkpoDx82jdst+i9cJNn7WKi6ld8pJfsmM69pMKcCSY2tMM7d\n",
       "Ap/r4wUvYJwN8WyQaOU36X8qJqvYt91mzcXQJvTx9iHlaI/8oMD+yL3r2YW1POOqETyZ/uA7FpUH\n",
       "loUWe16DKUjQqzm+97cO0e5j8lRhWaVIi+aFcfGzmxnFNJ9Nvr3vbWZlOl/JfLNsJ9z2t+adp1Zx\n",
       "cjqPmR5RHB2sZnUXbwx3GEAPRkqplYjtGZYap7DdflmLzgG5vfgLNuq4A1HVvqG2EoeFK3sK3TZB\n",
       "e1el2aDIaT6UE6duSCokxT/CFdJuds7dABLyrpKYAAAA2kGeokURLBD/AAG5v6xrISfQAbVeV/j5\n",
       "Wk9Ks4j/oknHz+xOYxAyPGjWfDfKH11qMKy7NaSzGt8DngbI+HCaiA/iTDJs8cxVygyAZa9egyqj\n",
       "acCy0L3/cJEBddhjSoXvzSTIdcuCdMrfLyoWa7s9DOoIZAAf3HMRvdwPjXLGME1rIylBZhJPZy45\n",
       "5iNHh20er9JXT5Ovi82rOM/kyYhx77OA7MUAPKUDXKTvVUq2fd4Prf1ExuBb7Uja2MK3gfaq6p+v\n",
       "GnwgCYV07f5y8NtFDwNTr4lnVr6KfHwhAAAAfAGewXRD/wAB5fzNXwCtauTABBxu/ucxHxOKuK2M\n",
       "BMU8w0ke0zAFlurM1nEckO+OBrbXVywGtNXfaWdbLMoTzg3CwwnJQ9fy5/fQ/Lpk3QS4psN/p/En\n",
       "4fbDEhFMDHdXI/XJvMUNyO+DOEDMUnSj17hH4uqF0pMYkprSgEAAAABuAZ7DakP/AAPL2Mixooms\n",
       "CnGtwAQgPq58pWbeiEsXsdn/umaOCP0xNk8hA6Q+DOTXx7pGIuTGNY6QJhcZRaqPe6pFIntzlfuM\n",
       "ExsWl3LJh9n1kFkeX8NfnzWU4lLAXovbP2ftvBEaIJf5ulwBH4UAAADhQZrFSahBbJlMCCf//rUq\n",
       "gAFk7lBTm/5YAQnDM9EYfOKkXK30WBmSh+g/f6+UtjhSek+NZ4juDdgtZ2yQuoYP0jXi5UPR8KK/\n",
       "abxq/FDDrNDG1DUVX0iPJmcs1earhQobCAPAfT9ez7kXUZmo49YY6AErMOX3MbtHnFaQrz19ZVFD\n",
       "43FcdRxecGdc/9zN7lKJaei3eYt4XLk9MA/G6QOCSYZs+9Jj+OYo69A/a5BqKYcv3wG0z4FiLi+d\n",
       "IzJMryhERxI1uoYKkV/f/8woR4Cf62e79887ZfIpYoG8rB/sBpeFAAAAd0Ga6UnhClJlMCCf//61\n",
       "KoABZO1ucRyOACVDa6r09ysmc/f3ozWwtbPoO6ttsODP4kwkGH4ji4jn8KuOL0REy4E+WBcVIKi7\n",
       "dacsCtY5mrukh95r3gSiCnQKwAD4FKVpyyxhjtl7R/jNyWZ/ISOfkC9NyHVnTyudAAAAjEGfB0U0\n",
       "TBD/AAG5YSsHzwAtkbxlP2avMZllOvK5MrVvBZ3tPAIgr8BmHi/6xYMcdG7ZYgQckoP5e5rZTZS8\n",
       "lWeon+iITThE10OdnBvnzi0t57prwNhBhF5jCHio1yGsEwDseZYu9PIzIN4bo3HKyQ6gEpJH/g7n\n",
       "gAFPmk9NNdkTQdyoSZIo+/AZs/8pAAAAMgGfJnRD/wADy17MgAqlWRzDS5eODAAiC5drRKK40OOX\n",
       "I3vjXwjk2J3LvVdplQ/yi5ewAAAAWwGfKGpD/wADwF5GEnAYAEJzEW7LhhCT9RTSHIMQPSfPs+T5\n",
       "V5KrLHEb+lak0rQLFeLKajWxYXeLlID+d7txdnSpg8Ce4/7nupR0bWCJv7wf5+qRlFXaQNpM75AA\n",
       "AAHlQZstSahBaJlMCCX//rUqgAFk4yZTQh6AER2N/ge2ylXekYV5buQ30Z3X9+dHbQ+tZdlnlpsc\n",
       "ntyCF8wN901CSRujZn7g85h8BObddfwy6LXhJo2G7HJ7kQU+yyE8iXn6VDRzWo5FxvzLjSY3yIFg\n",
       "TAyPkNKNQE2yoM6XZ89gZcjmg2iolEk0rz9EdIVQKkSAfI+mkwnpEq1jRGvFz88Q9pAhY6Qnc24a\n",
       "/DttV2l6hev8jwJtFYxdXGCGY9pDDtGzaTwcy7McCBQdQRKZF5w/jYePxHFqkqODHQIs5DhoKaz+\n",
       "+r8JJqKdWuxJvIg0O9vGPfe5WFh5ZIs81xSq7aWlUs1AgfTcR2piwq89ClFePHKzvec9qs61Vbyg\n",
       "Bi41eSkD/V8k5RV8hnG3xFAPKfd/fEPU7nD+uoShxyWfuTS+XUMC72RiwOgQ7u/rQYrrnOg7Snur\n",
       "NbdVAUrCxOzfpQreDFELzA8m1Yv0N2JZ2ivDnhJVxki+u1s8dZlrdBQmTHM8ea3aHfDkN1MO3kMC\n",
       "0/XCXTEapeTDPRB3uSSLjveDwbRtwkRzQXpckozt3MCkyA9JMjskGw4Sm4iLhc8+YpUR+r0ALkLa\n",
       "RrJmYYkZLoYg4r3R8jgaUoP9oQ+96z1pbPCFB3WiW/EAAAEwQZ9LRREsEP8AAbmh0zUJsFZdjgAX\n",
       "ZtfZrXf3opb4vV/6JuR52+lYNVzcQu5bcLHoMf0XjndaXmjfrWkF5jfEQGOpE1MvYK0GekMgY/xS\n",
       "OwKQZpMGdRucQeRX/9obD27GSN2WSWp6RFaqPwuOvakRyNjGH5ziPlWWPZ63EnA+NCs/VitbFNpn\n",
       "QHhOSzdFONlyMlq1UPYeDlRmimbODMDay6heL23SaKuCvss79nRGB7tXP5gL4qvTstJSgcQQ87RJ\n",
       "Mlv/qLqWXsuserTGx5KKtxSA8QWtKJa8G/j03j5y5rarr03SSLOwrr379CKkRcWrKn+/7oBmrWMk\n",
       "B3V2QUeRG309wUr+Hi4oBXX6W/rF1/u+AEVxQ0ysJcRzu32Ec4wFsAeFCIp5JxnTMfvIRZi4IAAA\n",
       "AIcBn2p0Q/8AA8tezHw7RCaCr4rD6gBB6F1vPg3uOWvScub4w8/1wSTvaFe/cxNjeFdVe/lnVSJ3\n",
       "YOXANdkHezNqmGAmg8t1pLYNuYG1aZXrmtB5t+1kJbU+I7WTGs29LV+xXPiqOOjcV+/A+l83qOch\n",
       "LXyZ+9EEYZ0uNLDi3ovkZ3pJGeYVuCwAAAC7AZ9sakP/AAHlwhQYd/2CHPX3wqAEJc7PYe2BzCPj\n",
       "DJGz/d1oC627dHlFJhfql1rZ/U8rAHRYOQoPCMlN1mW1UQVTF1Gdi29ug9yePGbrZzrCgUeIcNsP\n",
       "RwZb3MrMahSo1LlyeQCbEjeKn4nswArQEp4Ld6ofpkNM2tUxTIbkaJhdChiLI/qjCV34cwZm865e\n",
       "iQA3PRu0mPUMXzoXgh6zpTIJHiJMEM3vFScOD6vDmzNnnELIU8G3dUj2CQAAAPpBm25JqEFsmUwI\n",
       "J//+tSqAAFmgfCugAuLyWo/ZCu+sdlZMa9RK3kDJmOibZexlLN1lVwpcneTA84GshdfOIVa5QMCT\n",
       "wnaSaGgi8vV2jQP62YbFqtLMef5zx3ZOt0HKncDIpHYzwYkQCHd0LeYSgZb8dqA/FU25CNIcRgwW\n",
       "blhsnAXk8phBJ+R1XBIfog1gSnsp6Eeo4pESC/5sJ7vhMYs1v19oKu1iZ/jcxi8kKk/+aB6QWAY6\n",
       "4h8cWmNtqv4EzocISOsXqWlA6f0iOk9fz5gKwMQVyVm8rqMAAPuydbiHo50y+bH41Ri4SvEK8Sar\n",
       "xBynawTR/wxIAvTBAAAAL0GbkUnhClJlMCCX//61KoAAFmlL8ywAOWFXUfCOqN08vxnCtXDR19Xj\n",
       "uE3mmNO7AAAAUkGfr0U0TBD/AABulfgAlq85GtwoHo6gcx0/QX9sNhz7jMmLcW7KiQdyRKKU2Oj/\n",
       "nt/vVW6QIZJLJq7bwy2dWJcFhyM4uRCexzN9pqCjqNbJkW0AAAAVAZ/QakP/AADy9jIr+m2FA05g\n",
       "B83MAAAAq0Gb0kmoQWiZTAgn//61KoAAWbAmQeKACE8++QX9Ag4kCmqxFjuKNGLKcUhdeYRVMAbT\n",
       "ywWvhTUF7tTYv7X2YgocZkRhj7pDA1E0lhF3V/RjzPaLhCzAzs6V9jW0B9CfJJKRxcqMDw7a8I3h\n",
       "Q14EE6hsh5rTdRUnghiVEyZ5/77uDFI81pU5Zgqksb+b3O/OCP3WGx+5r9M7HPS40H/EH9BeOGRs\n",
       "iKQFE3wXpwAAAidBm/ZJ4QpSZTAgn//+tSqAAWUq2wAF9G6k2p4rIke3tEhUBuzD1tzsEBLApZva\n",
       "M/Uvz4pm1PT+JFREmgT7yyvZFAT/iCpr/b8+bvctU59KsCZvNsk9w6WnLhsJmLHqsVpBmPyxVzYy\n",
       "3OnLsLXsXhaUbhBeqI8TGsRqkwX/A60qA608d2MoZjKJBTG4PgfsnhZFOM55mHRIrEpz0f2ZfRQo\n",
       "SJdjNxt5IsFLcKpyTNiOMybf4CX4qesEj/NcrtZwBYB2NF9Y6nE9uNyRcGv+lVrsoZFDTp3kEsNp\n",
       "wgpjyI9lgqqnaoGmK3EDxv3auxQIC4qIePenco3DVkHxkHvem32Mzeftvi9Ft9ESklLEoktt5Ae/\n",
       "mpV1EYdOo+BCSyAtFvvdUBhOkXKEVBsePs2lmf8vnYiZBhByzUeH3Ce1Lo4zOS1FeADlvpbsJfql\n",
       "sC0F6fUEuzTwPIYUlDCWKy7Ynhul88BNWHgKqrVlMRWGxzOsJeOBaU9Dc0wZ2MKBDehLXwRv+QCH\n",
       "G8BxAP9TKO7nkqEfC+kVQsW9BmUFvYaUDwh6UJaWIObKVG45oZlJBUfEaK9a1DMgLYYfqynNFuGr\n",
       "Xkfqz1imdTrHWT+BpfbeCF49VWNMerPTmHLPRKiu9pwxQcQBtfkkWQWA3e5x9iKQxx2pHKS3G7Pt\n",
       "DEcCvyU1cnSc4LjnO+jBuTAsg/Fu+2FKAU1fj0/lnPq3gVyqqrkib/TBtMLR0kviKAAAAN5BnhRF\n",
       "NEwQ/wABub+sanqOqHi4ACGVCmi1Haq9fDIogfvkVgzSh7VNV5Gwbh059jgy07T8RVxDt+5n5bHJ\n",
       "yDAGp8VaupQQdPCc78Wta+xeN4qIGXlaqozXQN+QlZVXynr5AOGiRUluB9MKrqBtblqK5Lobaxvy\n",
       "yFpEqQQqI43o25iVGiPKb9WxJXsVMDmnNeAUGSYKFvaJR2egn5ZKUaT7VNrDrPk8AyUeXozEV6aE\n",
       "0S13G96gdSWyGAG0F4AOHT2cEVJEGHI2USd9YsJ/107tXdDOE/4N4AE9Bgoq+EAAAACuAZ4zdEP/\n",
       "AAHl/M1aQEPSq820A9oAIA6f7nMTqwyMzZMIr32K2bANmn0KHt/0weXqb8PITHBiXlceKAkRx9Dw\n",
       "4CnqCkH5l9FnVfapVEFd5iOcb/ub6Of81wmEy+lFnCMu/brPErjynT4vE7PuvF/Bheyi9SgQfxQr\n",
       "eHCxoUrO8Qnz0lYqciiFiMtkCfO1NAnOOGffhAiWjEUi/z5QRXyJBWa1+QKhi3hIOsYuC6q9AAAA\n",
       "WQGeNWpD/wADy9jIr1k3GWVACD0aqopOslj/Rn5CBiwfOJvdFViduXLK0FUo7SA2BTNy0lJiCgB5\n",
       "zf5CwmrjayCU7dI1ZEffZgpSPMiZxNpo40cuV+W2LGEYAAAAqUGaN0moQWiZTAgn//61KoABZh1g\n",
       "JZAAgSQlqbnJ3HVCNUhKefqT/IhwP3S7NvzRSUVay8zziaisjdks8IGdOsc5QilT2deOtiV2Q7u8\n",
       "KlD3eUU57hApkdMMpWZ3w8PIEyUgKAzkfDOwrJhvA/EwmizJiA1aZZxWZceWklJtqkf9BMUWX5ZS\n",
       "Ru1x5C69K4rdVJs69OBeRbNxmX0kSZ6mrfT0HUX2Md7D+e0AAABcQZpaSeEKUmUwIJ///rUqgAFm\n",
       "HaEmgAXRVBWaYtisgwymlXKmEBfT+pLHswW41w/IKL7XD+9nLv5OJ0CzMqiFfghVMTqq+cJZJ7DJ\n",
       "9lj32gjYYR+S2bjloIzIy4EAAAB3QZ54RTRMEP8AAbVjMpXgBMsEubv/47VSguGcUgMD6JgOAt7g\n",
       "aHLIU/BSAg3DYz7uHaY4vviYOpAZSFo6AZK0eAuiWsox8Wh3fDrRSyyUv42HFg7dS3EVEKUu+qji\n",
       "RuOihxwTPr5JWRJUxnseT19ohSX8HOQaLIAAAAAYAZ6ZakP/AAPL2Miv6V6OhUog2pqxI+PZAAAC\n",
       "AkGankmoQWiZTAgn//61KoABZuJ6ibMW70ARvdAmsSims+HG8ydpB6av4SEU+BQELbhi+KjQdwn6\n",
       "hT7apfXtphReZNUILl+w8R4QdoCzopWaEIdY3/h+/wyMvwWUfSMkdp49od12hPStUj5PlErINePy\n",
       "/wO5AB5qAvmgrhmX9GzBOiQ0Lhtw2IATcI1L0QkCdpIxA0RAmpgBdrqbe5i+VNUURqefpIYGgl5w\n",
       "IJl6CMtvQwDerI/mh4PDEsbFdyZLVJnrAolVVfCEn6a0/Qmimu0ipEezxGWt7rwpmyw6YXifeSQp\n",
       "A9w51W8yhymS5Ltra+dkQM1IC5NUaCOpzz+ziWkUXeYECX3/fbK4vGon9XE263XzCumhdM/TxZYp\n",
       "Gt/InZbJdOaNK1NhuiWY+PvKEeHitEE/ut3y/bdnIfzB2aGk18nCpoBqo1lSOVBRZRdG10eR2sfb\n",
       "j9YBJcUKAaGi3OMPoTh36CDOCo5cVt3w7hokaRts7XMI9NPZ/chmEueLhSrZSkIq7736PgDz3URc\n",
       "uoIxkg8dxBLw0m/JIQekNdcORBE4w/57nP5Ch6o/Wwq8V5nbyXrg6oMAMGgO9COuOzPp9J8pySh0\n",
       "ozwg5juJB6BmDuFSe5G9sGxGP2GpnnDdBcmOTQ9siSUKdmlibT0r3V4pfPP5kNdoIDirEtMjWRi4\n",
       "bSAAAAD2QZ68RREsEP8AAbmh0zYA0SeO5Up1wAXzVjbrN/iAbqcdFcfVN+Id/h1hvfpZ/AoMXPXX\n",
       "34JMvFgs7wJI+1thk5HJEFVix5dypjwZ3qlRb1fjtia38+zRsjs/aQKm043q0wP4ojy9WbohMQt9\n",
       "0UknpAN5YsPprMG+xyZtch6ANo5GkrwQHlrhBSNQ97i6Ag/5iA/YKglcbCRXaDfD3yTCmKmAiHIy\n",
       "iHZy0t7upuyqDr0C/XyG2irllYvPC2xuviFU6+aI3Jt6POpgQc7PHW01PNKd3/Ov8dBIqoEtVl03\n",
       "TQhDhcjwstn5XRMAEz94fZTeDQeoMV4RAAAAdQGe23RD/wADy2AUgBNNoaU6A/IZ8wMp+12wk9VC\n",
       "myq4bA3r2V9YjkMUYuSLHB0RdPe3jYUlgwLIUDkANCHY96AbcVXB2A+a9XWozHH+5tYzzDc2TTJw\n",
       "q78vk6NaXuSAE7wv3iWABftTR1CVEkSxvXNutBoEgQAAAIsBnt1qQ/8AAeXDVIATTaqTsDjaWND/\n",
       "PF63jPPcpjY8nkg/ausfo/WrJOVxQ9kUJE28kwZCChUmeMHEWdeQemJRfHzBkvhC/iQoA3KuG/tm\n",
       "/o49gor5JtSimv/grXlmOFUJTsmTq+Fd/AFjmMrPWAgmP7uOwjvFxj6l+pwGA+OtL5m/oTbuoivi\n",
       "5pfAAAABnUGawkmoQWyZTAgl//61KoAAW3w3WkioAH9VivyP8T2JjxYlYgQTadScMJWiHfwbeN0r\n",
       "SAuGbwOlYZBWoxxLhmtJBwYiZu1IIwmw9lGV/Djx+jKxjiXKZNeRrXSabk/YYij10oYBS/MYxRPk\n",
       "8juSnuQMQSGA1ihABo0bCrKc//4RCJ48IJFbOcmMfcWH0ZYYwrNjCGPW+KwotIMcrRCLv5qZPfFn\n",
       "sbtm46do2CDcpN5J9dmKVdPepMhB+RLJ4Fn4yASF8OhvMdYdM7lRJDWmHI3uPDuZoPDlXK+7a3J0\n",
       "HOw1DLTjtECsb5BRT0aOwuweheb/ravrv8fXzoBrh1Isq6J3OspQBBeXVZLAKD6r9QbY/rhCEXP6\n",
       "1oI4B40s4L9YVWywCLhvNFdyETJFytgbiP95YDj57zOUON6mOM9gkHjh5CYstPAShrKVH+30yAg+\n",
       "4amdWAaI9qlv8eqYiU95FUFn2Nqh2FoXN6WG6+qfg4qIlpnSycnUwz5dN6gKEgp6Sq6AWPFY0MWm\n",
       "rV78uabIRatc4kPPo+4m2PgDX++AAAAAOEGe4EUVLBD/AABxJ7hLKifsfGy0EwurYAASPkSBbOGp\n",
       "VUowFE9PdstLP5b0rorvsBGsZPyRhfYlAAAATgGfH3RD/wAA+FeuZgkXhABscgddqbbOTtiHLhMt\n",
       "CSZuZSustPFY/EgY9WdhS4Yow4ZfZEUEIT2eSYefaVdwpnaJKbGaFMiu/Jv3K2NFqgAAACcBnwFq\n",
       "Q/8AAHgI/1VNKTbnV7zQAf0ANXycg3UZfT05QX+5RaTvtukAAACMQZsDSahBbJlMCCf//rUqgABZ\n",
       "SrbAAVIcdhmI88/oWth8Cn0j3wq3IffpN3HeGGG+PvTMd4ZJ18zyuYYpEMAhAa+7jEFafNs3OBiw\n",
       "ZpQPbrwLoGVHZ9fiYjOgv+JMd/qEiPzsYYEB8gzJEBfiH4TJRIIubYxNVRchMql7lk2lmfMaPLb5\n",
       "S56YfMx3UuAAAACQQZskSeEKUmUwIKf//taMsAAW/Bx9gYfID0tP9sqIVLIAHZg8KznJ9fAV5eH8\n",
       "Q1ipvVQ1zjbF6SaKYs7QuLchH9dsWZV7vxvNdzJs5DMwgjmfIqiAEI5iihI8eyH1fDyTlBtlnZa6\n",
       "Vrt/bp1x8+5wIVKQv58Hy4P+V+BzoJni93wbN0Jf7A7t8HL2Z2xFVxeBAAACMkGbSEnhDomUwIJ/\n",
       "/rUqgAFlKuzAAP0AMY6k2xzN/TBpA9eBdTLBnAnAGH0mooepaIenWrQn5FQSWjlkPxJjURzsQPs/\n",
       "zwbXTijTeK83kcd8oipdQfA7qXRytyLoozIxsoFy62PLVIv1EvA+B51wewDF+BbVGjmKgaTgg7Hh\n",
       "N+Th/y+mRR0CaYjse9uKTZj5ax8ewWOtZG6m6jf/wjlttCKoZ2QMft1exEXMXijzX97xO2/wbvcr\n",
       "RL7Qd8eEIjTtkmYbvs9ijknPIS/tjv72bN5t6/+FrrbXYSGH7K+8NCACGoLZZwV/YW1hzViFRytq\n",
       "rz10FerBeW2wOon2I8Su+ekbh9jkKabJzuB6bzJo5PV/OqJ5rTSCM77uNZABXMOGPb1DbC3/UJft\n",
       "N2KDpYy1tqjiMjcOs6DI/5usfLe9zWVUYPsY/tH/jzBRBzUHlF/s/l/KpqO3V4uL1X716gEisWcp\n",
       "SScPGaOFQ7jVPFF3ErCBjB2W5AIB68R6gYrtNVSMeAvoo4/Gdq603yJPEhJPxbBT0KlSKN2U7cQb\n",
       "TamU2vYtIVsUxVEo9bWtUKjCc1Af4LTmSTDqD/KtGKaKMMjc6zhEa+eWe3GyyzgBiXbVfAoRPjNf\n",
       "NFOow1LQ8Gmg71dZrhTU0VUgp9fhxfswZdgjGpryhcMe7GVK9DwQflEIAc8nnJwAyAaxVlNHoXdA\n",
       "wadI74XgQRwkGx53PMQCkSBvjIZ9qthBt+JGy+opaVLH9Up6a4MAAADYQZ9mRRE8EP8AAbm/rGp6\n",
       "jqehU0AIG5VJWQmlm+Ui4x4+WnT4M5ajG1xOpNgTImw2T/j2U3ebkDpkWYzFXtDZ1W2rZwR6VXVz\n",
       "XOQMzMkhPPqpyADCmCUkrU0rxsgimroIV3Osz8wv7IzysDEYsEjM1oKo7Q52KgS2JhKlG337RtKy\n",
       "2vyvF0OALfIscWDSln8PTYkAypvuopPDvw6pnbO2ZikGsf0giX7Rt+6st6BCTbuUj7sCphu8lN+G\n",
       "XraWr/4Js02DK8r+hsaUf0DWki8Zp9mhqdN+dQOxAAAAngGfhXRD/wAB5fzNWvJ0a5CADV2JF5zI\n",
       "3/Obj9fFFaclxuQ/57XTkJJzxinXlC7PE5TAfaUjDdvkhWs5uzr9iG82sCQh3/ruvvNt8Kr5iXau\n",
       "BejzGlZJ8VcB45c8uunfdnSRC/b5Pne7CS97JIoIJELorjNFgW4HDF4fm6TndnKlroXkzT8Hf1uM\n",
       "a3DfMBllZGOwBy4/nhphP/eiVQCBAAAAmQGfh2pD/wADy9jIr13mkVhgAh8e7/XzBsHLd8bGoRWx\n",
       "qDMwW4eRzEbf14EyqkgVPzeMucVuDMEIZ3tu+jeE1a2NlJZxS+b4+kHd/8HvtjEIEypsQF2KQeMg\n",
       "4wQLxi6tjmloN7M+YL2X/3ScdE9qIqIiYwF7yvLy58Bs5+T+Zju2r7VfhRMfMaLKX2hvG9YMo3q8\n",
       "c/BA4m8y4AAAAGtBm4xJqEFomUwIJ//+tSqAAWTtboZzQACu4E+uDSG0CdiDbAw9a73vK50b/Hin\n",
       "AjjV1xmA640oHlizxzbuZHck5reLuuHrb8BeRfle1SYiKIKdC3HgMCXI9eEmpuwV9/0pPbTLwzZw\n",
       "zIITwAAAAKFBn6pFESwQ/wABuUg4fW4AJVKpIP+jJqCZjHklqZ8bQO1JbXAZTLRff88cP+O0Ud5M\n",
       "SCnGLLIp6ddpV3qxDtRbAmY0f7zJgcXHq6W1p/tyuVU9TNWldEzFVjFac8ddds+jc7ddCiwXLfi4\n",
       "pUIwhkx1Sr2pBXj5GQmo4Ew72e98Wy+l1B+EklAfYG/pQC1iwJZDDB5XM50psOtkYZmmR9tJgQAA\n",
       "AEwBn8l0Q/8AA8osd6twAg5KMzyIgrPVS/BwEGSF7vcXlqNifF6Bqj/yek1jWVIKtpC3HFPu1gET\n",
       "QsXPITgs+rDIUeDMjbzpua0gpQ3yAAAARAGfy2pD/wADwEQC1dzXnABDZPrOo5Mt/zGisYdf+1i7\n",
       "QgsgGBNe6v1wa9RmjtbqH0PnANrkVeN5od4QL/KguK2bE3yAAAAB9kGb0EmoQWyZTAgn//61KoAB\n",
       "ZrqWb9IARYG9VeSvX6sg00Aaen1JzajQcwp0dKBtpIdL5Yw5NXVj+YQNbCIC1rOG7SQuVrqCObNU\n",
       "lo0p5eAL16EYxc8UEXMkxrcdFoquuqHIH8XXnKgtzA9JwnQGDluAQy7KcyyY/qyrGbDxg7fLXk8T\n",
       "cUyzYa32WsO5Hb+wKEthm7TpPq37sJktY/hkwJFziWavXeo89kbpYVlOAePMe1ZBHBs+okpYl3VY\n",
       "NEWlkDnyCtSbYgte+5EDXkufJ9hSuNehRXTFCCQaVvk1nJN7uX30FQr/sQ1VD32ODaBtgh7wAvhu\n",
       "oIkyPX6CPVfMwpA3RCj69QMc2kb7xYlSnr4tfoelwoorYOoCtD72P4aOcViFrDsx0DgXsw4eyb8w\n",
       "AaFyQv4uLVTQH4bbrLeIHcmHtS4jEo300ttpGE3+xnQ+Ti9Nje/gAILvVgJH9Ykms1wlQQW2xI3D\n",
       "S7LPYXquU5MI0Hwmh+BMb+KqSWSpYDyLXDKLEyAX1DgZY0T+ta0XL5E9IFuVfiwYH6OH67erm4SR\n",
       "W6jGINDT4U2wRC4H8/+debGy/WehHjSw6vePmw2/ZFPQUgsXRqWO/S0Rfb3bgnEg8x6HUSlBJWq4\n",
       "OfVvnApOXP/XCXH+rovNGYqvbAYa9HopFssCxFEAAAEcQZ/uRRUsEP8AAbmh0zgGWZFQAG1TIRcZ\n",
       "2MzcxYmpiG77XEFrWrz9dE9+AqehUnQ2po4xGwwhI9bjrb4hej2uSYMrOFEIAQUoHRj9q4w5jf/U\n",
       "gaKrZXrgomr9pOrplSnto27c6rS4k/DpnHsjZo9q0sAvckHUKAADh0VlMAxdyij/80EayO3gM0mP\n",
       "P74Gh49GyJVRtZCsqvPmoT4ZXX0RI8jZqRn4acmEREPeh+/rPFiZCQtuwNOv/uTtfW7JuXnSMNnT\n",
       "6u7inE78niSxNvlxNlg3thGcO4+He8cnsays6OrAVyxhXsAbfm5uAjD46v54x8Z7X4Kocty1zZCD\n",
       "8cqv37S0miiDUTKAQS7Hd9pw5jB+4yU6o+sMFDunlcEAAACeAZ4NdEP/AAPLYBSAFvXYIgdRmlZE\n",
       "VfFy3Urya3O6G2gE57zsH9M4knNw0hcOsM1Ql9W9x13AyxH0PqNxOn3N7hbr5dRsh4m2ZQG6lXc2\n",
       "TGPHVFbZVcyeS8urIahPkFO/Oihu2qmxiVEbZDWQ30/JQiYFCzL1sw8IPYCmOGqdo3cWKLKVlF7E\n",
       "fsyews9Yay05l8exTfKuXHpcyFmk4IEAAACnAZ4PakP/AAHlwDYAO5SJJfO15A9rae+/WWXiwy4Y\n",
       "thF6rEMvff2Xn4Ss9whIYAaAKHmgd28xqNEiaU1QYS3Cz8D646iIr4o0D7habadzqohoKASQzQCy\n",
       "I0bygEOuN8k8+Qkc+OKy3bGfQQUuDXTNHyDHtprP6V/PjAny3v6fn83ZlIaAS5sMLTRwVFpSP/LY\n",
       "sZtJgoKmtO7OOZBZjgJD/EcwJiPIqMAAAADUQZoRSahBbJlMCCf//rUqgABbsVaai2vEj8AEtbyM\n",
       "iD/W1BEWrK7Gj28neH4eN8NiyZWlFU115tCoISKuvKrvjxm345XXTe7Q9DZWmRKP91l8KgRBrm2U\n",
       "+JiWMoI2KLu05vtsGMRvDVbZT1GpccIrGXa1Gvdg3mvbp4dvgIto6s9xXy7b6Jd6E/F94wiDBLjC\n",
       "jSKgd9gNkTnC3y+s8RlbPVtyQdOVMUIG5QhZXqBdfyyOSjwEkcNEWuHA1I1ZTVsXS7dK+gGX0z2I\n",
       "T79u99nUT9Cs3zgAAABeQZo1SeEKUmUwIJ///rUqgABZsC+/kAEzNm1f4q2wpmgySjNFUZEB6iXi\n",
       "Vkc6KiczBtQi3e+sPK6vBYC51NBDsn866+wZtEAqIh2Dgosycir5VKHnS4drdXU8BrqDFwAAAHhB\n",
       "nlNFNEwQ/wAAbkPjD8AFpEeguYvFARJ6AA5CNp+C0bGvNgcvQkN3c0aqdQe5B0sh4U64gU3lWHJ6\n",
       "cb/lW9nruYdlfTDyA+gBPA2wucVnRAy9XJaTkdWVkdIIO1FEfK3c2Sdnk9HovafHBNEr992NzDfv\n",
       "ukcKURgAAAApAZ5ydEP/AADy17Mf48epeAD5WhPDxYxh1CJ87zLymDL3VcJTzFV72YAAAAAvAZ50\n",
       "akP/AADy9jIrViIMwAfK0J4eL8UQ2ozANilzsHdexlJi3RcbTKciYy2Vt7MAAAJQQZp5SahBaJlM\n",
       "CCf//rUqgAFlKtsABtLju7gxuMBREgyMLiZmUyxrHBSuwEFgRzo/wG1aowq0Tpk2/T6qj00Df5wG\n",
       "Cp+FcyB7PZUW+t789WGBb7V4tpSmi6Wif9aWRJEHm5XPF5v4lWKnmoRWslCYZFS+MahqJgrUz/09\n",
       "yOR3ghgmpGNiwzjjSLt3HK9EWgNh4hGjLrZxAqPMRoxE/1u+6akekNDUk4vs845W5EANbxO8JLcX\n",
       "yKhLIu0ToGHCuGHzGl9uFI/nQAiKt3hLgUM5LpeQx2Ivg1eeFKyOrAD6+0DhuA/A+cdntxNFY1wH\n",
       "UjvGOhMvNyzCuIY8ljQAXY2BMPSxEJofSJqtx8zqJhlC4UtPN7IGpQ7d0gi3u+HYzfL5VATKOsET\n",
       "+V98p1Rewrrjjfs/aUrbGVUJkzHC6nKFtA2XPeS4fL4fZkaVsgCtHHEzheM8rgAJEPHOGfP2eshi\n",
       "7fmgPXEc2yrkf9EbQRCiB3mqB9Zq4jpOitX66vtQUibNfbDwBf5+Xo38rmtkl+5EuU4HGv2Pqto4\n",
       "sYk70CZ3E+70Va0b0tEctVgKlgQWX9NxTcEKZtW3/oWprHWRLZdmTzTDuwSwnpVyCb0MbtbGg2tf\n",
       "ooc88CyLeDZQkHYVKzGTUganm6WlI3rkupvBiiDGXssenadKpZG5wdkLiHgZGXz8LC8YTqHUs/I2\n",
       "jAP3G3a6GQwRyv/QHljidepD1UsRpmWI95V0bU5MpShHyGInJjhOoGA6su1HWGzP2gap/rP6FX7z\n",
       "LMyTk99bgBUlge7kEAAAAUlBnpdFESwQ/wABub+sa4RMh1QAlf+W664/0aWAbQV+hM87qxMwJnIx\n",
       "U/vHa3ptx3w9Oajsta0StSzwdBldjGNekjO8UYvC0LfKtk/X3AkeGqMgSMkCTvEHvP31lTSUl2Hg\n",
       "H0BIs1vaYPBgw1iVFbOK0/WUNz9ayOi0LMomRFrMYZ74JR/ZukMsvqsTy0B6dTGCpYwbHf3mC5qC\n",
       "g5HeQyZP/JwuRRJ3lplqVaEaglmkPNzrTTDlHKDdduQ/K4eR1kpPtQAlzLy5qrZsxJTkYDEZP/4L\n",
       "ZgPNlGqJlxs31ndhnjyUAQEM4xW4Wiw/7WcMTEDxufDwGbbw2SL5b/+3F5mkcN6PTAw4WGVzHyLO\n",
       "YSpAfnbbndDY5dzejRUdlGr3s6Y5ROubI55rs0CmC4lzyWZkOSE+hedxwzhnjheYhKfJgzU1jTlo\n",
       "hGw++QAAAJoBnrZ0Q/8AAeX8zV8ArHTkwAQcbv7nMR8PBY3P4xdiw5leMGoVmZVDlLj/qBfJBfWz\n",
       "eKHcaPP+WPwJjVwHB5qbDnYH/S+eZeUZqOL+8uU5IDvqlLsj5AVq6OSomqHzQwSh4WGFo3+r37Bq\n",
       "thSpeJJCk5+thlzlDy73cx0lhDNYxJHl9WxH4Mz82YYdYKYY2jo02tYCXIdjlCQhAAAAkQGeuGpD\n",
       "/wADy9jIrSnKISRCA2gA2lDzQIVLJrpVpqEc1m65Q0qYfIjisvHIqwPsnLMnxBOZfZeArZ3/rcSL\n",
       "9JcSRiTEKR6eQwaX+9l7+VaCL0Oc1Kjo8lDhpQU04Zq2K8ao/U2NpKreN1JEsVViHgugNPjAd0RK\n",
       "Znh9LP0rEn0OgopiCI3MDvJ6mAeh9410dcEAAADdQZq6SahBbJlMCCf//rUqgAFk7lBTnCDgA1ix\n",
       "lo/OY328TJs3eGcqXyJs/N/b+UkaIpWr5JqxBoN5oLPP5unF5+bRNT+Ho+FFftN41cF0i3zihnyR\n",
       "EuH9t8JjiZoQIHPCiLosn69n3QNIpJC17NkAJUsQHRMLgMT5OcVJ73MjaDgLy9wB779Fg442d8ze\n",
       "9E9MYlIIt3IBl1LnyHa69J24AMk0uw0+kOJOWxHI8+3EjozzPR/rFuFIRp2ILKOtDTPq+doLXdDR\n",
       "VL0ZWv8xNekgGgJ1LqHZGGnTuQ5AL1EAAABWQZreSeEKUmUwIJ///rUqgAFk7W580vgALByzy0TV\n",
       "Jk3kxnwFWJrt0+ItzPOojY/atWq52pakMUAaz4GTKA3T2EkxvAspX1W+ScFOgS5iy8PMMipPenoA\n",
       "AACDQZ78RTRMEP8AAblhKwfPAC2RuIaqZ+NBLKdmS1SikbvQ/b7qGzQWX8QCZS/zbkdDgbtliBDS\n",
       "Nw/eTQlM5QDIGXnnf8P4lsc/H0XdER6cYX3Qh2plnIQKCzFKnjj9js3owDseYyNXgB9zofisq1m6\n",
       "OyDeg3RAmTqpYLbkgSkpcS9aPykAAAAvAZ8bdEP/AAPLXsyACqVZHNl/UGABEGpdrbK4PQivI1Za\n",
       "ftInXgZ/+tr5J7f5NPkAAABfAZ8dakP/AAPAXkYEIGABCcvQlC8DGd3R88m00TRJu+T5ZkhxG/pW\n",
       "gFQ0CxXi00A0m4Cu35EZNAFjaFJUJ738EQa6bICUEv49Xf/9KiFCILPKafuOU9us0RLJWjRNPYAA\n",
       "AAHEQZsCSahBaJlMCCX//rUqgAFk4kYyXRegBEdjf4HtNTTwCRUAh17Gk79cA62E9/xYgVTHFB1q\n",
       "KyhaMLsoDq+IixQb1jpsj09kVE+fOwVKJXtJ8gDKmSSoMHPs+D8C0WNF+TRwR98Hl7Q8OeXo5tWd\n",
       "/V/eFRtUUZilP3ZESflm90ADTLRJlkyKaW5q9aSr2R2QYRsZIkN1eFrVakjIgyibXn1nutC8QNw2\n",
       "M1xsw2jeCkbd1UhsDZN4GfoMJvw9Az55J5dW8IPIuo0kjbbcC8a8Ea8diF2knagVW9wYpsrkqOmS\n",
       "BTIXRLfYhSTMfosC1haMB/pIsoICWPy+WwCFYrsxVEs36dwR//SD55pf2DAnYAL7qWv8R/AypCRk\n",
       "zzdwdbEXbk/7Vt5Zy35WwqPS4xCX/URNcIvJESjy3oYaJSXFC3FIjxpzjJdQL2LI+izN5QNP0IB7\n",
       "hPAQOzntHJe1jX7G5/58jLLPd/FQxXUeewESvnlBpsYqsjExGoaZivjldVJvR7cwobK5vcudmpyx\n",
       "CqS8a2qZUlpdfmJYyZA8R8xhpo//pLCQinKzTgAp1u+LMOSdwXQy3kvddodUygdIBH8ZDuFxcGAA\n",
       "AAE1QZ8gRREsEP8AAbmh0zUJsFZdjgAau5mIaTI3Q+QzGS8TyfRAYDW4zfIlrD5x4Z7T8zPTejvE\n",
       "N+I6eICakYqiSjB7ez73Qw07BCRu4JjVM8iZzus9xFRYb8+djq0Muc/1Yi3U01svmkXqd++Xo8JE\n",
       "5iJJZKkud+CQEXynXzcM4BCB23nEcAOX0VECO3PeZ3x25BRRTPkrME9/Qv394GRSaEcuGZ79wQeL\n",
       "W9r1mjQY4s194g6nhO+BGQzJ4+vh/P69FItP0Nr5z+Ohms8pOHFeOEFt8U+8J0Fa+oCR+V+HiVqa\n",
       "mzdpCw+eJWQp9jAe8WFSA0OthnGeRBfyiwwOc+BHyVLyc25ycYoYAQF7khmvMBPvMPoQxXeKzC93\n",
       "de08qaBPJZS5AB8UohDjgB3iYmhonVjrrZwXAAAAiAGfX3RD/wADy17Mf8wuMsqAEHo1Uo/OkX6M\n",
       "Zn8kLIqqb/YZQ2Svf1L8FI10TfzTKeC+n201AJlTdIHdaZiPUlirqLJ4IxPs5gSrPMfBNrOszeaB\n",
       "42yfRWt6vhaCtX+xv5LYSYFHVwqtDQQNcIDLCkhyHiH3N5WxMW/eXvaUe10LkZlz/loygIAAAAC9\n",
       "AZ9BakP/AAHlwhQYd/znrZeTIVACEuLd4/Jd2w0oyCJCSVmFQS2DLr0Oc1ce/teIPqltEcS1MPAv\n",
       "Gyfy2BkxWqb848MQ+sQLoQFQS0RVzmXXTWLYnb4hvVizudUlcw9KKLpfJCHcDVunEM95k+i6issU\n",
       "ua3dxrgVL2XH6r0Q4prSWdu48sU1nMPfOY4GcMTPgl4Jz9hujI8oikqQG0oRDMgFZnoRT/8Dda7Z\n",
       "b2IcgvL+RVLOhMTx7GRPtxIRAAAA00GbQ0moQWyZTAgn//61KoAAWTr5/R1fJABOa5vU6rx3U8AG\n",
       "bTMWSL6dKRdZiFTIwTSUx79t7NLjxtiDioZoOxenWjBMpUz51lJiHmCH0Hae1T9MHZmndPcVBHSe\n",
       "zmVj7lRQm4fvmkkuz14phSr9FhYnJ8PuSk9SrE+tsSroL3H49W+pZNYTV6paZtM1aydXja1HHrYM\n",
       "DpJts128d8ClwBV+fgUr4XqzQqmTDsSr0lDb+cR7bmw3VzVhghaOEKsTHlFjEH887v6W0UqyAqSW\n",
       "G3E38SYAAACAQZtmSeEKUmUwIJ///rUqgABZsDTdoAIMFJ1MsTSrN1nzWfRGgbnC+rjRnaP4d342\n",
       "y1uQHqgRr1StW6qsEubRpKPPrYr8CJ3lIvt2xcMYdrzOK69V/5VqAnqgiiOCqmtBRIYHA8VTETaY\n",
       "7jNyzgXHiGPn/gvqOKYpxHlGLUvVrOMAAABPQZ+ERTRMEP8AAG5Wj78AEtXlgdL05oi9pjSy77zO\n",
       "9SszsguzzVCumeNn0Qw+CIHqntinKIjH6lCkiTBlxPppUMYH/Shdvw1iSPCRL/RojQAAABUBn6Vq\n",
       "Q/8AAPL2Miv6bYUDTmAHzc0AAAClQZunSahBaJlMCCn//taMsAAW/BxgYWAB18bBPR4ugFAD2l5s\n",
       "T/k9kityR3iSlQOyJ3ybfgwk6jtgAjLqN8MLearDeOSpto8BykoHIjngi3oaOW79MGgESuWpYpdj\n",
       "5I3hQVME8yyO79jwpDyUAip0hj2CIb86MSudZO35sgeUwjfOvq2OGyCy2tEeAG27j9T1YmGIIZiV\n",
       "/b9Z2H5tl34Rcmyq/iTBAAACJkGby0nhClJlMCCf//61KoABZSrbAAVIbqTaneJ5ja6LfWtTip40\n",
       "KRBbJvk4e/XUvz+xd2vWwKrzyg7q0SzXlAwilVgcirPFNn3UTuOmlH3xWpzCGoqCJ9U/h1cnc4So\n",
       "tyyTNyrymZ0TKmn7shppdmRXZ/8FfDAdCA7sk6KD8M+vTV5E/7vmtVxvXIG1ZiVUtd9hF43YiXV2\n",
       "qe1bJSOr+sYgyApbHn9Bxn1kHKIAF5GaegkE7tvnfyQ66GDRkYGaLn40hOIo6MC8Be9fAxJ4dvNl\n",
       "lZ8e1mmmkPEpaadmBXo/w20j8J8zWOuaLOePhSCtCyXSIVEj1uMRzTbFcF3QYd18f0GKnBmfuU11\n",
       "uwcQMERQUz21yjquFRLk/Nx57QSiAGvOLIqzHeSs6DI/3yM4RuKTXIJivjB4kfn1sbuwcwMPU0so\n",
       "RdJSobtowQ9vyTtu6koY3OOVV8xeQjQd3LL2pOz9a6aocNZ9wu3dXAWGq9n/empnLk4I/JvQzdlx\n",
       "KvoqA3s25bbEtg+JIKfgyinoVLrLq86HFdaCKcmnl9R5N6i+1PqItFPqLjrYY/moGIC9LZDuTmJs\n",
       "7OOyVSPY0NN7LeP/sUl5pfusKKjZkc+ePHxoOLQXNSRpSJHjoNqKYxdHtHewrJastQZv4TuukzE/\n",
       "3D61vvnNVYq/pmLNTM2fkE29h519PmAd135yJL3wI+M2HES8PdDUMpF/jen0jjqCXP0hYEo1wYAA\n",
       "AAEwQZ/pRTRMEP8AAbm/rGp6jqh4uAAhlQpotR2sKGpoPAxNCvnXSkHXmq8jYZxQ59jgzN+kY8l3\n",
       "mIRdDIWQor24eKNc3U5/OlNgpO9BQ2HHVOi+Kyk7mf29WqegAxsX/28vtYBLEAjPHR+p2Wll4Jgm\n",
       "oUUrP7kWPkojZqr6d1Gva8JUabA6S3tRbGtamyNKE0Pu6hy00fe0wuqL2Ciw0cyQuCw5R7ST8jRJ\n",
       "MsSkcSV+O3QBBvsvOWgvJmWws8mMny+rpFSrI0B1n//UseRR1OnXsW6SazqRyf17H3padHZs+nyH\n",
       "oQMagZJVht0ny4w/ejQ51ji/4m9UwlNln1/YC0Uzv8gYjo3Lb27wMxTrVSWBChDqE6wG2q8286g6\n",
       "GkHNe3NJ8t3a4XaBve/dNLZ8gBmTvgAAAJMBngh0Q/8AAeX8zVpAQ9Krza2VFQAgDp/S4CQjUhf3\n",
       "p4Xe7S1xK0G6eyr966L1k3K7xpOkDbiuPFAVezZGxDgJqLo0kwMldbqxcr/KwDwkuiOYiwsniQdz\n",
       "ToXoqHsRrdsvQeGSSwtFjvymXpUzxyg7pUTYZ/TFY2N7uVduS+EipOsoSjvr2w1L2OLVTJAqul69\n",
       "QIEAAABbAZ4KakP/AAPL2MivcFbDloANSV0sDi0oWUJn/kIGLB9YRYavDRdmOG/gGlHaQGwKZuWk\n",
       "oavCU9u8qQe62mt54zYyRE1zg0ySuS33wTaZ+djnEUnsih/bKZegEAAAAJRBmg9JqEFomUwIJ//+\n",
       "tSqAAWTuUFNmLAAFqtyrOO1/oyfTFRMBtO1FUSPDQsIryrf6cq8lPW1tux7d0TufNfCU5BuGq424\n",
       "6Q/oiQwV6AhTGdOzg5KUAccjsY6aciUzqw3UXkdN1WxSv1OwLeD4ECKJ6om9rFliesFOhwjlc1Kq\n",
       "LaW1ZzztMiRrpipgTf8uLPM3MdBgAAAAnUGeLUURLBD/AAG1EFbFTWregAsW3fU8FoQIcxavoqOV\n",
       "tYgM7YO1A/vE/+g9uITbFRZg+rioVUMbBZ3wwZtxm8iiWK0RfjtUgWYmm/sNmzfxcq4arxF5ndD1\n",
       "vnzi0pn0EdZfc+ML0iFqIUyZehCsfmOdw65pMTg6MxBgdhwDuat6sQXGNS/yupkh0CQgIQUYeJl7\n",
       "11ihmOsHcNhRkzEAAAAXAZ5MdEP/AAPLrjJL71nYkczYujGkT5EAAAAWAZ5OakP/AAPL2Miv6bYs\n",
       "jmb1IR/u9wAAAdJBmlNJqEFsmUwIJ//+tSqAAWZQXkvLIAV1syVclezJt6Qr4DT0+ziloy113V6o\n",
       "uaED7nYwYdXAurH87S819UoMZVoX0gPZg7x/mzkoyAlzv1V1F2EAuUiPmuKZgiihcuDn/t5n9eHn\n",
       "ySUUig3wDD+c743AKboVpAl71th2Ia/BpE2He1BJB4Y4Fy01w4kYz+IO5oKqe+NtpR6NFXR3V2LH\n",
       "sli65uiNVLWRtilykI3RMyYKPkx9cALBa8WMtSUm1uXsO6q3I+8dd6BfJwyVP1rEUW0k2qK6/gAp\n",
       "qXqPyAcmUjQAQoblxp1pR7xfXOp2UxVS59VrMsy8pzaCBwv93S7hodq550oMD7CifewpV0v9xOyi\n",
       "RTs9fgaKkB9NTYdADhTgBFEwXSvFn6gQYPAYo/XXQE1v6QBskpHdN68VKOfDt2PSqv95vtGHMgzi\n",
       "rlmq7sJTDn5hYSO0zWjS/AX1uUBD//mz9ope2T6YJDFzaIlWRSa748ULyD6Rh2i24qgf+AygF2ZU\n",
       "HqtOvoQXFBsAD3AbAY7uzAM+ar+dvR0ix5ToGfYtggBOTbk32761pk3t3ABPzbj/eVHezilmX5AA\n",
       "fFdwUk6SCMgYeJUSi66aefLdTpBAAAAAYkGecUUVLBD/AAG5odM1ZK5WxgAcHbuVtxgLFCL26FMz\n",
       "+S1xL41W7qg5RJc8OCa+Nwuu6UAT5/Cdbea7ZOHZPJsEwcX0AhELBnlvIWcgGznfJIO4vyyzOsAB\n",
       "IHPsqcmax7CAAAAAeQGekHRD/wADwEf6lFTxgA9vOdl7J1I+f6wNRV+HgMgehRyhWhv7VD3rDteD\n",
       "CQqpXMSGkOA/Y0FKNgd7Nch8BY9lzDks033k9eiA2ipaUyfRtza1mOGG48AYA2HEowY4evNWm0jZ\n",
       "lqXX590LMudP1BrxyvM2+gJOGbEAAABnAZ6SakP/AAHlw1SAE02qk7A42lPSzAT4hyu0l2GeeTzN\n",
       "gaLbX31WtWSok0G/txYPm3kmEVbDenWwcRZ12jj3Eydpua7zm/iPhVpS2FJ3Bj0KP+s5AhzqCEbF\n",
       "AfEPFCETvmPqX1gvgAAAAZpBmpdJqEFsmUwIJf/+tSqAAFmLhk0ACazRQ7dzc84YVk1KbuO8cM53\n",
       "WFP/3eMBnW6aQFwzeB0q9PkDHEqoEj0NdxPFw5zvwjTFQPd0r/hZEiOWspk0oliSVDSdHuT0S4SH\n",
       "gKqqw2GT0qHaIDgmAniH6ZOQkrIRIOEEyvf/8IgiOY7l26efSq/AKE2NnycKUGzwS2dyyI4NSJaq\n",
       "vbFxUbinhVfpz5veEhIJdSeqanZxi+H6g9RUF0vqgkJ1c8tXhIoNtMmjcLqrUwzwV7itmmXkb85/\n",
       "o34sMag5P6ED4oMi80KHtFfU7yGWLNw+r0Qey5cwtCyrr5Cb3qn3+PznZgMxoLw0tBopB+P8ZBY3\n",
       "+WvBY/+TL0mi9dyTPkoAfgrfSc7XqRBydJEbSYQLyeOQp9jrVMbvzwcYQi3CBdczgrk+e7WhhrHC\n",
       "hOZ+HRpTd/vuMZKYpEy5LPNey0FCDgQWkPXVj/RR2JfS3O9+wNoEWMITqippDRO2aSDyW5HhRmAF\n",
       "mqfiGe2+w79obyd7TzE1fo76s5Yw7o5SQmB4EgAAADRBnrVFFSwQ/wAAbmh0zeWV8ny0vpbpwAH9\n",
       "BwGdxTnGdA9gUl9FkBmRXS/yUtTQtfILvkYDAAAAUQGe1HRD/wAA8qjyJIQgBDZnP4sa/PS62NRL\n",
       "Q1491vxSFvRXxEDEf5zhdGhyfOo+oGkjdBS5hKTaDqfaVdbcZTQUrDgmsTSmPa8qEbCT0t+tiQAA\n",
       "ACUBntZqQ/8AAHgI/1VNKTbnV7zQAf0ANXzALTYfl6PWdNFihxbRAAAApUGa2EmoQWyZTAgn//61\n",
       "KoAAWUq2wAFSHHW/6O1OC1+3rJ2pFH6xLC5dlegHrehc1RdNl1YbfduWT/Eu7ZD21cN1Xrh+7ta0\n",
       "2l0RaAYm/XSxMkbv+lX3Ck6g6e17s0yiVSk7WXf977eVhh7AkuGHtaDOcwpOupxEXIn9//zK1Px+\n",
       "yao7CqL1CZEkA7T2vrMzeA8Y8Nz1vDYyFeGeb5ypfV+h7jGUuQAAAHlBmvlJ4QpSZTAgn//+tSqA\n",
       "AFmwJqFwpIlAI5Ej7b+ClgANpBg9KvAgpiM08P4hpu8L6u5PutG6MuYLFfJ9IcKKA5Wp8iRwTHM/\n",
       "b2A1cICVChkEQuWeqftQ4nBfaK+CXEobziWwt7K5YCI6TOGsMmGSSPkEOR8sthemAAACLkGbHUnh\n",
       "DomUwIJ//rUqgAFk7lBdqvQAZkIKBmcmQSfacwkw5+6qoB6FWMp86gG1szCM72kXMJE0To4hHlfw\n",
       "Qj36Xqep/ng2uiIHZdw8dRGhnjeQwPtJwYyLJFHQVsRQLl1seWqRfqJeB8Dzrg9gGL8C2qNHMVA2\n",
       "ZX05Ydi7gwfmsuCjoE0xHYkr7XpVL3usacmTjctZQm5Q9Qf/wjlttCJ0MXaqg4M2WAdIcDEFPYgS\n",
       "9Fx4OXwgzsFqQrrAjTtklWIXT+rEZ+pE/5/C21C/cFwSK/MLIV3Zi825FCn4bp8g/XeV040DHLzt\n",
       "sL9MCXPB8zh1/C0ujjpkIAhhedscGBlDEoVPSLoEAZoKKQEyDP/X4kpdWCgphHIaKpKkqCoVUJyw\n",
       "g+cyiwxiruGkma61IJy947sv3cZH/0L27w7sHdJQaU/IATuI3BJcV73odngNlZCfguyJmPyzVJgK\n",
       "gaLE177vvS9DXkkrk3Tff1T3sl0ZECBedrxmBGeiHYlb++0plvA2ZUJ8X5pIzEGW0tthamBOl4Wy\n",
       "F5SdN6YW5b1NUn6Id02D6iMd2mFwIaJ6i4n8Bl7PV/09n7BO2a+xcr7xYPG3liztU/3PTcQ1eVIp\n",
       "DMLtehm7bPh9mORu3EEAmEanI83uy+Rv4e2Sj7ytPFgZPovcvQNgA0K2IxhtX6nvN3+E8T6SMMmG\n",
       "kxtZMwAorHj8/9mGBW2AL+EU5vUxdSGBCDbw9gEjicLLkUcFB5vjfwAAAOVBnztFETwQ/wABub+s\n",
       "anqQ/FdjgAau5mIaTI3Q+QzGR1sspUCQFW46YLOuGtuhnq2Jmgd4y+W3AABlnMZFlUeWFmoH5Ul5\n",
       "6PRf2raLd9j9byvuCY2bJ0p56L9CaosZ9IunWd0gADsCcsmfws2rqSqG1D0eEiZH20uW6XO/BH+g\n",
       "kejp4Hwd0IZP1HP3uQ7gLgImLSvjDvPinWfJWYJ8AuPV6iCbpRIRUyyMaC8B9+vutFAO6lKFn6nE\n",
       "mAh70dII2+IqX/sXFbAmjZawLmgRE/N6hE1EkXOMkq+GN+JGH1jJwZlgBgLAAAAAqQGfWnRD/wAB\n",
       "5fzNXwCtaG0AGoX56XA6EVavn4NdNpUs19Md99RJAQhr7Cy37dF7x+vcl9p7g2ewOx3gEF8UElSB\n",
       "6ohkt9TtmcwFy1TXLgBLtuevDM6QcpbpZUXjlwduLotMXHK8WvsRYLOG3kGAJII7oxYuxm6gFI4I\n",
       "qhUN658foGkKR2IOpTjpdwD3+4CLY77k0OFQomPgLwpmkKYTTBXT0PeavN6gfgEAAACWAZ9cakP/\n",
       "AAPL2MivXeaw5aADUlbzvB1ks/6M/IQBYFdOYU3H8je2pn4b+AUa5rPzzVIAKntoeyxzezk0nZrO\n",
       "qpVkhExe2UbB27FWcjcEiIQ1o1NkLbDbKythJFm3AiIVB1NVjJm0m/1xVvUA8L+7lrzeW6rK9ueJ\n",
       "UhfT60Ucf9CgWnuzbQ3JaWTuLxXPMIJW3Ck1RJ8JAAAAXEGbQUmoQWiZTAgn//61KoABZO1ue/L4\n",
       "ACf6PYaqgYjc93QaKYKYH2gpHyAckJMl6VmvKSmWGaWiHVB4SFdWH2UpmvVPu3nOVcGn/nXGGx4W\n",
       "egqD1272EsdlIy06AAAAlkGff0URLBD/AAG5IO4PngBbI3ENVM/GgllOhZlUfqh2JZO3cU/sLcZt\n",
       "ncfsswnnFeuPFXklKGv+uOQ9XSsmNE0wX8rzstLeRmyMc7M+zYxEixpqn1j4IKM5vUF6H2OpI2ls\n",
       "Edvz6tyAmdTw4/3S3PTd/Ml43Uf0FdT8jPqxJaSN3x2OBFYLttVbD0vpGcCo8iW9VCgZgAAAAFcB\n",
       "n550Q/8AA8ALfkPsU7RnABDZmwpCyw+/XtLR7Lcs5g6t2q1PpRoa/YozxbdGlemDcm16aZjIcbhI\n",
       "kG/awxW+8kwH4/QJR5v0+vTxJjedthYDyUaAQvcAAABAAZ+AakP/AAPBRCJxQAhpHreGGGK240ZW\n",
       "C2RTgjT1Uckmaau2DYQlXWi3I75/8srqqF5XZjNnwc2Wo8vKsilVewAAAepBm4VJqEFsmUwIJ//+\n",
       "tSqAAWTta+L6LQAiAN6q8lev1ZBpoA09PqTm1Gg5hTo6UDbR+upeQmI9yy5TLIPL6pQYx6r8aQuW\n",
       "BMn8zN2KZg+7+HnxkRAMwboLdQKe7weC3licq+L/lv0/RjsTACtwHMv4MkxPY+MZpsi9prO0dKfB\n",
       "8sUjCLpeRgoUXXra9tvyblMhli2e3xsdyDRxGtnnQgSP/1ksX3R12bDrtLnqKHVVOkLoPpw8Bs/d\n",
       "eG/8K+GMs+bgNTgdlx1rZMlBaK0sD8FNeQ6VjB0+FhaXamGtWUKvGQFS3S15+7YWgukoTZ4FkR0Z\n",
       "kDRackhbHuIOPmCsnF5Q6eC8mc3VGBKvOoAP+GefgzPCtyFwWPaF8fwtW6/8OjIHgl4SKNKX2udq\n",
       "zBoNnUSRSGuUTMVeF5n5wGcuBJxOfRHZ7U2tuVATiF+xOpXWtZ6OT6TzqsANrtQN2BzlXricW0ES\n",
       "Nw0q28P9qjKwmyUfUaZfRV9Hd8JQ992cTdMI9c3kTbwT8EY+d8RX+OJiFnyJyeZ7cy8b7WWPhLDF\n",
       "NxYbTKA+FOnFWD+EXaTEuLOlGrOUh9bt8FfkFGs9/BlJhXEvSJ+SE6nSP2DplTM/nHhYhLEVNglg\n",
       "18ezVLsajm18bOSbzOJiRnxLup4ZAAABR0Gfo0UVLBD/AAG5odM2ANFMmaRoUcAEPzQGaRQ5ARSj\n",
       "C/1a7sQuVnau2grP9AuiLcjpaidbq9/9KI+VLUZUr9B0Z7dbe0YBgyk6uvgPwpuPugkKAVvgrR6+\n",
       "lsNXnRg0Q8HQAOBJPZyFZaAU0wbeTbKYX4ZD2puyejfJDBSUR085YAoR1lgd7hNqD42WrEKa+lNZ\n",
       "t4lpmJPa94yIM2vJ2SqxdlzXsu5OTr0d6xgsxaQVdU9mUQfWD44/AhuBXDe+7h3Qii+aLEd0LSXO\n",
       "EtBPn904wcbII6R8amrUVNmnfrXeKwpjKAU0HtQFCqtkmCb70AiFXZHZ7LQtBzj23F1EjtYu6efY\n",
       "hn9BJO8mgKHTqwsyR6K+o1lRnDKLYhIbf5NZvRkCFfVjvqxhEFAzFFBWMfQSkQOhh9LMUerL4jVn\n",
       "rX31rYAAelEOwAAAAKYBn8J0Q/8AA8tgFIAW9dgiB1GaVkRWBJKC3yZS//UHkttAJz3nYP6Y7QTg\n",
       "K9zF+MhRx4SS0Pb6XyveiYavEChgZauSx8NDUm/LqNkPEbwk+YYhF3WMWQfZnjOZSKqp4UcRKXG0\n",
       "1yVPBXhxfH3X7eZSHMUB/BW6rOTilmp1ZeGQQIb6jc0JW+XFR69HqxIa+CtrAewopxn5bbrV4e6R\n",
       "ElD0Vg8R8qLBAAAAqAGfxGpD/wAB5cA2AD2ds3Wj4HtVlie9qlZ7ITDrUZk5F1tZ0Cc2WuC5PfUh\n",
       "2W7goRuT4eyHkXb+urH3KJMI8z75BDNp7qMHzhoL+HZGJesuWxtruqIuBW+QnespF7fORAi7HDl8\n",
       "SG/irTy+WsSXvjOfAOxAyq+DCQEn1UDh6HegVkLAWzqBqzRYqRTSuFHEeDp3isS7UtP9wLSglVeN\n",
       "SS3LtpDH8zxP4QAAARVBm8ZJqEFsmUwIJ//+tSqAAFuAXlVvwAJauoBJTf+53cxGhK7/eeVBOlNW\n",
       "XOUywljVGzBUogjUfbNo69E8XwSFAlCfV4d/nNYPguWfiofMB2PPORNaJH/qBCK/wgPBnR8yC5XZ\n",
       "ptoqvPQAiw0+6d/pP+6kU59vmIIo2g5TeOgZvoh4W2VDT664aoKWVrJUKjrmr7EthRw/n/druSUC\n",
       "qNNtyr9dmY5/dls6hrB1ubyXSniLUWptkQWYl+aiK/J6R/olfcqp8n3JFlEETzqtzQaotKRsEXkW\n",
       "e2tXme7kqcx1OUGmKSk75fD/pjSZ/jPL4OQlTTyCfv26CaXXMYPNVIp0lUwn6O6zCeNYxKDwxAu8\n",
       "/y73+kq/AAAAUkGb6knhClJlMCCf//61KoAAWbAvv5ABMzmdRX0kPMrqXrNJC2Np056iXiVYT3Z4\n",
       "1ARgkB+WWtgE/5Rsm0KzdpvLqI3oikG9wGONE6B4Qn6xNX0AAAB2QZ4IRTRMEP8AAG5GTEYq8AAt\n",
       "kIwegzxK8bfpoifxTjHfna9ahCHuyzbSZWbBOy8f+JHM1I8Eq13bqVL+7tREolkEyFOV1Ekv+zZu\n",
       "noloZ7W2j5t7/u70yl2ioM32VH/Ts1/tsDwrKHN7FCeiFY+7607VrIURgAAAADABnid0Q/8AAPLX\n",
       "sx/jx8raADZi87atuHH3b0GoAKosC9TlXjhh9z08fwNUFsSQ9mAAAAAwAZ4pakP/AADy9jIrViL+\n",
       "0AGzF521bcOPu3oNQAWXFaEfhIa98OwqAHcD7roBPJAhAAACVUGaLkmoQWiZTAgl//61KoABZSg6\n",
       "gAnY4NatvKS/g8oMi+V5NjYK1Y4KV2AgsCOYtFXXYYN9/1mW8cUjUG/jDK5wAy9+FcyB7PZUW+tw\n",
       "8qHhNfsRoJg3Qee8oWGtLIkfRk/Binf2CtI69u14j//BTRYwvMZ/ynEjH8hXzaYcrYBopEQ29Dqc\n",
       "UGqyUfVSTx6luCSSOqao5BdDfAbSEo1pld6v8XUStVfXc/tmnPfsYCbsE3QvxGUnNcDQCl3wuAPJ\n",
       "5qAiNGbYG77o3ZxJyCGsftZ0vOezOXy/tmY9THQ/GHptCS8iYqXg6V/XKPZXyxm7bc6RmajALgWB\n",
       "gRlB7uuoC273EaBkwFz5XPNUC0rtwj8H/ZY3AP66RcMxu12fxwtIFT3RF8jWdBkflVUmGIdl5qxn\n",
       "XMYBRwSD2MKAXOB9miPRpqxCPTb4qrxbQ4pgcfpEjMYkxbKFOK3QJ13MDgtT2YRsnUCnifQkC3Ms\n",
       "FokbZx7hVnWHPLrRH4Dwom5n83DL8KU10yUxFH3u/Gq185AxWdYStWSPJ7IPcAjCTDZ+RFmFcQ+5\n",
       "Be5QeHlFNu2lmkMYYyOR93LhVR0e+iU9gU2o/HlAEK5D6ZqJtyOv11PE+EUS4SceYD4TlgzHvbrJ\n",
       "Y2NDUhryK0ZZOlNpsBK7lyFueGCMMnvjJ/kDf/45V33tVk07oKtGdflY0Dt+Pbr76qiSzHflcxHQ\n",
       "VC9a7YRmiToVTsgD196mp0BROwWq+V6Dgm0bFfdm1SQbhPIfHt817mZn+OhTG7VR58WWpc1vtQZ7\n",
       "SQGlrvLrSAAAAUdBnkxFESwQ/wABub+sayCNgAlf+W6646sVRqAJUAv6a2JiZgTORiqAM2rFtsHw\n",
       "PvrzSoqsPoh48HPcwC+1IsxUSbhdhV22WSkeB1Po4APhHN9gsavNFurggH6TfeLl5iLgSH++cnCb\n",
       "Xva8qKBa84fXTqEzjQ4/cGG2XLD3hxb4br+fOyskncvYYe6tJO2oWiwbHUJfgobJpASyedU8RYqy\n",
       "Opzj3qm/UzdrzrrFxwT1UMc1CCcmLGPfklSHVdW8NZJnXrX/0zFG+6NwHkEXVRL+//+C4IDy9w+S\n",
       "bXBKCEJVco7mWncjuncOtwhkefBYNQEd0PDc+hChGSBsP+duF9t8obVvZWsdMa85B8/KZwZKaVkG\n",
       "O2ej0r7JUJJHvT8nlKEijKTKmTbAPUPJikXA3j5EvRJsqUONaDKBOohv6Bog1Ep4fLTJnNgAAACY\n",
       "AZ5rdEP/AAHl/M1fIKx05MAEP2nabCz+9JGhQFrxHz3WXuK5fKoksDfRv7o6U+XOib1Tg/VwaOtm\n",
       "ronHSqhGtsUmgo46glMW3DafZGZprxnDqZ9pAT+QvxsqNwRpsPOCuwn+Esz8r9gwSKyp+6gEloaR\n",
       "aYMo44mV0OrTRyeFJyBvulzNZOAgIgIEJT7ICAuwcWo9R4zMakEAAACTAZ5takP/AAPL2MitKjDs\n",
       "SnKuoAQ/adpsK/96KVl9EThEnv/gzFLyI4EvnPnL/RL+Ha6ElgFFETu/9biRgAbaK7a6Nm5+XcKy\n",
       "qAvaN0V3T759nM+/gbHrcPBqzTkmpc2UI72ff5HCj91I3sJChDw2xJfc7oRjFJ0cGwTv+KW1WNEG\n",
       "JyoRzpnrcL93YjUnKcqhXm+BAAAAt0Gab0moQWyZTAgl//61KoABZOJGLnC7gA+RDXAVg/aw29c6\n",
       "i0TjK23NPnVRfInrsxn7L7xpzyhKI6QML4CEEq0h8LhmoXT4WMm0zzz6Wb03AF/Z+yc7/SxgZxWm\n",
       "nFp36FoCe01+U3T0TNenGNhs7DM+kJv24AvZQyKbNta83GmCIrhhLhQ/uuVjleVUFkaE2/FsCkcl\n",
       "/ZWEyXdO+AIGx2BT2UvOSgZqULDNVS++h50eR2Owm7stQQAAAKFBmpBJ4QpSZTAgn//+tSqAAWYd\n",
       "S8ZAAcsaLLCBCVBDfffStRYQJ2pSjSRpJGQXurE/ITIb3UhZYKp8CBceKpvFKDRc7+ENJqKgUvbA\n",
       "nl1DAK/1B+iaH5YKwenoctlFBs4dU1JYhwzDD49XNr4osVxJ5uFPDOoKc44DcDyW304JSateP1mk\n",
       "3c+fsnQeohvCTHic34jHpeczuTyiY9JmMmehgAAAAHNBmrJJ4Q6JlMFNEwT//rUqgAFk7XkhvxlA\n",
       "AulRfCMgF8+yrLMz8ELTqPOfQU1l+95mVeAG1nv+9bBxMcOVr5tDjptT7Acflq/Bu+GNOTS7qv8p\n",
       "8+Rg2VB9XhAXmgOkiLTyVA12eq5urBzBUJe71/03CQiDAAAAQQGe0WpD/wADyPHsih3MAGxwwel/\n",
       "l+DUpc6/yBRmAPMfTkHkXVZWmEg3ItNrBGVr7NAguxietWmrzIYZPyPL0S9hAAAAVkGa00nhDyZT\n",
       "Agn//rUqgAFk5b8UVNL4ACxxBmv9ymsxE+/gKsRwl88Ux4SFH7UfuzaZmJNUfCJqju5j6pDpZbaZ\n",
       "bqCPMe1JwU6dHRv+O9u1U9x+17FAAAABxEGa90nhDyZTAgn//rUqgAFk7W56XRbQA2fa/6mQZL56\n",
       "tsyOhebon9NxF62HkHxYhMuxYDh1CdQiSZi5G7g9EOrj/RmtKtrw9KJ8+djPPy054qp6dYQiPIH1\n",
       "ha1tTatxPj0XbMSldOAS4hjMr1mHvJVA9To3TiO9pw6eDcUuz3HKQBxb053aIAZkYoTUj/1qBiqr\n",
       "y4tgQni1DWp1ltuvIozzCouFWGnwveYImZRozGmVHIfgUhY31SxJ865LPbdk0lky0L3GyHT1YYEc\n",
       "lC9YLVJMw58dBWK9wDD6AgfaNpKfsmp+Ju4KyGyJXoV/a/7QuN+ypivBMSAZExyKTJb8b2aWBe+w\n",
       "msZEOqknMb/QfBxKqNuCGQqgiYNoG0oZ3MVaGuWXVsOlmlbxbQdpG7pmtu3KXattJOcAn/hup5eD\n",
       "0CsndtdaAcmrtrjJB6uV9RF2RBZN9c4SZBBjkqHOMQZ6thexE4TdsBm684xc3WSm/t/jMyhulNz9\n",
       "rBKfFegt5yi0T75PX44ioqR9TODDz5e5Yrow38SJu5mL736+kPS/ztOUVtnfAYzZ9c9rplIZyAlw\n",
       "Uy1+ZQRYHPUJgnFlUYBsCABLB4xFAAAAkEGfFUURPBD/AAG5odM1CatMmiffAA0Zm8+aCeLmjMW3\n",
       "LgOQjS/vHm7dUIT7m6KcCnBm52q18WIdpYcOWnN9E4DK9/vNuAbSWkhF4eUam3Blzj5pa+F53Dk1\n",
       "QXuwatItdUkPG9B2TKEaZur/ZI78wX5+Wea/6Whuso3LtZGKdYxZ14fNblw7aheCd2eYCYlBYQAA\n",
       "AJQBnzR0Q/8AA8tezHzYbEhCADUlbxlpBVAmP+QgX2KEodxHh5pWtOPA3gYIjWfnm94NlYEq9VUN\n",
       "UoeupOCHi3hZWt1HORN4MYcqzzHwR2oX/Pzsw5a7EsBL7QQsE4OcvnoePYXhsXykaFcrx2hy/nTZ\n",
       "NECru+uU4WNpR0kk2LtR8PtVcJK1m4oEZFeBnJQDOCHVeqfCAAAAogGfNmpD/wAB5cIUHx01aG0A\n",
       "GoX59zmI+KrRlRU4zKfH+mYKJzZnXV9r4TjbpndL1uWx9ZH14yHP30XoymDHeKCcS31+WB9Vqdmz\n",
       "JKzjWPeIkKy1PKR1scr1Nu1JiW02VfZ+2rWEJkvio+G7B8UwHqCPVZ4PAfKhxgjrFlfBK2bG8Sqh\n",
       "AHZ62nX6PQaHheVszj3kGcQqZ/hEwOumZ9CVwgXgEQAAAOtBmzhJqEFomUwIJ//+tSqAAFml+aaE\n",
       "eKAC2Nqj/+CxnZZUEGL6TdFyGgpb3e4BbqphYQgCaIgp1mbkvGemVQ1vhk9q6nR3NGb+Ubd+Jek3\n",
       "LTv5IABzy4JbxqILdMrteRcmxZdELshRo69d2hoQxFQCtZyVJH2/Z7T+KoocHHocbARWgPlW1CkH\n",
       "AjltP0YuPF0SlRy5bvsHHZ10Kwv5UFJHzNwkmSvotIF6eV4uDtDHbj5C1mf9a7bzqx/mNg3zISNZ\n",
       "zlRvDFTCE3onssk8t4gIW+IzLx1RnnffvBF0lmkzFRHD7wEOIeDoayTBAAAAVUGbXEnhClJlMCCf\n",
       "//61KoAAWaBuwb4AH9aeQQfhHsXVoUoc6vc2xme+CvboyC0yBzNvlG4YWAy2FPHcGbQM0lQFNex8\n",
       "LVXyhVEFLGyJtH9SIu8agxYAAABiQZ96RTRMEP8AAG1HO7hx4AON8lkl8yA4zjSlB5m8XyTtsj2z\n",
       "SPdWn1NjuuCmy5I742pyXz6k94VUIb3DHkJKLoFVRs44sNxZIt6l/hAcrcJ7/witArNmjkxnr+3+\n",
       "aihaAS0AAAAWAZ+ZdEP/AADy17MgAqlKC+8djdfmzAAAADkBn5tqQ/8AAPL2Mivfdmz1oAIfsr7s\n",
       "kylEiW//QWn74FMbcnR7Tgz3gEYna9EoTZlpPj2zqJhEVzEAAAIHQZuASahBaJlMCCf//rUqgAFl\n",
       "KtsABUhupNqd4nmNrot9a1OKnjQpEFsm+Th79dS+XFFu162BVeeUHdWiWa8oGEUrQ4/nzjFGyc+l\n",
       "WJ/+rVx0Ff+53QqOIn1T+HVyd0e1mTwlI6ilf9UvyzDbgAgxNIAA071v/4KP4Pi/jmt6Pk00/wfn\n",
       "4a38NTi1+8qmRsXZR9N9UBVKdMS1mI09V9AbirtlQsqUrrrxnbv0Wh9E7cMbusREPodjQxhneTDb\n",
       "3/xdldS6a9bYpdJbMbJmiyDjKd8+vFGulVeaI1lo9pJwmhZv1ADJHWlxFkOucvScoYbQWviGYuez\n",
       "h3N8X5yJ8O00d/LdIjzvPoJVvRoiPAtN9J726m3gLmMl+am+DyfbFzAkFX8OqVbxQTB4vXbXyRBh\n",
       "XPKw6Ooe6yN6WmdzI/0BVe/aFRnClBVRjELF2eewjtckte/wtHKHZUdaFdeJJLP4Wwe268jtPVIq\n",
       "2TioAcYdV4XaQz1ME94RSTGdbP9DYYf3+5f9piHL43SY6gewJXoDUKpy2303V66Hd3BaSlxz3TqO\n",
       "FcKb+CfX15gMz8ip/CGhO6A5bVSqfHh4CyWrz8jrCNB2BpLet9EWVn/923T+bdLBoynPrih2fMpq\n",
       "5Ok29srAwFJpRzH1SoLd9reS1vihvgvELcK26U35gc1ETZNb8zL03qzRXVvxAAABNkGfvkURLBD/\n",
       "AAG5v6xrISfQAbSj5FTs7aU9LMCG+Sju+spjk8nElnCxyQBVFY+VEmg38aPpM4vj+lbiHbpqzcGM\n",
       "YwqfXadZoOh9LYkwwmLodKkfJw65Xtr+NWi/5tbFqPQiVhDSgW71OnobQpuFPgV5GcPcC/ujim/u\n",
       "xpPBOOm6zMhAJyCJapvXxz+/BjEwjI50Er0Y9nMkP8nIzL1jehgITvrqtaU0Z+s8V7Um4sDv05+/\n",
       "neB7uMn+jJYrOHBeZlKoxzwTX5in+afS7F/vI7FwtCMRBLfxir6Sdj50GyUYQaUNH7v0An1F3R6G\n",
       "KGSzzXmkKlkUCP3C9Gzg0f0355Xb8HknRsI5MBqjqHmoN+WJqeM/92OlpJlv5rw+FCRle+hAkVVb\n",
       "S16bCr7/Ec1990q9E07GDYAAAACXAZ/ddEP/AAHl/M1fAK1obQAahfn3OYj4deW4ECzS5+Xgf5+6\n",
       "uoAB6tYYwahYlRpvq5cPyuqr31skSKpmLBzCIDbKxZs+A6GNXG+Oc33anZZyEhnG4CjdvU/WLKqR\n",
       "g9YRVGCw4GRlkkU+xPcyC5aNsSTWk0mCvjTpmCkA8YVHSz8bDHqJcASw3G6dCzDxY+BLQrDBeM+o\n",
       "EAAAAFkBn99qQ/8AA8vYyK9ZNxllQAg9GqpzEWBIGhs/IQMWDpvv3capi3Hhv4FAzUgBsClYnJII\n",
       "n1VfycRaRhcz0+0eVP1IfLG8GmSyZm8eCbTRxo5j98tsVz3l8wAAAIpBm8RJqEFsmUwIJf/+tSqA\n",
       "AWTiRi2ZcgAaOpJgM6Nuc36jHTBnE4XmcFfFW7mLB6Dn73QdWPRtD3d5Pt1bDOMD85ZkPX50N8FO\n",
       "OcHCOYpcJG3Y49saXnpMnXcl9fou7MnByWzG6yr4dBTobbjJQqNUUVU8p3lB6iQepw46aEP3UWRf\n",
       "kBei/Pwygr4AAACcQZ/iRRUsEP8AAbUQVsVNat6ACxbd9TwWhAhzFq+io5WyfgiewcJ3w9v/oPbi\n",
       "E2xUWYQ7C9Ch1+UOIMJINxnORniaNRDMWAKGYxCZC2x/fuHyIiblhaN5SyvxhFTjAc8lN4FFKzLT\n",
       "WTXRZLjSYVj8yptUwjSucTpC8z1ahJUhHIMPX8v9aByOK3/UXNcW6ILqJj1Dty1KZ0ei91ZBAAAA\n",
       "FwGeAXRD/wADy64yS+9Z2JHM2LoxpE+QAAAAFgGeA2pD/wADy9jIr+m2LI5m9SEf7vcAAAGCQZoH\n",
       "SahBbJlMCH///qmWAArs00VaSQAteHWVT8HYrGSJ5GLjPr95qUFaWtjeYysAIaCLBRiAVNFZV3lJ\n",
       "ug6Yu4ut69VxZRTJMtksf2Y5Il0UuNCtiJX0d9Yt/qibSAzRziGj1wASAg6FqK3JCKgEGBr/6dxQ\n",
       "fXWFELWGGJLcKFTu09JgySNT4uGSNGVj9OcbIMVsF3oyK846RBArtipOyqnfL+95kVHb8ilFLwsT\n",
       "PwnI0Gat/L/ezAwnBnDNHs+EzIi1qGiuCRWb/UCdVXL5d8Rc9yqiSbhMDgdbSrwbbOBxm8jYE1vZ\n",
       "R1aiBdmugBPG4CO+d0fZ6pJedaYgX2LUHFJWP+JXM6grHpVKiDHHYE+UGmhCXracbxwHeTXDWTO8\n",
       "iiE/lrvg8i81olL2LjLkIvgwA4FqOfftTqtmili/QnLkE9FguhG+DgeOD/De5Gb1bV5CcnHZKkiQ\n",
       "zTFLCX+11Ar7W9Y8Qzk3cviGcd6Mu9+PsVz67SeFkXD7ipft6eucyxkAAAAjQZ4lRRUsEP8AAbnL\n",
       "MBLXxRhGIGu3B9iEs0G3eNTj/Qda/OMAAABbAZ5GakP/AAPLhCgyVqf4EAGpK6WBxaULKEz/yEDF\n",
       "g6b793GqYtx4b8IKbtIDYFKxOSQRWYKv5OItIwuZ6faPKn6kPlr+DTJZNNTp/R3o0TsQQEtY+fSd\n",
       "gqhwWQAADE5tb292AAAAbG12aGQAAAAAAAAAAAAAAAAAAAPoAACcQAABAAABAAAAAAAAAAAAAAAA\n",
       "AQAAAAAAAAAAAAAAAAAAAAEAAAAAAAAAAAAAAAAAAEAAAAAAAAAAAAAAAAAAAAAAAAAAAAAAAAAA\n",
       "AAAAAAACAAALeHRyYWsAAABcdGtoZAAAAAMAAAAAAAAAAAAAAAEAAAAAAACcQAAAAAAAAAAAAAAA\n",
       "AAAAAAAAAQAAAAAAAAAAAAAAAAAAAAEAAAAAAAAAAAAAAAAAAEAAAAABsAAAASAAAAAAACRlZHRz\n",
       "AAAAHGVsc3QAAAAAAAAAAQAAnEAAABAAAAEAAAAACvBtZGlhAAAAIG1kaGQAAAAAAAAAAAAAAAAA\n",
       "ACgAAAZAAFXEAAAAAAAtaGRscgAAAAAAAAAAdmlkZQAAAAAAAAAAAAAAAFZpZGVvSGFuZGxlcgAA\n",
       "AAqbbWluZgAAABR2bWhkAAAAAQAAAAAAAAAAAAAAJGRpbmYAAAAcZHJlZgAAAAAAAAABAAAADHVy\n",
       "bCAAAAABAAAKW3N0YmwAAACzc3RzZAAAAAAAAAABAAAAo2F2YzEAAAAAAAAAAQAAAAAAAAAAAAAA\n",
       "AAAAAAABsAEgAEgAAABIAAAAAAAAAAEAAAAAAAAAAAAAAAAAAAAAAAAAAAAAAAAAAAAAAAAAAAAY\n",
       "//8AAAAxYXZjQwFkABX/4QAYZ2QAFazZQbCWhAAAAwAEAAADACg8WLZYAQAGaOvjyyLAAAAAHHV1\n",
       "aWRraEDyXyRPxbo5pRvPAyPzAAAAAAAAABhzdHRzAAAAAAAAAAEAAADIAAAIAAAAABRzdHNzAAAA\n",
       "AAAAAAEAAAABAAAGEGN0dHMAAAAAAAAAwAAAAAEAABAAAAAAAQAAGAAAAAABAAAIAAAAAAEAACgA\n",
       "AAAAAQAAEAAAAAABAAAAAAAAAAEAAAgAAAAAAQAAEAAAAAABAAAoAAAAAAEAABAAAAAAAQAAAAAA\n",
       "AAABAAAIAAAAAAEAACgAAAAAAQAAEAAAAAABAAAAAAAAAAEAAAgAAAAAAQAAEAAAAAABAAAoAAAA\n",
       "AAEAABAAAAAAAQAAAAAAAAABAAAIAAAAAAEAACgAAAAAAQAAEAAAAAABAAAAAAAAAAEAAAgAAAAA\n",
       "AQAAKAAAAAABAAAQAAAAAAEAAAAAAAAAAQAACAAAAAABAAAQAAAAAAEAACgAAAAAAQAAEAAAAAAB\n",
       "AAAAAAAAAAEAAAgAAAAAAQAAKAAAAAABAAAQAAAAAAEAAAAAAAAAAQAACAAAAAABAAAoAAAAAAEA\n",
       "ABAAAAAAAQAAAAAAAAABAAAIAAAAAAEAACgAAAAAAQAAEAAAAAABAAAAAAAAAAEAAAgAAAAAAgAA\n",
       "EAAAAAABAAAoAAAAAAEAABAAAAAAAQAAAAAAAAABAAAIAAAAAAEAACgAAAAAAQAAEAAAAAABAAAA\n",
       "AAAAAAEAAAgAAAAAAQAAKAAAAAABAAAQAAAAAAEAAAAAAAAAAQAACAAAAAABAAAQAAAAAAEAACgA\n",
       "AAAAAQAAEAAAAAABAAAAAAAAAAEAAAgAAAAAAQAAKAAAAAABAAAQAAAAAAEAAAAAAAAAAQAACAAA\n",
       "AAABAAAQAAAAAAEAACgAAAAAAQAAEAAAAAABAAAAAAAAAAEAAAgAAAAAAQAAKAAAAAABAAAQAAAA\n",
       "AAEAAAAAAAAAAQAACAAAAAABAAAQAAAAAAEAACAAAAAAAgAACAAAAAABAAAQAAAAAAEAACgAAAAA\n",
       "AQAAEAAAAAABAAAAAAAAAAEAAAgAAAAAAQAAEAAAAAABAAAgAAAAAAIAAAgAAAAAAQAAKAAAAAAB\n",
       "AAAQAAAAAAEAAAAAAAAAAQAACAAAAAABAAAoAAAAAAEAABAAAAAAAQAAAAAAAAABAAAIAAAAAAIA\n",
       "ABAAAAAAAQAAKAAAAAABAAAQAAAAAAEAAAAAAAAAAQAACAAAAAABAAAoAAAAAAEAABAAAAAAAQAA\n",
       "AAAAAAABAAAIAAAAAAEAACgAAAAAAQAAEAAAAAABAAAAAAAAAAEAAAgAAAAAAQAAEAAAAAABAAAo\n",
       "AAAAAAEAABAAAAAAAQAAAAAAAAABAAAIAAAAAAEAACgAAAAAAQAAEAAAAAABAAAAAAAAAAEAAAgA\n",
       "AAAAAQAAEAAAAAABAAAoAAAAAAEAABAAAAAAAQAAAAAAAAABAAAIAAAAAAEAACgAAAAAAQAAEAAA\n",
       "AAABAAAAAAAAAAEAAAgAAAAAAQAAEAAAAAABAAAgAAAAAAIAAAgAAAAAAQAAEAAAAAABAAAoAAAA\n",
       "AAEAABAAAAAAAQAAAAAAAAABAAAIAAAAAAEAACgAAAAAAQAAEAAAAAABAAAAAAAAAAEAAAgAAAAA\n",
       "AQAAKAAAAAABAAAQAAAAAAEAAAAAAAAAAQAACAAAAAABAAAoAAAAAAEAABAAAAAAAQAAAAAAAAAB\n",
       "AAAIAAAAAAIAABAAAAAAAQAAKAAAAAABAAAQAAAAAAEAAAAAAAAAAQAACAAAAAABAAAoAAAAAAEA\n",
       "ABAAAAAAAQAAAAAAAAABAAAIAAAAAAEAACgAAAAAAQAAEAAAAAABAAAAAAAAAAEAAAgAAAAAAQAA\n",
       "EAAAAAABAAAoAAAAAAEAABAAAAAAAQAAAAAAAAABAAAIAAAAAAEAACgAAAAAAQAAEAAAAAABAAAA\n",
       "AAAAAAEAAAgAAAAAAgAAEAAAAAABAAAYAAAAAAEAAAgAAAAAAQAAEAAAAAABAAAoAAAAAAEAABAA\n",
       "AAAAAQAAAAAAAAABAAAIAAAAAAEAABAAAAAAAQAAKAAAAAABAAAQAAAAAAEAAAAAAAAAAQAACAAA\n",
       "AAABAAAoAAAAAAEAABAAAAAAAQAAAAAAAAABAAAIAAAAAAEAACgAAAAAAQAAEAAAAAABAAAAAAAA\n",
       "AAEAAAgAAAAAAQAAIAAAAAACAAAIAAAAABxzdHNjAAAAAAAAAAEAAAABAAAAyAAAAAEAAAM0c3Rz\n",
       "egAAAAAAAAAAAAAAyAAAI+UAAAGIAAAAZAAAAfcAAAEiAAAAlwAAAKwAAADmAAAAXQAAAHAAAAA2\n",
       "AAAAPgAAAk4AAAE/AAAAkQAAAGgAAADPAAAAUgAAAIsAAAAaAAAAYQAAAe8AAAEyAAAAhwAAAL4A\n",
       "AADWAAAAbAAAABsAAAAZAAAAbAAAAisAAAEoAAAAogAAAGEAAACGAAAAjwAAAFcAAAAaAAAB7QAA\n",
       "AJwAAAB8AAAAmwAAAaMAAAA+AAAAVAAAACcAAACgAAAAfwAAAioAAADfAAAAnAAAAJkAAAAxAAAA\n",
       "ngAAAE4AAABMAAAB9QAAASUAAACmAAAAswAAANUAAABoAAAAcgAAADsAAABBAAACQgAAAN4AAACA\n",
       "AAAAcgAAAOUAAAB7AAAAkAAAADYAAABfAAAB6QAAATQAAACLAAAAvwAAAP4AAAAzAAAAVgAAABkA\n",
       "AACvAAACKwAAAOIAAACyAAAAXQAAAK0AAABgAAAAewAAABwAAAIGAAAA+gAAAHkAAACPAAABoQAA\n",
       "ADwAAABSAAAAKwAAAJAAAACUAAACNgAAANwAAACiAAAAnQAAAG8AAAClAAAAUAAAAEgAAAH6AAAB\n",
       "IAAAAKIAAACrAAAA2AAAAGIAAAB8AAAALQAAADMAAAJUAAABTQAAAJ4AAACVAAAA4QAAAFoAAACH\n",
       "AAAAMwAAAGMAAAHIAAABOQAAAIwAAADBAAAA1wAAAIQAAABTAAAAGQAAAKkAAAIqAAABNAAAAJcA\n",
       "AABfAAAAmAAAAKEAAAAbAAAAGgAAAdYAAABmAAAAfQAAAGsAAAGeAAAAOAAAAFUAAAApAAAAqQAA\n",
       "AH0AAAIyAAAA6QAAAK0AAACaAAAAYAAAAJoAAABbAAAARAAAAe4AAAFLAAAAqgAAAKwAAAEZAAAA\n",
       "VgAAAHoAAAA0AAAANAAAAlkAAAFLAAAAnAAAAJcAAAC7AAAApQAAAHcAAABFAAAAWgAAAcgAAACU\n",
       "AAAAmAAAAKYAAADvAAAAWQAAAGYAAAAaAAAAPQAAAgsAAAE6AAAAmwAAAF0AAACOAAAAoAAAABsA\n",
       "AAAaAAABhgAAACcAAABfAAAAFHN0Y28AAAAAAAAAAQAAACwAAABidWR0YQAAAFptZXRhAAAAAAAA\n",
       "ACFoZGxyAAAAAAAAAABtZGlyYXBwbAAAAAAAAAAAAAAAAC1pbHN0AAAAJal0b28AAAAdZGF0YQAA\n",
       "AAEAAAAATGF2ZjU4LjIwLjEwMA==\n",
       "\">\n",
       "  Your browser does not support the video tag.\n",
       "</video>"
      ],
      "text/plain": [
       "<matplotlib.animation.FuncAnimation at 0x7f64aa989f98>"
      ]
     },
     "execution_count": 55,
     "metadata": {},
     "output_type": "execute_result"
    }
   ],
   "source": [
    "anim_modo2"
   ]
  },
  {
   "cell_type": "markdown",
   "metadata": {},
   "source": [
    "## c) ¿Qué modifica la presencia de gravedad?\n",
    "Sin tratar de ser perspicaces empecemos a resolver \"mecánicamente\".\n",
    "Al potencial anteriormente calculado agregamos el potencial gravitatorio\n",
    "$$\n",
    "V(y_a, y_b)= \\frac{k}{2} \\left[ \\left(y_a - l_0 \\right)^2 + \\left(y_b - y_a - l_0 \\right)^2 \\right]- g( m_a y_a + m_b y_b) .\n",
    "$$ "
   ]
  },
  {
   "cell_type": "markdown",
   "metadata": {},
   "source": [
    "Habrá nuevas posiciones de equilibrio.\n",
    "Basta realizar $\\frac{\\partial}{\\partial y_i} V = 0$ \n",
    "$$\n",
    "\\left\\{\n",
    "\\begin{aligned}\n",
    "k(y_a - l_0)- k (y_b - y_a - l_0)- g m_a =  2 k y_a - k y_b - g m_a &= 0 \\\\\n",
    "k(y_b - y_a - l_0) - g m_b &= 0\n",
    "\\end{aligned}\n",
    "\\right.\n",
    "$$\n",
    "de donde puede obtenerse fácilmente las posiciones de equilibrio $y_{a0}= \\frac{g}{k} (m_a + m_b) + l_0$ e $y_{b0}= \\frac{g}{k} (m_a + 2 m_b) + 2 l_0$.\n",
    "\n",
    "Bien, tenemos nuevas posiciones de equilibrio, y entonces para escribir en función de los apartamientos de estas $\\psi_a$ y $\\psi_b$ tenemos  \n",
    "$$\n",
    "\\begin{aligned}\n",
    "y_a &= y_{a0}+ \\psi_a = \\frac{g}{k} (m_a + m_b) + l_0 + \\psi_a \\\\\n",
    "y_b &= y_{b0}+ \\psi_a = \\frac{g}{k} (m_a + 2 m_b) + 2 l_0 + \\psi_b,\n",
    "\\end{aligned}\n",
    "$$"
   ]
  },
  {
   "cell_type": "markdown",
   "metadata": {},
   "source": [
    "¿Qué seguía? Para obtener las fuerzas derivar el potencial potencial... ¡pero si lo acabamos de hacer!\n",
    "Si reemplazo estos $y_a$ y $y_b$\n",
    "$$\n",
    "\\left\\{\n",
    "\\begin{aligned}\n",
    "m_a \\ddot{\\psi}_a \n",
    "& = 2 k \\left[ \\frac{g}{k} (m_a + m_b) + l_0 + \\psi_a \\right] - k \\left[ \\frac{g}{k} (m_a + 2 m_b) + 2 l_0 + \\psi_b \\right] - g m_a \\\\\n",
    "& = 2 g (m_a+ m_b) + 2k l_0 + 2 k \\psi_a - g (m_a + 2 m_b) - 2 k l_0 - k \\psi_b - g m_a \\\\\n",
    "& = -k (2\\psi_a - \\psi_b) \\\\\n",
    "m_b \\ddot{\\psi}_b \n",
    "& = k \\left[ \\left( \\frac{g}{k} (m_a + 2 m_b) + 2 l_0 + \\psi_b \\right) - \\left( \\frac{g}{k} (m_a + m_b) + l_0 + \\psi_a \\right) - l_0 \\right] - g m_b \\\\\n",
    "& = g (m_a + 2 m_b) + 2 k l_0 + k \\psi_b - g (m_a + m_b) + k l_0 + k \\psi_a - kl_0 - g m_b \\\\\n",
    "& = -k (\\psi_b - \\psi_a)\n",
    "\\end{aligned}\n",
    "\\right.\n",
    "$$\n",
    "\n",
    "Exactamente lo que teníamos para el caso sin gravedad.\n",
    "¿Qué es lo que cambia?\n",
    "No hay que olvidar de que si se quiere expresar las posiciones no desde el equilibrio sino como $y_i$ hay que sumar la posición de equilibrio, que ahora es mayor en módulo que las de los resortes libres, $l_0$ y $2l_0$ respectivamente.\n",
    "\n",
    "Siendo perspicaces tendríamos que haber recordado que nada de lo que obtuvimos, en particular las frecuencias de oscilación, tenían dependencia en las longitudes de los resortes, si de $k$ y las $m$. "
   ]
  },
  {
   "cell_type": "code",
   "execution_count": null,
   "metadata": {},
   "outputs": [],
   "source": []
  }
 ],
 "metadata": {
  "kernelspec": {
   "display_name": "Python 3",
   "language": "python",
   "name": "python3"
  },
  "language_info": {
   "codemirror_mode": {
    "name": "ipython",
    "version": 3
   },
   "file_extension": ".py",
   "mimetype": "text/x-python",
   "name": "python",
   "nbconvert_exporter": "python",
   "pygments_lexer": "ipython3",
   "version": "3.7.3"
  }
 },
 "nbformat": 4,
 "nbformat_minor": 4
}
