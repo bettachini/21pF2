{
 "cells": [
  {
   "cell_type": "markdown",
   "metadata": {},
   "source": [
    "$$\n",
    "\\begin{aligned}\n",
    "N a k^{(p)} + \\alpha^{(p)} &= 2 \\pi - \\alpha^{(p)} - N a k^{(p)} - a k^{(p)} + r 2 \\pi \\qquad (r \\in \\mathbb{Z}) \\\\\n",
    "2 N a k^{(p)} + 2 \\alpha^{(p)} &= - a k^{(p)} + (r+1) 2 \\pi \\\\\n",
    "\\end{aligned}\n",
    "$$"
   ]
  },
  {
   "cell_type": "markdown",
   "metadata": {},
   "source": [
    "Si se reemplaza $2 \\alpha^{(p)}$ por lo obtenido en la relación anterior\n",
    "\n",
    "$$\n",
    "\\begin{aligned}\n",
    "2 N a k^{(p)} + \\left( - a k^{(p)} + (q-1) 2 \\pi \\right) &= - a k^{(p)} + (r+1) 2 \\pi \\\\\n",
    "2 N a k^{(p)} &= (r-q+2) 2 \\pi \\\\\n",
    "2 N a k^{(p)} &= p 2 \\pi \\qquad (p \\in \\mathbb{N_0}) \\\\\n",
    "\\end{aligned}\n",
    "$$\n",
    "\n",
    "Un sistema con ambos extremos libres puede desplazarse a velocidad constante sin oscilar.\n",
    "A tal modo normal se le asocia una \\\\(\\omega^{(p)} = 0\\\\) con $p=0$.\n",
    "A diferencia del caso con algún extremo fijo aquí $p \\in \\mathbb{N_0}$."
   ]
  },
  {
   "cell_type": "code",
   "execution_count": null,
   "metadata": {},
   "outputs": [],
   "source": []
  }
 ],
 "metadata": {
  "kernelspec": {
   "display_name": "Python 3",
   "language": "python",
   "name": "python3"
  },
  "language_info": {
   "codemirror_mode": {
    "name": "ipython",
    "version": 3
   },
   "file_extension": ".py",
   "mimetype": "text/x-python",
   "name": "python",
   "nbconvert_exporter": "python",
   "pygments_lexer": "ipython3",
   "version": "3.7.3"
  }
 },
 "nbformat": 4,
 "nbformat_minor": 4
}
