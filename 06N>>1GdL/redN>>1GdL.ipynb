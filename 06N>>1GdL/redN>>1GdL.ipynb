{
 "cells": [
  {
   "cell_type": "markdown",
   "metadata": {},
   "source": [
    "# Red con \\\\(N\\gg1\\\\) grados de libertad"
   ]
  },
  {
   "cell_type": "markdown",
   "metadata": {},
   "source": [
    "![Departamento de Física, Facultad de Ciencias Exactas y Naturales, Universidad de Buenos Aires](data:image/png;base64,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)  \n",
    "\n",
    "©2021 [Víctor A. Bettachini](mailto:bettachini@df.uba.ar)  \n",
    "\n",
    "---"
   ]
  },
  {
   "cell_type": "markdown",
   "metadata": {},
   "source": [
    "## Enunciado\n",
    "\\\\(N\\\\) partículas de masa \\\\(m\\\\) están equiespaciadas en una distancia \\\\(a\\\\).\n",
    "Están sujetas a paredes mediante resortes de coeficiente de dureza \\\\(k\\\\) y longitud natural \\\\(l_0\\\\).\n",
    "A su vez, en la dirección en que pueden desplazarse, están vinculadas por resortes con el mismo \\\\(k\\\\) pero de longitud natural \\\\(a > l_0\\\\).  \n",
    "![](figuras/g-008.png)\n",
    "1. Escriba la ecuación de movimiento para la partícula énésima.\n",
    "\tIndique todas las aproximaciones que realiza.\n",
    "1. Proponga una solución adecuada y halle la relación de dispersión.\n",
    "\t¿Cuál es la frecuencia más baja posible?\n",
    "1. Imponga las condiciones de contorno apropiadas para el sistema y calcule las frecuencias propias del mismo.\n",
    "\tEscriba la solución para el movimiento de cada partícula.\n",
    "1. (*) Particularice para el caso \\\\(N = 2\\\\) y compare con el resultado que obtiene resolviendo el problema ``matricialmente''.\n",
    "\tEsquematice los modos normales de oscilación."
   ]
  },
  {
   "cell_type": "markdown",
   "metadata": {},
   "source": [
    "## Ecuación de movimiento para partícula \\\\(n\\\\)"
   ]
  },
  {
   "cell_type": "markdown",
   "metadata": {},
   "source": [
    "### Potencial asociado a la partícula \\\\(n\\\\)"
   ]
  },
  {
   "cell_type": "code",
   "execution_count": 1,
   "metadata": {},
   "outputs": [],
   "source": [
    "import sympy as sym\n",
    "from sympy.physics import mechanics as mech\n",
    "mech.init_vprinting() # notación con punto para la velocidad y punto punto para la aceleración\n",
    "import warnings\n",
    "warnings.filterwarnings(\"ignore\")"
   ]
  },
  {
   "cell_type": "code",
   "execution_count": 2,
   "metadata": {},
   "outputs": [],
   "source": [
    "t = sym.Symbol('t')\n",
    "m, k, a, l_0 = sym.symbols('m, k, a, l_0', positive=True) # parámetros físicos\n",
    "\n",
    "psi_nMinus = sym.Function('\\Psi_{n-1}')(t)\n",
    "psi_n = sym.Function('\\psi_{n}')(t)\n",
    "psi_nPlus = sym.Function('\\psi_{n+1}')(t)"
   ]
  },
  {
   "cell_type": "markdown",
   "metadata": {},
   "source": [
    "Las longitudes de los resortes son"
   ]
  },
  {
   "cell_type": "code",
   "execution_count": 3,
   "metadata": {},
   "outputs": [],
   "source": [
    "l_superior = sym.sqrt(a**2 + psi_n**2)\n",
    "l_inferior = sym.sqrt(a**2 + psi_n**2)\n",
    "l_izquierdo = a + psi_n - psi_nMinus\n",
    "l_derecho = a + psi_nPlus - psi_n"
   ]
  },
  {
   "cell_type": "markdown",
   "metadata": {},
   "source": [
    "#### Resortes verticales y horizontales por separado"
   ]
  },
  {
   "cell_type": "markdown",
   "metadata": {},
   "source": [
    "Para hacer las cosas más claras escribo el potencial de los resortes dispuestos verticalmente y horizontalmente por separado.\n",
    "Comienzo con los verticales."
   ]
  },
  {
   "cell_type": "code",
   "execution_count": 4,
   "metadata": {},
   "outputs": [
    {
     "data": {
      "image/png": "[encoded data removed]",
      "text/latex": [
       "$\\displaystyle \\operatorname{V_\\mathrm{resortes\\,verticales}}{\\left(\\psi_{n} \\right)} = k \\left(- l_{0} + \\sqrt{a^{2} + \\psi_{n}^{2}}\\right)^{2}$"
      ],
      "text/plain": [
       "                                                                         2\n",
       "                                              ⎛         ________________⎞ \n",
       "                                              ⎜        ╱  2           2 ⎟ \n",
       "V_\\mathrm{resortes\\,verticales}(\\psi_{n}) = k⋅⎝-l₀ + ╲╱  a  + \\psi_{n}  ⎠ "
      ]
     },
     "execution_count": 4,
     "metadata": {},
     "output_type": "execute_result"
    }
   ],
   "source": [
    "V_verticales = sym.Eq(sym.Function('V_\\mathrm{resortes\\,verticales}')(psi_n),\n",
    "           k/2* (\n",
    "               (l_superior - l_0 )**2 + (l_inferior - l_0 )**2\n",
    "           ) \n",
    "          )\n",
    "V_verticales"
   ]
  },
  {
   "cell_type": "markdown",
   "metadata": {},
   "source": [
    "Ante un corrimiento **horizontal**, en \\\\(\\hat{x}\\\\), desde la posición de equilibrio de la masa \\\\(n\\\\), \\\\(\\psi_n\\\\), estos resortes orientados en sentido **vertical** ejercen en \\\\(\\hat{x}\\\\) una"
   ]
  },
  {
   "cell_type": "code",
   "execution_count": 5,
   "metadata": {},
   "outputs": [
    {
     "data": {
      "image/png": "[encoded data removed]",
      "text/latex": [
       "$\\displaystyle F_{x, \\mathrm{resortes\\,verticales}} = - \\frac{2 k \\left(- l_{0} + \\sqrt{a^{2} + \\psi_{n}^{2}}\\right) \\psi_{n}}{\\sqrt{a^{2} + \\psi_{n}^{2}}}$"
      ],
      "text/plain": [
       "                                            ⎛         ________________⎞       \n",
       "                                            ⎜        ╱  2           2 ⎟       \n",
       "                                       -2⋅k⋅⎝-l₀ + ╲╱  a  + \\psi_{n}  ⎠⋅\\psi_{\n",
       "F_{x, \\mathrm{resortes\\,verticales}} = ───────────────────────────────────────\n",
       "                                                     ________________         \n",
       "                                                    ╱  2           2          \n",
       "                                                  ╲╱  a  + \\psi_{n}           \n",
       "\n",
       "   \n",
       "   \n",
       "n} \n",
       "───\n",
       "   \n",
       "   \n",
       "   "
      ]
     },
     "execution_count": 5,
     "metadata": {},
     "output_type": "execute_result"
    }
   ],
   "source": [
    "sym.Eq(sym.Symbol('F_{x, \\mathrm{resortes\\,verticales}}'), -V_verticales.rhs.diff(psi_n)  )"
   ]
  },
  {
   "cell_type": "markdown",
   "metadata": {},
   "source": [
    "Si solo existieran estos resortes la dinámica estaría determinada por la 2.a ley de Newton"
   ]
  },
  {
   "cell_type": "code",
   "execution_count": 6,
   "metadata": {},
   "outputs": [
    {
     "data": {
      "image/png": "[encoded data removed]",
      "text/latex": [
       "$\\displaystyle m \\ddot{\\psi}_{n} = - \\frac{2 k \\left(- l_{0} + \\sqrt{a^{2} + \\psi_{n}^{2}}\\right) \\psi_{n}}{\\sqrt{a^{2} + \\psi_{n}^{2}}}$"
      ],
      "text/plain": [
       "                  ⎛         ________________⎞          \n",
       "                  ⎜        ╱  2           2 ⎟          \n",
       "             -2⋅k⋅⎝-l₀ + ╲╱  a  + \\psi_{n}  ⎠⋅\\psi_{n} \n",
       "m⋅\\psi_̈{n} = ──────────────────────────────────────────\n",
       "                           ________________            \n",
       "                          ╱  2           2             \n",
       "                        ╲╱  a  + \\psi_{n}              "
      ]
     },
     "execution_count": 6,
     "metadata": {},
     "output_type": "execute_result"
    }
   ],
   "source": [
    "psi_n_2a_verticales = sym.Eq(m* psi_n.diff(t,2), -V_verticales.rhs.diff(psi_n) )\n",
    "psi_n_2a_verticales"
   ]
  },
  {
   "cell_type": "markdown",
   "metadata": {},
   "source": [
    "No tengo herramientas analíticas para resolver una ecuación diferencial no lineal (hay \\\\(\\psi_n^2\\\\) involucrados).\n",
    "Para resolverla la linealizo.\n",
    "Hago esto con un desarrollo en serie en torno a la posición de equilibrio."
   ]
  },
  {
   "cell_type": "code",
   "execution_count": 7,
   "metadata": {},
   "outputs": [],
   "source": [
    "def maclaurin1erOrden(segundaLey):\n",
    "    '''\n",
    "    Desarrollo en serie de Taylor en torno al origen, o serie de Maclaurin, a primer orden en todas las variables.\n",
    "    '''\n",
    "    variables_set = segundaLey.atoms(sym.Function) # regresa un conjunto (set) de las funciones en la expresión  \n",
    "    origenes = {variable : 0 for variable in variables_set} # diccionario de substituciones de cada variable por '0'\n",
    "    segundaLey_rhs_1erOrden = segundaLey.rhs.subs(origenes) # Debe ser nula, sirve para verificar\n",
    "    for variable in variables_set: \n",
    "        segundaLey_rhs_1erOrden += segundaLey.rhs.diff(variable).subs(origenes)* variable\n",
    "    segundaLey_rhs_1erOrden = segundaLey_rhs_1erOrden.collect(variables_set) # collect agrupa lo que multiplica a su argumento\n",
    "    return sym.Eq(segundaLey.lhs, segundaLey_rhs_1erOrden)"
   ]
  },
  {
   "cell_type": "code",
   "execution_count": 8,
   "metadata": {},
   "outputs": [
    {
     "data": {
      "image/png": "[encoded data removed]",
      "text/latex": [
       "$\\displaystyle m \\ddot{\\psi}_{n} = - \\frac{2 k \\left(a - l_{0}\\right) \\psi_{n}}{a}$"
      ],
      "text/plain": [
       "             -2⋅k⋅(a - l₀)⋅\\psi_{n} \n",
       "m⋅\\psi_̈{n} = ───────────────────────\n",
       "                        a           "
      ]
     },
     "execution_count": 8,
     "metadata": {},
     "output_type": "execute_result"
    }
   ],
   "source": [
    "psi_n_2a1erOrden_verticales = maclaurin1erOrden(psi_n_2a_verticales)\n",
    "psi_n_2a1erOrden_verticales"
   ]
  },
  {
   "cell_type": "markdown",
   "metadata": {},
   "source": [
    "Otro tanto debo hacer con los resorten dispuestos **horizontalmente**"
   ]
  },
  {
   "cell_type": "code",
   "execution_count": 9,
   "metadata": {},
   "outputs": [
    {
     "data": {
      "image/png": "[encoded data removed]",
      "text/latex": [
       "$\\displaystyle \\operatorname{V_\\mathrm{resortes\\,horizontales}}{\\left(\\psi_{n} \\right)} = \\frac{k \\left(\\left(- \\Psi_{n-1} + \\psi_{n}\\right)^{2} + \\left(\\psi_{n+1} - \\psi_{n}\\right)^{2}\\right)}{2}$"
      ],
      "text/plain": [
       "                                                ⎛                        2    \n",
       "                                              k⋅⎝(-\\Psi_{n-1} + \\psi_{n})  + (\n",
       "V_\\mathrm{resortes\\,horizontales}(\\psi_{n}) = ────────────────────────────────\n",
       "                                                                         2    \n",
       "\n",
       "                      2⎞\n",
       "\\psi_{n+1} - \\psi_{n}) ⎠\n",
       "────────────────────────\n",
       "                        "
      ]
     },
     "execution_count": 9,
     "metadata": {},
     "output_type": "execute_result"
    }
   ],
   "source": [
    "V_horizontales = sym.Eq(sym.Function('V_\\mathrm{resortes\\,horizontales}')(psi_n),\n",
    "           k/2* (\n",
    "               (l_izquierdo - a)**2 + (l_derecho - a)**2\n",
    "           ) \n",
    "          )\n",
    "V_horizontales"
   ]
  },
  {
   "cell_type": "code",
   "execution_count": 10,
   "metadata": {},
   "outputs": [
    {
     "data": {
      "image/png": "[encoded data removed]",
      "text/latex": [
       "$\\displaystyle m \\ddot{\\psi}_{n} = - \\frac{k \\left(- 2 \\Psi_{n-1} - 2 \\psi_{n+1} + 4 \\psi_{n}\\right)}{2}$"
      ],
      "text/plain": [
       "             -k⋅(-2⋅\\Psi_{n-1} - 2⋅\\psi_{n+1} + 4⋅\\psi_{n}) \n",
       "m⋅\\psi_̈{n} = ───────────────────────────────────────────────\n",
       "                                    2                       "
      ]
     },
     "execution_count": 10,
     "metadata": {},
     "output_type": "execute_result"
    }
   ],
   "source": [
    "psi_n_2a_horizontales = sym.Eq(m* psi_n.diff(t,2), -V_horizontales.rhs.diff(psi_n) )\n",
    "psi_n_2a_horizontales"
   ]
  },
  {
   "cell_type": "markdown",
   "metadata": {},
   "source": [
    "No hubo necesidad de linealizar nada aquí por lo que la 2.a ley contemplando todos los resortes es"
   ]
  },
  {
   "cell_type": "code",
   "execution_count": 11,
   "metadata": {},
   "outputs": [
    {
     "data": {
      "image/png": "[encoded data removed]",
      "text/latex": [
       "$\\displaystyle m \\ddot{\\psi}_{n} = - \\frac{k \\left(- 2 \\Psi_{n-1} - 2 \\psi_{n+1} + 4 \\psi_{n}\\right)}{2} - \\frac{2 k \\left(a - l_{0}\\right) \\psi_{n}}{a}$"
      ],
      "text/plain": [
       "               k⋅(-2⋅\\Psi_{n-1} - 2⋅\\psi_{n+1} + 4⋅\\psi_{n})   2⋅k⋅(a - l₀)⋅\\p\n",
       "m⋅\\psi_̈{n} = - ───────────────────────────────────────────── - ──────────────\n",
       "                                     2                                   a    \n",
       "\n",
       "si_{n}\n",
       "───────\n",
       "      "
      ]
     },
     "execution_count": 11,
     "metadata": {},
     "output_type": "execute_result"
    }
   ],
   "source": [
    "psi_n_2a1erOrden_separados = sym.Eq(m* psi_n.diff(t,2), psi_n_2a1erOrden_verticales.rhs + psi_n_2a_horizontales.rhs)\n",
    "psi_n_2a1erOrden_separados"
   ]
  },
  {
   "cell_type": "markdown",
   "metadata": {},
   "source": [
    "Que puede simplificarse en"
   ]
  },
  {
   "cell_type": "code",
   "execution_count": 12,
   "metadata": {},
   "outputs": [
    {
     "data": {
      "image/png": "[encoded data removed]",
      "text/latex": [
       "$\\displaystyle m \\ddot{\\psi}_{n} = k \\Psi_{n-1} + k \\psi_{n+1} + \\left(- 4 k + \\frac{2 k l_{0}}{a}\\right) \\psi_{n}$"
      ],
      "text/plain": [
       "                                           ⎛       2⋅k⋅l₀⎞         \n",
       "m⋅\\psi_̈{n} = k⋅\\Psi_{n-1} + k⋅\\psi_{n+1} + ⎜-4⋅k + ──────⎟⋅\\psi_{n}\n",
       "                                           ⎝         a   ⎠         "
      ]
     },
     "execution_count": 12,
     "metadata": {},
     "output_type": "execute_result"
    }
   ],
   "source": [
    "psi_n_2a1erOrden_separados = sym.Eq(m* psi_n.diff(t,2), \n",
    "                                    (psi_n_2a1erOrden_verticales.rhs + psi_n_2a_horizontales.rhs).expand().collect(psi_n)\n",
    "                                   )\n",
    "psi_n_2a1erOrden_separados"
   ]
  },
  {
   "cell_type": "markdown",
   "metadata": {},
   "source": [
    "#### Único potencial"
   ]
  },
  {
   "cell_type": "markdown",
   "metadata": {},
   "source": [
    "Realmente no hay necesidad de separar por orientación los aportes al potencial.\n",
    "De hecho pienso que además de poder traer confusión es sin duda más laborioso.\n",
    "\n",
    "Resuelvo ahora partiendo del término del potencial del sistema que atañe a las fuerzas actuando sobre la partícula \\\\(n\\\\)."
   ]
  },
  {
   "cell_type": "code",
   "execution_count": 13,
   "metadata": {},
   "outputs": [
    {
     "data": {
      "image/png": "[encoded data removed]",
      "text/latex": [
       "$\\displaystyle V{\\left(\\Psi_{n-1},\\psi_{n},\\psi_{n+1} \\right)} = \\frac{k \\left(2 \\left(- l_{0} + \\sqrt{a^{2} + \\psi_{n}^{2}}\\right)^{2} + \\left(- \\Psi_{n-1} + \\psi_{n}\\right)^{2} + \\left(\\psi_{n+1} - \\psi_{n}\\right)^{2}\\right)}{2}$"
      ],
      "text/plain": [
       "                                        ⎛                             2       \n",
       "                                        ⎜  ⎛         ________________⎞        \n",
       "                                        ⎜  ⎜        ╱  2           2 ⎟        \n",
       "                                      k⋅⎝2⋅⎝-l₀ + ╲╱  a  + \\psi_{n}  ⎠  + (-\\P\n",
       "V(\\Psi_{n-1}, \\psi_{n}, \\psi_{n+1}) = ────────────────────────────────────────\n",
       "                                                                              \n",
       "\n",
       "                                                ⎞\n",
       "                                                ⎟\n",
       "                    2                          2⎟\n",
       "si_{n-1} + \\psi_{n})  + (\\psi_{n+1} - \\psi_{n}) ⎠\n",
       "─────────────────────────────────────────────────\n",
       "    2                                            "
      ]
     },
     "execution_count": 13,
     "metadata": {},
     "output_type": "execute_result"
    }
   ],
   "source": [
    "V = sym.Eq(sym.Function('V')(psi_nMinus, psi_n, psi_nPlus),\n",
    "           k/2* (\n",
    "               (l_izquierdo - a)**2 + (l_derecho - a)**2 +\n",
    "               (l_superior - l_0 )**2 + (l_inferior - l_0 )**2\n",
    "           ) \n",
    "          )\n",
    "V"
   ]
  },
  {
   "cell_type": "code",
   "execution_count": 14,
   "metadata": {},
   "outputs": [
    {
     "data": {
      "image/png": "[encoded data removed]",
      "text/latex": [
       "$\\displaystyle m \\ddot{\\psi}_{n} = - \\frac{k \\left(- 2 \\Psi_{n-1} - 2 \\psi_{n+1} + 4 \\psi_{n} + \\frac{4 \\left(- l_{0} + \\sqrt{a^{2} + \\psi_{n}^{2}}\\right) \\psi_{n}}{\\sqrt{a^{2} + \\psi_{n}^{2}}}\\right)}{2}$"
      ],
      "text/plain": [
       "                ⎛                                              ⎛         _____\n",
       "                ⎜                                              ⎜        ╱  2  \n",
       "                ⎜                                            4⋅⎝-l₀ + ╲╱  a  +\n",
       "             -k⋅⎜-2⋅\\Psi_{n-1} - 2⋅\\psi_{n+1} + 4⋅\\psi_{n} + ─────────────────\n",
       "                ⎜                                                        _____\n",
       "                ⎜                                                       ╱  2  \n",
       "                ⎝                                                     ╲╱  a  +\n",
       "m⋅\\psi_̈{n} = ────────────────────────────────────────────────────────────────\n",
       "                                                        2                     \n",
       "\n",
       "___________⎞         ⎞ \n",
       "         2 ⎟         ⎟ \n",
       " \\psi_{n}  ⎠⋅\\psi_{n}⎟ \n",
       "─────────────────────⎟ \n",
       "___________          ⎟ \n",
       "         2           ⎟ \n",
       " \\psi_{n}            ⎠ \n",
       "────────────────────────\n",
       "                       "
      ]
     },
     "execution_count": 14,
     "metadata": {},
     "output_type": "execute_result"
    }
   ],
   "source": [
    "psi_n_2a = sym.Eq(m* psi_n.diff(t,2), -V.rhs.diff(psi_n) )\n",
    "psi_n_2a"
   ]
  },
  {
   "cell_type": "code",
   "execution_count": 15,
   "metadata": {},
   "outputs": [
    {
     "data": {
      "image/png": "[encoded data removed]",
      "text/latex": [
       "$\\displaystyle m \\ddot{\\psi}_{n} = \\frac{2 k l_{0} \\psi_{n}}{\\sqrt{a^{2} + \\psi_{n}^{2}}} + k \\Psi_{n-1} + k \\psi_{n+1} - 4 k \\psi_{n}$"
      ],
      "text/plain": [
       "               2⋅k⋅l₀⋅\\psi_{n}                                               \n",
       "m⋅\\psi_̈{n} = ─────────────────── + k⋅\\Psi_{n-1} + k⋅\\psi_{n+1} - 4⋅k⋅\\psi_{n}\n",
       "                ________________                                             \n",
       "               ╱  2           2                                              \n",
       "             ╲╱  a  + \\psi_{n}                                               "
      ]
     },
     "execution_count": 15,
     "metadata": {},
     "output_type": "execute_result"
    }
   ],
   "source": [
    "psi_n_2a = psi_n_2a.simplify()\n",
    "psi_n_2a"
   ]
  },
  {
   "cell_type": "markdown",
   "metadata": {},
   "source": [
    "Como discutí previamente, debo linealizar esta 2.a ley de Newton para desplazamientos desde la posición de equilibiro de la masa \\\\(n\\\\) en \\\\(\\hat{x}\\\\)."
   ]
  },
  {
   "cell_type": "code",
   "execution_count": 16,
   "metadata": {},
   "outputs": [
    {
     "data": {
      "image/png": "[encoded data removed]",
      "text/latex": [
       "$\\displaystyle m \\ddot{\\psi}_{n} = k \\Psi_{n-1} + k \\psi_{n+1} + \\left(- 4 k + \\frac{2 k l_{0}}{a}\\right) \\psi_{n}$"
      ],
      "text/plain": [
       "                                           ⎛       2⋅k⋅l₀⎞         \n",
       "m⋅\\psi_̈{n} = k⋅\\Psi_{n-1} + k⋅\\psi_{n+1} + ⎜-4⋅k + ──────⎟⋅\\psi_{n}\n",
       "                                           ⎝         a   ⎠         "
      ]
     },
     "execution_count": 16,
     "metadata": {},
     "output_type": "execute_result"
    }
   ],
   "source": [
    "psi_n_2a1erOrden = maclaurin1erOrden(psi_n_2a)\n",
    "psi_n_2a1erOrden"
   ]
  },
  {
   "cell_type": "markdown",
   "metadata": {},
   "source": [
    "Obteniendo idéntico resultado."
   ]
  },
  {
   "cell_type": "markdown",
   "metadata": {},
   "source": [
    "## Solución para la dinámica"
   ]
  },
  {
   "cell_type": "markdown",
   "metadata": {},
   "source": [
    "Podemos probar con una solución como la del enunciado del problema anterior"
   ]
  },
  {
   "cell_type": "code",
   "execution_count": 17,
   "metadata": {},
   "outputs": [
    {
     "data": {
      "image/png": "[encoded data removed]",
      "text/latex": [
       "$\\displaystyle A_{n} = A^{(p)} \\cos{\\left(\\alpha^{(p)} + a k^{(p)} n \\right)}$"
      ],
      "text/plain": [
       "Aₙ = A__{(p)}⋅cos(\\alpha__{(p)} + a⋅k__{(p)}⋅n)"
      ]
     },
     "execution_count": 17,
     "metadata": {},
     "output_type": "execute_result"
    }
   ],
   "source": [
    "A_p, n, k_p, alpha_p = sym.symbols(r'A^{(p)}, n, k^{(p)}, \\alpha^{(p)}')\n",
    "A_n = sym.Symbol('A_n')\n",
    "A_n_p_enunciado = sym.Eq(A_n, A_p* sym.cos(n* k_p* a + alpha_p ) )\n",
    "A_n_p_enunciado"
   ]
  },
  {
   "cell_type": "code",
   "execution_count": 18,
   "metadata": {},
   "outputs": [
    {
     "data": {
      "image/png": "[encoded data removed]",
      "text/latex": [
       "$\\displaystyle \\psi_n^{(p)} = A^{(p)} \\cos{\\left(\\alpha^{(p)} + a k^{(p)} n \\right)} \\cos{\\left(\\omega^{(p)} t + \\phi^{(p)} \\right)}$"
      ],
      "text/plain": [
       "\\psi_n__{(p)} = A__{(p)}⋅cos(\\alpha__{(p)} + a⋅k__{(p)}⋅n)⋅cos(\\omega__{(p)}⋅t\n",
       " + \\phi__{(p)})"
      ]
     },
     "execution_count": 18,
     "metadata": {},
     "output_type": "execute_result"
    }
   ],
   "source": [
    "omega, phi = sym.symbols(r'\\omega^{(p)}, \\phi^{(p)}')\n",
    "psi_n_p = sym.Function('\\psi_n^{(p)}')(t)\n",
    "psi_n_p_enunciado = sym.Eq(psi_n_p , A_n_p_enunciado.rhs* sym.cos(omega * t + phi ) )\n",
    "psi_n_p_enunciado"
   ]
  },
  {
   "cell_type": "markdown",
   "metadata": {},
   "source": [
    "Una alternativa es re-escribir la parte espacial \\\\(A_n^{(p)}\\\\) con dos funciones trigonométricas"
   ]
  },
  {
   "cell_type": "code",
   "execution_count": 19,
   "metadata": {},
   "outputs": [
    {
     "data": {
      "image/png": "[encoded data removed]",
      "text/latex": [
       "$\\displaystyle A_{n} = B^{(p)} \\sin{\\left(a k^{(p)} n \\right)} + C^{(p)} \\cos{\\left(a k^{(p)} n \\right)}$"
      ],
      "text/plain": [
       "Aₙ = B__{(p)}⋅sin(a⋅k__{(p)}⋅n) + C__{(p)}⋅cos(a⋅k__{(p)}⋅n)"
      ]
     },
     "execution_count": 19,
     "metadata": {},
     "output_type": "execute_result"
    }
   ],
   "source": [
    "B_p, C_p = sym.symbols(r'B^{(p)}, C^{(p)}')\n",
    "A_n_p_propuesta = sym.Eq(A_n, B_p*sym.sin(n*k_p*a )+  C_p*sym.cos(n*k_p*a ) )\n",
    "A_n_p_propuesta"
   ]
  },
  {
   "cell_type": "code",
   "execution_count": 20,
   "metadata": {},
   "outputs": [
    {
     "data": {
      "image/png": "[encoded data removed]",
      "text/latex": [
       "$\\displaystyle \\psi_n^{(p)} = \\left(B^{(p)} \\sin{\\left(a k^{(p)} n \\right)} + C^{(p)} \\cos{\\left(a k^{(p)} n \\right)}\\right) \\cos{\\left(\\omega^{(p)} t + \\phi^{(p)} \\right)}$"
      ],
      "text/plain": [
       "\\psi_n__{(p)} = (B__{(p)}⋅sin(a⋅k__{(p)}⋅n) + C__{(p)}⋅cos(a⋅k__{(p)}⋅n))⋅cos(\n",
       "\\omega__{(p)}⋅t + \\phi__{(p)})"
      ]
     },
     "execution_count": 20,
     "metadata": {},
     "output_type": "execute_result"
    }
   ],
   "source": [
    "psi_n_p_propuesta = sym.Eq(psi_n_p , A_n_p_propuesta.rhs* sym.cos(omega * t + phi ) )\n",
    "psi_n_p_propuesta"
   ]
  },
  {
   "cell_type": "markdown",
   "metadata": {},
   "source": [
    "### Los número de onda \\\\(k^{(p)}\\\\) determinados por las condiciones de contorno"
   ]
  },
  {
   "cell_type": "markdown",
   "metadata": {},
   "source": [
    "Si tal solución propuesta debe ser válida para toda \\\\(1\\leq n\\leq N\\\\) estoy forzado a imaginar que desde \\\\(n=1\\\\) se extiende a izquierda un resorte a \\\\(n= 0\\\\) y a derecha de \\\\(n= N\\\\) uno hasta \\\\(N= n+1\\\\).\n",
    "\n",
    "Pero si mantengo \\\\(\\psi_{n=0}= 0\\\\) como en el problema anterior, en que pensaba que \\\\(n= 0\\\\) estaba fija a una pared, la fuerza del resorte que la enlaza con la \\\\(n= 1\\\\) no respondería al dibujo del actual sistema.\n",
    "\n",
    "La solución pasa por establecer que \\\\(\\psi_{n= 0}= \\psi_{n= 1}\\\\).\n",
    "Y lo mismo para \\\\(\\psi_{n= N}= \\psi_{n= N+1}\\\\).\n",
    "Esto es lo que posibilitaría imaginar que estos extremos son \"libres\" pero manteniendo la validez de la solución propuesta para toda \\\\(1\\leq n\\leq N\\\\)."
   ]
  },
  {
   "cell_type": "markdown",
   "metadata": {},
   "source": [
    "Analizo solo la parte espacial de la solución"
   ]
  },
  {
   "cell_type": "markdown",
   "metadata": {},
   "source": [
    "#### Parte espacial con fase"
   ]
  },
  {
   "cell_type": "code",
   "execution_count": 21,
   "metadata": {},
   "outputs": [
    {
     "data": {
      "image/png": "[encoded data removed]",
      "text/latex": [
       "$\\displaystyle A_{n} = A^{(p)} \\cos{\\left(\\alpha^{(p)} + a k^{(p)} n \\right)}$"
      ],
      "text/plain": [
       "Aₙ = A__{(p)}⋅cos(\\alpha__{(p)} + a⋅k__{(p)}⋅n)"
      ]
     },
     "execution_count": 21,
     "metadata": {},
     "output_type": "execute_result"
    }
   ],
   "source": [
    "A_n_p_enunciado"
   ]
  },
  {
   "cell_type": "markdown",
   "metadata": {},
   "source": [
    "A la izquierda del sistema"
   ]
  },
  {
   "cell_type": "code",
   "execution_count": 39,
   "metadata": {},
   "outputs": [
    {
     "data": {
      "image/png": "[encoded data removed]",
      "text/latex": [
       "$\\displaystyle A^{(p)} \\cos{\\left(\\alpha^{(p)} \\right)} = A^{(p)} \\cos{\\left(\\alpha^{(p)} + a k^{(p)} \\right)}$"
      ],
      "text/plain": [
       "A__{(p)}⋅cos(\\alpha__{(p)}) = A__{(p)}⋅cos(\\alpha__{(p)} + a⋅k__{(p)})"
      ]
     },
     "execution_count": 39,
     "metadata": {},
     "output_type": "execute_result"
    }
   ],
   "source": [
    "gauche= sym.Eq( A_n_p_enunciado.rhs.subs(n,0), A_n_p_enunciado.rhs.subs(n,1) )\n",
    "gauche"
   ]
  },
  {
   "cell_type": "markdown",
   "metadata": {},
   "source": [
    "Con la identidad trigonométrica\n",
    "$$\n",
    "\\cos(a \\pm b) = \\cos(a) \\cos(b) \\mp \\sin(a) \\sin(b)\n",
    "$$\n",
    "puede obtenerse"
   ]
  },
  {
   "cell_type": "code",
   "execution_count": 73,
   "metadata": {},
   "outputs": [],
   "source": [
    "def idCos(cos_a_pm_b):\n",
    "    '''\n",
    "    Calcula la identidad trigonométrica\n",
    "    $\\cos(a \\pm b) = \\cos(a) \\cos(b) \\mp \\sin(a) \\sin(b)'$\n",
    "    \n",
    "    >>> idCos(sym.cos(n* k_p* a + alpha_p )\n",
    "    −sin(𝛼(𝑝))sin(𝑎𝑘(𝑝))+cos(𝛼(𝑝))cos(𝑎𝑘(𝑝))\n",
    "    '''\n",
    "    class noCoseno(Exception):\n",
    "        pass\n",
    "    if type(cos_a_pm_b == sym.cos):\n",
    "        a = cos_a_pm_b.args[0] # argumento del coseno\n",
    "        b = a.args[1]\n",
    "        a = a.args[0]\n",
    "        if type(gauche.rhs.args[1].args[0])==sym.core.add.Add: \n",
    "            return sym.cos(a)* sym.cos(b) - sym.sin(a)* sym.sin(b) # si el argumento del coseno es (a+b)\n",
    "        else:\n",
    "            return sym.cos(a)* sym.cos(b) + sym.sin(a)* sym.sin(b) # si el argumento del coseno es (a-b)\n",
    "    else:\n",
    "        raise noCoseno('No se ingresó un coseno.')"
   ]
  },
  {
   "cell_type": "code",
   "execution_count": 74,
   "metadata": {},
   "outputs": [
    {
     "data": {
      "image/png": "[encoded data removed]",
      "text/latex": [
       "$\\displaystyle A^{(p)} \\cos{\\left(\\alpha^{(p)} \\right)} = - A^{(p)} \\sin{\\left(\\alpha^{(p)} \\right)} \\sin{\\left(a k^{(p)} \\right)} + A^{(p)} \\cos{\\left(\\alpha^{(p)} \\right)} \\cos{\\left(a k^{(p)} \\right)}$"
      ],
      "text/plain": [
       "A__{(p)}⋅cos(\\alpha__{(p)}) = -A__{(p)}⋅sin(\\alpha__{(p)})⋅sin(a⋅k__{(p)}) + A\n",
       "__{(p)}⋅cos(\\alpha__{(p)})⋅cos(a⋅k__{(p)})"
      ]
     },
     "execution_count": 74,
     "metadata": {},
     "output_type": "execute_result"
    }
   ],
   "source": [
    "gaucheDesarmada= sym.Eq( gauche.lhs, (A_p* idCos(gauche.rhs.args[1] ) ).expand() )\n",
    "gaucheDesarmada"
   ]
  },
  {
   "cell_type": "markdown",
   "metadata": {},
   "source": [
    "Y de aquí"
   ]
  },
  {
   "cell_type": "code",
   "execution_count": 24,
   "metadata": {},
   "outputs": [
    {
     "data": {
      "image/png": "[encoded data removed]",
      "text/latex": [
       "$\\displaystyle \\left(1 - \\cos{\\left(a k^{(p)} \\right)}\\right) \\cos{\\left(\\alpha^{(p)} \\right)} = - \\sin{\\left(\\alpha^{(p)} \\right)} \\sin{\\left(a k^{(p)} \\right)}$"
      ],
      "text/plain": [
       "(1 - cos(a⋅k__{(p)}))⋅cos(\\alpha__{(p)}) = -sin(\\alpha__{(p)})⋅sin(a⋅k__{(p)})"
      ]
     },
     "execution_count": 24,
     "metadata": {},
     "output_type": "execute_result"
    }
   ],
   "source": [
    "cosAlpha = sym.Eq(gauche.lhs/A_p * (1 - gauche.rhs.args[0]/ gauche.lhs) , gauche.rhs.args[1]/ A_p )\n",
    "cosAlpha"
   ]
  },
  {
   "cell_type": "markdown",
   "metadata": {},
   "source": [
    "En la derecha haremos lo mismo con la misma identidad."
   ]
  },
  {
   "cell_type": "code",
   "execution_count": 25,
   "metadata": {},
   "outputs": [
    {
     "data": {
      "image/png": "[encoded data removed]",
      "text/latex": [
       "$\\displaystyle A^{(p)} \\cos{\\left(N a k^{(p)} + \\alpha^{(p)} \\right)} = A^{(p)} \\cos{\\left(\\alpha^{(p)} + a k^{(p)} \\left(N + 1\\right) \\right)}$"
      ],
      "text/plain": [
       "A__{(p)}⋅cos(N⋅a⋅k__{(p)} + \\alpha__{(p)}) = A__{(p)}⋅cos(\\alpha__{(p)} + a⋅k_\n",
       "_{(p)}⋅(N + 1))"
      ]
     },
     "execution_count": 25,
     "metadata": {},
     "output_type": "execute_result"
    }
   ],
   "source": [
    "N = sym.Symbol('N')\n",
    "droit= sym.Eq( A_n_p_enunciado.rhs.subs(n,N), A_n_p_enunciado.rhs.subs(n, N+1) )\n",
    "droit"
   ]
  },
  {
   "cell_type": "code",
   "execution_count": 78,
   "metadata": {},
   "outputs": [
    {
     "data": {
      "image/png": "[encoded data removed]",
      "text/latex": [
       "$\\displaystyle - A^{(p)} \\sin{\\left(\\alpha^{(p)} \\right)} \\sin{\\left(N a k^{(p)} \\right)} + A^{(p)} \\cos{\\left(\\alpha^{(p)} \\right)} \\cos{\\left(N a k^{(p)} \\right)} = - A^{(p)} \\sin{\\left(\\alpha^{(p)} \\right)} \\sin{\\left(N a k^{(p)} + a k^{(p)} \\right)} + A^{(p)} \\cos{\\left(\\alpha^{(p)} \\right)} \\cos{\\left(N a k^{(p)} + a k^{(p)} \\right)}$"
      ],
      "text/plain": [
       "-A__{(p)}⋅sin(\\alpha__{(p)})⋅sin(N⋅a⋅k__{(p)}) + A__{(p)}⋅cos(\\alpha__{(p)})⋅c\n",
       "os(N⋅a⋅k__{(p)}) = -A__{(p)}⋅sin(\\alpha__{(p)})⋅sin(N⋅a⋅k__{(p)} + a⋅k__{(p)})\n",
       " + A__{(p)}⋅cos(\\alpha__{(p)})⋅cos(N⋅a⋅k__{(p)} + a⋅k__{(p)})"
      ]
     },
     "execution_count": 78,
     "metadata": {},
     "output_type": "execute_result"
    }
   ],
   "source": [
    "droit_sinNPlus = sym.Eq( A_p* idCos(droit.lhs.args[1]), A_p* idCos(droit.rhs.args[1] ) ).expand()\n",
    "droit_sinNPlus"
   ]
  },
  {
   "cell_type": "markdown",
   "metadata": {},
   "source": [
    "En la que todavía hay que \"desarmar\" esas trigonométricas con \\\\((N+1)\\\\) a la izquierda de la igualdad."
   ]
  },
  {
   "cell_type": "code",
   "execution_count": 80,
   "metadata": {},
   "outputs": [
    {
     "data": {
      "image/png": "[encoded data removed]",
      "text/latex": [
       "$\\displaystyle - A^{(p)} \\sin{\\left(\\alpha^{(p)} \\right)} \\sin{\\left(N a k^{(p)} \\right)} + A^{(p)} \\cos{\\left(\\alpha^{(p)} \\right)} \\cos{\\left(N a k^{(p)} \\right)} = - A^{(p)} \\sin{\\left(\\alpha^{(p)} \\right)} \\sin{\\left(N a k^{(p)} + a k^{(p)} \\right)} + A^{(p)} \\cos{\\left(\\alpha^{(p)} \\right)} \\cos{\\left(N a k^{(p)} + a k^{(p)} \\right)}$"
      ],
      "text/plain": [
       "-A__{(p)}⋅sin(\\alpha__{(p)})⋅sin(N⋅a⋅k__{(p)}) + A__{(p)}⋅cos(\\alpha__{(p)})⋅c\n",
       "os(N⋅a⋅k__{(p)}) = -A__{(p)}⋅sin(\\alpha__{(p)})⋅sin(N⋅a⋅k__{(p)} + a⋅k__{(p)})\n",
       " + A__{(p)}⋅cos(\\alpha__{(p)})⋅cos(N⋅a⋅k__{(p)} + a⋅k__{(p)})"
      ]
     },
     "execution_count": 80,
     "metadata": {},
     "output_type": "execute_result"
    }
   ],
   "source": [
    "droit_sinNPlus_redux = sym.Eq( droit_sinNPlus.lhs, A_p* idCos(droit.rhs.args[1] ) ).expand()\n",
    "droit_sinNPlus_redux"
   ]
  },
  {
   "cell_type": "code",
   "execution_count": null,
   "metadata": {},
   "outputs": [],
   "source": []
  },
  {
   "cell_type": "code",
   "execution_count": null,
   "metadata": {},
   "outputs": [],
   "source": []
  },
  {
   "cell_type": "code",
   "execution_count": null,
   "metadata": {},
   "outputs": [],
   "source": []
  },
  {
   "cell_type": "code",
   "execution_count": null,
   "metadata": {},
   "outputs": [],
   "source": []
  },
  {
   "cell_type": "code",
   "execution_count": null,
   "metadata": {},
   "outputs": [],
   "source": []
  },
  {
   "cell_type": "code",
   "execution_count": null,
   "metadata": {},
   "outputs": [],
   "source": []
  },
  {
   "cell_type": "markdown",
   "metadata": {},
   "source": [
    "#### Parte espacial con dos trigonométricas"
   ]
  },
  {
   "cell_type": "code",
   "execution_count": 28,
   "metadata": {},
   "outputs": [
    {
     "data": {
      "image/png": "[encoded data removed]",
      "text/latex": [
       "$\\displaystyle A_{n} = B^{(p)} \\sin{\\left(a k^{(p)} n \\right)} + C^{(p)} \\cos{\\left(a k^{(p)} n \\right)}$"
      ],
      "text/plain": [
       "Aₙ = B__{(p)}⋅sin(a⋅k__{(p)}⋅n) + C__{(p)}⋅cos(a⋅k__{(p)}⋅n)"
      ]
     },
     "execution_count": 28,
     "metadata": {},
     "output_type": "execute_result"
    }
   ],
   "source": [
    "A_n_p_propuesta"
   ]
  },
  {
   "cell_type": "markdown",
   "metadata": {},
   "source": [
    "A la izquierda del sistema"
   ]
  },
  {
   "cell_type": "code",
   "execution_count": 29,
   "metadata": {},
   "outputs": [
    {
     "data": {
      "image/png": "[encoded data removed]",
      "text/latex": [
       "$\\displaystyle C^{(p)} = B^{(p)} \\sin{\\left(a k^{(p)} \\right)} + C^{(p)} \\cos{\\left(a k^{(p)} \\right)}$"
      ],
      "text/plain": [
       "C__{(p)} = B__{(p)}⋅sin(a⋅k__{(p)}) + C__{(p)}⋅cos(a⋅k__{(p)})"
      ]
     },
     "execution_count": 29,
     "metadata": {},
     "output_type": "execute_result"
    }
   ],
   "source": [
    "jacobinos= sym.Eq( A_n_p_propuesta.rhs.subs(n,0), A_n_p_propuesta.rhs.subs(n,1) )\n",
    "jacobinos"
   ]
  },
  {
   "cell_type": "markdown",
   "metadata": {},
   "source": [
    "De aquí puede obtenerse que"
   ]
  },
  {
   "cell_type": "code",
   "execution_count": 30,
   "metadata": {},
   "outputs": [
    {
     "data": {
      "image/png": "[encoded data removed]",
      "text/latex": [
       "$\\displaystyle B^{(p)} \\sin{\\left(a k^{(p)} n \\right)} = C^{(p)} \\left(\\cos{\\left(a k^{(p)} \\right)} - 1\\right)$"
      ],
      "text/plain": [
       "B__{(p)}⋅sin(a⋅k__{(p)}⋅n) = C__{(p)}⋅(cos(a⋅k__{(p)}) - 1)"
      ]
     },
     "execution_count": 30,
     "metadata": {},
     "output_type": "execute_result"
    }
   ],
   "source": [
    "B_p_jacobina= sym.Eq(A_n_p_propuesta.rhs.args[0], (jacobinos.rhs.args[1]- jacobinos.lhs).simplify() )\n",
    "B_p_jacobina"
   ]
  },
  {
   "cell_type": "markdown",
   "metadata": {},
   "source": [
    "En la derecha"
   ]
  },
  {
   "cell_type": "code",
   "execution_count": 31,
   "metadata": {},
   "outputs": [
    {
     "data": {
      "image/png": "[encoded data removed]",
      "text/latex": [
       "$\\displaystyle B^{(p)} \\sin{\\left(N a k^{(p)} \\right)} + C^{(p)} \\cos{\\left(N a k^{(p)} \\right)} = B^{(p)} \\sin{\\left(a k^{(p)} \\left(N + 1\\right) \\right)} + C^{(p)} \\cos{\\left(a k^{(p)} \\left(N + 1\\right) \\right)}$"
      ],
      "text/plain": [
       "B__{(p)}⋅sin(N⋅a⋅k__{(p)}) + C__{(p)}⋅cos(N⋅a⋅k__{(p)}) = B__{(p)}⋅sin(a⋅k__{(\n",
       "p)}⋅(N + 1)) + C__{(p)}⋅cos(a⋅k__{(p)}⋅(N + 1))"
      ]
     },
     "execution_count": 31,
     "metadata": {},
     "output_type": "execute_result"
    }
   ],
   "source": [
    "N = sym.Symbol('N')\n",
    "girondinos= sym.Eq( A_n_p_propuesta.rhs.subs(n,N), A_n_p_propuesta.rhs.subs(n,N+1) )\n",
    "girondinos"
   ]
  },
  {
   "cell_type": "markdown",
   "metadata": {},
   "source": [
    "Primero desarmo los términos con \\\\((N+1)\\\\) con identidades trigonométricas. Con\n",
    "$$\n",
    "\\sin(a \\pm b) = \\sin(a) \\cos(b) \\pm \\cos(a) \\sin(b)\n",
    "$$\n",
    "se obtiene"
   ]
  },
  {
   "cell_type": "code",
   "execution_count": 32,
   "metadata": {},
   "outputs": [
    {
     "data": {
      "image/png": "[encoded data removed]",
      "text/latex": [
       "$\\displaystyle B^{(p)} \\sin{\\left(a k^{(p)} \\left(N + 1\\right) \\right)} = B^{(p)} \\sin{\\left(a k^{(p)} \\right)} \\cos{\\left(N a k^{(p)} \\right)} + B^{(p)} \\sin{\\left(N a k^{(p)} \\right)} \\cos{\\left(a k^{(p)} \\right)}$"
      ],
      "text/plain": [
       "B__{(p)}⋅sin(a⋅k__{(p)}⋅(N + 1)) = B__{(p)}⋅sin(a⋅k__{(p)})⋅cos(N⋅a⋅k__{(p)}) \n",
       "+ B__{(p)}⋅sin(N⋅a⋅k__{(p)})⋅cos(a⋅k__{(p)})"
      ]
     },
     "execution_count": 32,
     "metadata": {},
     "output_type": "execute_result"
    }
   ],
   "source": [
    "girondinos_sinNPlus = sym.Eq(girondinos.rhs.args[0],\n",
    "       (girondinos.lhs.args[0]* jacobinos.rhs.args[1] /C_p\n",
    "        + girondinos.lhs.args[1]* jacobinos.rhs.args[0] /C_p\n",
    "       ) )\n",
    "girondinos_sinNPlus"
   ]
  },
  {
   "cell_type": "markdown",
   "metadata": {},
   "source": [
    "y con\n",
    "$$\n",
    "\\cos(a \\pm b) = \\cos(a) \\cos(b) \\mp \\sin(a) \\sin(b)\n",
    "$$"
   ]
  },
  {
   "cell_type": "code",
   "execution_count": 33,
   "metadata": {},
   "outputs": [
    {
     "data": {
      "image/png": "[encoded data removed]",
      "text/latex": [
       "$\\displaystyle C^{(p)} \\cos{\\left(a k^{(p)} \\left(N + 1\\right) \\right)} = - C^{(p)} \\sin{\\left(a k^{(p)} \\right)} \\sin{\\left(N a k^{(p)} \\right)} + C^{(p)} \\cos{\\left(a k^{(p)} \\right)} \\cos{\\left(N a k^{(p)} \\right)}$"
      ],
      "text/plain": [
       "C__{(p)}⋅cos(a⋅k__{(p)}⋅(N + 1)) = -C__{(p)}⋅sin(a⋅k__{(p)})⋅sin(N⋅a⋅k__{(p)})\n",
       " + C__{(p)}⋅cos(a⋅k__{(p)})⋅cos(N⋅a⋅k__{(p)})"
      ]
     },
     "execution_count": 33,
     "metadata": {},
     "output_type": "execute_result"
    }
   ],
   "source": [
    "girondinos_cosNPlus = sym.Eq(girondinos.rhs.args[1],\n",
    "       (girondinos.lhs.args[1]* jacobinos.rhs.args[1]/C_p\n",
    "        - girondinos.lhs.args[0]* jacobinos.rhs.args[0]* C_p/B_p**2\n",
    "       ) )\n",
    "girondinos_cosNPlus"
   ]
  },
  {
   "cell_type": "markdown",
   "metadata": {},
   "source": [
    "Reemplazando en la ecuación para la derecha"
   ]
  },
  {
   "cell_type": "code",
   "execution_count": 34,
   "metadata": {},
   "outputs": [
    {
     "data": {
      "image/png": "[encoded data removed]",
      "text/latex": [
       "$\\displaystyle B^{(p)} \\sin{\\left(N a k^{(p)} \\right)} + C^{(p)} \\cos{\\left(N a k^{(p)} \\right)} = B^{(p)} \\sin{\\left(a k^{(p)} \\right)} \\cos{\\left(N a k^{(p)} \\right)} + B^{(p)} \\sin{\\left(N a k^{(p)} \\right)} \\cos{\\left(a k^{(p)} \\right)} - C^{(p)} \\sin{\\left(a k^{(p)} \\right)} \\sin{\\left(N a k^{(p)} \\right)} + C^{(p)} \\cos{\\left(a k^{(p)} \\right)} \\cos{\\left(N a k^{(p)} \\right)}$"
      ],
      "text/plain": [
       "B__{(p)}⋅sin(N⋅a⋅k__{(p)}) + C__{(p)}⋅cos(N⋅a⋅k__{(p)}) = B__{(p)}⋅sin(a⋅k__{(\n",
       "p)})⋅cos(N⋅a⋅k__{(p)}) + B__{(p)}⋅sin(N⋅a⋅k__{(p)})⋅cos(a⋅k__{(p)}) - C__{(p)}\n",
       "⋅sin(a⋅k__{(p)})⋅sin(N⋅a⋅k__{(p)}) + C__{(p)}⋅cos(a⋅k__{(p)})⋅cos(N⋅a⋅k__{(p)}\n",
       ")"
      ]
     },
     "execution_count": 34,
     "metadata": {},
     "output_type": "execute_result"
    }
   ],
   "source": [
    "girondinos_substituidos = girondinos.subs(girondinos_sinNPlus.lhs, girondinos_sinNPlus.rhs).subs(girondinos_cosNPlus.lhs, girondinos_cosNPlus.rhs) \n",
    "girondinos_substituidos"
   ]
  },
  {
   "cell_type": "markdown",
   "metadata": {},
   "source": [
    "De aqui se tiene que"
   ]
  },
  {
   "cell_type": "code",
   "execution_count": null,
   "metadata": {},
   "outputs": [],
   "source": []
  }
 ],
 "metadata": {
  "kernelspec": {
   "display_name": "Python 3",
   "language": "python",
   "name": "python3"
  },
  "language_info": {
   "codemirror_mode": {
    "name": "ipython",
    "version": 3
   },
   "file_extension": ".py",
   "mimetype": "text/x-python",
   "name": "python",
   "nbconvert_exporter": "python",
   "pygments_lexer": "ipython3",
   "version": "3.7.3"
  }
 },
 "nbformat": 4,
 "nbformat_minor": 4
}
