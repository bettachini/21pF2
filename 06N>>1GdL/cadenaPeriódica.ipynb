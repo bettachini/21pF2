{
 "cells": [
  {
   "cell_type": "markdown",
   "metadata": {},
   "source": [
    "# Cadena periódica de N osciladores acoplados"
   ]
  },
  {
   "cell_type": "markdown",
   "metadata": {},
   "source": [
    "![Departamento de Física, Facultad de Ciencias Exactas y Naturales, Universidad de Buenos Aires](data:image/png;base64,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)  \n",
    "2021 [Víctor A. Bettachini](mailto:bettachini@df.uba.ar)  \n",
    "----"
   ]
  },
  {
   "cell_type": "markdown",
   "metadata": {},
   "source": [
    "Bibliografía:  \n",
    "- Sección 3.1  \n",
    "  [Ondas](http://bit.ly/F2Depinev02)  \n",
    "  Ricardo Depine   \n",
    "  v.5, 2020"
   ]
  },
  {
   "cell_type": "markdown",
   "metadata": {},
   "source": [
    "# Enunciado\n",
    "Enlazadas por resortes de coeficiente de dureza $k$ y longitud natural $l_0$ unas $N$ partículas de masa $m$ en reposo están equiespaciadas en $a$.  \n",
    "![](figuras/ej1-11.png)\n",
    "1. Escriba la ecuación de movimiento transversal para la partícula enésima usando la aproximación de ángulos pequeños.\n",
    "1. Proponga una solución de la forma:\n",
    "\t\\\\[\n",
    "\t\t\\Psi_{n}^{(p)}(t)=A^{(p)}\\cos\\left(nk^{(p)}a+\\alpha^{(p)}\\right)\\cos\\left(\\omega^{(p)}t+\\phi^{(p)}\\right)\n",
    "\t\\\\]\n",
    "\tCon ella halle la relación de dispersión.\n",
    "\t¿Depende esta relación de las condiciones de contorno? \n",
    "1.  En la figura se muestra el caso de extremos fijos en que una virtual partícula \\\\(n=0\\\\) estaría en la pared izquierda y una \\\\(n= N+1\\\\) en la derecha.\n",
    "\tEscriba la solución general para la partícula enésima.\n",
    "\t¿Cuánto vale la frecuencia más baja?\n",
    "\tHaga un dibujo cualitativo del movimiento en dicho modo.\n",
    "1. (*) Ídem. anterior, pero con ambos extremos están libres.\n",
    "\tTal condición de contorno, a diferencia de la fija, no ejerce ninguna fuerza.\n",
    "\tEsto implica que la longitud de los resortes en los extremos es siempre \\\\(a\\\\).\n",
    "\tPuede modelizarse esto imponiento que \\\\(\\Psi_{n=0} = \\Psi_{n=1}\\\\) y \\\\(\\Psi_{n = N} = \\Psi_{n = N+1}\\\\).  \n",
    "1. (*) Ídem. anterior, pero con el extremo izquierdo libre y el derecho fijo a la pared. \n",
    "1. (*) Particularice los resultados de 3, 4 y 5 para el caso en que \\\\(N = 3\\\\).\n",
    "1. (*) Grafique cualitativamente para \\\\(N=9\\\\) la relación de dispersión, es decir, \\\\(\\omega^{(p)}\\\\) en función de \\\\( k^{(p)} \\\\)."
   ]
  },
  {
   "cell_type": "markdown",
   "metadata": {},
   "source": [
    "# 1. Ecuaciones del movimiento transversal"
   ]
  },
  {
   "cell_type": "code",
   "execution_count": 1,
   "metadata": {},
   "outputs": [],
   "source": [
    "import sympy as sym\n",
    "from sympy.physics.mechanics import init_vprinting\n",
    "init_vprinting() # notación con punto para la velocidad y punto punto para la aceleración\n",
    "\n",
    "import warnings\n",
    "warnings.filterwarnings(\"ignore\")"
   ]
  },
  {
   "cell_type": "code",
   "execution_count": 2,
   "metadata": {},
   "outputs": [
    {
     "data": {
      "image/png": "[encoded data removed]",
      "text/latex": [
       "$\\displaystyle V{\\left(\\Psi_{n-1},\\Psi_{n},\\Psi_{n+1} \\right)} = \\frac{k \\left(2 a^{2} + \\left(\\Psi_{n+1} - \\Psi_{n}\\right)^{2} + \\left(- \\Psi_{n-1} + \\Psi_{n}\\right)^{2}\\right)}{2}$"
      ],
      "text/plain": [
       "                                        ⎛   2                          2      \n",
       "                                      k⋅⎝2⋅a  + (\\Psi_{n+1} - \\Psi_{n})  + (-\\\n",
       "V(\\Psi_{n-1}, \\Psi_{n}, \\Psi_{n+1}) = ────────────────────────────────────────\n",
       "                                                                     2        \n",
       "\n",
       "                     2⎞\n",
       "Psi_{n-1} + \\Psi_{n}) ⎠\n",
       "───────────────────────\n",
       "                       "
      ]
     },
     "execution_count": 2,
     "metadata": {},
     "output_type": "execute_result"
    }
   ],
   "source": [
    "t = sym.Symbol('t')\n",
    "k,a = sym.symbols('k, a', positive=True) # parámetros físicos\n",
    "\n",
    "psi_nMinus = sym.Function('\\Psi_{n-1}')(t)\n",
    "psi_n = sym.Function('\\Psi_{n}')(t)\n",
    "psi_nPlus = sym.Function('\\Psi_{n+1}')(t)\n",
    "\n",
    "V = sym.Eq(sym.Function('V')(psi_nMinus, psi_n, psi_nPlus),\n",
    "           k/2* ( (a**2 + (psi_nPlus- psi_n)**2) + (a**2 + (psi_n- psi_nMinus)**2) ) \n",
    "          )\n",
    "V"
   ]
  },
  {
   "cell_type": "code",
   "execution_count": 3,
   "metadata": {},
   "outputs": [
    {
     "data": {
      "image/png": "[encoded data removed]",
      "text/latex": [
       "$\\displaystyle m \\ddot{\\Psi}_{n} = \\frac{k \\left(- 2 \\Psi_{n+1} - 2 \\Psi_{n-1} + 4 \\Psi_{n}\\right)}{2}$"
      ],
      "text/plain": [
       "             k⋅(-2⋅\\Psi_{n+1} - 2⋅\\Psi_{n-1} + 4⋅\\Psi_{n})\n",
       "m⋅\\Psi_̈{n} = ─────────────────────────────────────────────\n",
       "                                   2                      "
      ]
     },
     "execution_count": 3,
     "metadata": {},
     "output_type": "execute_result"
    }
   ],
   "source": [
    "m = sym.Symbol('m', positive=True) # parámetros físicos\n",
    "sym.Eq(m* psi_n.diff(t,2),  V.rhs.diff(psi_n) ) "
   ]
  },
  {
   "cell_type": "code",
   "execution_count": 4,
   "metadata": {},
   "outputs": [
    {
     "data": {
      "image/png": "[encoded data removed]",
      "text/latex": [
       "$\\displaystyle m \\ddot{\\Psi}_{n} = - k \\left(- \\Psi_{n+1} - \\Psi_{n-1} + 2 \\Psi_{n}\\right)$"
      ],
      "text/plain": [
       "m⋅\\Psi_̈{n} = -k⋅(-\\Psi_{n+1} - \\Psi_{n-1} + 2⋅\\Psi_{n})"
      ]
     },
     "execution_count": 4,
     "metadata": {},
     "output_type": "execute_result"
    }
   ],
   "source": [
    "newton_n = sym.Eq(m* psi_n.diff(t,2), -V.rhs.diff(psi_n).simplify() ) \n",
    "newton_n"
   ]
  },
  {
   "cell_type": "markdown",
   "metadata": {},
   "source": [
    "# 2. Hallar la relación de dispersión a partir de la solución propuesta\n",
    "Antes de hacer este punto haremos un gran rodeo para ver de donde proviene tal solución"
   ]
  },
  {
   "cell_type": "markdown",
   "metadata": {},
   "source": [
    "## Modos normales"
   ]
  },
  {
   "cell_type": "markdown",
   "metadata": {},
   "source": [
    "\\\\[\n",
    "  m \\ddot{\\vec{\\Psi}} \n",
    "  = m \\begin{bmatrix} \\vdots\\\\ \\ddot{\\Psi}_{n+1}\\\\ \\ddot{\\Psi}_{n}\\\\ \\ddot{\\Psi}_{n+1}\\\\ \\vdots \\end{bmatrix} \n",
    "  = \\begin{bmatrix}\n",
    "  & & \\vdots & & & & \\\\\n",
    "  \\dots & k & -2k & k & & & \\\\\n",
    "  & & k & -2k & k & & \\\\\n",
    "  & & & k & -2k & k & \\dots \\\\\n",
    "  & & & & & \\vdots & & \\\\\n",
    "  \\end{bmatrix}\n",
    "  \\begin{bmatrix} \\vdots\\\\ \\Psi_{n+1}\\\\ \\Psi_{n}\\\\ \\Psi_{n+1}\\\\ \\vdots  \\end{bmatrix} \n",
    "  = \\mathbb{K} \\vec{\\Psi}.\n",
    "\\\\]\n",
    "Se puede proponer la solución exponencial con la misma frecuencia para cada una de las \\\\(N\\\\) partículas \n",
    "\\\\[\n",
    "  \\begin{bmatrix} \\vdots\\\\ \\Psi_{n+1}\\\\ \\Psi_{n}\\\\ \\Psi_{n+1}\\\\ \\vdots \\end{bmatrix} = \n",
    "  \\begin{bmatrix} \\vdots\\\\ A_{n+1}\\\\ A_{n}\\\\ A_{n+1}\\\\ \\vdots \\end{bmatrix}\n",
    "    \\operatorname{e}^{i \\omega t}\n",
    "\\\\]\n",
    "donde \\\\(A_i\\\\) son las amplitudes de dichas oscilaciones.\n",
    "Reemplazar esta solución en lo anterior nos llevará a tener que resolver un determinante igualado a \\\\(0\\\\).\n",
    "Esto que hicimos para \\\\(N=2\\\\) y \\\\(N=3\\\\) pero podría ser insoportablemente tedioso para \\\\(N\\gg 1\\\\)."
   ]
  },
  {
   "cell_type": "markdown",
   "metadata": {},
   "source": [
    "## Una solución alternativa a resolver el determinante\n",
    "Dado que hay \\\\(N\\\\) partículas sabemos que el método anterior halla sendas soluciones reales, funciones trigonométricas, para los modos en que todas las partículas oscilan con idéntica frecuencia \\\\(\\omega\\\\) y fase \\\\(\\phi\\\\).\n",
    "En estos \\\\(p\\\\) modos, entre los \\\\(N\\\\) posibles, la partícula \\\\(n\\\\) se mueve según"
   ]
  },
  {
   "cell_type": "code",
   "execution_count": 5,
   "metadata": {},
   "outputs": [
    {
     "data": {
      "image/png": "[encoded data removed]",
      "text/latex": [
       "$\\displaystyle \\Psi_n^{(p)} = A_n^{(p)} \\cos{\\left(\\omega^{(p)} t + \\phi^{(p)} \\right)}$"
      ],
      "text/plain": [
       "\\Psi_n__{(p)} = A_n__{(p)}⋅cos(\\omega__{(p)}⋅t + \\phi__{(p)})"
      ]
     },
     "execution_count": 5,
     "metadata": {},
     "output_type": "execute_result"
    }
   ],
   "source": [
    "A_p_n  = sym.Symbol('A_n^{(p)}')\n",
    "omega_p = sym.Symbol('\\omega^{(p)}')\n",
    "phi_p = sym.Symbol('\\phi^{(p)}')\n",
    "psi_p_n = sym.Eq(sym.Symbol('\\Psi_n^{(p)}'), A_p_n* sym.cos(omega_p * t + phi_p ) )\n",
    "psi_p_n"
   ]
  },
  {
   "cell_type": "markdown",
   "metadata": {},
   "source": [
    "donde \\\\(A_n^{(p)}\\\\) es la amplitud para la párticula \\\\(n\\\\).\n",
    "Ídem. para las partículas vecinas \\\\(n-1\\\\) y \\\\(n+1\\\\)."
   ]
  },
  {
   "cell_type": "code",
   "execution_count": 6,
   "metadata": {},
   "outputs": [
    {
     "data": {
      "image/png": "[encoded data removed]",
      "text/latex": [
       "$\\displaystyle \\left( \\Psi_{n+1}^{(p)} = A_{n+1}^{(p)} \\cos{\\left(\\omega^{(p)} t + \\phi^{(p)} \\right)}, \\  \\Psi_{n-1}^{(p)} = A_{n-1}^{(p)} \\cos{\\left(\\omega^{(p)} t + \\phi^{(p)} \\right)}\\right)$"
      ],
      "text/plain": [
       "(\\Psi_{n+1}__{(p)} = A_{n+1}__{(p)}⋅cos(\\omega__{(p)}⋅t + \\phi__{(p)}), \\Psi_{\n",
       "n-1}__{(p)} = A_{n-1}__{(p)}⋅cos(\\omega__{(p)}⋅t + \\phi__{(p)}))"
      ]
     },
     "execution_count": 6,
     "metadata": {},
     "output_type": "execute_result"
    }
   ],
   "source": [
    "A_p_nMinus, A_p_nPlus  = sym.symbols('A_{n-1}^{(p)}, A_{n+1}^{(p)}')\n",
    "psi_p_nPlus = sym.Eq(sym.Symbol('\\Psi_{n+1}^{(p)}'), A_p_nPlus* sym.cos(omega_p * t + phi_p ) )\n",
    "psi_p_nMinus = sym.Eq(sym.Symbol('\\Psi_{n-1}^{(p)}'), A_p_nMinus* sym.cos(omega_p * t + phi_p ) )\n",
    "psi_p_nPlus, psi_p_nMinus"
   ]
  },
  {
   "cell_type": "markdown",
   "metadata": {},
   "source": [
    "Se impone tal solución en la 2.a ecuación de Newton para la partícula \\\\(n\\\\)"
   ]
  },
  {
   "cell_type": "code",
   "execution_count": 7,
   "metadata": {},
   "outputs": [
    {
     "data": {
      "image/png": "[encoded data removed]",
      "text/latex": [
       "$\\displaystyle m \\ddot{\\Psi}_{n} = - k \\left(- \\Psi_{n+1} - \\Psi_{n-1} + 2 \\Psi_{n}\\right)$"
      ],
      "text/plain": [
       "m⋅\\Psi_̈{n} = -k⋅(-\\Psi_{n+1} - \\Psi_{n-1} + 2⋅\\Psi_{n})"
      ]
     },
     "execution_count": 7,
     "metadata": {},
     "output_type": "execute_result"
    }
   ],
   "source": [
    "newton_n"
   ]
  },
  {
   "cell_type": "markdown",
   "metadata": {},
   "source": [
    "y se obtiene"
   ]
  },
  {
   "cell_type": "code",
   "execution_count": 8,
   "metadata": {},
   "outputs": [
    {
     "data": {
      "image/png": "[encoded data removed]",
      "text/latex": [
       "$\\displaystyle A_n^{(p)} \\left(\\omega^{(p)}\\right)^{2} m \\cos{\\left(\\omega^{(p)} t + \\phi^{(p)} \\right)} = - k \\left(- 2 A_n^{(p)} + A_{n+1}^{(p)} + A_{n-1}^{(p)}\\right) \\cos{\\left(\\omega^{(p)} t + \\phi^{(p)} \\right)}$"
      ],
      "text/plain": [
       "                        2                                                     \n",
       "A_n__{(p)}⋅\\omega__{(p)} ⋅m⋅cos(\\omega__{(p)}⋅t + \\phi__{(p)}) = -k⋅(-2⋅A_n__{\n",
       "\n",
       "                                                                          \n",
       "(p)} + A_{n+1}__{(p)} + A_{n-1}__{(p)})⋅cos(\\omega__{(p)}⋅t + \\phi__{(p)})"
      ]
     },
     "execution_count": 8,
     "metadata": {},
     "output_type": "execute_result"
    }
   ],
   "source": [
    "# A_n  = sym.Symbol('A_n')\n",
    "# omega = sym.Symbol('\\omega', positive=True) # parámetros físicos\n",
    "# newton_n.subs(psi_n, A_n* sym.exp(sym.I* omega* t))\n",
    "newton_substituciones={\n",
    "    psi_n: psi_p_n.rhs,\n",
    "    psi_nMinus: psi_p_nMinus.rhs,\n",
    "    psi_nPlus: psi_p_nPlus.rhs,\n",
    "}\n",
    "newton_substituido = newton_n.subs(newton_substituciones).simplify()\n",
    "newton_substituido"
   ]
  },
  {
   "cell_type": "markdown",
   "metadata": {},
   "source": [
    "De aquí puede despejarse una **relación recursiva de amplitudes**"
   ]
  },
  {
   "cell_type": "code",
   "execution_count": 9,
   "metadata": {},
   "outputs": [
    {
     "data": {
      "image/png": "[encoded data removed]",
      "text/latex": [
       "$\\displaystyle A_n^{(p)} \\left(\\omega^{(p)}\\right)^{2} m = 2 A_n^{(p)} k - A_{n+1}^{(p)} k - A_{n-1}^{(p)} k$"
      ],
      "text/plain": [
       "                        2                                                     \n",
       "A_n__{(p)}⋅\\omega__{(p)} ⋅m = 2⋅A_n__{(p)}⋅k - A_{n+1}__{(p)}⋅k - A_{n-1}__{(p\n",
       "\n",
       "    \n",
       ")}⋅k"
      ]
     },
     "execution_count": 9,
     "metadata": {},
     "output_type": "execute_result"
    }
   ],
   "source": [
    "cos = sym.cos(omega_p * t + phi_p )\n",
    "newton_substituidoPaso1 = sym.Eq( newton_substituido.lhs.expand()/ cos,\n",
    "                             newton_substituido.rhs/ cos\n",
    "                            ).expand()\n",
    "newton_substituidoPaso1"
   ]
  },
  {
   "cell_type": "markdown",
   "metadata": {},
   "source": [
    "Se efectua la substitución \\\\(\\omega_0^2 = \\frac{k}{m}\\\\)"
   ]
  },
  {
   "cell_type": "code",
   "execution_count": 10,
   "metadata": {},
   "outputs": [
    {
     "data": {
      "image/png": "[encoded data removed]",
      "text/latex": [
       "$\\displaystyle A_n^{(p)} \\left(\\omega^{(p)}\\right)^{2} = 2 A_n^{(p)} \\omega_{0}^{2} - A_{n+1}^{(p)} \\omega_{0}^{2} - A_{n-1}^{(p)} \\omega_{0}^{2}$"
      ],
      "text/plain": [
       "                        2                       2                         2   \n",
       "A_n__{(p)}⋅\\omega__{(p)}  = 2⋅A_n__{(p)}⋅\\omega₀  - A_{n+1}__{(p)}⋅\\omega₀  - \n",
       "\n",
       "                      2\n",
       "A_{n-1}__{(p)}⋅\\omega₀ "
      ]
     },
     "execution_count": 10,
     "metadata": {},
     "output_type": "execute_result"
    }
   ],
   "source": [
    "omega_0 = sym.Symbol('\\omega_0')\n",
    "newton_substituidoPaso2 = sym.Eq( newton_substituidoPaso1.lhs/m, \n",
    "                                 newton_substituidoPaso1.rhs.subs(k, omega_0**2 )\n",
    "                                )\n",
    "newton_substituidoPaso2"
   ]
  },
  {
   "cell_type": "markdown",
   "metadata": {},
   "source": [
    "Se pueden agrupar a un lado de la igualdad solo las amplitudes y del otro frecuencias"
   ]
  },
  {
   "cell_type": "code",
   "execution_count": 11,
   "metadata": {},
   "outputs": [
    {
     "data": {
      "image/png": "[encoded data removed]",
      "text/latex": [
       "$\\displaystyle A_n^{(p)} = - \\frac{\\omega_{0}^{2} \\left(A_{n+1}^{(p)} + A_{n-1}^{(p)}\\right)}{\\left(\\omega^{(p)}\\right)^{2} - 2 \\omega_{0}^{2}}$"
      ],
      "text/plain": [
       "                     2                                   \n",
       "             -\\omega₀ ⋅(A_{n+1}__{(p)} + A_{n-1}__{(p)}) \n",
       "A_n__{(p)} = ────────────────────────────────────────────\n",
       "                                  2            2         \n",
       "                     \\omega__{(p)}  - 2⋅\\omega₀          "
      ]
     },
     "execution_count": 11,
     "metadata": {},
     "output_type": "execute_result"
    }
   ],
   "source": [
    "newton_substituidoPaso3 = sym.Eq(A_p_n, sym.solve(newton_substituidoPaso2, A_p_n)[0] )\n",
    "newton_substituidoPaso3"
   ]
  },
  {
   "cell_type": "code",
   "execution_count": 12,
   "metadata": {},
   "outputs": [
    {
     "data": {
      "image/png": "[encoded data removed]",
      "text/latex": [
       "$\\displaystyle \\frac{A_n^{(p)}}{A_{n+1}^{(p)} + A_{n-1}^{(p)}} = - \\frac{\\omega_{0}^{2}}{\\left(\\omega^{(p)}\\right)^{2} - 2 \\omega_{0}^{2}}$"
      ],
      "text/plain": [
       "                                                   2         \n",
       "           A_n__{(p)}                      -\\omega₀          \n",
       "─────────────────────────────── = ───────────────────────────\n",
       "A_{n+1}__{(p)} + A_{n-1}__{(p)}                2            2\n",
       "                                  \\omega__{(p)}  - 2⋅\\omega₀ "
      ]
     },
     "execution_count": 12,
     "metadata": {},
     "output_type": "execute_result"
    }
   ],
   "source": [
    "sumaAPlusMinus = newton_substituidoPaso3.rhs.args[3]\n",
    "newton_substituidoPaso4 = sym.Eq(newton_substituidoPaso3.lhs/ sumaAPlusMinus, newton_substituidoPaso3.rhs/ sumaAPlusMinus)\n",
    "newton_substituidoPaso4"
   ]
  },
  {
   "cell_type": "markdown",
   "metadata": {},
   "source": [
    "A la derecha de la igualdad en un cada modo \\\\(p\\\\) las \\\\(\\omega\\\\) son constantes sin dependencia con \\\\(n\\\\).\n",
    "Por tanto la relación de amplitudes a la izquierda se cumple en las \\\\(N\\\\) partículas.\n",
    "Con tres parámetros, \\\\(\\omega^{(p)}\\\\) y dos \\\\(A^{(p)}\\\\) de partículas adyacentes, se pueden obtener las \\\\(A^{(p)}\\\\) de todas las demás."
   ]
  },
  {
   "cell_type": "markdown",
   "metadata": {},
   "source": [
    "## Amplitudes para cada modo"
   ]
  },
  {
   "cell_type": "markdown",
   "metadata": {},
   "source": [
    "Sería práctico determinar una formula general para \\\\(A_n^{(p)}\\\\) que respete tal relación de amplitudes.\n",
    "Hay \\\\(N\\\\) modos \\\\(p\\\\) con sendas relaciones de los \\\\(A^{(p)}\\\\) que debieran cumplirse con una única expresión que permita establecer cada \\\\(A_n^{(p)}\\\\).\n"
   ]
  },
  {
   "cell_type": "code",
   "execution_count": 13,
   "metadata": {},
   "outputs": [
    {
     "data": {
      "image/png": "[encoded data removed]",
      "text/latex": [
       "$\\displaystyle A_n^{(p)} = B^{(p)} \\cos{\\left(\\Theta^{(p)} n \\right)} + C^{(p)} \\sin{\\left(\\Theta^{(p)} n \\right)}$"
      ],
      "text/plain": [
       "A_n__{(p)} = B__{(p)}⋅cos(\\Theta__{(p)}⋅n) + C__{(p)}⋅sin(\\Theta__{(p)}⋅n)"
      ]
     },
     "execution_count": 13,
     "metadata": {},
     "output_type": "execute_result"
    }
   ],
   "source": [
    "B, C, n, Theta = sym.symbols('B^{(p)}, C^{(p)}, n, \\Theta^{(p)}')\n",
    "únicaA_n_p = sym.Eq(A_p_n, B* sym.cos(n* Theta) + C* sym.sin(n* Theta))\n",
    "únicaA_n_p"
   ]
  },
  {
   "cell_type": "markdown",
   "metadata": {},
   "source": [
    "Nuevamente se necesitan tres parámetros para establecer las amplitudes \\\\(B, C\\\\) y \\\\(\\Theta\\\\)."
   ]
  },
  {
   "cell_type": "markdown",
   "metadata": {},
   "source": [
    "Con las identidades trigonométricas\n",
    "\\\\[\n",
    "    \\cos(a \\pm b) = \\cos(a) \\cos(b) \\mp \\sin(a) \\sin(b)\n",
    "\\\\]\n",
    "\\\\[\n",
    "    \\sin(a \\pm b) = \\sin(a) \\cos(b) \\pm \\cos(a) \\sin(b)\n",
    "\\\\]\n",
    "en el capitulo 2 de [Waves escrito por D. Morin](https://scholar.harvard.edu/david-morin/waves) se comprueba que ésta expresión satisface el sistema de \\\\(N\\\\) ecuaciones para \\\\(A_n{(p)}\\\\) y\n",
    "\\\\[\n",
    "\\begin{aligned}\n",
    "A_{n+1} \n",
    "= B \\cos(n+1)\\Theta \n",
    "&+ C \\sin(n+1)\\Theta\\\\\n",
    "= B (\\cos{n \\Theta} \\cos{\\Theta} - \\sin{n \\Theta} \\sin{\\Theta} ) \n",
    "&+ C ( \\sin{n \\Theta} \\cos{\\Theta} + \\cos{n \\Theta} \\sin{\\Theta})\\\\\n",
    "= B \\left(2 \\cos{n \\Theta} \\cos{\\Theta} - ( \\cos{n \\Theta} \\cos{\\Theta} \\sin{n \\Theta} \\sin{\\Theta} ) \\right) \n",
    "&+ C \\left( 2 \\sin{n \\Theta} \\cos{\\Theta} - ( \\sin{n \\Theta} \\cos{\\Theta} - \\cos{n \\Theta} \\sin{\\Theta} ) \\right)\\\\\n",
    "= 2 \\cos{\\Theta} \\left( B \\cos{n \\Theta} - C \\sin{n \\Theta} \\right) \n",
    "&- \\left( B \\cos(n-1)\\Theta + C \\sin(n-1)\\Theta \\right)\\\\\n",
    "= 2 \\cos{\\Theta} A_{n} \n",
    "&- A_{n-1}\\\\\n",
    "\\frac{A_{n+1} + A_{n-1} }{A_n} \n",
    "= 2 \\cos{\\Theta}&\n",
    "\\end{aligned}\n",
    "\\\\]\n",
    "Entonces\n",
    "\\\\[\n",
    "\\begin{aligned}\n",
    "\\frac{A_{n+1} + A_{n-1} }{A_n} \n",
    "&= 2- \\left( \\frac{\\omega^{(p)} }{ \\omega_0 } \\right)^2\\\\\n",
    "2 \\cos{\\Theta}^{(p)}\n",
    "&= 2- \\left( \\frac{\\omega^{(p)} }{ \\omega_0 } \\right)^2\n",
    "\\end{aligned}\n",
    "\\\\]\n",
    "Que como vimos está igualado a constantes sin dependencia con \\\\(n\\\\)."
   ]
  },
  {
   "cell_type": "markdown",
   "metadata": {},
   "source": [
    "## El número de onda \\\\(k\\\\)"
   ]
  },
  {
   "cell_type": "markdown",
   "metadata": {},
   "source": [
    "En la solución general"
   ]
  },
  {
   "cell_type": "code",
   "execution_count": 14,
   "metadata": {},
   "outputs": [
    {
     "data": {
      "image/png": "[encoded data removed]",
      "text/latex": [
       "$\\displaystyle \\Psi_n^{(p)} = A_n^{(p)} \\cos{\\left(\\omega^{(p)} t + \\phi^{(p)} \\right)}$"
      ],
      "text/plain": [
       "\\Psi_n__{(p)} = A_n__{(p)}⋅cos(\\omega__{(p)}⋅t + \\phi__{(p)})"
      ]
     },
     "execution_count": 14,
     "metadata": {},
     "output_type": "execute_result"
    }
   ],
   "source": [
    "psi_p_n"
   ]
  },
  {
   "cell_type": "code",
   "execution_count": 15,
   "metadata": {},
   "outputs": [
    {
     "data": {
      "image/png": "[encoded data removed]",
      "text/latex": [
       "$\\displaystyle \\Psi_n^{(p)} = \\left(B^{(p)} \\cos{\\left(\\Theta^{(p)} n \\right)} + C^{(p)} \\sin{\\left(\\Theta^{(p)} n \\right)}\\right) \\cos{\\left(\\omega^{(p)} t + \\phi^{(p)} \\right)}$"
      ],
      "text/plain": [
       "\\Psi_n__{(p)} = (B__{(p)}⋅cos(\\Theta__{(p)}⋅n) + C__{(p)}⋅sin(\\Theta__{(p)}⋅n)\n",
       ")⋅cos(\\omega__{(p)}⋅t + \\phi__{(p)})"
      ]
     },
     "execution_count": 15,
     "metadata": {},
     "output_type": "execute_result"
    }
   ],
   "source": [
    "psi_p_n_Theta = psi_p_n.subs(únicaA_n_p.lhs, únicaA_n_p.rhs)\n",
    "psi_p_n_Theta"
   ]
  },
  {
   "cell_type": "markdown",
   "metadata": {},
   "source": [
    "la función trigonométrica con \\\\(t\\\\) presenta una periodicidad \\\\(T^{(p)} = \\frac{2 \\pi}{\\omega^{(p)} } \\\\).\n",
    "Pero también en \\\\(A_n^{(p)}\\\\), hay otra periodicidad con\n",
    "\\\\[\n",
    "    \\frac{2 \\pi}{\\Theta^{(p)}}\n",
    "\\\\]\n",
    "por lo que \\\\(\\Theta^{(p)}\\\\) puede interpretarse como una frecuencia espacial.\n",
    "Así como \\\\(T\\\\) es una magnitud de tiempo, sería razonable que la de un período espacial es de longitud.\n",
    "\n",
    "Para lograr esto hay que hacer un cambio de variable a una cuya unidad sea recíproca a la de longitud, e.g. \\\\(m^{-1}\\\\).\n",
    "Así \\\\(\\Psi_n^{(p)}\\\\) tendrá dependencia espacial con \n",
    "\\\\(\n",
    "    \\cos\\left( k^{(p)} x \\right) \\, \\mathrm{y} \\, \\sin\\left( k^{(p)} x \\right),\n",
    "\\\\) \n",
    "donde \\\\(k^{(p)}\\\\) que recibe el nombre de **número de onda**, con periodicidad \n",
    "\\\\[\n",
    "    \\lambda^{(p)} = \\frac{2 \\pi}{k^{(p) } } \n",
    "\\\\] \n",
    "que recibe el nombre de **longitud de onda**."
   ]
  },
  {
   "cell_type": "markdown",
   "metadata": {},
   "source": [
    "Como las \\\\(N\\\\) partículas están equiespaciadas en \\\\(a\\\\) su posición es \\\\(x_n = a n\\\\), entonces \n",
    "\\\\[\n",
    "    k^{(p)} = \\frac{\\Theta^{(p)}}{a},\n",
    "\\\\]"
   ]
  },
  {
   "cell_type": "code",
   "execution_count": 16,
   "metadata": {},
   "outputs": [
    {
     "data": {
      "image/png": "[encoded data removed]",
      "text/latex": [
       "$\\displaystyle \\Psi_n^{(p)} = \\left(B^{(p)} \\cos{\\left(a k^{(p)} n \\right)} + C^{(p)} \\sin{\\left(a k^{(p)} n \\right)}\\right) \\cos{\\left(\\omega^{(p)} t + \\phi^{(p)} \\right)}$"
      ],
      "text/plain": [
       "\\Psi_n__{(p)} = (B__{(p)}⋅cos(a⋅k__{(p)}⋅n) + C__{(p)}⋅sin(a⋅k__{(p)}⋅n))⋅cos(\n",
       "\\omega__{(p)}⋅t + \\phi__{(p)})"
      ]
     },
     "execution_count": 16,
     "metadata": {},
     "output_type": "execute_result"
    }
   ],
   "source": [
    "k_p = sym.Symbol('k^{(p)}')\n",
    "psi_p_n_Theta.subs([(Theta, k_p ), (n, n*a ) ] )"
   ]
  },
  {
   "cell_type": "markdown",
   "metadata": {},
   "source": [
    "Esta solución solo difiere de la propuesta en el enunciado"
   ]
  },
  {
   "cell_type": "code",
   "execution_count": 17,
   "metadata": {},
   "outputs": [
    {
     "data": {
      "image/png": "[encoded data removed]",
      "text/latex": [
       "$\\displaystyle \\Psi_n^{(p)} = A^{(p)} \\cos{\\left(\\alpha^{(p)} + a k^{(p)} n \\right)} \\cos{\\left(\\omega^{(p)} t + \\phi^{(p)} \\right)}$"
      ],
      "text/plain": [
       "\\Psi_n__{(p)} = A__{(p)}⋅cos(\\alpha__{(p)} + a⋅k__{(p)}⋅n)⋅cos(\\omega__{(p)}⋅t\n",
       " + \\phi__{(p)})"
      ]
     },
     "execution_count": 17,
     "metadata": {},
     "output_type": "execute_result"
    }
   ],
   "source": [
    "alpha_p, A_p = sym.symbols(r'\\alpha^{(p)}, A^{(p)}')\n",
    "A_p_n_enunciado = sym.Eq(A_p_n, A_p* sym.cos(n* k_p* a + alpha_p ) )\n",
    "psi_p_n_enunciado = psi_p_n.subs(A_p_n_enunciado.lhs, A_p_n_enunciado.rhs)\n",
    "psi_p_n_enunciado"
   ]
  },
  {
   "cell_type": "markdown",
   "metadata": {},
   "source": [
    "en que los parámetros de \\\\(A_n^{(p)}\\\\) son, además de \\\\(k^{(p)}\\\\), una amplitud \n",
    "\\\\[\n",
    "    A^{(p)} = \\sqrt{B^{(p)} + C^{(p)} } ,\n",
    "\\\\] \n",
    "y una fase \n",
    "\\\\[\n",
    "    \\alpha^{(p)} = \\arctan \\left( \\frac{C^{(p)} }{B^{(p)} } \\right).\n",
    "\\\\]"
   ]
  },
  {
   "cell_type": "markdown",
   "metadata": {},
   "source": [
    "## Relación de dispersión"
   ]
  },
  {
   "cell_type": "markdown",
   "metadata": {},
   "source": [
    "Vimos antes como la frecuencia angular y la espacial están relacionadas\n",
    "\\\\[\n",
    "\\begin{aligned}\n",
    "2 \\cos{\\Theta^{(p)}}\n",
    "&= 2- \\left( \\frac{\\omega^{(p)} }{ \\omega_0 } \\right)^2\\\\\n",
    "2 \\cos \\left( \\frac{k^{(p)}}{a} \\right)\n",
    "&= 2- \\left( \\frac{\\omega^{(p)} }{ \\omega_0 } \\right)^2\\\\\n",
    "2 \\left( 1 - \\cos \\left( \\frac{k^{(p)}}{a} \\right) \\right) \\omega_0^2\n",
    "&= \\left( \\omega^{(p)} \\right)^2 \\\\\n",
    "2 \\left( 2 \\sin^2 \\left( \\frac{k^{(p)}}{2 a } \\right) \\right) \\omega_0^2\n",
    "&= \\left( \\omega^{(p)} \\right)^2 \\\\\n",
    "2\\sin \\left( \\frac{k^{(p)}}{2 a } \\right) \\omega_0\n",
    "&= \\omega^{(p)}  \\\\\n",
    "\\end{aligned},\n",
    "\\\\]\n",
    "donde gracias a la identidad trigonométrica \n",
    "\\\\[\n",
    "    1- \\cos{x} = 2 \\sin^2 \\left(\\frac{x}{2} \\right)\n",
    "\\\\]\n",
    "se arriba a una expresión que incluye información sobre el medio material, en este caso la periodicidad espacial \\\\(a\\\\) de las partículas en la cadena, que recibe el nombre de **relación de dispersión**.\n",
    "\n",
    "Tal relación la obtuvimos sin estudiar como afecta a la dinámica lo que sucede en los extremos de la cadena.\n",
    "En efecto, **NO DEPENDE** de las así llamadas condiciones de contorno."
   ]
  },
  {
   "cell_type": "markdown",
   "metadata": {},
   "source": [
    "## ¿Cómo determinar la relación de dispersión con los datos del enunciado?"
   ]
  },
  {
   "cell_type": "markdown",
   "metadata": {},
   "source": [
    "La deducción de la relación partió de conocer la solución"
   ]
  },
  {
   "cell_type": "code",
   "execution_count": 18,
   "metadata": {},
   "outputs": [
    {
     "data": {
      "image/png": "[encoded data removed]",
      "text/latex": [
       "$\\displaystyle A_n^{(p)} = B^{(p)} \\cos{\\left(\\Theta^{(p)} n \\right)} + C^{(p)} \\sin{\\left(\\Theta^{(p)} n \\right)}$"
      ],
      "text/plain": [
       "A_n__{(p)} = B__{(p)}⋅cos(\\Theta__{(p)}⋅n) + C__{(p)}⋅sin(\\Theta__{(p)}⋅n)"
      ]
     },
     "execution_count": 18,
     "metadata": {},
     "output_type": "execute_result"
    }
   ],
   "source": [
    "únicaA_n_p"
   ]
  },
  {
   "cell_type": "markdown",
   "metadata": {},
   "source": [
    "Pero eso no teníamos porque saberlo a priori."
   ]
  },
  {
   "cell_type": "markdown",
   "metadata": {},
   "source": [
    "Partamos nuevamente de lo obtenido en el punto anterior, la 2.a ley de Newton para la partícula \\\\(n\\\\)"
   ]
  },
  {
   "cell_type": "code",
   "execution_count": 19,
   "metadata": {},
   "outputs": [
    {
     "data": {
      "image/png": "[encoded data removed]",
      "text/latex": [
       "$\\displaystyle m \\ddot{\\Psi}_{n} = - k \\left(- \\Psi_{n+1} - \\Psi_{n-1} + 2 \\Psi_{n}\\right)$"
      ],
      "text/plain": [
       "m⋅\\Psi_̈{n} = -k⋅(-\\Psi_{n+1} - \\Psi_{n-1} + 2⋅\\Psi_{n})"
      ]
     },
     "execution_count": 19,
     "metadata": {},
     "output_type": "execute_result"
    }
   ],
   "source": [
    "newton_n"
   ]
  },
  {
   "cell_type": "markdown",
   "metadata": {},
   "source": [
    "Podemos reemplazar en esta ecuación la solución del enunciado"
   ]
  },
  {
   "cell_type": "code",
   "execution_count": 20,
   "metadata": {},
   "outputs": [
    {
     "data": {
      "image/png": "[encoded data removed]",
      "text/latex": [
       "$\\displaystyle \\Psi_n^{(p)} = A^{(p)} \\cos{\\left(\\alpha^{(p)} + a k^{(p)} n \\right)} \\cos{\\left(\\omega^{(p)} t + \\phi^{(p)} \\right)}$"
      ],
      "text/plain": [
       "\\Psi_n__{(p)} = A__{(p)}⋅cos(\\alpha__{(p)} + a⋅k__{(p)}⋅n)⋅cos(\\omega__{(p)}⋅t\n",
       " + \\phi__{(p)})"
      ]
     },
     "execution_count": 20,
     "metadata": {},
     "output_type": "execute_result"
    }
   ],
   "source": [
    "psi_p_n_enunciado"
   ]
  },
  {
   "cell_type": "markdown",
   "metadata": {},
   "source": [
    "que por claridad en este paso resumiremos en"
   ]
  },
  {
   "cell_type": "code",
   "execution_count": 21,
   "metadata": {},
   "outputs": [
    {
     "data": {
      "image/png": "[encoded data removed]",
      "text/latex": [
       "$\\displaystyle \\Psi_n^{(p)} = A_n^{(p)} \\cos{\\left(\\omega^{(p)} t + \\phi^{(p)} \\right)}$"
      ],
      "text/plain": [
       "\\Psi_n__{(p)} = A_n__{(p)}⋅cos(\\omega__{(p)}⋅t + \\phi__{(p)})"
      ]
     },
     "execution_count": 21,
     "metadata": {},
     "output_type": "execute_result"
    }
   ],
   "source": [
    "psi_p_n"
   ]
  },
  {
   "cell_type": "markdown",
   "metadata": {},
   "source": [
    "y se obtiene"
   ]
  },
  {
   "cell_type": "code",
   "execution_count": 22,
   "metadata": {},
   "outputs": [
    {
     "data": {
      "image/png": "[encoded data removed]",
      "text/latex": [
       "$\\displaystyle A_n^{(p)} \\left(\\omega^{(p)}\\right)^{2} = 2 A_n^{(p)} \\omega_{0}^{2} - A_{n+1}^{(p)} \\omega_{0}^{2} - A_{n-1}^{(p)} \\omega_{0}^{2}$"
      ],
      "text/plain": [
       "                        2                       2                         2   \n",
       "A_n__{(p)}⋅\\omega__{(p)}  = 2⋅A_n__{(p)}⋅\\omega₀  - A_{n+1}__{(p)}⋅\\omega₀  - \n",
       "\n",
       "                      2\n",
       "A_{n-1}__{(p)}⋅\\omega₀ "
      ]
     },
     "execution_count": 22,
     "metadata": {},
     "output_type": "execute_result"
    }
   ],
   "source": [
    "newton_substituidoPaso2"
   ]
  },
  {
   "cell_type": "code",
   "execution_count": 23,
   "metadata": {},
   "outputs": [
    {
     "data": {
      "image/png": "[encoded data removed]",
      "text/latex": [
       "$\\displaystyle \\frac{A_{n+1}^{(p)} + A_{n-1}^{(p)}}{A_n^{(p)}} = - \\frac{\\left(\\omega^{(p)}\\right)^{2}}{\\omega_{0}^{2}} + 2$"
      ],
      "text/plain": [
       "                                                 2    \n",
       "A_{n+1}__{(p)} + A_{n-1}__{(p)}     \\omega__{(p)}     \n",
       "─────────────────────────────── = - ────────────── + 2\n",
       "           A_n__{(p)}                         2       \n",
       "                                       \\omega₀        "
      ]
     },
     "execution_count": 23,
     "metadata": {},
     "output_type": "execute_result"
    }
   ],
   "source": [
    "relaciónAmplitudes = sym.Eq(newton_substituidoPaso4.rhs**(-1) , newton_substituidoPaso4.lhs**(-1)\n",
    "                           ).simplify()\n",
    "relaciónAmplitudes"
   ]
  },
  {
   "cell_type": "markdown",
   "metadata": {},
   "source": [
    "Volvemos a expresar la función de las \\\\(A_n^{(p)}\\\\)"
   ]
  },
  {
   "cell_type": "code",
   "execution_count": 24,
   "metadata": {},
   "outputs": [
    {
     "data": {
      "image/png": "[encoded data removed]",
      "text/latex": [
       "$\\displaystyle \\frac{A^{(p)} \\cos{\\left(\\alpha^{(p)} + a k^{(p)} n - a k^{(p)} \\right)} + A^{(p)} \\cos{\\left(\\alpha^{(p)} + a k^{(p)} n + a k^{(p)} \\right)}}{A^{(p)} \\cos{\\left(\\alpha^{(p)} + a k^{(p)} n \\right)}} = - \\frac{\\left(\\omega^{(p)}\\right)^{2}}{\\omega_{0}^{2}} + 2$"
      ],
      "text/plain": [
       "                                                                              \n",
       "A__{(p)}⋅cos(\\alpha__{(p)} + a⋅k__{(p)}⋅n - a⋅k__{(p)}) + A__{(p)}⋅cos(\\alpha_\n",
       "──────────────────────────────────────────────────────────────────────────────\n",
       "                                    A__{(p)}⋅cos(\\alpha__{(p)} + a⋅k__{(p)}⋅n)\n",
       "                                                                              \n",
       "\n",
       "                                                     2    \n",
       "_{(p)} + a⋅k__{(p)}⋅n + a⋅k__{(p)})     \\omega__{(p)}     \n",
       "─────────────────────────────────── = - ────────────── + 2\n",
       "                                                  2       \n",
       "                                           \\omega₀        "
      ]
     },
     "execution_count": 24,
     "metadata": {},
     "output_type": "execute_result"
    }
   ],
   "source": [
    "A_p_nPlus_enunciado = A_p_n_enunciado.subs(n, n+1).expand()\n",
    "A_p_nMinus_enunciado = A_p_n_enunciado.subs(n, n-1).expand()\n",
    "relaciónDispersión1 = relaciónAmplitudes.subs([(A_p_n, A_p_n_enunciado.rhs),\n",
    "                                               (A_p_nPlus, A_p_nPlus_enunciado.rhs),\n",
    "                                               (A_p_nMinus, A_p_nMinus_enunciado.rhs)\n",
    "                                              ] )\n",
    "relaciónDispersión1"
   ]
  },
  {
   "cell_type": "markdown",
   "metadata": {},
   "source": [
    "Usando en el numerador la identidad trigonométrica\n",
    "\\\\[\n",
    "    \\cos(a \\pm b) = \\cos(a) \\cos(b) \\mp \\sin(a) \\sin(b)\n",
    "\\\\]\n",
    "con el argumento \\\\(b= k^{(p)} a\\\\) se obtiene"
   ]
  },
  {
   "cell_type": "code",
   "execution_count": 25,
   "metadata": {},
   "outputs": [
    {
     "data": {
      "image/png": "[encoded data removed]",
      "text/latex": [
       "$\\displaystyle 2 \\cos{\\left(a k^{(p)} \\right)} = - \\frac{\\left(\\omega^{(p)}\\right)^{2}}{\\omega_{0}^{2}} + 2$"
      ],
      "text/plain": [
       "                                   2    \n",
       "                      \\omega__{(p)}     \n",
       "2⋅cos(a⋅k__{(p)}) = - ────────────── + 2\n",
       "                                2       \n",
       "                         \\omega₀        "
      ]
     },
     "execution_count": 25,
     "metadata": {},
     "output_type": "execute_result"
    }
   ],
   "source": [
    "relaciónDispersión2 = relaciónDispersión1.subs(relaciónDispersión1.lhs.args[2], relaciónDispersión1.lhs.args[2].trigsimp() )\n",
    "relaciónDispersión2"
   ]
  },
  {
   "cell_type": "code",
   "execution_count": 26,
   "metadata": {},
   "outputs": [
    {
     "data": {
      "image/png": "[encoded data removed]",
      "text/latex": [
       "$\\displaystyle \\frac{\\left(\\omega^{(p)}\\right)^{2}}{\\omega_{0}^{2}} = 2 - 2 \\cos{\\left(a k^{(p)} \\right)}$"
      ],
      "text/plain": [
       "             2                        \n",
       "\\omega__{(p)}                         \n",
       "────────────── = 2 - 2⋅cos(a⋅k__{(p)})\n",
       "          2                           \n",
       "   \\omega₀                            "
      ]
     },
     "execution_count": 26,
     "metadata": {},
     "output_type": "execute_result"
    }
   ],
   "source": [
    "relaciónDispersión3 = sym.Eq((omega_p/ omega_0)**2 , sym.solve(relaciónDispersión2.lhs- relaciónDispersión2.rhs, (omega_p/ omega_0)**2 )[0])\n",
    "relaciónDispersión3"
   ]
  },
  {
   "cell_type": "markdown",
   "metadata": {},
   "source": [
    "Con la identidad trigonométrica \n",
    "\\\\[\n",
    "    1- \\cos{x} = 2 \\sin^2 \\left( \\frac{x}{2} \\right)\n",
    "\\\\]\n",
    "puede re-escribirse como"
   ]
  },
  {
   "cell_type": "code",
   "execution_count": 27,
   "metadata": {},
   "outputs": [
    {
     "data": {
      "image/png": "[encoded data removed]",
      "text/latex": [
       "$\\displaystyle \\frac{\\left(\\omega^{(p)}\\right)^{2}}{\\omega_{0}^{2}} = 4 \\sin^{2}{\\left(\\frac{a k^{(p)}}{2} \\right)}$"
      ],
      "text/plain": [
       "             2                     \n",
       "\\omega__{(p)}         2⎛a⋅k__{(p)}⎞\n",
       "────────────── = 4⋅sin ⎜──────────⎟\n",
       "          2            ⎝    2     ⎠\n",
       "   \\omega₀                         "
      ]
     },
     "execution_count": 27,
     "metadata": {},
     "output_type": "execute_result"
    }
   ],
   "source": [
    "relaciónDispersión4 = relaciónDispersión3.subs(relaciónDispersión3.rhs, 4* sym.sin(k_p* a/ 2)**2 )\n",
    "relaciónDispersión4"
   ]
  },
  {
   "cell_type": "markdown",
   "metadata": {},
   "source": [
    "Y de aquí la relación de dispersión"
   ]
  },
  {
   "cell_type": "code",
   "execution_count": 28,
   "metadata": {},
   "outputs": [
    {
     "data": {
      "image/png": "[encoded data removed]",
      "text/latex": [
       "$\\displaystyle \\omega^{(p)} = 2 \\omega_{0} \\sin{\\left(\\frac{a k^{(p)}}{2} \\right)}$"
      ],
      "text/plain": [
       "                             ⎛a⋅k__{(p)}⎞\n",
       "\\omega__{(p)} = 2⋅\\omega₀⋅sin⎜──────────⎟\n",
       "                             ⎝    2     ⎠"
      ]
     },
     "execution_count": 28,
     "metadata": {},
     "output_type": "execute_result"
    }
   ],
   "source": [
    "relaciónDispersión5 = sym.Eq(omega_p, sym.solve(relaciónDispersión4.lhs- relaciónDispersión4.rhs, omega_p)[1] )\n",
    "relaciónDispersión5"
   ]
  },
  {
   "cell_type": "markdown",
   "metadata": {},
   "source": [
    "# 3. ¿Cómo determinar los \\\\(k^{(p)}\\\\)? Caso de extremos fijos"
   ]
  },
  {
   "cell_type": "markdown",
   "metadata": {},
   "source": [
    "De la solución del enunciado, solo nos ocupa la parte espacial"
   ]
  },
  {
   "cell_type": "code",
   "execution_count": 29,
   "metadata": {},
   "outputs": [
    {
     "data": {
      "image/png": "[encoded data removed]",
      "text/latex": [
       "$\\displaystyle A_n^{(p)} = A^{(p)} \\cos{\\left(\\alpha^{(p)} + a k^{(p)} n \\right)}$"
      ],
      "text/plain": [
       "A_n__{(p)} = A__{(p)}⋅cos(\\alpha__{(p)} + a⋅k__{(p)}⋅n)"
      ]
     },
     "execution_count": 29,
     "metadata": {},
     "output_type": "execute_result"
    }
   ],
   "source": [
    "A_p_n_enunciado"
   ]
  },
  {
   "cell_type": "markdown",
   "metadata": {},
   "source": [
    "Solo sabemos que \\\\(A_{n=0}^{(p)}=0\\\\) y \\\\(A_{N+1=0}^{(p)}=0\\\\).\n",
    "Tales _partículas_ no son reales sino unas virtuales que nos sugiere el enunciado imaginemos estarían donde está la pared.\n",
    "En el caso de \\\\(n=0\\\\)"
   ]
  },
  {
   "cell_type": "code",
   "execution_count": 30,
   "metadata": {},
   "outputs": [
    {
     "data": {
      "image/png": "[encoded data removed]",
      "text/latex": [
       "$\\displaystyle 0 = A^{(p)} \\cos{\\left(\\alpha^{(p)} \\right)}$"
      ],
      "text/plain": [
       "0 = A__{(p)}⋅cos(\\alpha__{(p)})"
      ]
     },
     "execution_count": 30,
     "metadata": {},
     "output_type": "execute_result"
    }
   ],
   "source": [
    "A_p_n0 = A_p_n_enunciado.subs([(A_p_n,0), (n,0)])\n",
    "A_p_n0"
   ]
  },
  {
   "cell_type": "code",
   "execution_count": 31,
   "metadata": {},
   "outputs": [
    {
     "data": {
      "image/png": "[encoded data removed]",
      "text/latex": [
       "$\\displaystyle \\left[ \\frac{\\pi}{2}, \\  \\frac{3 \\pi}{2}\\right]$"
      ],
      "text/plain": [
       "⎡π  3⋅π⎤\n",
       "⎢─, ───⎥\n",
       "⎣2   2 ⎦"
      ]
     },
     "execution_count": 31,
     "metadata": {},
     "output_type": "execute_result"
    }
   ],
   "source": [
    "alpha_p_sol = sym.solve(A_p_n0.rhs, alpha_p)\n",
    "alpha_p_sol"
   ]
  },
  {
   "cell_type": "markdown",
   "metadata": {},
   "source": [
    "De estas soluciones puede elegirse cualquiera que nos servirán para todos los modos \\\\(p\\\\).\n",
    "Puesto que \\\\(\\cos\\left(x+\\frac{3\\pi}{2}\\right) = \\sin{x}\\\\) eligiendo la segunda la parte espacial de la solución es"
   ]
  },
  {
   "cell_type": "code",
   "execution_count": 32,
   "metadata": {},
   "outputs": [
    {
     "data": {
      "image/png": "[encoded data removed]",
      "text/latex": [
       "$\\displaystyle A_n^{(p)} = A^{(p)} \\sin{\\left(a k^{(p)} n \\right)}$"
      ],
      "text/plain": [
       "A_n__{(p)} = A__{(p)}⋅sin(a⋅k__{(p)}⋅n)"
      ]
     },
     "execution_count": 32,
     "metadata": {},
     "output_type": "execute_result"
    }
   ],
   "source": [
    "A_p_n_n0_sol = A_p_n_enunciado.subs(alpha_p, alpha_p_sol[1])\n",
    "A_p_n_n0_sol"
   ]
  },
  {
   "cell_type": "markdown",
   "metadata": {},
   "source": [
    "En el otro extremo, en \\\\(n=N+1\\\\), tendríamos \\\\(A_{n= N+1} = 0\\\\)"
   ]
  },
  {
   "cell_type": "code",
   "execution_count": 33,
   "metadata": {},
   "outputs": [
    {
     "data": {
      "image/png": "[encoded data removed]",
      "text/latex": [
       "$\\displaystyle 0 = A^{(p)} \\sin{\\left(a k^{(p)} \\left(N + 1\\right) \\right)}$"
      ],
      "text/plain": [
       "0 = A__{(p)}⋅sin(a⋅k__{(p)}⋅(N + 1))"
      ]
     },
     "execution_count": 33,
     "metadata": {},
     "output_type": "execute_result"
    }
   ],
   "source": [
    "N = sym.Symbol('N')\n",
    "A_p_NPlus = A_p_n_n0_sol.subs([(A_p_n,0), (B,0), (n,N+1)])\n",
    "A_p_NPlus"
   ]
  },
  {
   "cell_type": "code",
   "execution_count": 34,
   "metadata": {},
   "outputs": [
    {
     "data": {
      "image/png": "[encoded data removed]",
      "text/latex": [
       "$\\displaystyle \\left[ 0, \\  \\frac{\\pi}{a \\left(N + 1\\right)}\\right]$"
      ],
      "text/plain": [
       "⎡       π    ⎤\n",
       "⎢0, ─────────⎥\n",
       "⎣   a⋅(N + 1)⎦"
      ]
     },
     "execution_count": 34,
     "metadata": {},
     "output_type": "execute_result"
    }
   ],
   "source": [
    "k_p_sol = sym.solve(A_p_NPlus.rhs, k_p)\n",
    "k_p_sol"
   ]
  },
  {
   "cell_type": "markdown",
   "metadata": {},
   "source": [
    "Si probamos la segunda solución en la condición veremos que también son válidos todos los múltiplos en \\\\(p\\\\) de la misma"
   ]
  },
  {
   "cell_type": "code",
   "execution_count": 35,
   "metadata": {},
   "outputs": [
    {
     "data": {
      "image/png": "[encoded data removed]",
      "text/latex": [
       "$\\displaystyle 0 = A^{(p)} \\sin{\\left(\\pi p \\right)}$"
      ],
      "text/plain": [
       "0 = A__{(p)}⋅sin(π⋅p)"
      ]
     },
     "execution_count": 35,
     "metadata": {},
     "output_type": "execute_result"
    }
   ],
   "source": [
    "p = sym.Symbol('p')\n",
    "A_p_NPlus.subs(k_p, p* k_p_sol[1])"
   ]
  },
  {
   "cell_type": "markdown",
   "metadata": {},
   "source": [
    "Así hallamos los números de ondas determinados por las condiciones de contorno"
   ]
  },
  {
   "cell_type": "code",
   "execution_count": 36,
   "metadata": {},
   "outputs": [
    {
     "data": {
      "image/png": "[encoded data removed]",
      "text/latex": [
       "$\\displaystyle k^{(p)} = \\frac{\\pi p}{a \\left(N + 1\\right)}$"
      ],
      "text/plain": [
       "              π⋅p   \n",
       "k__{(p)} = ─────────\n",
       "           a⋅(N + 1)"
      ]
     },
     "execution_count": 36,
     "metadata": {},
     "output_type": "execute_result"
    }
   ],
   "source": [
    "k_p_fijoFijo = sym.Eq(k_p, p* k_p_sol[1])\n",
    "k_p_fijoFijo"
   ]
  },
  {
   "cell_type": "markdown",
   "metadata": {},
   "source": [
    "con \\\\(p \\in \\mathbb{N}\\\\).\n",
    "\n",
    "Con la relación de dispersión se obtienen las correspondientes frecuencias"
   ]
  },
  {
   "cell_type": "code",
   "execution_count": 37,
   "metadata": {},
   "outputs": [
    {
     "data": {
      "image/png": "[encoded data removed]",
      "text/latex": [
       "$\\displaystyle \\omega^{(p)} = 2 \\omega_{0} \\sin{\\left(\\frac{\\pi p}{2 \\left(N + 1\\right)} \\right)}$"
      ],
      "text/plain": [
       "                             ⎛   π⋅p   ⎞\n",
       "\\omega__{(p)} = 2⋅\\omega₀⋅sin⎜─────────⎟\n",
       "                             ⎝2⋅(N + 1)⎠"
      ]
     },
     "execution_count": 37,
     "metadata": {},
     "output_type": "execute_result"
    }
   ],
   "source": [
    "omega_p_fijoFijo = relaciónDispersión5.subs(k_p, k_p_fijoFijo.rhs)\n",
    "omega_p_fijoFijo"
   ]
  },
  {
   "cell_type": "markdown",
   "metadata": {},
   "source": [
    "Y esta expresión es la que deja en claro porque se identificó con \\\\(p\\\\) el entero que impone los posibles \\\\(k^{(p)} \\\\).\n",
    "Con \\\\(N\\\\) grados de libertad las frecuencias (y modos) posibles son todos los \\\\(p \\leq N\\\\) con \\\\(p \\in \\mathbb{N}\\\\).\n",
    "Si en la expresión para \\\\(\\omega^{(p)}\\\\) se multiplicara por el entero \\\\(N+1\\\\) tal frecuencia sería nula, y si se lo hiciera por un entero \\\\(> N+1\\\\), ¡negativa!"
   ]
  },
  {
   "cell_type": "markdown",
   "metadata": {},
   "source": [
    "## Solución general para el caso fijo-fijo"
   ]
  },
  {
   "cell_type": "code",
   "execution_count": 38,
   "metadata": {},
   "outputs": [
    {
     "data": {
      "image/png": "[encoded data removed]",
      "text/latex": [
       "$\\displaystyle \\Psi_n^{(p)} = A^{(p)} \\sin{\\left(\\frac{\\pi n p}{N + 1} \\right)} \\cos{\\left(2 \\omega_{0} t \\sin{\\left(\\frac{\\pi p}{2 \\left(N + 1\\right)} \\right)} + \\phi^{(p)} \\right)}$"
      ],
      "text/plain": [
       "                            ⎛π⋅n⋅p⎞    ⎛               ⎛   π⋅p   ⎞            \n",
       "\\Psi_n__{(p)} = A__{(p)}⋅sin⎜─────⎟⋅cos⎜2⋅\\omega₀⋅t⋅sin⎜─────────⎟ + \\phi__{(p\n",
       "                            ⎝N + 1⎠    ⎝               ⎝2⋅(N + 1)⎠            \n",
       "\n",
       "  ⎞\n",
       ")}⎟\n",
       "  ⎠"
      ]
     },
     "execution_count": 38,
     "metadata": {},
     "output_type": "execute_result"
    }
   ],
   "source": [
    "condiciones_fijoFijo = {\n",
    "    alpha_p: alpha_p_sol[1],\n",
    "    k_p : k_p_fijoFijo.rhs,\n",
    "    omega_p : omega_p_fijoFijo.rhs,\n",
    "}\n",
    "psi_p_n_enunciado.subs(condiciones_fijoFijo)"
   ]
  },
  {
   "cell_type": "markdown",
   "metadata": {},
   "source": [
    "## Modo más bajo del caso fijo-fijo"
   ]
  },
  {
   "cell_type": "markdown",
   "metadata": {},
   "source": [
    "Puesto que \\\\(p \\leq N \\\\) con \\\\(p \\in \\mathbb{N}\\\\) la frecuencia \\\\(\\omega^{(p)}\\\\) alcanza su mayor valor en \\\\(p=N\\\\), sin nunca llegar a ser \\\\(2 \\omega_0\\\\) y el menor corresponde a \\\\(p=1\\\\)"
   ]
  },
  {
   "cell_type": "code",
   "execution_count": 39,
   "metadata": {},
   "outputs": [
    {
     "data": {
      "image/png": "[encoded data removed]",
      "text/latex": [
       "$\\displaystyle \\omega^{(p)} = 2 \\omega_{0} \\sin{\\left(\\frac{\\pi}{2 \\left(N + 1\\right)} \\right)}$"
      ],
      "text/plain": [
       "                             ⎛    π    ⎞\n",
       "\\omega__{(p)} = 2⋅\\omega₀⋅sin⎜─────────⎟\n",
       "                             ⎝2⋅(N + 1)⎠"
      ]
     },
     "execution_count": 39,
     "metadata": {},
     "output_type": "execute_result"
    }
   ],
   "source": [
    "omega_p_fijoFijo.subs(p,1)"
   ]
  },
  {
   "cell_type": "markdown",
   "metadata": {},
   "source": [
    "Para responder al interrogante de como es el movimiento en este modo es práctico graficar las \\\\(A_n^{(p)}\\\\) de cada \\\\(n\\\\), en este caso para \\\\(p=1\\\\)."
   ]
  },
  {
   "cell_type": "code",
   "execution_count": 40,
   "metadata": {},
   "outputs": [
    {
     "data": {
      "image/png": "[encoded data removed]",
      "text/latex": [
       "$\\displaystyle A_n^{(p)} = A^{(p)} \\sin{\\left(\\frac{\\pi n p}{N + 1} \\right)}$"
      ],
      "text/plain": [
       "                         ⎛π⋅n⋅p⎞\n",
       "A_n__{(p)} = A__{(p)}⋅sin⎜─────⎟\n",
       "                         ⎝N + 1⎠"
      ]
     },
     "execution_count": 40,
     "metadata": {},
     "output_type": "execute_result"
    }
   ],
   "source": [
    "A_p_n_fijoFijo_substituciones = {\n",
    "    k_p: k_p_fijoFijo.rhs,\n",
    "    alpha_p: alpha_p_sol[1],\n",
    "}\n",
    "A_p_n_fijoFijo = A_p_n_enunciado.subs(A_p_n_fijoFijo_substituciones)\n",
    "A_p_n_fijoFijo"
   ]
  },
  {
   "cell_type": "code",
   "execution_count": 41,
   "metadata": {},
   "outputs": [],
   "source": [
    "import numpy as np\n",
    "import matplotlib.pyplot as plt\n",
    "import matplotlib as mpl\n",
    "mpl.style.use('fivethirtyeight') # estilo de gráficos con grilla y letras grandes\n",
    "import ipywidgets as iwy"
   ]
  },
  {
   "cell_type": "code",
   "execution_count": 42,
   "metadata": {},
   "outputs": [],
   "source": [
    "def A_p_n_fijoFijo_interactivo(N_magnitud = 7, p_magnitud = 1):\n",
    "    a_magnitud = 0.1 # [m] separación de partículas\n",
    "    A_p_magnitud = 0.1 # [m]\n",
    "    A_p_n_fijoFijo_magnitudes = {\n",
    "        p: p_magnitud,\n",
    "        N: N_magnitud,\n",
    "        A_p: A_p_magnitud\n",
    "    }\n",
    "\n",
    "    n_vector = np.arange(1, N_magnitud+1) # vector de n particulas\n",
    "    x_n = a_magnitud* n_vector # posición de particulas\n",
    "    x_lim = [0, (N_magnitud+ 1)* a_magnitud]\n",
    "    n_continuo =  np.linspace(x_lim[0], x_lim[1], num= 80)\n",
    "    \n",
    "    A_n_función = sym.lambdify(n, A_p_n_fijoFijo.rhs.subs(A_p_n_fijoFijo_magnitudes ), modules= 'numpy' )\n",
    "    A_n_discreto = A_n_función(n_vector) # amplitud oscilación de partículas\n",
    "    A_n_continuo = A_n_función(n_continuo/ a_magnitud) # (ojo, n= x/a) amplitud oscilación de partículas\n",
    "\n",
    "    fig = plt.figure(figsize= (12, 4))\n",
    "    ax = fig.add_axes([0, 0, 1, 1])\n",
    "    ax.set_xlim(x_lim)\n",
    "    ax.set_ylim(-1.2* A_p_magnitud, 1.2* A_p_magnitud)\n",
    "    ax.set_xlabel('x [m]', fontsize = 14)\n",
    "    ax.set_ylabel('A [m]', fontsize = 14)\n",
    "\n",
    "    ax.plot(n_continuo, A_n_continuo, '-c') # trazo\n",
    "    ax.plot(x_n, A_n_discreto, 'ob', markersize=15 ) # partículas\n",
    "    fig.show()"
   ]
  },
  {
   "cell_type": "code",
   "execution_count": 43,
   "metadata": {},
   "outputs": [
    {
     "data": {
      "application/vnd.jupyter.widget-view+json": {
       "model_id": "186a5213b547471ea534792f0af556d9",
       "version_major": 2,
       "version_minor": 0
      },
      "text/plain": [
       "interactive(children=(IntSlider(value=9, description='$N$', max=27, min=9), IntSlider(value=1, description='$p…"
      ]
     },
     "metadata": {},
     "output_type": "display_data"
    },
    {
     "data": {
      "text/plain": [
       "<function __main__.A_p_n_fijoFijo_interactivo(N_magnitud=7, p_magnitud=1)>"
      ]
     },
     "execution_count": 43,
     "metadata": {},
     "output_type": "execute_result"
    }
   ],
   "source": [
    "iwy.interact(A_p_n_fijoFijo_interactivo,\n",
    "             N_magnitud = iwy.widgets.IntSlider(value= 9, min= 9, max= 27, description='$N$'),\n",
    "             p_magnitud = iwy.widgets.IntSlider(value= 1, min= 1, max= 9, description=r'$p \\leq N$'),\n",
    "            )"
   ]
  },
  {
   "cell_type": "markdown",
   "metadata": {},
   "source": [
    "# 4. Extremos libres"
   ]
  },
  {
   "cell_type": "markdown",
   "metadata": {},
   "source": [
    "Comenzamos por \\\\(A_{n=0} = A_{n=1}\\\\)"
   ]
  },
  {
   "cell_type": "code",
   "execution_count": 44,
   "metadata": {},
   "outputs": [
    {
     "data": {
      "image/png": "[encoded data removed]",
      "text/latex": [
       "$\\displaystyle A^{(p)} \\cos{\\left(\\alpha^{(p)} \\right)} = A^{(p)} \\cos{\\left(\\alpha^{(p)} + a k^{(p)} \\right)}$"
      ],
      "text/plain": [
       "A__{(p)}⋅cos(\\alpha__{(p)}) = A__{(p)}⋅cos(\\alpha__{(p)} + a⋅k__{(p)})"
      ]
     },
     "execution_count": 44,
     "metadata": {},
     "output_type": "execute_result"
    }
   ],
   "source": [
    "n0Libre= sym.Eq( A_p_n_enunciado.rhs.subs([(A_p_n,0), (n,0) ] ),\n",
    "                A_p_n_enunciado.rhs.subs([(A_p_n,0), (n,1) ] ) \n",
    "               )\n",
    "n0Libre"
   ]
  },
  {
   "cell_type": "markdown",
   "metadata": {},
   "source": [
    "¿Cuando los cosenos de estos argumentos son iguales sin necesariamente ser los argumentos iguales? \n",
    "El coseno tiene simetría en el eje de las abcisas \\\\( \\implies cos(x) = \\cos(2 \\pi- x)\\\\)\n",
    "\\\\[\n",
    "    \\begin{aligned}\n",
    "    \\alpha^{(p)} &= 2 \\pi -\\alpha^{(p)} - a k^{(p)} + q 2 \\pi \\qquad (q \\in \\mathbb{Z}) \\\\\n",
    "    2 \\alpha^{(p)} &= - a k^{(p)} + (q-1) 2 \\pi ,\n",
    "    \\end{aligned}\n",
    "\\\\]\n",
    "donde agregamos la posibilidad de sumar o restar \\\\(q 2 \\pi\\\\) a un argumento."
   ]
  },
  {
   "cell_type": "markdown",
   "metadata": {},
   "source": [
    "En el otro extremo de la cadena \\\\(A_{n=N} = A_{n=N+1}\\\\)"
   ]
  },
  {
   "cell_type": "code",
   "execution_count": 45,
   "metadata": {},
   "outputs": [
    {
     "data": {
      "image/png": "[encoded data removed]",
      "text/latex": [
       "$\\displaystyle A^{(p)} \\cos{\\left(N a k^{(p)} + \\alpha^{(p)} \\right)} = A^{(p)} \\cos{\\left(\\alpha^{(p)} + a k^{(p)} \\left(N + 1\\right) \\right)}$"
      ],
      "text/plain": [
       "A__{(p)}⋅cos(N⋅a⋅k__{(p)} + \\alpha__{(p)}) = A__{(p)}⋅cos(\\alpha__{(p)} + a⋅k_\n",
       "_{(p)}⋅(N + 1))"
      ]
     },
     "execution_count": 45,
     "metadata": {},
     "output_type": "execute_result"
    }
   ],
   "source": [
    "NPlusLibre= sym.Eq( A_p_n_enunciado.rhs.subs([(A_p_n,0), (n,N) ] ),\n",
    "                A_p_n_enunciado.rhs.subs([(A_p_n,0), (n,N+1) ] ) \n",
    "               )\n",
    "NPlusLibre"
   ]
  },
  {
   "cell_type": "markdown",
   "metadata": {},
   "source": [
    "\\\\[\n",
    "    \\begin{aligned}\n",
    "    N a k^{(p)} + \\alpha^{(p)} &= 2 \\pi - \\alpha^{(p)} - N a k^{(p)} - a k^{(p)} + r 2 \\pi  \\qquad (r \\in \\mathbb{Z}) \\\\\n",
    "    2 N a k^{(p)} + 2 \\alpha^{(p)} &= - a k^{(p)} + (r+1) 2 \\pi\\\\\n",
    "    \\end{aligned}\n",
    "\\\\]\n",
    "De reemplazar la relación anterior en esta última se obtiene\n",
    "\\\\[\n",
    "    \\begin{aligned}\n",
    "    2 N a k^{(p)} + 2 \\alpha^{(p)} &= - a k^{(p)} + (r+1) 2 \\pi\\\\\n",
    "    2 N a k^{(p)} - a k^{(p)} + (q-1) 2 \\pi &= - a k^{(p)} + (r+1) 2 \\pi\\\\\n",
    "    2 N a k^{(p)} &= (r- q + 2) 2 \\pi\\\\\n",
    "    2 N a k^{(p)} &= p 2 \\pi \\qquad (p \\in \\mathbb{N_0}) \\\\\n",
    "    \\end{aligned}\n",
    "\\\\]\n",
    "El número de modo puede ser nulo para contemplar que un sistema libre se desplace sin oscilar, \\\\(\\omega^{(p = 0)} = 0\\\\), ergo \\\\(p \\in \\mathbb{N_0}\\\\). "
   ]
  },
  {
   "cell_type": "code",
   "execution_count": 46,
   "metadata": {},
   "outputs": [
    {
     "data": {
      "image/png": "[encoded data removed]",
      "text/latex": [
       "$\\displaystyle k^{(p)} = \\frac{\\pi p}{N a}$"
      ],
      "text/plain": [
       "           π⋅p\n",
       "k__{(p)} = ───\n",
       "           N⋅a"
      ]
     },
     "execution_count": 46,
     "metadata": {},
     "output_type": "execute_result"
    }
   ],
   "source": [
    "k_p_libreLibre = sym.Eq(k_p, p* sym.pi/(N* a) )\n",
    "k_p_libreLibre"
   ]
  },
  {
   "cell_type": "markdown",
   "metadata": {},
   "source": [
    "De la relación en la pared de \\\\(n=0\\\\) \n",
    "\\\\[\n",
    "    \\begin{aligned}\n",
    "    2 \\alpha^{(p)} &= - a k^{(p)} + (q-1) 2 \\pi\\\\\n",
    "    \\alpha^{(p)} &= - \\frac{a k^{(p)}}{2} + (q-1) \\pi ,\n",
    "    \\end{aligned}\n",
    "\\\\] \n",
    "podemos elegir el \\\\(\\alpha^{(p)}\\\\) para \\\\(q-1 = 0\\\\)"
   ]
  },
  {
   "cell_type": "code",
   "execution_count": 47,
   "metadata": {},
   "outputs": [
    {
     "data": {
      "image/png": "[encoded data removed]",
      "text/latex": [
       "$\\displaystyle \\alpha^{(p)} = - \\frac{\\pi p}{2 N}$"
      ],
      "text/plain": [
       "                -π⋅p \n",
       "\\alpha__{(p)} = ─────\n",
       "                 2⋅N "
      ]
     },
     "execution_count": 47,
     "metadata": {},
     "output_type": "execute_result"
    }
   ],
   "source": [
    "alpha_p_libreLibre = sym.Eq(alpha_p, -(a/ 2)* k_p_libreLibre.rhs )\n",
    "alpha_p_libreLibre"
   ]
  },
  {
   "cell_type": "markdown",
   "metadata": {},
   "source": [
    "Finalmente de la relación de dispersión"
   ]
  },
  {
   "cell_type": "code",
   "execution_count": 48,
   "metadata": {},
   "outputs": [
    {
     "data": {
      "image/png": "[encoded data removed]",
      "text/latex": [
       "$\\displaystyle \\omega^{(p)} = 2 \\omega_{0} \\sin{\\left(\\frac{\\pi p}{2 N} \\right)}$"
      ],
      "text/plain": [
       "                             ⎛π⋅p⎞\n",
       "\\omega__{(p)} = 2⋅\\omega₀⋅sin⎜───⎟\n",
       "                             ⎝2⋅N⎠"
      ]
     },
     "execution_count": 48,
     "metadata": {},
     "output_type": "execute_result"
    }
   ],
   "source": [
    "omega_p_fijoFijo = relaciónDispersión5.subs(k_p, k_p_libreLibre.rhs)\n",
    "omega_p_fijoFijo"
   ]
  },
  {
   "cell_type": "markdown",
   "metadata": {},
   "source": [
    "## Solución general para el caso de extremos libres"
   ]
  },
  {
   "cell_type": "code",
   "execution_count": 49,
   "metadata": {},
   "outputs": [
    {
     "data": {
      "image/png": "[encoded data removed]",
      "text/latex": [
       "$\\displaystyle A_n^{(p)} = A^{(p)} \\cos{\\left(\\frac{\\pi n p}{N} - \\frac{\\pi p}{2 N} \\right)}$"
      ],
      "text/plain": [
       "                         ⎛π⋅n⋅p   π⋅p⎞\n",
       "A_n__{(p)} = A__{(p)}⋅cos⎜───── - ───⎟\n",
       "                         ⎝  N     2⋅N⎠"
      ]
     },
     "execution_count": 49,
     "metadata": {},
     "output_type": "execute_result"
    }
   ],
   "source": [
    "condiciones_libreLibre = {\n",
    "    k_p : k_p_libreLibre.rhs,\n",
    "    alpha_p : alpha_p_libreLibre.rhs,\n",
    "    omega_p : omega_p_fijoFijo.rhs,\n",
    "}\n",
    "A_p_n_libreLibre = A_p_n_enunciado.subs(condiciones_libreLibre)\n",
    "A_p_n_libreLibre"
   ]
  },
  {
   "cell_type": "code",
   "execution_count": 50,
   "metadata": {},
   "outputs": [
    {
     "data": {
      "image/png": "[encoded data removed]",
      "text/latex": [
       "$\\displaystyle \\Psi_n^{(p)} = A^{(p)} \\cos{\\left(2 \\omega_{0} t \\sin{\\left(\\frac{\\pi p}{2 N} \\right)} + \\phi^{(p)} \\right)} \\cos{\\left(\\frac{\\pi n p}{N} - \\frac{\\pi p}{2 N} \\right)}$"
      ],
      "text/plain": [
       "                            ⎛               ⎛π⋅p⎞              ⎞    ⎛π⋅n⋅p   π\n",
       "\\Psi_n__{(p)} = A__{(p)}⋅cos⎜2⋅\\omega₀⋅t⋅sin⎜───⎟ + \\phi__{(p)}⎟⋅cos⎜───── - ─\n",
       "                            ⎝               ⎝2⋅N⎠              ⎠    ⎝  N     2\n",
       "\n",
       "⋅p⎞\n",
       "──⎟\n",
       "⋅N⎠"
      ]
     },
     "execution_count": 50,
     "metadata": {},
     "output_type": "execute_result"
    }
   ],
   "source": [
    "psi_p_n_enunciado.subs(condiciones_libreLibre)"
   ]
  },
  {
   "cell_type": "markdown",
   "metadata": {},
   "source": [
    "# 5. Un extremo fijo y el otro libre\n",
    "Tarea"
   ]
  },
  {
   "cell_type": "markdown",
   "metadata": {},
   "source": [
    "# 6. \\\\(N=3\\\\)\n",
    "Lo haremos para el caso de extremos libres, el resto de los casos es tarea.\n",
    "Con \\\\(N=3\\\\) en este caso son posibles \\\\(p=0,1,2\\\\).\n",
    "\n",
    "Con los \\\\(A_n^{(p)}\\\\) puede formarse el vector de amplitudes \\\\(\\vec{A}^{(p)}\\\\)."
   ]
  },
  {
   "cell_type": "code",
   "execution_count": 51,
   "metadata": {},
   "outputs": [
    {
     "data": {
      "text/latex": [
       "$\\displaystyle \\vec{A}^{(p)} = \\left[\\begin{matrix}A^{(p)} \\cos{\\left(\\frac{\\pi p}{6} \\right)}\\\\A^{(p)} \\cos{\\left(\\frac{\\pi p}{2} \\right)}\\\\A^{(p)} \\cos{\\left(\\frac{5 \\pi p}{6} \\right)}\\end{matrix}\\right]$"
      ],
      "text/plain": [
       "                 ⎡             ⎛π⋅p⎞ ⎤\n",
       "                 ⎢ A__{(p)}⋅cos⎜───⎟ ⎥\n",
       "                 ⎢             ⎝ 6 ⎠ ⎥\n",
       "                 ⎢                   ⎥\n",
       "                 ⎢             ⎛π⋅p⎞ ⎥\n",
       "\\vec{A}__{(p)} = ⎢ A__{(p)}⋅cos⎜───⎟ ⎥\n",
       "                 ⎢             ⎝ 2 ⎠ ⎥\n",
       "                 ⎢                   ⎥\n",
       "                 ⎢            ⎛5⋅π⋅p⎞⎥\n",
       "                 ⎢A__{(p)}⋅cos⎜─────⎟⎥\n",
       "                 ⎣            ⎝  6  ⎠⎦"
      ]
     },
     "execution_count": 51,
     "metadata": {},
     "output_type": "execute_result"
    }
   ],
   "source": [
    "A_vector_p_libreLibre = sym.Eq(sym.Symbol(r'\\vec{A}^{(p)}'), \n",
    "                    sym.Matrix([\n",
    "                        A_p_n_libreLibre.rhs.subs([(n,1), (N,3) ] ),\n",
    "                        A_p_n_libreLibre.rhs.subs([(n,2), (N,3) ] ),\n",
    "                        A_p_n_libreLibre.rhs.subs([(n,3), (N,3) ] ),\n",
    "                    ] ),\n",
    "                    evaluate = False\n",
    "                   )\n",
    "A_vector_p_libreLibre"
   ]
  },
  {
   "cell_type": "markdown",
   "metadata": {},
   "source": [
    "Si de este extraemos \\\\(A^{(p)}\\\\) tendremos los autovectores \\\\(\\vec{\\xi}^{(p)}\\\\), que podemos comparar con los que conocemos del análisis matricial."
   ]
  },
  {
   "cell_type": "code",
   "execution_count": 52,
   "metadata": {},
   "outputs": [
    {
     "data": {
      "text/latex": [
       "$\\displaystyle \\vec{\\xi}^{(p)} = \\left[\\begin{matrix}\\cos{\\left(\\frac{\\pi p}{6} \\right)}\\\\\\cos{\\left(\\frac{\\pi p}{2} \\right)}\\\\\\cos{\\left(\\frac{5 \\pi p}{6} \\right)}\\end{matrix}\\right]$"
      ],
      "text/plain": [
       "                   ⎡    ⎛π⋅p⎞ ⎤\n",
       "                   ⎢ cos⎜───⎟ ⎥\n",
       "                   ⎢    ⎝ 6 ⎠ ⎥\n",
       "                   ⎢          ⎥\n",
       "                   ⎢    ⎛π⋅p⎞ ⎥\n",
       "\\vec{\\xi}__{(p)} = ⎢ cos⎜───⎟ ⎥\n",
       "                   ⎢    ⎝ 2 ⎠ ⎥\n",
       "                   ⎢          ⎥\n",
       "                   ⎢   ⎛5⋅π⋅p⎞⎥\n",
       "                   ⎢cos⎜─────⎟⎥\n",
       "                   ⎣   ⎝  6  ⎠⎦"
      ]
     },
     "execution_count": 52,
     "metadata": {},
     "output_type": "execute_result"
    }
   ],
   "source": [
    "xi_p_libreLibre = sym.Eq(sym.Symbol(r'\\vec{\\xi}^{(p)}'),\n",
    "                               A_vector_p_libreLibre.rhs.subs(A_p, 1),\n",
    "                         evaluate = False\n",
    "                              )\n",
    "xi_p_libreLibre"
   ]
  },
  {
   "cell_type": "markdown",
   "metadata": {},
   "source": [
    "Para el modo \\\\(p=0\\\\), de MRU, esperamos que todos tengan el mismo desplazamiento."
   ]
  },
  {
   "cell_type": "code",
   "execution_count": 53,
   "metadata": {},
   "outputs": [
    {
     "data": {
      "text/latex": [
       "$\\displaystyle \\left[\\begin{matrix}1\\\\1\\\\1\\end{matrix}\\right]$"
      ],
      "text/plain": [
       "⎡1⎤\n",
       "⎢ ⎥\n",
       "⎢1⎥\n",
       "⎢ ⎥\n",
       "⎣1⎦"
      ]
     },
     "execution_count": 53,
     "metadata": {},
     "output_type": "execute_result"
    }
   ],
   "source": [
    "xi_p_libreLibre.rhs.subs(p,0)"
   ]
  },
  {
   "cell_type": "markdown",
   "metadata": {},
   "source": [
    "En los modos de oscilación el centro de masa no se deplaza.\n",
    "En el modo \\\\(p=1\\\\), el de menor frecuencia (energía), solo las partículas de los extremos debieran desplazarse y lo harían en contrafase."
   ]
  },
  {
   "cell_type": "code",
   "execution_count": 54,
   "metadata": {},
   "outputs": [
    {
     "data": {
      "text/latex": [
       "$\\displaystyle \\left[\\begin{matrix}\\frac{\\sqrt{3}}{2}\\\\0\\\\- \\frac{\\sqrt{3}}{2}\\end{matrix}\\right]$"
      ],
      "text/plain": [
       "⎡ √3 ⎤\n",
       "⎢ ── ⎥\n",
       "⎢ 2  ⎥\n",
       "⎢    ⎥\n",
       "⎢ 0  ⎥\n",
       "⎢    ⎥\n",
       "⎢-√3 ⎥\n",
       "⎢────⎥\n",
       "⎣ 2  ⎦"
      ]
     },
     "execution_count": 54,
     "metadata": {},
     "output_type": "execute_result"
    }
   ],
   "source": [
    "xi_p_libreLibre.rhs.subs(p,1)"
   ]
  },
  {
   "cell_type": "markdown",
   "metadata": {},
   "source": [
    "En el modo de \\\\(p=2\\\\) la partícula central debiera desplazarse en sentido opuesto a las de los extremos."
   ]
  },
  {
   "cell_type": "code",
   "execution_count": 55,
   "metadata": {},
   "outputs": [
    {
     "data": {
      "text/latex": [
       "$\\displaystyle \\left[\\begin{matrix}\\frac{1}{2}\\\\-1\\\\\\frac{1}{2}\\end{matrix}\\right]$"
      ],
      "text/plain": [
       "⎡1/2⎤\n",
       "⎢   ⎥\n",
       "⎢-1 ⎥\n",
       "⎢   ⎥\n",
       "⎣1/2⎦"
      ]
     },
     "execution_count": 55,
     "metadata": {},
     "output_type": "execute_result"
    }
   ],
   "source": [
    "xi_p_libreLibre.rhs.subs(p,2)"
   ]
  },
  {
   "cell_type": "markdown",
   "metadata": {},
   "source": [
    "# 7. Graficar relación de dispersión\n",
    "Tarea"
   ]
  },
  {
   "cell_type": "code",
   "execution_count": null,
   "metadata": {},
   "outputs": [],
   "source": []
  }
 ],
 "metadata": {
  "kernelspec": {
   "display_name": "Python 3",
   "language": "python",
   "name": "python3"
  },
  "language_info": {
   "codemirror_mode": {
    "name": "ipython",
    "version": 3
   },
   "file_extension": ".py",
   "mimetype": "text/x-python",
   "name": "python",
   "nbconvert_exporter": "python",
   "pygments_lexer": "ipython3",
   "version": "3.7.3"
  }
 },
 "nbformat": 4,
 "nbformat_minor": 4
}
