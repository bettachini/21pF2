{
 "cells": [
  {
   "cell_type": "markdown",
   "metadata": {
    "id": "vwoo_g0Hkcab"
   },
   "source": [
    "# Resortes antagónicos"
   ]
  },
  {
   "cell_type": "markdown",
   "metadata": {
    "id": "R5YD2P1XqGnm"
   },
   "source": [
    "![](../../conTexto.png \"DF, FCEyN, UBA\")  \n",
    "©2021 [Víctor A. Bettachini](mailto:bettachini@df.uba.ar)   \n",
    "\n",
    "----   "
   ]
  },
  {
   "cell_type": "markdown",
   "metadata": {},
   "source": [
    "Bibliografía:  \n",
    "- Sección 1.2  \n",
    "  Ondas es física  \n",
    "  Oscar E. Martinez   \n",
    "  EUdeBA, 2008"
   ]
  },
  {
   "cell_type": "markdown",
   "metadata": {
    "id": "8ABi2ab6p-bn"
   },
   "source": [
    "## Enunciado\n",
    "El sistema de la figura muestra un peso, de masa $m$, suspendido equidistante de dos paredes por dos resortes antagónicos de idéntica constante elástica $k$.   \n",
    "![](ej1-1.png)   \n",
    "Asumiendo la artificiosa condición de que no hay aceleración gravitatoria escriba las ecuaciones de movimiento para:   \n",
    "\n",
    "1. Oscilaciones longitudinales para los casos:   \n",
    "    1. longitud natural del resorte $l_0$ ($l_0<l$),   \n",
    "    2. ``slinky'' ($l_0=0$).   \n",
    "1. Oscilaciones transversales del sistema del punto anterior, discutiendo las diferencias entre los casos 1) y 2), y analizando cuidadosamente las aproximaciones que realiza.\n",
    "\tEn el caso 1) analice la diferencia entre considerar que los resortes están tensionados en la posición de equilibrio $(l_0 <l)$ o que están relajados en dicha posición $(l_0= l)$."
   ]
  },
  {
   "cell_type": "markdown",
   "metadata": {
    "id": "YNMocAaqwn11"
   },
   "source": [
    "## Oscilación longitudinal\n",
    "Para las oscilaciones transversales solo nos preocupamos de la coordenada $x$ de la masa.\n",
    "Siendo ambos resortes iguales es claro que en reposo la masa está equidistante de las paredes.\n",
    "Nos es \"práctico\" establer allí el origen del sistema de coordenadas.\n",
    "![](./Esquema_2.png)\n",
    "\n",
    "Por ahora nos abstraemos de las opciones de la longitud natural de los resortes $l_0 $ y expresamos sus longitudes   \n",
    "$$\n",
    "  l_\\text{izq} = \\left[x + (l - l_0) \\right], \\\\\n",
    "  l_\\text{der} = \\left[-x + (l - l_0) \\right],\n",
    "$$\n",
    "\n",
    "siendo $x$ la posición de la masa.\n",
    "\n",
    "Por supuesto podemos obtener fácilmente la fuerza que ejercen sobre esta   \n",
    "$$\n",
    "\\begin{aligned}\n",
    "  \\vec{F} &= -k \\left[ l_\\text{izq} \\right]  \\hat{x} + k \\left[ l_\\text{der} \\right] \\hat{x}\\\\\n",
    " &= -k \\left[ x+ (l - l_0) \\right] \\hat{x} + k \\left[ -x + (l - l_0) \\right] \\hat{x} \\\\\n",
    "  & = -2 k x \\hat{x}.\n",
    "\\end{aligned}\n",
    "$$\n",
    "\n",
    "Pero por el método que abogo que incorporen, el de plantear el potencial, no es mucho más trabajoso,   \n",
    "$$\n",
    "\\begin{aligned}\n",
    "  V(x) &= \\frac{k}{2} \\left[ (x+ (l - l_0))^2  + (-x + (l - l_0))^2 \\right], \\\\\n",
    "  \\vec{F}= - \\partial_x V(x) \\hat{x} & = -k \\left[ x+ (l - l_0) + x - (l - l_0) \\right] \\hat{x} = -2 k x \\hat{x}.\n",
    "\\end{aligned}\n",
    "$$\n",
    "\n",
    "En este caso de oscilación transversal en que podemos imaginar que un resorte \"compensa\" al otro los casos \"slinky\" o realista arrojan la misma solución.\n",
    "Ojo, esto no será el caso con el caso de oscilaciones transversales.\n",
    "\n",
    "Queda hacer uso de la 2.a ley de Newton:   \n",
    "$$\n",
    "m \\ddot{x} \\hat{x} = -2 k x \\hat{x} \\implies \\ddot{x}= -\\frac{2 k}{m} x,\n",
    "$$\n",
    "\n",
    "de donde obtendremos una solución similar a la del péndulo pero con $\\omega = \\sqrt{\\frac{2 k}{m}}$."
   ]
  },
  {
   "cell_type": "markdown",
   "metadata": {
    "id": "9jZ7oRu_I7QC"
   },
   "source": [
    "## Condiciones iniciales\n",
    "En el problema del péndulo obtuvimos una solución que había que especializar en función de condiciones iniciales de amplitud máxima $A$ y de una un tanto \"esotérica\" fase inicial $\\phi_0$, que para este problema sería   \n",
    "$$\n",
    "  x(t) = A \\cos{\\left( \\omega t + \\phi_0 \\right)}.\n",
    "$$\n",
    "\n",
    "Antes de llegar a esta versión compacta habriamos pasado por    \n",
    "$$\n",
    "x(t)= A_1 \\mathrm{e}^{\\imath \\omega t}+ A_2 \\mathrm{e}^{-\\imath \\omega t},\n",
    "$$\n",
    "pero aquí voy a ahorrar tiempo y utilizar las relaciones de Euler $\\mathrm{e}^{\\pm \\imath \\theta}= \\cos{\\theta}+ \\imath \\sin{\\theta}$ para escribir   \n",
    "$$\n",
    "x(t)= (A_1+ A_2) \\cos{(\\omega t)} +  \\imath (A_1- A_2) \\sin{(\\omega t)}.\n",
    "$$\n",
    "\n",
    "Esta expresión es muy práctica si conocemos $x(0)$ y $\\dot{x}(0)$, pues   \n",
    "$$\n",
    "\\begin{aligned}\n",
    "  x(0) &= (A_1 + A_2)\\\\\n",
    "  \\dot{x}(0) &= \\imath \\omega (A_1 - A_2).\n",
    "\\end{aligned}\n",
    "$$\n",
    "\n",
    "Es muy sencillo entonces escribir   \n",
    "$$\n",
    "\\boxed{\n",
    "  x(t)= x(0) \\cos{(\\omega t)} +  \\frac{\\dot{x}(0)}{\\omega} \\sin{(\\omega t)}.\n",
    "}\n",
    "$$"
   ]
  },
  {
   "cell_type": "markdown",
   "metadata": {
    "id": "LxtVfYNX3ddQ"
   },
   "source": [
    "## Oscilaciones transversales\n",
    "Ahora nos tenemos que ocupar del movimiento limitado a la dirección $\\hat{y}$ mientras $x\\equiv 0$.\n",
    "![](Esquema_2-1.png)\n",
    "\n",
    "Las longitudes de los resortes son   \n",
    "$$\n",
    "  l_\\text{izq} = \\sqrt{y^2 + l^2}, \\\\\n",
    "  l_\\text{der} = \\sqrt{y^2 + l^2},\n",
    "$$\n",
    "\n",
    "y el potencial   \n",
    "$$\n",
    "  V(y) = \\frac{k}{2} \\left[ \n",
    "    \\left( l_\\text{izq}- l_0 \\right)^2 +\n",
    "    \\left( l_\\text{der}- l_0 \\right)^2\n",
    "   \\right] = k \\left( \\sqrt{y^2 + l^2}- l_0 \\right)^2\n",
    "$$\n",
    "\n",
    "Para obtener la fuerza en $\\hat{y}$   \n",
    "$$\n",
    "\\begin{aligned}\n",
    "  m \\ddot{y} = \\vec{F} \\cdot \\hat{y} = -\\partial_y V(y) \n",
    "  & = - 2 k \\left( \\sqrt{y^2 + l^2}- l_0 \\right) \\frac{1}{2 \\sqrt{y^2 + l^2}} 2 y \\\\\n",
    "  m \\ddot{y} & = - 2 k y \\left( 1- \\frac{l_0}{\\sqrt{y^2 + l^2}} \\right) \n",
    "\\end{aligned}\n",
    "$$\n",
    "\n",
    "Aquí es donde entra la variante de como suponer la longitud de reposo de los resortes:\n",
    "- Si son \"slinkies\", en cuyo caso $l_0=0 \\implies \\boxed{ \\omega= \\sqrt{ \\frac{2k}{m} } }$.\n",
    "- Si mantienen una $l_0 \\neq 0$ se puede desarrollar a orden cero $\\frac{l_0}{\\sqrt{y^2 + l^2} }$.\n",
    "Hacer esto dará idéntico resultado que plantear \n",
    "$$\n",
    "\\frac{l_0}{\\sqrt{y^2 + l^2} } = \\frac{l_0}{l \\sqrt{\\left( \\frac{y}{l} \\right)^2 + 1} }, \n",
    "$$\n",
    "\n",
    "y como nos atenemos a un régimen de pequeñas oscilaciones $y \\ll l$ entonces   \n",
    "$$\n",
    "\\frac{l_0}{l \\sqrt{\\left( \\frac{y}{l} \\right)^2 + 1} } \\simeq \\frac{l_o}{l},\n",
    "$$\n",
    "\n",
    "con lo que en este caso $\\boxed{ \\omega= \\sqrt{ \\frac{2k}{m} \\left( 1- \\frac{l_0}{l} \\right) } }$, una frecuencia menor que con \"slinkies\".\n",
    "Esto es \"físicamente razonable\" pues hay menor \"tirantez\" de los resortes.\n",
    "\n",
    "Esta última solucíon evidentemente \"estalla en pedazos\" para el caso de $l_0 = l$.   \n",
    "**Tarea para el que quiera esmerarse**: ¿Se te occure que aproximaciones efectuadas modificar para llegar a un modelo de la dinámica aunque no sea resoluble analíticamente?"
   ]
  }
 ],
 "metadata": {
  "colab": {
   "collapsed_sections": [],
   "name": "Oscilador armónico",
   "provenance": []
  },
  "kernelspec": {
   "display_name": "Python 3",
   "language": "python",
   "name": "python3"
  },
  "language_info": {
   "codemirror_mode": {
    "name": "ipython",
    "version": 3
   },
   "file_extension": ".py",
   "mimetype": "text/x-python",
   "name": "python",
   "nbconvert_exporter": "python",
   "pygments_lexer": "ipython3",
   "version": "3.7.3"
  }
 },
 "nbformat": 4,
 "nbformat_minor": 4
}
