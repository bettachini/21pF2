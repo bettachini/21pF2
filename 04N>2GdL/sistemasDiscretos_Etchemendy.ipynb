{
 "cells": [
  {
   "cell_type": "markdown",
   "metadata": {
    "id": "rpQOzE0B2sYz"
   },
   "source": [
    "# Sistemas discretos"
   ]
  },
  {
   "cell_type": "markdown",
   "metadata": {},
   "source": [
    "![Departamento de Física, Facultad de Ciencias Exactas y Naturales, Universidad de Buenos Aires](data:image/png;base64,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)  \n",
    "2021 Pablo Etchemendy  \n",
    "----"
   ]
  },
  {
   "cell_type": "markdown",
   "metadata": {},
   "source": [
    "Notebook para calcular las soluciones para sistemas arbitrarios de N masas:\n",
    "$$\n",
    "    \\mathbf{M} \\mathbf{\\ddot \\Psi} = \\mathbf{K} \\mathbf{\\Psi}\n",
    "$$\n",
    "\n",
    "que cumplen condiciones iniciales:\n",
    "$$\n",
    "\\begin{cases}\n",
    "\\mathbf{\\Psi}(t=0) = \\mathbf{\\Psi_0} \\\\\n",
    "\\mathbf{\\ddot\\Psi}(t=0) = \\mathbf{\\Xi_0}\n",
    "\\end{cases}\n",
    "$$"
   ]
  },
  {
   "cell_type": "markdown",
   "metadata": {
    "id": "gZ-O8lHJ2sY6"
   },
   "source": [
    "## Importación de librerías"
   ]
  },
  {
   "cell_type": "code",
   "execution_count": 1,
   "metadata": {
    "executionInfo": {
     "elapsed": 672,
     "status": "ok",
     "timestamp": 1617195177254,
     "user": {
      "displayName": "Pablo Etchemendy",
      "photoUrl": "https://lh3.googleusercontent.com/a-/AOh14GhjnaZuYx2qPLtlF2-uMd3nXpDcyLPQpfzsQKqP=s64",
      "userId": "00458345379028069462"
     },
     "user_tz": 180
    },
    "id": "KeolX-pR2sY8"
   },
   "outputs": [],
   "source": [
    "import matplotlib.pyplot as plt\n",
    "import numpy as np\n",
    "import numpy.matlib as npm\n",
    "\n",
    "%matplotlib notebook"
   ]
  },
  {
   "cell_type": "markdown",
   "metadata": {
    "id": "j_6ozJRE2sY-"
   },
   "source": [
    "## Ingreso de parámetros\n",
    "\n",
    "Defino los parámetros *de entrada* de mi sistema. Las unidades son libres, si respeto MKS, todas las magnitudes derivadas lo harán también.\n",
    "\n",
    "Para cada caso, se deben definir **un vector con las masas de cada partícula**, y **una matriz con las interacciones entre las mismas**. Además debo definir las condiciones iniciales y los tiempos en los que quiero graficar la solución."
   ]
  },
  {
   "cell_type": "markdown",
   "metadata": {
    "id": "bGwm-MKa2sY_"
   },
   "source": [
    "### *Template* para agregar nuevos casos "
   ]
  },
  {
   "cell_type": "code",
   "execution_count": null,
   "metadata": {
    "id": "AmhleYPq2sZA"
   },
   "outputs": [],
   "source": [
    "# M = # vector de masas\n",
    "# K = # matriz de interacciones\n",
    "# psi_0 = # vector columna con posiciones iniciales de cada masa\n",
    "# xi_0 = # vector columna con velocidades iniciales de cada masa\n",
    "# t = # vector de tiempos para mostrar la solución"
   ]
  },
  {
   "cell_type": "markdown",
   "metadata": {
    "id": "Z0KOjCsD2sZC"
   },
   "source": [
    "### Caso base\n",
    "\n",
    "Dos masas iguales unidas entre sí, y a puntos fijos en los costados, mediante tres resortes iguales. Mis parámetros básicos son la masa $m$ y la constante elástica $k$, a partir de ellos armo los parámetros requeridos."
   ]
  },
  {
   "cell_type": "code",
   "execution_count": null,
   "metadata": {
    "id": "AhiLr5KO2sZD"
   },
   "outputs": [],
   "source": [
    "m = 2.  # unidades mks = [kg]\n",
    "k = 2.  # unidades mks = [N/m]"
   ]
  },
  {
   "cell_type": "markdown",
   "metadata": {
    "id": "MzwfIjd72sZD"
   },
   "source": [
    "#### Vector de masas\n",
    "Defino un vector cuyo elemento $n$ contiene el valor de la masa enésima. Para esto empleo un array 1D (que tendrá dos elementos ya que quiero tener dos masas).\n",
    "\n",
    "(Nota: array es una manera de almacenar datos multidimensionales en numpy; lo usaremos para representar tanto vectores como matrices)."
   ]
  },
  {
   "cell_type": "code",
   "execution_count": null,
   "metadata": {
    "id": "Q4qfAtvF2sZE"
   },
   "outputs": [],
   "source": [
    "# El comando ones de numpy me permite generar un array 1D con N = 2 elementos\n",
    "# que valen 1. Multiplico por el escalar m para que tomen el valor requerido.\n",
    "# (La multiplicación es equivalente a la de un escalar y un vector).\n",
    "m_vector = m*np.ones(2)\n",
    "\n",
    "# Veamos el resultado\n",
    "m_vector"
   ]
  },
  {
   "cell_type": "code",
   "execution_count": null,
   "metadata": {
    "id": "j91gTWnM2sZF"
   },
   "outputs": [],
   "source": [
    "# Para acceder a los elementos uso notación de corchetes. El primer elemento\n",
    "# corresponde al índice 0:\n",
    "m_vector[0]"
   ]
  },
  {
   "cell_type": "code",
   "execution_count": null,
   "metadata": {
    "id": "lkFw2r472sZK"
   },
   "outputs": [],
   "source": [
    "# El segundo elemento corresponde al índice 1 (y así hasta el índice N-1)\n",
    "m_vector[1]"
   ]
  },
  {
   "cell_type": "code",
   "execution_count": null,
   "metadata": {
    "id": "oPvnRFo-2sZL"
   },
   "outputs": [],
   "source": [
    "# Muestro el atributo ndim del array; confirmo que es 1D\n",
    "m_vector.ndim"
   ]
  },
  {
   "cell_type": "code",
   "execution_count": null,
   "metadata": {
    "id": "gXzy9GHW2sZL"
   },
   "outputs": [],
   "source": [
    "# Muestro el atributo shape del array; confirmo que tiene dos elementos\n",
    "m_vector.shape"
   ]
  },
  {
   "cell_type": "code",
   "execution_count": null,
   "metadata": {
    "id": "ZwGVh1cm2sZL"
   },
   "outputs": [],
   "source": [
    "# Otro atributo que puede ser útil es útil es size, me da la cantidad de\n",
    "# elementos del array\n",
    "m_vector.size"
   ]
  },
  {
   "cell_type": "markdown",
   "metadata": {
    "id": "11Vm6V0J2sZM"
   },
   "source": [
    "#### Matriz de interacciones (o de rigidez)\n",
    "\n",
    "Defino una matriz cuyo elemento $(i,j)$ contiene el coeficiente elástico correspondiente al efecto del desplazamiento de la masa $j$ sobre la aceleración de la masa $i$, **con el signo correspondiente**. Es un array 2D, de dimensiones 2x2:"
   ]
  },
  {
   "cell_type": "code",
   "execution_count": null,
   "metadata": {
    "id": "SMzSJNEP2sZM"
   },
   "outputs": [],
   "source": [
    "# El comando array me permite definir matrices y vectores de dimensiones\n",
    "# arbitrarias, en este caso escribo explícitamente sus elementos usando\n",
    "# notación de corchetes, y luego multiplico por el escalar k para que la\n",
    "# matriz tenga el valor requerido.\n",
    "K = k*np.array([[-2., 1.],[ 1., -2.]])\n",
    "\n",
    "K"
   ]
  },
  {
   "cell_type": "code",
   "execution_count": null,
   "metadata": {
    "id": "rh94OXJt2sZN"
   },
   "outputs": [],
   "source": [
    "# Para acceder a los elementos de una matriz uso notación de corchetes con\n",
    "# dos índices, el primero corresponde a la fila, el segundo a la columna,\n",
    "# comenzando desde 0\n",
    "print(K[0,0]) # primer elemento de la diagonal\n",
    "print(K[0,1])\n",
    "print(K[1,0])\n",
    "print(K[1,1])\n",
    "\n",
    "# Nota: uso print para poder tener varias salidas en una misma celda del notebook"
   ]
  },
  {
   "cell_type": "code",
   "execution_count": null,
   "metadata": {
    "id": "cjx-Vr6Z2sZN"
   },
   "outputs": [],
   "source": [
    "# También puedo acceder a una fila o columna de la matriz usando notación de\n",
    "# corchetes con un único índice:\n",
    "print(K[:,0]) # primera columna\n",
    "print(K[:,1])\n",
    "print(K[0,:]) # primera fila\n",
    "print(K[1,:])"
   ]
  },
  {
   "cell_type": "code",
   "execution_count": null,
   "metadata": {
    "id": "EV88KIQI2sZO"
   },
   "outputs": [],
   "source": [
    "# Podemos obtener los atributos de estos arrays de la siguiente manera:\n",
    "print(K[0,:].shape)\n",
    "print(K[0,:].ndim)\n",
    "print(K[0,:].size)\n",
    "\n",
    "# lo cual nos permite comprobar que se trata de arrays 1D"
   ]
  },
  {
   "cell_type": "code",
   "execution_count": null,
   "metadata": {
    "id": "6AEo2Oeu2sZP"
   },
   "outputs": [],
   "source": [
    "K.ndim      # dimensiones"
   ]
  },
  {
   "cell_type": "code",
   "execution_count": null,
   "metadata": {
    "id": "nF4UtDBw2sZX"
   },
   "outputs": [],
   "source": [
    "K.shape     # forma"
   ]
  },
  {
   "cell_type": "code",
   "execution_count": null,
   "metadata": {
    "id": "96ohPP0v2sZY"
   },
   "outputs": [],
   "source": [
    "K.size      # cantidad de elementos"
   ]
  },
  {
   "cell_type": "markdown",
   "metadata": {
    "id": "rW3WJLil2sZY"
   },
   "source": [
    "#### Condiciones iniciales\n",
    "\n",
    "Defino los vectores $\\mathbf{\\Psi_0}$ y $\\mathbf{\\Xi_0}$ a partir de la posición y velocidad inicial de cada masa.\n"
   ]
  },
  {
   "cell_type": "code",
   "execution_count": null,
   "metadata": {
    "id": "68ELfUSb2sZZ"
   },
   "outputs": [],
   "source": [
    "# Aparto una masa de su equilibrio, sistema parte del reposo\n",
    "pos_masa_1 = 1\n",
    "pos_masa_2 = 0\n",
    "vel_masa_1 = 0\n",
    "vel_masa_2 = 0"
   ]
  },
  {
   "cell_type": "markdown",
   "metadata": {
    "id": "u2HPQvjJ2sZZ"
   },
   "source": [
    "Voy a escribir los vectores $\\mathbf{\\Psi_0}$ y $\\mathbf{\\Xi_0}$ como vectores columna; para esto debo definirlas como arrays 2D, de dimensiones 2x1:\n",
    "\n",
    "(Para arrays 1D no existe la distinción entre vector fila y columna) "
   ]
  },
  {
   "cell_type": "code",
   "execution_count": null,
   "metadata": {
    "id": "IKLCUEYI2sZZ"
   },
   "outputs": [],
   "source": [
    "# Uso el comando array pero agregando el parametro ndmin=2, y luego uso el atributo T\n",
    "# que me da la transpuesta (ya que la instrucción por si sola me da un vector fila)\n",
    "psi_0 = np.array([pos_masa_1, pos_masa_2], ndmin = 2).T          # desplazamientos iniciales\n",
    "\n",
    "psi_0"
   ]
  },
  {
   "cell_type": "code",
   "execution_count": null,
   "metadata": {
    "id": "Cwyt099q2sZZ"
   },
   "outputs": [],
   "source": [
    "xi_0 = np.array([vel_masa_1, vel_masa_2], ndmin = 2).T          # velocidades iniciales\n",
    "\n",
    "xi_0"
   ]
  },
  {
   "cell_type": "code",
   "execution_count": null,
   "metadata": {
    "id": "f1RucrRC2sZZ"
   },
   "outputs": [],
   "source": [
    "# Chequeo que la forma corresponde a vectores columna\n",
    "print(psi_0.shape)\n",
    "print(xi_0.shape)"
   ]
  },
  {
   "cell_type": "markdown",
   "metadata": {
    "id": "MyQQcx6u2sZa"
   },
   "source": [
    "#### Tiempos\n",
    "\n",
    "Defino un vector que contiene los tiempos en los que quiero graficar la solución. Debo indicar los tiempos inicial y final, y la cantidad de puntos que quiero graficar. Uso un array 1D."
   ]
  },
  {
   "cell_type": "code",
   "execution_count": null,
   "metadata": {
    "id": "P2uWkNBL2sZc"
   },
   "outputs": [],
   "source": [
    "t_min     = 0.\n",
    "t_max     = 10.\n",
    "n_samples = 1001\n",
    "t         = np.linspace(t_min, t_max, n_samples)\n",
    "\n",
    "t"
   ]
  },
  {
   "cell_type": "markdown",
   "metadata": {
    "id": "Mqlf68yD2sZd"
   },
   "source": [
    "### Ejercicio 6"
   ]
  },
  {
   "cell_type": "code",
   "execution_count": 2,
   "metadata": {
    "executionInfo": {
     "elapsed": 742,
     "status": "ok",
     "timestamp": 1617136676333,
     "user": {
      "displayName": "Pablo Etchemendy",
      "photoUrl": "https://lh3.googleusercontent.com/a-/AOh14GhjnaZuYx2qPLtlF2-uMd3nXpDcyLPQpfzsQKqP=s64",
      "userId": "00458345379028069462"
     },
     "user_tz": 180
    },
    "id": "3swK8N5m2sZe"
   },
   "outputs": [],
   "source": [
    "alfa = 2/3  # alfa me permite controlar el desbalance entre masas\n",
    "m = 1.\n",
    "k = 1.\n",
    "\n",
    "m_vector = m*np.array([1, alfa])\n",
    "K = k*np.array([[-2., 1.], [1., -1. ]])\n",
    "\n",
    "psi_0 = np.array([1.,0.], ndmin = 2).T\n",
    "xi_0  = np.array([0.,0.], ndmin = 2).T\n",
    "\n",
    "t = np.linspace(0, 10, 10000)"
   ]
  },
  {
   "cell_type": "markdown",
   "metadata": {
    "id": "EP0aTFIh2sZe"
   },
   "source": [
    "### Ejercicio 7"
   ]
  },
  {
   "cell_type": "code",
   "execution_count": null,
   "metadata": {
    "id": "Mt2baB7m2sZe"
   },
   "outputs": [],
   "source": [
    "alfa = 1  # alfa me permite controlar el desbalance entre masas\n",
    "m = 1.\n",
    "k = 1e-1\n",
    "l = 1.    # \\_ parametros de los pendulos\n",
    "g = 10.   # /\n",
    "\n",
    "m_vector = m*np.array([1, alfa])\n",
    "K = k*np.array([[-1., 1.], [1., -1. ]]) + m*g/l*np.array([[-1., 0], [0, -1. ]])\n",
    "\n",
    "psi_0 = np.array([0.,0.], ndmin = 2).T\n",
    "xi_0  = np.array([1.,-1.], ndmin = 2).T\n",
    "\n",
    "t = np.linspace(0, 100, 200000)"
   ]
  },
  {
   "cell_type": "markdown",
   "metadata": {
    "id": "31_AzItN2sZe"
   },
   "source": [
    "### Ejercicio 8"
   ]
  },
  {
   "cell_type": "code",
   "execution_count": null,
   "metadata": {
    "id": "DJ7T1LwI2sZe"
   },
   "outputs": [],
   "source": [
    "alfa = 1  # alfa me permite controlar el desbalance entre masas\n",
    "m  = 1.\n",
    "k1 = 1.\n",
    "k2 = k1/10\n",
    "\n",
    "m_vector = m*np.array([1, alfa])\n",
    "K = np.array([[-k1-k2, k2], [k2, -k1-k2]])\n",
    "\n",
    "psi_0 = np.array([0.,0.], ndmin = 2).T\n",
    "xi_0  = np.array([1.,0.], ndmin = 2).T\n",
    "\n",
    "t = np.linspace(0, 100, 200000)"
   ]
  },
  {
   "cell_type": "markdown",
   "metadata": {
    "id": "AaBrjbuT2sZf"
   },
   "source": [
    "### Ejercicio 11 (N masas acopladas con extremos fijos)"
   ]
  },
  {
   "cell_type": "code",
   "execution_count": 32,
   "metadata": {
    "executionInfo": {
     "elapsed": 871,
     "status": "ok",
     "timestamp": 1617136847857,
     "user": {
      "displayName": "Pablo Etchemendy",
      "photoUrl": "https://lh3.googleusercontent.com/a-/AOh14GhjnaZuYx2qPLtlF2-uMd3nXpDcyLPQpfzsQKqP=s64",
      "userId": "00458345379028069462"
     },
     "user_tz": 180
    },
    "id": "FF9tzMae2sZf"
   },
   "outputs": [],
   "source": [
    "N = 20\n",
    "m = 1\n",
    "k = 2\n",
    "\n",
    "m_vector = m*np.ones(N)              # vector de masas\n",
    "\n",
    "# K es una matriz tridiagonal\n",
    "K = -2*k*np.diag(np.ones(N)) + k*np.diag(np.ones(N-1),1) + k*np.diag(np.ones(N-1),-1)\n",
    "\n",
    "psi_0 = np.array(np.zeros(N), ndmin = 2).T\n",
    "xi_0  = np.array(np.zeros(N), ndmin = 2).T\n",
    "psi_0[0] = 1.\n",
    "\n",
    "t = np.linspace(0, 10, 10000)"
   ]
  },
  {
   "cell_type": "markdown",
   "metadata": {
    "id": "YNCKdFZV2sZf"
   },
   "source": [
    "### Ejercicio 11 modificado (extremo derecho libre)"
   ]
  },
  {
   "cell_type": "code",
   "execution_count": null,
   "metadata": {
    "id": "NvWLOO8q2sZf"
   },
   "outputs": [],
   "source": [
    "# heredo los parámetros originales y modifico el extremo derecho en la matriz K\n",
    "K[N-1,N-1]=-k"
   ]
  },
  {
   "cell_type": "markdown",
   "metadata": {
    "id": "i0OvhlKu2sZg"
   },
   "source": [
    "### Ejercicio 12 (N péndulos acoplados con extremos mixtos)"
   ]
  },
  {
   "cell_type": "code",
   "execution_count": null,
   "metadata": {
    "id": "tmGNwv9P2sZk"
   },
   "outputs": [],
   "source": [
    "N = 10\n",
    "m = 1\n",
    "k = 2\n",
    "l = 1\n",
    "g = 10\n",
    "\n",
    "m_vector = m*np.ones(N)              # vector de masas\n",
    "\n",
    "K_pendulos = -m*g/l*np.diag(np.ones(N))\n",
    "K_resortes = -2*k*np.diag(np.ones(N)) + k*np.diag(np.ones(N-1),1) + k*np.diag(np.ones(N-1),-1)\n",
    "K_resortes[N-1,N-1] = -k\n",
    "\n",
    "K = K_pendulos + K_resortes\n",
    "\n",
    "psi_0 = np.array(np.zeros(N), ndmin = 2).T\n",
    "xi_0  = np.array(np.zeros(N), ndmin = 2).T\n",
    "psi_0[0] = 1.\n",
    "\n",
    "t = np.linspace(0, 10, 10000)"
   ]
  },
  {
   "cell_type": "markdown",
   "metadata": {
    "id": "ksg0ocOK82Vh"
   },
   "source": [
    "### 3 masas (2021)"
   ]
  },
  {
   "cell_type": "code",
   "execution_count": 2,
   "metadata": {
    "executionInfo": {
     "elapsed": 686,
     "status": "ok",
     "timestamp": 1617195209107,
     "user": {
      "displayName": "Pablo Etchemendy",
      "photoUrl": "https://lh3.googleusercontent.com/a-/AOh14GhjnaZuYx2qPLtlF2-uMd3nXpDcyLPQpfzsQKqP=s64",
      "userId": "00458345379028069462"
     },
     "user_tz": 180
    },
    "id": "lPxJZhY_9Ff3"
   },
   "outputs": [],
   "source": [
    "N=3\n",
    "m=1\n",
    "k=1\n",
    "\n",
    "m_vector = m*np.ones(N)              # vector de masas\n",
    "\n",
    "# K es una matriz tridiagonal\n",
    "K = -2*k*np.diag(np.ones(N)) + k*np.diag(np.ones(N-1),1) + k*np.diag(np.ones(N-1),-1)\n",
    "\n",
    "psi_0 = np.array(np.zeros(N), ndmin = 2).T\n",
    "xi_0  = np.array(np.zeros(N), ndmin = 2).T\n",
    "\n",
    "# condicion inicial solo en las velocidades\n",
    "xi_0[0] = -1.\n",
    "xi_0[2] = 1.\n",
    "\n",
    "\n",
    "t = np.linspace(0, 10, 10000)"
   ]
  },
  {
   "cell_type": "markdown",
   "metadata": {
    "id": "wKoDNAuO2sZk"
   },
   "source": [
    "## Parámetros derivados"
   ]
  },
  {
   "cell_type": "code",
   "execution_count": 3,
   "metadata": {
    "executionInfo": {
     "elapsed": 670,
     "status": "ok",
     "timestamp": 1617195212724,
     "user": {
      "displayName": "Pablo Etchemendy",
      "photoUrl": "https://lh3.googleusercontent.com/a-/AOh14GhjnaZuYx2qPLtlF2-uMd3nXpDcyLPQpfzsQKqP=s64",
      "userId": "00458345379028069462"
     },
     "user_tz": 180
    },
    "id": "PXxi53_w2sZk"
   },
   "outputs": [],
   "source": [
    "# Cantidad de masas\n",
    "n_masas   = np.size(m_vector)\n",
    "# Cantidad de samples para el gráfico\n",
    "n_samples = t.size"
   ]
  },
  {
   "cell_type": "markdown",
   "metadata": {
    "id": "3OzRbHV-2sZk"
   },
   "source": [
    "## Chequeo de parámetros\n",
    "\n",
    "Cuando un código tiene muchos parámetros de entrada, es conveniente tener una sección donde se verifique que los mismos sean consistentes. Enumeramos algunos chequeos que pueden ser útiles:\n",
    "\n",
    "1) Consistencia entre las dimensiones de la matriz de interacciones y la cantidad de masas; ídem para los vectores con las condiciones iniciales.\n",
    "\n",
    "2) La matriz de interacciones debe ser cuadrada.\n",
    "\n",
    "3) Todos los parámetros deben ser reales; las masas además deben ser positivas.\n",
    "\n",
    "4) La diagonal de la matriz de interacciones debe ser negativa para asegurar que las masas sientan fuerzas restitutivas.\n",
    "\n",
    "Si bien en algunos casos estos problemas pueden generar un error durante la ejecución del código, en otros no, por lo que si no realizamos un chequeo, solo podremos darnos cuenta al notar inconsistencias en los resultados generados.\n",
    "\n",
    "A continuación mostramos algunas instrucciones para realizar estos chequeos (hay que refinarlas para casos con muchas masas)"
   ]
  },
  {
   "cell_type": "code",
   "execution_count": 45,
   "metadata": {
    "colab": {
     "base_uri": "https://localhost:8080/"
    },
    "executionInfo": {
     "elapsed": 842,
     "status": "ok",
     "timestamp": 1617138362820,
     "user": {
      "displayName": "Pablo Etchemendy",
      "photoUrl": "https://lh3.googleusercontent.com/a-/AOh14GhjnaZuYx2qPLtlF2-uMd3nXpDcyLPQpfzsQKqP=s64",
      "userId": "00458345379028069462"
     },
     "user_tz": 180
    },
    "id": "Xo3QQnRy2sZl",
    "outputId": "86353cb4-5bdc-40d2-e152-14397aa7b30f"
   },
   "outputs": [
    {
     "name": "stdout",
     "output_type": "stream",
     "text": [
      "3\n",
      "(3,)\n",
      "(3, 3)\n",
      "(3, 1)\n",
      "(3, 1)\n"
     ]
    }
   ],
   "source": [
    "print(n_masas)\n",
    "print(m_vector.shape)\n",
    "print(K.shape)\n",
    "print(psi_0.shape)\n",
    "print(xi_0.shape)"
   ]
  },
  {
   "cell_type": "code",
   "execution_count": 46,
   "metadata": {
    "colab": {
     "base_uri": "https://localhost:8080/"
    },
    "executionInfo": {
     "elapsed": 791,
     "status": "ok",
     "timestamp": 1617138370320,
     "user": {
      "displayName": "Pablo Etchemendy",
      "photoUrl": "https://lh3.googleusercontent.com/a-/AOh14GhjnaZuYx2qPLtlF2-uMd3nXpDcyLPQpfzsQKqP=s64",
      "userId": "00458345379028069462"
     },
     "user_tz": 180
    },
    "id": "S2A0_zCP2sZl",
    "outputId": "ec2e3f28-03a8-46f1-d053-e1bb7662a856"
   },
   "outputs": [
    {
     "data": {
      "text/plain": [
       "array([ True,  True,  True])"
      ]
     },
     "execution_count": 46,
     "metadata": {
      "tags": []
     },
     "output_type": "execute_result"
    }
   ],
   "source": [
    "m_vector > 0"
   ]
  },
  {
   "cell_type": "code",
   "execution_count": null,
   "metadata": {
    "id": "_5GeOJex2sZm"
   },
   "outputs": [],
   "source": [
    "np.diagonal(K) < 0"
   ]
  },
  {
   "cell_type": "code",
   "execution_count": null,
   "metadata": {
    "id": "Orte_umg2sZm"
   },
   "outputs": [],
   "source": [
    "print(np.iscomplex(m_vector))\n",
    "print(np.iscomplex(K))\n",
    "print(np.iscomplex(psi_0))\n",
    "print(np.iscomplex(xi_0))"
   ]
  },
  {
   "cell_type": "markdown",
   "metadata": {
    "id": "liKMKH3E2sZm"
   },
   "source": [
    "## Solución del sistema libre\n",
    "\n",
    "### Autovalores y autovectores"
   ]
  },
  {
   "cell_type": "markdown",
   "metadata": {
    "id": "Nm5Tx8oU2sZm"
   },
   "source": [
    "Antes de plantear la solución, voy a definir una matriz diagonal cuyos elementos representan las masas de cada partícula. Hago esto para poder despejar las masas fácilmente usando álgebra de matrices\n",
    "\n",
    "$$ \\mathbf{M} = \\begin{bmatrix} m_1 & & 0 \\\\  & \\ddots \\\\ 0 & & m_N \\end{bmatrix} $$\n",
    "\n",
    "Para despejar las masas obtengo la matrix inversa:\n",
    "\n",
    "$$ \\mathbf{\\ddot \\Psi} = \\mathbf{M^{-1}} \\mathbf{K} \\mathbf{\\Psi} = \\mathbf{\\Omega} \\mathbf{\\Psi} $$ \n",
    "\n",
    "El sistema se resuelve a partir de plantear la solución de modos normales:\n",
    "\n",
    "$$ \\mathbf{\\Psi} = \\mathbf{a} \\exp(i \\omega t) $$\n",
    "\n",
    "en la cual $\\mathbf{a}$ y $\\omega$ son, respectivamente, un vector y un escalar a determinar. Los mismos se obtienen resolviendo el problema de autovalores y autovectores sobre la matriz $\\mathbf{\\Omega}$:\n",
    "\n",
    "$$ -\\omega^2 \\mathbf{a} = \\mathbf{\\Omega} \\mathbf{a}  = \\lambda \\mathbf{a} $$\n",
    "\n",
    "al cual se llega insertando la solución propuesta en la ecuación diferencial."
   ]
  },
  {
   "cell_type": "code",
   "execution_count": 4,
   "metadata": {
    "colab": {
     "base_uri": "https://localhost:8080/"
    },
    "executionInfo": {
     "elapsed": 695,
     "status": "ok",
     "timestamp": 1617195222545,
     "user": {
      "displayName": "Pablo Etchemendy",
      "photoUrl": "https://lh3.googleusercontent.com/a-/AOh14GhjnaZuYx2qPLtlF2-uMd3nXpDcyLPQpfzsQKqP=s64",
      "userId": "00458345379028069462"
     },
     "user_tz": 180
    },
    "id": "PaPRh15u2sZm",
    "outputId": "c2a1bfb1-5fe5-459e-a3e7-5eb5367fae4e"
   },
   "outputs": [
    {
     "data": {
      "text/plain": [
       "array([[1., 0., 0.],\n",
       "       [0., 1., 0.],\n",
       "       [0., 0., 1.]])"
      ]
     },
     "execution_count": 4,
     "metadata": {
      "tags": []
     },
     "output_type": "execute_result"
    }
   ],
   "source": [
    "# La instruccion diag me permite armar una matriz diagonal a partir de un array 1D\n",
    "M = np.diag(m_vector)\n",
    "\n",
    "M"
   ]
  },
  {
   "cell_type": "code",
   "execution_count": 5,
   "metadata": {
    "colab": {
     "base_uri": "https://localhost:8080/"
    },
    "executionInfo": {
     "elapsed": 836,
     "status": "ok",
     "timestamp": 1617195225138,
     "user": {
      "displayName": "Pablo Etchemendy",
      "photoUrl": "https://lh3.googleusercontent.com/a-/AOh14GhjnaZuYx2qPLtlF2-uMd3nXpDcyLPQpfzsQKqP=s64",
      "userId": "00458345379028069462"
     },
     "user_tz": 180
    },
    "id": "0i-jkzVf2sZn",
    "outputId": "83da2c23-6ffd-47ac-d102-7dbbf56fe044"
   },
   "outputs": [
    {
     "data": {
      "text/plain": [
       "array([[1., 0., 0.],\n",
       "       [0., 1., 0.],\n",
       "       [0., 0., 1.]])"
      ]
     },
     "execution_count": 5,
     "metadata": {
      "tags": []
     },
     "output_type": "execute_result"
    }
   ],
   "source": [
    "# Esta instruccion me da la matriz inversa, notar que es una matriz diagonal cuyos\n",
    "# elementos son 1/m_1 ... 1/m_N\n",
    "M_inv = np.linalg.inv(M)\n",
    "\n",
    "M_inv"
   ]
  },
  {
   "cell_type": "code",
   "execution_count": 6,
   "metadata": {
    "colab": {
     "base_uri": "https://localhost:8080/"
    },
    "executionInfo": {
     "elapsed": 673,
     "status": "ok",
     "timestamp": 1617195228064,
     "user": {
      "displayName": "Pablo Etchemendy",
      "photoUrl": "https://lh3.googleusercontent.com/a-/AOh14GhjnaZuYx2qPLtlF2-uMd3nXpDcyLPQpfzsQKqP=s64",
      "userId": "00458345379028069462"
     },
     "user_tz": 180
    },
    "id": "GWAagf0a2sZn",
    "outputId": "f4aa40e7-31e2-4ee6-da73-6ac9741e9f81"
   },
   "outputs": [
    {
     "data": {
      "text/plain": [
       "array([[-2.,  1.,  0.],\n",
       "       [ 1., -2.,  1.],\n",
       "       [ 0.,  1., -2.]])"
      ]
     },
     "execution_count": 6,
     "metadata": {
      "tags": []
     },
     "output_type": "execute_result"
    }
   ],
   "source": [
    "# La instrucción dot me permite multiplicar matrices según las reglas del álgebra\n",
    "# de matrices\n",
    "W = np.dot(M_inv, K)\n",
    "\n",
    "W"
   ]
  },
  {
   "cell_type": "code",
   "execution_count": 7,
   "metadata": {
    "colab": {
     "base_uri": "https://localhost:8080/"
    },
    "executionInfo": {
     "elapsed": 691,
     "status": "ok",
     "timestamp": 1617195230044,
     "user": {
      "displayName": "Pablo Etchemendy",
      "photoUrl": "https://lh3.googleusercontent.com/a-/AOh14GhjnaZuYx2qPLtlF2-uMd3nXpDcyLPQpfzsQKqP=s64",
      "userId": "00458345379028069462"
     },
     "user_tz": 180
    },
    "id": "XoiUvh8c2sZo",
    "outputId": "1cd8389f-e862-457f-8aa0-9700e85c68fb"
   },
   "outputs": [
    {
     "name": "stdout",
     "output_type": "stream",
     "text": [
      "[-3.41421356 -2.         -0.58578644]\n",
      "[[ 5.00000000e-01  7.07106781e-01  5.00000000e-01]\n",
      " [-7.07106781e-01 -4.05405432e-16  7.07106781e-01]\n",
      " [ 5.00000000e-01 -7.07106781e-01  5.00000000e-01]]\n"
     ]
    }
   ],
   "source": [
    "# Esta instrucción me permite obtener los autovalores y autovectores normalizados de W\n",
    "l, A = np.linalg.eig(W)\n",
    "\n",
    "print(l)  # vector de autovalores\n",
    "print(A)  # matriz de autovectores columna"
   ]
  },
  {
   "cell_type": "code",
   "execution_count": 8,
   "metadata": {
    "colab": {
     "base_uri": "https://localhost:8080/"
    },
    "executionInfo": {
     "elapsed": 971,
     "status": "ok",
     "timestamp": 1617195233899,
     "user": {
      "displayName": "Pablo Etchemendy",
      "photoUrl": "https://lh3.googleusercontent.com/a-/AOh14GhjnaZuYx2qPLtlF2-uMd3nXpDcyLPQpfzsQKqP=s64",
      "userId": "00458345379028069462"
     },
     "user_tz": 180
    },
    "id": "y03FeAAt2sZo",
    "outputId": "f50add00-ab2e-4285-d8dd-0043396a66d7"
   },
   "outputs": [
    {
     "data": {
      "text/plain": [
       "-3.4142135623730914"
      ]
     },
     "execution_count": 8,
     "metadata": {
      "tags": []
     },
     "output_type": "execute_result"
    }
   ],
   "source": [
    "# Accedo al primer autovalor \n",
    "l[0]"
   ]
  },
  {
   "cell_type": "code",
   "execution_count": 52,
   "metadata": {
    "colab": {
     "base_uri": "https://localhost:8080/"
    },
    "executionInfo": {
     "elapsed": 772,
     "status": "ok",
     "timestamp": 1617138402977,
     "user": {
      "displayName": "Pablo Etchemendy",
      "photoUrl": "https://lh3.googleusercontent.com/a-/AOh14GhjnaZuYx2qPLtlF2-uMd3nXpDcyLPQpfzsQKqP=s64",
      "userId": "00458345379028069462"
     },
     "user_tz": 180
    },
    "id": "529f6Ff32sZo",
    "outputId": "9b675d41-8c9c-499a-e762-4170ac2605d2"
   },
   "outputs": [
    {
     "data": {
      "text/plain": [
       "array([ 0.5       , -0.70710678,  0.5       ])"
      ]
     },
     "execution_count": 52,
     "metadata": {
      "tags": []
     },
     "output_type": "execute_result"
    }
   ],
   "source": [
    "# Accedo al primer autovector\n",
    "A[:,0]"
   ]
  },
  {
   "cell_type": "markdown",
   "metadata": {
    "id": "AdGLNhyi2sZo"
   },
   "source": [
    "Para obtener las frecuencias, uso que:\n",
    "\n",
    "$$ \\omega_i = \\sqrt{-\\lambda_i} $$"
   ]
  },
  {
   "cell_type": "code",
   "execution_count": 10,
   "metadata": {
    "colab": {
     "base_uri": "https://localhost:8080/"
    },
    "executionInfo": {
     "elapsed": 708,
     "status": "ok",
     "timestamp": 1617195241444,
     "user": {
      "displayName": "Pablo Etchemendy",
      "photoUrl": "https://lh3.googleusercontent.com/a-/AOh14GhjnaZuYx2qPLtlF2-uMd3nXpDcyLPQpfzsQKqP=s64",
      "userId": "00458345379028069462"
     },
     "user_tz": 180
    },
    "id": "uX2xkC9e2sZp",
    "outputId": "afff597e-07f2-45c2-a277-8a09f132e921"
   },
   "outputs": [
    {
     "data": {
      "text/plain": [
       "array([1.84775907, 1.41421356, 0.76536686])"
      ]
     },
     "execution_count": 10,
     "metadata": {
      "tags": []
     },
     "output_type": "execute_result"
    }
   ],
   "source": [
    "w = np.sqrt(-l)\n",
    "\n",
    "w"
   ]
  },
  {
   "cell_type": "code",
   "execution_count": 11,
   "metadata": {
    "executionInfo": {
     "elapsed": 610,
     "status": "ok",
     "timestamp": 1617195242593,
     "user": {
      "displayName": "Pablo Etchemendy",
      "photoUrl": "https://lh3.googleusercontent.com/a-/AOh14GhjnaZuYx2qPLtlF2-uMd3nXpDcyLPQpfzsQKqP=s64",
      "userId": "00458345379028069462"
     },
     "user_tz": 180
    },
    "id": "zleHzJLl2sZp"
   },
   "outputs": [],
   "source": [
    "# No siempre las frecuencias quedan ordenadas de menor a mayor, uso argsort para \n",
    "# reordenar todo\n",
    "indices_ordenados = np.argsort(w)\n",
    "l = l[indices_ordenados]\n",
    "w = w[indices_ordenados]\n",
    "A = A[:,indices_ordenados]\n",
    "\n",
    "# ademas voy a hacer que todos los autovectores tengan su primer elemento positivo\n",
    "#A = A*npm.repmat(np.sign(A[0,:]), n_masas, 1)"
   ]
  },
  {
   "cell_type": "markdown",
   "metadata": {
    "id": "acPEkS8a2sZp"
   },
   "source": [
    "Voy a mostrar las frecuencias del sistema ordenadas:"
   ]
  },
  {
   "cell_type": "code",
   "execution_count": 55,
   "metadata": {
    "colab": {
     "base_uri": "https://localhost:8080/",
     "height": 317
    },
    "executionInfo": {
     "elapsed": 795,
     "status": "ok",
     "timestamp": 1617138413909,
     "user": {
      "displayName": "Pablo Etchemendy",
      "photoUrl": "https://lh3.googleusercontent.com/a-/AOh14GhjnaZuYx2qPLtlF2-uMd3nXpDcyLPQpfzsQKqP=s64",
      "userId": "00458345379028069462"
     },
     "user_tz": 180
    },
    "id": "jOJTIdaU2sZp",
    "outputId": "9dc6bee9-5515-44d2-e4ba-1338f63e8971"
   },
   "outputs": [
    {
     "name": "stdout",
     "output_type": "stream",
     "text": [
      "0.7653668647301795\n",
      "1.8477590650225726\n"
     ]
    },
    {
     "data": {
      "text/plain": [
       "1.2715533031636115"
      ]
     },
     "execution_count": 55,
     "metadata": {
      "tags": []
     },
     "output_type": "execute_result"
    },
    {
     "data": {
      "image/png": "[encoded data removed]",
      "text/plain": [
       "<Figure size 288x288 with 1 Axes>"
      ]
     },
     "metadata": {
      "needs_background": "light",
      "tags": []
     },
     "output_type": "display_data"
    }
   ],
   "source": [
    "# Completar nombres de ejes, etc.\n",
    "fig2, ax2 = plt.subplots()\n",
    "fig2.set_size_inches(4, 4)\n",
    "ax2.plot(w, marker='.')\n",
    "\n",
    "print(np.min(w))\n",
    "print(np.max(w))\n",
    "\n",
    "np.log(np.max(w) / np.min(w)) / np.log(2)"
   ]
  },
  {
   "cell_type": "markdown",
   "metadata": {
    "id": "YB6vIrFg2sZq"
   },
   "source": [
    "Y ahora muestro los autovectores en un gráfico de colores (útil para sistemas de muchas masas)"
   ]
  },
  {
   "cell_type": "code",
   "execution_count": 12,
   "metadata": {
    "colab": {
     "base_uri": "https://localhost:8080/",
     "height": 321
    },
    "executionInfo": {
     "elapsed": 705,
     "status": "ok",
     "timestamp": 1617195247290,
     "user": {
      "displayName": "Pablo Etchemendy",
      "photoUrl": "https://lh3.googleusercontent.com/a-/AOh14GhjnaZuYx2qPLtlF2-uMd3nXpDcyLPQpfzsQKqP=s64",
      "userId": "00458345379028069462"
     },
     "user_tz": 180
    },
    "id": "QWtG8kKT2sZr",
    "outputId": "7c59f94b-8315-4b5b-fcac-051024244fde"
   },
   "outputs": [
    {
     "data": {
      "text/plain": [
       "array([[ 5.00000000e-01,  7.07106781e-01,  5.00000000e-01],\n",
       "       [ 7.07106781e-01, -4.05405432e-16, -7.07106781e-01],\n",
       "       [ 5.00000000e-01, -7.07106781e-01,  5.00000000e-01]])"
      ]
     },
     "execution_count": 12,
     "metadata": {
      "tags": []
     },
     "output_type": "execute_result"
    },
    {
     "data": {
      "image/png": "[encoded data removed]",
      "text/plain": [
       "<Figure size 288x288 with 1 Axes>"
      ]
     },
     "metadata": {
      "needs_background": "light",
      "tags": []
     },
     "output_type": "display_data"
    }
   ],
   "source": [
    "fig1, ax1 = plt.subplots()\n",
    "fig1.set_size_inches(4, 4)\n",
    "\n",
    "ax1.imshow(A)\n",
    "A"
   ]
  },
  {
   "cell_type": "code",
   "execution_count": 13,
   "metadata": {
    "colab": {
     "base_uri": "https://localhost:8080/",
     "height": 374
    },
    "executionInfo": {
     "elapsed": 1020,
     "status": "ok",
     "timestamp": 1617195250052,
     "user": {
      "displayName": "Pablo Etchemendy",
      "photoUrl": "https://lh3.googleusercontent.com/a-/AOh14GhjnaZuYx2qPLtlF2-uMd3nXpDcyLPQpfzsQKqP=s64",
      "userId": "00458345379028069462"
     },
     "user_tz": 180
    },
    "id": "wvCPwKLh2sZr",
    "outputId": "7922553e-6bf4-49b9-dbb6-cb587c922907"
   },
   "outputs": [
    {
     "data": {
      "image/png": "[encoded data removed]",
      "text/plain": [
       "<Figure size 216x432 with 3 Axes>"
      ]
     },
     "metadata": {
      "needs_background": "light",
      "tags": []
     },
     "output_type": "display_data"
    }
   ],
   "source": [
    "# Muestro hasta los primeros n modos\n",
    "n = min(10, n_masas)\n",
    "fig3, ax3 = plt.subplots(nrows=n,ncols=1)\n",
    "fig3.set_size_inches(3, 2*n)\n",
    "for i in range(0,n):\n",
    "    ax3[i].bar([1,2,3],A[:,i])"
   ]
  },
  {
   "cell_type": "markdown",
   "metadata": {
    "id": "-E5rai8F2sZs"
   },
   "source": [
    "### Condiciones iniciales\n",
    "\n",
    "La solución de mi sistema se escribe como:\n",
    "\n",
    "$$ \\mathbf{\\Psi} = \\sum_{j=1}^N c_j \\mathbf{a_j} \\exp(i \\omega_j t) $$\n",
    "\n",
    "$$ \\mathbf{\\dot\\Psi} = \\Xi = i \\sum_{j=1}^N \\omega_j c_j \\mathbf{a_j} \\exp(i \\omega_j t) $$\n",
    "\n",
    "donde $c_j$ son $N$ pesos complejos que se obtienen al plantear las condiciones iniciales. Para hallar los pesos, es necesario tomar parte real en mi solución compleja (evaluada en $t=0$) e igualar a las condiciones iniciales:\n",
    "\n",
    "$$ \\begin{cases}\n",
    "\\mathbf{\\Psi_0} = \\Re[\\mathbf{a_1} c_1 + ... + \\mathbf{a_N} c_N ] \\\\ \n",
    "\\mathbf{\\Xi_0}  = \\Re[i \\mathbf{a_1} c_1 \\omega_1 + ... + i \\mathbf{a_N} c_N \\omega_N]\n",
    " \\end{cases}\n",
    "$$ \n",
    "\n",
    "Notar que tenemos tantos pesos como masas en el sistema, a la vez que la cantidad de ecuaciones es el doble que la cantidad de masas; esto se debe a que para cada peso es necesario determinar su parte real y su parte imaginaria. Es decir, para un sistema con $N$ masas, tendremos que hallar $2N$ incógnitas mediante $2N$ ecuaciones. (Para pensar, ¿es posible que este sistema sea indeterminado?)\n",
    "\n",
    "Voy a expresar este sistema de ecuaciones en notación matricial; para esto voy a usar la matriz de autovectores, la cuál se define como una matriz cuyas columnas corresponden a cada autovector:\n",
    "\n",
    "$$ \\mathbf{A} = \\begin{bmatrix} \\mathbf{a_1} & ... & \\mathbf{a_N} \\end{bmatrix} $$\n",
    "\n",
    "En notación matricial el sistema se expresa:\n",
    "\n",
    "$$ \\begin{cases}\n",
    "\\mathbf{\\Psi_0} = \\begin{bmatrix} \\mathbf{a_1} & ... & \\mathbf{a_N} \\end{bmatrix} \n",
    "                  \\begin{bmatrix} \\Re[c_1] \\\\ \\vdots \\\\ \\Re[c_N] \\end{bmatrix} \\\\\n",
    "\\mathbf{\\Xi_0}  = \\begin{bmatrix} \\mathbf{a_1} & ... & \\mathbf{a_N} \\end{bmatrix} \n",
    "                  \\begin{bmatrix} -\\Im[c_1] \\omega_1 \\\\ \\vdots \\\\ -\\Im[c_N] \\omega_N \\end{bmatrix}\n",
    " \\end{cases}\n",
    "$$\n",
    "\n",
    "Debemos invertir la matriz de autovectores para poder despejar los pesos. Por suerte, las partes reales e imaginarias están desacopladas. \n",
    "\n",
    "Usando dicha matriz inversa, obtenemos\n",
    "\n",
    "$$ \\begin{cases}\n",
    "\\begin{bmatrix} \\Re[c_1] \\\\ \\vdots \\\\ \\Re[c_N] \\end{bmatrix} = \\mathbf{A}^{-1} \\mathbf{\\Psi_0}\\\\\n",
    "\\begin{bmatrix} \\Im[c_1] \\omega_1 \\\\ \\vdots \\\\ \\Im[c_N] \\omega_N \\end{bmatrix} = - \\mathbf{A}^{-1} \\mathbf{\\Xi_0}\n",
    "\\end{cases}\n",
    "$$"
   ]
  },
  {
   "cell_type": "markdown",
   "metadata": {
    "id": "zffVVKUs2sZs"
   },
   "source": [
    "Notar que en la segunda condición se puede despejar el vector de partes imaginarias de los pesos definiendo una matriz diagonal con las frecuencias angulares:\n",
    "\n",
    "$$ \\bar{\\omega} = \\begin{bmatrix} \\omega_1 & & 0 \\\\ & \\ddots & \\\\ 0 & & \\omega_N \\end{bmatrix} $$\n",
    "\n",
    "de modo que:\n",
    "\n",
    "$$ \\begin{bmatrix} \\omega_1 & & 0 \\\\ & \\ddots & \\\\ 0 & & \\omega_N \\end{bmatrix} \\begin{bmatrix} \\Im[c_1] \\\\ \\vdots \\\\ \\Im[c_N] \\end{bmatrix} = - \\mathbf{A}^{-1} \\mathbf{\\Xi_0} $$\n",
    "\n",
    "Para despejar invertimos esta matriz y obtenemos:\n",
    "\n",
    "$$ \\begin{bmatrix} \\Im[c_1] \\\\ \\vdots \\\\ \\Im[c_N] \\end{bmatrix} = - \\begin{bmatrix} 1/\\omega_1 & & 0 \\\\ & \\ddots & \\\\ 0 & & 1/\\omega_N \\end{bmatrix} \\mathbf{A}^{-1} \\mathbf{\\Xi_0} = \\bar{\\omega}^{-1} \\mathbf{A}^{-1} \\mathbf{\\Xi_0} $$\n",
    "\n",
    "(Al hacer esto hay que tener cuidado con los modos de frecuencia 0)."
   ]
  },
  {
   "cell_type": "code",
   "execution_count": 14,
   "metadata": {
    "colab": {
     "base_uri": "https://localhost:8080/"
    },
    "executionInfo": {
     "elapsed": 678,
     "status": "ok",
     "timestamp": 1617195258076,
     "user": {
      "displayName": "Pablo Etchemendy",
      "photoUrl": "https://lh3.googleusercontent.com/a-/AOh14GhjnaZuYx2qPLtlF2-uMd3nXpDcyLPQpfzsQKqP=s64",
      "userId": "00458345379028069462"
     },
     "user_tz": 180
    },
    "id": "LRiyrcad2sZs",
    "outputId": "1e86c174-57c9-49b8-d635-8ce14380e133"
   },
   "outputs": [
    {
     "name": "stdout",
     "output_type": "stream",
     "text": [
      "[[ 5.00000000e-01  7.07106781e-01  5.00000000e-01]\n",
      " [ 7.07106781e-01 -4.05405432e-16 -7.07106781e-01]\n",
      " [ 5.00000000e-01 -7.07106781e-01  5.00000000e-01]]\n",
      "[[ 5.00000000e-01  7.07106781e-01  5.00000000e-01]\n",
      " [ 7.07106781e-01 -4.71027738e-16 -7.07106781e-01]\n",
      " [ 5.00000000e-01 -7.07106781e-01  5.00000000e-01]]\n"
     ]
    }
   ],
   "source": [
    "# Obtengo la inversa de la matriz de autovectores\n",
    "A_inv = np.linalg.inv(A)\n",
    "\n",
    "print(A)\n",
    "print(A_inv)"
   ]
  },
  {
   "cell_type": "code",
   "execution_count": 15,
   "metadata": {
    "colab": {
     "base_uri": "https://localhost:8080/"
    },
    "executionInfo": {
     "elapsed": 806,
     "status": "ok",
     "timestamp": 1617195260362,
     "user": {
      "displayName": "Pablo Etchemendy",
      "photoUrl": "https://lh3.googleusercontent.com/a-/AOh14GhjnaZuYx2qPLtlF2-uMd3nXpDcyLPQpfzsQKqP=s64",
      "userId": "00458345379028069462"
     },
     "user_tz": 180
    },
    "id": "Dn24jkx_2sZs",
    "outputId": "2145bb39-7486-4ca0-b656-e2dd39f5845b"
   },
   "outputs": [
    {
     "data": {
      "text/plain": [
       "array([[0.],\n",
       "       [0.],\n",
       "       [0.]])"
      ]
     },
     "execution_count": 15,
     "metadata": {
      "tags": []
     },
     "output_type": "execute_result"
    }
   ],
   "source": [
    "# Para hallar la parte real de los pesos simplemente aplico la matriz\n",
    "# inversa de A a la condición inicial sobre las posiciones\n",
    "c_real = np.dot(A_inv, psi_0)\n",
    "\n",
    "c_real"
   ]
  },
  {
   "cell_type": "code",
   "execution_count": 16,
   "metadata": {
    "colab": {
     "base_uri": "https://localhost:8080/"
    },
    "executionInfo": {
     "elapsed": 679,
     "status": "ok",
     "timestamp": 1617195263076,
     "user": {
      "displayName": "Pablo Etchemendy",
      "photoUrl": "https://lh3.googleusercontent.com/a-/AOh14GhjnaZuYx2qPLtlF2-uMd3nXpDcyLPQpfzsQKqP=s64",
      "userId": "00458345379028069462"
     },
     "user_tz": 180
    },
    "id": "SuTP6YfC2sZs",
    "outputId": "a1dd0985-265b-454a-d127-de5c5c075711"
   },
   "outputs": [
    {
     "data": {
      "text/plain": [
       "array([[-2.17586443e-16],\n",
       "       [ 1.00000000e+00],\n",
       "       [-4.80678697e-16]])"
      ]
     },
     "execution_count": 16,
     "metadata": {
      "tags": []
     },
     "output_type": "execute_result"
    }
   ],
   "source": [
    "# Para la parte compleja hay que aplicar dos matrices a la condicion\n",
    "# inicial sobre las velocidades\n",
    "w_matriz     = np.diag(w)\n",
    "w_matriz_inv = np.linalg.inv(w_matriz)\n",
    "c_imag = -np.dot(w_matriz_inv, np.dot(A_inv, xi_0))\n",
    "\n",
    "c_imag"
   ]
  },
  {
   "cell_type": "code",
   "execution_count": 17,
   "metadata": {
    "colab": {
     "base_uri": "https://localhost:8080/"
    },
    "executionInfo": {
     "elapsed": 690,
     "status": "ok",
     "timestamp": 1617195266521,
     "user": {
      "displayName": "Pablo Etchemendy",
      "photoUrl": "https://lh3.googleusercontent.com/a-/AOh14GhjnaZuYx2qPLtlF2-uMd3nXpDcyLPQpfzsQKqP=s64",
      "userId": "00458345379028069462"
     },
     "user_tz": 180
    },
    "id": "OtgpI2tU2sZs",
    "outputId": "7f5e5b58-4904-474e-c547-ff22b36a8251"
   },
   "outputs": [
    {
     "data": {
      "text/plain": [
       "array([[0.-2.17586443e-16j],\n",
       "       [0.+1.00000000e+00j],\n",
       "       [0.-4.80678697e-16j]])"
      ]
     },
     "execution_count": 17,
     "metadata": {
      "tags": []
     },
     "output_type": "execute_result"
    }
   ],
   "source": [
    "# Finalmente escribimos los pesos complejos\n",
    "c = c_real + 1j*c_imag\n",
    "\n",
    "c"
   ]
  },
  {
   "cell_type": "code",
   "execution_count": 18,
   "metadata": {
    "colab": {
     "base_uri": "https://localhost:8080/"
    },
    "executionInfo": {
     "elapsed": 681,
     "status": "ok",
     "timestamp": 1617195269875,
     "user": {
      "displayName": "Pablo Etchemendy",
      "photoUrl": "https://lh3.googleusercontent.com/a-/AOh14GhjnaZuYx2qPLtlF2-uMd3nXpDcyLPQpfzsQKqP=s64",
      "userId": "00458345379028069462"
     },
     "user_tz": 180
    },
    "id": "JuQVow462sZt",
    "outputId": "9c590645-b1c7-4fe9-dd0e-1e0f31149327"
   },
   "outputs": [
    {
     "data": {
      "text/plain": [
       "array([[0.],\n",
       "       [0.],\n",
       "       [0.]])"
      ]
     },
     "execution_count": 18,
     "metadata": {
      "tags": []
     },
     "output_type": "execute_result"
    }
   ],
   "source": [
    "# Chequeo posición inicial\n",
    "np.real(np.dot(A, c))"
   ]
  },
  {
   "cell_type": "code",
   "execution_count": 19,
   "metadata": {
    "colab": {
     "base_uri": "https://localhost:8080/"
    },
    "executionInfo": {
     "elapsed": 680,
     "status": "ok",
     "timestamp": 1617195271689,
     "user": {
      "displayName": "Pablo Etchemendy",
      "photoUrl": "https://lh3.googleusercontent.com/a-/AOh14GhjnaZuYx2qPLtlF2-uMd3nXpDcyLPQpfzsQKqP=s64",
      "userId": "00458345379028069462"
     },
     "user_tz": 180
    },
    "id": "cEAtUH2H2sZt",
    "outputId": "9ca397dc-9189-4b27-a88b-524a6f001013"
   },
   "outputs": [
    {
     "data": {
      "text/plain": [
       "array([[-1.00000000e+00],\n",
       "       [ 6.30498112e-17],\n",
       "       [ 1.00000000e+00]])"
      ]
     },
     "execution_count": 19,
     "metadata": {
      "tags": []
     },
     "output_type": "execute_result"
    }
   ],
   "source": [
    "# Chequeo velocidad inicial\n",
    "np.real(1j*np.dot(A, np.dot(np.diag(w), c)))"
   ]
  },
  {
   "cell_type": "markdown",
   "metadata": {
    "id": "MFxmpGml2sZt"
   },
   "source": [
    "### Solución en función del tiempo\n",
    "\n",
    "La parte que nos queda es la de evaluar la solución para los puntos del tiempo elegidos."
   ]
  },
  {
   "cell_type": "code",
   "execution_count": 20,
   "metadata": {
    "colab": {
     "base_uri": "https://localhost:8080/"
    },
    "executionInfo": {
     "elapsed": 831,
     "status": "ok",
     "timestamp": 1617195276641,
     "user": {
      "displayName": "Pablo Etchemendy",
      "photoUrl": "https://lh3.googleusercontent.com/a-/AOh14GhjnaZuYx2qPLtlF2-uMd3nXpDcyLPQpfzsQKqP=s64",
      "userId": "00458345379028069462"
     },
     "user_tz": 180
    },
    "id": "NXhcgZai2sZu",
    "outputId": "2f5ae2c0-4831-432a-d499-9a170f01819d"
   },
   "outputs": [
    {
     "data": {
      "text/plain": [
       "array([[0., 0., 0., ..., 0., 0., 0.],\n",
       "       [0., 0., 0., ..., 0., 0., 0.],\n",
       "       [0., 0., 0., ..., 0., 0., 0.]])"
      ]
     },
     "execution_count": 20,
     "metadata": {
      "tags": []
     },
     "output_type": "execute_result"
    }
   ],
   "source": [
    "# Defino las matrices que contendran la solucion a lo largo del tiempo, cada\n",
    "# fila representa una masa, y cada columna un sample de tiempo\n",
    "psi = np.zeros([n_masas, n_samples])        # \\_ ambas son arrays 2D\n",
    "xi  = np.zeros([n_masas, n_samples])        # /\n",
    "\n",
    "psi"
   ]
  },
  {
   "cell_type": "code",
   "execution_count": 21,
   "metadata": {
    "colab": {
     "base_uri": "https://localhost:8080/"
    },
    "executionInfo": {
     "elapsed": 796,
     "status": "ok",
     "timestamp": 1617195278890,
     "user": {
      "displayName": "Pablo Etchemendy",
      "photoUrl": "https://lh3.googleusercontent.com/a-/AOh14GhjnaZuYx2qPLtlF2-uMd3nXpDcyLPQpfzsQKqP=s64",
      "userId": "00458345379028069462"
     },
     "user_tz": 180
    },
    "id": "sTFOxaRB2sZu",
    "outputId": "9484ef4a-497a-4b2c-f5c6-b48da74041d6"
   },
   "outputs": [
    {
     "data": {
      "text/plain": [
       "(3, 10000)"
      ]
     },
     "execution_count": 21,
     "metadata": {
      "tags": []
     },
     "output_type": "execute_result"
    }
   ],
   "source": [
    "psi.shape"
   ]
  },
  {
   "cell_type": "code",
   "execution_count": 22,
   "metadata": {
    "executionInfo": {
     "elapsed": 723,
     "status": "ok",
     "timestamp": 1617195280465,
     "user": {
      "displayName": "Pablo Etchemendy",
      "photoUrl": "https://lh3.googleusercontent.com/a-/AOh14GhjnaZuYx2qPLtlF2-uMd3nXpDcyLPQpfzsQKqP=s64",
      "userId": "00458345379028069462"
     },
     "user_tz": 180
    },
    "id": "RjJy-nOY2sZu"
   },
   "outputs": [],
   "source": [
    "# Voy calculando la solución para cada masa\n",
    "for i in range(0, n_masas):\n",
    "    \n",
    "    # defino al autovector i-ésimo como un vector columna\n",
    "    ai = A[:,i]\n",
    "    ai.shape = (n_masas,1)\n",
    "    \n",
    "    # uso npm.repmat para expandir el autovector y la exponencial a una matriz\n",
    "    # con n_masas filas y n_samples columnas\n",
    "    aux = c[i]*npm.repmat(ai,1,n_samples)*npm.repmat(np.exp(1j*w[i]*t), n_masas, 1)\n",
    "    \n",
    "    # sumo término a término en posición y velocidad\n",
    "    psi = psi + aux\n",
    "    xi  = xi  + aux*1j*w[i]\n",
    "    "
   ]
  },
  {
   "cell_type": "code",
   "execution_count": 23,
   "metadata": {
    "colab": {
     "base_uri": "https://localhost:8080/",
     "height": 317
    },
    "executionInfo": {
     "elapsed": 1390,
     "status": "ok",
     "timestamp": 1617195282795,
     "user": {
      "displayName": "Pablo Etchemendy",
      "photoUrl": "https://lh3.googleusercontent.com/a-/AOh14GhjnaZuYx2qPLtlF2-uMd3nXpDcyLPQpfzsQKqP=s64",
      "userId": "00458345379028069462"
     },
     "user_tz": 180
    },
    "id": "Vu8bx7CA2sZv",
    "outputId": "6feeddda-1b74-4c9a-98c4-6cc8b688c77f"
   },
   "outputs": [
    {
     "data": {
      "text/plain": [
       "[<matplotlib.lines.Line2D at 0x7f292a3f50d0>,\n",
       " <matplotlib.lines.Line2D at 0x7f292a3f5310>,\n",
       " <matplotlib.lines.Line2D at 0x7f292a3f54d0>]"
      ]
     },
     "execution_count": 23,
     "metadata": {
      "tags": []
     },
     "output_type": "execute_result"
    },
    {
     "data": {
      "image/png": "[encoded data removed]",
      "text/plain": [
       "<Figure size 432x288 with 2 Axes>"
      ]
     },
     "metadata": {
      "needs_background": "light",
      "tags": []
     },
     "output_type": "display_data"
    }
   ],
   "source": [
    "# Grafico psi y xi versus t para hasta 10 masas\n",
    "n = min(5, n_masas)\n",
    "fig4, ax4 = plt.subplots(nrows=2,ncols=1)\n",
    "# transpongo para poder graficar las dos masas juntas\n",
    "ax4[0].plot(t, np.real(psi[0:n,:].T))               # posicion de ambas masas, uso slice notation\n",
    "ax4[1].plot(t, np.real( xi[0:n,:].T))               # velocidades de ambas masas\n"
   ]
  },
  {
   "cell_type": "code",
   "execution_count": 24,
   "metadata": {
    "colab": {
     "base_uri": "https://localhost:8080/",
     "height": 439
    },
    "executionInfo": {
     "elapsed": 1150,
     "status": "ok",
     "timestamp": 1617195290262,
     "user": {
      "displayName": "Pablo Etchemendy",
      "photoUrl": "https://lh3.googleusercontent.com/a-/AOh14GhjnaZuYx2qPLtlF2-uMd3nXpDcyLPQpfzsQKqP=s64",
      "userId": "00458345379028069462"
     },
     "user_tz": 180
    },
    "id": "8L1vEASR2sZv",
    "outputId": "978f3f52-4f70-4d0d-e0c6-693c09700a48"
   },
   "outputs": [
    {
     "data": {
      "text/plain": [
       "[<matplotlib.lines.Line2D at 0x7f292a2d3350>,\n",
       " <matplotlib.lines.Line2D at 0x7f292a2d3590>,\n",
       " <matplotlib.lines.Line2D at 0x7f292a2d3750>,\n",
       " <matplotlib.lines.Line2D at 0x7f292a2d3910>,\n",
       " <matplotlib.lines.Line2D at 0x7f292a2d3ad0>,\n",
       " <matplotlib.lines.Line2D at 0x7f292a2d3c90>,\n",
       " <matplotlib.lines.Line2D at 0x7f292a2d3ed0>,\n",
       " <matplotlib.lines.Line2D at 0x7f292a2da0d0>,\n",
       " <matplotlib.lines.Line2D at 0x7f292a2d3a90>,\n",
       " <matplotlib.lines.Line2D at 0x7f292a2d3cd0>]"
      ]
     },
     "execution_count": 24,
     "metadata": {
      "tags": []
     },
     "output_type": "execute_result"
    },
    {
     "data": {
      "image/png": "[encoded data removed]",
      "text/plain": [
       "<Figure size 432x288 with 2 Axes>"
      ]
     },
     "metadata": {
      "needs_background": "light",
      "tags": []
     },
     "output_type": "display_data"
    }
   ],
   "source": [
    "# Grafico el movimiento (psi) y la velocidad (xi) colectives para 10 instantes\n",
    "# de tiempo entre t_min y t_max (útil para sistemas de muchas masas)\n",
    "fig5, ax5 = plt.subplots(nrows=2,ncols=1)\n",
    "samples = np.round(np.linspace(0, len(t) - 1, 10)).astype(int)\n",
    "\n",
    "ax5[0].plot(np.real(psi[:,samples])) \n",
    "ax5[1].plot(np.real(xi[:,samples])) "
   ]
  },
  {
   "cell_type": "markdown",
   "metadata": {
    "id": "QpY-Wtwn2sZv"
   },
   "source": [
    "## Coordenadas de modos normales\n",
    "\n",
    "Podemos expresar la solución en coordenadas de modos normales. Estas coordenadas sirven para representar al movimiento colectivo del sistema con una única coordenada. La transformación se realiza mediante la matriz de autovectores inversa:\n",
    "\n",
    "$$ \\tilde{\\mathbf{\\Psi}} = \\mathbf{A}^{-1} \\mathbf{\\Psi} $$\n",
    "\n",
    "Para volver a coordenadas de masas:\n",
    "\n",
    "$$ \\mathbf{\\Psi} = \\mathbf{A} \\tilde{\\mathbf{\\Psi}} $$\n",
    "\n",
    "Esta transformación aplicada a la matriz $\\mathbf{\\Omega}$ nos permite diagonalizar el sistema:\n",
    "\n",
    "$$ \\mathbf{A}^{-1} \\mathbf{\\Omega} \\mathbf{A} = \\bar{\\omega} $$\n",
    "\n",
    "Es decir, nos permite obtener una ecuación diferencial para la coordenada del modo i-ésimo ($\\tilde{\\Psi}_i$) que es independiente de las demás:\n",
    "\n",
    "$$ \\ddot {\\tilde{ \\Psi}}_i + \\omega_i^2 \\tilde{\\Psi }_i = 0 $$\n",
    "\n",
    "Notar que la matriz $\\bar{\\omega}$ es la misma que habíamos empleado antes, y que cada modo tiene la dinámica de un oscilador armónico simple con frecuencia $\\omega_i$."
   ]
  },
  {
   "cell_type": "code",
   "execution_count": null,
   "metadata": {
    "id": "0yFJj5W42sZv"
   },
   "outputs": [],
   "source": [
    "# obtenemos la matriz omega\n",
    "w_matriz_2 = np.dot(A.T, np.dot(W, A))\n",
    "\n",
    "print(w_matriz)\n",
    "print(np.sqrt(np.abs(w_matriz_2)))\n",
    "\n",
    "# Tomo valor absoluto sobre la matriz ya que por cuestiones de redondeo, algunos\n",
    "# elementos pueden ser positivos y otros negativos (cuando en realidad debe ser\n",
    "# diagonal positiva). Para futuros cálculos uso la matriz armada \"a mano\" w_matriz"
   ]
  },
  {
   "cell_type": "markdown",
   "metadata": {
    "id": "uSxuwsYZ2sZw"
   },
   "source": [
    "La solución para estas coordenadas se escribe:\n",
    "\n",
    "$$ \\tilde{\\mathbf{\\Psi}} = \\mathbf{A}^{-1}\\mathbf{\\Psi} = \\mathbf{A}^{-1} \\sum_{j=1}^N c_j \\mathbf{a_j} \\exp(i \\omega_j t) $$\n",
    "\n",
    "$$ \\dot{\\tilde{\\mathbf{\\Psi}}} =  i \\mathbf{A}^{-1} \\sum_{j=1}^N \\omega_j c_j \\mathbf{a_j} \\exp(i \\omega_j t) $$\n",
    "\n"
   ]
  },
  {
   "cell_type": "code",
   "execution_count": null,
   "metadata": {
    "id": "6nReU1pd2sZx"
   },
   "outputs": [],
   "source": [
    "# Defino arrays para la solucion de modos (en posicion y velocidad)\n",
    "# Estos arrays son matrices con tantas filas como masas, y tantas\n",
    "# columnas como instantes de tiempo sampleados\n",
    "psi_modos = np.zeros([n_masas, n_samples])        # \\_ arrays compañeros de los arrays psi y xi\n",
    "xi_modos  = np.zeros([n_masas, n_samples])        # /\n",
    "\n",
    "\n",
    "# Vamos a recorrer la solución de masas a lo largo del tiempo\n",
    "# y a convertir en la solución de modos usando la matriz A\n",
    "\n",
    "for i in range(0, n_samples):\n",
    "    psi[:,i] = np.dot(A_inv, psi[:,i])\n",
    "    xi[:,i]  = np.dot(A_inv,  xi[:,i])\n",
    "\n",
    "psi"
   ]
  },
  {
   "cell_type": "code",
   "execution_count": null,
   "metadata": {
    "id": "W0lMdvfT2sZx"
   },
   "outputs": [],
   "source": [
    "# Grafico psi_modos y xi_modos versus t para hasta 10 modos\n",
    "n = min(5, n_masas)\n",
    "fig_modos, ax_modos = plt.subplots(nrows=2,ncols=1)\n",
    "# transpongo para poder graficar las dos masas juntas\n",
    "ax_modos[0].plot(t, np.real(psi[0:n,:].T))               # posicion de ambas masas, uso slice notation\n",
    "ax_modos[1].plot(t, np.real( xi[0:n,:].T))               # velocidades de ambas masas\n"
   ]
  },
  {
   "cell_type": "markdown",
   "metadata": {
    "id": "7gu6RJD02sZy"
   },
   "source": [
    "## Energía\n",
    "\n",
    "Hacer"
   ]
  },
  {
   "cell_type": "markdown",
   "metadata": {
    "id": "Toy4Um-_2sZy"
   },
   "source": [
    "## Sistema forzado¶\n",
    "\n",
    "\n",
    "Vamos a resolver el comportamiento del sistema cuando es excitado por una fuerza externa armónica aplicada sobre una o varias de las masas. La ecuación diferencial es:\n",
    "\n",
    "$$ \\mathbf{M} \\mathbf{\\ddot \\Psi} = \\mathbf{K} \\mathbf{\\Psi} + \\mathbf{F_\\text{ext}} \\cos(\\omega_\\text{ext} t)$$\n",
    "\n",
    "\n",
    "$\\mathbf{F}_\\text{ext}$ es un vector columna constante que contiene la amplitud de la fuerza aplicada sobre la masa enésima. En principio es un vector real, cuyos elementos pueden ser positivos pero también negativos (pensar por qué). Pero también podemos permitir que sea un vector complejo, en ese caso las fases complejas representan el desfasaje en la excitación de cada masa.\n",
    "\n",
    "### Parámetros"
   ]
  },
  {
   "cell_type": "code",
   "execution_count": null,
   "metadata": {
    "id": "nOnM2g6V2sZy"
   },
   "outputs": [],
   "source": [
    "# incluyo una disipación despreciable en el sistema, para evitar\n",
    "# divisiones por cero en las amplitudes forzadas\n",
    "gamma = 1e-3 # chequear que este valor es verdaderamente despreciable para la configuración del sistema\n",
    "\n",
    "F_ext = np.array(np.zeros(n_masas), ndmin=2).T\n",
    "F_ext[0] = 1\n",
    "F_ext[1] = 0\n",
    "\n",
    "w_ext = 1.1 # uso la frecuencia del modo fundamental\n",
    "\n",
    "F_ext"
   ]
  },
  {
   "cell_type": "markdown",
   "metadata": {
    "id": "pCIZy4Q-2sZz"
   },
   "source": [
    "### Solución \n",
    "\n",
    "Despejamos la matriz de masas:\n",
    "\n",
    "$$ \\mathbf{\\ddot \\Psi} = \\mathbf{M}^{-1} \\mathbf{K} \\mathbf{\\Psi} + \\mathbf{M}^{-1} \\mathbf{F_\\text{ext}} \\cos(\\omega_\\text{ext} t)$$\n",
    "\n",
    "$$ \\mathbf{\\ddot \\Psi} = \\mathbf{\\Omega} \\mathbf{\\Psi} + \\mathbf{a_\\text{ext}} \\cos(\\omega_\\text{ext} t)$$\n",
    "\n",
    "lo que nos permite transformar el forzante en un término de aceleraciones en vez de fuerzas.\n",
    "\n",
    "Para resolver el sistema vamos a utilizar la matriz de autovectores inversa, esto nos permite transformar las coordenadas de masas en coordenadas de modos: \n",
    "\n",
    "$$ \\mathbf{A}^{-1} \\mathbf{\\ddot \\Psi} = \\mathbf{A}^{-1} \\mathbf{\\Omega} \\mathbf{\\Psi} + \\mathbf{A}^{-1} \\mathbf{a_\\text{ext}} \\cos(\\omega_\\text{ext} t)$$\n",
    "\n",
    "$$ \\mathbf{A}^{-1} \\mathbf{\\ddot \\Psi} = \\mathbf{A}^{-1} \\mathbf{\\Omega} \\mathbf{A} \\mathbf{A}^{-1} \\mathbf{\\Psi} + \\mathbf{A}^{-1} \\mathbf{a_\\text{ext}} \\cos(\\omega_\\text{ext} t)$$\n",
    "\n",
    "$$ \\ddot{\\mathbf{\\tilde{ \\Psi}} }= - \\bar{\\omega}^2 \\mathbf{\\tilde{\\Psi}} + \\mathbf{\\tilde{a}_\\text{ext}} \\cos(\\omega_\\text{ext} t)$$\n",
    "\n",
    "donde los símbolos con ~ indican vectores transformados a la base de modos normales, y donde:\n",
    "\n",
    "$$ \\bar{\\omega}^2 = \\begin{bmatrix} \\omega_1^2 & & 0 \\\\ & \\ddots & \\\\ 0 & & \\omega_N^2 \\end{bmatrix} $$"
   ]
  },
  {
   "cell_type": "markdown",
   "metadata": {
    "id": "8U4u8G_n2sZz"
   },
   "source": [
    "Al ser esta matriz diagonal, las ecuaciones diferenciales para cada modo están desacopladas. Esto significa que la solución para la coordenada de modo i-ésima está dada por la solución de un oscilador armónico simple forzado:\n",
    "\n",
    "$$ \\tilde{\\Psi}_i^\\text{part} = b_i^\\text{el}\\cos(\\omega_\\text{ext} t ) + b_i^\\text{ab}\\sin(\\omega_\\text{ext} t ) $$\n",
    "\n",
    "donde $b_i^\\text{el}$ y $b_i^\\text{ab}$ representan las amplitudes elástica y absorbente para el modo i-ésimo en función de los parámetros del sistema y de $\\omega_\\text{ext}$:\n",
    "\n",
    "$$ b_i^\\text{el} = \\tilde{a}_{\\text{ext},i} \\frac{\\omega_i^2 - \\omega_\\text{ext}^2 }{(\\omega_i^2 - \\omega_\\text{ext}^2 )^2 + (\\omega_\\text{ext} \\gamma)^2}$$\n",
    "\n",
    "$$ b_i^\\text{ab} = \\tilde{a}_{\\text{ext},i} \\frac{ \\gamma \\omega_\\text{ext} }{(\\omega_i^2 - \\omega_\\text{ext}^2 )^2 + (\\omega_\\text{ext} \\gamma)^2}$$\n",
    "\n",
    "Como estamos trabajando en el régimen en que la disipación es despreciable:\n",
    "\n",
    "$$ b_i^\\text{el} \\sim \\frac{\\tilde{a}_{\\text{ext},i} }{\\omega_i^2 - \\omega_\\text{ext}^2} = b_i$$\n",
    "\n",
    "$$ b_i^\\text{ab} \\sim 0$$"
   ]
  },
  {
   "cell_type": "markdown",
   "metadata": {
    "id": "cqLLwhDn2sZz"
   },
   "source": [
    "En notación vectorial, la solución para las coordenadas de modos es:\n",
    "\n",
    "$$ \\mathbf{\\tilde{\\Psi}_\\text{part}} = \\mathbf{b} \\cos(\\omega_\\text{ext} t ) $$\n",
    "\n",
    "la cual se puede transformar a las coordenadas de partículas usando la matriz de autovectores columna:\n",
    "\n",
    "$$ \\mathbf{\\Psi_\\text{part}} = \\mathbf{A}\\mathbf{\\tilde{\\Psi}_\\text{part}} = \\mathbf{A} \\mathbf{b} \\cos(\\omega_\\text{ext} t ) $$"
   ]
  },
  {
   "cell_type": "code",
   "execution_count": null,
   "metadata": {
    "id": "iIFcIXBZ2sZz"
   },
   "outputs": [],
   "source": [
    "# Obtengo el vector de aceleraciones producidas por la fuerza externa\n",
    "a_ext = np.dot(M_inv, F_ext)\n",
    "\n",
    "a_ext"
   ]
  },
  {
   "cell_type": "code",
   "execution_count": null,
   "metadata": {
    "id": "z9AdjGWy2sZz"
   },
   "outputs": [],
   "source": [
    "# Transformo el vector de aceleraciones a la base de modos normales\n",
    "a_ext_modos = np.dot(A_inv, a_ext)\n",
    "\n",
    "a_ext_modos"
   ]
  },
  {
   "cell_type": "code",
   "execution_count": null,
   "metadata": {
    "id": "qR_WObZC2sZ0"
   },
   "outputs": [],
   "source": [
    "# Obtengo las amplitudes para la solucion de modos normales forzados\n",
    "\n",
    "# primero armo un vector que contiene los coeficientes de frecuencias\n",
    "# y disipacion de las amplitudes forzadas\n",
    "aux = (w**2 - w_ext**2) / ((w**2 - w_ext**2)**2 + (gamma*w_ext)**2)\n",
    "\n",
    "# con ese vector armo una matriz diagonal\n",
    "aux = np.diag(aux)\n",
    "\n",
    "# aplico esa matriz a las aceleraciones externas aplicadas sobre los modos\n",
    "b_modos = np.dot(aux, a_ext_modos)\n",
    "\n",
    "b_modos"
   ]
  },
  {
   "cell_type": "code",
   "execution_count": null,
   "metadata": {
    "id": "CBGPfYkp2sZ0"
   },
   "outputs": [],
   "source": [
    "# Transformo a las amplitudes de las masas\n",
    "b_masas = np.dot(A, b_modos)\n",
    "\n",
    "b_masas"
   ]
  },
  {
   "cell_type": "code",
   "execution_count": null,
   "metadata": {
    "id": "PaG-thNd2sZ0"
   },
   "outputs": [],
   "source": [
    "# La solución estacionaria se escribe en una sola linea para la posicion y\n",
    "# otra para la velocidad\n",
    "psi_forzado =  npm.repmat(b_masas,1,n_samples)*npm.repmat(np.cos(w_ext *t), n_masas, 1)\n",
    "xi_forzado = -npm.repmat(b_masas,1,n_samples)*npm.repmat(np.sin(w_ext *t), n_masas, 1)*w_ext"
   ]
  },
  {
   "cell_type": "code",
   "execution_count": null,
   "metadata": {
    "id": "Q_PikayX2sZ0"
   },
   "outputs": [],
   "source": [
    "# Grafico psi y xi versus t para hasta 10 masas\n",
    "n = min(5, n_masas)\n",
    "fig6, ax6 = plt.subplots(nrows=2,ncols=1)\n",
    "# transpongo para poder graficar las dos masas juntas\n",
    "ax6[0].plot(t, psi_forzado[0:n,:].T)               # posicion de ambas masas, uso slice notation\n",
    "ax6[1].plot(t,  xi_forzado[0:n,:].T)               # velocidades de ambas masas"
   ]
  },
  {
   "cell_type": "code",
   "execution_count": null,
   "metadata": {
    "id": "IHW8urB42sZ1"
   },
   "outputs": [],
   "source": [
    "# Ejercicio 13: dos masas cuando se fuerza una sola de ellas\n",
    "# armado a mano\n",
    "psi_masa_1 = F_ext[0] / 2 / m *np.cos(w_ext *t) *(1/(w[0]**2 - w_ext**2) + 1/(w[1]**2 - w_ext**2))\n",
    "psi_masa_2 = F_ext[0] / 2 / m *np.cos(w_ext *t) *(1/(w[0]**2 - w_ext**2) - 1/(w[1]**2 - w_ext**2))\n",
    "\n",
    "fig7, ax7 = plt.subplots(nrows=1,ncols=1)\n",
    "ax7.plot(t, psi_masa_1)\n",
    "ax7.plot(t, psi_masa_2)\n"
   ]
  },
  {
   "cell_type": "code",
   "execution_count": null,
   "metadata": {
    "id": "fJYi-7tm2sZ1"
   },
   "outputs": [],
   "source": []
  }
 ],
 "metadata": {
  "colab": {
   "name": "sd_solucion_libre.ipynb",
   "provenance": []
  },
  "kernelspec": {
   "display_name": "Python 3",
   "language": "python",
   "name": "python3"
  },
  "language_info": {
   "codemirror_mode": {
    "name": "ipython",
    "version": 3
   },
   "file_extension": ".py",
   "mimetype": "text/x-python",
   "name": "python",
   "nbconvert_exporter": "python",
   "pygments_lexer": "ipython3",
   "version": "3.7.3"
  }
 },
 "nbformat": 4,
 "nbformat_minor": 4
}
