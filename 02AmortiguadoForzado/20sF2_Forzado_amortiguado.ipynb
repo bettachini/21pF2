{
  "nbformat": 4,
  "nbformat_minor": 0,
  "metadata": {
    "colab": {
      "name": "20sF2_Forzado amortiguado.ipynb",
      "provenance": [],
      "collapsed_sections": [],
      "include_colab_link": true
    },
    "kernelspec": {
      "name": "python3",
      "display_name": "Python 3"
    }
  },
  "cells": [
    {
      "cell_type": "markdown",
      "metadata": {
        "id": "view-in-github",
        "colab_type": "text"
      },
      "source": [
        "<a href=\"https://colab.research.google.com/github/bettachini/21pF2/blob/main/02AmortiguadoForzado/20sF2_Forzado_amortiguado.ipynb\" target=\"_parent\"><img src=\"https://colab.research.google.com/assets/colab-badge.svg\" alt=\"Open In Colab\"/></a>"
      ]
    },
    {
      "cell_type": "markdown",
      "metadata": {
        "id": "mQ1ILL4ZDziT"
      },
      "source": [
        "##Oscilaciones Forzadas\n",
        "####Notebook realizado por Paulina Knees y Milton Katz para Física 2 2do cuatrimestre 2020\n",
        "\n",
        "Vamos a ver cómo resolver el ejercicio 9 de la guía de repaso, esto nos va a ayudar a repasar el oscilador amortiguado y el forzado. Además vamos a usar algunas funciones de python para acostumbrarnos a esta nueva (para algunxs) herramienta.\n",
        "\n",
        "Tenemos un problema unidimensional de una masita $m$ engarzada a un resorte de constante elástica $k$ y longitud natural $l_0$. Podemos suponer que está inmerso en un fluido viscoso con constante $\\gamma$. El enunciado de la guía nos sugiere que utilicemos $k=m\\omega_0 ^2$ y $\\Gamma=\\gamma/m$.\n",
        "\n",
        "En física 1 solían poner el eje x con el origen en la pared.\n",
        "\n",
        "<figure>\n",
        "<center>\n",
        "<img src='https://drive.google.com/uc?id=1z-yq5AwCmI0Ox6I0zcllVYq6v6W4686J'  width=\"\" height=\"200\"/>\n",
        "</center>\n",
        "</figure>\n",
        "\n",
        "Lo primero que tenemos que hacer entonces es escribir la ecuación de Newton:\n",
        "\\begin{equation}\n",
        "m\\ddot{x}=F_{elas}+F_{visc}\n",
        "\\end{equation}\n",
        "\n",
        "Las únicas fuerzas presentes son la elástica y la viscosa, las escribimos explícitamente, recuerden que ambas son restitutivas.\n",
        "\\begin{eqnarray}\n",
        "m\\ddot{x}=-k(x-l_0)-\\gamma \\dot{x} \\\\\n",
        "\\implies \\ddot{x}=-\\omega_0^2x-\\Gamma \\dot{x}+l_0\\omega_0^2\n",
        "\\end{eqnarray}\n",
        "\n",
        "En el último paso reescribimos la ecuación de Newton con las constantes propuestas por la guía.\n",
        "\n",
        "Para hacerlo más sencillo, les propongo que este ejercicio lo encaremos con el eje en la posición en la que el resorte está relajado (posición de equilibrio). Además es lo que vamos a hacer durante toda la materia.\n",
        "\n",
        "<figure>\n",
        "<center>\n",
        "<img src='https://drive.google.com/uc?id=1Ax5bCuls6pl-jjbQrcOb7r2-3Ws9kxAB'  width=\"\" height=\"200\"/>\n",
        "</center>\n",
        "</figure>\n",
        "\n",
        "\n",
        "Considerando también la fuerza $F(t)$, pueden ver que la ecuación que queda es\n",
        "\n",
        "$$\\ddot{x} + \\Gamma \\dot{x} + \\omega_0^{2}x = \\frac{F_0}{m} \\, \\cos{\\Omega t}$$\n",
        "\n",
        "Se acuerdan cómo resolver estas ecuaciones? Al ser lineal, la solución más general es la suma de la solución de la ecuación homogénea y una solución particular de esta ecuación tal como la tenemos acá.\n",
        "\n",
        "Primero resolvamos el sistema homogeneo, cuál es? \n",
        "\n",
        "\\begin{equation}\n",
        "\\ddot{x}_h+\\omega_0^2x_h+\\Gamma \\dot{x}_h=0  \\hspace{3cm} (1)\n",
        "\\end{equation}\n",
        "\n",
        "\n",
        "Esta ecuación aparece por primera vez en la guía en el ejercicio 5 y ahí el problema nos propone una solución. \n",
        "\n",
        "La solución que nos dan es $x_h(t)=Ce^{-t/2\\tau}\\cos(\\omega_1 t+\\theta)$. Las constantes $\\omega_1$  y $\\tau$ no las conocemos. Para hallarlas, tenemos que encontrar las derivadas (primera y segunda) de $x_h$ y reemplazar en (1). Las constantes $C$ y $\\theta$ van a quedar definidas una vez que explicitemos las condiciones iniciales. Les voy a dejar hechas las derivadas, los pasos intermedios se los dejo a ustedes (es importante que los hagan). \n",
        "\n",
        "\\begin{eqnarray}\n",
        "\\dot{x}_h= -Ce^{t/2\\tau}\\left(\\frac{1}{2\\tau}\\cos(\\omega_1 t+\\theta)+\\omega_1\\sin(\\omega_1 t+\\theta) \\right ) \\hspace{2cm} (2)\\\\\n",
        "\\ddot{x}_h=Ce^{t/2\\tau}\\left[\\frac{1}{2\\tau}\\left (\\frac{\\cos(\\omega_1 t+\\theta)}{2\\tau}+\\omega_1\\sin(\\omega_1 t+\\theta) \\right )+\\frac{\\omega_1}{2\\tau}\\sin(\\omega_1 t+\\theta)-\\omega_1^2\\cos(\\omega_1 t+\\theta)\\right ]  \\hspace{2cm} (3)\n",
        "\\end{eqnarray}\n",
        "\n",
        "\n",
        "Ahora tenemos que reemplazar todo en (1). De nuevo, varios pasos intermedios les quedan a ustedes. \n",
        "\n",
        "\\begin{eqnarray}\n",
        "0=\\color{#21ABCD}C \\color{#FF007F}{e^{-t/2\\tau}} \\left[\\frac{1}{2\\tau}\\left (\\frac{\\cos(\\omega_1 t+\\theta)}{2\\tau}+\\omega_1\\sin(\\omega_1 t+\\theta) \\right )+\\frac{\\omega_1}{2\\tau}\\sin(\\omega_1 t+\\theta)-\\omega_1^2\\cos(\\omega_1 t+\\theta)\\right ]-\\Gamma \\color{#21ABCD}C \\color{#FF007F}{e^{-t/2\\tau}} \\left(\\frac{1}{2\\tau}\\cos(\\omega_1 t+\\theta)+\\omega_1\\sin(\\omega_1 t+\\theta) \\right ) +\\omega_0^2\\color{#21ABCD}C \\color{#FF007F}{e^{-t/2\\tau}} \\cos(\\omega_1 t+\\theta)\n",
        "\\end{eqnarray}\n",
        "\n",
        "\n",
        "Los términos que están en color los podemos cancelar dado que toda la ecuación está igualada a $0$. ¿*Por qué estos términos no pueden ser igual a cero*?\n",
        "\n",
        "Nos queda entonces la siguiente ecuación\n",
        "\\begin{equation}\n",
        "\\cos(\\omega_1 t+\\theta)\\left (\\frac{1}{(2\\tau)^2}-\\omega_1^2-\\frac{\\Gamma}{2\\tau}+\\omega_0^2\\right )+\\sin(\\omega_1 t+\\theta)\\left (\\frac{\\omega_1}{2\\tau}+\\frac{\\omega_1}{2\\tau}-\\Gamma \\omega_1 \\right )=0\n",
        "\\end{equation}\n",
        "\n",
        "¿Qué podemos hacer para hallar $\\tau$ y $\\omega_1$? Escribí de esa forma la ecuación por el siguiente motivo. Las funciones $\\sin$ y $\\cos$ forman base completa del espacio de funciones (ya vamos a volver con esto). Esto significa que puedo describir lo que quiera como combinación de senos y cosenos. Además, como forman una base completa y lo que tenemos está igualado a cero, la única opción que nos queda es que lo que acompaña a cada una de las funciones sea cero. Podemos hacer una analogía con las bases de vectores. En ese caso, ya sabemos que podemos escribir cualquier vector como combinación lineal de vectores que llamamos linealmente independientes. En este caso pasa lo mismo. Estamos escribiendo el resultado en base de los \"autovectores\" seno y coseno. \n",
        "\n",
        "Entonces ahora nos queda un sistema de dos ecuaciones con dos incógnitas bastante sencillo para resolver\n",
        "\\begin{matrix}\\left.\n",
        "\\begin{eqnarray}\n",
        "\\frac{1}{(2\\tau)^2}-\\omega_1^2-\\frac{\\Gamma}{2\\tau}+\\omega_0^2=0 \\\\\n",
        "\\frac{\\omega_1}{2\\tau}+\\frac{\\omega_1}{2\\tau}-\\Gamma \\omega_1=0 \n",
        "\\end{eqnarray} \\right\\} \\implies \\color{#FF2052}{\\tau=\\frac{1}{\\Gamma}}, \\color{#FF2052}{\\omega_1^2=\\omega_0^2-\\frac{\\Gamma^2}{4}}\n",
        "\\end{matrix}\n",
        "\n",
        "Ahora viene la parte más interesante. Podemos ver que $\\omega_1$ depende de dos parámetros del problema. El tipo de solución del problema va a depender de la relación entre esos parámetros. Tenemos tres casos posibles, $\\omega_1^2>0$, $\\omega_1^2< 0$ y $\\omega_1^2=0$ . Estudiemos los tres casos y grafiquemos las tres soluciones posibles. \n",
        "\n",
        "Recordamos la forma funcional de la posición de la masita como función del tiempo $x_h(t)=Ce^{-\\Gamma t/2}\\cos(\\omega_1 t+\\theta)$\n",
        "\n",
        "1) Caso subamortiguado: $\\omega_0^2>\\frac{\\Gamma^2}{4}$\n",
        "\n",
        "En este caso tenemos el producto de una exponencial que decae y una oscilación. Esperamos que hayan osilaciones en el sistema, pero cada vez más atenuadas por la exponencial hasta que decaiga completamente. Vamos a graficarlo."
      ]
    },
    {
      "cell_type": "code",
      "metadata": {
        "id": "Jaen8vxmCiBo"
      },
      "source": [
        "import numpy as np #importamos los paquetes necesarios para hacer los gráficos y escribir las funciones.\n",
        "import matplotlib.pyplot as plt\n",
        "from matplotlib import pylab, mlab, pyplot"
      ],
      "execution_count": null,
      "outputs": []
    },
    {
      "cell_type": "code",
      "metadata": {
        "id": "AKa7owoLClpU"
      },
      "source": [
        "t= np.linspace(0,20,100); #les damos valores a los parámetros\n",
        "Gamma=0.5; #viscosidad del fluido donde está inmerso el sistema.\n",
        "w0=2; #w0 depende de la masita y de la constante del resorte.\n",
        "omega1=np.sqrt(w0**2-Gamma**2/4);\n",
        "C=1; #theta y C dependen de las condiciones iniciales. Supongamos que son tales que C=1 y theta=0. \n",
        "theta=0;"
      ],
      "execution_count": null,
      "outputs": []
    },
    {
      "cell_type": "code",
      "metadata": {
        "id": "mVLdnLW7CpFg",
        "colab": {
          "base_uri": "https://localhost:8080/",
          "height": 317
        },
        "outputId": "d89c1bb3-72bb-4037-e983-33b6ffcbd5f8"
      },
      "source": [
        "sub_t=np.exp(-Gamma*t/2)*np.cos(omega1*t);\n",
        "exp_t=np.exp(-Gamma*t/2);\n",
        "plt.suptitle('Subamortiguado', fontsize=14, y=1)\n",
        "plt.xlabel('t[s]', fontsize=12)\n",
        "plt.ylabel('x(t)[m]', fontsize=12)\n",
        "plt.plot(t, sub_t)\n",
        "plt.plot(t, exp_t,'--',color = 'orange') #graficamos en línea punteada la exponencial sola.\n",
        "plt.show()\n"
      ],
      "execution_count": null,
      "outputs": [
        {
          "output_type": "display_data",
          "data": {
            "image/png": "[encoded data removed]",
            "text/plain": [
              "<Figure size 432x288 with 1 Axes>"
            ]
          },
          "metadata": {
            "tags": [],
            "needs_background": "light"
          }
        }
      ]
    },
    {
      "cell_type": "markdown",
      "metadata": {
        "id": "9Rs73oGUDpC_"
      },
      "source": [
        "Como vemos, tenemos una oscilación que con el tiempo decae a causa de la exponencial. \n",
        "\n",
        "Supongamos que estamos haciendo un experimento y podemos cambiar el fluido donde está inmerso el resorte con la masita, es decir, podemos cambiar el $\\Gamma$. Vamos a ver cómo cambia $x(t)$ a medida que nos aceramos al caso crítico. "
      ]
    },
    {
      "cell_type": "code",
      "metadata": {
        "id": "lpLSCzZODtBX",
        "colab": {
          "base_uri": "https://localhost:8080/",
          "height": 265
        },
        "outputId": "e601b29f-ecaf-483c-fbda-3bd3c1f55bc4"
      },
      "source": [
        "t1=np.linspace(0,10,100)\n",
        "Gamma1=1;\n",
        "Gamma2=2;\n",
        "Gamma3=3;\n",
        "Gamma4=4;\n",
        "omega_1=omega1=np.sqrt(w0**2-Gamma1**2/4);\n",
        "omega_2=omega1=np.sqrt(w0**2-Gamma2**2/4);\n",
        "omega_3=omega1=np.sqrt(w0**2-Gamma3**2/4);\n",
        "omega_4=omega1=np.sqrt(w0**2-Gamma4**2/4);\n",
        "sub_t1=np.exp(-Gamma1*t1/2)*np.cos(omega_1*t1);\n",
        "sub_t2=np.exp(-Gamma2*t1/2)*np.cos(omega_2*t1);\n",
        "sub_t3=np.exp(-Gamma3*t1/2)*np.cos(omega_3*t1);\n",
        "sub_t4=np.exp(-Gamma4*t1/2)*np.cos(omega_4*t1);\n",
        "fig, ax = plt.subplots()\n",
        "ax.plot(t, sub_t1, label='$\\Gamma$=1')\n",
        "ax.plot(t, sub_t2, label='$\\Gamma$=2')\n",
        "ax.plot(t, sub_t3, label='$\\Gamma$=3')\n",
        "ax.plot(t, sub_t4, label='$\\Gamma$=4')\n",
        "\n",
        "#ax.axis('equal')\n",
        "leg = ax.legend();"
      ],
      "execution_count": null,
      "outputs": [
        {
          "output_type": "display_data",
          "data": {
            "image/png": "[encoded data removed]",
            "text/plain": [
              "<Figure size 432x288 with 1 Axes>"
            ]
          },
          "metadata": {
            "tags": [],
            "needs_background": "light"
          }
        }
      ]
    },
    {
      "cell_type": "markdown",
      "metadata": {
        "id": "aQv4poDQD9bq"
      },
      "source": [
        "Vemos que a medida que $\\Gamma$ está más cerca del valor que tomamos de $\\omega_0$, el gráfico más se aproxima al de una exponencial decreciente, como lo es en el caso crítico.\n",
        "\n",
        "2) Caso crítico: $\\omega_0^2=\\frac{\\Gamma^2}{4}$\n",
        "\n",
        "Supongamos que a partir del caso anterior, cambiamos el fluido y llegamos al caso crítico. Es sencillo ver que sólo tenemos la exponencial, dado que el $\\cos(0)=1$.\n",
        "\n",
        "Se animan a graficarlo ustedes? Les dejamos el esqueleto del código para que piensen el resto ustedes. Fijense en los gráficos anteriores y hagan lo mismo"
      ]
    },
    {
      "cell_type": "code",
      "metadata": {
        "id": "rvt6cp9bEdoR",
        "colab": {
          "base_uri": "https://localhost:8080/",
          "height": 132
        },
        "outputId": "8c8f0d10-22bb-4f61-8df4-75224f1f2ec9"
      },
      "source": [
        "#Hace falta importar las librerías de nuevo?\n",
        "#Hace falta definir de nuevo t?\n",
        "\n",
        "Gamma_c=2*w0\n",
        "crit_t=#La exponencial\n",
        "#Ponele un título al gráfico\n",
        "plt.xlabel('t[s]', fontsize=12)\n",
        "plt.ylabel('x(t)[m]', fontsize=12)\n",
        "plt.plot(#Completá)\n",
        "\n",
        "plt.show()\n"
      ],
      "execution_count": null,
      "outputs": [
        {
          "output_type": "error",
          "ename": "SyntaxError",
          "evalue": "ignored",
          "traceback": [
            "\u001b[0;36m  File \u001b[0;32m\"<ipython-input-6-337673f2a9d2>\"\u001b[0;36m, line \u001b[0;32m5\u001b[0m\n\u001b[0;31m    crit_t=#La exponencial\u001b[0m\n\u001b[0m                          ^\u001b[0m\n\u001b[0;31mSyntaxError\u001b[0m\u001b[0;31m:\u001b[0m invalid syntax\n"
          ]
        }
      ]
    },
    {
      "cell_type": "markdown",
      "metadata": {
        "id": "DA2BZV49FNc5"
      },
      "source": [
        "3) Caso sobreamortiguado: $\\omega_0^2<\\frac{\\Gamma^2}{4}$\n",
        "\n",
        "Ahora nuestro problema cambia de régimen. Tenemos un problema (que no es tan problemático en realidad). Ahora $\\omega_1$ es un número complejo!! Escribimos $\\omega_1=i|\\omega_1|$. Les dejo a ustedes probar que $\\cos(ix)=\\cosh(x)$. (Probar esto es ejercicio de ustedes).\n",
        "\n",
        "Para esto recuerden que el coseno hiperbólico se puede escribir como suma de exponenciales (y el coseno?). Para convencerse pueden fijarse en el plot qué pasa si en vez de escribir $np.\\cos$, escriben $np.\\cosh$"
      ]
    },
    {
      "cell_type": "code",
      "metadata": {
        "id": "StE_bcslFvEx",
        "colab": {
          "base_uri": "https://localhost:8080/",
          "height": 317
        },
        "outputId": "a280d7e5-13de-48f9-c31b-a12fb4dc5c35"
      },
      "source": [
        "Gamma5=5\n",
        "omega1_sob=np.sqrt(Gamma5**2/4-w0**2)\n",
        "sobre_t=np.exp(-Gamma5*t/2)*np.cos(1j*omega1_sob*t);\n",
        "plt.suptitle('Sobreamortiguado', fontsize=14, y=1)\n",
        "plt.xlabel('t[s]', fontsize=12)\n",
        "plt.ylabel('x(t)[m]', fontsize=12)\n",
        "plt.plot(t, sobre_t.real, 'b')\n",
        "plt.show()"
      ],
      "execution_count": null,
      "outputs": [
        {
          "output_type": "display_data",
          "data": {
            "image/png": "[encoded data removed]",
            "text/plain": [
              "<Figure size 432x288 with 1 Axes>"
            ]
          },
          "metadata": {
            "tags": [],
            "needs_background": "light"
          }
        }
      ]
    },
    {
      "cell_type": "markdown",
      "metadata": {
        "id": "04ijp1N0I6gq"
      },
      "source": [
        "Fijense que a $t \\rightarrow \\infty$, todas las soluciones van a cero, es decir que no importa en qué caso estemos, la parte homogenea de la solución va a desaparecer con el tiempo, esto le da el nombre a esta parte de la solución de _transitorio_. Concentremonos ahora en el término que perdura en el tiempo que lo llamaremos _estacionario_ y lo obtendremos en la solución particular. Hallémosla\n",
        "\n",
        "$$\\ddot{x}_p + \\Gamma \\dot{x}_p + \\omega_0^{2}x_p = \\frac{F_0}{m} \\cos{\\Omega t}$$\n",
        "\n",
        "\n",
        "¿Cómo resolvemos esto? Haciendole caso a la guía, en este caso al ejercicio 9. El eunciado nos dice que nos da la solución para tiempos suficientemente grandes donde solo existe la parte estacionaria, exactamente lo que estamos buscando.\n",
        "\n",
        "$$x_p(t) = A \\sin{\\Omega t} + B \\cos{\\Omega t}$$\n",
        "\n",
        "Al igual que lo que hicieron antes, deriven y reemplacen en la ecuación.\n",
        "\n",
        "$$(\\omega_0^2 A - A \\Omega^2 - \\Gamma \\Omega B) \\sin{\\Omega t} + (\\omega_0^2 B + \\Gamma \\Omega A - B \\Omega^2 - \\frac{F_0}{m}) \\cos{\\Omega t} = 0$$\n",
        "\n",
        "Al igual que antes agrupo las cosas para que me queden dos factores que tienen que ser 0 independientemente.\n",
        "\n",
        "$$(\\omega_0^2 - \\Omega^2) A - \\Gamma \\Omega B = 0$$\n",
        "$$\\Gamma \\Omega A + (\\omega_0^2 - \\Omega^2) B - \\frac{F_0}{m} = 0$$\n",
        "\n",
        "Al igual que en la parte anterior nos queda un sistema de 2x2 que podemos resolver.\n",
        "\n",
        "$$A = \\frac{F_0}{m} \\, \\frac{\\Gamma \\Omega}{\\Gamma^2 \\Omega^2 + (\\omega_0^2-\\Omega^2)^2}$$\n",
        "\n",
        "$$B = \\frac{F_0}{m} \\, \\frac{(\\omega_0^2-\\Omega^2)}{\\Gamma^2\\Omega^2 + (\\omega_0^2-\\Omega^2)^2}$$\n",
        "\n",
        "Lo primero que llama la atención de estas ecuaciones es la resonancia cuando $\\Omega = \\omega_0$, veamos los gráficos.\n"
      ]
    },
    {
      "cell_type": "code",
      "metadata": {
        "id": "0ClKUrvmasfl",
        "colab": {
          "base_uri": "https://localhost:8080/",
          "height": 281
        },
        "outputId": "a43a95dd-a0d1-4060-c2f4-4b5725d383ef"
      },
      "source": [
        "m=1\n",
        "F = 1\n",
        "omega0 = 2\n",
        "gamma = 0.5\n",
        "\n",
        "omega = np.linspace(0,10,1000)\n",
        "\n",
        "A = (F/m)*gamma*omega/(gamma**2 * omega**2 + (omega0**2 - omega**2)**2)\n",
        "B = (F/m)*(omega0**2 - omega**2)/(gamma**2 * omega**2 + (omega0**2 - omega**2)**2)\n",
        "\n",
        "plt.figure()\n",
        "plt.plot(omega,A, label = 'A')\n",
        "plt.plot(omega,B, label = 'B')\n",
        "plt.plot([omega0]*2,[1.1*min(B),1.1*max(A)],'--',color = 'green') #Ploteo una linea punteada en omega0 para ver la resonancia, hablemos de esta sintaxis, acuerdense que sumar dos listas devuelve una nueva lista con la unión de las dos. Entonces multiplicar es como sumarla con sí misma, hubiese sido lo mismo escribir [omega0,omega0] pero quería mostrarles esto que suele ser útil cuando queremos una lista de algún elemento repetida muchas veces\n",
        "plt.text(2.5,1,'$\\omega_0$',color = 'green') #Estás son cosas que agrego para mostrarles que se pueden ir haciendo gráficos cada vez más lindos y para que sepan que estas herramientas existen. Si les confunde, no les den bola\n",
        "plt.grid(True,which = 'major') #Idem lo de arriba\n",
        "plt.xlabel('$\\Omega$')\n",
        "plt.legend(); #este ; del final lo pongo para que no aparezca un mensaje feo abajo, prueben sacarlo para ver qué pasa"
      ],
      "execution_count": null,
      "outputs": [
        {
          "output_type": "display_data",
          "data": {
            "image/png": "[encoded data removed]",
            "text/plain": [
              "<Figure size 432x288 with 1 Axes>"
            ]
          },
          "metadata": {
            "tags": [],
            "needs_background": "light"
          }
        }
      ]
    },
    {
      "cell_type": "markdown",
      "metadata": {
        "id": "J_bZ3IcP1zjU"
      },
      "source": [
        "Pero qué es esto? una amplitud es negativa? Se hace 0 en $\\omega_0$? Pero a mí me dijeron que la resonancia es cuando la amplitud crece y se rompe todo! Bueno, no, eso está pasando con A, pero no con B, es por esto que A que, en la resonancia, absorbe toda la potencia que le damos, se llama amplitud absorbente. Por otro lado, a B se le llama amplitud elástica (o dispersiva) y se la asocia con absorción de potencia instantánea pero la potencia absorbida da cero si se la promedia en un ciclo completo (como en un resorte que absorbe y devuelve).\n",
        "\n",
        "Otra cosa que podemos ver en el gráfico es que la resonancia no está exactamente en $\\omega_0$, la amortiguación $\\Gamma$ desplaza un poco el punto de máxima intensidad (prueben buscar el $\\Omega$ que maximiza la amplitud $A$). Acá la parte analítica se las dejo a ustedes, yo les muestro lo que pasa en el gráfico cuando de a poco cambio gamma, vean que el pico se va desplazando"
      ]
    },
    {
      "cell_type": "code",
      "metadata": {
        "id": "O_nR-x8p2p7Y"
      },
      "source": [
        "gamVar = np.linspace(0.6,3.9,10)\n",
        "\n",
        "\n",
        "\n",
        "for i in range(10):\n",
        "  Avar = (F/m)*gamVar[i]*omega/(gamVar[i]**2 * omega**2 + (omega0**2 - omega**2)**2)\n",
        "  plt.figure(0)\n",
        "  plt.plot(omega,Avar, label = f'Gamma = {gamVar[i]:.2}') #Se dan cuenta cómo formaté el texto?\n",
        "  plt.plot([omega0]*2,[1.1*min(B),1.1*max(A)],'--',color = 'green') \n",
        "  plt.text(2.02,1,'$\\omega_0$',color = 'green') \n",
        "  plt.grid(True,which = 'major')\n",
        "  plt.xlabel('$\\Omega$')\n",
        "  plt.xlim([0,4]) \n",
        "\n",
        "plt.legend(loc = [1,0.3]);\n"
      ],
      "execution_count": null,
      "outputs": []
    },
    {
      "cell_type": "markdown",
      "metadata": {
        "id": "myM_a-kisnYY"
      },
      "source": [
        "Podemos ver lo mismo pero animado, esto también lo hice con un código de python pero en otras IDEs, se trata solamente de agregar dos lineas dentro de ese for pero Colab no me lo reproducía como yo quería. Por eso, lo hice en otra IDE y lo subo como gif. Más adelante prometo subir un notebook contando cómo se hace.\n",
        "\n",
        "\n",
        "<figure>\n",
        "<center>\n",
        "<img src='https://drive.google.com/uc?id=1uSNQ68i5pCT3zTfq_MyTf1LnJaPwI6Rx'  width=\"\" height=\"200\"/>\n",
        "\n",
        "</center>\n",
        "</figure>"
      ]
    },
    {
      "cell_type": "markdown",
      "metadata": {
        "id": "ukMM8-k8gEhS"
      },
      "source": [
        "Volvamos a la potencia pero pongamosle números. la potencia instantánea está dada por $P(t) = F(t) \\dot{x}_p$. Pero lo que más nos va a interesar es el promedio temporal de $P$ durante un período esto lo escribimos como $<P>$\n",
        "\n",
        "\n",
        "$$<P> = \\frac{1}{T}\\int_0^T{P(t)} dt$$\n",
        "\n",
        "\n",
        "$$<P> = \\frac{1}{T}\\int_0^T{F(t)\\dot{x}_p(t)} dt$$\n",
        "\n",
        "Donde $T = \\frac{2\\pi}{\\Omega}$ es el período de nuestra onda. Para poder seguir les cuento que hay unas integrales que las vamos a usar durante toda la materia. Yo les cuento cuanto dan pero ustedes tienen la tarea de hacer las cuentas y entenderlas, son cuentas en una variable que no les deberían generar problemas pero como siempre si hay dudas consulten.\n",
        "\n",
        "$$\\int_0^T{\\sin{\\left(\\frac{2\\pi}{T} t\\right)} \\, dt} = 0$$\n",
        "$$\\int_0^T{\\cos{\\left(\\frac{2\\pi}{T} t\\right)} \\, dt} = 0$$\n",
        "$$\\int_0^T{\\sin^2{\\left(\\frac{2\\pi}{T} t\\right)} \\, dt} = \\frac{T}{2}$$\n",
        "$$\\int_0^T{\\cos^2{\\left(\\frac{2\\pi}{T} t\\right)} \\, dt} = \\frac{T}{2}$$\n",
        "$$\\int_0^T{\\sin{\\left(\\frac{2\\pi}{T} t\\right)} \\cos{\\left(\\frac{2\\pi}{T} t\\right)} \\, dt} = 0$$\n",
        "\n",
        "Volvamos a lo que estabamos haciendo.\n",
        "\n",
        "$$P(t) = F_0 \\cos{\\Omega t}(A \\Omega \\cos{\\Omega t} - B \\Omega \\sin{\\Omega t})$$\n",
        "\n",
        "Así que cuando integremos y dividamos por $T$, usando las integrales que ahora ya conocemos, vamos a obtener\n",
        "\n",
        "$$<P(t)> = \\frac{F_0 A \\Omega}{2}$$\n",
        "\n",
        "Esta es la potencia que le estamos trasmitiendo a la masa, pero también hay una parte de la potencia que se disipa por fricción. Cuánta potencia? Para calcularlo podemos hacer la misma integral de $P(t)$ en el tiempo pero en lugar de usar la potencia que usamos antes calculada con la fuerza aplicada a la masa, podemos usar la fuerza de fricción $F_r(t) = m \\Gamma \\dot{x}_p$. Entonces la Potencia disipada queda\n",
        "\n",
        "$$<P_{fr}(t)> = \\frac{1}{T}\\int_0^T{m \\Gamma \\dot{x}^2_p} \\, dt$$\n",
        "\n",
        "Igual que antes, integramos, dividimos por $T$ y obtenemos $<P_{fr}(t)> = \\frac{1}{2}m \\Gamma \\Omega^2 (A^2 + B^2)$. \n",
        "\n",
        "La guía nos dice que verifiquemos la igualdad de estas dos ecuaciones pero antes pensemos ¿por qué deberían ser iguales? En el régimen estacionario estamos haciendo una fuerza sobre la masa (realizando trabajo) y el movimiento es siempre el mismo. Si se disipara más de lo que se trasmite, la masa debería oscilar cada vez menos, si se trasmitiera más de lo que se disipa, la masa debería oscilar cada vez con más energía. Veamos qué nos dice Python."
      ]
    },
    {
      "cell_type": "code",
      "metadata": {
        "id": "ImPDGyDHdQnZ"
      },
      "source": [
        "P = F*A*omega/2\n",
        "Pfr = 0.5*m*gamma*omega**2*(A**2+B**2)\n",
        "\n",
        "plt.plot(omega,P, '--',label = 'Potencia transmitida')\n",
        "plt.plot(omega,Pfr,'-.', label = 'Potencia disipada')\n",
        "plt.plot(omega, P - Pfr, label = 'Diferencia entre potencias')\n",
        "plt.grid() \n",
        "plt.xlabel('$\\Omega$')\n",
        "plt.ylabel('Potencia')\n",
        "plt.legend(); #este ; del final lo pongo para que no aparezca un mensaje feo abajo, prueben sacarlo para ver qué pasa"
      ],
      "execution_count": null,
      "outputs": []
    },
    {
      "cell_type": "markdown",
      "metadata": {
        "id": "uwtiU7G9e4vt"
      },
      "source": [
        "Lo logramos! Fijense que la curva azul quedó abajo de la naranja, eso se ve en la verde que es constantemente 0. Justo lo que esperabamos.\n",
        "\n",
        "Seguramente ya les habrán contado muchas cosas y mostrado muchos videos de cosas que se rompen por resonancia, sino les dejo algunos videitos del [puente de Tacoma](https://www.youtube.com/watch?v=3mclp9QmCGs) y [de un helicoptero que se rompe](https://www.youtube.com/watch?v=0GEj69NANc8). La resonancia es un tema que va a aparecer un montón en la carrera y la idea es tan simple como la que acaban de ver (aunque las cuentas no tanto). Se les ocurre porqué estas cosas se rompen? Piensenlo y nos lo cuentan por el campus.\n"
      ]
    }
  ]
}