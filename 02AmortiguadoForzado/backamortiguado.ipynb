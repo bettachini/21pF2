{
 "cells": [
  {
   "cell_type": "markdown",
   "metadata": {},
   "source": [
    "# Oscilador armónico amortiguado"
   ]
  },
  {
   "cell_type": "markdown",
   "metadata": {},
   "source": [
    "![Departamento de Física, Facultad de Ciencias Exactas y Naturales, Universidad de Buenos Aires](figuras/logoDF.png \"DF, FCEyN, UBA\")  \n",
    "©2021 [Víctor A. Bettachini](mailto:bettachini@df.uba.ar)  \n",
    "\n",
    "----"
   ]
  },
  {
   "cell_type": "markdown",
   "metadata": {},
   "source": [
    "## Amortiguación proporcional a la velocidad\n",
    "<!--\n",
    "![](figuras/shabana1996_fig5_6.png)  \n",
    "-->\n",
    "![](figuras/shabana_fig_1_11.png)  \n",
    "La dinámica del sistema de la figura estará determinada por  \n",
    "- m : masa\n",
    "- k : rigidez (_stiffness_) de un resorte que proveé una fuerza elástica según el modelo de Hooke, $\\vec{F}_\\mathrm{elástica} = - k x \\hat{x}$\n",
    "- c : coeficiente de la fuerza de amortiguación modelizada lineal con la velocidad, provista por un amortiguador en cuyo interior un pistón está sumergido en un fluido viscoso como el aceite, $\\vec{F}_\\mathrm{amortiguación} = - c \\dot{x} \\hat{x}$\n",
    "- F(t) : un fuerza externa arbitaria en el tiempo que eventualmente lo saque del equilibrio. "
   ]
  },
  {
   "cell_type": "code",
   "execution_count": 1,
   "metadata": {},
   "outputs": [],
   "source": [
    "import sympy as sym # biblioteca de cálculo simbólico\n",
    "import sympy.physics.mechanics as mech # funciones para mecánica\n",
    "mech.init_vprinting() # notación con puntos para derivadas temporales"
   ]
  },
  {
   "cell_type": "code",
   "execution_count": 27,
   "metadata": {},
   "outputs": [],
   "source": [
    "t = sym.symbols('t') # tiempo\n",
    "m, k, c = sym.symbols('m, k, c', positive = True) # características del sistema, magnitudes positivas\n",
    "x, F = mech.dynamicsymbols('x, F') # coordenada y fuerza externa"
   ]
  },
  {
   "cell_type": "code",
   "execution_count": 3,
   "metadata": {},
   "outputs": [
    {
     "data": {
      "image/png": "[encoded data removed]",
      "text/latex": [
       "$\\displaystyle V = \\frac{k x^{2}}{2}$"
      ],
      "text/plain": [
       "       2\n",
       "    k⋅x \n",
       "V = ────\n",
       "     2  "
      ]
     },
     "execution_count": 3,
     "metadata": {},
     "output_type": "execute_result"
    }
   ],
   "source": [
    "unMedio = sym.Rational(1,2) # Rational: fracción de enteros, alternativamente podría haberse usado 0.5 \n",
    "V = sym.Eq( sym.Symbol('V'), unMedio* k* x**2) # Energía potencial\n",
    "V"
   ]
  },
  {
   "cell_type": "markdown",
   "metadata": {},
   "source": [
    "En los sistemas que vimos siempre las fuerzas se obtenian de potenciales, es decir son conservativas, y en ese caso la 2.a ley de Newton sería"
   ]
  },
  {
   "cell_type": "code",
   "execution_count": 28,
   "metadata": {},
   "outputs": [
    {
     "data": {
      "image/png": "[encoded data removed]",
      "text/latex": [
       "$\\displaystyle m \\ddot{x} = - k x$"
      ],
      "text/plain": [
       "m⋅ẍ = -k⋅x"
      ]
     },
     "execution_count": 28,
     "metadata": {},
     "output_type": "execute_result"
    }
   ],
   "source": [
    "segundaLey_conservativas = sym.Eq( m* x.diff(t,2), -V.rhs.diff(x) ) # diff: deriva, rhs: lado derecho de ecuación\n",
    "segundaLey_conservativas"
   ]
  },
  {
   "cell_type": "markdown",
   "metadata": {},
   "source": [
    "Pero en este caso no se pude soslayar que hay fuerzas no conservativas actuando sobre el sistema.  \n",
    "![](figuras/shabana_fig_1_11b.png)"
   ]
  },
  {
   "cell_type": "code",
   "execution_count": 5,
   "metadata": {},
   "outputs": [
    {
     "data": {
      "image/png": "[encoded data removed]",
      "text/latex": [
       "$\\displaystyle F_{nc} = - c \\dot{x} + F$"
      ],
      "text/plain": [
       "F_{nc} = -c⋅ẋ + F"
      ]
     },
     "execution_count": 5,
     "metadata": {},
     "output_type": "execute_result"
    }
   ],
   "source": [
    "f_NoConservativas = sym.Eq(sym.Symbol('F_{nc}'), F - c* x.diff(t) )\n",
    "f_NoConservativas"
   ]
  },
  {
   "cell_type": "markdown",
   "metadata": {},
   "source": [
    "No debemos olvidar estas fuerzas en el lado derecho de la 2.a ley."
   ]
  },
  {
   "cell_type": "code",
   "execution_count": 6,
   "metadata": {},
   "outputs": [
    {
     "data": {
      "image/png": "[encoded data removed]",
      "text/latex": [
       "$\\displaystyle m \\ddot{x} = - c \\dot{x} - k x + F$"
      ],
      "text/plain": [
       "m⋅ẍ = -c⋅ẋ - k⋅x + F"
      ]
     },
     "execution_count": 6,
     "metadata": {},
     "output_type": "execute_result"
    }
   ],
   "source": [
    "segundaLey = sym.Eq( m* x.diff(t,2), -V.rhs.diff(x)+ f_NoConservativas.rhs )\n",
    "segundaLey"
   ]
  },
  {
   "cell_type": "markdown",
   "metadata": {},
   "source": [
    "## Dinámica\n",
    "Esta ecuación diferencial lineal de segundo orden no es homogénea a causa de $F(t)$."
   ]
  },
  {
   "cell_type": "code",
   "execution_count": 7,
   "metadata": {},
   "outputs": [
    {
     "data": {
      "image/png": "[encoded data removed]",
      "text/latex": [
       "$\\displaystyle c \\dot{x} + k x + m \\ddot{x} = F$"
      ],
      "text/plain": [
       "c⋅ẋ + k⋅x + m⋅ẍ = F"
      ]
     },
     "execution_count": 7,
     "metadata": {},
     "output_type": "execute_result"
    }
   ],
   "source": [
    "x_Dinámica_noHomogénea = sym.solve(segundaLey, F)[0] \n",
    "sym.Eq( x_Dinámica_noHomogénea, F) "
   ]
  },
  {
   "cell_type": "markdown",
   "metadata": {},
   "source": [
    "Analizaremos primero la solución para el caso homogéneo, esto es si $F = 0$."
   ]
  },
  {
   "cell_type": "code",
   "execution_count": 8,
   "metadata": {},
   "outputs": [
    {
     "data": {
      "image/png": "[encoded data removed]",
      "text/latex": [
       "$\\displaystyle c \\dot{x} + k x + m \\ddot{x} = 0$"
      ],
      "text/plain": [
       "c⋅ẋ + k⋅x + m⋅ẍ = 0"
      ]
     },
     "execution_count": 8,
     "metadata": {},
     "output_type": "execute_result"
    }
   ],
   "source": [
    "x_Dinámica_Homogénea =  x_Dinámica_noHomogénea.subs(F,0)\n",
    "sym.Eq(x_Dinámica_Homogénea, 0)"
   ]
  },
  {
   "cell_type": "markdown",
   "metadata": {},
   "source": [
    "Esta ecuación se suele normalizar por la masa"
   ]
  },
  {
   "cell_type": "code",
   "execution_count": 9,
   "metadata": {},
   "outputs": [
    {
     "data": {
      "image/png": "[encoded data removed]",
      "text/latex": [
       "$\\displaystyle \\frac{c \\dot{x}}{m} + \\frac{k x}{m} + \\ddot{x} = 0$"
      ],
      "text/plain": [
       "c⋅ẋ   k⋅x        \n",
       "─── + ─── + ẍ = 0\n",
       " m     m         "
      ]
     },
     "execution_count": 9,
     "metadata": {},
     "output_type": "execute_result"
    }
   ],
   "source": [
    "x_Dinámica_masa = (x_Dinámica_Homogénea/ m).expand()\n",
    "sym.Eq(x_Dinámica_masa, 0)"
   ]
  },
  {
   "cell_type": "markdown",
   "metadata": {},
   "source": [
    "y asignarle símbolos particulares a los coeficientes de $x$ y $\\dot{x}$:\n",
    "- $\\omega^2 = \\frac{k}{m}$, siendo $\\omega$ la frecuencia natural de oscilación del sistema \n",
    "- $\\Gamma = \\frac{c}{m}$. En algunos textos de física $\\gamma$. En ingeniería se usa $\\zeta = \\frac{c}{m} \\frac{1}{2 \\omega}$."
   ]
  },
  {
   "cell_type": "code",
   "execution_count": 10,
   "metadata": {},
   "outputs": [
    {
     "data": {
      "image/png": "[encoded data removed]",
      "text/latex": [
       "$\\displaystyle \\Gamma \\dot{x} + \\omega^{2} x + \\ddot{x} = 0$"
      ],
      "text/plain": [
       "       2          \n",
       "Γ⋅ẋ + ω ⋅x + ẍ = 0"
      ]
     },
     "execution_count": 10,
     "metadata": {},
     "output_type": "execute_result"
    }
   ],
   "source": [
    "omega, Gamma = sym.symbols('omega Gamma', real = True)\n",
    "# omega = sym.symbols('omega', real = True)\n",
    "# Gamma = sym.symbols('Gamma', positive = True)\n",
    "x_Dinámica_masa = x_Dinámica_masa.subs([(k/m, omega**2), (c/m, Gamma) ]).simplify()\n",
    "sym.Eq(x_Dinámica_masa, 0)"
   ]
  },
  {
   "cell_type": "markdown",
   "metadata": {},
   "source": [
    "Ya vimos como proponiendo una solución con exponenciales complejas se puede resolver esta ecuación."
   ]
  },
  {
   "cell_type": "code",
   "execution_count": 11,
   "metadata": {},
   "outputs": [
    {
     "data": {
      "image/png": "[encoded data removed]",
      "text/latex": [
       "$\\displaystyle x = C_{1} e^{\\frac{t \\left(- \\Gamma - \\sqrt{\\Gamma^{2} - 4 \\omega^{2}}\\right)}{2}} + C_{2} e^{\\frac{t \\left(- \\Gamma + \\sqrt{\\Gamma^{2} - 4 \\omega^{2}}\\right)}{2}}$"
      ],
      "text/plain": [
       "          ⎛        ___________⎞         ⎛        ___________⎞\n",
       "          ⎜       ╱  2      2 ⎟         ⎜       ╱  2      2 ⎟\n",
       "        t⋅⎝-Γ - ╲╱  Γ  - 4⋅ω  ⎠       t⋅⎝-Γ + ╲╱  Γ  - 4⋅ω  ⎠\n",
       "        ───────────────────────       ───────────────────────\n",
       "                   2                             2           \n",
       "x = C₁⋅ℯ                        + C₂⋅ℯ                       "
      ]
     },
     "execution_count": 11,
     "metadata": {},
     "output_type": "execute_result"
    }
   ],
   "source": [
    "x_Dinámica_sol = sym.dsolve(x_Dinámica_masa) # dsolve: resuelve ecuaciones diferenciales\n",
    "x_Dinámica_sol"
   ]
  },
  {
   "cell_type": "markdown",
   "metadata": {},
   "source": [
    "Esta es una combinación lineal de las dos posible soluciones, pesadas por los coeficientes $C_i$."
   ]
  },
  {
   "cell_type": "markdown",
   "metadata": {},
   "source": [
    "## Analizando la dinámica"
   ]
  },
  {
   "cell_type": "markdown",
   "metadata": {},
   "source": [
    "Lo primero que salta a la vista es que hay un factor común\n",
    "$$\n",
    "\\operatorname{e}^{- \\frac{\\Gamma}{2} t},\n",
    "$$\n",
    "que paulatinamente irá reduciendo la amplitud de $x(t)$ y para $t \\to \\infty$ ``matará'' la dinámica.\n",
    "Que tán rápido sucede esto se cuantifica con un **período de relajación** $\\tau = 2 \\Gamma^{-1}$ en que la amplitud decae en $\\operatorname{e}^{-1}$.\n",
    "A los fines experimentales se considera que trancurrido $\\sim 10 \\tau$ la oscilación se considera extinta."
   ]
  },
  {
   "cell_type": "markdown",
   "metadata": {},
   "source": [
    "Luego se hace evidente que la relación del amortiguamiento $\\Gamma$ y la frecuencia de oscilación $\\omega$ determina la dinámica. Si\n",
    "- $\\Gamma^2 = 4 \\omega^2$, solo queda el factor común visto,\n",
    "- $\\Gamma^2 < 4 \\omega^2$ la raiz da un complejo dándonos oscilaciones,\n",
    "- $\\Gamma^2 > 4 \\omega^2$ el amortiguamiento no da tiempo a que el sistema oscile."
   ]
  },
  {
   "cell_type": "markdown",
   "metadata": {},
   "source": [
    "### Críticamente amortiguado\n",
    "Si $\\Gamma = 2 \\omega$ se logra el comportamiento más sencillo"
   ]
  },
  {
   "cell_type": "code",
   "execution_count": 12,
   "metadata": {},
   "outputs": [
    {
     "data": {
      "image/png": "[encoded data removed]",
      "text/latex": [
       "$\\displaystyle x = \\left(C_{1} + C_{2}\\right) e^{- \\omega t}$"
      ],
      "text/plain": [
       "               -ω⋅t\n",
       "x = (C₁ + C₂)⋅ℯ    "
      ]
     },
     "execution_count": 12,
     "metadata": {},
     "output_type": "execute_result"
    }
   ],
   "source": [
    "x_crit = x_Dinámica_sol.subs(Gamma, 2* omega).simplify()\n",
    "x_crit"
   ]
  },
  {
   "cell_type": "markdown",
   "metadata": {},
   "source": [
    "que se trata de un acercamiento exponencial a la posición de equilibrio. "
   ]
  },
  {
   "cell_type": "markdown",
   "metadata": {},
   "source": [
    "Para visualizar estos comportamientos pueden determinarse los $C_i$ en función de los $x$ y $\\dot{x}$ conocidos en un determinado $t$, las llamadas condiciones iniciales.\n",
    "\n",
    "Si para $t_0 = 0$ conocemos $x_0 = x(t_0)$ y $\\dot{x}_0 = \\dot{x}(t_0)$"
   ]
  },
  {
   "cell_type": "code",
   "execution_count": 13,
   "metadata": {},
   "outputs": [
    {
     "data": {
      "image/png": "[encoded data removed]",
      "text/latex": [
       "$\\displaystyle \\left[ x_{0} = C_{1} + C_{2}, \\  \\dot{x}_0 = - \\omega \\left(C_{1} + C_{2}\\right)\\right]$"
      ],
      "text/plain": [
       "[x₀ = C₁ + C₂, \\dot{x}₀ = -ω⋅(C₁ + C₂)]"
      ]
     },
     "execution_count": 13,
     "metadata": {},
     "output_type": "execute_result"
    }
   ],
   "source": [
    "x_0, dx_0 = sym.symbols('x_0 \\dot{x}_0', real=True)\n",
    "crit_condInic = [sym.Eq(x_0, x_crit.args[1].subs(t, 0) ), sym.Eq(dx_0, x_crit.args[1].diff(t).subs(t, 0) ) ]\n",
    "crit_condInic"
   ]
  },
  {
   "cell_type": "markdown",
   "metadata": {},
   "source": [
    "de las que pueden despejarse los $C_i$ "
   ]
  },
  {
   "cell_type": "code",
   "execution_count": 14,
   "metadata": {},
   "outputs": [
    {
     "data": {
      "image/png": "[encoded data removed]",
      "text/latex": [
       "$\\displaystyle \\left[ \\left\\{ C_{1} : - C_{2} + x_{0}, \\  \\dot{x}_0 : - \\omega x_{0}\\right\\}\\right]$"
      ],
      "text/plain": [
       "[{C₁: -C₂ + x₀, \\dot{x}₀: -ω⋅x₀}]"
      ]
     },
     "execution_count": 14,
     "metadata": {},
     "output_type": "execute_result"
    }
   ],
   "source": [
    "crit_condInic_sol = sym.solve(crit_condInic)\n",
    "crit_condInic_sol"
   ]
  },
  {
   "cell_type": "code",
   "execution_count": 15,
   "metadata": {},
   "outputs": [
    {
     "data": {
      "image/png": "[encoded data removed]",
      "text/latex": [
       "$\\displaystyle x = x_{0} e^{- \\omega t}$"
      ],
      "text/plain": [
       "        -ω⋅t\n",
       "x = x₀⋅ℯ    "
      ]
     },
     "execution_count": 15,
     "metadata": {},
     "output_type": "execute_result"
    }
   ],
   "source": [
    "x_crit_condInic = x_crit.subs(crit_condInic_sol[0] )\n",
    "x_crit_condInic.simplify()"
   ]
  },
  {
   "cell_type": "markdown",
   "metadata": {},
   "source": [
    "Si por ejemplo asignamos"
   ]
  },
  {
   "cell_type": "code",
   "execution_count": 16,
   "metadata": {},
   "outputs": [
    {
     "data": {
      "image/png": "[encoded data removed]",
      "text/latex": [
       "$\\displaystyle x = e^{- 10.0 t}$"
      ],
      "text/plain": [
       "     -10.0⋅t\n",
       "x = ℯ       "
      ]
     },
     "execution_count": 16,
     "metadata": {},
     "output_type": "execute_result"
    }
   ],
   "source": [
    "k = 100 # [N m-1]\n",
    "m = 1 # [kg]\n",
    "x_0_magnitud = 1 # [m]\n",
    "dx_0_magnitud = -100 # [m s-1]\n",
    "\n",
    "parametros ={\n",
    "    x_0 : x_0_magnitud,\n",
    "    dx_0 : dx_0_magnitud,\n",
    "    omega : sym.sqrt(k/m)\n",
    "}\n",
    "x_crit_parametros = x_crit_condInic.subs(parametros)\n",
    "x_crit_parametros"
   ]
  },
  {
   "cell_type": "code",
   "execution_count": 17,
   "metadata": {},
   "outputs": [
    {
     "data": {
      "image/png": "[encoded data removed]",
      "text/plain": [
       "<Figure size 432x288 with 1 Axes>"
      ]
     },
     "metadata": {
      "needs_background": "light"
     },
     "output_type": "display_data"
    },
    {
     "data": {
      "text/plain": [
       "<sympy.plotting.plot.Plot at 0x7f442c330a20>"
      ]
     },
     "execution_count": 17,
     "metadata": {},
     "output_type": "execute_result"
    }
   ],
   "source": [
    "sym.plot(x_crit_parametros.rhs, (t,0, 5), ylabel='x [m]', xlabel='t [s]') "
   ]
  },
  {
   "cell_type": "markdown",
   "metadata": {},
   "source": [
    "### Sobreamortiguado\n",
    "Si $\\Gamma > 2 \\omega $ el amortiguamiento es aún más pronunciado, e.g. $\\Gamma = 4 \\omega$"
   ]
  },
  {
   "cell_type": "code",
   "execution_count": 26,
   "metadata": {},
   "outputs": [
    {
     "data": {
      "image/png": "[encoded data removed]",
      "text/latex": [
       "$\\displaystyle x = \\left(C_{1} e^{- \\sqrt{3} t \\left|{\\omega}\\right|} + C_{2} e^{\\sqrt{3} t \\left|{\\omega}\\right|}\\right) e^{- 2 \\omega t}$"
      ],
      "text/plain": [
       "    ⎛    -√3⋅t⋅│ω│       √3⋅t⋅│ω│⎞  -2⋅ω⋅t\n",
       "x = ⎝C₁⋅ℯ          + C₂⋅ℯ        ⎠⋅ℯ      "
      ]
     },
     "execution_count": 26,
     "metadata": {},
     "output_type": "execute_result"
    }
   ],
   "source": [
    "x_sobre = x_Dinámica_sol.subs(Gamma, 4* omega).simplify()\n",
    "x_sobre"
   ]
  },
  {
   "cell_type": "markdown",
   "metadata": {},
   "source": [
    "también habrá un acercamiento exponencial a $x=0$, pero puede haber violentas oscilaciones antes de alcanzar el punto de equilibrio."
   ]
  },
  {
   "cell_type": "code",
   "execution_count": 19,
   "metadata": {},
   "outputs": [
    {
     "data": {
      "image/png": "[encoded data removed]",
      "text/latex": [
       "$\\displaystyle \\left[ x_{0} = C_{1} + C_{2}, \\  \\dot{x}_0 = - \\sqrt{3} C_{1} \\left|{\\omega}\\right| + \\sqrt{3} C_{2} \\left|{\\omega}\\right| - 2 \\omega \\left(C_{1} + C_{2}\\right)\\right]$"
      ],
      "text/plain": [
       "[x₀ = C₁ + C₂, \\dot{x}₀ = -√3⋅C₁⋅│ω│ + √3⋅C₂⋅│ω│ - 2⋅ω⋅(C₁ + C₂)]"
      ]
     },
     "execution_count": 19,
     "metadata": {},
     "output_type": "execute_result"
    }
   ],
   "source": [
    "sobre_condInic = [sym.Eq(x_0, x_sobre.args[1].subs(t, 0) ), sym.Eq(dx_0, x_sobre.args[1].diff(t).subs(t, 0) ) ]\n",
    "sobre_condInic_sol = sym.solve(sobre_condInic)\n",
    "sobre_condInic"
   ]
  },
  {
   "cell_type": "code",
   "execution_count": 20,
   "metadata": {},
   "outputs": [
    {
     "data": {
      "image/png": "[encoded data removed]",
      "text/latex": [
       "$\\displaystyle x = \\left(C_{1} + C_{2} e^{2 \\sqrt{3} t \\left|{\\omega}\\right|}\\right) e^{- t \\left(2 \\omega + \\sqrt{3} \\left|{\\omega}\\right|\\right)}$"
      ],
      "text/plain": [
       "    ⎛         2⋅√3⋅t⋅│ω│⎞  -t⋅(2⋅ω + √3⋅│ω│)\n",
       "x = ⎝C₁ + C₂⋅ℯ          ⎠⋅ℯ                 "
      ]
     },
     "execution_count": 20,
     "metadata": {},
     "output_type": "execute_result"
    }
   ],
   "source": [
    "# x_sobre_condInic = x_sobre.subs(sobre_condInic_sol[0] )\n",
    "x_sobre_condInic = x_sobre.subs(sobre_condInic_sol )\n",
    "x_sobre_condInic.simplify()"
   ]
  },
  {
   "cell_type": "markdown",
   "metadata": {},
   "source": [
    "Con las mismas condiciones iniciales"
   ]
  },
  {
   "cell_type": "code",
   "execution_count": 21,
   "metadata": {},
   "outputs": [
    {
     "ename": "ValueError",
     "evalue": "The same variable should be used in all univariate expressions being plotted.",
     "output_type": "error",
     "traceback": [
      "\u001b[0;31m---------------------------------------------------------------------------\u001b[0m",
      "\u001b[0;31mValueError\u001b[0m                                Traceback (most recent call last)",
      "\u001b[0;32m<ipython-input-21-f2adce2e5083>\u001b[0m in \u001b[0;36m<module>\u001b[0;34m\u001b[0m\n\u001b[1;32m      1\u001b[0m \u001b[0mx_sobre_parametros\u001b[0m \u001b[0;34m=\u001b[0m \u001b[0mx_sobre_condInic\u001b[0m\u001b[0;34m.\u001b[0m\u001b[0msubs\u001b[0m\u001b[0;34m(\u001b[0m\u001b[0mparametros\u001b[0m\u001b[0;34m)\u001b[0m\u001b[0;34m\u001b[0m\u001b[0;34m\u001b[0m\u001b[0m\n\u001b[0;32m----> 2\u001b[0;31m \u001b[0msym\u001b[0m\u001b[0;34m.\u001b[0m\u001b[0mplot\u001b[0m\u001b[0;34m(\u001b[0m\u001b[0mx_sobre_parametros\u001b[0m\u001b[0;34m.\u001b[0m\u001b[0mrhs\u001b[0m\u001b[0;34m,\u001b[0m \u001b[0;34m(\u001b[0m\u001b[0mt\u001b[0m\u001b[0;34m,\u001b[0m\u001b[0;36m0\u001b[0m\u001b[0;34m,\u001b[0m \u001b[0;36m5\u001b[0m\u001b[0;34m)\u001b[0m\u001b[0;34m,\u001b[0m \u001b[0mylabel\u001b[0m\u001b[0;34m=\u001b[0m\u001b[0;34m'x [m]'\u001b[0m\u001b[0;34m,\u001b[0m \u001b[0mxlabel\u001b[0m\u001b[0;34m=\u001b[0m\u001b[0;34m't [s]'\u001b[0m\u001b[0;34m)\u001b[0m\u001b[0;34m\u001b[0m\u001b[0;34m\u001b[0m\u001b[0m\n\u001b[0m",
      "\u001b[0;32m~/bin/jupyter/lib/python3.7/site-packages/sympy/plotting/plot.py\u001b[0m in \u001b[0;36mplot\u001b[0;34m(show, *args, **kwargs)\u001b[0m\n\u001b[1;32m   1712\u001b[0m             \u001b[0;32mif\u001b[0m \u001b[0mlen\u001b[0m\u001b[0;34m(\u001b[0m\u001b[0mfree\u001b[0m\u001b[0;34m)\u001b[0m \u001b[0;34m>\u001b[0m \u001b[0;36m1\u001b[0m\u001b[0;34m:\u001b[0m\u001b[0;34m\u001b[0m\u001b[0;34m\u001b[0m\u001b[0m\n\u001b[1;32m   1713\u001b[0m                 raise ValueError(\n\u001b[0;32m-> 1714\u001b[0;31m                     \u001b[0;34m'The same variable should be used in all '\u001b[0m\u001b[0;34m\u001b[0m\u001b[0;34m\u001b[0m\u001b[0m\n\u001b[0m\u001b[1;32m   1715\u001b[0m                     'univariate expressions being plotted.')\n\u001b[1;32m   1716\u001b[0m     \u001b[0mx\u001b[0m \u001b[0;34m=\u001b[0m \u001b[0mfree\u001b[0m\u001b[0;34m.\u001b[0m\u001b[0mpop\u001b[0m\u001b[0;34m(\u001b[0m\u001b[0;34m)\u001b[0m \u001b[0;32mif\u001b[0m \u001b[0mfree\u001b[0m \u001b[0;32melse\u001b[0m \u001b[0mSymbol\u001b[0m\u001b[0;34m(\u001b[0m\u001b[0;34m'x'\u001b[0m\u001b[0;34m)\u001b[0m\u001b[0;34m\u001b[0m\u001b[0;34m\u001b[0m\u001b[0m\n",
      "\u001b[0;31mValueError\u001b[0m: The same variable should be used in all univariate expressions being plotted."
     ]
    }
   ],
   "source": [
    "x_sobre_parametros = x_sobre_condInic.subs(parametros)\n",
    "sym.plot(x_sobre_parametros.rhs, (t,0, 5), ylabel='x [m]', xlabel='t [s]') "
   ]
  },
  {
   "cell_type": "markdown",
   "metadata": {},
   "source": [
    "### Subamortiguado, $0< \\zeta < 1$\n",
    "El caso más frecuente es cuando se busca que la amortiguación no sea brusca   "
   ]
  },
  {
   "cell_type": "code",
   "execution_count": null,
   "metadata": {},
   "outputs": [],
   "source": [
    "x_sub = xDinámicaIng_sol.subs(zeta, 0.2)\n",
    "x_sub"
   ]
  },
  {
   "cell_type": "markdown",
   "metadata": {},
   "source": [
    "Las exponenciales complejas con $i t$ pueden re-escribirse como funciones trigonométricas con igualdad de Euler $\\mathrm{e}^{\\pm i \\theta}= \\cos{\\theta}+ i \\sin{\\theta}$.\n",
    "\n",
    "$$\n",
    "x= \\left[ (C_1+ C_2) \\cos{\\omega t} + i(C_1- C_2) \\sin{\\omega t} \\right] \\operatorname{e}^{- \\zeta \\omega t}\n",
    "$$\n",
    "que presenta se observara una reducción de la amplitud de las oscilaciones en torno a la posición de equilibrio.\n"
   ]
  },
  {
   "cell_type": "markdown",
   "metadata": {},
   "source": [
    "y escribir una solución de la dinámica en función de tales condiciones"
   ]
  },
  {
   "cell_type": "code",
   "execution_count": null,
   "metadata": {},
   "outputs": [],
   "source": [
    "sub_condInic = [sym.Eq(x_0, x_sub.args[1].subs(t, 0) ), sym.Eq(dx_0, x_sub.args[1].diff(t).subs(t, 0) ) ]\n",
    "sub_condInic_sol = sym.solve(sub_condInic)\n",
    "x_sub_condInic = x_sub.subs(sub_condInic_sol[0] )\n",
    "x_sub_condInic"
   ]
  },
  {
   "cell_type": "code",
   "execution_count": null,
   "metadata": {},
   "outputs": [],
   "source": [
    "x_sub_parametros = x_sub_condInic.subs(parametros)\n",
    "sym.plot(x_sub_parametros.rhs, (t,0, 5), ylabel='x [m]', xlabel='t [s]') "
   ]
  },
  {
   "cell_type": "markdown",
   "metadata": {},
   "source": [
    "### No amortiguado, $\\zeta = 0$"
   ]
  },
  {
   "cell_type": "code",
   "execution_count": null,
   "metadata": {},
   "outputs": [],
   "source": [
    "x_noAmortiguado = xDinámicaIng_sol.subs(zeta, 0)\n",
    "x_noAmortiguado"
   ]
  },
  {
   "cell_type": "code",
   "execution_count": null,
   "metadata": {},
   "outputs": [],
   "source": [
    "noAmortiguado_condInic = [sym.Eq(x_0, x_noAmortiguado.args[1].subs(t, 0) ), sym.Eq(dx_0, x_noAmortiguado.args[1].diff(t).subs(t, 0) ) ]\n",
    "noAmortiguado_condInic_sol = sym.solve(noAmortiguado_condInic)\n",
    "x_noAmortiguado_condInic = x_noAmortiguado.subs(noAmortiguado_condInic_sol[0] )\n",
    "x_noAmortiguado_condInic"
   ]
  },
  {
   "cell_type": "code",
   "execution_count": null,
   "metadata": {},
   "outputs": [],
   "source": [
    "x_noAmortiguado_parametros = x_noAmortiguado_condInic.subs(parametros)\n",
    "sym.plot(x_noAmortiguado_parametros.rhs, (t,0, 5), ylabel='x [m]', xlabel='t [s]') "
   ]
  },
  {
   "cell_type": "code",
   "execution_count": null,
   "metadata": {},
   "outputs": [],
   "source": []
  }
 ],
 "metadata": {
  "kernelspec": {
   "display_name": "Python 3",
   "language": "python",
   "name": "python3"
  },
  "language_info": {
   "codemirror_mode": {
    "name": "ipython",
    "version": 3
   },
   "file_extension": ".py",
   "mimetype": "text/x-python",
   "name": "python",
   "nbconvert_exporter": "python",
   "pygments_lexer": "ipython3",
   "version": "3.7.3"
  }
 },
 "nbformat": 4,
 "nbformat_minor": 4
}
