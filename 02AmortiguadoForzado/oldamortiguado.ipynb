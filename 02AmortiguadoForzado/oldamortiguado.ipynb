{
 "cells": [
  {
   "cell_type": "markdown",
   "metadata": {},
   "source": [
    "# Oscilador armónico amortiguado"
   ]
  },
  {
   "cell_type": "markdown",
   "metadata": {},
   "source": [
    "![Departamento de Física, Facultad de Ciencias Exactas y Naturales, Universidad de Buenos Aires](figuras/logoDF.png \"DF, FCEyN, UBA\")  \n",
    "©2021 [Víctor A. Bettachini](mailto:bettachini@df.uba.ar)  \n",
    "\n",
    "----"
   ]
  },
  {
   "cell_type": "markdown",
   "metadata": {},
   "source": [
    "## Amortiguación proporcional a la velocidad\n",
    "<!--\n",
    "![](figuras/shabana1996_fig5_6.png)  \n",
    "-->\n",
    "![](figuras/shabana_fig_1_11.png)  \n",
    "La dinámica del sistema de la figura estará determinada por  \n",
    "- m : masa\n",
    "- k : rigidez (_stiffness_) de un resorte que proveé una fuerza elástica según el modelo de Hooke, $\\vec{F}_\\mathrm{elástica} = - k x \\hat{x}$\n",
    "- c : coeficiente de la fuerza de amortiguación modelizada lineal con la velocidad, provista por un amortiguador en cuyo interior un pistón está sumergido en un fluido viscoso como el aceite, $\\vec{F}_\\mathrm{amortiguación} = - c \\dot{x} \\hat{x}$\n",
    "- F(t) : un fuerza externa arbitaria en el tiempo que eventualmente lo saque del equilibrio. "
   ]
  },
  {
   "cell_type": "code",
   "execution_count": 1,
   "metadata": {},
   "outputs": [],
   "source": [
    "# biblioteca de cálculo simbólico\n",
    "import sympy as sym\n",
    "import sympy.physics.mechanics as mech\n",
    "mech.init_vprinting() # notación con puntos para derivadas temporales"
   ]
  },
  {
   "cell_type": "code",
   "execution_count": 2,
   "metadata": {},
   "outputs": [],
   "source": [
    "t = sym.symbols('t') # tiempo\n",
    "m, k, c= sym.symbols('m, k, c', positive = True) # características del sistema\n",
    "x, F = mech.dynamicsymbols('x, F') # coordenada y fuerza externa"
   ]
  },
  {
   "cell_type": "code",
   "execution_count": 3,
   "metadata": {},
   "outputs": [
    {
     "data": {
      "image/png": "[encoded data removed]",
      "text/latex": [
       "$\\displaystyle V = \\frac{k x^{2}}{2}$"
      ],
      "text/plain": [
       "       2\n",
       "    k⋅x \n",
       "V = ────\n",
       "     2  "
      ]
     },
     "execution_count": 3,
     "metadata": {},
     "output_type": "execute_result"
    }
   ],
   "source": [
    "r_m = x # posición de la masa \n",
    "unMedio = sym.Rational(1,2) # Rational: fracción de enteros, alternativamente podría haberse usado 0.5 \n",
    "V = sym.Eq( sym.Symbol('V'), unMedio* k* r_m**2) # Energía potencial\n",
    "V"
   ]
  },
  {
   "cell_type": "markdown",
   "metadata": {},
   "source": [
    "En los sistemas que vimos siempre las fuerzas se obtenian de potenciales, es decir son conservativas, y en ese caso la 2.a ley de Newton sería"
   ]
  },
  {
   "cell_type": "code",
   "execution_count": 4,
   "metadata": {},
   "outputs": [
    {
     "data": {
      "image/png": "[encoded data removed]",
      "text/latex": [
       "$\\displaystyle m \\ddot{x} = - k x$"
      ],
      "text/plain": [
       "m⋅ẍ = -k⋅x"
      ]
     },
     "execution_count": 4,
     "metadata": {},
     "output_type": "execute_result"
    }
   ],
   "source": [
    "segundaLey_conservativas = sym.Eq( m* x.diff(t,2), -V.rhs.diff(x) ) # diff: derivar, rhs: lado derecho de ecuación\n",
    "segundaLey_conservativas"
   ]
  },
  {
   "cell_type": "markdown",
   "metadata": {},
   "source": [
    "Pero en este caso no se pude soslayar que hay fuerzas no conservativas actuando sobre el sistema.  \n",
    "![](figuras/shabana_fig_1_11b.png)"
   ]
  },
  {
   "cell_type": "code",
   "execution_count": 5,
   "metadata": {},
   "outputs": [
    {
     "data": {
      "image/png": "[encoded data removed]",
      "text/latex": [
       "$\\displaystyle F_{nc} = - c \\dot{x} + F$"
      ],
      "text/plain": [
       "F_{nc} = -c⋅ẋ + F"
      ]
     },
     "execution_count": 5,
     "metadata": {},
     "output_type": "execute_result"
    }
   ],
   "source": [
    "f_NoConservativas = sym.Eq(sym.Symbol('F_{nc}'), F - c* r_m.diff(t) )\n",
    "f_NoConservativas"
   ]
  },
  {
   "cell_type": "markdown",
   "metadata": {},
   "source": [
    "No debemos olvidar estas fuerzas en el lado derecho de la 2.a ley."
   ]
  },
  {
   "cell_type": "code",
   "execution_count": 6,
   "metadata": {},
   "outputs": [
    {
     "data": {
      "image/png": "[encoded data removed]",
      "text/latex": [
       "$\\displaystyle m \\ddot{x} = - c \\dot{x} - k x + F$"
      ],
      "text/plain": [
       "m⋅ẍ = -c⋅ẋ - k⋅x + F"
      ]
     },
     "execution_count": 6,
     "metadata": {},
     "output_type": "execute_result"
    }
   ],
   "source": [
    "segundaLey = sym.Eq( m* x.diff(t,2), -V.rhs.diff(x)+ f_NoConservativas.rhs ) # diff: derivar, rhs: lado derecho de ecuación\n",
    "segundaLey"
   ]
  },
  {
   "cell_type": "markdown",
   "metadata": {},
   "source": [
    "## Dinámica\n",
    "Esta ecuación diferencial lineal de segundo orden no es homogénea a causa de $F(t)$."
   ]
  },
  {
   "cell_type": "code",
   "execution_count": 7,
   "metadata": {},
   "outputs": [
    {
     "data": {
      "image/png": "[encoded data removed]",
      "text/latex": [
       "$\\displaystyle c \\dot{x} + k x + m \\ddot{x} = F$"
      ],
      "text/plain": [
       "c⋅ẋ + k⋅x + m⋅ẍ = F"
      ]
     },
     "execution_count": 7,
     "metadata": {},
     "output_type": "execute_result"
    }
   ],
   "source": [
    "x_Dinámica_noHomogénea = sym.solve(segundaLey, F)[0] \n",
    "sym.Eq( x_Dinámica_noHomogénea, F) "
   ]
  },
  {
   "cell_type": "markdown",
   "metadata": {},
   "source": [
    "Analizaremos primero la solución para el caso homogéneo, esto es si $F = 0$."
   ]
  },
  {
   "cell_type": "code",
   "execution_count": 8,
   "metadata": {},
   "outputs": [
    {
     "data": {
      "image/png": "[encoded data removed]",
      "text/latex": [
       "$\\displaystyle c \\dot{x} + k x + m \\ddot{x} = 0$"
      ],
      "text/plain": [
       "c⋅ẋ + k⋅x + m⋅ẍ = 0"
      ]
     },
     "execution_count": 8,
     "metadata": {},
     "output_type": "execute_result"
    }
   ],
   "source": [
    "x_Dinámica_Homogénea =  x_Dinámica_noHomogénea.subs(F,0)\n",
    "sym.Eq(x_Dinámica_Homogénea, 0)"
   ]
  },
  {
   "cell_type": "markdown",
   "metadata": {},
   "source": [
    "Esta ecuación se suele normalizar por la masa"
   ]
  },
  {
   "cell_type": "code",
   "execution_count": 34,
   "metadata": {},
   "outputs": [
    {
     "data": {
      "image/png": "[encoded data removed]",
      "text/latex": [
       "$\\displaystyle c \\dot{x} + k x + m \\ddot{x}$"
      ],
      "text/plain": [
       "c⋅ẋ + k⋅x + m⋅ẍ"
      ]
     },
     "execution_count": 34,
     "metadata": {},
     "output_type": "execute_result"
    }
   ],
   "source": [
    "x_Dinámica_Homogénea.expand()/m"
   ]
  },
  {
   "cell_type": "code",
   "execution_count": 30,
   "metadata": {},
   "outputs": [
    {
     "data": {
      "image/png": "[encoded data removed]",
      "text/latex": [
       "$\\displaystyle c \\dot{x} + k x + m \\ddot{x} = 0$"
      ],
      "text/plain": [
       "c⋅ẋ + k⋅x + m⋅ẍ = 0"
      ]
     },
     "execution_count": 30,
     "metadata": {},
     "output_type": "execute_result"
    }
   ],
   "source": [
    "x_Dinámica_masa = (x_Dinámica_Homogénea/ m).expand()\n",
    "sym.Eq(x_Dinámica_masa, 0)"
   ]
  },
  {
   "cell_type": "markdown",
   "metadata": {},
   "source": [
    "y asignarle símbolos particulares a los coeficientes de $x$ y $\\dot{x}$:\n",
    "- $\\omega^2 = \\frac{k}{m}$, siendo $\\omega$ la frecuencia natural de oscilación del sistema \n",
    "- $\\Gamma = \\frac{c}{m}$ (en algunos textos $\\gamma$)"
   ]
  },
  {
   "cell_type": "code",
   "execution_count": 24,
   "metadata": {},
   "outputs": [
    {
     "data": {
      "image/png": "[encoded data removed]",
      "text/latex": [
       "$\\displaystyle \\Gamma \\dot{x} + k x + m \\ddot{x} = 0$"
      ],
      "text/plain": [
       "Γ⋅ẋ + k⋅x + m⋅ẍ = 0"
      ]
     },
     "execution_count": 24,
     "metadata": {},
     "output_type": "execute_result"
    }
   ],
   "source": [
    "omega, Gamma = sym.symbols('omega Gamma', real = True)\n",
    "x_Dinámica_Gamma = x_Dinámica_masa.subs([(k/m, omega**2), (c/m, Gamma) ]).simplify()\n",
    "sym.Eq(x_Dinámica_Gamma, 0)"
   ]
  },
  {
   "cell_type": "markdown",
   "metadata": {},
   "source": [
    "Ya vimos como proponiendo una solución con exponenciales complejas se puede resolver esta ecuación."
   ]
  },
  {
   "cell_type": "code",
   "execution_count": 25,
   "metadata": {},
   "outputs": [
    {
     "data": {
      "image/png": "[encoded data removed]",
      "text/latex": [
       "$\\displaystyle x = C_{1} e^{\\frac{t \\left(- \\Gamma - \\sqrt{\\Gamma^{2} - 4 k m}\\right)}{2 m}} + C_{2} e^{\\frac{t \\left(- \\Gamma + \\sqrt{\\Gamma^{2} - 4 k m}\\right)}{2 m}}$"
      ],
      "text/plain": [
       "          ⎛        ____________⎞         ⎛        ____________⎞\n",
       "          ⎜       ╱  2         ⎟         ⎜       ╱  2         ⎟\n",
       "        t⋅⎝-Γ - ╲╱  Γ  - 4⋅k⋅m ⎠       t⋅⎝-Γ + ╲╱  Γ  - 4⋅k⋅m ⎠\n",
       "        ────────────────────────       ────────────────────────\n",
       "                  2⋅m                            2⋅m           \n",
       "x = C₁⋅ℯ                         + C₂⋅ℯ                        "
      ]
     },
     "execution_count": 25,
     "metadata": {},
     "output_type": "execute_result"
    }
   ],
   "source": [
    "xDinámica_sol = sym.dsolve(x_Dinámica_Gamma)\n",
    "xDinámica_sol"
   ]
  },
  {
   "cell_type": "markdown",
   "metadata": {},
   "source": [
    "Esta es una combinación lineal de las dos posible soluciones, pesadas por los coeficientes $C_i$."
   ]
  },
  {
   "cell_type": "markdown",
   "metadata": {},
   "source": [
    "## Analizando la dinámica"
   ]
  },
  {
   "cell_type": "markdown",
   "metadata": {},
   "source": [
    "Lo primero que salta a la vista es que hay un factor común\n",
    "$$\n",
    "\\operatorname{e}^{- \\frac{\\Gamma}{2} t},\n",
    "$$\n",
    "que paulatinamente irá reduciendo la amplitud de $x(t)$ y para $t \\to \\infty$ ``matará'' la dinámica.\n",
    "Que tán rápido sucede esto se cuantifica con un **período de relajación** $\\tau = 2 \\Gamma^{-1}$ en que la amplitud decae en $\\operatorname{e}^{-1}$.\n",
    "A los fines experimentales se considera que trancurrido $\\sim 10 \\tau$ la oscilación se considera extinta."
   ]
  },
  {
   "cell_type": "markdown",
   "metadata": {},
   "source": [
    "Por otro lado sabemos que si \n",
    "Evidentemente la dinámica será diferente de acuerdo a como si $\\Gamma^2 > 4 k m$ se tendrá una dinámica distinta que en el caso que se anulen o se invierta esta desigualdad."
   ]
  },
  {
   "cell_type": "markdown",
   "metadata": {},
   "source": [
    "En la ingeniería mecánica en vez de $\\Gamma$ se hace uso de la _razón (o tasa) de amortiguamiento_: $\\zeta = \\frac{c}{C_c}$, donde $C_c = 2 \\sqrt{k m} = 2 m \\omega$ es el coeficiente de amortiguamiento crítico. Así $\\frac{c}{m} = \\frac{C_c \\zeta}{m} = \\frac{2 m \\omega \\zeta}{m} = 2 \\omega \\zeta$"
   ]
  },
  {
   "cell_type": "code",
   "execution_count": 26,
   "metadata": {},
   "outputs": [
    {
     "data": {
      "image/png": "[encoded data removed]",
      "text/latex": [
       "$\\displaystyle k x + m \\ddot{x} + 2 \\omega \\zeta \\dot{x} = 0$"
      ],
      "text/plain": [
       "k⋅x + m⋅ẍ + 2⋅ω⋅ζ⋅ẋ = 0"
      ]
     },
     "execution_count": 26,
     "metadata": {},
     "output_type": "execute_result"
    }
   ],
   "source": [
    "omega, zeta = sym.symbols('omega zeta', real = True)\n",
    "xDinámicaIng = x_Dinámica_masa.subs([(k/m, omega**2), (c/m, 2* zeta* omega) ]).simplify()\n",
    "sym.Eq((xDinámicaIng).expand(), 0)"
   ]
  },
  {
   "cell_type": "markdown",
   "metadata": {},
   "source": [
    "Con esta formulación son más claras en función de $\\zeta$ las distintas dinámicas fruto de solución en términos de exponenciales complejas."
   ]
  },
  {
   "cell_type": "code",
   "execution_count": 27,
   "metadata": {},
   "outputs": [
    {
     "data": {
      "image/png": "[encoded data removed]",
      "text/latex": [
       "$\\displaystyle x = \\left(C_{1} e^{- \\frac{t \\sqrt{- k m + \\omega^{2} \\zeta^{2}}}{m}} + C_{2} e^{\\frac{t \\sqrt{- k m + \\omega^{2} \\zeta^{2}}}{m}}\\right) e^{- \\frac{\\omega t \\zeta}{m}}$"
      ],
      "text/plain": [
       "    ⎛          ______________             ______________⎞         \n",
       "    ⎜         ╱         2  2             ╱         2  2 ⎟         \n",
       "    ⎜    -t⋅╲╱  -k⋅m + ω ⋅ζ          t⋅╲╱  -k⋅m + ω ⋅ζ  ⎟  -ω⋅t⋅ζ \n",
       "    ⎜    ─────────────────────       ───────────────────⎟  ───────\n",
       "    ⎜              m                          m         ⎟     m   \n",
       "x = ⎝C₁⋅ℯ                      + C₂⋅ℯ                   ⎠⋅ℯ       "
      ]
     },
     "execution_count": 27,
     "metadata": {},
     "output_type": "execute_result"
    }
   ],
   "source": [
    "xDinámicaIng_sol = sym.dsolve(xDinámicaIng)\n",
    "xDinámicaIng_sol.simplify()"
   ]
  },
  {
   "cell_type": "markdown",
   "metadata": {},
   "source": [
    "En esta formulación $\\tau = \\frac{1}{\\omega \\zeta}$."
   ]
  },
  {
   "cell_type": "markdown",
   "metadata": {},
   "source": [
    "### Críticamente amortiguado, $\\zeta = 1$\n",
    "Si $\\zeta = 1$ se logra el comportamiento más sencillo"
   ]
  },
  {
   "cell_type": "code",
   "execution_count": 28,
   "metadata": {},
   "outputs": [
    {
     "data": {
      "image/png": "[encoded data removed]",
      "text/latex": [
       "$\\displaystyle x = \\left(C_{1} e^{- \\frac{t \\sqrt{- k m + \\omega^{2}}}{m}} + C_{2} e^{\\frac{t \\sqrt{- k m + \\omega^{2}}}{m}}\\right) e^{- \\frac{\\omega t}{m}}$"
      ],
      "text/plain": [
       "    ⎛          ___________             ___________⎞       \n",
       "    ⎜         ╱         2             ╱         2 ⎟       \n",
       "    ⎜    -t⋅╲╱  -k⋅m + ω          t⋅╲╱  -k⋅m + ω  ⎟  -ω⋅t \n",
       "    ⎜    ──────────────────       ────────────────⎟  ─────\n",
       "    ⎜            m                       m        ⎟    m  \n",
       "x = ⎝C₁⋅ℯ                   + C₂⋅ℯ                ⎠⋅ℯ     "
      ]
     },
     "execution_count": 28,
     "metadata": {},
     "output_type": "execute_result"
    }
   ],
   "source": [
    "x_crit = xDinámicaIng_sol.subs(zeta,1).simplify()\n",
    "x_crit"
   ]
  },
  {
   "cell_type": "markdown",
   "metadata": {},
   "source": [
    "que se trata de un acercamiento exponencial a la posición de equilibrio. "
   ]
  },
  {
   "cell_type": "markdown",
   "metadata": {},
   "source": [
    "Para visualizar estos comportamientos pueden determinarse los $C_i$ en función de los $x$ y $\\dot{x}$ conocidos en un determinado $t$, las llamadas condiciones iniciales.\n",
    "\n",
    "Si para $t_0 = 0$ conocemos $x_0 = x(t_0)$ y $\\dot{x}_0 = \\dot{x}(t_0)$"
   ]
  },
  {
   "cell_type": "code",
   "execution_count": 16,
   "metadata": {},
   "outputs": [
    {
     "data": {
      "image/png": "[encoded data removed]",
      "text/latex": [
       "$\\displaystyle \\left[ x_{0} = C_{1} + C_{2}, \\  \\dot{x}_0 = C_{2} \\sqrt{\\Gamma^{2} - 4 \\omega^{2}} + \\left(C_{1} + C_{2}\\right) \\left(- \\frac{\\Gamma}{2} - \\frac{\\sqrt{\\Gamma^{2} - 4 \\omega^{2}}}{2}\\right)\\right]$"
      ],
      "text/plain": [
       "⎡                                                       ⎛         ___________⎞\n",
       "⎢                               ___________             ⎜        ╱  2      2 ⎟\n",
       "⎢                              ╱  2      2              ⎜  Γ   ╲╱  Γ  - 4⋅ω  ⎟\n",
       "⎢x₀ = C₁ + C₂, \\dot{x}₀ = C₂⋅╲╱  Γ  - 4⋅ω   + (C₁ + C₂)⋅⎜- ─ - ──────────────⎟\n",
       "⎣                                                       ⎝  2         2       ⎠\n",
       "\n",
       "⎤\n",
       "⎥\n",
       "⎥\n",
       "⎥\n",
       "⎦"
      ]
     },
     "execution_count": 16,
     "metadata": {},
     "output_type": "execute_result"
    }
   ],
   "source": [
    "x_0, dx_0 = sym.symbols('x_0 \\dot{x}_0', real=True)\n",
    "crit_condInic = [sym.Eq(x_0, x_crit.args[1].subs(t, 0) ), sym.Eq(dx_0, x_crit.args[1].diff(t).subs(t, 0) ) ]\n",
    "crit_condInic"
   ]
  },
  {
   "cell_type": "markdown",
   "metadata": {},
   "source": [
    "de las que pueden despejarse los $C_i$ "
   ]
  },
  {
   "cell_type": "code",
   "execution_count": 17,
   "metadata": {},
   "outputs": [
    {
     "data": {
      "image/png": "[encoded data removed]",
      "text/latex": [
       "$\\displaystyle \\left[ \\left\\{ C_{1} : \\frac{- \\Gamma x_{0} - 2 \\dot{x}_0 + x_{0} \\sqrt{\\Gamma^{2} - 4 \\omega^{2}}}{2 \\sqrt{\\Gamma^{2} - 4 \\omega^{2}}}, \\  C_{2} : \\frac{\\Gamma x_{0} + 2 \\dot{x}_0 + x_{0} \\sqrt{\\Gamma^{2} - 4 \\omega^{2}}}{2 \\sqrt{\\Gamma^{2} - 4 \\omega^{2}}}\\right\\}\\right]$"
      ],
      "text/plain": [
       "⎡⎧                               ___________                                __\n",
       "⎢⎪                              ╱  2      2                                ╱  \n",
       "⎢⎪    -Γ⋅x₀ - 2⋅\\dot{x}₀ + x₀⋅╲╱  Γ  - 4⋅ω        Γ⋅x₀ + 2⋅\\dot{x}₀ + x₀⋅╲╱  Γ\n",
       "⎢⎨C₁: ──────────────────────────────────────, C₂: ────────────────────────────\n",
       "⎢⎪                    ___________                                 ___________ \n",
       "⎢⎪                   ╱  2      2                                 ╱  2      2  \n",
       "⎣⎩               2⋅╲╱  Γ  - 4⋅ω                              2⋅╲╱  Γ  - 4⋅ω   \n",
       "\n",
       "_________⎫⎤\n",
       "2      2 ⎪⎥\n",
       "  - 4⋅ω  ⎪⎥\n",
       "─────────⎬⎥\n",
       "         ⎪⎥\n",
       "         ⎪⎥\n",
       "         ⎭⎦"
      ]
     },
     "execution_count": 17,
     "metadata": {},
     "output_type": "execute_result"
    }
   ],
   "source": [
    "crit_condInic_sol = sym.solve(crit_condInic)\n",
    "crit_condInic_sol"
   ]
  },
  {
   "cell_type": "code",
   "execution_count": 18,
   "metadata": {},
   "outputs": [
    {
     "data": {
      "image/png": "[encoded data removed]",
      "text/latex": [
       "$\\displaystyle x = \\frac{\\left(- \\Gamma x_{0} - 2 \\dot{x}_0 + x_{0} \\sqrt{\\Gamma^{2} - 4 \\omega^{2}} + \\left(\\Gamma x_{0} + 2 \\dot{x}_0 + x_{0} \\sqrt{\\Gamma^{2} - 4 \\omega^{2}}\\right) e^{t \\sqrt{\\Gamma^{2} - 4 \\omega^{2}}}\\right) e^{- \\frac{t \\left(\\Gamma + \\sqrt{\\Gamma^{2} - 4 \\omega^{2}}\\right)}{2}}}{2 \\sqrt{\\Gamma^{2} - 4 \\omega^{2}}}$"
      ],
      "text/plain": [
       "                                                                              \n",
       "                                                                              \n",
       "    ⎛                                                                         \n",
       "    ⎜                           ___________   ⎛                          _____\n",
       "    ⎜                          ╱  2      2    ⎜                         ╱  2  \n",
       "    ⎝-Γ⋅x₀ - 2⋅\\dot{x}₀ + x₀⋅╲╱  Γ  - 4⋅ω   + ⎝Γ⋅x₀ + 2⋅\\dot{x}₀ + x₀⋅╲╱  Γ  -\n",
       "x = ──────────────────────────────────────────────────────────────────────────\n",
       "                                                                ___________   \n",
       "                                                               ╱  2      2    \n",
       "                                                           2⋅╲╱  Γ  - 4⋅ω     \n",
       "\n",
       "                               ⎛       ___________⎞ \n",
       "                               ⎜      ╱  2      2 ⎟ \n",
       "              ___________⎞  -t⋅⎝Γ + ╲╱  Γ  - 4⋅ω  ⎠ \n",
       "______⎞      ╱  2      2 ⎟  ────────────────────────\n",
       "    2 ⎟  t⋅╲╱  Γ  - 4⋅ω  ⎟             2            \n",
       " 4⋅ω  ⎠⋅ℯ                ⎠⋅ℯ                        \n",
       "────────────────────────────────────────────────────\n",
       "                                                    \n",
       "                                                    \n",
       "                                                    "
      ]
     },
     "execution_count": 18,
     "metadata": {},
     "output_type": "execute_result"
    }
   ],
   "source": [
    "x_crit_condInic = x_crit.subs(crit_condInic_sol[0] )\n",
    "x_crit_condInic.simplify()"
   ]
  },
  {
   "cell_type": "markdown",
   "metadata": {},
   "source": [
    "Si por ejemplo asignamos"
   ]
  },
  {
   "cell_type": "code",
   "execution_count": 19,
   "metadata": {},
   "outputs": [
    {
     "data": {
      "image/png": "[encoded data removed]",
      "text/latex": [
       "$\\displaystyle x = \\left(\\frac{0.025 \\left(- \\Gamma + 20.0 \\sqrt{0.0025 \\Gamma^{2} - 1} + 200\\right)}{\\sqrt{0.0025 \\Gamma^{2} - 1}} + \\frac{0.025 \\left(\\Gamma + 20.0 \\sqrt{0.0025 \\Gamma^{2} - 1} - 200\\right) e^{20.0 t \\sqrt{0.0025 \\Gamma^{2} - 1}}}{\\sqrt{0.0025 \\Gamma^{2} - 1}}\\right) e^{- \\frac{t \\left(\\Gamma + 20.0 \\sqrt{0.0025 \\Gamma^{2} - 1}\\right)}{2}}$"
      ],
      "text/plain": [
       "                                                                              \n",
       "    ⎛                                                                         \n",
       "    ⎜      ⎛             _______________      ⎞         ⎛            _________\n",
       "    ⎜      ⎜            ╱         2           ⎟         ⎜           ╱         \n",
       "    ⎜0.025⋅⎝-Γ + 20.0⋅╲╱  0.0025⋅Γ  - 1  + 200⎠   0.025⋅⎝Γ + 20.0⋅╲╱  0.0025⋅Γ\n",
       "x = ⎜────────────────────────────────────────── + ────────────────────────────\n",
       "    ⎜               _______________                                           \n",
       "    ⎜              ╱         2                                               ╱\n",
       "    ⎝            ╲╱  0.0025⋅Γ  - 1                                         ╲╱ \n",
       "\n",
       "                                              ⎛            _______________⎞ \n",
       "                         _______________⎞     ⎜           ╱         2     ⎟ \n",
       "______      ⎞           ╱         2     ⎟  -t⋅⎝Γ + 20.0⋅╲╱  0.0025⋅Γ  - 1 ⎠ \n",
       "2           ⎟  20.0⋅t⋅╲╱  0.0025⋅Γ  - 1 ⎟  ─────────────────────────────────\n",
       "  - 1  - 200⎠⋅ℯ                         ⎟                  2                \n",
       "────────────────────────────────────────⎟⋅ℯ                                 \n",
       "_______________                         ⎟                                   \n",
       "         2                              ⎟                                   \n",
       " 0.0025⋅Γ  - 1                          ⎠                                   "
      ]
     },
     "execution_count": 19,
     "metadata": {},
     "output_type": "execute_result"
    }
   ],
   "source": [
    "k = 100 # [N m-1]\n",
    "m = 1 # [kg]\n",
    "x_0_magnitud = 1 # [m]\n",
    "dx_0_magnitud = -100 # [m s-1]\n",
    "\n",
    "parametros ={\n",
    "    x_0 : x_0_magnitud,\n",
    "    dx_0 : dx_0_magnitud,\n",
    "    omega : sym.sqrt(k/m)\n",
    "}\n",
    "x_crit_parametros = x_crit_condInic.subs(parametros)\n",
    "x_crit_parametros"
   ]
  },
  {
   "cell_type": "code",
   "execution_count": 20,
   "metadata": {},
   "outputs": [
    {
     "ename": "ValueError",
     "evalue": "The same variable should be used in all univariate expressions being plotted.",
     "output_type": "error",
     "traceback": [
      "\u001b[0;31m---------------------------------------------------------------------------\u001b[0m",
      "\u001b[0;31mValueError\u001b[0m                                Traceback (most recent call last)",
      "\u001b[0;32m<ipython-input-20-98f2c80e349a>\u001b[0m in \u001b[0;36m<module>\u001b[0;34m\u001b[0m\n\u001b[0;32m----> 1\u001b[0;31m \u001b[0msym\u001b[0m\u001b[0;34m.\u001b[0m\u001b[0mplot\u001b[0m\u001b[0;34m(\u001b[0m\u001b[0mx_crit_parametros\u001b[0m\u001b[0;34m.\u001b[0m\u001b[0mrhs\u001b[0m\u001b[0;34m,\u001b[0m \u001b[0;34m(\u001b[0m\u001b[0mt\u001b[0m\u001b[0;34m,\u001b[0m\u001b[0;36m0\u001b[0m\u001b[0;34m,\u001b[0m \u001b[0;36m5\u001b[0m\u001b[0;34m)\u001b[0m\u001b[0;34m,\u001b[0m \u001b[0mylabel\u001b[0m\u001b[0;34m=\u001b[0m\u001b[0;34m'x [m]'\u001b[0m\u001b[0;34m,\u001b[0m \u001b[0mxlabel\u001b[0m\u001b[0;34m=\u001b[0m\u001b[0;34m't [s]'\u001b[0m\u001b[0;34m)\u001b[0m\u001b[0;34m\u001b[0m\u001b[0;34m\u001b[0m\u001b[0m\n\u001b[0m",
      "\u001b[0;32m~/bin/jupyter/lib/python3.7/site-packages/sympy/plotting/plot.py\u001b[0m in \u001b[0;36mplot\u001b[0;34m(show, *args, **kwargs)\u001b[0m\n\u001b[1;32m   1712\u001b[0m             \u001b[0;32mif\u001b[0m \u001b[0mlen\u001b[0m\u001b[0;34m(\u001b[0m\u001b[0mfree\u001b[0m\u001b[0;34m)\u001b[0m \u001b[0;34m>\u001b[0m \u001b[0;36m1\u001b[0m\u001b[0;34m:\u001b[0m\u001b[0;34m\u001b[0m\u001b[0;34m\u001b[0m\u001b[0m\n\u001b[1;32m   1713\u001b[0m                 raise ValueError(\n\u001b[0;32m-> 1714\u001b[0;31m                     \u001b[0;34m'The same variable should be used in all '\u001b[0m\u001b[0;34m\u001b[0m\u001b[0;34m\u001b[0m\u001b[0m\n\u001b[0m\u001b[1;32m   1715\u001b[0m                     'univariate expressions being plotted.')\n\u001b[1;32m   1716\u001b[0m     \u001b[0mx\u001b[0m \u001b[0;34m=\u001b[0m \u001b[0mfree\u001b[0m\u001b[0;34m.\u001b[0m\u001b[0mpop\u001b[0m\u001b[0;34m(\u001b[0m\u001b[0;34m)\u001b[0m \u001b[0;32mif\u001b[0m \u001b[0mfree\u001b[0m \u001b[0;32melse\u001b[0m \u001b[0mSymbol\u001b[0m\u001b[0;34m(\u001b[0m\u001b[0;34m'x'\u001b[0m\u001b[0;34m)\u001b[0m\u001b[0;34m\u001b[0m\u001b[0;34m\u001b[0m\u001b[0m\n",
      "\u001b[0;31mValueError\u001b[0m: The same variable should be used in all univariate expressions being plotted."
     ]
    }
   ],
   "source": [
    "sym.plot(x_crit_parametros.rhs, (t,0, 5), ylabel='x [m]', xlabel='t [s]') "
   ]
  },
  {
   "cell_type": "markdown",
   "metadata": {},
   "source": [
    "### Sobreamortiguado, $\\zeta > 1$\n",
    "Si el amortiguamiento es aún más pronunciado, e.g. $\\zeta = 2$"
   ]
  },
  {
   "cell_type": "code",
   "execution_count": 21,
   "metadata": {},
   "outputs": [
    {
     "data": {
      "image/png": "[encoded data removed]",
      "text/latex": [
       "$\\displaystyle x = \\left(C_{1} + C_{2} e^{t \\sqrt{\\Gamma^{2} - 4 \\omega^{2}}}\\right) e^{- \\frac{t \\left(\\Gamma + \\sqrt{\\Gamma^{2} - 4 \\omega^{2}}\\right)}{2}}$"
      ],
      "text/plain": [
       "                                    ⎛       ___________⎞ \n",
       "                                    ⎜      ╱  2      2 ⎟ \n",
       "    ⎛              ___________⎞  -t⋅⎝Γ + ╲╱  Γ  - 4⋅ω  ⎠ \n",
       "    ⎜             ╱  2      2 ⎟  ────────────────────────\n",
       "    ⎜         t⋅╲╱  Γ  - 4⋅ω  ⎟             2            \n",
       "x = ⎝C₁ + C₂⋅ℯ                ⎠⋅ℯ                        "
      ]
     },
     "execution_count": 21,
     "metadata": {},
     "output_type": "execute_result"
    }
   ],
   "source": [
    "x_sobre = xDinámicaIng_sol.subs(zeta, 2).simplify()\n",
    "x_sobre"
   ]
  },
  {
   "cell_type": "markdown",
   "metadata": {},
   "source": [
    "también habrá un acercamiento exponencial a $x=0$, pero puede haber violentas oscilaciones antes de alcanzar el punto de equilibrio."
   ]
  },
  {
   "cell_type": "code",
   "execution_count": null,
   "metadata": {},
   "outputs": [],
   "source": [
    "sobre_condInic = [sym.Eq(x_0, x_sobre.args[1].subs(t, 0) ), sym.Eq(dx_0, x_sobre.args[1].diff(t).subs(t, 0) ) ]\n",
    "sobre_condInic_sol = sym.solve(sobre_condInic)\n",
    "sobre_condInic_sol"
   ]
  },
  {
   "cell_type": "code",
   "execution_count": null,
   "metadata": {},
   "outputs": [],
   "source": [
    "x_sobre_condInic = x_sobre.subs(sobre_condInic_sol[0] )\n",
    "x_sobre_condInic.simplify()"
   ]
  },
  {
   "cell_type": "markdown",
   "metadata": {},
   "source": [
    "Con las mismas condiciones iniciales"
   ]
  },
  {
   "cell_type": "code",
   "execution_count": null,
   "metadata": {},
   "outputs": [],
   "source": [
    "x_sobre_parametros = x_sobre_condInic.subs(parametros)\n",
    "sym.plot(x_sobre_parametros.rhs, (t,0, 5), ylabel='x [m]', xlabel='t [s]') "
   ]
  },
  {
   "cell_type": "markdown",
   "metadata": {},
   "source": [
    "### Subamortiguado, $0< \\zeta < 1$\n",
    "El caso más frecuente es cuando se busca que la amortiguación no sea brusca   "
   ]
  },
  {
   "cell_type": "code",
   "execution_count": null,
   "metadata": {},
   "outputs": [],
   "source": [
    "x_sub = xDinámicaIng_sol.subs(zeta, 0.2)\n",
    "x_sub"
   ]
  },
  {
   "cell_type": "markdown",
   "metadata": {},
   "source": [
    "Las exponenciales complejas con $i t$ pueden re-escribirse como funciones trigonométricas con igualdad de Euler $\\mathrm{e}^{\\pm i \\theta}= \\cos{\\theta}+ i \\sin{\\theta}$.\n",
    "\n",
    "$$\n",
    "x= \\left[ (C_1+ C_2) \\cos{\\omega t} + i(C_1- C_2) \\sin{\\omega t} \\right] \\operatorname{e}^{- \\zeta \\omega t}\n",
    "$$\n",
    "que presenta se observara una reducción de la amplitud de las oscilaciones en torno a la posición de equilibrio.\n"
   ]
  },
  {
   "cell_type": "markdown",
   "metadata": {},
   "source": [
    "y escribir una solución de la dinámica en función de tales condiciones"
   ]
  },
  {
   "cell_type": "code",
   "execution_count": null,
   "metadata": {},
   "outputs": [],
   "source": [
    "sub_condInic = [sym.Eq(x_0, x_sub.args[1].subs(t, 0) ), sym.Eq(dx_0, x_sub.args[1].diff(t).subs(t, 0) ) ]\n",
    "sub_condInic_sol = sym.solve(sub_condInic)\n",
    "x_sub_condInic = x_sub.subs(sub_condInic_sol[0] )\n",
    "x_sub_condInic"
   ]
  },
  {
   "cell_type": "code",
   "execution_count": null,
   "metadata": {},
   "outputs": [],
   "source": [
    "x_sub_parametros = x_sub_condInic.subs(parametros)\n",
    "sym.plot(x_sub_parametros.rhs, (t,0, 5), ylabel='x [m]', xlabel='t [s]') "
   ]
  },
  {
   "cell_type": "markdown",
   "metadata": {},
   "source": [
    "### No amortiguado, $\\zeta = 0$"
   ]
  },
  {
   "cell_type": "code",
   "execution_count": null,
   "metadata": {},
   "outputs": [],
   "source": [
    "x_noAmortiguado = xDinámicaIng_sol.subs(zeta, 0)\n",
    "x_noAmortiguado"
   ]
  },
  {
   "cell_type": "code",
   "execution_count": null,
   "metadata": {},
   "outputs": [],
   "source": [
    "noAmortiguado_condInic = [sym.Eq(x_0, x_noAmortiguado.args[1].subs(t, 0) ), sym.Eq(dx_0, x_noAmortiguado.args[1].diff(t).subs(t, 0) ) ]\n",
    "noAmortiguado_condInic_sol = sym.solve(noAmortiguado_condInic)\n",
    "x_noAmortiguado_condInic = x_noAmortiguado.subs(noAmortiguado_condInic_sol[0] )\n",
    "x_noAmortiguado_condInic"
   ]
  },
  {
   "cell_type": "code",
   "execution_count": null,
   "metadata": {},
   "outputs": [],
   "source": [
    "x_noAmortiguado_parametros = x_noAmortiguado_condInic.subs(parametros)\n",
    "sym.plot(x_noAmortiguado_parametros.rhs, (t,0, 5), ylabel='x [m]', xlabel='t [s]') "
   ]
  },
  {
   "cell_type": "code",
   "execution_count": null,
   "metadata": {},
   "outputs": [],
   "source": []
  }
 ],
 "metadata": {
  "kernelspec": {
   "display_name": "Python 3",
   "language": "python",
   "name": "python3"
  },
  "language_info": {
   "codemirror_mode": {
    "name": "ipython",
    "version": 3
   },
   "file_extension": ".py",
   "mimetype": "text/x-python",
   "name": "python",
   "nbconvert_exporter": "python",
   "pygments_lexer": "ipython3",
   "version": "3.7.3"
  }
 },
 "nbformat": 4,
 "nbformat_minor": 4
}
