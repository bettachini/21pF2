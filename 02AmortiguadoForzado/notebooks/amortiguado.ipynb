{
 "cells": [
  {
   "cell_type": "markdown",
   "metadata": {},
   "source": [
    "# Oscilador armónico amortiguado"
   ]
  },
  {
   "cell_type": "markdown",
   "metadata": {},
   "source": [
    "![](../../conTexto.png \"DF, FCEyN, UBA\")  \n",
    "©2021 [Víctor A. Bettachini](mailto:bettachini@df.uba.ar)   \n",
    "\n",
    "----   "
   ]
  },
  {
   "cell_type": "markdown",
   "metadata": {},
   "source": [
    "## Amortiguación proporcional a la velocidad\n",
    "\n",
    "![](shabana1996_fig5_6_sansF.png)\n",
    "\n",
    "La dinámica del sistema de la figura estará caracterizada por  \n",
    "- m : masa\n",
    "- k : rigidez (_stiffness_) de un resorte que proveé una fuerza elástica según el modelo de Hooke, $\\vec{F}_\\mathrm{elástica} = - k x \\hat{x}$\n",
    "- c : coeficiente de la fuerza de amortiguación modelizada lineal con la velocidad, provista por un amortiguador en cuyo interior un pistón está sumergido en un fluido viscoso como el aceite, $\\vec{F}_\\mathrm{amortiguación} = - c \\dot{x} \\hat{x}$"
   ]
  },
  {
   "cell_type": "code",
   "execution_count": 1,
   "metadata": {},
   "outputs": [],
   "source": [
    "# biblioteca de cálculo simbólico\n",
    "import sympy as sym\n",
    "import sympy.physics.mechanics as mech\n",
    "mech.init_vprinting() # notación con puntos para derivadas temporales"
   ]
  },
  {
   "cell_type": "code",
   "execution_count": 28,
   "metadata": {},
   "outputs": [],
   "source": [
    "t = sym.symbols('t') # tiempo\n",
    "m, k, c = sym.symbols('m, k, c', positive = True) # características del sistema\n",
    "x = mech.dynamicsymbols('x') # coordenada"
   ]
  },
  {
   "cell_type": "code",
   "execution_count": 29,
   "metadata": {},
   "outputs": [
    {
     "data": {
      "image/png": "[encoded data removed]",
      "text/latex": [
       "$\\displaystyle V = \\frac{k x^{2}}{2}$"
      ],
      "text/plain": [
       "       2\n",
       "    k⋅x \n",
       "V = ────\n",
       "     2  "
      ]
     },
     "execution_count": 29,
     "metadata": {},
     "output_type": "execute_result"
    }
   ],
   "source": [
    "r_m = x # posición de la masa \n",
    "unMedio = sym.Rational(1,2) # Rational: fracción de enteros, alternativamente podría haberse usado 0.5 \n",
    "V = sym.Eq( sym.Symbol('V'), unMedio* k* r_m**2) # Energía potencial\n",
    "V"
   ]
  },
  {
   "cell_type": "markdown",
   "metadata": {},
   "source": [
    "Si no estuviera la fuerza de amortiguación, que es una fuerza no-conservativa, la dinámica estaría dictada por "
   ]
  },
  {
   "cell_type": "code",
   "execution_count": 22,
   "metadata": {},
   "outputs": [
    {
     "data": {
      "image/png": "[encoded data removed]",
      "text/latex": [
       "$\\displaystyle m \\ddot{x} = - k x$"
      ],
      "text/plain": [
       "m⋅ẍ = -k⋅x"
      ]
     },
     "execution_count": 22,
     "metadata": {},
     "output_type": "execute_result"
    }
   ],
   "source": [
    "segundaLey = sym.Eq( m* x.diff(t,2), -V.rhs.diff(x) ) # diff: derivar, rhs: lado derecho de ecuación\n",
    "segundaLey"
   ]
  },
  {
   "cell_type": "markdown",
   "metadata": {},
   "source": [
    "La fuerzas no conservativas se limitan a la de amortiguación."
   ]
  },
  {
   "cell_type": "code",
   "execution_count": 23,
   "metadata": {},
   "outputs": [
    {
     "data": {
      "image/png": "[encoded data removed]",
      "text/latex": [
       "$\\displaystyle F_{nc} = - c \\dot{x}$"
      ],
      "text/plain": [
       "F_{nc} = -c⋅ẋ"
      ]
     },
     "execution_count": 23,
     "metadata": {},
     "output_type": "execute_result"
    }
   ],
   "source": [
    "fNoConservativas = sym.Eq(sym.Symbol('F_{nc}'), - c* r_m.diff(t) )\n",
    "fNoConservativas"
   ]
  },
  {
   "cell_type": "markdown",
   "metadata": {},
   "source": [
    "Cualquier fuerza no-conservativa actuando sobre el sistema debe agregarse al lado derecho de esta ecuación que solo contempla las derivadas de un potencial, las conservativas."
   ]
  },
  {
   "cell_type": "code",
   "execution_count": 27,
   "metadata": {},
   "outputs": [
    {
     "data": {
      "image/png": "[encoded data removed]",
      "text/latex": [
       "$\\displaystyle m \\ddot{x} = - c \\dot{x} - k x$"
      ],
      "text/plain": [
       "m⋅ẍ = -c⋅ẋ - k⋅x"
      ]
     },
     "execution_count": 27,
     "metadata": {},
     "output_type": "execute_result"
    }
   ],
   "source": [
    "segundaLeyNC = sym.Eq(segundaLey.lhs, segundaLey.rhs + fNoConservativas.rhs) # sumo las no-conservativas al lado derecho\n",
    "segundaLeyNC"
   ]
  },
  {
   "cell_type": "markdown",
   "metadata": {},
   "source": [
    "## Dinámica\n",
    "Escribimos la anterior ecuación diferencial lineal como homogénea."
   ]
  },
  {
   "cell_type": "code",
   "execution_count": 32,
   "metadata": {},
   "outputs": [
    {
     "data": {
      "image/png": "[encoded data removed]",
      "text/latex": [
       "$\\displaystyle c \\dot{x} + k x + m \\ddot{x} = 0$"
      ],
      "text/plain": [
       "c⋅ẋ + k⋅x + m⋅ẍ = 0"
      ]
     },
     "execution_count": 32,
     "metadata": {},
     "output_type": "execute_result"
    }
   ],
   "source": [
    "xDinámicaHomogénea =  sym.Eq(segundaLeyNC.lhs - segundaLeyNC.rhs, 0)\n",
    "xDinámicaHomogénea"
   ]
  },
  {
   "cell_type": "markdown",
   "metadata": {},
   "source": [
    "En ingeniería se suele normalizar por la masa, "
   ]
  },
  {
   "cell_type": "code",
   "execution_count": null,
   "metadata": {},
   "outputs": [],
   "source": [
    "x_EL_masa = (x_EL_homogenea/ m).expand()\n",
    "sym.Eq(x_EL_masa, 0)"
   ]
  },
  {
   "cell_type": "markdown",
   "metadata": {},
   "source": [
    "para asignar símbolos particulares a los coeficientes de $x$ y $\\dot{x}$:\n",
    "- frecuencia natural de oscilación del sistema : $\\omega = \\sqrt{\\frac{k}{m} }$,\n",
    "- razón (o tasa) de amortiguamiento: $\\zeta = \\frac{c}{C_c}$, donde $C_c = 2 \\sqrt{k m} = 2 m \\omega$ es el coeficiente de amortiguamiento crítico. Así $\\frac{c}{m} = \\frac{C_c \\zeta}{m} = \\frac{2 m \\omega \\zeta}{m} = 2 \\omega \\zeta$"
   ]
  },
  {
   "cell_type": "code",
   "execution_count": null,
   "metadata": {},
   "outputs": [],
   "source": [
    "omega, zeta = sym.symbols('omega zeta', real = True)\n",
    "x_EL_ing = x_EL_masa.subs([(k/m, omega**2), (c/m, 2* zeta* omega) ]).simplify()\n",
    "sym.Eq((x_EL_ing).expand(), 0)"
   ]
  },
  {
   "cell_type": "markdown",
   "metadata": {},
   "source": [
    "La solución en términos de exponenciales complejas"
   ]
  },
  {
   "cell_type": "code",
   "execution_count": null,
   "metadata": {},
   "outputs": [],
   "source": [
    "x_EL_ing_sol = sym.dsolve(x_EL_ing)\n",
    "x_EL_ing_sol.simplify()"
   ]
  },
  {
   "cell_type": "markdown",
   "metadata": {},
   "source": [
    "es una combinación lineal de las dos posible soluciones, pesadas por los coeficientes $C_i$."
   ]
  },
  {
   "cell_type": "markdown",
   "metadata": {},
   "source": [
    "### Periodo de relajación $\\tau$\n",
    "Independientemente del comportamiento que presente $x(t)$ en función de $\\zeta$, el término $\\operatorname{e}^{- \\omega \\zeta t}$ se encarga de ir reduciendo la amplitud a medida que aumenta $t$.\n",
    "De hecho cada vez que transcurre este **período de relajación** $\\tau = \\frac{1}{\\omega \\zeta}$ la amplitud decae en $\\operatorname{e}^{-1}$.\n",
    "Se considera que trancurrido $\\sim 10 \\tau$ la oscilación se considera extinta."
   ]
  },
  {
   "cell_type": "markdown",
   "metadata": {},
   "source": [
    "### Críticamente amortiguado, $\\zeta = 1$\n",
    "Si $\\zeta = 1$ se logra el comportamiento más sencillo"
   ]
  },
  {
   "cell_type": "code",
   "execution_count": null,
   "metadata": {},
   "outputs": [],
   "source": [
    "x_crit = x_EL_ing_sol.subs(zeta,1).simplify()\n",
    "x_crit"
   ]
  },
  {
   "cell_type": "markdown",
   "metadata": {},
   "source": [
    "que se trata de un acercamiento exponencial a la posición de equilibrio. "
   ]
  },
  {
   "cell_type": "markdown",
   "metadata": {},
   "source": [
    "Para visualizar estos comportamientos pueden determinarse los $C_i$ en función de los $x$ y $\\dot{x}$ conocidos en un determinado $t$, las llamadas condiciones iniciales.\n",
    "\n",
    "Si para $t_0 = 0$ conocemos $x_0 = x(t_0)$ y $\\dot{x}_0 = \\dot{x}(t_0)$"
   ]
  },
  {
   "cell_type": "code",
   "execution_count": null,
   "metadata": {},
   "outputs": [],
   "source": [
    "x_0, dx_0 = sym.symbols('x_0 \\dot{x}_0', real=True)\n",
    "crit_condInic = [sym.Eq(x_0, x_crit.args[1].subs(t, 0) ), sym.Eq(dx_0, x_crit.args[1].diff(t).subs(t, 0) ) ]\n",
    "crit_condInic"
   ]
  },
  {
   "cell_type": "markdown",
   "metadata": {},
   "source": [
    "de las que pueden despejarse los $C_i$ "
   ]
  },
  {
   "cell_type": "code",
   "execution_count": null,
   "metadata": {},
   "outputs": [],
   "source": [
    "crit_condInic_sol = sym.solve(crit_condInic)\n",
    "crit_condInic_sol"
   ]
  },
  {
   "cell_type": "code",
   "execution_count": null,
   "metadata": {},
   "outputs": [],
   "source": [
    "x_crit_condInic = x_crit.subs(crit_condInic_sol[0] )\n",
    "x_crit_condInic.simplify()"
   ]
  },
  {
   "cell_type": "markdown",
   "metadata": {},
   "source": [
    "Si por ejemplo asignamos"
   ]
  },
  {
   "cell_type": "code",
   "execution_count": null,
   "metadata": {},
   "outputs": [],
   "source": [
    "k = 100 # [N m-1]\n",
    "m = 1 # [kg]\n",
    "x_0_magnitud = 1 # [m]\n",
    "dx_0_magnitud = -100 # [m s-1]\n",
    "\n",
    "parametros ={\n",
    "    x_0 : x_0_magnitud,\n",
    "    dx_0 : dx_0_magnitud,\n",
    "    omega : sym.sqrt(k/m)\n",
    "}\n",
    "x_crit_parametros = x_crit_condInic.subs(parametros)\n",
    "x_crit_parametros"
   ]
  },
  {
   "cell_type": "code",
   "execution_count": null,
   "metadata": {},
   "outputs": [],
   "source": [
    "sym.plot(x_crit_parametros.rhs, (t,0, 5), ylabel='x [m]', xlabel='t [s]') "
   ]
  },
  {
   "cell_type": "markdown",
   "metadata": {},
   "source": [
    "### Sobreamortiguado, $\\zeta > 1$\n",
    "Si el amortiguamiento es aún más pronunciado, e.g. $\\zeta = 2$"
   ]
  },
  {
   "cell_type": "code",
   "execution_count": null,
   "metadata": {},
   "outputs": [],
   "source": [
    "x_sobre = x_EL_ing_sol.subs(zeta, 2).simplify()\n",
    "x_sobre"
   ]
  },
  {
   "cell_type": "markdown",
   "metadata": {},
   "source": [
    "también habrá un acercamiento exponencial a $x=0$, pero puede haber violentas oscilaciones antes de alcanzar el punto de equilibrio."
   ]
  },
  {
   "cell_type": "code",
   "execution_count": null,
   "metadata": {},
   "outputs": [],
   "source": [
    "sobre_condInic = [sym.Eq(x_0, x_sobre.args[1].subs(t, 0) ), sym.Eq(dx_0, x_sobre.args[1].diff(t).subs(t, 0) ) ]\n",
    "sobre_condInic_sol = sym.solve(sobre_condInic)\n",
    "x_sobre_condInic = x_sobre.subs(sobre_condInic_sol[0] )\n",
    "x_sobre_condInic.simplify()"
   ]
  },
  {
   "cell_type": "markdown",
   "metadata": {},
   "source": [
    "Con las mismas condiciones iniciales"
   ]
  },
  {
   "cell_type": "code",
   "execution_count": null,
   "metadata": {},
   "outputs": [],
   "source": [
    "x_sobre_parametros = x_sobre_condInic.subs(parametros)\n",
    "sym.plot(x_sobre_parametros.rhs, (t,0, 5), ylabel='x [m]', xlabel='t [s]') "
   ]
  },
  {
   "cell_type": "markdown",
   "metadata": {},
   "source": [
    "### Subamortiguado, $0< \\zeta < 1$\n",
    "El caso más frecuente es cuando se busca que la amortiguación no sea brusca   "
   ]
  },
  {
   "cell_type": "code",
   "execution_count": null,
   "metadata": {},
   "outputs": [],
   "source": [
    "x_sub = x_EL_ing_sol.subs(zeta, 0.2)\n",
    "x_sub"
   ]
  },
  {
   "cell_type": "markdown",
   "metadata": {},
   "source": [
    "Las exponenciales complejas con $i t$ pueden re-escribirse como funciones trigonométricas con igualdad de Euler $\\mathrm{e}^{\\pm i \\theta}= \\cos{\\theta}+ i \\sin{\\theta}$.\n",
    "\n",
    "$$\n",
    "x= \\left[ (C_1+ C_2) \\cos{\\omega t} + i(C_1- C_2) \\sin{\\omega t} \\right] \\operatorname{e}^{- \\zeta \\omega t}\n",
    "$$\n",
    "que presenta se observara una reducción de la amplitud de las oscilaciones en torno a la posición de equilibrio.\n"
   ]
  },
  {
   "cell_type": "markdown",
   "metadata": {},
   "source": [
    "y escribir una solución de la dinámica en función de tales condiciones"
   ]
  },
  {
   "cell_type": "code",
   "execution_count": null,
   "metadata": {},
   "outputs": [],
   "source": [
    "sub_condInic = [sym.Eq(x_0, x_sub.args[1].subs(t, 0) ), sym.Eq(dx_0, x_sub.args[1].diff(t).subs(t, 0) ) ]\n",
    "sub_condInic_sol = sym.solve(sub_condInic)\n",
    "x_sub_condInic = x_sub.subs(sub_condInic_sol[0] )\n",
    "x_sub_condInic"
   ]
  },
  {
   "cell_type": "code",
   "execution_count": null,
   "metadata": {},
   "outputs": [],
   "source": [
    "x_sub_parametros = x_sub_condInic.subs(parametros)\n",
    "sym.plot(x_sub_parametros.rhs, (t,0, 5), ylabel='x [m]', xlabel='t [s]') "
   ]
  },
  {
   "cell_type": "markdown",
   "metadata": {},
   "source": [
    "### No amortiguado, $\\zeta = 0$"
   ]
  },
  {
   "cell_type": "code",
   "execution_count": null,
   "metadata": {},
   "outputs": [],
   "source": [
    "x_noAmortiguado = x_EL_ing_sol.subs(zeta, 0)\n",
    "x_noAmortiguado"
   ]
  },
  {
   "cell_type": "code",
   "execution_count": null,
   "metadata": {},
   "outputs": [],
   "source": [
    "noAmortiguado_condInic = [sym.Eq(x_0, x_noAmortiguado.args[1].subs(t, 0) ), sym.Eq(dx_0, x_noAmortiguado.args[1].diff(t).subs(t, 0) ) ]\n",
    "noAmortiguado_condInic_sol = sym.solve(noAmortiguado_condInic)\n",
    "x_noAmortiguado_condInic = x_noAmortiguado.subs(noAmortiguado_condInic_sol[0] )\n",
    "x_noAmortiguado_condInic"
   ]
  },
  {
   "cell_type": "code",
   "execution_count": null,
   "metadata": {},
   "outputs": [],
   "source": [
    "x_noAmortiguado_parametros = x_noAmortiguado_condInic.subs(parametros)\n",
    "sym.plot(x_noAmortiguado_parametros.rhs, (t,0, 5), ylabel='x [m]', xlabel='t [s]') "
   ]
  }
 ],
 "metadata": {
  "kernelspec": {
   "display_name": "Python 3",
   "language": "python",
   "name": "python3"
  },
  "language_info": {
   "codemirror_mode": {
    "name": "ipython",
    "version": 3
   },
   "file_extension": ".py",
   "mimetype": "text/x-python",
   "name": "python",
   "nbconvert_exporter": "python",
   "pygments_lexer": "ipython3",
   "version": "3.7.3"
  }
 },
 "nbformat": 4,
 "nbformat_minor": 4
}
