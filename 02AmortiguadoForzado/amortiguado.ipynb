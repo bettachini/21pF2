{
 "cells": [
  {
   "cell_type": "markdown",
   "metadata": {},
   "source": [
    "# Oscilador armónico amortiguado"
   ]
  },
  {
   "cell_type": "markdown",
   "metadata": {},
   "source": [
    "![Departamento de Física, Facultad de Ciencias Exactas y Naturales, Universidad de Buenos Aires](figuras/logoDF.png \"DF, FCEyN, UBA\")  \n",
    "©2021 [Víctor A. Bettachini](mailto:bettachini@df.uba.ar)  \n",
    "\n",
    "----"
   ]
  },
  {
   "cell_type": "markdown",
   "metadata": {},
   "source": [
    "## Amortiguación proporcional a la velocidad\n",
    "<!--\n",
    "![](figuras/shabana1996_fig5_6.png)  \n",
    "-->\n",
    "![](figuras/shabana_fig_1_11.png)  \n",
    "La dinámica del sistema de la figura estará determinada por  \n",
    "- m : masa\n",
    "- k : rigidez (_stiffness_) de un resorte que proveé una fuerza elástica según el modelo de Hooke, $\\vec{F}_\\mathrm{elástica} = - k x \\hat{x}$\n",
    "- c : coeficiente de la fuerza de amortiguación modelizada lineal con la velocidad, provista por un amortiguador en cuyo interior un pistón está sumergido en un fluido viscoso como el aceite, $\\vec{F}_\\mathrm{amortiguación} = - c \\dot{x} \\hat{x}$\n",
    "- F(t) : un fuerza externa arbitaria en el tiempo que eventualmente lo saque del equilibrio. "
   ]
  },
  {
   "cell_type": "code",
   "execution_count": 1,
   "metadata": {},
   "outputs": [],
   "source": [
    "import sympy as sym # biblioteca de cálculo simbólico\n",
    "import sympy.physics.mechanics as mech # funciones para mecánica\n",
    "mech.init_vprinting() # notación con puntos para derivadas temporales"
   ]
  },
  {
   "cell_type": "code",
   "execution_count": 2,
   "metadata": {},
   "outputs": [],
   "source": [
    "t = sym.symbols('t') # tiempo\n",
    "m, k, c = sym.symbols('m, k, c', positive = True) # características del sistema, magnitudes positivas\n",
    "x, F = mech.dynamicsymbols('x, F') # coordenada y fuerza externa"
   ]
  },
  {
   "cell_type": "code",
   "execution_count": 3,
   "metadata": {},
   "outputs": [
    {
     "data": {
      "image/png": "[encoded data removed]",
      "text/latex": [
       "$\\displaystyle V = \\frac{k x^{2}}{2}$"
      ],
      "text/plain": [
       "       2\n",
       "    k⋅x \n",
       "V = ────\n",
       "     2  "
      ]
     },
     "execution_count": 3,
     "metadata": {},
     "output_type": "execute_result"
    }
   ],
   "source": [
    "unMedio = sym.Rational(1,2) # Rational: fracción de enteros, alternativamente podría haberse usado 0.5 \n",
    "V = sym.Eq( sym.Symbol('V'), unMedio* k* x**2) # Energía potencial\n",
    "V"
   ]
  },
  {
   "cell_type": "markdown",
   "metadata": {},
   "source": [
    "En los sistemas que vimos siempre las fuerzas se obtenian de potenciales, es decir son conservativas, y en ese caso la 2.a ley de Newton sería"
   ]
  },
  {
   "cell_type": "code",
   "execution_count": 4,
   "metadata": {},
   "outputs": [
    {
     "data": {
      "image/png": "[encoded data removed]",
      "text/latex": [
       "$\\displaystyle m \\ddot{x} = - k x$"
      ],
      "text/plain": [
       "m⋅ẍ = -k⋅x"
      ]
     },
     "execution_count": 4,
     "metadata": {},
     "output_type": "execute_result"
    }
   ],
   "source": [
    "segundaLey_conservativas = sym.Eq( m* x.diff(t,2), -V.rhs.diff(x) ) # diff: deriva, rhs: lado derecho de ecuación\n",
    "segundaLey_conservativas"
   ]
  },
  {
   "cell_type": "markdown",
   "metadata": {},
   "source": [
    "Pero en este caso no se pude soslayar que hay fuerzas no conservativas actuando sobre el sistema.  \n",
    "![](figuras/shabana_fig_1_11b.png)"
   ]
  },
  {
   "cell_type": "code",
   "execution_count": 5,
   "metadata": {},
   "outputs": [
    {
     "data": {
      "image/png": "[encoded data removed]",
      "text/latex": [
       "$\\displaystyle F_{nc} = - c \\dot{x} + F$"
      ],
      "text/plain": [
       "F_{nc} = -c⋅ẋ + F"
      ]
     },
     "execution_count": 5,
     "metadata": {},
     "output_type": "execute_result"
    }
   ],
   "source": [
    "f_NoConservativas = sym.Eq(sym.Symbol('F_{nc}'), F - c* x.diff(t) )\n",
    "f_NoConservativas"
   ]
  },
  {
   "cell_type": "markdown",
   "metadata": {},
   "source": [
    "No debemos olvidar estas fuerzas en el lado derecho de la 2.a ley."
   ]
  },
  {
   "cell_type": "code",
   "execution_count": 6,
   "metadata": {},
   "outputs": [
    {
     "data": {
      "image/png": "[encoded data removed]",
      "text/latex": [
       "$\\displaystyle m \\ddot{x} = - c \\dot{x} - k x + F$"
      ],
      "text/plain": [
       "m⋅ẍ = -c⋅ẋ - k⋅x + F"
      ]
     },
     "execution_count": 6,
     "metadata": {},
     "output_type": "execute_result"
    }
   ],
   "source": [
    "segundaLey = sym.Eq( m* x.diff(t,2), -V.rhs.diff(x)+ f_NoConservativas.rhs )\n",
    "segundaLey"
   ]
  },
  {
   "cell_type": "markdown",
   "metadata": {},
   "source": [
    "## Dinámica\n",
    "Esta ecuación diferencial lineal de segundo orden no es homogénea a causa de $F(t)$."
   ]
  },
  {
   "cell_type": "code",
   "execution_count": 7,
   "metadata": {},
   "outputs": [
    {
     "data": {
      "image/png": "[encoded data removed]",
      "text/latex": [
       "$\\displaystyle c \\dot{x} + k x + m \\ddot{x} = F$"
      ],
      "text/plain": [
       "c⋅ẋ + k⋅x + m⋅ẍ = F"
      ]
     },
     "execution_count": 7,
     "metadata": {},
     "output_type": "execute_result"
    }
   ],
   "source": [
    "x_Dinámica_noHomogénea = sym.solve(segundaLey, F)[0] # despeja F\n",
    "sym.Eq( x_Dinámica_noHomogénea, F) "
   ]
  },
  {
   "cell_type": "markdown",
   "metadata": {},
   "source": [
    "Analizaremos primero la solución para el caso homogéneo, esto es si $F = 0$."
   ]
  },
  {
   "cell_type": "code",
   "execution_count": 8,
   "metadata": {},
   "outputs": [
    {
     "data": {
      "image/png": "[encoded data removed]",
      "text/latex": [
       "$\\displaystyle c \\dot{x} + k x + m \\ddot{x} = 0$"
      ],
      "text/plain": [
       "c⋅ẋ + k⋅x + m⋅ẍ = 0"
      ]
     },
     "execution_count": 8,
     "metadata": {},
     "output_type": "execute_result"
    }
   ],
   "source": [
    "x_Dinámica_Homogénea =  x_Dinámica_noHomogénea.subs(F,0)\n",
    "sym.Eq(x_Dinámica_Homogénea, 0)"
   ]
  },
  {
   "cell_type": "markdown",
   "metadata": {},
   "source": [
    "Esta ecuación se suele normalizar por la masa"
   ]
  },
  {
   "cell_type": "code",
   "execution_count": 9,
   "metadata": {},
   "outputs": [
    {
     "data": {
      "image/png": "[encoded data removed]",
      "text/latex": [
       "$\\displaystyle \\frac{c \\dot{x}}{m} + \\frac{k x}{m} + \\ddot{x} = 0$"
      ],
      "text/plain": [
       "c⋅ẋ   k⋅x        \n",
       "─── + ─── + ẍ = 0\n",
       " m     m         "
      ]
     },
     "execution_count": 9,
     "metadata": {},
     "output_type": "execute_result"
    }
   ],
   "source": [
    "x_Dinámica_masa = (x_Dinámica_Homogénea/ m).expand()\n",
    "sym.Eq(x_Dinámica_masa, 0)"
   ]
  },
  {
   "cell_type": "markdown",
   "metadata": {},
   "source": [
    "y asignarle símbolos particulares a los coeficientes de $x$ y $\\dot{x}$:\n",
    "- $\\omega^2 = \\frac{k}{m}$, siendo $\\omega$ la frecuencia natural de oscilación del sistema \n",
    "- $\\Gamma = \\frac{c}{m}$. En algunos textos de física $\\gamma$. En ingeniería se usa $\\zeta = \\frac{c}{m} \\frac{1}{2 \\omega}$."
   ]
  },
  {
   "cell_type": "code",
   "execution_count": 10,
   "metadata": {},
   "outputs": [
    {
     "data": {
      "image/png": "[encoded data removed]",
      "text/latex": [
       "$\\displaystyle \\Gamma \\dot{x} + \\omega^{2} x + \\ddot{x} = 0$"
      ],
      "text/plain": [
       "       2          \n",
       "Γ⋅ẋ + ω ⋅x + ẍ = 0"
      ]
     },
     "execution_count": 10,
     "metadata": {},
     "output_type": "execute_result"
    }
   ],
   "source": [
    "omega, Gamma = sym.symbols('omega, Gamma', real=True)\n",
    "x_Dinámica_masa = x_Dinámica_masa.subs([(k/m, omega**2), (c/m, Gamma) ])\n",
    "sym.Eq(x_Dinámica_masa, 0)"
   ]
  },
  {
   "cell_type": "markdown",
   "metadata": {},
   "source": [
    "Cuando se repasó el análisis de pequeñas oscilaciones del **péndulo ideal** se vió que puede proponerse una solución con una exponencial compleja\n",
    "$$\n",
    "    x = \\operatorname{e}^{\\lambda t},\n",
    "$$\n",
    "en cuyo caso esta ecuación queda\n",
    "$$\n",
    "    \\left( \\Gamma \\lambda + \\omega^2 +\\lambda^2 \\right) \\mathrm{e}^{\\lambda t} = 0,\n",
    "$$\n",
    "que como se busca una solución no trivial obliga a que el término entre paréntesis sea nulo\n",
    "$$\n",
    "    \\lambda^2 + \\Gamma \\lambda + \\omega^2 = 0.\n",
    "$$\n",
    "Resolviendo tal ecuación cuadrática para $\\lambda$ se obtiene\n",
    "$$\n",
    "    \\lambda = \\frac{1}{2} \\left( -\\Gamma \\pm \\sqrt{\\Gamma^2 - 4 \\omega^2} \\right).\n",
    "$$\n",
    "Como hay dos posibles $\\lambda$, la solución será una combinación lineal de las dos posibles soluciones pesadas por coeficientes que llamaremos $C_i$\n",
    "$$\n",
    "    \\boxed{\n",
    "    x = C_1 \\operatorname{e}^{\\frac{1}{2} \\left( -\\Gamma - \\sqrt{\\Gamma^2 - 4 \\omega^2} \\right) t} + C_2 \\operatorname{e}^{\\frac{1}{2} \\left( -\\Gamma + \\sqrt{\\Gamma^2 - 4 \\omega^2} \\right) t}\n",
    "    }.\n",
    "$$\n",
    "\n",
    "Idéntico resultado puede obtener Python con la biblioteca de cálculo simbólico `sympy` a través de su función de resolución de ecuaciones diferenciales ordinarias `dsolve`:"
   ]
  },
  {
   "cell_type": "code",
   "execution_count": 11,
   "metadata": {},
   "outputs": [
    {
     "data": {
      "image/png": "[encoded data removed]",
      "text/latex": [
       "$\\displaystyle x = C_{1} e^{\\frac{t \\left(- \\Gamma - \\sqrt{\\Gamma^{2} - 4 \\omega^{2}}\\right)}{2}} + C_{2} e^{\\frac{t \\left(- \\Gamma + \\sqrt{\\Gamma^{2} - 4 \\omega^{2}}\\right)}{2}}$"
      ],
      "text/plain": [
       "          ⎛        ___________⎞         ⎛        ___________⎞\n",
       "          ⎜       ╱  2      2 ⎟         ⎜       ╱  2      2 ⎟\n",
       "        t⋅⎝-Γ - ╲╱  Γ  - 4⋅ω  ⎠       t⋅⎝-Γ + ╲╱  Γ  - 4⋅ω  ⎠\n",
       "        ───────────────────────       ───────────────────────\n",
       "                   2                             2           \n",
       "x = C₁⋅ℯ                        + C₂⋅ℯ                       "
      ]
     },
     "execution_count": 11,
     "metadata": {},
     "output_type": "execute_result"
    }
   ],
   "source": [
    "x_Dinámica_sol = sym.dsolve(x_Dinámica_masa) # dsolve: resuelve ecuaciones diferenciales\n",
    "x_Dinámica_sol"
   ]
  },
  {
   "cell_type": "markdown",
   "metadata": {},
   "source": [
    "## Analizando la solución"
   ]
  },
  {
   "cell_type": "markdown",
   "metadata": {},
   "source": [
    "Lo primero que salta a la vista es que hay un factor común\n",
    "$$\n",
    "\\operatorname{e}^{- \\frac{\\Gamma}{2} t},\n",
    "$$\n",
    "que paulatinamente irá reduciendo la amplitud de $x(t)$ y para $t \\to \\infty$ _matará_ la dinámica.\n",
    "Que tán rápido sucede esto se cuantifica con un **período de relajación** $\\tau = 2 \\Gamma^{-1}$ en que la amplitud decae en $\\operatorname{e}^{-1}$.\n",
    "A los fines experimentales se considera que trancurrido $\\sim 10 \\tau$ la oscilación se considera extinta."
   ]
  },
  {
   "cell_type": "markdown",
   "metadata": {},
   "source": [
    "Es evidente que la relación del amortiguamiento $\\Gamma$ y la frecuencia de oscilación $\\omega$ determina la dinámica. Si\n",
    "- $\\Gamma^2 = 0$ debiera recuperse el caso de oscilador libre,\n",
    "- $\\Gamma^2 < 4 \\omega^2$ la raiz da un complejo dándonos oscilaciones,\n",
    "- $\\Gamma^2 = 4 \\omega^2$ solo queda el factor común visto, y\n",
    "- $\\Gamma^2 > 4 \\omega^2$ el amortiguamiento no da tiempo a múltiples oscilaciones."
   ]
  },
  {
   "cell_type": "markdown",
   "metadata": {},
   "source": [
    "## No amortiguado"
   ]
  },
  {
   "cell_type": "markdown",
   "metadata": {},
   "source": [
    "Si no hay amortiguamiento, $\\Gamma = 0$, debiera recuperarse la solución para el oscilador libre"
   ]
  },
  {
   "cell_type": "code",
   "execution_count": 12,
   "metadata": {},
   "outputs": [
    {
     "data": {
      "image/png": "[encoded data removed]",
      "text/latex": [
       "$\\displaystyle x = C_{1} e^{- i t \\left|{\\omega}\\right|} + C_{2} e^{i t \\left|{\\omega}\\right|}$"
      ],
      "text/plain": [
       "        -ⅈ⋅t⋅│ω│       ⅈ⋅t⋅│ω│\n",
       "x = C₁⋅ℯ         + C₂⋅ℯ       "
      ]
     },
     "execution_count": 12,
     "metadata": {},
     "output_type": "execute_result"
    }
   ],
   "source": [
    "x_noAmortiguado = x_Dinámica_sol.subs(Gamma, 0)\n",
    "x_noAmortiguado"
   ]
  },
  {
   "cell_type": "markdown",
   "metadata": {},
   "source": [
    "Como $\\omega$ en principio podría ser cualquier número real `sympy` muy conservadoramente da la solución con $|\\omega|$.\n",
    "Pero esto no es matemática, sino física y no tienen sentido un $\\omega < 0$.\n",
    "Se substituye $|\\omega|$ con $\\omega$ para ahorrarse dolores de cabeza."
   ]
  },
  {
   "cell_type": "code",
   "execution_count": 13,
   "metadata": {},
   "outputs": [
    {
     "data": {
      "image/png": "[encoded data removed]",
      "text/latex": [
       "$\\displaystyle x = C_{1} e^{- i \\omega t} + C_{2} e^{i \\omega t}$"
      ],
      "text/plain": [
       "        -ⅈ⋅ω⋅t       ⅈ⋅ω⋅t\n",
       "x = C₁⋅ℯ       + C₂⋅ℯ     "
      ]
     },
     "execution_count": 13,
     "metadata": {},
     "output_type": "execute_result"
    }
   ],
   "source": [
    "x_noAmortiguado = x_noAmortiguado.subs(sym.Abs(omega), omega)\n",
    "x_noAmortiguado"
   ]
  },
  {
   "cell_type": "markdown",
   "metadata": {},
   "source": [
    "Para visualizar estos comportamientos pueden determinarse los $C_i$ en función de los $x$ y $\\dot{x}$ conocidos en un determinado $t$, las llamadas condiciones iniciales.\n",
    "\n",
    "Si para $t_0 = 0$ se conocen $x_0 = x(t_0)$ y $\\dot{x}_0 = \\dot{x}(t_0)$"
   ]
  },
  {
   "cell_type": "code",
   "execution_count": 14,
   "metadata": {},
   "outputs": [],
   "source": [
    "x_0, dx_0 = sym.symbols('x_0 \\dot{x}_0', real=True)"
   ]
  },
  {
   "cell_type": "markdown",
   "metadata": {},
   "source": [
    "se los sustituye en la solución y su derivada para obtener los $C_i$"
   ]
  },
  {
   "cell_type": "code",
   "execution_count": 15,
   "metadata": {},
   "outputs": [
    {
     "data": {
      "image/png": "[encoded data removed]",
      "text/latex": [
       "$\\displaystyle x_{0} = C_{1} + C_{2}$"
      ],
      "text/plain": [
       "x₀ = C₁ + C₂"
      ]
     },
     "execution_count": 15,
     "metadata": {},
     "output_type": "execute_result"
    }
   ],
   "source": [
    "sym.Eq(x_0, x_noAmortiguado.args[1].subs(t, 0) )"
   ]
  },
  {
   "cell_type": "code",
   "execution_count": 16,
   "metadata": {},
   "outputs": [
    {
     "data": {
      "image/png": "[encoded data removed]",
      "text/latex": [
       "$\\displaystyle \\dot{x}_0 = - i C_{1} \\omega + i C_{2} \\omega$"
      ],
      "text/plain": [
       "\\dot{x}₀ = -ⅈ⋅C₁⋅ω + ⅈ⋅C₂⋅ω"
      ]
     },
     "execution_count": 16,
     "metadata": {},
     "output_type": "execute_result"
    }
   ],
   "source": [
    "sym.Eq(dx_0, x_noAmortiguado.args[1].diff(t).subs(t, 0) )"
   ]
  },
  {
   "cell_type": "code",
   "execution_count": 17,
   "metadata": {},
   "outputs": [
    {
     "data": {
      "image/png": "[encoded data removed]",
      "text/latex": [
       "$\\displaystyle \\left[ \\left\\{ C_{1} : \\frac{i \\left(\\dot{x}_0 - i \\omega x_{0}\\right)}{2 \\omega}, \\  C_{2} : - \\frac{i \\left(\\dot{x}_0 + i \\omega x_{0}\\right)}{2 \\omega}\\right\\}\\right]$"
      ],
      "text/plain": [
       "⎡⎧    ⅈ⋅(\\dot{x}₀ - ⅈ⋅ω⋅x₀)      -ⅈ⋅(\\dot{x}₀ + ⅈ⋅ω⋅x₀) ⎫⎤\n",
       "⎢⎨C₁: ─────────────────────, C₂: ───────────────────────⎬⎥\n",
       "⎣⎩             2⋅ω                         2⋅ω          ⎭⎦"
      ]
     },
     "execution_count": 17,
     "metadata": {},
     "output_type": "execute_result"
    }
   ],
   "source": [
    "noAmortiguado_condInic = [sym.Eq(x_0, x_noAmortiguado.args[1].subs(t, 0) ), sym.Eq(dx_0, x_noAmortiguado.args[1].diff(t).subs(t, 0) ) ]\n",
    "noAmortiguado_condInic_sol = sym.solve(noAmortiguado_condInic)\n",
    "noAmortiguado_condInic_sol"
   ]
  },
  {
   "cell_type": "markdown",
   "metadata": {},
   "source": [
    "Substituyendo estos $C_i$ ahora en función de $x(t_0)$ y $\\dot{x}(t_0)$ arribamos a la solución:"
   ]
  },
  {
   "cell_type": "code",
   "execution_count": 18,
   "metadata": {},
   "outputs": [
    {
     "data": {
      "image/png": "[encoded data removed]",
      "text/latex": [
       "$\\displaystyle x = \\frac{i \\left(\\dot{x}_0 - i \\omega x_{0}\\right) e^{- i \\omega t}}{2 \\omega} - \\frac{i \\left(\\dot{x}_0 + i \\omega x_{0}\\right) e^{i \\omega t}}{2 \\omega}$"
      ],
      "text/plain": [
       "                           -ⅈ⋅ω⋅t                          ⅈ⋅ω⋅t\n",
       "    ⅈ⋅(\\dot{x}₀ - ⅈ⋅ω⋅x₀)⋅ℯ         ⅈ⋅(\\dot{x}₀ + ⅈ⋅ω⋅x₀)⋅ℯ     \n",
       "x = ───────────────────────────── - ────────────────────────────\n",
       "                 2⋅ω                            2⋅ω             "
      ]
     },
     "execution_count": 18,
     "metadata": {},
     "output_type": "execute_result"
    }
   ],
   "source": [
    "x_noAmortiguado_condInic = x_noAmortiguado.subs(noAmortiguado_condInic_sol[0] )\n",
    "x_noAmortiguado_condInic"
   ]
  },
  {
   "cell_type": "markdown",
   "metadata": {},
   "source": [
    "Esta solución incluyendo las condiciones iniciales se corresponde con la vista para el **péndulo ideal**\n",
    "$$\n",
    "    x(t)= x_0 \\cos{(\\omega t)} +  \\frac{\\dot{x}_0}{\\omega} \\sin{(\\omega t)},\n",
    "$$\n",
    "basta con usar la fórmula de Euler, $\\mathrm{e}^{\\pm i \\theta}= \\cos{\\theta} \\pm i \\sin{\\theta}$,  para lograr una verificación analítica."
   ]
  },
  {
   "cell_type": "markdown",
   "metadata": {},
   "source": [
    "Pero no hay nada más práctico que un gráfico para verificar que la dinámica que detalla la solución es la esperada.\n",
    "Para confeccionarlo hay que asignar valores a los parámetros del sistema."
   ]
  },
  {
   "cell_type": "code",
   "execution_count": 19,
   "metadata": {},
   "outputs": [],
   "source": [
    "k = 100 # [N m-1]\n",
    "m = 1 # [kg]\n",
    "x_0_magnitud = -0.5 # [m] posición inicial\n",
    "dx_0_magnitud = 100 # [m s-1] velocidad inicial\n",
    "parámetros ={\n",
    "    x_0 : x_0_magnitud,\n",
    "    dx_0 : dx_0_magnitud,\n",
    "    omega : sym.sqrt(k/m)\n",
    "}"
   ]
  },
  {
   "cell_type": "code",
   "execution_count": 20,
   "metadata": {},
   "outputs": [
    {
     "data": {
      "image/png": "[encoded data removed]",
      "text/plain": [
       "<Figure size 432x288 with 1 Axes>"
      ]
     },
     "metadata": {
      "needs_background": "light"
     },
     "output_type": "display_data"
    },
    {
     "data": {
      "text/plain": [
       "<sympy.plotting.plot.Plot at 0x7fa9cec72f60>"
      ]
     },
     "execution_count": 20,
     "metadata": {},
     "output_type": "execute_result"
    }
   ],
   "source": [
    "x_noAmortiguado_parámetros = x_noAmortiguado_condInic.subs(parámetros)\n",
    "sym.plot(x_noAmortiguado_parámetros.rhs, (t,0, 5), ylabel='x [m]', xlabel='t [s]') "
   ]
  },
  {
   "cell_type": "markdown",
   "metadata": {},
   "source": [
    "## Subamortiguado"
   ]
  },
  {
   "cell_type": "markdown",
   "metadata": {},
   "source": [
    "Si $\\Gamma < 2 \\omega$ la reducción de la amplitud por el amortiguamiento será gradual y aún se verán oscilaciones.\n",
    "E.g. para un $\\Gamma$ de un décimo del crítico, $\\Gamma = \\frac{1}{10} 2 \\omega = \\frac{1}{5} \\omega$."
   ]
  },
  {
   "cell_type": "code",
   "execution_count": 21,
   "metadata": {},
   "outputs": [
    {
     "data": {
      "image/png": "[encoded data removed]",
      "text/latex": [
       "$\\displaystyle x = C_{1} e^{\\frac{t \\left(- \\frac{\\omega}{5} - \\frac{3 \\sqrt{11} i \\left|{\\omega}\\right|}{5}\\right)}{2}} + C_{2} e^{\\frac{t \\left(- \\frac{\\omega}{5} + \\frac{3 \\sqrt{11} i \\left|{\\omega}\\right|}{5}\\right)}{2}}$"
      ],
      "text/plain": [
       "          ⎛  ω   3⋅√11⋅ⅈ⋅│ω│⎞         ⎛  ω   3⋅√11⋅ⅈ⋅│ω│⎞\n",
       "        t⋅⎜- ─ - ───────────⎟       t⋅⎜- ─ + ───────────⎟\n",
       "          ⎝  5        5     ⎠         ⎝  5        5     ⎠\n",
       "        ─────────────────────       ─────────────────────\n",
       "                  2                           2          \n",
       "x = C₁⋅ℯ                      + C₂⋅ℯ                     "
      ]
     },
     "execution_count": 21,
     "metadata": {},
     "output_type": "execute_result"
    }
   ],
   "source": [
    "x_sub = x_Dinámica_sol.subs(Gamma, omega/ 5)\n",
    "x_sub"
   ]
  },
  {
   "cell_type": "markdown",
   "metadata": {},
   "source": [
    "además de las exponenciales complejas podría sacarse el factor común que reduce la amplitud.\n",
    "\n",
    "Nuevamente se substituye $|\\omega|$ por $\\omega$"
   ]
  },
  {
   "cell_type": "code",
   "execution_count": 22,
   "metadata": {},
   "outputs": [
    {
     "data": {
      "image/png": "[encoded data removed]",
      "text/latex": [
       "$\\displaystyle x = C_{1} e^{\\frac{t \\left(- \\frac{\\omega}{5} - \\frac{3 \\sqrt{11} i \\omega}{5}\\right)}{2}} + C_{2} e^{\\frac{t \\left(- \\frac{\\omega}{5} + \\frac{3 \\sqrt{11} i \\omega}{5}\\right)}{2}}$"
      ],
      "text/plain": [
       "          ⎛  ω   3⋅√11⋅ⅈ⋅ω⎞         ⎛  ω   3⋅√11⋅ⅈ⋅ω⎞\n",
       "        t⋅⎜- ─ - ─────────⎟       t⋅⎜- ─ + ─────────⎟\n",
       "          ⎝  5       5    ⎠         ⎝  5       5    ⎠\n",
       "        ───────────────────       ───────────────────\n",
       "                 2                         2         \n",
       "x = C₁⋅ℯ                    + C₂⋅ℯ                   "
      ]
     },
     "execution_count": 22,
     "metadata": {},
     "output_type": "execute_result"
    }
   ],
   "source": [
    "x_sub = x_sub.subs(sym.Abs(omega), omega)\n",
    "x_sub"
   ]
  },
  {
   "cell_type": "markdown",
   "metadata": {},
   "source": [
    "Se determinan los $C_i$ en función de $x_0, \\dot{x}_0$"
   ]
  },
  {
   "cell_type": "code",
   "execution_count": 23,
   "metadata": {},
   "outputs": [
    {
     "data": {
      "image/png": "[encoded data removed]",
      "text/latex": [
       "$\\displaystyle \\left[ \\left\\{ C_{1} : \\frac{5 \\sqrt{11} i \\dot{x}_0}{33 \\omega} + \\frac{x_{0}}{2} + \\frac{\\sqrt{11} i x_{0}}{66}, \\  C_{2} : - \\frac{5 \\sqrt{11} i \\dot{x}_0}{33 \\omega} + \\frac{x_{0}}{2} - \\frac{\\sqrt{11} i x_{0}}{66}\\right\\}\\right]$"
      ],
      "text/plain": [
       "⎡⎧    5⋅√11⋅ⅈ⋅\\dot{x}₀   x₀   √11⋅ⅈ⋅x₀        5⋅√11⋅ⅈ⋅\\dot{x}₀   x₀   √11⋅ⅈ⋅x₀\n",
       "⎢⎨C₁: ──────────────── + ── + ────────, C₂: - ──────────────── + ── - ────────\n",
       "⎣⎩          33⋅ω         2       66                 33⋅ω         2       66   \n",
       "\n",
       "⎫⎤\n",
       "⎬⎥\n",
       "⎭⎦"
      ]
     },
     "execution_count": 23,
     "metadata": {},
     "output_type": "execute_result"
    }
   ],
   "source": [
    "sub_condInic = [sym.Eq(x_0, x_sub.args[1].subs(t, 0) ), sym.Eq(dx_0, x_sub.args[1].diff(t).subs(t, 0) ) ]\n",
    "sub_condInic_sol = sym.solve(sub_condInic)\n",
    "sub_condInic_sol"
   ]
  },
  {
   "cell_type": "markdown",
   "metadata": {},
   "source": [
    "y se los reemplaza en la solución anterior"
   ]
  },
  {
   "cell_type": "code",
   "execution_count": 24,
   "metadata": {},
   "outputs": [
    {
     "data": {
      "image/png": "[encoded data removed]",
      "text/latex": [
       "$\\displaystyle x = \\left(- \\frac{5 \\sqrt{11} i \\dot{x}_0}{33 \\omega} + \\frac{x_{0}}{2} - \\frac{\\sqrt{11} i x_{0}}{66}\\right) e^{\\frac{t \\left(- \\frac{\\omega}{5} + \\frac{3 \\sqrt{11} i \\omega}{5}\\right)}{2}} + \\left(\\frac{5 \\sqrt{11} i \\dot{x}_0}{33 \\omega} + \\frac{x_{0}}{2} + \\frac{\\sqrt{11} i x_{0}}{66}\\right) e^{\\frac{t \\left(- \\frac{\\omega}{5} - \\frac{3 \\sqrt{11} i \\omega}{5}\\right)}{2}}$"
      ],
      "text/plain": [
       "                                            ⎛  ω   3⋅√11⋅ⅈ⋅ω⎞                 \n",
       "                                          t⋅⎜- ─ + ─────────⎟                 \n",
       "                                            ⎝  5       5    ⎠                 \n",
       "                                          ───────────────────                 \n",
       "    ⎛  5⋅√11⋅ⅈ⋅\\dot{x}₀   x₀   √11⋅ⅈ⋅x₀⎞           2            ⎛5⋅√11⋅ⅈ⋅\\dot{\n",
       "x = ⎜- ──────────────── + ── - ────────⎟⋅ℯ                    + ⎜─────────────\n",
       "    ⎝        33⋅ω         2       66   ⎠                        ⎝      33⋅ω   \n",
       "\n",
       "                        ⎛  ω   3⋅√11⋅ⅈ⋅ω⎞\n",
       "                      t⋅⎜- ─ - ─────────⎟\n",
       "                        ⎝  5       5    ⎠\n",
       "                      ───────────────────\n",
       "x}₀   x₀   √11⋅ⅈ⋅x₀⎞           2         \n",
       "─── + ── + ────────⎟⋅ℯ                   \n",
       "      2       66   ⎠                     "
      ]
     },
     "execution_count": 24,
     "metadata": {},
     "output_type": "execute_result"
    }
   ],
   "source": [
    "x_sub_condInic = x_sub.subs(sub_condInic_sol[0] )\n",
    "x_sub_condInic"
   ]
  },
  {
   "cell_type": "code",
   "execution_count": 25,
   "metadata": {},
   "outputs": [
    {
     "data": {
      "image/png": "[encoded data removed]",
      "text/plain": [
       "<Figure size 432x288 with 1 Axes>"
      ]
     },
     "metadata": {
      "needs_background": "light"
     },
     "output_type": "display_data"
    },
    {
     "data": {
      "text/plain": [
       "<sympy.plotting.plot.Plot at 0x7fa9ceb86eb8>"
      ]
     },
     "execution_count": 25,
     "metadata": {},
     "output_type": "execute_result"
    }
   ],
   "source": [
    "x_sub_parámetros = x_sub_condInic.subs(parámetros)\n",
    "sym.plot(x_sub_parámetros.rhs, (t,0, 5), ylabel='x [m]', xlabel='t [s]') "
   ]
  },
  {
   "cell_type": "markdown",
   "metadata": {},
   "source": [
    "La oscilación es perceptible aún por varios períodos de oscilación a medida que su amplitud se ve reducida por el factor de amortiguamiento $\\operatorname{e}^{-\\frac{\\Gamma}{2}}$.\n",
    "\n",
    "A no ser por este factor la solución es similar a la del caso sin amortiguamiento, pero con una frecuencia de oscilación menor que $\\omega$.\n",
    "¿Porqué menor?\n",
    "Recordemos la solución general para la dinámica."
   ]
  },
  {
   "cell_type": "code",
   "execution_count": 37,
   "metadata": {},
   "outputs": [
    {
     "data": {
      "image/png": "[encoded data removed]",
      "text/latex": [
       "$\\displaystyle x = C_{1} e^{\\frac{t \\left(- \\Gamma - \\sqrt{\\Gamma^{2} - 4 \\omega^{2}}\\right)}{2}} + C_{2} e^{\\frac{t \\left(- \\Gamma + \\sqrt{\\Gamma^{2} - 4 \\omega^{2}}\\right)}{2}}$"
      ],
      "text/plain": [
       "          ⎛        ___________⎞         ⎛        ___________⎞\n",
       "          ⎜       ╱  2      2 ⎟         ⎜       ╱  2      2 ⎟\n",
       "        t⋅⎝-Γ - ╲╱  Γ  - 4⋅ω  ⎠       t⋅⎝-Γ + ╲╱  Γ  - 4⋅ω  ⎠\n",
       "        ───────────────────────       ───────────────────────\n",
       "                   2                             2           \n",
       "x = C₁⋅ℯ                        + C₂⋅ℯ                       "
      ]
     },
     "execution_count": 37,
     "metadata": {},
     "output_type": "execute_result"
    }
   ],
   "source": [
    "x_Dinámica_sol"
   ]
  },
  {
   "cell_type": "markdown",
   "metadata": {},
   "source": [
    "Multiplicando a $\\operatorname{e}^{-\\frac{\\Gamma}{2}}$ en cada término hay otra exponencial\n",
    "$$\n",
    "    \\operatorname{e}^{\\pm \\frac{1}{2} \\sqrt{\\Gamma^2 - 4 \\omega^2}}.\n",
    "$$\n",
    "Como $\\Gamma < 2 \\omega$ la raiz en el argumento es negativa y es por eso que tenemos oscilaciones pues estas exponenciales se pueden re-escribir como funciones trigonométricas de frecuencia angular\n",
    "$$\n",
    "    \\omega' = \\frac{1}{2} \\left| \\sqrt{\\Gamma^2 - 4 \\omega^2} \\right|.\n",
    "$$\n",
    "Así la solución para el caso _sub-amortiguado_ la posición está descripta por la función\n",
    "$$\n",
    "    x(t)= \\operatorname{e}^{- \\frac{\\Gamma}{2} t} \\left[ x_0 \\cos(\\omega' t) + \\frac{\\dot{x}_0 + \\frac{\\Gamma}{2} x_0 }{\\omega} \\sin(\\omega' t) \\right].\n",
    "$$"
   ]
  },
  {
   "cell_type": "markdown",
   "metadata": {},
   "source": [
    "### Críticamente amortiguado\n",
    "Si $\\Gamma$ es corresponde exactamente con el crítico, $\\Gamma = 2 \\omega$, se logra el comportamiento más sencillo"
   ]
  },
  {
   "cell_type": "code",
   "execution_count": 38,
   "metadata": {},
   "outputs": [
    {
     "data": {
      "image/png": "[encoded data removed]",
      "text/latex": [
       "$\\displaystyle x = \\left(C_{1} + C_{2}\\right) e^{- \\omega t}$"
      ],
      "text/plain": [
       "               -ω⋅t\n",
       "x = (C₁ + C₂)⋅ℯ    "
      ]
     },
     "execution_count": 38,
     "metadata": {},
     "output_type": "execute_result"
    }
   ],
   "source": [
    "x_crit = x_Dinámica_sol.subs(Gamma, 2* omega).simplify()\n",
    "x_crit"
   ]
  },
  {
   "cell_type": "markdown",
   "metadata": {},
   "source": [
    "que se trata de un acercamiento exponencial a la posición de equilibrio. \n",
    "\n",
    "De las condiciones iniciales se obtienen los $C_i$"
   ]
  },
  {
   "cell_type": "code",
   "execution_count": 27,
   "metadata": {},
   "outputs": [
    {
     "data": {
      "image/png": "[encoded data removed]",
      "text/latex": [
       "$\\displaystyle \\left[ \\left\\{ C_{1} : - C_{2} + x_{0}, \\  \\dot{x}_0 : - \\omega x_{0}\\right\\}\\right]$"
      ],
      "text/plain": [
       "[{C₁: -C₂ + x₀, \\dot{x}₀: -ω⋅x₀}]"
      ]
     },
     "execution_count": 27,
     "metadata": {},
     "output_type": "execute_result"
    }
   ],
   "source": [
    "crit_condInic = [sym.Eq(x_0, x_crit.args[1].subs(t, 0) ), sym.Eq(dx_0, x_crit.args[1].diff(t).subs(t, 0) ) ]\n",
    "crit_condInic_sol = sym.solve(crit_condInic)\n",
    "crit_condInic_sol"
   ]
  },
  {
   "cell_type": "markdown",
   "metadata": {},
   "source": [
    "Substituyendo tales $C_i$ ahora en función de $x(t_0)$ y $\\dot{x}(t_0)$ arribamos a la solución:"
   ]
  },
  {
   "cell_type": "code",
   "execution_count": 28,
   "metadata": {},
   "outputs": [
    {
     "data": {
      "image/png": "[encoded data removed]",
      "text/latex": [
       "$\\displaystyle x = x_{0} e^{- \\omega t}$"
      ],
      "text/plain": [
       "        -ω⋅t\n",
       "x = x₀⋅ℯ    "
      ]
     },
     "execution_count": 28,
     "metadata": {},
     "output_type": "execute_result"
    }
   ],
   "source": [
    "x_crit_condInic = x_crit.subs(crit_condInic_sol[0] )\n",
    "x_crit_condInic.simplify()"
   ]
  },
  {
   "cell_type": "markdown",
   "metadata": {},
   "source": [
    "Con los mismos parámetros del sistema la solución es"
   ]
  },
  {
   "cell_type": "code",
   "execution_count": 29,
   "metadata": {},
   "outputs": [
    {
     "data": {
      "image/png": "[encoded data removed]",
      "text/latex": [
       "$\\displaystyle x = - 0.5 e^{- 10.0 t}$"
      ],
      "text/plain": [
       "          -10.0⋅t\n",
       "x = -0.5⋅ℯ       "
      ]
     },
     "execution_count": 29,
     "metadata": {},
     "output_type": "execute_result"
    }
   ],
   "source": [
    "x_crit_parámetros = x_crit_condInic.subs(parámetros)\n",
    "x_crit_parámetros"
   ]
  },
  {
   "cell_type": "markdown",
   "metadata": {},
   "source": [
    "Esta dependencia es fácilmente analizable en un gráfico:"
   ]
  },
  {
   "cell_type": "code",
   "execution_count": 30,
   "metadata": {},
   "outputs": [
    {
     "data": {
      "image/png": "[encoded data removed]",
      "text/plain": [
       "<Figure size 432x288 with 1 Axes>"
      ]
     },
     "metadata": {
      "needs_background": "light"
     },
     "output_type": "display_data"
    },
    {
     "data": {
      "text/plain": [
       "<sympy.plotting.plot.Plot at 0x7fa9cbed4438>"
      ]
     },
     "execution_count": 30,
     "metadata": {},
     "output_type": "execute_result"
    }
   ],
   "source": [
    "sym.plot(x_crit_parámetros.rhs, (t,0, 5), ylabel='x [m]', xlabel='t [s]') "
   ]
  },
  {
   "cell_type": "markdown",
   "metadata": {},
   "source": [
    "Claramente se ve un brusco efecto del amortiguamiento llevando rápidamente el sistema al equilibrio."
   ]
  },
  {
   "cell_type": "markdown",
   "metadata": {},
   "source": [
    "### Sobreamortiguado\n",
    "Si $\\Gamma > 2 \\omega $ el amortiguamiento es aún más pronunciado.\n",
    "E.g. para un $\\Gamma$ del doble del crítico, $\\Gamma = 2\\, 2 \\omega = 4 \\omega$, no habrá exponenciales complejas pero sí el factor común que reduce la amplitud."
   ]
  },
  {
   "cell_type": "code",
   "execution_count": 31,
   "metadata": {},
   "outputs": [
    {
     "data": {
      "image/png": "[encoded data removed]",
      "text/latex": [
       "$\\displaystyle x = C_{1} e^{\\frac{t \\left(- 4 \\omega - 2 \\sqrt{3} \\left|{\\omega}\\right|\\right)}{2}} + C_{2} e^{\\frac{t \\left(- 4 \\omega + 2 \\sqrt{3} \\left|{\\omega}\\right|\\right)}{2}}$"
      ],
      "text/plain": [
       "        t⋅(-4⋅ω - 2⋅√3⋅│ω│)       t⋅(-4⋅ω + 2⋅√3⋅│ω│)\n",
       "        ───────────────────       ───────────────────\n",
       "                 2                         2         \n",
       "x = C₁⋅ℯ                    + C₂⋅ℯ                   "
      ]
     },
     "execution_count": 31,
     "metadata": {},
     "output_type": "execute_result"
    }
   ],
   "source": [
    "x_sobre = x_Dinámica_sol.subs(Gamma, 4* omega)\n",
    "x_sobre"
   ]
  },
  {
   "cell_type": "markdown",
   "metadata": {},
   "source": [
    "También en este caso habrá un rápido acercamiento exponencial a $x=0$, pero con un comportamiento que puede ser desastroso en un sistema mecánico real.\n",
    "Lo veremos en breve.\n",
    "\n",
    "La usual sustitución $|\\omega|$ por $\\omega$"
   ]
  },
  {
   "cell_type": "code",
   "execution_count": 32,
   "metadata": {},
   "outputs": [
    {
     "data": {
      "image/png": "[encoded data removed]",
      "text/latex": [
       "$\\displaystyle x = C_{1} e^{\\frac{t \\left(- 4 \\omega - 2 \\sqrt{3} \\omega\\right)}{2}} + C_{2} e^{\\frac{t \\left(- 4 \\omega + 2 \\sqrt{3} \\omega\\right)}{2}}$"
      ],
      "text/plain": [
       "        t⋅(-4⋅ω - 2⋅√3⋅ω)       t⋅(-4⋅ω + 2⋅√3⋅ω)\n",
       "        ─────────────────       ─────────────────\n",
       "                2                       2        \n",
       "x = C₁⋅ℯ                  + C₂⋅ℯ                 "
      ]
     },
     "execution_count": 32,
     "metadata": {},
     "output_type": "execute_result"
    }
   ],
   "source": [
    "x_sobre = x_sobre.subs(sym.Abs(omega), omega)\n",
    "x_sobre"
   ]
  },
  {
   "cell_type": "markdown",
   "metadata": {},
   "source": [
    "y obtención de los $C_i$ a partir de las condiciones iniciales $x_0, \\dot{x}_0$"
   ]
  },
  {
   "cell_type": "code",
   "execution_count": 33,
   "metadata": {},
   "outputs": [
    {
     "data": {
      "image/png": "[encoded data removed]",
      "text/latex": [
       "$\\displaystyle \\left[ \\left\\{ C_{1} : - \\frac{\\sqrt{3} \\dot{x}_0}{6 \\omega} - \\frac{\\sqrt{3} x_{0}}{3} + \\frac{x_{0}}{2}, \\  C_{2} : \\frac{\\sqrt{3} \\dot{x}_0}{6 \\omega} + \\frac{x_{0}}{2} + \\frac{\\sqrt{3} x_{0}}{3}\\right\\}\\right]$"
      ],
      "text/plain": [
       "⎡⎧      √3⋅\\dot{x}₀   √3⋅x₀   x₀      √3⋅\\dot{x}₀   x₀   √3⋅x₀⎫⎤\n",
       "⎢⎨C₁: - ─────────── - ───── + ──, C₂: ─────────── + ── + ─────⎬⎥\n",
       "⎣⎩          6⋅ω         3     2           6⋅ω       2      3  ⎭⎦"
      ]
     },
     "execution_count": 33,
     "metadata": {},
     "output_type": "execute_result"
    }
   ],
   "source": [
    "sobre_condInic = [sym.Eq(x_0, x_sobre.args[1].subs(t, 0) ), sym.Eq(dx_0, x_sobre.args[1].diff(t).subs(t, 0) ) ]\n",
    "sobre_condInic_sol = sym.solve(sobre_condInic)\n",
    "sobre_condInic_sol"
   ]
  },
  {
   "cell_type": "code",
   "execution_count": 34,
   "metadata": {},
   "outputs": [
    {
     "data": {
      "image/png": "[encoded data removed]",
      "text/latex": [
       "$\\displaystyle x = \\left(- \\frac{\\sqrt{3} \\dot{x}_0}{6 \\omega} - \\frac{\\sqrt{3} x_{0}}{3} + \\frac{x_{0}}{2}\\right) e^{\\frac{t \\left(- 4 \\omega - 2 \\sqrt{3} \\omega\\right)}{2}} + \\left(\\frac{\\sqrt{3} \\dot{x}_0}{6 \\omega} + \\frac{x_{0}}{2} + \\frac{\\sqrt{3} x_{0}}{3}\\right) e^{\\frac{t \\left(- 4 \\omega + 2 \\sqrt{3} \\omega\\right)}{2}}$"
      ],
      "text/plain": [
       "                                  t⋅(-4⋅ω - 2⋅√3⋅ω)                           \n",
       "                                  ─────────────────                           \n",
       "    ⎛  √3⋅\\dot{x}₀   √3⋅x₀   x₀⎞          2           ⎛√3⋅\\dot{x}₀   x₀   √3⋅x\n",
       "x = ⎜- ─────────── - ───── + ──⎟⋅ℯ                  + ⎜─────────── + ── + ────\n",
       "    ⎝      6⋅ω         3     2 ⎠                      ⎝    6⋅ω       2      3 \n",
       "\n",
       "    t⋅(-4⋅ω + 2⋅√3⋅ω)\n",
       "    ─────────────────\n",
       "₀⎞          2        \n",
       "─⎟⋅ℯ                 \n",
       " ⎠                   "
      ]
     },
     "execution_count": 34,
     "metadata": {},
     "output_type": "execute_result"
    }
   ],
   "source": [
    "x_sobre_condInic = x_sobre.subs(sobre_condInic_sol[0] )\n",
    "x_sobre_condInic"
   ]
  },
  {
   "cell_type": "markdown",
   "metadata": {},
   "source": [
    "Sacando el factor común de una exponencial decreciente en el tiempo responsable de la disminución de la amplitud, $\\operatorname{e}^{-2 \\omega t}$, hay dos exponenciales reales con signo conjugado.\n",
    "Estas exponenciales pueden re-escribirse como funciones hiperbólicas haciendo uso de que $\\operatorname{e}^{\\pm\\theta} = \\cosh(\\theta) \\pm \\sinh(\\theta)$.\n",
    "Se llega a una solución\n",
    "$$\n",
    "    x(t)= \\operatorname{e}^{- \\frac{\\Gamma}{2} t} \\left[ x_0 \\cosh(\\omega' t) + \\frac{\\dot{x}_0 + \\frac{\\Gamma}{2} x_0}{\\omega} \\sinh(\\omega' t) \\right]\n",
    "    \\qquad \\omega' = \\frac{1}{2} \\sqrt{\\Gamma^2 - 4 \\omega^2} .\n",
    "$$\n",
    "\n",
    "A diferencia de sus parientes trigonométricos, tales funciones hiperbólicas se apartan rápidamente del cero. \n",
    "El efecto de esto se puede apreciar graficando la dinámica."
   ]
  },
  {
   "cell_type": "code",
   "execution_count": 35,
   "metadata": {},
   "outputs": [
    {
     "data": {
      "image/png": "[encoded data removed]",
      "text/plain": [
       "<Figure size 432x288 with 1 Axes>"
      ]
     },
     "metadata": {
      "needs_background": "light"
     },
     "output_type": "display_data"
    },
    {
     "data": {
      "text/plain": [
       "<sympy.plotting.plot.Plot at 0x7fa9cbed4a20>"
      ]
     },
     "execution_count": 35,
     "metadata": {},
     "output_type": "execute_result"
    }
   ],
   "source": [
    "x_sobre_parámetros = x_sobre_condInic.subs(parámetros)\n",
    "sym.plot(x_sobre_parámetros.rhs, (t,0, 5), ylabel='x [m]', xlabel='t [s]') "
   ]
  },
  {
   "cell_type": "markdown",
   "metadata": {},
   "source": [
    "Con las mismas condiciones iniciales que en el caso críticamente amortiguado se produjo un violento **sobre-tiro**.\n",
    "Esto no sucede necesariamente para cada condición inicial, pero el hecho de que sea posible de que se produzca está única pero muy rápida oscilación puede ser perjudicial para el sistema.\n",
    "Imagine si la amortiguación de un automóvil funcionará así: tras un pequeño bache se puede producir un gran salto que lo despegue del asfalto."
   ]
  }
 ],
 "metadata": {
  "kernelspec": {
   "display_name": "Python 3",
   "language": "python",
   "name": "python3"
  },
  "language_info": {
   "codemirror_mode": {
    "name": "ipython",
    "version": 3
   },
   "file_extension": ".py",
   "mimetype": "text/x-python",
   "name": "python",
   "nbconvert_exporter": "python",
   "pygments_lexer": "ipython3",
   "version": "3.7.3"
  }
 },
 "nbformat": 4,
 "nbformat_minor": 4
}
