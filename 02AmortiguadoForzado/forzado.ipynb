{
 "cells": [
  {
   "cell_type": "markdown",
   "metadata": {},
   "source": [
    "# Forzado armónico de un sistema de un único grado de libertad"
   ]
  },
  {
   "cell_type": "markdown",
   "metadata": {},
   "source": [
    "![Departamento de Física, Facultad de Ciencias Exactas y Naturales, Universidad de Buenos Aires](figuras/logoDF.png \"DF, FCEyN, UBA\")  \n",
    "©2021 [Víctor A. Bettachini](mailto:bettachini@df.uba.ar)  \n",
    "\n",
    "----"
   ]
  },
  {
   "cell_type": "markdown",
   "metadata": {},
   "source": [
    "## Sistema forzado\n",
    "![](figuras/shabana_fig_1_11.png)  \n",
    "La dinámica del sistema de la figura estará determinada por  \n",
    "- m : masa\n",
    "- k : rigidez (_stiffness_) de un resorte que proveé una fuerza elástica según el modelo de Hooke, $\\vec{F}_\\mathrm{elástica} = - k x \\hat{x}$\n",
    "- c : coeficiente de la fuerza de amortiguación modelizada lineal con la velocidad, provista por un amortiguador en cuyo interior un pistón está sumergido en un fluido viscoso como el aceite, $\\vec{F}_\\mathrm{amortiguación} = - c \\dot{x} \\hat{x}$\n",
    "- F(t) : un fuerza externa arbitaria en el tiempo que eventualmente lo saque del equilibrio. "
   ]
  },
  {
   "cell_type": "code",
   "execution_count": 1,
   "metadata": {},
   "outputs": [],
   "source": [
    "# biblioteca de cálculo simbólico\n",
    "import sympy as sym\n",
    "import sympy.physics.mechanics as mech\n",
    "mech.init_vprinting() # notación con puntos para derivadas temporales"
   ]
  },
  {
   "cell_type": "code",
   "execution_count": 2,
   "metadata": {},
   "outputs": [],
   "source": [
    "t = sym.symbols('t') # tiempo\n",
    "m, k, c = sym.symbols('m, k, c', positive = True)\n",
    "x, F = mech.dynamicsymbols('x F')"
   ]
  },
  {
   "cell_type": "markdown",
   "metadata": {},
   "source": [
    "Para una amortiguación proporcional con la velocidad la dinámica la describe"
   ]
  },
  {
   "cell_type": "code",
   "execution_count": 3,
   "metadata": {},
   "outputs": [
    {
     "data": {
      "image/png": "[encoded data removed]",
      "text/latex": [
       "$\\displaystyle c \\dot{x} + k x + m \\ddot{x} = F$"
      ],
      "text/plain": [
       "c⋅ẋ + k⋅x + m⋅ẍ = F"
      ]
     },
     "execution_count": 3,
     "metadata": {},
     "output_type": "execute_result"
    }
   ],
   "source": [
    "x_Dinámica = sym.Eq(m* x.diff(t,2) + c* x.diff(t) + k* x , F)\n",
    "x_Dinámica"
   ]
  },
  {
   "cell_type": "markdown",
   "metadata": {},
   "source": [
    "que en ingeniería suele escibirse normalizando por la masa"
   ]
  },
  {
   "cell_type": "code",
   "execution_count": 4,
   "metadata": {},
   "outputs": [
    {
     "data": {
      "image/png": "[encoded data removed]",
      "text/latex": [
       "$\\displaystyle \\frac{c \\dot{x}}{m} + \\frac{k x}{m} + \\ddot{x} = \\frac{F}{m}$"
      ],
      "text/plain": [
       "c⋅ẋ   k⋅x       F\n",
       "─── + ─── + ẍ = ─\n",
       " m     m        m"
      ]
     },
     "execution_count": 4,
     "metadata": {},
     "output_type": "execute_result"
    }
   ],
   "source": [
    "x_Dinámica_masa = sym.Eq( (x_Dinámica.lhs/ m).expand(), x_Dinámica.rhs/ m)\n",
    "x_Dinámica_masa"
   ]
  },
  {
   "cell_type": "code",
   "execution_count": 5,
   "metadata": {},
   "outputs": [
    {
     "data": {
      "image/png": "[encoded data removed]",
      "text/latex": [
       "$\\displaystyle \\frac{F}{m} = \\Gamma \\dot{x} + \\omega^{2} x + \\ddot{x}$"
      ],
      "text/plain": [
       "F          2      \n",
       "─ = Γ⋅ẋ + ω ⋅x + ẍ\n",
       "m                 "
      ]
     },
     "execution_count": 5,
     "metadata": {},
     "output_type": "execute_result"
    }
   ],
   "source": [
    "omega, Gamma = sym.symbols('omega, Gamma', real=True)\n",
    "x_Dinámica_omegaGamma = x_Dinámica_masa.subs([(k/m, omega**2), (c/m, Gamma) ]).simplify()\n",
    "x_Dinámica_omegaGamma"
   ]
  },
  {
   "cell_type": "markdown",
   "metadata": {},
   "source": [
    "## Forzado armónico\n",
    "Vimos que cuando $F = 0$ el movimiento se extingue más o menos rápido en función del $c$ de amortiguación, pero finalmente lo hace.\n",
    "En presencia de $F(t)$ igualmente la contribución de la solución de la ecuación homogénea se vá extinguiendo durante un inicial **transitorio**.\n",
    "Pasado este domina la dinámica una solución particular en función de $F(t)$ que impone un **estado estacionario** de oscilación.\n",
    "\n",
    "Se estudiará primero la respuesta el sistema con una fuerza armónica"
   ]
  },
  {
   "cell_type": "code",
   "execution_count": 6,
   "metadata": {},
   "outputs": [
    {
     "data": {
      "image/png": "[encoded data removed]",
      "text/latex": [
       "$\\displaystyle F = F_{0} \\sin{\\left(\\omega_{f} t \\right)}$"
      ],
      "text/plain": [
       "F = F₀⋅sin(ω_f⋅t)"
      ]
     },
     "execution_count": 6,
     "metadata": {},
     "output_type": "execute_result"
    }
   ],
   "source": [
    "F_0, omega_f = sym.symbols('F_0 omega_f', positive = True)\n",
    "F_armonica = F_0* sym.sin(omega_f* t)\n",
    "sym.Eq(F, F_armonica)"
   ]
  },
  {
   "cell_type": "markdown",
   "metadata": {},
   "source": [
    "La ecuación diferencial a resolver es "
   ]
  },
  {
   "cell_type": "code",
   "execution_count": 7,
   "metadata": {},
   "outputs": [
    {
     "data": {
      "image/png": "[encoded data removed]",
      "text/latex": [
       "$\\displaystyle \\frac{F_{0} \\sin{\\left(\\omega_{f} t \\right)}}{m} = \\Gamma \\dot{x} + \\omega^{2} x + \\ddot{x}$"
      ],
      "text/plain": [
       "F₀⋅sin(ω_f⋅t)          2      \n",
       "───────────── = Γ⋅ẋ + ω ⋅x + ẍ\n",
       "      m                       "
      ]
     },
     "execution_count": 7,
     "metadata": {},
     "output_type": "execute_result"
    }
   ],
   "source": [
    "x_forzadoArmónico = x_Dinámica_omegaGamma.expand().subs(F, F_armonica)\n",
    "x_forzadoArmónico"
   ]
  },
  {
   "cell_type": "markdown",
   "metadata": {},
   "source": [
    "Sabemos que substituyendo la solución particular que responde a tal forzado $x_p = A_1 \\cos{\\omega_f t} + A_2 \\sin{\\omega_f t}$ en la ecuación permite obtener los $A_i$.\n",
    "Pero `sympy` puede encargarse de todo el proceso y darnos $x = x_h + x_p$ directamente. "
   ]
  },
  {
   "cell_type": "code",
   "execution_count": 8,
   "metadata": {},
   "outputs": [
    {
     "data": {
      "image/png": "[encoded data removed]",
      "text/latex": [
       "$\\displaystyle x = C_{1} e^{\\frac{t \\left(- \\Gamma - \\sqrt{\\Gamma^{2} - 4 \\omega^{2}}\\right)}{2}} + C_{2} e^{\\frac{t \\left(- \\Gamma + \\sqrt{\\Gamma^{2} - 4 \\omega^{2}}\\right)}{2}} - \\frac{F_{0} \\Gamma \\omega_{f} \\cos{\\left(\\omega_{f} t \\right)}}{m \\left(\\Gamma^{2} \\omega_{f}^{2} + \\omega^{4} - 2 \\omega^{2} \\omega_{f}^{2} + \\omega_{f}^{4}\\right)} + \\frac{F_{0} \\omega^{2} \\sin{\\left(\\omega_{f} t \\right)}}{m \\left(\\Gamma^{2} \\omega_{f}^{2} + \\omega^{4} - 2 \\omega^{2} \\omega_{f}^{2} + \\omega_{f}^{4}\\right)} - \\frac{F_{0} \\omega_{f}^{2} \\sin{\\left(\\omega_{f} t \\right)}}{m \\left(\\Gamma^{2} \\omega_{f}^{2} + \\omega^{4} - 2 \\omega^{2} \\omega_{f}^{2} + \\omega_{f}^{4}\\right)}$"
      ],
      "text/plain": [
       "          ⎛        ___________⎞         ⎛        ___________⎞                 \n",
       "          ⎜       ╱  2      2 ⎟         ⎜       ╱  2      2 ⎟                 \n",
       "        t⋅⎝-Γ - ╲╱  Γ  - 4⋅ω  ⎠       t⋅⎝-Γ + ╲╱  Γ  - 4⋅ω  ⎠                 \n",
       "        ───────────────────────       ───────────────────────                 \n",
       "                   2                             2                      F₀⋅Γ⋅ω\n",
       "x = C₁⋅ℯ                        + C₂⋅ℯ                        - ──────────────\n",
       "                                                                  ⎛ 2    2    \n",
       "                                                                m⋅⎝Γ ⋅ω_f  + ω\n",
       "\n",
       "                                                                              \n",
       "                                                                              \n",
       "                                                                              \n",
       "                                      2                                      2\n",
       "_f⋅cos(ω_f⋅t)                     F₀⋅ω ⋅sin(ω_f⋅t)                     F₀⋅ω_f \n",
       "───────────────────── + ─────────────────────────────────── - ────────────────\n",
       "4      2    2      4⎞     ⎛ 2    2    4      2    2      4⎞     ⎛ 2    2    4 \n",
       "  - 2⋅ω ⋅ω_f  + ω_f ⎠   m⋅⎝Γ ⋅ω_f  + ω  - 2⋅ω ⋅ω_f  + ω_f ⎠   m⋅⎝Γ ⋅ω_f  + ω  \n",
       "\n",
       "                   \n",
       "                   \n",
       "                   \n",
       "                   \n",
       "⋅sin(ω_f⋅t)        \n",
       "───────────────────\n",
       "     2    2      4⎞\n",
       "- 2⋅ω ⋅ω_f  + ω_f ⎠"
      ]
     },
     "execution_count": 8,
     "metadata": {},
     "output_type": "execute_result"
    }
   ],
   "source": [
    "x_forzadoArmónico_sol = sym.dsolve(x_forzadoArmónico)\n",
    "x_forzadoArmónico_sol"
   ]
  },
  {
   "cell_type": "markdown",
   "metadata": {},
   "source": [
    "Los términos que dependen de $C_i$ son los de la solución homogénea que es significativa durante un **transitorio** que se considera extinto para $t> 10 \\tau= 20 \\Gamma^{-1}$ (10 **períodos de relajación**).\n",
    "Para tiempos posteriores la solución alcanza el **estado estacionario** dado por los términos que dependen del forzado.\n",
    "\n",
    "Se establece $C_1 = C_2 = 0$ para obtener solo $x_p(t)$."
   ]
  },
  {
   "cell_type": "code",
   "execution_count": 9,
   "metadata": {},
   "outputs": [
    {
     "data": {
      "image/png": "[encoded data removed]",
      "text/latex": [
       "$\\displaystyle x = - \\frac{F_{0} \\Gamma \\omega_{f} \\cos{\\left(\\omega_{f} t \\right)}}{m \\left(\\Gamma^{2} \\omega_{f}^{2} + \\omega^{4} - 2 \\omega^{2} \\omega_{f}^{2} + \\omega_{f}^{4}\\right)} + \\frac{F_{0} \\omega^{2} \\sin{\\left(\\omega_{f} t \\right)}}{m \\left(\\Gamma^{2} \\omega_{f}^{2} + \\omega^{4} - 2 \\omega^{2} \\omega_{f}^{2} + \\omega_{f}^{4}\\right)} - \\frac{F_{0} \\omega_{f}^{2} \\sin{\\left(\\omega_{f} t \\right)}}{m \\left(\\Gamma^{2} \\omega_{f}^{2} + \\omega^{4} - 2 \\omega^{2} \\omega_{f}^{2} + \\omega_{f}^{4}\\right)}$"
      ],
      "text/plain": [
       "                                                          2                   \n",
       "              F₀⋅Γ⋅ω_f⋅cos(ω_f⋅t)                     F₀⋅ω ⋅sin(ω_f⋅t)        \n",
       "x = - ─────────────────────────────────── + ──────────────────────────────────\n",
       "        ⎛ 2    2    4      2    2      4⎞     ⎛ 2    2    4      2    2      4\n",
       "      m⋅⎝Γ ⋅ω_f  + ω  - 2⋅ω ⋅ω_f  + ω_f ⎠   m⋅⎝Γ ⋅ω_f  + ω  - 2⋅ω ⋅ω_f  + ω_f \n",
       "\n",
       "                   2                   \n",
       "             F₀⋅ω_f ⋅sin(ω_f⋅t)        \n",
       "─ - ───────────────────────────────────\n",
       "⎞     ⎛ 2    2    4      2    2      4⎞\n",
       "⎠   m⋅⎝Γ ⋅ω_f  + ω  - 2⋅ω ⋅ω_f  + ω_f ⎠"
      ]
     },
     "execution_count": 9,
     "metadata": {},
     "output_type": "execute_result"
    }
   ],
   "source": [
    "x_particular = x_forzadoArmónico_sol.subs([('C1', 0), ('C2', 0)])\n",
    "x_particular"
   ]
  },
  {
   "cell_type": "markdown",
   "metadata": {},
   "source": [
    "Algo notorio es que $\\Gamma$ no figura en $x_p$, es decir el régimen de amortiguamiento no afecta la dinámica pasado el transitorio.\n",
    "\n",
    "Si se simplifica la solución particular"
   ]
  },
  {
   "cell_type": "code",
   "execution_count": 10,
   "metadata": {},
   "outputs": [
    {
     "data": {
      "image/png": "[encoded data removed]",
      "text/latex": [
       "$\\displaystyle x = \\frac{F_{0} \\left(- \\Gamma \\omega_{f} \\cos{\\left(\\omega_{f} t \\right)} + \\omega^{2} \\sin{\\left(\\omega_{f} t \\right)} - \\omega_{f}^{2} \\sin{\\left(\\omega_{f} t \\right)}\\right)}{m \\left(\\Gamma^{2} \\omega_{f}^{2} + \\omega^{4} - 2 \\omega^{2} \\omega_{f}^{2} + \\omega_{f}^{4}\\right)}$"
      ],
      "text/plain": [
       "       ⎛                     2                 2           ⎞\n",
       "    F₀⋅⎝-Γ⋅ω_f⋅cos(ω_f⋅t) + ω ⋅sin(ω_f⋅t) - ω_f ⋅sin(ω_f⋅t)⎠\n",
       "x = ────────────────────────────────────────────────────────\n",
       "                ⎛ 2    2    4      2    2      4⎞           \n",
       "              m⋅⎝Γ ⋅ω_f  + ω  - 2⋅ω ⋅ω_f  + ω_f ⎠           "
      ]
     },
     "execution_count": 10,
     "metadata": {},
     "output_type": "execute_result"
    }
   ],
   "source": [
    "x_particular = x_particular.simplify()\n",
    "x_particular"
   ]
  },
  {
   "cell_type": "markdown",
   "metadata": {},
   "source": [
    "se vé que será el denominador común el que determine la amplitud del movimiento, pues los términos del numerador aparecen acotados por funciones armónicas."
   ]
  },
  {
   "cell_type": "markdown",
   "metadata": {},
   "source": [
    "Para ver donde se maximiza la amplitud del movimiento en función de $\\omega_f$ sería interesante aislar este denominador y generar un gráfico de la fracción $ \\frac{1}{\\text{denominador}}$. `Sympy` tiene la función `args` que \"desmenuza\" en sus partes cualquier expresión"
   ]
  },
  {
   "cell_type": "code",
   "execution_count": 11,
   "metadata": {},
   "outputs": [
    {
     "data": {
      "image/png": "[encoded data removed]",
      "text/latex": [
       "$\\displaystyle \\left( F_{0}, \\  \\frac{1}{m}, \\  \\frac{1}{\\Gamma^{2} \\omega_{f}^{2} + \\omega^{4} - 2 \\omega^{2} \\omega_{f}^{2} + \\omega_{f}^{4}}, \\  - \\Gamma \\omega_{f} \\cos{\\left(\\omega_{f} t \\right)} + \\omega^{2} \\sin{\\left(\\omega_{f} t \\right)} - \\omega_{f}^{2} \\sin{\\left(\\omega_{f} t \\right)}\\right)$"
      ],
      "text/plain": [
       "⎛    1                 1                                      2               \n",
       "⎜F₀, ─, ───────────────────────────────, -Γ⋅ω_f⋅cos(ω_f⋅t) + ω ⋅sin(ω_f⋅t) - ω\n",
       "⎜    m   2    2    4      2    2      4                                       \n",
       "⎝       Γ ⋅ω_f  + ω  - 2⋅ω ⋅ω_f  + ω_f                                        \n",
       "\n",
       "  2           ⎞\n",
       "_f ⋅sin(ω_f⋅t)⎟\n",
       "              ⎟\n",
       "              ⎠"
      ]
     },
     "execution_count": 11,
     "metadata": {},
     "output_type": "execute_result"
    }
   ],
   "source": [
    "x_particular.rhs.args"
   ]
  },
  {
   "cell_type": "code",
   "execution_count": 12,
   "metadata": {},
   "outputs": [
    {
     "data": {
      "image/png": "[encoded data removed]",
      "text/latex": [
       "$\\displaystyle \\frac{1}{\\Gamma^{2} \\omega_{f}^{2} + \\omega^{4} - 2 \\omega^{2} \\omega_{f}^{2} + \\omega_{f}^{4}}$"
      ],
      "text/plain": [
       "               1               \n",
       "───────────────────────────────\n",
       " 2    2    4      2    2      4\n",
       "Γ ⋅ω_f  + ω  - 2⋅ω ⋅ω_f  + ω_f "
      ]
     },
     "execution_count": 12,
     "metadata": {},
     "output_type": "execute_result"
    }
   ],
   "source": [
    "x_particular.rhs.args[2]"
   ]
  },
  {
   "cell_type": "markdown",
   "metadata": {},
   "source": [
    "Antes de graficar tal función vs. $\\omega_f$ se asigna una magnitud a $\\omega$ con los parámetros del sistema."
   ]
  },
  {
   "cell_type": "code",
   "execution_count": 13,
   "metadata": {},
   "outputs": [
    {
     "data": {
      "image/png": "[encoded data removed]",
      "text/latex": [
       "$\\displaystyle \\left( 10.0, \\  \\frac{1}{\\omega_{f}^{4} - 196.0 \\omega_{f}^{2} + 10000.0}\\right)$"
      ],
      "text/plain": [
       "⎛                   1             ⎞\n",
       "⎜10.0, ───────────────────────────⎟\n",
       "⎜         4            2          ⎟\n",
       "⎝      ω_f  - 196.0⋅ω_f  + 10000.0⎠"
      ]
     },
     "execution_count": 13,
     "metadata": {},
     "output_type": "execute_result"
    }
   ],
   "source": [
    "k_magnitud = 100 # [N m-1]\n",
    "m_magnitud = 1 # [kg]\n",
    "Gamma_magnitud = omega/5 # [s-1]\n",
    "\n",
    "parámetros ={\n",
    "    omega : sym.sqrt(k_magnitud/m_magnitud),\n",
    "    m : m_magnitud,\n",
    "    Gamma : Gamma_magnitud,\n",
    "}\n",
    "\n",
    "función_parámetros = x_particular.rhs.args[2].subs(parámetros)\n",
    "parámetros[omega], función_parámetros"
   ]
  },
  {
   "cell_type": "code",
   "execution_count": 14,
   "metadata": {},
   "outputs": [
    {
     "data": {
      "image/png": "[encoded data removed]",
      "text/plain": [
       "<Figure size 432x288 with 1 Axes>"
      ]
     },
     "metadata": {
      "needs_background": "light"
     },
     "output_type": "display_data"
    },
    {
     "data": {
      "text/plain": [
       "<sympy.plotting.plot.Plot at 0x7fadc5d3aa90>"
      ]
     },
     "execution_count": 14,
     "metadata": {},
     "output_type": "execute_result"
    }
   ],
   "source": [
    "sym.plot(función_parámetros, (omega_f,0, 50), ylabel='|x| [arb]', xlabel=r'$\\omega_f$ [rad/s]') "
   ]
  },
  {
   "cell_type": "markdown",
   "metadata": {},
   "source": [
    "Sin muchas sorpresa verificamos que la amplitud de oscilación en el estado estacionario tiene un máximo cuando la frecuencia del forzado armónico $\\omega_f$ coincide con la frecuencia de oscilación natural del sistema $\\omega$ **independientemente de su amortiguamiento**. Esto se llama **resonancia** y es algo que se evita si se busca una relativa estabilidad del sistema.\n",
    "\n",
    "¿Porque sucede esto para $\\omega_f = \\omega$?\n",
    "Para responder esto hay que estudiar la **transferencia de energía** entre el sistema y su forzamiento."
   ]
  },
  {
   "cell_type": "code",
   "execution_count": null,
   "metadata": {},
   "outputs": [],
   "source": []
  }
 ],
 "metadata": {
  "kernelspec": {
   "display_name": "Python 3",
   "language": "python",
   "name": "python3"
  },
  "language_info": {
   "codemirror_mode": {
    "name": "ipython",
    "version": 3
   },
   "file_extension": ".py",
   "mimetype": "text/x-python",
   "name": "python",
   "nbconvert_exporter": "python",
   "pygments_lexer": "ipython3",
   "version": "3.7.3"
  }
 },
 "nbformat": 4,
 "nbformat_minor": 4
}
