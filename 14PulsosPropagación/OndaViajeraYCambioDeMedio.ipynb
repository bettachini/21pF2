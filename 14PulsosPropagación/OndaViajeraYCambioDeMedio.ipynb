{
 "cells": [
  {
   "cell_type": "code",
   "execution_count": null,
   "metadata": {
    "colab": {
     "base_uri": "https://localhost:8080/",
     "height": 626
    },
    "id": "f3vFD87M6w1A",
    "outputId": "2e118d87-b701-43e0-ef93-5430ec77160c"
   },
   "outputs": [
    {
     "name": "stderr",
     "output_type": "stream",
     "text": [
      "/home/vbettachini/bin/jupyter/lib/python3.7/site-packages/ipykernel_launcher.py:34: IntegrationWarning: The maximum number of subdivisions (50) has been achieved.\n",
      "  If increasing the limit yields no improvement it is advised to analyze \n",
      "  the integrand in order to determine the difficulties.  If the position of a \n",
      "  local difficulty can be determined (singularity, discontinuity) one will \n",
      "  probably gain from splitting up the interval and calling the integrator \n",
      "  on the subranges.  Perhaps a special-purpose integrator should be used.\n",
      "/home/vbettachini/bin/jupyter/lib/python3.7/site-packages/ipykernel_launcher.py:34: IntegrationWarning: The integral is probably divergent, or slowly convergent.\n",
      "/home/vbettachini/bin/jupyter/lib/python3.7/site-packages/ipykernel_launcher.py:36: IntegrationWarning: The maximum number of subdivisions (50) has been achieved.\n",
      "  If increasing the limit yields no improvement it is advised to analyze \n",
      "  the integrand in order to determine the difficulties.  If the position of a \n",
      "  local difficulty can be determined (singularity, discontinuity) one will \n",
      "  probably gain from splitting up the interval and calling the integrator \n",
      "  on the subranges.  Perhaps a special-purpose integrator should be used.\n",
      "/home/vbettachini/bin/jupyter/lib/python3.7/site-packages/ipykernel_launcher.py:36: IntegrationWarning: The integral is probably divergent, or slowly convergent.\n"
     ]
    }
   ],
   "source": [
    "from matplotlib import animation, rc\n",
    "rc('animation', html='html5') #para poder ver la animacion en formato inline\n",
    "from IPython.display import HTML\n",
    "from scipy.integrate import quad\n",
    "import numpy as np\n",
    "import matplotlib.pylab as plt\n",
    "#%% Defino las variables\n",
    "h = 0.5\n",
    "L = 1\n",
    "c1 = 1\n",
    "c2 = 1/2\n",
    "tau = L/c1\n",
    "\n",
    "#%% Defino las funciones a integrar\n",
    "def psi_1(w,x,t):\n",
    "    X = lambda w: w*tau/4\n",
    "    sinc = lambda X: np.sin(X)/X if X != 0 else np.sinc(X)\n",
    "    k1 = w/c1\n",
    "    return ((c1 + c2)/2/c2)*(np.cos(w*t - k1*x) + np.cos(w*t + k1*x)*( 2*c2/(c2 + c1)- 1))*sinc(X(w))**2\n",
    "\n",
    "def psi_2(w,x,t):\n",
    "    X = lambda w: w*tau/4\n",
    "    sinc = lambda X: np.sin(X)/X if X != 0 else np.sinc(X)\n",
    "    k2 = w/c2\n",
    "    return np.cos(w*t - k2*x)*sinc(X(w))**2\n",
    "\n",
    "#%% Defino los desplazamientos reales\n",
    "W = np.infty    \n",
    "\n",
    "def Psi(x,t, W = W):\n",
    "    Psi = []\n",
    "    for xs in x:\n",
    "        if xs < 0:\n",
    "            Psi.append(quad(psi_1, -W, W, args = (xs,t))[0]*h*tau/4/np.pi)\n",
    "        else:\n",
    "            Psi.append(quad(psi_2, -W, W, args = (xs,t))[0]*h*tau/4/np.pi)\n",
    "    return Psi\n",
    "#%%\n",
    "t = np.arange(-1.5*tau,1.5*tau,0.01)\n",
    "x = np.arange(-2*L, 2*L, 0.01)\n",
    "matriz_tiempos_posiciones = np.zeros((len(t), len(x)))\n",
    "\n",
    "for i,ts in enumerate(t):\n",
    "    matriz_tiempos_posiciones[i,:] = Psi(x,ts)\n",
    "\n",
    "\n",
    "#%%\n",
    "\n"
   ]
  },
  {
   "cell_type": "code",
   "execution_count": null,
   "metadata": {
    "colab": {
     "base_uri": "https://localhost:8080/",
     "height": 587
    },
    "id": "enrj4KiH7DTZ",
    "outputId": "8fb4c1f3-c4a6-4e6a-931b-0d120fe002ca"
   },
   "outputs": [],
   "source": [
    "var=matriz_tiempos_posiciones #variable que quiero animar\n",
    "fig, ax = plt.subplots()\n",
    "\n",
    "ax.set_title('Onda viajera')\n",
    "ax.set_xlim(-3*L,3*L);\n",
    "ax.set_ylim(-1.1,1.8);\n",
    "ax.set_xlabel('Posición');\n",
    "ax.set_ylabel('Desplazamiento del Equilibrio');\n",
    "ax.axvline(0, linestyle = 'dashed', color = 'k');\n",
    "line, = ax.plot([], [])\n",
    "\n",
    "\n",
    "def animate(i):\n",
    "    X = x\n",
    "    Y = var[i,:]\n",
    "    line.set_data(X,Y)\n",
    "    return (line,)\n",
    "  \n",
    "anim2 = animation.FuncAnimation(fig, animate, frames=len(t), interval=np.diff(t)[0]*5000)\n",
    "\n",
    "anim2"
   ]
  },
  {
   "cell_type": "code",
   "execution_count": null,
   "metadata": {
    "id": "ZKFz704wS6hb"
   },
   "outputs": [],
   "source": []
  }
 ],
 "metadata": {
  "colab": {
   "name": "OndaViajeraYCambioDeMedio.ipynb",
   "provenance": []
  },
  "kernelspec": {
   "display_name": "Python 3",
   "language": "python",
   "name": "python3"
  },
  "language_info": {
   "codemirror_mode": {
    "name": "ipython",
    "version": 3
   },
   "file_extension": ".py",
   "mimetype": "text/x-python",
   "name": "python",
   "nbconvert_exporter": "python",
   "pygments_lexer": "ipython3",
   "version": "3.7.3"
  }
 },
 "nbformat": 4,
 "nbformat_minor": 4
}
