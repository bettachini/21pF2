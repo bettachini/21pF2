{
 "cells": [
  {
   "cell_type": "markdown",
   "metadata": {
    "id": "r0hpO1MuGgRP"
   },
   "source": [
    "# Transformadas de Fourier en sympy:"
   ]
  },
  {
   "cell_type": "markdown",
   "metadata": {
    "id": "A5qYfI2QHWtL"
   },
   "source": [
    "integrals.transforms._fourier_transform(f, x, k, a, b, name, simplify=True)\n",
    "\n",
    "donde cada parametro se relaciona de la siguiente manera con la expresion:\n",
    "\n",
    " $\\mathcal{F}(f(x))=f(k) = a \\int_{-\\infty}^{\\infty} e^{bixk} f(x)\\, dx$"
   ]
  },
  {
   "cell_type": "code",
   "execution_count": 1,
   "metadata": {
    "id": "hNvag-mnGZQc"
   },
   "outputs": [
    {
     "data": {
      "text/plain": [
       "\"\\nantiFourierSympy = sym.integrals.transforms._fourier_transform(funcion_espectro, x=k, k=x, a=1/(2* sym.pi), b=1, name= 'anti-Fourier', simplify=False) \\nFourierSympy = sym.integrals.transforms._fourier_transform(funcion_x, x=x, k=k, a=1, b=-1, name= 'Fourier', simplify=False) \\n\""
      ]
     },
     "execution_count": 1,
     "metadata": {},
     "output_type": "execute_result"
    }
   ],
   "source": [
    "# Ejemplos t-omega:\n",
    "'''\n",
    "antiFourierSympy = sym.integrals.transforms._fourier_transform(funcion_espectro, x=omega, k=t, a=1/(2* sym.pi), b=1, name= 'anti-Fourier', simplify=False) \n",
    "FourierSympy = sym.integrals.transforms._fourier_transform(funcion_t, x=t, k= omega, a=1, b=-1, name= 'Fourier', simplify=False) \n",
    "'''\n",
    "# Ejemplos x-k:\n",
    "'''\n",
    "antiFourierSympy = sym.integrals.transforms._fourier_transform(funcion_espectro, x=k, k=x, a=1/(2* sym.pi), b=1, name= 'anti-Fourier', simplify=False) \n",
    "FourierSympy = sym.integrals.transforms._fourier_transform(funcion_x, x=x, k=k, a=1, b=-1, name= 'Fourier', simplify=False) \n",
    "'''                                                          "
   ]
  },
  {
   "cell_type": "markdown",
   "metadata": {
    "id": "x4svPATmHxAA"
   },
   "source": [
    "# Ejercicio 1 - Espectro plano acotado"
   ]
  },
  {
   "cell_type": "markdown",
   "metadata": {
    "id": "_Di9oGE0H3RE"
   },
   "source": [
    "## Enunciado Ejercicio 1"
   ]
  },
  {
   "cell_type": "markdown",
   "metadata": {
    "id": "v8RvxworIEOV"
   },
   "source": [
    "$\\hat{\\phi}(\\omega)$ en un $\\Delta \\omega$ centrado en un $\\omega_0$ presenta una amplitud constante $\\frac{1}{\\Delta \\omega}$. En otras $\\omega$ es nula.\n",
    "\n",
    "a) Verifique que el correspondiente $\\phi(t) = \\mathcal{F}^{-1} \\hat\\phi(\\omega)$ esta dado por:\n",
    "$$\n",
    "\\phi(t) = \\frac{1}{2\\pi}\\frac{\\sin(\\frac{\\Delta \\omega}{2}t)}{\\frac{\\Delta \\omega}{2}t}e^{i \\omega_0 t} = \\frac{1}{2\\pi}\\operatorname{sinc}(\\frac{\\Delta \\omega}{2}t)e^{i \\omega_0 t} \n",
    "$$\n",
    "b) Grafique $\\hat{\\phi }(\\omega)$ y $\\left|\\phi(t)\\right|$.\n",
    "\n",
    "c) Sea $T$ un tiempo más prolongado que la duración de cualquier experimento que pueda idear.\n",
    "Muestre que si $\\Delta\\omega$ es suficientemente pequeño como para que $\\Delta\\omega T\\ll1$, entonces durante un tiempo menor que $T$, $\\phi(t)$ es una función armónica de amplitud y fase casi constante."
   ]
  },
  {
   "cell_type": "markdown",
   "metadata": {
    "id": "9YDd0uLuM7oQ"
   },
   "source": [
    "## Resolucion Ejercicio 1"
   ]
  },
  {
   "cell_type": "code",
   "execution_count": 2,
   "metadata": {
    "id": "s9J9BcIWM94-"
   },
   "outputs": [],
   "source": [
    "import sympy as sym\n",
    "from sympy.physics import mechanics as mech\n",
    "# mech.init_vprinting() # notación con punto para la velocidad y punto punto para la aceleración\n",
    "import warnings\n",
    "warnings.filterwarnings(\"ignore\")"
   ]
  },
  {
   "cell_type": "code",
   "execution_count": 3,
   "metadata": {
    "colab": {
     "base_uri": "https://localhost:8080/",
     "height": 68
    },
    "id": "7VY0XGPmND5J",
    "outputId": "6bb45f97-3c29-49de-f9e0-04c602f21db1"
   },
   "outputs": [
    {
     "data": {
      "text/latex": [
       "$\\displaystyle \\hat{\\phi}{\\left(\\omega \\right)} = \\begin{cases} 0 & \\text{for}\\: \\omega > \\frac{\\Delta\\omega}{2} + \\omega_{0} \\vee \\omega < - \\frac{\\Delta\\omega}{2} + \\omega_{0} \\\\\\frac{1}{\\Delta\\omega} & \\text{otherwise} \\end{cases}$"
      ],
      "text/plain": [
       "Eq(\\hat{\\phi}(omega), Piecewise((0, (omega > \\Delta\\omega/2 + omega_0) | (omega < -\\Delta\\omega/2 + omega_0)), (1/\\Delta\\omega, True)))"
      ]
     },
     "execution_count": 3,
     "metadata": {},
     "output_type": "execute_result"
    }
   ],
   "source": [
    "omega, t, omega_0 = sym.symbols(\"omega, t, omega_0\", real=True)\n",
    "delta_omega = sym.Symbol(r\"\\Delta\\omega\", positive=True)\n",
    "phi_hat = sym.Function(r'\\hat{\\phi}')(omega)\n",
    "phi_omega_expresion = sym.Eq(phi_hat, sym.Piecewise( (0, omega < omega_0 - delta_omega/2),(0, omega > omega_0 + delta_omega/2),(1/delta_omega, True)))\n",
    "phi_omega_expresion"
   ]
  },
  {
   "cell_type": "markdown",
   "metadata": {
    "id": "vj15zKciP3Bc"
   },
   "source": [
    "Aplico directamente la anti-transformada:"
   ]
  },
  {
   "cell_type": "code",
   "execution_count": 4,
   "metadata": {
    "colab": {
     "base_uri": "https://localhost:8080/",
     "height": 78
    },
    "id": "9AgPpH0hP8Ij",
    "outputId": "7c525062-b412-49d0-fc2a-7c69828e4a71"
   },
   "outputs": [
    {
     "data": {
      "text/latex": [
       "$\\displaystyle \\begin{cases} \\frac{i e^{i t \\left(- \\frac{\\Delta\\omega}{2} + \\omega_{0}\\right)}}{2 \\pi \\Delta\\omega t} - \\frac{i e^{i t \\left(\\frac{\\Delta\\omega}{2} + \\omega_{0}\\right)}}{2 \\pi \\Delta\\omega t} & \\text{for}\\: 2 \\pi \\Delta\\omega t \\neq 0 \\\\- \\frac{- \\frac{\\Delta\\omega}{2} + \\omega_{0}}{2 \\pi \\Delta\\omega} + \\frac{\\frac{\\Delta\\omega}{2} + \\omega_{0}}{2 \\pi \\Delta\\omega} & \\text{otherwise} \\end{cases}$"
      ],
      "text/plain": [
       "Piecewise((I*exp(I*t*(-\\Delta\\omega/2 + omega_0))/(2*pi*\\Delta\\omega*t) - I*exp(I*t*(\\Delta\\omega/2 + omega_0))/(2*pi*\\Delta\\omega*t), Ne(2*pi*\\Delta\\omega*t, 0)), (-(-\\Delta\\omega/2 + omega_0)/(2*pi*\\Delta\\omega) + (\\Delta\\omega/2 + omega_0)/(2*pi*\\Delta\\omega), True))"
      ]
     },
     "execution_count": 4,
     "metadata": {},
     "output_type": "execute_result"
    }
   ],
   "source": [
    "antiFourierSympy = sym.integrals.transforms._fourier_transform(phi_omega_expresion.rhs,\n",
    "                                                               x= omega, k= t, a= 1/(2* sym.pi), b=1,\n",
    "                                                               name= 'anti-Fourier', simplify=False\n",
    "                                                              ) # Antitransformada: x = omega (variable integración), b= +1\n",
    "antiFourierSympy"
   ]
  },
  {
   "cell_type": "code",
   "execution_count": 5,
   "metadata": {
    "colab": {
     "base_uri": "https://localhost:8080/",
     "height": 66
    },
    "id": "-jRt9Y3xBQuf",
    "outputId": "57c2487b-b525-44f6-952a-c70be091a51f"
   },
   "outputs": [
    {
     "data": {
      "text/latex": [
       "$\\displaystyle \\frac{\\left(- i \\sqrt{e^{i \\Delta\\omega t}} + \\frac{i}{\\sqrt{e^{i \\Delta\\omega t}}}\\right) e^{i \\omega_{0} t}}{2 \\pi \\Delta\\omega t}$"
      ],
      "text/plain": [
       "(-I*sqrt(exp(I*\\Delta\\omega*t)) + I/sqrt(exp(I*\\Delta\\omega*t)))*exp(I*omega_0*t)/(2*pi*\\Delta\\omega*t)"
      ]
     },
     "execution_count": 5,
     "metadata": {},
     "output_type": "execute_result"
    }
   ],
   "source": [
    "factorComún = (1/ (2* sym.pi* delta_omega* t) )* sym.exp(sym.I* omega_0* t)\n",
    "antiFourierSympy.args[0].args[0].expand().collect(factorComún)"
   ]
  },
  {
   "cell_type": "code",
   "execution_count": 6,
   "metadata": {
    "colab": {
     "base_uri": "https://localhost:8080/",
     "height": 55
    },
    "id": "swSK8wZdEdUt",
    "outputId": "8a12126f-f415-4453-bc1e-01961a69c32b"
   },
   "outputs": [
    {
     "data": {
      "text/latex": [
       "$\\displaystyle - i \\sqrt{e^{i \\Delta\\omega t}} + \\frac{i}{\\sqrt{e^{i \\Delta\\omega t}}}$"
      ],
      "text/plain": [
       "-I*sqrt(exp(I*\\Delta\\omega*t)) + I/sqrt(exp(I*\\Delta\\omega*t))"
      ]
     },
     "execution_count": 6,
     "metadata": {},
     "output_type": "execute_result"
    }
   ],
   "source": [
    "antiFourierSympy.args[0].args[0].expand().collect(factorComún).args[4]"
   ]
  },
  {
   "cell_type": "code",
   "execution_count": 7,
   "metadata": {
    "colab": {
     "base_uri": "https://localhost:8080/",
     "height": 56
    },
    "id": "BmiedhPi-h7e",
    "outputId": "4c6cf1e8-172c-4aee-f3c0-0cd3736feea3"
   },
   "outputs": [
    {
     "data": {
      "text/latex": [
       "$\\displaystyle \\phi{\\left(t \\right)} = \\frac{\\sin{\\left(\\frac{\\Delta\\omega t}{2} \\right)} \\cos{\\left(\\omega_{0} t \\right)}}{\\pi \\Delta\\omega t}$"
      ],
      "text/plain": [
       "Eq(\\phi(t), sin(\\Delta\\omega*t/2)*cos(omega_0*t)/(pi*\\Delta\\omega*t))"
      ]
     },
     "execution_count": 7,
     "metadata": {},
     "output_type": "execute_result"
    }
   ],
   "source": [
    "sym.Eq(sym.Function(r\"\\phi\")(t), (sym.re(antiFourierSympy.args[0].args[0])).simplify())"
   ]
  },
  {
   "cell_type": "code",
   "execution_count": 8,
   "metadata": {
    "id": "gqyw1l2x-77z"
   },
   "outputs": [],
   "source": [
    "omega_0_v = 10 # [s-1]\n",
    "deltaOmega_v = 4 # [s-1]\n",
    "magnitudes_substituir= {\n",
    "    delta_omega: deltaOmega_v,\n",
    "    omega_0 : omega_0_v,\n",
    "}\n",
    "anti_fourier_v = antiFourierSympy.args[0].args[0].subs(magnitudes_substituir)"
   ]
  },
  {
   "cell_type": "code",
   "execution_count": 9,
   "metadata": {
    "id": "_WjxG_hS_gQB"
   },
   "outputs": [],
   "source": [
    "from matplotlib.style import use as meGusta\n",
    "meGusta('fivethirtyeight') # estilo de gráficos con grilla y letras grandes"
   ]
  },
  {
   "cell_type": "code",
   "execution_count": 10,
   "metadata": {
    "colab": {
     "base_uri": "https://localhost:8080/",
     "height": 307
    },
    "id": "danv9TrV_kBa",
    "outputId": "b21c2c0c-758d-4b35-dd8b-ab42c9ac4b46"
   },
   "outputs": [
    {
     "data": {
      "image/png": "[encoded data removed]",
      "text/plain": [
       "<Figure size 1008x288 with 1 Axes>"
      ]
     },
     "metadata": {
      "needs_background": "light"
     },
     "output_type": "display_data"
    },
    {
     "data": {
      "text/plain": [
       "<sympy.plotting.plot.Plot at 0x7f21863d3908>"
      ]
     },
     "execution_count": 10,
     "metadata": {},
     "output_type": "execute_result"
    }
   ],
   "source": [
    "sym.plot(sym.Abs(anti_fourier_v)**2,\n",
    "         xlim=(-10,10), ylim=(0,0.03), ylabel='$|\\phi(t)|^2$',\n",
    "         size=(14,4), adaptive= False, nb_of_points= 200\n",
    "        ) # cuadrado del valor absoluto"
   ]
  },
  {
   "cell_type": "code",
   "execution_count": 11,
   "metadata": {
    "colab": {
     "base_uri": "https://localhost:8080/",
     "height": 307
    },
    "id": "4d25WrnwALdm",
    "outputId": "e32f43de-fac2-4873-8f82-05098d7f81de"
   },
   "outputs": [
    {
     "data": {
      "image/png": "[encoded data removed]",
      "text/plain": [
       "<Figure size 1008x288 with 1 Axes>"
      ]
     },
     "metadata": {
      "needs_background": "light"
     },
     "output_type": "display_data"
    },
    {
     "data": {
      "text/plain": [
       "<sympy.plotting.plot.Plot at 0x7f21836fe320>"
      ]
     },
     "execution_count": 11,
     "metadata": {},
     "output_type": "execute_result"
    }
   ],
   "source": [
    "phi_omega_expresion_v = phi_omega_expresion.rhs.subs(magnitudes_substituir)\n",
    "sym.plot(phi_omega_expresion_v, (omega, -1.5* omega_0_v, 1.5* omega_0_v),\n",
    "         xlabel='$\\omega$', ylabel='$\\hat\\phi(\\omega)$', ylim=(0, 1/deltaOmega_v), size=(14,4)\n",
    "        )"
   ]
  },
  {
   "cell_type": "markdown",
   "metadata": {
    "id": "erT3JCB2Gz2w"
   },
   "source": [
    "# Ejercicio 2 - Tren de pulsos cuadrados"
   ]
  },
  {
   "cell_type": "markdown",
   "metadata": {
    "id": "roC4NoY9G3tN"
   },
   "source": [
    "a) $\\mathcal{F}(af(x) +bg(x)) = \\int_{-\\infty}^{\\infty} e^{-ixk} (af(x) +bg(x))\\, dx = \\int_{-\\infty}^{\\infty} e^{-ixk} af(x)\\, dx + \\int_{-\\infty}^{\\infty} e^{-ixk} bg(x))\\, dx = a \\int_{-\\infty}^{\\infty} e^{-ixk} f(x)\\, dx + b\\int_{-\\infty}^{\\infty} e^{-ixk} g(x))\\, dx = a\\mathcal{F}(f(x)) +b\\mathcal{F}(g(x))$ "
   ]
  },
  {
   "cell_type": "markdown",
   "metadata": {
    "id": "ZV2BwtvxM3bf"
   },
   "source": [
    "b) Me dicen que $\\phi(t) = \\sum_{n=0}^{N} f(n, t)$. \n",
    "* Luego aplicar la transformada seria: $\\mathcal{F}(\\phi(t)) = \\mathcal{F}(\\sum_{n=0}^{N} f(n, t))$.\n",
    "* Por la propiedad vista en a), puedo distribuir la $\\mathcal{F}$ en los sumandos.\n",
    "* Aplicar $\\mathcal{F}$ a cada $f(n, t)$ seria $\\mathcal{F}(f(n, t))$ donde quiero decir que $f(n, t) = e^{-in\\omega\\tau}f(0, t)$, entonces como $e^{-in\\omega\\tau}$ seria una constante en terminos de $t$:  $\\mathcal{F}(f(n, t)) = \\mathcal{F}(e^{-in\\omega\\tau}f(0, t)) = e^{-in\\omega\\tau}\\mathcal{F}(f(0, t))$.\n",
    "* Ahora porque vale que $f(n, t) = e^{-in\\omega\\tau}f(0, t)$? El termino $e^{-in\\omega\\tau}$ seria una fase que me desplaza el inicio a $n\\tau$?"
   ]
  },
  {
   "cell_type": "markdown",
   "metadata": {
    "id": "P2l70UhAWUtm"
   },
   "source": [
    "## c) Resuelvo $\\mathcal{F}(f(0, t))$ y $\\hat\\phi(\\nu)$:"
   ]
  },
  {
   "cell_type": "code",
   "execution_count": 12,
   "metadata": {
    "id": "DXXG1DFaWdP7"
   },
   "outputs": [],
   "source": [
    "import sympy as sym\n",
    "from sympy.physics import mechanics as mech\n",
    "# mech.init_vprinting() # notación con punto para la velocidad y punto punto para la aceleración\n",
    "import warnings\n",
    "warnings.filterwarnings(\"ignore\")"
   ]
  },
  {
   "cell_type": "code",
   "execution_count": 13,
   "metadata": {
    "colab": {
     "base_uri": "https://localhost:8080/",
     "height": 68
    },
    "id": "Utlsk7HlWicR",
    "outputId": "334cd42b-39f9-4000-ae1b-61f763b9d8a6"
   },
   "outputs": [
    {
     "data": {
      "text/latex": [
       "$\\displaystyle f{\\left(n,t \\right)} = \\begin{cases} 0 & \\text{for}\\: t > \\Delta t + n \\tau \\vee t < n \\tau \\\\\\phi_{0} & \\text{otherwise} \\end{cases}$"
      ],
      "text/plain": [
       "Eq(f(n, t), Piecewise((0, (t < n*tau) | (t > \\Delta t + n*tau)), (phi_0, True)))"
      ]
     },
     "execution_count": 13,
     "metadata": {},
     "output_type": "execute_result"
    }
   ],
   "source": [
    "omega, phi_0 = sym.symbols(\"omega, phi_0\", real=True)\n",
    "t, n = sym.symbols(\"t, n\", integer=True)\n",
    "tau, N = sym.symbols(\"tau, N\", positive=True)\n",
    "delta_t  = sym.Symbol(r\"\\Delta t\", positive=True)\n",
    "f = sym.Function(r'f')(n, t)\n",
    "f_n_expresion = sym.Eq(f, sym.Piecewise( (0, t < 0+tau*n),(0, t > delta_t+tau*n),(phi_0, True)))\n",
    "\n",
    "f_n_expresion"
   ]
  },
  {
   "cell_type": "code",
   "execution_count": 14,
   "metadata": {
    "colab": {
     "base_uri": "https://localhost:8080/",
     "height": 68
    },
    "id": "gj4ntShjogyh",
    "outputId": "7c743304-040f-48c4-818b-fbe48fefc046"
   },
   "outputs": [
    {
     "data": {
      "text/latex": [
       "$\\displaystyle f{\\left(0,t \\right)} = \\begin{cases} 0 & \\text{for}\\: \\Delta t < t \\vee t < 0 \\\\\\phi_{0} & \\text{otherwise} \\end{cases}$"
      ],
      "text/plain": [
       "Eq(f(0, t), Piecewise((0, (\\Delta t < t) | (t < 0)), (phi_0, True)))"
      ]
     },
     "execution_count": 14,
     "metadata": {},
     "output_type": "execute_result"
    }
   ],
   "source": [
    "f_0_expresion = sym.Eq(f.subs(n,0), f_n_expresion.rhs.subs(n,0))\n",
    "f_0_expresion"
   ]
  },
  {
   "cell_type": "markdown",
   "metadata": {
    "id": "JjQihNrsXQJ7"
   },
   "source": [
    "Aplico directamente la transformada:"
   ]
  },
  {
   "cell_type": "code",
   "execution_count": 15,
   "metadata": {
    "colab": {
     "base_uri": "https://localhost:8080/",
     "height": 68
    },
    "id": "J60nP_A4XSPc",
    "outputId": "1cc15f84-cc29-4907-89d4-eb02c28961c0"
   },
   "outputs": [
    {
     "data": {
      "text/latex": [
       "$\\displaystyle \\begin{cases} - \\frac{i \\phi_{0}}{\\omega} + \\frac{i \\phi_{0} e^{- i \\Delta t \\omega}}{\\omega} & \\text{for}\\: \\omega \\neq 0 \\\\\\Delta t \\phi_{0} & \\text{otherwise} \\end{cases}$"
      ],
      "text/plain": [
       "Piecewise((-I*phi_0/omega + I*phi_0*exp(-I*\\Delta t*omega)/omega, Ne(omega, 0)), (\\Delta t*phi_0, True))"
      ]
     },
     "execution_count": 15,
     "metadata": {},
     "output_type": "execute_result"
    }
   ],
   "source": [
    "transformada_t = sym.integrals.transforms._fourier_transform(f_0_expresion.rhs, x= t, k= omega, a= 1, b=-1, name= 'Fourier', simplify=False) \n",
    "transformada_t"
   ]
  },
  {
   "cell_type": "markdown",
   "metadata": {
    "id": "MI3j5Az9a6US"
   },
   "source": [
    "Me quedo con la solucion $\\omega \\neq 0$, ($\\omega$=0 se salvaria con el $\\operatorname{sinc}(x)$):"
   ]
  },
  {
   "cell_type": "code",
   "execution_count": 16,
   "metadata": {
    "colab": {
     "base_uri": "https://localhost:8080/",
     "height": 55
    },
    "id": "1QuQMv3nZ7Zr",
    "outputId": "ba63217b-a1a0-4388-e665-0fb35332e200"
   },
   "outputs": [
    {
     "data": {
      "text/latex": [
       "$\\displaystyle - \\frac{i \\phi_{0}}{\\omega} + \\frac{i \\phi_{0} e^{- i \\Delta t \\omega}}{\\omega}$"
      ],
      "text/plain": [
       "-I*phi_0/omega + I*phi_0*exp(-I*\\Delta t*omega)/omega"
      ]
     },
     "execution_count": 16,
     "metadata": {},
     "output_type": "execute_result"
    }
   ],
   "source": [
    "transformada_t.args[0].args[0]"
   ]
  },
  {
   "cell_type": "code",
   "execution_count": 17,
   "metadata": {
    "colab": {
     "base_uri": "https://localhost:8080/",
     "height": 56
    },
    "id": "ytbWNkA4aMhf",
    "outputId": "4f3369bd-9b45-4fb0-87e0-b3d48b9c1fb6"
   },
   "outputs": [
    {
     "data": {
      "text/latex": [
       "$\\displaystyle \\frac{i \\phi_{0} \\left(-1 + e^{- i \\Delta t \\omega}\\right)}{\\omega}$"
      ],
      "text/plain": [
       "I*phi_0*(-1 + exp(-I*\\Delta t*omega))/omega"
      ]
     },
     "execution_count": 17,
     "metadata": {},
     "output_type": "execute_result"
    }
   ],
   "source": [
    "factor_comun = sym.I*phi_0/omega\n",
    "transformada_t.args[0].args[0].collect(factor_comun)"
   ]
  },
  {
   "cell_type": "markdown",
   "metadata": {
    "id": "Df-MZ6QBbJjQ"
   },
   "source": [
    "Me quedo con la parte real:"
   ]
  },
  {
   "cell_type": "code",
   "execution_count": 18,
   "metadata": {
    "colab": {
     "base_uri": "https://localhost:8080/",
     "height": 54
    },
    "id": "GJa0PXsych6a",
    "outputId": "15b92581-134b-4b5d-c4eb-f578760ab9cb"
   },
   "outputs": [
    {
     "data": {
      "text/latex": [
       "$\\displaystyle \\frac{\\phi_{0} \\sin{\\left(\\Delta t \\omega \\right)}}{\\omega}$"
      ],
      "text/plain": [
       "phi_0*sin(\\Delta t*omega)/omega"
      ]
     },
     "execution_count": 18,
     "metadata": {},
     "output_type": "execute_result"
    }
   ],
   "source": [
    "parte_real = sym.re(transformada_t.args[0].args[0].collect(factor_comun))\n",
    "parte_real"
   ]
  },
  {
   "cell_type": "markdown",
   "metadata": {
    "id": "JnA_UcprewcX"
   },
   "source": [
    "Aca hay un candidato a escribirse como $\\operatorname{sinc}(x) = \\frac{\\sin(x)}{x}$. Tengo que multiplicar y dividir por $\\Delta t$. Ahora, vale la pena?"
   ]
  },
  {
   "cell_type": "code",
   "execution_count": 19,
   "metadata": {
    "colab": {
     "base_uri": "https://localhost:8080/",
     "height": 39
    },
    "id": "j-Yr-sidNNSL",
    "outputId": "4e7f9ba6-0842-4b05-e922-b6ddf6dff055"
   },
   "outputs": [
    {
     "data": {
      "text/latex": [
       "$\\displaystyle \\Delta t \\phi_{0} \\operatorname{sinc}{\\left(\\Delta t \\omega \\right)}$"
      ],
      "text/plain": [
       "\\Delta t*phi_0*sinc(\\Delta t*omega)"
      ]
     },
     "execution_count": 19,
     "metadata": {},
     "output_type": "execute_result"
    }
   ],
   "source": [
    "parte_real_sinc = delta_t*parte_real.subs(sym.sin(delta_t*omega)/omega, sym.sinc(delta_t*omega))\n",
    "parte_real_sinc"
   ]
  },
  {
   "cell_type": "markdown",
   "metadata": {
    "id": "hc8msm8nlSN3"
   },
   "source": [
    "Junto el resultado anterior con la sumatoria, tomando la parte real del coeficiente:"
   ]
  },
  {
   "cell_type": "code",
   "execution_count": 20,
   "metadata": {
    "colab": {
     "base_uri": "https://localhost:8080/",
     "height": 70
    },
    "id": "RfSGS8rbaotF",
    "outputId": "9fc28945-b256-4723-9a91-ccb5ec1cd0a8"
   },
   "outputs": [
    {
     "data": {
      "text/latex": [
       "$\\displaystyle \\hat\\phi{\\left(\\omega \\right)} = \\sum_{n=0}^{N} \\Delta t \\phi_{0} \\cos{\\left(n \\omega \\tau \\right)} \\operatorname{sinc}{\\left(\\Delta t \\omega \\right)}$"
      ],
      "text/plain": [
       "Eq(\\hat\\phi(omega), Sum(\\Delta t*phi_0*cos(n*omega*tau)*sinc(\\Delta t*omega), (n, 0, N)))"
      ]
     },
     "execution_count": 20,
     "metadata": {},
     "output_type": "execute_result"
    }
   ],
   "source": [
    "phi_omega = sym.Eq(sym.Function(r\"\\hat\\phi\")(omega), sym.Sum(sym.re(sym.exp(-sym.I*n*omega*tau))*parte_real_sinc, (n, 0, N)))\n",
    "phi_omega"
   ]
  },
  {
   "cell_type": "markdown",
   "metadata": {
    "id": "AZ9TszeCbWwK"
   },
   "source": [
    "Pero me piden $\\hat\\phi(\\nu)$, como $\\omega = 2\\pi \\nu$ :"
   ]
  },
  {
   "cell_type": "code",
   "execution_count": 21,
   "metadata": {
    "colab": {
     "base_uri": "https://localhost:8080/",
     "height": 70
    },
    "id": "6WNO_UggdEH0",
    "outputId": "9794f3a1-fd18-4ae8-d3e9-6429d922e646"
   },
   "outputs": [
    {
     "data": {
      "text/latex": [
       "$\\displaystyle \\hat\\phi{\\left(\\nu \\right)} = \\sum_{n=0}^{N} \\Delta t \\phi_{0} \\cos{\\left(2 \\pi n \\nu \\tau \\right)} \\operatorname{sinc}{\\left(2 \\pi \\Delta t \\nu \\right)}$"
      ],
      "text/plain": [
       "Eq(\\hat\\phi(nu), Sum(\\Delta t*phi_0*cos(2*pi*n*nu*tau)*sinc(2*pi*\\Delta t*nu), (n, 0, N)))"
      ]
     },
     "execution_count": 21,
     "metadata": {},
     "output_type": "execute_result"
    }
   ],
   "source": [
    "nu = sym.Symbol(\"nu\", real=True)\n",
    "phi_nu = sym.Eq(sym.Function(r\"\\hat\\phi\")(nu), phi_omega.rhs.subs(omega, 2*sym.pi*nu))\n",
    "phi_nu"
   ]
  },
  {
   "cell_type": "markdown",
   "metadata": {
    "id": "nr5J2muvxCcN"
   },
   "source": [
    "Como quedaria si no pido la parte real:"
   ]
  },
  {
   "cell_type": "code",
   "execution_count": 22,
   "metadata": {
    "colab": {
     "base_uri": "https://localhost:8080/",
     "height": 70
    },
    "id": "mjwPGBS1xIC_",
    "outputId": "8691433d-e9fd-4c34-c9f1-1b049c35cea7"
   },
   "outputs": [
    {
     "data": {
      "text/latex": [
       "$\\displaystyle \\hat\\phi{\\left(\\nu \\right)} = \\sum_{n=0}^{N} \\left(- \\frac{i \\phi_{0}}{2 \\pi \\nu} + \\frac{i \\phi_{0} e^{- 2 i \\pi \\Delta t \\nu}}{2 \\pi \\nu}\\right) e^{- 2 i \\pi n \\nu \\tau}$"
      ],
      "text/plain": [
       "Eq(\\hat\\phi(nu), Sum((-I*phi_0/(2*pi*nu) + I*phi_0*exp(-2*I*pi*\\Delta t*nu)/(2*pi*nu))*exp(-2*I*pi*n*nu*tau), (n, 0, N)))"
      ]
     },
     "execution_count": 22,
     "metadata": {},
     "output_type": "execute_result"
    }
   ],
   "source": [
    "phi_omega_c = sym.Eq(sym.Function(r\"\\hat\\phi\")(omega), sym.Sum(sym.exp(-sym.I*n*omega*tau)*transformada_t.args[0].args[0], (n, 0, N)))\n",
    "phi_nu_c = sym.Eq(sym.Function(r\"\\hat\\phi\")(nu), phi_omega_c.rhs.subs(omega, 2*sym.pi*nu))\n",
    "phi_nu_c"
   ]
  },
  {
   "cell_type": "markdown",
   "metadata": {
    "id": "BeWG0Xwjl-wv"
   },
   "source": [
    "## d) Dependencia con $\\tau$"
   ]
  },
  {
   "cell_type": "markdown",
   "metadata": {
    "id": "ACGca84jfgpP"
   },
   "source": [
    "Seria el $\\cos$ el termino que depende $\\tau$, tal que si $\\nu_1 = \\frac{1}{\\tau}$ y $\\nu_p = p\\nu_1$ entonces $\\cos(2\\pi n \\nu_p \\tau) = \\cos(2\\pi n p) = 1$ "
   ]
  },
  {
   "cell_type": "code",
   "execution_count": 23,
   "metadata": {
    "id": "ZNhDhgGMhNYx"
   },
   "outputs": [],
   "source": [
    "from matplotlib.style import use as meGusta\n",
    "meGusta('fivethirtyeight') # estilo de gráficos con grilla y letras grandes"
   ]
  },
  {
   "cell_type": "code",
   "execution_count": 24,
   "metadata": {
    "id": "3ggz1TOrMnfy"
   },
   "outputs": [],
   "source": [
    "phi_0_v = 1 # [m?]\n",
    "delta_t_v = 1 # [s]\n",
    "tau_v = 4 # [s]\n",
    "magnitudes_substituir= {\n",
    "    delta_t: delta_t_v,\n",
    "    phi_0 : phi_0_v,\n",
    "    tau : tau_v\n",
    "}"
   ]
  },
  {
   "cell_type": "code",
   "execution_count": 59,
   "metadata": {},
   "outputs": [
    {
     "data": {
      "text/latex": [
       "$\\displaystyle \\cos{\\left(2 \\pi n \\nu \\tau \\right)}$"
      ],
      "text/plain": [
       "cos(2*pi*n*nu*tau)"
      ]
     },
     "execution_count": 59,
     "metadata": {},
     "output_type": "execute_result"
    }
   ],
   "source": [
    "phi_nu.rhs.args[0].args[2]"
   ]
  },
  {
   "cell_type": "code",
   "execution_count": 25,
   "metadata": {
    "colab": {
     "base_uri": "https://localhost:8080/",
     "height": 39
    },
    "id": "xbTx6bQJSJvu",
    "outputId": "6d1c585f-0b50-49e5-d3e1-7d081e5974b6"
   },
   "outputs": [
    {
     "data": {
      "text/latex": [
       "$\\displaystyle \\cos{\\left(8 \\pi \\nu \\right)} + \\cos{\\left(16 \\pi \\nu \\right)} + \\cos{\\left(24 \\pi \\nu \\right)} + 1$"
      ],
      "text/plain": [
       "cos(8*pi*nu) + cos(16*pi*nu) + cos(24*pi*nu) + 1"
      ]
     },
     "execution_count": 25,
     "metadata": {},
     "output_type": "execute_result"
    }
   ],
   "source": [
    "cos_phi_nu = phi_nu.rhs.args[0].args[2].subs(magnitudes_substituir)\n",
    "suma_cos_phi_nu = cos_phi_nu.subs(n,0)+cos_phi_nu.subs(n,1)+cos_phi_nu.subs(n,2)+cos_phi_nu.subs(n,3)\n",
    "suma_cos_phi_nu"
   ]
  },
  {
   "cell_type": "markdown",
   "metadata": {
    "id": "4iFXrPovgCEq"
   },
   "source": [
    "Como $\\tau = 4$ esperaria ver los picos en $\\nu = \\frac{p}{4}$:"
   ]
  },
  {
   "cell_type": "code",
   "execution_count": 60,
   "metadata": {
    "colab": {
     "base_uri": "https://localhost:8080/",
     "height": 307
    },
    "id": "BXrfNcOzSTUl",
    "outputId": "0534980b-8504-4775-a11f-2940b4d9554f"
   },
   "outputs": [
    {
     "data": {
      "image/png": "[encoded data removed]",
      "text/plain": [
       "<Figure size 1008x288 with 1 Axes>"
      ]
     },
     "metadata": {},
     "output_type": "display_data"
    },
    {
     "data": {
      "text/plain": [
       "<sympy.plotting.plot.Plot at 0x7f21807672b0>"
      ]
     },
     "execution_count": 60,
     "metadata": {},
     "output_type": "execute_result"
    }
   ],
   "source": [
    "sym.plot(suma_cos_phi_nu, xlim=(0,2), ylim=(-2,4.2), ylabel='sinc(nu)', size=(14,4), adaptive= False, nb_of_points= 3000)"
   ]
  },
  {
   "cell_type": "markdown",
   "metadata": {
    "id": "gZDNiKKwv0QO"
   },
   "source": [
    "## e) Depedencia de $\\Delta t$"
   ]
  },
  {
   "cell_type": "markdown",
   "metadata": {
    "id": "XJnenVtbftn1"
   },
   "source": [
    "Seria el $\\operatorname{sinc}$ el termino que depende $\\Delta t$, veo si se cumple la relacion de $0 < \\nu < \\frac{1}{\\Delta t}$"
   ]
  },
  {
   "cell_type": "code",
   "execution_count": 27,
   "metadata": {
    "colab": {
     "base_uri": "https://localhost:8080/",
     "height": 39
    },
    "id": "Mdob1umWM1xS",
    "outputId": "afe05ca5-6f61-48fd-86fb-51545e8a047c"
   },
   "outputs": [
    {
     "data": {
      "text/latex": [
       "$\\displaystyle \\operatorname{sinc}{\\left(2 \\pi \\nu \\right)}$"
      ],
      "text/plain": [
       "sinc(2*pi*nu)"
      ]
     },
     "execution_count": 27,
     "metadata": {},
     "output_type": "execute_result"
    }
   ],
   "source": [
    "sinc_phi_nu = phi_nu.rhs.args[0].args[3].subs(magnitudes_substituir)\n",
    "sinc_phi_nu"
   ]
  },
  {
   "cell_type": "code",
   "execution_count": 28,
   "metadata": {
    "colab": {
     "base_uri": "https://localhost:8080/",
     "height": 307
    },
    "id": "8RWQ_OniPF2Q",
    "outputId": "21f39dc0-3d7d-46c2-fbba-42e643b02ba1"
   },
   "outputs": [
    {
     "data": {
      "image/png": "[encoded data removed]",
      "text/plain": [
       "<Figure size 1008x288 with 1 Axes>"
      ]
     },
     "metadata": {},
     "output_type": "display_data"
    },
    {
     "data": {
      "text/plain": [
       "<sympy.plotting.plot.Plot at 0x7f21833a06d8>"
      ]
     },
     "execution_count": 28,
     "metadata": {},
     "output_type": "execute_result"
    }
   ],
   "source": [
    "# 1/delta t = 0.5\n",
    "sym.plot(sinc_phi_nu, xlim=(0,2), ylim=(-0.3,1), ylabel='sinc(nu)', size=(14,4))"
   ]
  },
  {
   "cell_type": "markdown",
   "metadata": {
    "id": "JGaHmYjlR6a4"
   },
   "source": [
    "## f) Me piden analizar el ancho de banda $\\Delta \\nu$:"
   ]
  },
  {
   "cell_type": "markdown",
   "metadata": {
    "id": "owYIQcwigthr"
   },
   "source": [
    "En este caso, se que $T = \\tau(N+1)$ entonces $\\Delta \\omega T = \\Delta \\omega \\tau(N+1)$, y como $2\\pi\\Delta \\nu = \\Delta \\omega$, tengo que $\\Delta \\nu \\Delta T = 2\\pi \\Delta \\nu (N+1)\\tau$"
   ]
  },
  {
   "cell_type": "markdown",
   "metadata": {
    "id": "ucWyozeafOYj"
   },
   "source": [
    "## Graficos para entender el comportamiento de las $\\phi$"
   ]
  },
  {
   "cell_type": "markdown",
   "metadata": {
    "id": "9xuGgNGNgOyR"
   },
   "source": [
    "Grafico $f(0, t)$"
   ]
  },
  {
   "cell_type": "code",
   "execution_count": 29,
   "metadata": {
    "id": "4mWGJZyvg0ph"
   },
   "outputs": [],
   "source": [
    "f_0_v = f_0_expresion.rhs.subs(magnitudes_substituir)"
   ]
  },
  {
   "cell_type": "code",
   "execution_count": 30,
   "metadata": {
    "colab": {
     "base_uri": "https://localhost:8080/",
     "height": 307
    },
    "id": "wcYpuqJ5hQ-i",
    "outputId": "53a72c8a-8c44-4215-e62a-6dc263dd3a23"
   },
   "outputs": [
    {
     "data": {
      "image/png": "[encoded data removed]",
      "text/plain": [
       "<Figure size 1008x288 with 1 Axes>"
      ]
     },
     "metadata": {},
     "output_type": "display_data"
    },
    {
     "data": {
      "text/plain": [
       "<sympy.plotting.plot.Plot at 0x7f21831e05c0>"
      ]
     },
     "execution_count": 30,
     "metadata": {},
     "output_type": "execute_result"
    }
   ],
   "source": [
    "sym.plot(f_0_v, xlim=(-1,10), ylim=(0,1), ylabel='f(0,t)', size=(14,4))"
   ]
  },
  {
   "cell_type": "markdown",
   "metadata": {
    "id": "PeIMkXjZbvbQ"
   },
   "source": [
    "Quiero ver si se cumple $f(2, t) =  e^{-i2\\omega\\tau} f(0, t)$"
   ]
  },
  {
   "cell_type": "markdown",
   "metadata": {
    "id": "9YiMRZj_wi1G"
   },
   "source": [
    "$\\Im(e^{-i2\\omega\\tau})$ deberia ser la fase, en este caso deberia ser 2?"
   ]
  },
  {
   "cell_type": "code",
   "execution_count": 31,
   "metadata": {
    "colab": {
     "base_uri": "https://localhost:8080/",
     "height": 68
    },
    "id": "xY19aeKNX-iG",
    "outputId": "81ec49b1-1058-40a3-859d-c9e5b751c991"
   },
   "outputs": [
    {
     "data": {
      "text/latex": [
       "$\\displaystyle - 0.909297426825682 \\left(\\begin{cases} 0 & \\text{for}\\: t > 1 \\vee t < 0 \\\\1 & \\text{otherwise} \\end{cases}\\right)$"
      ],
      "text/plain": [
       "-0.909297426825682*Piecewise((0, (t > 1) | (t < 0)), (1, True))"
      ]
     },
     "execution_count": 31,
     "metadata": {},
     "output_type": "execute_result"
    }
   ],
   "source": [
    "#fase_2_v = sym.im(sym.exp(-sym.I*n*omega*tau).subs(magnitudes_substituir).subs(n, 2)).subs(omega, 1/2)\n",
    "fase_2_v = sym.exp(-sym.I*n*omega*tau).subs(magnitudes_substituir).subs(n, 2).subs(omega, 1/4)\n",
    "#f_2_v = f_0_v*fase_2_v\n",
    "f_2_v = f_0_v*sym.im(fase_2_v)\n",
    "f_2_v"
   ]
  },
  {
   "cell_type": "code",
   "execution_count": 32,
   "metadata": {
    "colab": {
     "base_uri": "https://localhost:8080/",
     "height": 307
    },
    "id": "90u4liUTX_M1",
    "outputId": "a38fdf80-32b0-4969-fafb-52793b3076df"
   },
   "outputs": [
    {
     "data": {
      "image/png": "[encoded data removed]",
      "text/plain": [
       "<Figure size 1008x288 with 1 Axes>"
      ]
     },
     "metadata": {},
     "output_type": "display_data"
    },
    {
     "data": {
      "text/plain": [
       "<sympy.plotting.plot.Plot at 0x7f2183101b38>"
      ]
     },
     "execution_count": 32,
     "metadata": {},
     "output_type": "execute_result"
    }
   ],
   "source": [
    "sym.plot(f_2_v, xlim=(0,10), ylim=(-1,1), ylabel='f(0,t)', size=(14,4))"
   ]
  },
  {
   "cell_type": "markdown",
   "metadata": {
    "id": "_tBnBI-3domW"
   },
   "source": [
    "Esperaba que el cuadrado este centrado en 2 y con amplitud $\\phi_0$\n",
    "\n",
    "Pruebo definiendo $f(0,t)$ usando Heaviside:"
   ]
  },
  {
   "cell_type": "code",
   "execution_count": 33,
   "metadata": {
    "colab": {
     "base_uri": "https://localhost:8080/",
     "height": 39
    },
    "id": "9hWqTXCkm2gl",
    "outputId": "635b94ee-24ec-4496-cb59-48382bf11fbd"
   },
   "outputs": [
    {
     "data": {
      "text/latex": [
       "$\\displaystyle f{\\left(0,t \\right)} = \\phi_{0} \\left(- \\theta\\left(- \\Delta t + t\\right) + \\theta\\left(\\Delta t + t\\right)\\right)$"
      ],
      "text/plain": [
       "Eq(f(0, t), phi_0*(-Heaviside(-\\Delta t + t) + Heaviside(\\Delta t + t)))"
      ]
     },
     "execution_count": 33,
     "metadata": {},
     "output_type": "execute_result"
    }
   ],
   "source": [
    "f_Heaviside = sym.Eq(f.subs(n, 0),phi_0* (sym.Heaviside( t + delta_t) - sym.Heaviside( t - delta_t)), evaluate= False)\n",
    "f_Heaviside"
   ]
  },
  {
   "cell_type": "code",
   "execution_count": 34,
   "metadata": {
    "colab": {
     "base_uri": "https://localhost:8080/",
     "height": 307
    },
    "id": "OMin8FHxnhyu",
    "outputId": "614cdeeb-b281-4784-e409-a5ba93eee902"
   },
   "outputs": [
    {
     "data": {
      "image/png": "[encoded data removed]",
      "text/plain": [
       "<Figure size 1008x288 with 1 Axes>"
      ]
     },
     "metadata": {},
     "output_type": "display_data"
    },
    {
     "data": {
      "text/plain": [
       "<sympy.plotting.plot.Plot at 0x7f2183076b38>"
      ]
     },
     "execution_count": 34,
     "metadata": {},
     "output_type": "execute_result"
    }
   ],
   "source": [
    "f_Heaviside_v = f_Heaviside.rhs.subs(magnitudes_substituir)\n",
    "sym.plot(f_Heaviside_v, xlim=(0,10), ylim=(0,1), ylabel='f(0,t)', size=(14,4))"
   ]
  },
  {
   "cell_type": "code",
   "execution_count": 35,
   "metadata": {
    "colab": {
     "base_uri": "https://localhost:8080/",
     "height": 39
    },
    "id": "u0rTrFMenurI",
    "outputId": "f96f1329-797b-44a9-a16a-ce3743a96b57"
   },
   "outputs": [
    {
     "data": {
      "text/latex": [
       "$\\displaystyle \\left(- \\theta\\left(t - 1\\right) + \\theta\\left(t + 1\\right)\\right) e^{- 2.0 i}$"
      ],
      "text/plain": [
       "(-Heaviside(t - 1) + Heaviside(t + 1))*exp(-2.0*I)"
      ]
     },
     "execution_count": 35,
     "metadata": {},
     "output_type": "execute_result"
    }
   ],
   "source": [
    "f_Heaviside_2_v = f_Heaviside_v*fase_2_v\n",
    "f_Heaviside_2_v"
   ]
  },
  {
   "cell_type": "code",
   "execution_count": 36,
   "metadata": {
    "colab": {
     "base_uri": "https://localhost:8080/",
     "height": 307
    },
    "id": "g_S7xTSdn9IQ",
    "outputId": "b9eb9ad5-edc8-46ff-c7a0-ef000b1cc94c"
   },
   "outputs": [
    {
     "data": {
      "image/png": "[encoded data removed]",
      "text/plain": [
       "<Figure size 1008x288 with 1 Axes>"
      ]
     },
     "metadata": {},
     "output_type": "display_data"
    },
    {
     "data": {
      "text/plain": [
       "<sympy.plotting.plot.Plot at 0x7f2183048898>"
      ]
     },
     "execution_count": 36,
     "metadata": {},
     "output_type": "execute_result"
    }
   ],
   "source": [
    "sym.plot(f_Heaviside_2_v, xlim=(0,10), ylim=(-1,1), ylabel='f(0,t)', size=(14,4))"
   ]
  },
  {
   "cell_type": "markdown",
   "metadata": {
    "id": "rp8ftu5fjQ-m"
   },
   "source": [
    "Grafico $|\\hat\\phi(\\nu)|^2$:"
   ]
  },
  {
   "cell_type": "markdown",
   "metadata": {
    "id": "CM9NhxYLjZFo"
   },
   "source": [
    "Veo los primero 10 terminos:"
   ]
  },
  {
   "cell_type": "code",
   "execution_count": 54,
   "metadata": {
    "colab": {
     "base_uri": "https://localhost:8080/",
     "height": 307
    },
    "id": "KhkkGEzzjeGh",
    "outputId": "02cb76ae-111d-4cb9-d4bc-fa6b7dac5dbe"
   },
   "outputs": [
    {
     "data": {
      "image/png": "[encoded data removed]",
      "text/plain": [
       "<Figure size 1008x288 with 1 Axes>"
      ]
     },
     "metadata": {},
     "output_type": "display_data"
    },
    {
     "data": {
      "text/plain": [
       "<sympy.plotting.plot.Plot at 0x7f217fec15c0>"
      ]
     },
     "execution_count": 54,
     "metadata": {},
     "output_type": "execute_result"
    }
   ],
   "source": [
    "phi_nu_n = phi_nu.rhs.args[0].subs(magnitudes_substituir)\n",
    "def phi_nu_s(i):\n",
    "  phi_nu_sumatoria = 0\n",
    "  for j in range(i+1):\n",
    "    phi_nu_sumatoria =  phi_nu_sumatoria + phi_nu_n.subs(n,j)\n",
    "  return phi_nu_sumatoria\n",
    "phi_nu_v = phi_nu_s(10)\n",
    "sym.plot(phi_nu_v**2,\n",
    "         xlim=(-0.1,2), ylim=(0,10), ylabel='$|\\phi(nu)|^2$',\n",
    "         size=(14,4))"
   ]
  },
  {
   "cell_type": "markdown",
   "metadata": {
    "id": "mjmGULpUqbWu"
   },
   "source": [
    "Los picos no deberian ser en cada $\\frac{p}{4}$?"
   ]
  }
 ],
 "metadata": {
  "colab": {
   "name": "14. Guía 14 Pulsos y espectros cuadrados.ipynb",
   "provenance": []
  },
  "kernelspec": {
   "display_name": "Python 3",
   "language": "python",
   "name": "python3"
  },
  "language_info": {
   "codemirror_mode": {
    "name": "ipython",
    "version": 3
   },
   "file_extension": ".py",
   "mimetype": "text/x-python",
   "name": "python",
   "nbconvert_exporter": "python",
   "pygments_lexer": "ipython3",
   "version": "3.7.3"
  }
 },
 "nbformat": 4,
 "nbformat_minor": 4
}
