{
 "cells": [
  {
   "cell_type": "markdown",
   "metadata": {
    "colab_type": "text",
    "id": "view-in-github"
   },
   "source": [
    "<a href=\"https://colab.research.google.com/github/petcheme/fisica/blob/desarrollo/PaquetesGaussianos.ipynb\" target=\"_parent\"><img src=\"https://colab.research.google.com/assets/colab-badge.svg\" alt=\"Open In Colab\"/></a>"
   ]
  },
  {
   "cell_type": "markdown",
   "metadata": {
    "id": "3bvt-YuIZw5C"
   },
   "source": [
    "## Idea General\n",
    "Este cuaderno está armado para jugar con la propagación de un pulso gaussiano para los dos casos de interés:\n",
    "- medios dispersivos\n",
    "- medios no dispersivos\n",
    "\n",
    "donde se toma que $$w(k) = w(k_0) + w'(k_0)(k - k_0) + \\frac{w''(k_0)}{2}(k-k_0)^{2}$$\n",
    "es una buena aproximación para la relación de dispersión en el caso dispersivo.\n",
    "\n",
    "Como se ha visto previamente, $$w'(k_0) = v_g$$, la velocidad de grupo, y, haciendo una analogía, $$w''(k_0) = a_g$$, la variación de la velocidad de grupo como función de $$k$$."
   ]
  },
  {
   "cell_type": "code",
   "execution_count": 1,
   "metadata": {
    "id": "DlAw1xmZs7P4"
   },
   "outputs": [],
   "source": [
    "\"\"\"\n",
    "Traemos las librerias\n",
    "\"\"\"\n",
    "\n",
    "import numpy as np\n",
    "import matplotlib.pylab as plt\n",
    "from matplotlib import animation, rc\n",
    "rc('animation', html='html5') #para poder ver la animacion en formato inline\n",
    "from IPython.display import HTML"
   ]
  },
  {
   "cell_type": "code",
   "execution_count": 97,
   "metadata": {
    "id": "0Hz__xO_tKJB"
   },
   "outputs": [],
   "source": [
    "\"\"\"\n",
    "Definimos los desplazamientos\n",
    "\"\"\"\n",
    "\n",
    "def desplazamiento_no_dispersivo(x,t,k0,dk,c):\n",
    "    return 2*dk*np.cos(k0 * (x + c * t))*np.e**(-((x + c * t)**2)*dk**2)\n",
    "\n",
    "def desplazamiento_dispersivo(x,t,k0,w0,dk,c,v_g,a_g):\n",
    "\n",
    "    desplazamiento_dispersivo = [] # Tuve que hacer esto para poder usar el análisis complejo de python (seguramente se pueda implementar de otra forma)\n",
    "    for xs in x:\n",
    "        alpha = np.sqrt(complex(1 / 4 / dk ** 2, a_g(k0,w0) * t / 2))\n",
    "        beta = (xs + v_g(k0,w0) * t) / 2\n",
    "        desplazamiento_dispersivo.append(np.e ** (complex(0, k0 * (xs + c * t))) * np.e ** (- beta ** 2 / alpha ** 2) / alpha)\n",
    "    return [ds.real for ds in desplazamiento_dispersivo]"
   ]
  },
  {
   "cell_type": "code",
   "execution_count": 50,
   "metadata": {
    "id": "Nj4lf-EKtPFN"
   },
   "outputs": [],
   "source": [
    "\"\"\"\n",
    "Tiempo y posición (notar que el espacio es negativo porque hice las cuentas considerando que viaja hacia la izquierda)\n",
    "\n",
    "\"\"\"\n",
    "x = np.arange(-20,0,0.01)\n",
    "t = np.arange(0,5,0.01)\n"
   ]
  },
  {
   "cell_type": "code",
   "execution_count": 124,
   "metadata": {
    "id": "Kzeae27Pt_pD"
   },
   "outputs": [],
   "source": [
    "\"\"\"\n",
    "Definimos las variables\n",
    "\n",
    "Perdiendo un poco de generalidad pero para encontrar algo físicamente relevante, se trabaja con una relación de dispersión tipo plasma\n",
    "\n",
    "w^2 = c^2 + w_0^2\n",
    "\n",
    "\"\"\"\n",
    "w0 = 50\n",
    "k0 = 10 # número de onda en el cual se centra el paquete\n",
    "dk = 1 # ancho del paquete\n",
    "c = 5 # velocidad de fase (w_0/k_0 en el caso dispersivo)\n",
    "v_g = lambda k,w : c * (1 + (w / k / c) ** 2) ** (-1/2) # velocidad de grupo (w' para dispersivo)\n",
    "a_g = lambda k,w : c ** 2 * (1 + (k * c / w) ** 2) ** (-3/2) / w # aceleración de grupo (w'' para dispersivo)"
   ]
  },
  {
   "cell_type": "code",
   "execution_count": 125,
   "metadata": {
    "id": "EBiY3JC4tXDl"
   },
   "outputs": [],
   "source": [
    "\"\"\"\n",
    "Las variables a simular\n",
    "\"\"\"\n",
    "\n",
    "var_1 = np.zeros((len(t), len(x)))\n",
    "var_2 = np.zeros((len(t), len(x)))\n",
    "for i, ts in enumerate(t):    \n",
    "    var_1[i,:] = desplazamiento_no_dispersivo(x, ts, k0, dk, c)\n",
    "    var_2[i,:] = desplazamiento_dispersivo(x,ts,k0,w0,dk,c,v_g,a_g)"
   ]
  },
  {
   "cell_type": "code",
   "execution_count": null,
   "metadata": {
    "id": "TiogfrjQtcRR"
   },
   "outputs": [],
   "source": [
    "\"\"\"\n",
    "Transformamos la simulación en una animación\n",
    "\"\"\"\n",
    "\n",
    "fig, ax = plt.subplots()\n",
    "\n",
    "ax.set_title('Paquetes Gaussianos')\n",
    "ax.set_xlim(x[0], x[-1]);\n",
    "ax.set_ylim(-2.5, 2.5);\n",
    "ax.set_xlabel('Posición');\n",
    "ax.set_ylabel('Desplazamiento del Equilibrio');\n",
    "line1, = ax.plot([], [], label = 'No Dispersivo')\n",
    "line2, = ax.plot([], [], label = 'Dispersivo')\n",
    "plt.legend(loc = 'upper left')\n",
    "\n",
    "\n",
    "def animate(i):\n",
    "    X = x\n",
    "    Y = var_1[i,:]\n",
    "    line1.set_data(X,Y)\n",
    "    Y = var_2[i,:]\n",
    "    line2.set_data(X,Y)\n",
    "    return (line1,line2)\n",
    "  \n",
    "anim2 = animation.FuncAnimation(fig, animate, frames=len(t), interval=np.diff(t)[0]*5000)\n",
    "anim2"
   ]
  }
 ],
 "metadata": {
  "colab": {
   "authorship_tag": "ABX9TyNKrb6i29SwUbVMjK86TSIm",
   "include_colab_link": true,
   "name": "PaquetesGaussianos.ipynb",
   "provenance": [],
   "toc_visible": true
  },
  "kernelspec": {
   "display_name": "Python 3",
   "language": "python",
   "name": "python3"
  },
  "language_info": {
   "codemirror_mode": {
    "name": "ipython",
    "version": 3
   },
   "file_extension": ".py",
   "mimetype": "text/x-python",
   "name": "python",
   "nbconvert_exporter": "python",
   "pygments_lexer": "ipython3",
   "version": "3.7.3"
  }
 },
 "nbformat": 4,
 "nbformat_minor": 4
}
